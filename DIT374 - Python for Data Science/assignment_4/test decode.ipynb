{
 "cells": [
  {
   "cell_type": "code",
   "execution_count": 20,
   "metadata": {},
   "outputs": [],
   "source": []
  },
  {
   "cell_type": "code",
   "execution_count": 198,
   "metadata": {},
   "outputs": [],
   "source": [
    "def get_symbol_str():\n",
    "    from string import punctuation\n",
    "    #symbol = list(punctuation)\n",
    "    symbols = []\n",
    "    sym = '!@#$%^&*()-+?_=,<>/'\n",
    "    for i in range(len(sym)):\n",
    "        symbols.append(sym[i])\n",
    "        #print(sym[i])\n",
    "    return symbols\n",
    "\n",
    "def decode(li):\n",
    "    cut_w = ''\n",
    "    n = 0\n",
    "    symbol = get_symbol_str()\n",
    "    sym = '!@#$%^&*()-+?_=,<>/'\n",
    "    special = []\n",
    "    for i in range(len(li)):\n",
    "        lett = ''\n",
    "        \n",
    "        num = ''\n",
    "        n = 0\n",
    "        \n",
    "        if li[i].isalpha() == True or li[i] == ' ':\n",
    "            lett = li[i]\n",
    "            i += 1\n",
    "        elif li[i] in sym:\n",
    "            for x in range(len(sym)):\n",
    "                if sym[x] == li[i]:\n",
    "                    special = []\n",
    "                    lett = sym[x]\n",
    "                    special.append(lett)\n",
    "                    continue\n",
    "        if li[i].isdigit() == True:\n",
    "            if len(special) != 0:\n",
    "                lett = special[0]\n",
    "                special = []\n",
    "            extra_num = ''\n",
    "            num += li[i]\n",
    "            try:\n",
    "                if li[i+1].isdigit() == True:\n",
    "                    extra_num = li[i+1]\n",
    "                    i += 1 \n",
    "            except:\n",
    "                pass\n",
    "            n = int(num + extra_num)\n",
    "            \n",
    "        cut_w += get_amount_of_letter(lett, n)\n",
    "        \n",
    "    return cut_w\n",
    "\n",
    "def get_amount_of_letter(s, c):\n",
    "    ss = ''\n",
    "    for i in range(0, c):\n",
    "        ss += s\n",
    "    return ss\n",
    "\n"
   ]
  },
  {
   "cell_type": "code",
   "execution_count": 199,
   "metadata": {},
   "outputs": [
    {
     "data": {
      "text/plain": [
       "'AAABBBBCDDDDDDDDDDEEDDDD ooi'"
      ]
     },
     "execution_count": 199,
     "metadata": {},
     "output_type": "execute_result"
    }
   ],
   "source": [
    "decode('A3B4C1D10E2D4 1o2i1')\n",
    "#decode('A3B4C1D10E2D4 1o2o1')\n",
    "# AAABBBBCDDDDDDDDDDEEDDDD ooi"
   ]
  },
  {
   "cell_type": "code",
   "execution_count": 200,
   "metadata": {},
   "outputs": [
    {
     "name": "stdout",
     "output_type": "stream",
     "text": [
      "bbccccccdrrrff?????____   hhhh\n"
     ]
    }
   ],
   "source": [
    "v = 'bbccccccdrrrff?????____   hhhh'\n",
    "test_v = decode('b2c6d1r3f2?5_4 3h4')\n",
    "print(test_v)\n",
    "#bbccccccdrrrff?????____   hhhh"
   ]
  },
  {
   "cell_type": "code",
   "execution_count": null,
   "metadata": {},
   "outputs": [],
   "source": []
  },
  {
   "cell_type": "code",
   "execution_count": null,
   "metadata": {},
   "outputs": [],
   "source": [
    "        \"\"\"elif (regex.search(li[i]) == True):\n",
    "            for x in range(len(symbol)):\n",
    "                if str(symbol[x]) == li[i]:\n",
    "                    print(symbol[x], li[i])\n",
    "                    lett += str(symbol[x])\n",
    "                    #print(lett)\"\"\""
   ]
  }
 ],
 "metadata": {
  "kernelspec": {
   "display_name": "Python 3",
   "language": "python",
   "name": "python3"
  },
  "language_info": {
   "codemirror_mode": {
    "name": "ipython",
    "version": 3
   },
   "file_extension": ".py",
   "mimetype": "text/x-python",
   "name": "python",
   "nbconvert_exporter": "python",
   "pygments_lexer": "ipython3",
   "version": "3.9.2"
  }
 },
 "nbformat": 4,
 "nbformat_minor": 4
}
