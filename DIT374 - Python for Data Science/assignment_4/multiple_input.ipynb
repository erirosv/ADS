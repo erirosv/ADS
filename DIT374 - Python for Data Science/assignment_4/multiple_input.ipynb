{
 "cells": [
  {
   "cell_type": "code",
   "execution_count": null,
   "metadata": {},
   "outputs": [],
   "source": []
  },
  {
   "cell_type": "markdown",
   "metadata": {},
   "source": [
    "Timecomplexity for merge k sort:\n",
    "- Time:  O(nlogk)\n",
    "- Space: O(1)\n",
    "\n",
    ">Merge k sorted linked lists and return it as one sorted list.\n",
    ">\n",
    ">Analyze and describe its complexity."
   ]
  },
  {
   "cell_type": "code",
   "execution_count": null,
   "metadata": {},
   "outputs": [],
   "source": [
    "while l1 != None or l2 != None:\n",
    "        if l1 == None:\n",
    "            curr.next = l2\n",
    "            l2 = l2.next\n",
    "        elif l2 == None:\n",
    "            curr.next = l1\n",
    "            l1 = l1.next\n",
    "        elif l1[i] < l2[j]:\n",
    "            curr[k] = l1[i]\n",
    "            i += 1\n",
    "            k += 1\n",
    "        else:\n",
    "            curr[k] = l2[j]\n",
    "            l2 = l2[k]\n",
    "            j += 1\n",
    "            k += i\n",
    "        curr = curr[k]"
   ]
  },
  {
   "cell_type": "code",
   "execution_count": null,
   "metadata": {},
   "outputs": [],
   "source": [
    "        i=0\n",
    "        j=0\n",
    "        k=0\n",
    "        while i < len(left) and j < len(right):\n",
    "            if left[i] <= right[j]:\n",
    "                lst[k]=left[i]\n",
    "                i=i+1\n",
    "            else:\n",
    "                lst[k]=right[j]\n",
    "                j=j+1\n",
    "            k=k+1\n",
    "\n",
    "        while i < len(left):\n",
    "            lst[k]=left[i]\n",
    "            i=i+1\n",
    "            k=k+1\n",
    "\n",
    "        while j < len(right):\n",
    "            lst[k]=right[j]\n",
    "            j=j+1\n",
    "            k=k+1"
   ]
  },
  {
   "cell_type": "code",
   "execution_count": 35,
   "metadata": {},
   "outputs": [],
   "source": [
    "def list_node(lis):\n",
    "    if lis == None or len(lis) == 0: return None\n",
    "    print(len(lis))\n",
    "    return merge_k_lists(lis, 0, len(lis))\n",
    "\n",
    "def merge_k_lists(lists, start, end):\n",
    "    print(lists, start, end)\n",
    "    if start == end: return lists[start]\n",
    "    mid = len(lists)//2\n",
    "    left = lists[:mid]\n",
    "    right = lists[mid:]\n",
    "    print('L ', left, 'R', right)\n",
    "    return merge(left, right)\n",
    "\n",
    "def merge(l1, l2):\n",
    "    lst = []\n",
    "    i = 0\n",
    "    j = 0\n",
    "    k = 0\n",
    "    while i < len(l1) and j < len(l2):\n",
    "        print('going in')\n",
    "        if l1[i] <= l2[j]:\n",
    "            print('1 left')\n",
    "            lst[k]=l1[i]\n",
    "            i=i+1\n",
    "        else:\n",
    "            print('1 right')\n",
    "            print(len(lst), len(l2))\n",
    "            print(j, k)\n",
    "            \n",
    "            lst[k] += l2[j]\n",
    "            j=j+1\n",
    "        print('k + 1')\n",
    "        k=k+1\n",
    "        print(k, j)\n",
    "\n",
    "    while i < len(l1):\n",
    "        print('2 left')\n",
    "        lst[k]=l1[i]\n",
    "        i=i+1\n",
    "        k=k+1\n",
    "\n",
    "    while j < len(l2):\n",
    "        print('2 right')\n",
    "        lst[k]=l2[j]\n",
    "        j=j+1\n",
    "        k=k+1\n",
    "        \n",
    "    return lst\n",
    "            \n",
    "            \n",
    "            "
   ]
  },
  {
   "cell_type": "code",
   "execution_count": 36,
   "metadata": {},
   "outputs": [
    {
     "name": "stdout",
     "output_type": "stream",
     "text": [
      "3\n",
      "[[1, 3, 5], [1, 2, 7, 9], [0, 6, 8]] 0 3\n",
      "L  [[1, 3, 5]] R [[1, 2, 7, 9], [0, 6, 8]]\n",
      "going in\n",
      "1 right\n",
      "0 2\n",
      "0 0\n"
     ]
    },
    {
     "ename": "IndexError",
     "evalue": "list index out of range",
     "output_type": "error",
     "traceback": [
      "\u001b[1;31m---------------------------------------------------------------------------\u001b[0m",
      "\u001b[1;31mIndexError\u001b[0m                                Traceback (most recent call last)",
      "\u001b[1;32m<ipython-input-36-ece23bdd244b>\u001b[0m in \u001b[0;36m<module>\u001b[1;34m\u001b[0m\n\u001b[0;32m      1\u001b[0m \u001b[0mlis\u001b[0m \u001b[1;33m=\u001b[0m \u001b[1;33m[\u001b[0m\u001b[1;33m[\u001b[0m\u001b[1;36m1\u001b[0m\u001b[1;33m,\u001b[0m \u001b[1;36m3\u001b[0m\u001b[1;33m,\u001b[0m \u001b[1;36m5\u001b[0m\u001b[1;33m]\u001b[0m\u001b[1;33m,\u001b[0m\u001b[1;33m[\u001b[0m\u001b[1;36m1\u001b[0m\u001b[1;33m,\u001b[0m \u001b[1;36m2\u001b[0m\u001b[1;33m,\u001b[0m \u001b[1;36m7\u001b[0m\u001b[1;33m,\u001b[0m \u001b[1;36m9\u001b[0m\u001b[1;33m]\u001b[0m\u001b[1;33m,\u001b[0m \u001b[1;33m[\u001b[0m\u001b[1;36m0\u001b[0m\u001b[1;33m,\u001b[0m \u001b[1;36m6\u001b[0m\u001b[1;33m,\u001b[0m \u001b[1;36m8\u001b[0m\u001b[1;33m]\u001b[0m\u001b[1;33m]\u001b[0m\u001b[1;33m\u001b[0m\u001b[1;33m\u001b[0m\u001b[0m\n\u001b[1;32m----> 2\u001b[1;33m \u001b[0mA\u001b[0m \u001b[1;33m=\u001b[0m \u001b[0mlist_node\u001b[0m\u001b[1;33m(\u001b[0m\u001b[0mlis\u001b[0m\u001b[1;33m)\u001b[0m\u001b[1;33m\u001b[0m\u001b[1;33m\u001b[0m\u001b[0m\n\u001b[0m",
      "\u001b[1;32m<ipython-input-35-7246996d4a40>\u001b[0m in \u001b[0;36mlist_node\u001b[1;34m(lis)\u001b[0m\n\u001b[0;32m      2\u001b[0m     \u001b[1;32mif\u001b[0m \u001b[0mlis\u001b[0m \u001b[1;33m==\u001b[0m \u001b[1;32mNone\u001b[0m \u001b[1;32mor\u001b[0m \u001b[0mlen\u001b[0m\u001b[1;33m(\u001b[0m\u001b[0mlis\u001b[0m\u001b[1;33m)\u001b[0m \u001b[1;33m==\u001b[0m \u001b[1;36m0\u001b[0m\u001b[1;33m:\u001b[0m \u001b[1;32mreturn\u001b[0m \u001b[1;32mNone\u001b[0m\u001b[1;33m\u001b[0m\u001b[1;33m\u001b[0m\u001b[0m\n\u001b[0;32m      3\u001b[0m     \u001b[0mprint\u001b[0m\u001b[1;33m(\u001b[0m\u001b[0mlen\u001b[0m\u001b[1;33m(\u001b[0m\u001b[0mlis\u001b[0m\u001b[1;33m)\u001b[0m\u001b[1;33m)\u001b[0m\u001b[1;33m\u001b[0m\u001b[1;33m\u001b[0m\u001b[0m\n\u001b[1;32m----> 4\u001b[1;33m     \u001b[1;32mreturn\u001b[0m \u001b[0mmerge_k_lists\u001b[0m\u001b[1;33m(\u001b[0m\u001b[0mlis\u001b[0m\u001b[1;33m,\u001b[0m \u001b[1;36m0\u001b[0m\u001b[1;33m,\u001b[0m \u001b[0mlen\u001b[0m\u001b[1;33m(\u001b[0m\u001b[0mlis\u001b[0m\u001b[1;33m)\u001b[0m\u001b[1;33m)\u001b[0m\u001b[1;33m\u001b[0m\u001b[1;33m\u001b[0m\u001b[0m\n\u001b[0m\u001b[0;32m      5\u001b[0m \u001b[1;33m\u001b[0m\u001b[0m\n\u001b[0;32m      6\u001b[0m \u001b[1;32mdef\u001b[0m \u001b[0mmerge_k_lists\u001b[0m\u001b[1;33m(\u001b[0m\u001b[0mlists\u001b[0m\u001b[1;33m,\u001b[0m \u001b[0mstart\u001b[0m\u001b[1;33m,\u001b[0m \u001b[0mend\u001b[0m\u001b[1;33m)\u001b[0m\u001b[1;33m:\u001b[0m\u001b[1;33m\u001b[0m\u001b[1;33m\u001b[0m\u001b[0m\n",
      "\u001b[1;32m<ipython-input-35-7246996d4a40>\u001b[0m in \u001b[0;36mmerge_k_lists\u001b[1;34m(lists, start, end)\u001b[0m\n\u001b[0;32m     11\u001b[0m     \u001b[0mright\u001b[0m \u001b[1;33m=\u001b[0m \u001b[0mlists\u001b[0m\u001b[1;33m[\u001b[0m\u001b[0mmid\u001b[0m\u001b[1;33m:\u001b[0m\u001b[1;33m]\u001b[0m\u001b[1;33m\u001b[0m\u001b[1;33m\u001b[0m\u001b[0m\n\u001b[0;32m     12\u001b[0m     \u001b[0mprint\u001b[0m\u001b[1;33m(\u001b[0m\u001b[1;34m'L '\u001b[0m\u001b[1;33m,\u001b[0m \u001b[0mleft\u001b[0m\u001b[1;33m,\u001b[0m \u001b[1;34m'R'\u001b[0m\u001b[1;33m,\u001b[0m \u001b[0mright\u001b[0m\u001b[1;33m)\u001b[0m\u001b[1;33m\u001b[0m\u001b[1;33m\u001b[0m\u001b[0m\n\u001b[1;32m---> 13\u001b[1;33m     \u001b[1;32mreturn\u001b[0m \u001b[0mmerge\u001b[0m\u001b[1;33m(\u001b[0m\u001b[0mleft\u001b[0m\u001b[1;33m,\u001b[0m \u001b[0mright\u001b[0m\u001b[1;33m)\u001b[0m\u001b[1;33m\u001b[0m\u001b[1;33m\u001b[0m\u001b[0m\n\u001b[0m\u001b[0;32m     14\u001b[0m \u001b[1;33m\u001b[0m\u001b[0m\n\u001b[0;32m     15\u001b[0m \u001b[1;32mdef\u001b[0m \u001b[0mmerge\u001b[0m\u001b[1;33m(\u001b[0m\u001b[0ml1\u001b[0m\u001b[1;33m,\u001b[0m \u001b[0ml2\u001b[0m\u001b[1;33m)\u001b[0m\u001b[1;33m:\u001b[0m\u001b[1;33m\u001b[0m\u001b[1;33m\u001b[0m\u001b[0m\n",
      "\u001b[1;32m<ipython-input-35-7246996d4a40>\u001b[0m in \u001b[0;36mmerge\u001b[1;34m(l1, l2)\u001b[0m\n\u001b[0;32m     29\u001b[0m             \u001b[0mprint\u001b[0m\u001b[1;33m(\u001b[0m\u001b[0mj\u001b[0m\u001b[1;33m,\u001b[0m \u001b[0mk\u001b[0m\u001b[1;33m)\u001b[0m\u001b[1;33m\u001b[0m\u001b[1;33m\u001b[0m\u001b[0m\n\u001b[0;32m     30\u001b[0m \u001b[1;33m\u001b[0m\u001b[0m\n\u001b[1;32m---> 31\u001b[1;33m             \u001b[0mlst\u001b[0m\u001b[1;33m[\u001b[0m\u001b[0mk\u001b[0m\u001b[1;33m]\u001b[0m \u001b[1;33m+=\u001b[0m \u001b[0ml2\u001b[0m\u001b[1;33m[\u001b[0m\u001b[0mj\u001b[0m\u001b[1;33m]\u001b[0m\u001b[1;33m\u001b[0m\u001b[1;33m\u001b[0m\u001b[0m\n\u001b[0m\u001b[0;32m     32\u001b[0m             \u001b[0mj\u001b[0m\u001b[1;33m=\u001b[0m\u001b[0mj\u001b[0m\u001b[1;33m+\u001b[0m\u001b[1;36m1\u001b[0m\u001b[1;33m\u001b[0m\u001b[1;33m\u001b[0m\u001b[0m\n\u001b[0;32m     33\u001b[0m         \u001b[0mprint\u001b[0m\u001b[1;33m(\u001b[0m\u001b[1;34m'k + 1'\u001b[0m\u001b[1;33m)\u001b[0m\u001b[1;33m\u001b[0m\u001b[1;33m\u001b[0m\u001b[0m\n",
      "\u001b[1;31mIndexError\u001b[0m: list index out of range"
     ]
    }
   ],
   "source": [
    "lis = [[1, 3, 5],[1, 2, 7, 9], [0, 6, 8]]\n",
    "A = list_node(lis)"
   ]
  },
  {
   "cell_type": "code",
   "execution_count": 26,
   "metadata": {},
   "outputs": [
    {
     "ename": "NameError",
     "evalue": "name 'lst' is not defined",
     "output_type": "error",
     "traceback": [
      "\u001b[1;31m---------------------------------------------------------------------------\u001b[0m",
      "\u001b[1;31mNameError\u001b[0m                                 Traceback (most recent call last)",
      "\u001b[1;32m<ipython-input-26-70848ae66b3b>\u001b[0m in \u001b[0;36m<module>\u001b[1;34m\u001b[0m\n\u001b[1;32m----> 1\u001b[1;33m \u001b[0mmid\u001b[0m \u001b[1;33m=\u001b[0m \u001b[0mlen\u001b[0m\u001b[1;33m(\u001b[0m\u001b[0mlst\u001b[0m\u001b[1;33m)\u001b[0m\u001b[1;33m//\u001b[0m\u001b[1;36m2\u001b[0m\u001b[1;33m\u001b[0m\u001b[1;33m\u001b[0m\u001b[0m\n\u001b[0m\u001b[0;32m      2\u001b[0m \u001b[0mleft\u001b[0m \u001b[1;33m=\u001b[0m \u001b[0mlst\u001b[0m\u001b[1;33m[\u001b[0m\u001b[1;33m:\u001b[0m\u001b[0mmid\u001b[0m\u001b[1;33m]\u001b[0m\u001b[1;33m\u001b[0m\u001b[1;33m\u001b[0m\u001b[0m\n\u001b[0;32m      3\u001b[0m \u001b[0mright\u001b[0m \u001b[1;33m=\u001b[0m \u001b[0mlst\u001b[0m\u001b[1;33m[\u001b[0m\u001b[0mmid\u001b[0m\u001b[1;33m:\u001b[0m\u001b[1;33m]\u001b[0m\u001b[1;33m\u001b[0m\u001b[1;33m\u001b[0m\u001b[0m\n\u001b[0;32m      4\u001b[0m \u001b[1;33m\u001b[0m\u001b[0m\n\u001b[0;32m      5\u001b[0m \u001b[0mmiddle\u001b[0m \u001b[1;33m=\u001b[0m \u001b[0mstart\u001b[0m \u001b[1;33m+\u001b[0m \u001b[1;33m(\u001b[0m\u001b[0mend\u001b[0m\u001b[1;33m-\u001b[0m\u001b[0mstar\u001b[0m\u001b[1;33m)\u001b[0m \u001b[1;33m/\u001b[0m \u001b[1;36m2\u001b[0m\u001b[1;33m\u001b[0m\u001b[1;33m\u001b[0m\u001b[0m\n",
      "\u001b[1;31mNameError\u001b[0m: name 'lst' is not defined"
     ]
    }
   ],
   "source": [
    "mid = len(lst)//2\n",
    "left = lst[:mid]\n",
    "right = lst[mid:]\n",
    "        \n",
    "middle = start + (end-star) / 2\n",
    "left = merge_k_lists(lists, start, mid)"
   ]
  },
  {
   "cell_type": "code",
   "execution_count": null,
   "metadata": {},
   "outputs": [],
   "source": []
  },
  {
   "cell_type": "code",
   "execution_count": null,
   "metadata": {},
   "outputs": [],
   "source": []
  },
  {
   "cell_type": "code",
   "execution_count": null,
   "metadata": {},
   "outputs": [],
   "source": []
  },
  {
   "cell_type": "code",
   "execution_count": null,
   "metadata": {},
   "outputs": [],
   "source": []
  },
  {
   "cell_type": "markdown",
   "metadata": {},
   "source": [
    "Brain dump\n",
    "---\n",
    "\n",
    "\n",
    "k (k>0) sorted lists of size n each and returns as an output a list of k*n sorted elements\n",
    "\n",
    "n = size of each individual list"
   ]
  },
  {
   "cell_type": "code",
   "execution_count": 14,
   "metadata": {},
   "outputs": [],
   "source": [
    "lst = [[1, 3, 5],[1, 2, 7, 9], [0, 6, 8]]\n",
    "lst_len = len(lst)\n",
    "n = 0\n",
    "sorting_list = [0 for i in range(lst_len)]\n",
    "\n",
    "merge_k_sorted_lists(sorting_list, lst, n, lst_len)"
   ]
  },
  {
   "cell_type": "code",
   "execution_count": 15,
   "metadata": {},
   "outputs": [],
   "source": [
    "def merge_k_sorted_lists(sorting_list, lst, n, lst_len):\n",
    "    pass"
   ]
  },
  {
   "cell_type": "code",
   "execution_count": null,
   "metadata": {},
   "outputs": [],
   "source": []
  },
  {
   "cell_type": "code",
   "execution_count": null,
   "metadata": {},
   "outputs": [],
   "source": []
  },
  {
   "cell_type": "code",
   "execution_count": null,
   "metadata": {},
   "outputs": [],
   "source": []
  },
  {
   "cell_type": "markdown",
   "metadata": {},
   "source": [
    "New try\n",
    "---\n"
   ]
  },
  {
   "cell_type": "code",
   "execution_count": 37,
   "metadata": {},
   "outputs": [
    {
     "name": "stdout",
     "output_type": "stream",
     "text": [
      "0 1 2 3 4 5 6 7 8 9 10 11 "
     ]
    }
   ],
   "source": [
    "class Node:\n",
    "     \n",
    "    def __init__(self):\n",
    "         \n",
    "        self.data = 0\n",
    "        self.next = None\n",
    " \n",
    "# Function to print nodes in a\n",
    "# given linked list\n",
    "def printList(node):\n",
    " \n",
    "    while (node != None):\n",
    "        print(node.data, end = ' ')\n",
    "        node = node.next\n",
    "     \n",
    "# Takes two lists sorted in increasing order,\n",
    "# and merge their nodes together to make one\n",
    "# big sorted list. Below function takes\n",
    "# O(Log n) extra space for recursive calls,\n",
    "# but it can be easily modified to work with\n",
    "# same time and O(1) extra space\n",
    "def SortedMerge(a, b):\n",
    " \n",
    "    result = None\n",
    "  \n",
    "    # Base cases\n",
    "    if (a == None):\n",
    "        return(b)\n",
    "    elif (b == None):\n",
    "        return(a)\n",
    "  \n",
    "    # Pick either a or b, and recur\n",
    "    if (a.data <= b.data):\n",
    "        result = a\n",
    "        result.next = SortedMerge(a.next, b)\n",
    "    else:\n",
    "        result = b\n",
    "        result.next = SortedMerge(a, b.next)\n",
    "     \n",
    "    return result\n",
    " \n",
    "# The main function that takes an array of lists\n",
    "# arr[0..last] and generates the sorted output\n",
    "def mergeKLists(arr, last):\n",
    " \n",
    "    # Repeat until only one list is left\n",
    "    while (last != 0):\n",
    "        i = 0\n",
    "        j = last\n",
    "  \n",
    "        # (i, j) forms a pair\n",
    "        while (i < j):\n",
    "             \n",
    "            # Merge List i with List j and store\n",
    "            # merged list in List i\n",
    "            arr[i] = SortedMerge(arr[i], arr[j])\n",
    "  \n",
    "            # Consider next pair\n",
    "            i += 1\n",
    "            j -= 1\n",
    "             \n",
    "            # If all pairs are merged, update last\n",
    "            if (i >= j):\n",
    "                last = j\n",
    "  \n",
    "    return arr[0]\n",
    " \n",
    "# Utility function to create a new node.\n",
    "def newNode(data):\n",
    " \n",
    "    temp = Node()\n",
    "    temp.data = data\n",
    "    temp.next = None\n",
    "    return temp\n",
    " \n",
    "# Driver code\n",
    "if __name__=='__main__':\n",
    "     \n",
    "    # Number of linked lists\n",
    "    k = 3\n",
    "     \n",
    "    # Number of elements in each list\n",
    "    n = 4\n",
    "  \n",
    "    # An array of pointers storing the\n",
    "    # head nodes of the linked lists\n",
    "    arr = [0 for i in range(k)]\n",
    "  \n",
    "    arr[0] = newNode(1)\n",
    "    arr[0].next = newNode(3)\n",
    "    arr[0].next.next = newNode(5)\n",
    "    arr[0].next.next.next = newNode(7)\n",
    "  \n",
    "    arr[1] = newNode(2)\n",
    "    arr[1].next = newNode(4)\n",
    "    arr[1].next.next = newNode(6)\n",
    "    arr[1].next.next.next = newNode(8)\n",
    "  \n",
    "    arr[2] = newNode(0)\n",
    "    arr[2].next = newNode(9)\n",
    "    arr[2].next.next = newNode(10)\n",
    "    arr[2].next.next.next = newNode(11)\n",
    "  \n",
    "    # Merge all lists\n",
    "    head = mergeKLists(arr, k - 1)\n",
    "  \n",
    "    printList(head)"
   ]
  },
  {
   "cell_type": "code",
   "execution_count": 38,
   "metadata": {},
   "outputs": [],
   "source": [
    "def list_to_node(lis):\n",
    "    k = len(lis)\n",
    "    n = 0\n",
    "    arr = [0 for i in range(k)]\n",
    "    "
   ]
  },
  {
   "cell_type": "code",
   "execution_count": 43,
   "metadata": {},
   "outputs": [],
   "source": [
    " def test(lis):\n",
    "    #k = 3\n",
    "    k = len(lis) \n",
    "    # Number of elements in each list\n",
    "    #n = 4\n",
    "    n = 0\n",
    "    # An array of pointers storing the\n",
    "    # head nodes of the linked lists\n",
    "    arr = [0 for i in range(k)]\n",
    "    \n",
    "    for i in range(k):\n",
    "        for n in range(len(k[i])):\n",
    "            arr[n] = k[n]\n",
    "  \n",
    "    arr[0] = newNode(1)\n",
    "    arr[0].next = newNode(3)\n",
    "    arr[0].next.next = newNode(5)\n",
    "    arr[0].next.next.next = newNode(7)\n",
    "  \n",
    "    arr[1] = newNode(2)\n",
    "    arr[1].next = newNode(4)\n",
    "    arr[1].next.next = newNode(6)\n",
    "    arr[1].next.next.next = newNode(8)\n",
    "  \n",
    "    arr[2] = newNode(0)\n",
    "    arr[2].next = newNode(9)\n",
    "    arr[2].next.next = newNode(10)\n",
    "    arr[2].next.next.next = newNode(11)\n",
    "  \n",
    "    # Merge all lists\n",
    "    head = mergeKLists(arr, k - 1)"
   ]
  },
  {
   "cell_type": "code",
   "execution_count": 44,
   "metadata": {},
   "outputs": [
    {
     "ename": "TypeError",
     "evalue": "'int' object is not subscriptable",
     "output_type": "error",
     "traceback": [
      "\u001b[1;31m---------------------------------------------------------------------------\u001b[0m",
      "\u001b[1;31mTypeError\u001b[0m                                 Traceback (most recent call last)",
      "\u001b[1;32m<ipython-input-44-c5e4e9fc932b>\u001b[0m in \u001b[0;36m<module>\u001b[1;34m\u001b[0m\n\u001b[0;32m      1\u001b[0m \u001b[0mlis\u001b[0m \u001b[1;33m=\u001b[0m \u001b[1;33m[\u001b[0m\u001b[1;33m[\u001b[0m\u001b[1;36m1\u001b[0m\u001b[1;33m,\u001b[0m \u001b[1;36m3\u001b[0m\u001b[1;33m,\u001b[0m \u001b[1;36m5\u001b[0m\u001b[1;33m]\u001b[0m\u001b[1;33m,\u001b[0m\u001b[1;33m[\u001b[0m\u001b[1;36m1\u001b[0m\u001b[1;33m,\u001b[0m \u001b[1;36m2\u001b[0m\u001b[1;33m,\u001b[0m \u001b[1;36m7\u001b[0m\u001b[1;33m,\u001b[0m \u001b[1;36m9\u001b[0m\u001b[1;33m]\u001b[0m\u001b[1;33m,\u001b[0m \u001b[1;33m[\u001b[0m\u001b[1;36m0\u001b[0m\u001b[1;33m,\u001b[0m \u001b[1;36m6\u001b[0m\u001b[1;33m,\u001b[0m \u001b[1;36m8\u001b[0m\u001b[1;33m]\u001b[0m\u001b[1;33m]\u001b[0m\u001b[1;33m\u001b[0m\u001b[1;33m\u001b[0m\u001b[0m\n\u001b[1;32m----> 2\u001b[1;33m \u001b[0mtest\u001b[0m\u001b[1;33m(\u001b[0m\u001b[0mlis\u001b[0m\u001b[1;33m)\u001b[0m\u001b[1;33m\u001b[0m\u001b[1;33m\u001b[0m\u001b[0m\n\u001b[0m",
      "\u001b[1;32m<ipython-input-43-995429449c14>\u001b[0m in \u001b[0;36mtest\u001b[1;34m(lis)\u001b[0m\n\u001b[0;32m     10\u001b[0m \u001b[1;33m\u001b[0m\u001b[0m\n\u001b[0;32m     11\u001b[0m    \u001b[1;32mfor\u001b[0m \u001b[0mi\u001b[0m \u001b[1;32min\u001b[0m \u001b[0mrange\u001b[0m\u001b[1;33m(\u001b[0m\u001b[0mk\u001b[0m\u001b[1;33m)\u001b[0m\u001b[1;33m:\u001b[0m\u001b[1;33m\u001b[0m\u001b[1;33m\u001b[0m\u001b[0m\n\u001b[1;32m---> 12\u001b[1;33m        \u001b[1;32mfor\u001b[0m \u001b[0mn\u001b[0m \u001b[1;32min\u001b[0m \u001b[0mrange\u001b[0m\u001b[1;33m(\u001b[0m\u001b[0mlen\u001b[0m\u001b[1;33m(\u001b[0m\u001b[0mk\u001b[0m\u001b[1;33m[\u001b[0m\u001b[0mi\u001b[0m\u001b[1;33m]\u001b[0m\u001b[1;33m)\u001b[0m\u001b[1;33m)\u001b[0m\u001b[1;33m:\u001b[0m\u001b[1;33m\u001b[0m\u001b[1;33m\u001b[0m\u001b[0m\n\u001b[0m\u001b[0;32m     13\u001b[0m            \u001b[0marr\u001b[0m\u001b[1;33m[\u001b[0m\u001b[0mn\u001b[0m\u001b[1;33m]\u001b[0m \u001b[1;33m=\u001b[0m \u001b[0mk\u001b[0m\u001b[1;33m[\u001b[0m\u001b[0mn\u001b[0m\u001b[1;33m]\u001b[0m\u001b[1;33m\u001b[0m\u001b[1;33m\u001b[0m\u001b[0m\n\u001b[0;32m     14\u001b[0m \u001b[1;33m\u001b[0m\u001b[0m\n",
      "\u001b[1;31mTypeError\u001b[0m: 'int' object is not subscriptable"
     ]
    }
   ],
   "source": [
    "lis = [[1, 3, 5],[1, 2, 7, 9], [0, 6, 8]]\n",
    "test(lis)"
   ]
  },
  {
   "cell_type": "code",
   "execution_count": null,
   "metadata": {},
   "outputs": [],
   "source": []
  }
 ],
 "metadata": {
  "kernelspec": {
   "display_name": "Python 3",
   "language": "python",
   "name": "python3"
  },
  "language_info": {
   "codemirror_mode": {
    "name": "ipython",
    "version": 3
   },
   "file_extension": ".py",
   "mimetype": "text/x-python",
   "name": "python",
   "nbconvert_exporter": "python",
   "pygments_lexer": "ipython3",
   "version": "3.9.2"
  }
 },
 "nbformat": 4,
 "nbformat_minor": 4
}
