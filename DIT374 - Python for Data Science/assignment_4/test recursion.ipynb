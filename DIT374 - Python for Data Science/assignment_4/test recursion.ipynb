{
 "cells": [
  {
   "cell_type": "code",
   "execution_count": 1,
   "metadata": {},
   "outputs": [],
   "source": [
    "def merge1(lists, n):\n",
    "    i = 0\n",
    "    lower = []\n",
    "    higher = []\n",
    "    left = 0\n",
    "    right = 0\n",
    "    \n",
    "    # base case (claus-statement)\n",
    "    if n < 2: return None\n",
    "    \n",
    "    left = n / 2\n",
    "    right = n - left\n",
    "    "
   ]
  },
  {
   "cell_type": "markdown",
   "metadata": {},
   "source": [
    "You can see that your sort function operates by recursing directly on itself, using a shorter-by-one version of its list parameter. This is stopped when the list is of length 0 or 1. (That code should be cleaned up.) So your sort recurses n-1 times, given n >= 2.\n",
    "\n",
    "Each time it recurses, sort calls push_up once. The push_up function linearly scans the list, which is of length 1, then 2, then ... n-1.\n",
    "\n",
    "So in the worst case (input array is reverse-sorted) you have scans of total length ∑1...(n−1)\n",
    ", which makes your code O(n2)."
   ]
  },
  {
   "cell_type": "code",
   "execution_count": 2,
   "metadata": {},
   "outputs": [],
   "source": [
    "def sort(lst):\n",
    "    \"\"\"Recursive sorting algorithm. Sorts the remainder of the list \n",
    "    and then pushes the first element up to its appropriate position\"\"\"\n",
    "\n",
    "    if lst == []:\n",
    "        return []\n",
    "    if len(lst) == 1:\n",
    "        return [lst[0]]\n",
    "    elt = lst[0]\n",
    "    sorted_lst = sort(lst[1:])\n",
    "    return push_up(elt, sorted_lst)\n",
    "\n",
    "def insert(val, lst, i):\n",
    "    \"\"\"Inserts [val] into [lst] at index [i] \"\"\"\n",
    "\n",
    "    return lst[:i] + [val] + lst[i:]\n",
    "\n",
    "def push_up(val, lst):\n",
    "    \"\"\"Pushes [val] up the list until it reaches its sorted position.\n",
    "    Precondition: lst is sorted\"\"\"\n",
    "    start = 0\n",
    "    while start < len(lst) and lst[start] < val:\n",
    "        start += 1\n",
    "\n",
    "    return insert(val, lst, start)"
   ]
  },
  {
   "cell_type": "markdown",
   "metadata": {},
   "source": [
    "This code below works\n",
    "---"
   ]
  },
  {
   "cell_type": "code",
   "execution_count": 4,
   "metadata": {},
   "outputs": [],
   "source": [
    "def mergeList(li):\n",
    "    lst = []\n",
    "    l = 0\n",
    "    for i in range(len(li)):\n",
    "        try:\n",
    "            if l == 0 or len(li[i]) > 0:\n",
    "                lst = lst + li[i]\n",
    "            else:\n",
    "                l = len(li[i])\n",
    "        except:\n",
    "            pass\n",
    "        \n",
    "    return lst\n",
    "\n",
    "def printLst(lst):\n",
    "    for i in range(len(lst)):\n",
    "        print(lst[i], end = ' ')\n",
    "    print()"
   ]
  },
  {
   "cell_type": "code",
   "execution_count": 5,
   "metadata": {},
   "outputs": [],
   "source": [
    "def sort2(lst):\n",
    "    if len(lst) > 1:\n",
    "        middle_point = len(lst) // 2\n",
    "        left = lst[:middle_point]\n",
    "        right = lst[middle_point:]\n",
    "        \n",
    "        # recursive calls\n",
    "        sort2(left)\n",
    "        sort2(right)\n",
    "        \n",
    "        i = 0\n",
    "        j = 0\n",
    "        k = 0\n",
    "        \n",
    "        while i < len(left) and j < len(right):\n",
    "            if left[i] < right[j]:\n",
    "                lst[k] = left[i]\n",
    "                i += 1\n",
    "            else:\n",
    "                lst[k] = right[j]\n",
    "                j += 1\n",
    "            k += 1\n",
    "            \n",
    "            while i < len(left):\n",
    "                lst[k] = left[i]\n",
    "                i += 1\n",
    "                k += 1\n",
    "            \n",
    "            while j < len(right):\n",
    "                lst[k] = right[j]\n",
    "                j += 1\n",
    "                k += 1\n",
    "    return lst"
   ]
  },
  {
   "cell_type": "code",
   "execution_count": 6,
   "metadata": {},
   "outputs": [
    {
     "name": "stdout",
     "output_type": "stream",
     "text": [
      "[1, 3, 5, 1, 2, 7, 9, 0, 6, 8]\n"
     ]
    },
    {
     "data": {
      "text/plain": [
       "[0, 1, 1, 3, 5, 2, 7, 9, 6, 8]"
      ]
     },
     "execution_count": 6,
     "metadata": {},
     "output_type": "execute_result"
    }
   ],
   "source": [
    "testList = [[1, 3, 5],[1, 2, 7, 9], [0, 6, 8]]\n",
    "testList = mergeList(testList)\n",
    "print(testList)\n",
    "sort2(testList)"
   ]
  },
  {
   "cell_type": "markdown",
   "metadata": {},
   "source": [
    "Improve code above\n",
    "---\n",
    "\n"
   ]
  },
  {
   "cell_type": "code",
   "execution_count": 180,
   "metadata": {},
   "outputs": [],
   "source": [
    "def lst_2(lst):\n",
    "    print(len(lst))\n",
    "    lst1 = []\n",
    "    lst2 = []\n",
    "    filler = []\n",
    "    sort = []\n",
    "    try:\n",
    "        for i in range(len(lst)):\n",
    "            if len(lst[i]) == len(lst[i+1]):\n",
    "                if i == range(len(lst)-1):\n",
    "                    lst1 = lst[i]\n",
    "                    lst2 = filler\n",
    "                    print('special: ',lst1, lst2)\n",
    "                    sort.append(sort3(lst1, lst2))\n",
    "                else:\n",
    "                    lst1 = lst[i]\n",
    "                    lst2 = lst[i+1]\n",
    "                    print('normal: ',lst1, lst2)\n",
    "                    sort.append(sort3(lst1, lst2))\n",
    "    except:\n",
    "        pass\n",
    "    print(sort)\n",
    "    return sort\n",
    "\n",
    "def printLst(lst):\n",
    "    for i in range(len(lst)):\n",
    "        print(lst[i], end = ' ')\n",
    "    print()"
   ]
  },
  {
   "cell_type": "code",
   "execution_count": 228,
   "metadata": {},
   "outputs": [],
   "source": [
    "def passing(lst):\n",
    "    t = []\n",
    "    full_list = []\n",
    "    sort = []\n",
    "    for i in range(len(lst)):\n",
    "        t = lst[i]\n",
    "        full_list += (sort2(t))\n",
    "    sort = sort2(full_list)\n",
    "    return full_list"
   ]
  },
  {
   "cell_type": "code",
   "execution_count": 229,
   "metadata": {},
   "outputs": [
    {
     "name": "stdout",
     "output_type": "stream",
     "text": [
      "[0, 1, 1, 3, 5, 2, 7, 9, 6, 8]\n"
     ]
    }
   ],
   "source": [
    "testList = [[1, 3, 5],[1, 2, 7, 9], [0, 6, 8]]\n",
    "testList = passing(testList)\n",
    "print(testList)\n",
    "#sort2(testList)"
   ]
  },
  {
   "cell_type": "code",
   "execution_count": 191,
   "metadata": {},
   "outputs": [],
   "source": [
    "def sort3(lst1, lst2):\n",
    "    left = []\n",
    "    right = []\n",
    "    if len(lst1) > 1:\n",
    "        print('in sort3',lst1, lst2)\n",
    "        if lst2 == []:\n",
    "            left = lst1\n",
    "            middle_point = len(lst1) // 2\n",
    "            left.append(lst1[:middle_point])\n",
    "            right.append(lst1[middle_point:])\n",
    "            sort3(left, right)\n",
    "            print('in sort3 empty l2',left, right)\n",
    "        elif lst1 != [] and lst2 != []:\n",
    "            left.append(lst1)\n",
    "            right.append(lst2)\n",
    "            rint('in sort3 l',left, right)\n",
    "            sort3(left, right)\n",
    "            \n",
    "        print('in sort3 after control',lst1, lst2)\n",
    "        i = 0\n",
    "        j = 0\n",
    "        k = 0\n",
    "        \n",
    "        while i < len(left) and j < len(right):\n",
    "            if left[i] < right[j]:\n",
    "                lst[k] = left[i]\n",
    "                i += 1\n",
    "            else:\n",
    "                lst[k] = right[j]\n",
    "                j += 1\n",
    "            k += 1\n",
    "            \n",
    "            while i < len(left):\n",
    "                lst[k] = left[i]\n",
    "                i += 1\n",
    "                k += 1\n",
    "            \n",
    "            while j < len(right):\n",
    "                lst[k] = right[j]\n",
    "                j += 1\n",
    "                k += 1\n",
    "    return lst"
   ]
  },
  {
   "cell_type": "code",
   "execution_count": 192,
   "metadata": {},
   "outputs": [
    {
     "name": "stdout",
     "output_type": "stream",
     "text": [
      "3\n",
      "normal:  [1, 3, 5] [1, 2, 7]\n",
      "in sort3 [1, 3, 5] [1, 2, 7]\n",
      "[]\n",
      "None\n",
      "[]\n"
     ]
    }
   ],
   "source": [
    "testList = [[1, 3, 5],[1, 2, 7], [0, 6, 8]]\n",
    "sor = lst_2(testList)\n",
    "print(l1)\n",
    "#sort3(testList)\n",
    "print(sor)"
   ]
  },
  {
   "cell_type": "code",
   "execution_count": 129,
   "metadata": {},
   "outputs": [],
   "source": [
    "def lst3(lst):\n",
    "    temp = []\n",
    "    for i in range(len(lst)):\n",
    "        if i < len(lst):\n",
    "            temp += (sort2(lst[i]))\n",
    "        else:\n",
    "            l = sort2(temp)\n",
    "            return l"
   ]
  },
  {
   "cell_type": "code",
   "execution_count": 118,
   "metadata": {},
   "outputs": [
    {
     "name": "stdout",
     "output_type": "stream",
     "text": [
      "None\n"
     ]
    }
   ],
   "source": [
    "testList = [[1, 3, 5],[1, 2, 7], [0, 6, 8]]\n",
    "l1 = []\n",
    "l1 = lst3(testList)\n",
    "print(l1)"
   ]
  },
  {
   "cell_type": "code",
   "execution_count": 178,
   "metadata": {},
   "outputs": [],
   "source": [
    "def sort4(lst1, lst2):\n",
    "    \"\"\"middle_point = len(lst) // 2\n",
    "    left = lst[:middle_point]\n",
    "    right = lst[middle_point:]\"\"\"\n",
    "    print('in sort3',lst1, lst2)\n",
    "    if lst2 == []:\n",
    "        left = lst1\n",
    "        middle_point = len(lst1) // 2\n",
    "        left = lst1[:middle_point]\n",
    "        right = lst1[middle_point:]\n",
    "        sort3(left, right)\n",
    "        print('in sort3 empty l2',left, right)\n",
    "    else:\n",
    "        left = lst1\n",
    "        right = lst2\n",
    "        rint('in sort3 l',left, right)\n",
    "        sort3(left, right)\n",
    "\n",
    "        i = 0\n",
    "        j = 0\n",
    "        k = 0\n",
    "        \n",
    "    while i < len(left) and j < len(right):\n",
    "        if left[i] < right[j]:\n",
    "            lst[k] = left[i]\n",
    "            i += 1\n",
    "        else:\n",
    "            lst[k] = right[j]\n",
    "            j += 1\n",
    "        k += 1\n",
    "            \n",
    "        while i < len(left):\n",
    "            lst[k] = left[i]\n",
    "            i += 1\n",
    "            k += 1\n",
    "            \n",
    "        while j < len(right):\n",
    "            lst[k] = right[j]\n",
    "            j += 1\n",
    "            k += 1\n",
    "    return lst"
   ]
  },
  {
   "cell_type": "code",
   "execution_count": 194,
   "metadata": {},
   "outputs": [],
   "source": [
    "def merge_recur(lst1, lst2):\n",
    "    \"\"\"Merges two sorted lists recursively.\n",
    "\n",
    "    >>> merge_recur([1, 3, 5], [2, 4, 6])\n",
    "    [1, 2, 3, 4, 5, 6]\n",
    "    >>> merge_recur([], [2, 4, 6])\n",
    "    [2, 4, 6]\n",
    "    >>> merge_recur([1, 2, 3], [])\n",
    "    [1, 2, 3]\n",
    "    >>> merge_recur([5, 7], [2, 4, 6])\n",
    "    [2, 4, 5, 6, 7]\n",
    "    \"\"\"\n",
    "    if not lst1:\n",
    "        return lst2\n",
    "    if not lst2:\n",
    "        return lst1\n",
    "    if lst1[0] > lst2[0]:\n",
    "        return [lst2[0]] + merge_recur(lst1, lst2[1:])\n",
    "    else:\n",
    "        return [lst1[0]] + merge_recur(lst1[1:], lst2)\n",
    "\n",
    "def mergesort_recur(seq):\n",
    "    \"\"\"Mergesort algorithm.\n",
    "\n",
    "    >>> mergesort_recur([4, 2, 5, 2, 1])\n",
    "    [1, 2, 2, 4, 5]\n",
    "    >>> mergesort_recur([])     # sorting an empty list\n",
    "    []\n",
    "    >>> mergesort_recur([1])   # sorting a one-element list\n",
    "    [1]\n",
    "    \"\"\"\n",
    "    if not seq:\n",
    "        return []\n",
    "    if(len(seq) == 1):\n",
    "        return [seq[0]]\n",
    "    middle = len(seq) // 2\n",
    "    left = mergesort_recur(seq[0:middle])\n",
    "    right = mergesort_recur(seq[middle:len(seq)])\n",
    "    return merge_recur(left, right)\n",
    "\n"
   ]
  },
  {
   "cell_type": "code",
   "execution_count": 208,
   "metadata": {},
   "outputs": [],
   "source": [
    "def lst_4(lst):\n",
    "    print(len(lst))\n",
    "    lst1 = []\n",
    "    lst2 = []\n",
    "    filler = []\n",
    "    sort = []\n",
    "    try:\n",
    "        for i in range(len(lst)):\n",
    "            if len(lst[i]) == len(lst[i+1]):\n",
    "                if i == range(len(lst)-1):\n",
    "                    lst1.append(lst[i])\n",
    "                    lst2.append(filler)\n",
    "                    print('special: ',lst1, lst2)\n",
    "                    return lst1, lst2\n",
    "                    #sort.append(sort3(lst1, lst2))\n",
    "                else:\n",
    "                    lst1.append(lst[i])\n",
    "                    lst2.append(lst[i+1])\n",
    "                    print('normal: ',lst1, lst2)\n",
    "                    return lst1, lst2\n",
    "                    #sort.append(sort3(lst1, lst2))\n",
    "    except:\n",
    "        pass\n",
    "    return lst1, lst2"
   ]
  },
  {
   "cell_type": "code",
   "execution_count": 209,
   "metadata": {},
   "outputs": [
    {
     "name": "stdout",
     "output_type": "stream",
     "text": [
      "3\n"
     ]
    },
    {
     "data": {
      "text/plain": [
       "[]"
      ]
     },
     "execution_count": 209,
     "metadata": {},
     "output_type": "execute_result"
    }
   ],
   "source": [
    "testList = [[1, 3, 5],[1, 2, 7, 9], [0, 6, 8]]\n",
    "q, w = lst_4(testList)\n",
    "merge_recur(q, w)"
   ]
  },
  {
   "cell_type": "code",
   "execution_count": null,
   "metadata": {},
   "outputs": [],
   "source": []
  }
 ],
 "metadata": {
  "kernelspec": {
   "display_name": "Python 3",
   "language": "python",
   "name": "python3"
  },
  "language_info": {
   "codemirror_mode": {
    "name": "ipython",
    "version": 3
   },
   "file_extension": ".py",
   "mimetype": "text/x-python",
   "name": "python",
   "nbconvert_exporter": "python",
   "pygments_lexer": "ipython3",
   "version": "3.9.2"
  }
 },
 "nbformat": 4,
 "nbformat_minor": 4
}
