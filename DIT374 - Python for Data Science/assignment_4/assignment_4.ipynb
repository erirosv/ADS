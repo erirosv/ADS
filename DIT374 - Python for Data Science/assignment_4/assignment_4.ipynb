{
 "cells": [
  {
   "attachments": {},
   "cell_type": "markdown",
   "metadata": {},
   "source": [
    "# Assignment 4\n"
   ]
  },
  {
   "cell_type": "markdown",
   "metadata": {},
   "source": [
    "## Problem 1"
   ]
  },
  {
   "cell_type": "code",
   "execution_count": 1,
   "metadata": {},
   "outputs": [],
   "source": [
    "def encode(line):\n",
    "    encode_str = \"\"\n",
    "    count = 1\n",
    "    try:\n",
    "        for i in range(len(line)):\n",
    "            if i == range(len(line)):\n",
    "                    count = 1\n",
    "                    nc_str += str(line[len(line) - 1]) + str(count)\n",
    "            if line[i] == line[i+1]:\n",
    "                count += 1\n",
    "            else:\n",
    "                encode_str += line[i] + str(count)\n",
    "                count = 1\n",
    "    except:\n",
    "        pass\n",
    "    encode_str += line[i] + str(count)\n",
    "\n",
    "    if len(encode_str) >= len(line):\n",
    "        yield line\n",
    "    else:\n",
    "        yield encode_str"
   ]
  },
  {
   "cell_type": "code",
   "execution_count": 2,
   "metadata": {},
   "outputs": [
    {
     "data": {
      "text/plain": [
       "<generator object encode at 0x0000024BF33B2270>"
      ]
     },
     "execution_count": 2,
     "metadata": {},
     "output_type": "execute_result"
    }
   ],
   "source": [
    "s = 'AAABBBBCDDDDDDDDDDEEDDDD ooi'\n",
    "encode(s)\n",
    "# A3B4C1D10E2D4 1o2i1"
   ]
  },
  {
   "cell_type": "code",
   "execution_count": 3,
   "metadata": {},
   "outputs": [
    {
     "data": {
      "text/plain": [
       "<generator object encode at 0x0000024BF33B26D0>"
      ]
     },
     "execution_count": 3,
     "metadata": {},
     "output_type": "execute_result"
    }
   ],
   "source": [
    "v = 'bbccccccdrrrff?????____   hhhh'\n",
    "encode(v)\n",
    "# b2c6d1r3f2?5_4 3h4"
   ]
  },
  {
   "cell_type": "code",
   "execution_count": 4,
   "metadata": {},
   "outputs": [],
   "source": [
    "def decode(li):\n",
    "    from string import punctuation\n",
    "    dec = ''\n",
    "    n = 0\n",
    "    sym = []\n",
    "    sym = list(punctuation)\n",
    "    special = []\n",
    "    for i in range(len(li)):\n",
    "        lett = ''\n",
    "        num = ''\n",
    "        n = 0\n",
    "        \n",
    "        if li[i].isalpha() == True or li[i] == ' ':\n",
    "            lett = li[i]\n",
    "            i += 1\n",
    "        elif li[i] in sym:\n",
    "            for x in range(len(sym)):\n",
    "                if sym[x] == li[i]:\n",
    "                    special = []\n",
    "                    lett = sym[x]\n",
    "                    special.append(lett)\n",
    "                    continue\n",
    "        if li[i].isdigit() == True:\n",
    "            if len(special) != 0:\n",
    "                lett = special[0]\n",
    "                special = []\n",
    "            extra_num = ''\n",
    "            num += li[i]\n",
    "            try:\n",
    "                if li[i+1].isdigit() == True:\n",
    "                    extra_num = li[i+1]\n",
    "                    i += 1 \n",
    "            except:\n",
    "                pass\n",
    "            n = int(num + extra_num)\n",
    "        dec += get_amount_of_letter(lett, n)\n",
    "    yield dec\n",
    "\n",
    "def get_amount_of_letter(s, c):\n",
    "    ss = ''\n",
    "    for i in range(0, c):\n",
    "        ss += s\n",
    "    return ss"
   ]
  },
  {
   "cell_type": "code",
   "execution_count": 5,
   "metadata": {},
   "outputs": [
    {
     "name": "stdout",
     "output_type": "stream",
     "text": [
      "A3B4C1D10E2D4 1o2i1\n",
      "AAABBBBCDDDDDDDDDDEEDDDD ooi\n"
     ]
    }
   ],
   "source": [
    "v = 'A3B4C1D10E2D4 1o2i1'\n",
    "encoded = ''.join(encode(v))\n",
    "print (encoded)\n",
    "decoded = ''.join(decode(encoded))\n",
    "print(decoded)\n",
    "#decode('A3B4C1D10E2D4 1o2o1')\n",
    "# AAABBBBCDDDDDDDDDDEEDDDD ooi"
   ]
  },
  {
   "cell_type": "code",
   "execution_count": 6,
   "metadata": {},
   "outputs": [
    {
     "name": "stdout",
     "output_type": "stream",
     "text": [
      "bbccccccdrrrff?????____   hhhh\n",
      "success\n"
     ]
    }
   ],
   "source": [
    "v = ''.join(decode('b2c6d1r3f2?5_4 3h4'))\n",
    "test_v = 'bbccccccdrrrff?????____   hhhh'\n",
    "print(test_v)\n",
    "if v == test_v:\n",
    "    print('success')"
   ]
  },
  {
   "cell_type": "code",
   "execution_count": 7,
   "metadata": {},
   "outputs": [
    {
     "name": "stdout",
     "output_type": "stream",
     "text": [
      "b2c8d1r3f2?5_4 3h4\n",
      "bbccccccccdrrrff?????____   hhhh\n"
     ]
    }
   ],
   "source": [
    "s = 'bbccccccccdrrrff?????____   hhhh'\n",
    "encoded = ''.join(encode(s))\n",
    "print (encoded)\n",
    "decoded = ''.join(decode(encoded))\n",
    "print (decoded)"
   ]
  },
  {
   "cell_type": "markdown",
   "metadata": {},
   "source": [
    "## Problem 2\n",
    "\n",
    " "
   ]
  },
  {
   "cell_type": "code",
   "execution_count": 13,
   "metadata": {},
   "outputs": [],
   "source": [
    "def merge_k_sorted_lists(lst):\n",
    "    \"\"\"\n",
    "    input: \n",
    "    - lst: a list with lists \n",
    "    \n",
    "    this fuction takes in a list and calculates the length of the input list\n",
    "    and the lengt och the sub-lists inside\n",
    "    \n",
    "    OBS! all sub-lists must be the same length and sorted\n",
    "    \"\"\"\n",
    "    k = len(lst)\n",
    "    if k > 0:\n",
    "        n = len(lst[0])\n",
    "        sort_list = []\n",
    "        res_lst = [0] * (n * k); \n",
    "\n",
    "        L = gen_placeholder(0, k - 1, res_lst, lst, n)\n",
    "        print(L)\n",
    "    else:\n",
    "        print('The input lisr is to short')\n"
   ]
  },
  {
   "cell_type": "code",
   "execution_count": 14,
   "metadata": {},
   "outputs": [],
   "source": [
    "def gen_placeholder(left, right, res_lst, arr, n):\n",
    "    \"\"\"\n",
    "    input:\n",
    "    - left: int\n",
    "    - right: int\n",
    "    - res_lst: list with 0's of the length of arr\n",
    "    - lst: is the list with list\n",
    "    - n: int \n",
    "    \n",
    "    return:\n",
    "    - list: L (contains the sorted and meged list)\n",
    "    The for loop generates a \"shadow\" list with the same length of left + right. \n",
    "    This list is used to merge in the values to and to be sorted.\n",
    "    \"\"\"\n",
    "    if left == right:\n",
    "        for i in range(n):\n",
    "            res_lst[left * n + i] = lst[left][i]\n",
    "        return\n",
    "    \n",
    "    # recursive calls\n",
    "    gen_placeholder(left, (left + right) // 2, res_lst, arr, n)\n",
    "    gen_placeholder((left + right) // 2 + 1, right, res_lst, arr, n)\n",
    "    L = merge(left, right,res_lst, n)\n",
    "    return L"
   ]
  },
  {
   "cell_type": "code",
   "execution_count": 15,
   "metadata": {},
   "outputs": [],
   "source": [
    "def merge(left, right, result, n):\n",
    "    \"\"\"\n",
    "    input:\n",
    "    - left\n",
    "    - right\n",
    "    - result\n",
    "    - n\n",
    "    \n",
    "    return:\n",
    "    - list: result (with sorted values and merged)\n",
    "    \n",
    "    this method takes the list with values and and splits them to\n",
    "    left and right start values. Then we get the length values of left and right.\n",
    "    \n",
    "    after we got the values we move over values to left and right by looping,\n",
    "    using the length-values calculated before. \n",
    "    \"\"\"\n",
    "    # store the initialize start values for \n",
    "    # left and right list (index value)\n",
    "    # and the size for left and right. \n",
    "    # length depends on the length of the input n\n",
    "    left_start = left * n\n",
    "    right_start = ((right + left) // 2+1) *n\n",
    "    \n",
    "    # gives the size of the lists left & right\n",
    "    # times the n (length of each input list)\n",
    "    left_current = ((left + right) // 2 + 1) * n\n",
    "    right_current = (right - (left + right) // 2) * n\n",
    "    \n",
    "    # the temp lists are list with the lengtn of the current left/right\n",
    "    # temp-lists are filled with 0 when generated (as a placeholder)\n",
    "    left_temp = [0] * left_current\n",
    "    right_temp = [0] * right_current\n",
    "\n",
    "    # This loops takes the values of each input left,\n",
    "    # right and fills the placeholder list with the values\n",
    "    # from result, by using the start index calculated\n",
    "    # before in this function\n",
    "    for i in range(left_current):\n",
    "        left_temp[i] = result[left_start + i]\n",
    "    for i in range(right_current):\n",
    "        right_temp[i] = result[right_start + i]\n",
    "    \n",
    "    result = sort(left_current, right_current, result, left_temp, right_temp)\n",
    "    return result"
   ]
  },
  {
   "cell_type": "code",
   "execution_count": 16,
   "metadata": {},
   "outputs": [],
   "source": [
    "def sort(left_current, right_current, result, left_temp, right_temp):\n",
    "    \"\"\"\n",
    "    input_\n",
    "    - left_current\n",
    "    - right_current\n",
    "    - result\n",
    "    - left_temp\n",
    "    - right_temp\n",
    "    \n",
    "    return: result\n",
    "    \n",
    "    this function sort() takes in teh input parameterers. then it compares left value by index\n",
    "    agains right value by index and sorts the list. the sorted value appends into the list\n",
    "    results.\n",
    "    \"\"\"\n",
    "    i = 0 # index for left_current\n",
    "    j = 0 # index for right_current\n",
    "    k = 0 # index for result\n",
    "    \n",
    "    # This loops are sorting left and right and puts the \n",
    "    # correct sorted value to the 'shadow' list\n",
    "    while i < left_current and j < right_current:\n",
    "        if left_temp[i] < right_temp[j]:\n",
    "            result[k] = left_temp[i]\n",
    "            i += 1\n",
    "        else:\n",
    "            result[k] = right_temp[j]\n",
    "            j += 1\n",
    "        k += 1\n",
    "    \n",
    "    # if there still are any values remaining in \n",
    "    # left list, add them to result list\n",
    "    while i < left_current:\n",
    "        result[k] = left_temp[i]\n",
    "        i += 1\n",
    "        k += 1\n",
    "    \n",
    "    # if there still are any values remaining in \n",
    "    # right list, add them to result list\n",
    "    while j < right_current:\n",
    "        result[k] = right_temp[j]\n",
    "        j += 1\n",
    "        k += 1\n",
    "    \n",
    "    return result"
   ]
  },
  {
   "cell_type": "code",
   "execution_count": 17,
   "metadata": {},
   "outputs": [
    {
     "name": "stdout",
     "output_type": "stream",
     "text": [
      "[1, 3, 7, 15, 23, 40, 100, 211, 358, 525, 834, 5223]\n"
     ]
    }
   ],
   "source": [
    "lst = [[ 3, 7, 15, 100 ],[ 1, 211, 358, 834 ],[ 23, 40, 525, 5223 ]]\n",
    "merge_k_sorted_lists(lst)"
   ]
  },
  {
   "cell_type": "markdown",
   "metadata": {},
   "source": [
    "## Problem 3"
   ]
  },
  {
   "cell_type": "markdown",
   "metadata": {},
   "source": [
    "### Time complexity\n",
    "\n",
    "each list has length n and number of lists are k.\n",
    "\n",
    "This gives a time complexity of $n * k$ (number of elements)\n",
    "\n",
    "Since its designed with a devide and conquer mindset, gives the time complexity $log_2(nk)$\n",
    "\n",
    "This results in a time complexity of $O(nk*log_2(nk))$"
   ]
  },
  {
   "cell_type": "markdown",
   "metadata": {},
   "source": [
    "### Space complexity\n",
    "\n",
    "since each list is n long and there are k lists,\n",
    "\n",
    "the space complexity is then $n* k$ which results in $O(nk)$"
   ]
  }
 ],
 "metadata": {
  "kernelspec": {
   "display_name": "Python 3",
   "language": "python",
   "name": "python3"
  },
  "language_info": {
   "codemirror_mode": {
    "name": "ipython",
    "version": 3
   },
   "file_extension": ".py",
   "mimetype": "text/x-python",
   "name": "python",
   "nbconvert_exporter": "python",
   "pygments_lexer": "ipython3",
   "version": "3.7.6"
  }
 },
 "nbformat": 4,
 "nbformat_minor": 4
}
