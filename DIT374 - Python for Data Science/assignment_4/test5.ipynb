{
 "cells": [
  {
   "cell_type": "code",
   "execution_count": 4,
   "metadata": {},
   "outputs": [
    {
     "ename": "NameError",
     "evalue": "name 'divide' is not defined",
     "output_type": "error",
     "traceback": [
      "\u001b[1;31m---------------------------------------------------------------------------\u001b[0m",
      "\u001b[1;31mNameError\u001b[0m                                 Traceback (most recent call last)",
      "\u001b[1;32m<ipython-input-4-692d188bf2d7>\u001b[0m in \u001b[0;36m<module>\u001b[1;34m\u001b[0m\n\u001b[0;32m      3\u001b[0m \u001b[0mk\u001b[0m \u001b[1;33m=\u001b[0m \u001b[0mlen\u001b[0m\u001b[1;33m(\u001b[0m\u001b[0marr\u001b[0m\u001b[1;33m)\u001b[0m\u001b[1;33m;\u001b[0m \u001b[1;31m# Number of arrays\u001b[0m\u001b[1;33m\u001b[0m\u001b[1;33m\u001b[0m\u001b[0m\n\u001b[0;32m      4\u001b[0m \u001b[0moutput\u001b[0m \u001b[1;33m=\u001b[0m \u001b[1;33m[\u001b[0m\u001b[1;36m0\u001b[0m\u001b[1;33m]\u001b[0m \u001b[1;33m*\u001b[0m \u001b[1;33m(\u001b[0m\u001b[0mn\u001b[0m \u001b[1;33m*\u001b[0m \u001b[0mk\u001b[0m\u001b[1;33m)\u001b[0m\u001b[1;33m;\u001b[0m \u001b[1;31m# Output array\u001b[0m\u001b[1;33m\u001b[0m\u001b[1;33m\u001b[0m\u001b[0m\n\u001b[1;32m----> 5\u001b[1;33m \u001b[0mdivide\u001b[0m\u001b[1;33m(\u001b[0m\u001b[1;36m0\u001b[0m\u001b[1;33m,\u001b[0m \u001b[0mk\u001b[0m \u001b[1;33m-\u001b[0m \u001b[1;36m1\u001b[0m\u001b[1;33m,\u001b[0m \u001b[0moutput\u001b[0m\u001b[1;33m,\u001b[0m \u001b[0marr\u001b[0m\u001b[1;33m)\u001b[0m\u001b[1;33m\u001b[0m\u001b[1;33m\u001b[0m\u001b[0m\n\u001b[0m\u001b[0;32m      6\u001b[0m \u001b[1;33m\u001b[0m\u001b[0m\n\u001b[0;32m      7\u001b[0m \u001b[1;32mfor\u001b[0m \u001b[0mi\u001b[0m \u001b[1;32min\u001b[0m \u001b[0mrange\u001b[0m\u001b[1;33m(\u001b[0m\u001b[0mn\u001b[0m \u001b[1;33m*\u001b[0m \u001b[0mk\u001b[0m\u001b[1;33m)\u001b[0m \u001b[1;33m:\u001b[0m\u001b[1;33m\u001b[0m\u001b[1;33m\u001b[0m\u001b[0m\n",
      "\u001b[1;31mNameError\u001b[0m: name 'divide' is not defined"
     ]
    }
   ],
   "source": [
    "n = 0\n",
    "arr = [[ 4, 7, 15, 1800 ],[ 2, 3, 9, 17 ],[ 1, 40, 12, 19 ]]; # The array must be in sorted order first in each list member!\n",
    "k = len(arr); # Number of arrays\n",
    "output = [0] * (n * k); # Output array\n",
    "divide(0, k - 1, output, arr)\n",
    "\n",
    "for i in range(n * k) :\n",
    "    print(output[i], end = \" \")"
   ]
  },
  {
   "cell_type": "code",
   "execution_count": 54,
   "metadata": {},
   "outputs": [],
   "source": [
    "def divide(l, r, output, arr) :\n",
    "     \n",
    "    if (l == r) :\n",
    "        for i in range(n) :\n",
    "            output[l * n + i] = arr[l][i];\n",
    "        return;\n",
    "     \n",
    "    divide(l, (l + r) // 2, output, arr); # to sort left half\n",
    "    divide((l + r) // 2 + 1, r, output, arr); # to sort right half\n",
    "    mergesort(l, r, output); # merge the left and right half"
   ]
  },
  {
   "cell_type": "markdown",
   "metadata": {},
   "source": [
    "TODO:\n",
    "- function with recusrion deviding\n",
    "- function with merge arrays\n",
    "- sorting"
   ]
  },
  {
   "cell_type": "code",
   "execution_count": 109,
   "metadata": {},
   "outputs": [],
   "source": [
    "def splitter(left, right, res_arr, arr):\n",
    "    if left == right:\n",
    "        for i in range(n):\n",
    "            print('running')\n",
    "            res_arr[left * n + i] = arr[left][i]\n",
    "        return\n",
    "    else:\n",
    "        print('Error')\n",
    "        \n",
    "    splitter(left, (left + right) // 2, res_arr, arr)\n",
    "    splitter((left + right) // 2 + 1, right, res_arr, arr)\n",
    "    A = merge(left, right,res_arr)\n",
    "    return A\n",
    "    "
   ]
  },
  {
   "cell_type": "code",
   "execution_count": 110,
   "metadata": {},
   "outputs": [],
   "source": [
    "def merge(l, r, output):\n",
    "    # to store the starting point of left and right array\n",
    "    l_in = l * n ;\n",
    "    r_in = ((l + r) // 2 + 1) * n;\n",
    " \n",
    "    # to store the size of left and right array\n",
    "    l_c = ((l + r) // 2 - l + 1) * n;\n",
    "    r_c = (r - (l + r) // 2) * n;\n",
    " \n",
    "    # array to temporarily store left and right array\n",
    "    l_arr = [0] * l_c; r_arr = [0] * r_c;\n",
    " \n",
    "    # storing data in left array\n",
    "    for i in range(l_c) :\n",
    "        l_arr[i] = output[l_in + i];\n",
    " \n",
    "    # storing data in right array\n",
    "    for i in range(r_c) :\n",
    "        r_arr[i] = output[r_in + i];\n",
    " \n",
    "    # to store the current index of temporary left and right array\n",
    "    l_curr = 0 ; r_curr = 0;\n",
    " \n",
    "    # to store the current index for output array\n",
    "    in1 = l_in;\n",
    " \n",
    "    # two pointer merge for two sorted arrays\n",
    "    while (l_curr + r_curr < l_c + r_c) :\n",
    "        if (r_curr == r_c or (l_curr != l_c and\n",
    "            l_arr[l_curr] < r_arr[r_curr])) :\n",
    "            output[in1] = l_arr[l_curr];\n",
    "            l_curr += 1; in1 += 1;\n",
    "        else :\n",
    "            output[in1] = r_arr[r_curr];\n",
    "            r_curr += 1; in1 += 1;\n",
    "    print(output)\n",
    "    return output\n",
    "\n",
    "\n",
    "\n",
    "\n",
    "def display(arr):\n",
    "    for i in range(len(arr)):\n",
    "        print(arr[i], end=\" \")\n",
    "    print()"
   ]
  },
  {
   "cell_type": "code",
   "execution_count": 111,
   "metadata": {},
   "outputs": [],
   "source": [
    "def sort(lst):\n",
    "    if len(lst)>1:\n",
    "        mid = len(lst)//2\n",
    "        left = lst[:mid]\n",
    "        right = lst[mid:]\n",
    "        print('lst mergesort',lst)\n",
    "        sort(left)\n",
    "        sort(right)\n",
    "\n",
    "        i=0\n",
    "        j=0\n",
    "        k=0\n",
    "        while i < len(left) and j < len(right):\n",
    "            if left[i] <= right[j]:\n",
    "                lst[k]=left[i]\n",
    "                i=i+1\n",
    "            else:\n",
    "                lst[k]=right[j]\n",
    "                j=j+1\n",
    "            k=k+1\n",
    "\n",
    "        while i < len(left):\n",
    "            lst[k]=left[i]\n",
    "            i=i+1\n",
    "            k=k+1\n",
    "\n",
    "        while j < len(right):\n",
    "            lst[k]=right[j]\n",
    "            j=j+1\n",
    "            k=k+1\n",
    "    return lst"
   ]
  },
  {
   "cell_type": "code",
   "execution_count": null,
   "metadata": {},
   "outputs": [],
   "source": []
  },
  {
   "cell_type": "code",
   "execution_count": 1,
   "metadata": {},
   "outputs": [
    {
     "ename": "NameError",
     "evalue": "name 'arr' is not defined",
     "output_type": "error",
     "traceback": [
      "\u001b[1;31m---------------------------------------------------------------------------\u001b[0m",
      "\u001b[1;31mNameError\u001b[0m                                 Traceback (most recent call last)",
      "\u001b[1;32m<ipython-input-1-58c6488a9b21>\u001b[0m in \u001b[0;36m<module>\u001b[1;34m\u001b[0m\n\u001b[0;32m      3\u001b[0m \u001b[0mlst\u001b[0m \u001b[1;33m=\u001b[0m \u001b[1;33m[\u001b[0m\u001b[1;33m[\u001b[0m \u001b[1;36m4\u001b[0m\u001b[1;33m,\u001b[0m \u001b[1;36m7\u001b[0m\u001b[1;33m,\u001b[0m \u001b[1;36m15\u001b[0m\u001b[1;33m,\u001b[0m \u001b[1;36m1800\u001b[0m \u001b[1;33m]\u001b[0m\u001b[1;33m,\u001b[0m\u001b[1;33m[\u001b[0m \u001b[1;36m2\u001b[0m\u001b[1;33m,\u001b[0m \u001b[1;36m1\u001b[0m\u001b[1;33m,\u001b[0m \u001b[1;36m9\u001b[0m\u001b[1;33m,\u001b[0m \u001b[1;36m17\u001b[0m \u001b[1;33m]\u001b[0m\u001b[1;33m,\u001b[0m\u001b[1;33m[\u001b[0m \u001b[1;36m1\u001b[0m\u001b[1;33m,\u001b[0m \u001b[1;36m40\u001b[0m\u001b[1;33m,\u001b[0m \u001b[1;36m12\u001b[0m\u001b[1;33m,\u001b[0m \u001b[1;36m19\u001b[0m \u001b[1;33m]\u001b[0m\u001b[1;33m]\u001b[0m\u001b[1;33m;\u001b[0m\u001b[1;33m\u001b[0m\u001b[1;33m\u001b[0m\u001b[0m\n\u001b[0;32m      4\u001b[0m \u001b[1;33m\u001b[0m\u001b[0m\n\u001b[1;32m----> 5\u001b[1;33m \u001b[0mk\u001b[0m \u001b[1;33m=\u001b[0m \u001b[0mlen\u001b[0m\u001b[1;33m(\u001b[0m\u001b[0marr\u001b[0m\u001b[1;33m)\u001b[0m\u001b[1;33m;\u001b[0m\u001b[1;33m\u001b[0m\u001b[1;33m\u001b[0m\u001b[0m\n\u001b[0m\u001b[0;32m      6\u001b[0m \u001b[0mres_lst\u001b[0m \u001b[1;33m=\u001b[0m \u001b[1;33m[\u001b[0m\u001b[1;36m0\u001b[0m\u001b[1;33m]\u001b[0m \u001b[1;33m*\u001b[0m \u001b[1;33m(\u001b[0m\u001b[0mn\u001b[0m \u001b[1;33m*\u001b[0m \u001b[0mk\u001b[0m\u001b[1;33m)\u001b[0m\u001b[1;33m;\u001b[0m\u001b[1;33m\u001b[0m\u001b[1;33m\u001b[0m\u001b[0m\n\u001b[0;32m      7\u001b[0m \u001b[0mprint\u001b[0m\u001b[1;33m(\u001b[0m\u001b[1;34m'running - mrege_k'\u001b[0m\u001b[1;33m)\u001b[0m\u001b[1;33m\u001b[0m\u001b[1;33m\u001b[0m\u001b[0m\n",
      "\u001b[1;31mNameError\u001b[0m: name 'arr' is not defined"
     ]
    }
   ],
   "source": [
    "n = 4\n",
    "    \n",
    "lst = [[ 4, 7, 15, 1800 ],[ 2, 1, 9, 17 ],[ 1, 40, 12, 19 ]]; \n",
    "    \n",
    "k = len(arr); \n",
    "res_lst = [0] * (n * k); \n",
    "print('running - mrege_k')\n",
    "A = splitter(0, k - 1, res_lst, lst);\n",
    "sort(A)\n",
    "\n",
    "for i in range(n * k) :\n",
    "    print(res_lst[i], end = \" \");"
   ]
  },
  {
   "cell_type": "code",
   "execution_count": 99,
   "metadata": {},
   "outputs": [],
   "source": [
    "def merge_k_sorted_lists():\n",
    "    n = 4\n",
    "    \n",
    "    lst = [[ 4, 7, 15, 1800 ],[ 2, 3, 9, 17 ],[ 1, 40, 12, 19 ]]; \n",
    "    \n",
    "    k = len(arr); \n",
    "    res_lst = [0] * (n * k); \n",
    "    print('running - mrege_k')\n",
    "    splitter(0, k - 1, res_lst, lst);\n",
    "\n",
    "    for i in range(n * k) :\n",
    "        print(res_lst[i], end = \" \");"
   ]
  },
  {
   "cell_type": "code",
   "execution_count": null,
   "metadata": {},
   "outputs": [],
   "source": []
  }
 ],
 "metadata": {
  "kernelspec": {
   "display_name": "Python 3",
   "language": "python",
   "name": "python3"
  },
  "language_info": {
   "codemirror_mode": {
    "name": "ipython",
    "version": 3
   },
   "file_extension": ".py",
   "mimetype": "text/x-python",
   "name": "python",
   "nbconvert_exporter": "python",
   "pygments_lexer": "ipython3",
   "version": "3.9.2"
  }
 },
 "nbformat": 4,
 "nbformat_minor": 4
}
