{
 "cells": [
  {
   "cell_type": "code",
   "execution_count": 94,
   "metadata": {},
   "outputs": [],
   "source": [
    "def encode(line):\n",
    "    enc_str = \"\"\n",
    "    count = 1\n",
    "    index = 0\n",
    "    try:\n",
    "        while index < range(len(line)):\n",
    "            if i == range(len(line)):\n",
    "                count = 1\n",
    "                nc_str += line[len(line)] + str(count)\n",
    "                print(line[len(line)])\n",
    "            if line[index] == line[index+1]:\n",
    "                count += 1\n",
    "            else:\n",
    "                enc_str += line[index] + str(count)\n",
    "                count = 1\n",
    "            index += 1\n",
    "        enc_str += line[index] + str(count)\n",
    "    except:\n",
    "        pass\n",
    "\n",
    "    if len(enc_str) >= len(line):\n",
    "        return line\n",
    "    else:\n",
    "        return enc_str"
   ]
  },
  {
   "cell_type": "code",
   "execution_count": 93,
   "metadata": {},
   "outputs": [
    {
     "name": "stdout",
     "output_type": "stream",
     "text": [
      "i\n",
      "i\n",
      "i\n",
      "i\n",
      "i\n",
      "i\n",
      "i\n",
      "i\n",
      "i\n",
      "i\n",
      "i\n",
      "i\n",
      "i\n",
      "i\n",
      "i\n",
      "i\n",
      "i\n",
      "i\n",
      "i\n",
      "i\n",
      "i\n",
      "i\n",
      "i\n",
      "i\n",
      "i\n",
      "i\n",
      "i\n",
      "i\n"
     ]
    },
    {
     "data": {
      "text/plain": [
       "'A3B4C1D10E2D4 1o2'"
      ]
     },
     "execution_count": 93,
     "metadata": {},
     "output_type": "execute_result"
    }
   ],
   "source": [
    "def encode(line):\n",
    "    enc_str = \"\"\n",
    "    count = 1\n",
    "    try:\n",
    "        for i in range(len(line)+1):\n",
    "            print(line[27])\n",
    "            if i == len(line):\n",
    "                count = 1\n",
    "                nc_str += line[-1] + str(count)\n",
    "            if line[i] == line[i+1]:\n",
    "                count += 1\n",
    "            else:\n",
    "                enc_str += line[i] + str(count)\n",
    "                count = 1\n",
    "        enc_str += line[i] + str(count)\n",
    "    except:\n",
    "        pass\n",
    "\n",
    "    if len(enc_str) >= len(line):\n",
    "        return line\n",
    "    else:\n",
    "        return enc_str\n",
    "\n",
    "s = 'AAABBBBCDDDDDDDDDDEEDDDD ooi'\n",
    "encode(s)\n",
    "# A3B4C1D10E2D4 1o2i1"
   ]
  },
  {
   "cell_type": "code",
   "execution_count": null,
   "metadata": {},
   "outputs": [],
   "source": [
    "        \"\"\"for x in range(len(symbol)):\n",
    "            if str(symbol[x]) == str(li[i]):\n",
    "                print(symbol[x])\n",
    "                lett += str(symbol[x])\n",
    "                print(lett)\n",
    "            else:\n",
    "                continue\n",
    "                \n",
    "                (regex.search(li[i]) == True)\n",
    "                \"\"\"\n",
    "\n",
    "def check_symbol(s):\n",
    "    sym = ''\n",
    "    for i in range(len(symbol)):\n",
    "        print(symbol[i])\n",
    "        if s == symbol[i]:\n",
    "            sym = str(symbol[i])\n",
    "            return sym"
   ]
  },
  {
   "cell_type": "code",
   "execution_count": 12,
   "metadata": {},
   "outputs": [
    {
     "name": "stdout",
     "output_type": "stream",
     "text": [
      "['A', '3', 'B', '4', 'C', '1', 'D', '1', '0', 'E', '2', 'D', '4', ' ', '1', 'o', '2', 'i', '1']\n",
      "19\n"
     ]
    }
   ],
   "source": [
    "def cc(s):\n",
    "    li = []\n",
    "    for i in range(len(s)):\n",
    "        li.append(s[i])\n",
    "    return li\n",
    "\n",
    "print(cc('A3B4C1D10E2D4 1o2i1'))\n",
    "print(len(cc('A3B4C1D10E2D4 1o2i1')))\n",
    "\n",
    "def sss():\n",
    "    li = cc('A3B4C1D10E2D4 1o2i1')\n",
    "    i = 0\n",
    "    while i < len(li):\n",
    "        conv = ''\n",
    "        temp = ''\n",
    "        num = []\n",
    "        dec = ''\n",
    "        if li[i].isalpha() == True or li[i] == ' ':\n",
    "                temp = li[i]\n",
    "        if li[i].isnumeric() == True:\n",
    "            j = i\n",
    "            while j < len(li):\n",
    "                if li[j].isnumeric() == True:\n",
    "                    conv += li[j]\n",
    "                else:\n",
    "                    break\n",
    "                j += 1\n",
    "            dec += dec_seq(temp, conv)\n",
    "            i = j\n",
    "        i += 1\n",
    "    return dec\n",
    "\n",
    "def dec_seq(let, num):\n",
    "    counter = int(num)\n",
    "    seq = ''\n",
    "    i = 0\n",
    "    while i < counter:\n",
    "        seq += let\n",
    "        i += 1\n",
    "    return seq    "
   ]
  },
  {
   "cell_type": "code",
   "execution_count": 14,
   "metadata": {},
   "outputs": [
    {
     "name": "stdout",
     "output_type": "stream",
     "text": [
      "\n"
     ]
    }
   ],
   "source": [
    "#print(cc('A3B4C1D10E2D4 1o2i1'))\n",
    "print(sss())\n",
    "#print('hello')"
   ]
  },
  {
   "cell_type": "code",
   "execution_count": 3,
   "metadata": {},
   "outputs": [],
   "source": [
    "def dict_ss(s):\n",
    "    li = []\n",
    "    for i in range(len(s)):\n",
    "        li += (s[i])\n",
    "    return li\n"
   ]
  },
  {
   "cell_type": "code",
   "execution_count": 4,
   "metadata": {},
   "outputs": [
    {
     "name": "stdout",
     "output_type": "stream",
     "text": [
      "['A', '3', 'B', '4', 'C', '1', 'D', '1', '0', 'E', '2', 'D', '4', ' ', '1', 'o', '2', 'i', '1']\n",
      "19\n"
     ]
    }
   ],
   "source": [
    "print(dict_ss('A3B4C1D10E2D4 1o2i1'))\n",
    "print(len(dict_ss('A3B4C1D10E2D4 1o2i1')))"
   ]
  },
  {
   "cell_type": "code",
   "execution_count": 80,
   "metadata": {},
   "outputs": [],
   "source": [
    "def te(li):\n",
    "    cut_w = ''\n",
    "    n = 0\n",
    "    for i in range(len(li)):\n",
    "        #print(test[i])\n",
    "        lett = ''\n",
    "        num = ''\n",
    "        n = 0\n",
    "        if li[i].isalpha() == True or li[i] == ' ':\n",
    "            lett += li[i]\n",
    "            i += 1\n",
    "        if li[i].isdigit() == True:\n",
    "            extra_num = ''\n",
    "            exn = 0\n",
    "            num += li[i]\n",
    "            try:\n",
    "                if li[i+1].isdigit() == True:\n",
    "                    extra_num = li[i+1]\n",
    "                    i += 1\n",
    "                \"\"\"else:\n",
    "                    n += int(num)\n",
    "                      \n",
    "                    i += 1\"\"\"  \n",
    "            except:\n",
    "                print('out of index')\n",
    "            \n",
    "            n = int(num + extra_num)\n",
    "            #print(n)\n",
    "        cut_w += printter(lett, n)\n",
    "        \n",
    "    return cut_w\n",
    "\n",
    "def printter(s, c):\n",
    "    ss = ''\n",
    "    for i in range(0, c):\n",
    "        ss += s\n",
    "    return ss"
   ]
  },
  {
   "cell_type": "code",
   "execution_count": 81,
   "metadata": {},
   "outputs": [
    {
     "name": "stdout",
     "output_type": "stream",
     "text": [
      "out of index\n",
      "out of index\n"
     ]
    },
    {
     "data": {
      "text/plain": [
       "'AAABBBBCDDDDDDDDDDEEDDDD ooi'"
      ]
     },
     "execution_count": 81,
     "metadata": {},
     "output_type": "execute_result"
    }
   ],
   "source": [
    "test = dict_ss('A3B4C1D10E2D4 1o2i1')\n",
    "te(test)"
   ]
  },
  {
   "cell_type": "code",
   "execution_count": null,
   "metadata": {},
   "outputs": [],
   "source": [
    "#AAABBBBCDDDDDDDDDDEEDDDD ooi"
   ]
  },
  {
   "cell_type": "code",
   "execution_count": 72,
   "metadata": {},
   "outputs": [
    {
     "ename": "NameError",
     "evalue": "name 'li' is not defined",
     "output_type": "error",
     "traceback": [
      "\u001b[1;31m---------------------------------------------------------------------------\u001b[0m",
      "\u001b[1;31mNameError\u001b[0m                                 Traceback (most recent call last)",
      "\u001b[1;32m<ipython-input-72-c1ee9ba963e2>\u001b[0m in \u001b[0;36m<module>\u001b[1;34m\u001b[0m\n\u001b[1;32m----> 1\u001b[1;33m \u001b[1;32mif\u001b[0m \u001b[1;32mnot\u001b[0m \u001b[0mli\u001b[0m\u001b[1;33m[\u001b[0m\u001b[0mi\u001b[0m\u001b[1;33m+\u001b[0m\u001b[1;36m1\u001b[0m\u001b[1;33m]\u001b[0m\u001b[1;33m.\u001b[0m\u001b[0misalpha\u001b[0m\u001b[1;33m(\u001b[0m\u001b[1;33m)\u001b[0m \u001b[1;32mor\u001b[0m \u001b[0mextra_num\u001b[0m \u001b[1;33m!=\u001b[0m \u001b[1;34m''\u001b[0m\u001b[1;33m:\u001b[0m\u001b[1;33m\u001b[0m\u001b[1;33m\u001b[0m\u001b[0m\n\u001b[0m\u001b[0;32m      2\u001b[0m                     \u001b[0mn\u001b[0m \u001b[1;33m=\u001b[0m \u001b[0mint\u001b[0m\u001b[1;33m(\u001b[0m\u001b[0mnum\u001b[0m\u001b[1;33m)\u001b[0m \u001b[1;33m+\u001b[0m \u001b[0mint\u001b[0m\u001b[1;33m(\u001b[0m\u001b[0mextra_num\u001b[0m\u001b[1;33m)\u001b[0m\u001b[1;33m\u001b[0m\u001b[1;33m\u001b[0m\u001b[0m\n\u001b[0;32m      3\u001b[0m                     \u001b[1;31m#print(n)\u001b[0m\u001b[1;33m\u001b[0m\u001b[1;33m\u001b[0m\u001b[1;33m\u001b[0m\u001b[0m\n",
      "\u001b[1;31mNameError\u001b[0m: name 'li' is not defined"
     ]
    }
   ],
   "source": [
    "if not li[i+1].isalpha() or extra_num != '':\n",
    "                    n = int(num) + int(extra_num)\n",
    "                    #print(n)"
   ]
  },
  {
   "cell_type": "code",
   "execution_count": 79,
   "metadata": {},
   "outputs": [
    {
     "name": "stdout",
     "output_type": "stream",
     "text": [
      "3\n",
      "3\n",
      "4\n",
      "4\n",
      "1\n",
      "1\n",
      "10\n",
      "10\n",
      "0\n",
      "2\n",
      "2\n",
      "4\n",
      "4\n",
      "1\n",
      "1\n",
      "2\n",
      "2\n",
      "out of index\n",
      "1\n",
      "out of index\n",
      "1\n",
      "correct\n"
     ]
    }
   ],
   "source": [
    "if 'AAABBBBCDDDDDDDDDDEEDDDD ooi' == te(test):\n",
    "    print('correct')\n",
    "else:\n",
    "    print('something wet wrong')"
   ]
  },
  {
   "cell_type": "code",
   "execution_count": 82,
   "metadata": {},
   "outputs": [],
   "source": [
    "def decode(s):\n",
    "        \"\"\"Decodes a single string to a list of strings.\n",
    "\n",
    "        :type s: str\n",
    "        :rtype: List[str]\n",
    "        \"\"\"\n",
    "        i = 0\n",
    "        strs = []\n",
    "        while i < len(s):\n",
    "            l = int(s[i:i+8], 16)\n",
    "            strs.append(s[i+8:i+8+l])\n",
    "            i += 8+l\n",
    "        return strs"
   ]
  },
  {
   "cell_type": "code",
   "execution_count": 83,
   "metadata": {},
   "outputs": [],
   "source": [
    "def decode(text):\n",
    "    dec_list = str_to_list(text)\n",
    "    print(dec_list)\n",
    "    return dec_list"
   ]
  },
  {
   "cell_type": "code",
   "execution_count": 84,
   "metadata": {},
   "outputs": [],
   "source": [
    "def str_to_list(text):\n",
    "    li = list(text)\n",
    "    dec_str = ''\n",
    "    char_list = []\n",
    "    int_list = []\n",
    "    for i in range(len(li)):\n",
    "        if li[i].isdigit() == True:\n",
    "            temp = li[i - 1]\n",
    "            count = int(li[i].isdigit())\n",
    "            c = 1\n",
    "            while c <= count:\n",
    "                dec_str += temp\n",
    "        else:\n",
    "            pass\n",
    "    return dec_str"
   ]
  },
  {
   "cell_type": "code",
   "execution_count": 85,
   "metadata": {},
   "outputs": [
    {
     "ename": "KeyboardInterrupt",
     "evalue": "",
     "output_type": "error",
     "traceback": [
      "\u001b[1;31m---------------------------------------------------------------------------\u001b[0m",
      "\u001b[1;31mKeyboardInterrupt\u001b[0m                         Traceback (most recent call last)",
      "\u001b[1;32m<ipython-input-85-75dc590fef85>\u001b[0m in \u001b[0;36m<module>\u001b[1;34m\u001b[0m\n\u001b[1;32m----> 1\u001b[1;33m \u001b[0mstr_to_list\u001b[0m\u001b[1;33m(\u001b[0m\u001b[1;34m'A3B4C1D10E2D4 1o2i1'\u001b[0m\u001b[1;33m)\u001b[0m\u001b[1;33m\u001b[0m\u001b[1;33m\u001b[0m\u001b[0m\n\u001b[0m",
      "\u001b[1;32m<ipython-input-84-afbb655db7df>\u001b[0m in \u001b[0;36mstr_to_list\u001b[1;34m(text)\u001b[0m\n\u001b[0;32m     10\u001b[0m             \u001b[0mc\u001b[0m \u001b[1;33m=\u001b[0m \u001b[1;36m1\u001b[0m\u001b[1;33m\u001b[0m\u001b[1;33m\u001b[0m\u001b[0m\n\u001b[0;32m     11\u001b[0m             \u001b[1;32mwhile\u001b[0m \u001b[0mc\u001b[0m \u001b[1;33m<=\u001b[0m \u001b[0mcount\u001b[0m\u001b[1;33m:\u001b[0m\u001b[1;33m\u001b[0m\u001b[1;33m\u001b[0m\u001b[0m\n\u001b[1;32m---> 12\u001b[1;33m                 \u001b[0mdec_str\u001b[0m \u001b[1;33m+=\u001b[0m \u001b[0mtemp\u001b[0m\u001b[1;33m\u001b[0m\u001b[1;33m\u001b[0m\u001b[0m\n\u001b[0m\u001b[0;32m     13\u001b[0m         \u001b[1;32melse\u001b[0m\u001b[1;33m:\u001b[0m\u001b[1;33m\u001b[0m\u001b[1;33m\u001b[0m\u001b[0m\n\u001b[0;32m     14\u001b[0m             \u001b[1;32mpass\u001b[0m\u001b[1;33m\u001b[0m\u001b[1;33m\u001b[0m\u001b[0m\n",
      "\u001b[1;31mKeyboardInterrupt\u001b[0m: "
     ]
    }
   ],
   "source": [
    "str_to_list('A3B4C1D10E2D4 1o2i1')"
   ]
  },
  {
   "cell_type": "code",
   "execution_count": null,
   "metadata": {},
   "outputs": [],
   "source": []
  }
 ],
 "metadata": {
  "kernelspec": {
   "display_name": "Python 3",
   "language": "python",
   "name": "python3"
  },
  "language_info": {
   "codemirror_mode": {
    "name": "ipython",
    "version": 3
   },
   "file_extension": ".py",
   "mimetype": "text/x-python",
   "name": "python",
   "nbconvert_exporter": "python",
   "pygments_lexer": "ipython3",
   "version": "3.9.2"
  }
 },
 "nbformat": 4,
 "nbformat_minor": 4
}
