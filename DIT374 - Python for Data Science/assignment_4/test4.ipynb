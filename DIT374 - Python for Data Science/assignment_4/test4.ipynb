{
 "cells": [
  {
   "cell_type": "code",
   "execution_count": null,
   "metadata": {},
   "outputs": [],
   "source": []
  },
  {
   "cell_type": "code",
   "execution_count": null,
   "metadata": {},
   "outputs": [],
   "source": []
  },
  {
   "cell_type": "code",
   "execution_count": null,
   "metadata": {},
   "outputs": [],
   "source": []
  },
  {
   "cell_type": "code",
   "execution_count": null,
   "metadata": {},
   "outputs": [],
   "source": []
  },
  {
   "cell_type": "code",
   "execution_count": null,
   "metadata": {},
   "outputs": [],
   "source": []
  },
  {
   "cell_type": "code",
   "execution_count": null,
   "metadata": {},
   "outputs": [],
   "source": []
  },
  {
   "cell_type": "code",
   "execution_count": null,
   "metadata": {},
   "outputs": [],
   "source": []
  },
  {
   "cell_type": "code",
   "execution_count": null,
   "metadata": {},
   "outputs": [],
   "source": []
  },
  {
   "cell_type": "markdown",
   "metadata": {},
   "source": [
    "function merge_sort(list m)\n",
    "    // Base case. A list of zero or one elements is sorted, by definition.\n",
    "    if length of m ≤ 1 then\n",
    "        return m\n",
    "\n",
    "    // Recursive case. First, divide the list into equal-sized sublists\n",
    "    // consisting of the even and odd-indexed elements.\n",
    "    var left := empty list\n",
    "    var right := empty list\n",
    "    for each x with index i in m do\n",
    "        if i is odd then\n",
    "            add x to left\n",
    "        else\n",
    "            add x to right\n",
    "\n",
    "    // Recursively sort both sublists.\n",
    "    left := merge_sort(left)\n",
    "    right := merge_sort(right)\n",
    "\n",
    "    // Then merge the now-sorted sublists.\n",
    "    return merge(left, right)\n",
    "    \n",
    "  ---\n",
    "  \n",
    "  function merge(left, right)\n",
    "    var result := empty list\n",
    "\n",
    "    while left is not empty and right is not empty do\n",
    "        if first(left) ≤ first(right) then\n",
    "            append first(left) to result\n",
    "            left := rest(left)\n",
    "        else\n",
    "            append first(right) to result\n",
    "            right := rest(right)\n",
    "\n",
    "    // Either left or right may have elements left; consume them.\n",
    "    // (Only one of the following loops will actually be entered.)\n",
    "    while left is not empty do\n",
    "        append first(left) to result\n",
    "        left := rest(left)\n",
    "    while right is not empty do\n",
    "        append first(right) to result\n",
    "        right := rest(right)\n",
    "    return result\n",
    "   "
   ]
  },
  {
   "cell_type": "code",
   "execution_count": 1,
   "metadata": {},
   "outputs": [],
   "source": [
    "def merge_sort(lst):\n",
    "    if len(lst) >= 1:\n",
    "        mid = len(lst)//2\n",
    "        left = lst[:mid]\n",
    "        right = lst[mid:]\n",
    "        #print(left, right)\n",
    "        left = merge_sort(left)\n",
    "        right = merge_sort(right)\n",
    "        \n",
    "        return merge(left, right)\n",
    "    \n",
    "def merge(left, right):\n",
    "    i = 0\n",
    "    j = 0\n",
    "    k = 0\n",
    "    result = []\n",
    "    while len(left) >= 1 and len(right) >= 1:\n",
    "        if left[i] <= right[j]:\n",
    "            result += left[i]\n",
    "        else:\n",
    "            result += right[j]\n",
    "        k += 1\n",
    "    \n",
    "    while i < len(left):\n",
    "            result[k]=left[i]\n",
    "            i=i+1\n",
    "            k=k+1 \n",
    "    while j < len(right):\n",
    "            result[k]=right[j]\n",
    "            j=j+1\n",
    "            k=k+1 \n",
    "    return result\n",
    "\n",
    "def merge_k_sorted_lists(lst):\n",
    "    li = []\n",
    "    final = []\n",
    "    for i in range(len(lst)):\n",
    "        li += merge_sort(lst[i])\n",
    "    #final += mergeSort(li)\n",
    "    return li"
   ]
  },
  {
   "cell_type": "code",
   "execution_count": null,
   "metadata": {},
   "outputs": [],
   "source": [
    "import time\n",
    "\n",
    "A = []\n",
    "testList = [[1, 3, 5],[1, 2, 7, 9], [0, 6, 8]]\n",
    "A = merge_k_sorted_lists(testList)\n",
    "\n",
    "start = timeit.timeit()\n",
    "merge_k_sorted_lists(testList)\n",
    "end = timeit.timeit()\n",
    "print('Time',end - start)\n",
    "\n",
    "print('A',A)"
   ]
  },
  {
   "cell_type": "code",
   "execution_count": null,
   "metadata": {},
   "outputs": [],
   "source": []
  },
  {
   "cell_type": "code",
   "execution_count": null,
   "metadata": {},
   "outputs": [],
   "source": []
  }
 ],
 "metadata": {
  "kernelspec": {
   "display_name": "Python 3",
   "language": "python",
   "name": "python3"
  },
  "language_info": {
   "codemirror_mode": {
    "name": "ipython",
    "version": 3
   },
   "file_extension": ".py",
   "mimetype": "text/x-python",
   "name": "python",
   "nbconvert_exporter": "python",
   "pygments_lexer": "ipython3",
   "version": "3.9.2"
  }
 },
 "nbformat": 4,
 "nbformat_minor": 4
}
