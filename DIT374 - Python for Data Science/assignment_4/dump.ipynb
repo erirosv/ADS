{
 "cells": [
  {
   "cell_type": "markdown",
   "metadata": {},
   "source": [
    "source (encode/decode leetcode):\n",
    "- https://medium.com/@rebeccahezhang/leetcode-394-decode-string-6aafb1ad6bc3\n",
    "\n",
    "sources (merge k sorted lists):\n",
    "- https://appdividend.com/2019/04/30/merge-sort-in-cpp-tutorial-with-example-cpp-merge-sort-program/\n",
    "- https://softwareengineering.stackexchange.com/questions/324593/recursion-in-merge-sort-algorithm-how-is-it-obvious-to-use-this-type-of-recursi\n",
    "- https://softwareengineering.stackexchange.com/questions/324593/recursion-in-merge-sort-algorithm-how-is-it-obvious-to-use-this-type-of-recursi\n",
    "\n",
    "This solution takes in an even number of sub-lists (n).\n",
    "\n",
    "In merge_k_sorted_lists(lst) every sub-list needs to be sorted when entered, otherwise it dont work"
   ]
  },
  {
   "cell_type": "code",
   "execution_count": null,
   "metadata": {},
   "outputs": [],
   "source": []
  },
  {
   "cell_type": "code",
   "execution_count": null,
   "metadata": {},
   "outputs": [],
   "source": []
  },
  {
   "cell_type": "markdown",
   "metadata": {},
   "source": [
    "### Attempt 1 \n",
    "\n",
    "#### Description\n",
    "merge_k_sorted_lists() is a function which takes in a list with n numbers of subplots.\n",
    "\n",
    "in merge_k_sorted_lists, the parent list is looped through and each sublist is sorted\n",
    "with a mergesort. After a sublist i sorted it's returned to merge_k_sorted_lists and the next sublist is appended to\n",
    "the sorted list and goes througe the mergesort again. This continues until every sublist is merges and sorted. \n",
    "\n",
    "After the sorting the list is returned\n",
    "> This solution can take any number of n and sort them to a single list"
   ]
  },
  {
   "cell_type": "code",
   "execution_count": 2,
   "metadata": {},
   "outputs": [],
   "source": [
    "def sort_m(lst):\n",
    "    if len(lst)>1:\n",
    "        mid = len(lst)//2\n",
    "        left = lst[:mid]\n",
    "        right = lst[mid:]\n",
    "\n",
    "        sort_m(left)\n",
    "        sort_m(right)\n",
    "\n",
    "        i=0\n",
    "        j=0\n",
    "        k=0\n",
    "        while i < len(left) and j < len(right):\n",
    "            if left[i] <= right[j]:\n",
    "                lst[k]=left[i]\n",
    "                i=i+1\n",
    "            else:\n",
    "                lst[k]=right[j]\n",
    "                j=j+1\n",
    "            k=k+1\n",
    "\n",
    "        while i < len(left):\n",
    "            lst[k]=left[i]\n",
    "            i=i+1\n",
    "            k=k+1\n",
    "\n",
    "        while j < len(right):\n",
    "            lst[k]=right[j]\n",
    "            j=j+1\n",
    "            k=k+1\n",
    "    return lst"
   ]
  },
  {
   "cell_type": "markdown",
   "metadata": {},
   "source": [
    "#### Time complexity\n",
    "- time complexity for mergesort is $O(nlog_2(n))$\n",
    "- time complexity for the merging of the lists are $O(n)$\n",
    "\n",
    "The mergesort get its complexity because the algorithm is getting a list and deviding it by half until its only 2 elements in a sublist, then it checks the value of these and sort them by order. After sorting the small list of 2 elements, it concatenates the list back to its original size (but sorted).\n",
    "\n",
    "The merging function has a complexity of $O(n)$ because its only a for-loop which is merging the sublist together.\n",
    "\n",
    "The total timecomplexity of Big O is: $O(n) + O(n log_2(n)) = O(n log(n))$\n",
    "> We only care of the dominat term when we using Big O. \n",
    ">\n",
    "> $nlog_2n$ dominants $n$. $nlog_2n$ is the superset\n",
    "\n",
    "#### Space complexity\n",
    "- The space complexity for mergesort is always $O(n)$ (including the list)"
   ]
  },
  {
   "cell_type": "code",
   "execution_count": null,
   "metadata": {},
   "outputs": [],
   "source": [
    "def merge(lst):\n",
    "    li = []\n",
    "    final = []\n",
    "    for i in range(len(lst)):\n",
    "        li += sort_m(lst[i])\n",
    "    final += sort_m(li)\n",
    "    return final"
   ]
  },
  {
   "cell_type": "code",
   "execution_count": null,
   "metadata": {},
   "outputs": [],
   "source": [
    "lst = [[1, 3, 3, 3, 5],[2, 1, 7, 9], [0, 6, 8, 2, 2]]\n",
    "A = merge(lst)\n",
    "print(A)"
   ]
  },
  {
   "cell_type": "code",
   "execution_count": null,
   "metadata": {},
   "outputs": [],
   "source": []
  },
  {
   "cell_type": "code",
   "execution_count": null,
   "metadata": {},
   "outputs": [],
   "source": []
  },
  {
   "cell_type": "code",
   "execution_count": null,
   "metadata": {},
   "outputs": [],
   "source": [
    "def splitter(left, right, res_arr, arr, n):\n",
    "    if left == right:\n",
    "        for i in range(n):\n",
    "            print('running')\n",
    "            res_arr[left * n + i] = arr[left][i]\n",
    "        return\n",
    "    else:\n",
    "        print('Error')\n",
    "    \n",
    "    print('res_arr', res_arr)\n",
    "    splitter(left, (left + right) // 2, res_arr, arr, n)\n",
    "    splitter((left + right) // 2 + 1, right, res_arr, arr, n)\n",
    "    merge(left, right, res_arr, n)"
   ]
  },
  {
   "cell_type": "code",
   "execution_count": null,
   "metadata": {},
   "outputs": [],
   "source": [
    "def merge(left, right, result, n):\n",
    "    print(result)\n",
    "    \n",
    "    # store the initialize satr\n",
    "    left_store = left * n\n",
    "    right_store = right * n\n",
    "    \n",
    "    # gives the size of left & right\n",
    "    left_current = (left + right) // 2 + 1 * n\n",
    "    right_current = (left - right) // 2 * n\n",
    "    \n",
    "    # list to work with left & right by using the size of the current left and right\n",
    "    left_temp = [] * left_current\n",
    "    right_temp = [] * right_current\n",
    "    \n",
    "    # moving \n",
    "    for i in range(left_current):\n",
    "        left_temp = result[left_store + i]\n",
    "    for i in range(right_current):\n",
    "        right_temp = result[right_store + i]\n",
    "        \n",
    "    i = 0 # index for left_current\n",
    "    j = 0 # index for right_current\n",
    "    k = 0 # index for result\n",
    "    \n",
    "    while i + j < left_current + right_current:\n",
    "        if right_current == j:\n",
    "            result[k] = left_temp[i]\n",
    "            i += 1\n",
    "            k += 1\n",
    "        elif i != left_temp and left_temp[i] < right_temp[j]:\n",
    "            result[k] = left_temp[i]\n",
    "            i += 1\n",
    "            k += 1\n",
    "        else:\n",
    "            result[k] = right_temp[j]\n",
    "            j += 1\n",
    "            k += 1\n",
    "    return result"
   ]
  },
  {
   "cell_type": "code",
   "execution_count": null,
   "metadata": {},
   "outputs": [],
   "source": []
  },
  {
   "cell_type": "code",
   "execution_count": null,
   "metadata": {},
   "outputs": [],
   "source": []
  },
  {
   "cell_type": "code",
   "execution_count": null,
   "metadata": {},
   "outputs": [],
   "source": []
  },
  {
   "cell_type": "code",
   "execution_count": null,
   "metadata": {},
   "outputs": [],
   "source": []
  },
  {
   "cell_type": "code",
   "execution_count": null,
   "metadata": {},
   "outputs": [],
   "source": []
  },
  {
   "cell_type": "code",
   "execution_count": 33,
   "metadata": {},
   "outputs": [],
   "source": [
    "def str_to_list_old(text):\n",
    "    li = list(text)\n",
    "    dec_str = ''\n",
    "    for i in range(len(li)):\n",
    "        if li[i].isdigit():\n",
    "            li.insert(i, '[')\n",
    "            continue\n",
    "            if li[i+1].isdigit():\n",
    "                continue\n",
    "            else:\n",
    "                li.insert(i+1, ']')\n",
    "    for el in li:\n",
    "        dec_str += el\n",
    "    return dec_str"
   ]
  },
  {
   "cell_type": "code",
   "execution_count": 44,
   "metadata": {},
   "outputs": [],
   "source": [
    "def dec_test2(s):\n",
    "    if len(s) == 0 or s == None:\n",
    "        return s\n",
    "    text = str_to_list_old(s)\n",
    "    int_stack = []\n",
    "    char_stack = []\n",
    "    decstr = ''\n",
    "    \n",
    "    index = 0\n",
    "    while index < len(text):\n",
    "        if text.isdigit():\n",
    "            num = 0\n",
    "            while text.isdigit():\n",
    "                num = num * 10 + s.charAt(index)\n",
    "                index += 1\n",
    "            int_stack.append(num)\n",
    "        else:\n",
    "            decstr += (text)\n",
    "    return decstr"
   ]
  },
  {
   "cell_type": "code",
   "execution_count": null,
   "metadata": {},
   "outputs": [],
   "source": [
    "test1 = dec_test2('A3B4C1D10E2D4 1o2i1')\n",
    "print(test1)"
   ]
  },
  {
   "cell_type": "code",
   "execution_count": 63,
   "metadata": {},
   "outputs": [],
   "source": [
    "def encode_test(row):\n",
    "    # varibles\n",
    "    new_row = ''\n",
    "    count = 1\n",
    "    \n",
    "    # loop\n",
    "    for i in range(len(row)):\n",
    "        j = i\n",
    "        j += 1\n",
    "        # using try-except for handeling the last character in\n",
    "        # the row\n",
    "        try:\n",
    "            # normal case\n",
    "            if row[i] == row[j]:\n",
    "                count += 1\n",
    "            else:\n",
    "                new_row += row[i]\n",
    "                new_row += str(count)\n",
    "                count = 1\n",
    "        except:\n",
    "            # special case for last character\n",
    "            new_row += row[i]\n",
    "            \n",
    "            # reset variables in loop and modifying last to fit\n",
    "            # with the last char\n",
    "            j = i\n",
    "            j -= 1\n",
    "            \n",
    "            if row[i] == row[j]:\n",
    "                new_row += str(count)\n",
    "            else:\n",
    "                new_row += '1'\n",
    "            \n",
    "    print(new_row)"
   ]
  },
  {
   "cell_type": "code",
   "execution_count": 5,
   "metadata": {},
   "outputs": [
    {
     "data": {
      "text/plain": [
       "'A3B4C1D10E2D4 1o2o1'"
      ]
     },
     "execution_count": 5,
     "metadata": {},
     "output_type": "execute_result"
    }
   ],
   "source": [
    "s = 'AAABBBBCDDDDDDDDDDEEDDDD ooi'\n",
    "encode(s)\n",
    "# A3B4C1D10E2D4 1o2i1"
   ]
  },
  {
   "cell_type": "code",
   "execution_count": 6,
   "metadata": {},
   "outputs": [
    {
     "data": {
      "text/plain": [
       "'b2c6d1r3f2?5_4 3h4'"
      ]
     },
     "execution_count": 6,
     "metadata": {},
     "output_type": "execute_result"
    }
   ],
   "source": [
    "v = 'bbccccccdrrrff?????____   hhhh'\n",
    "encode(v)\n",
    "# b2c6d1r3f2?5_4 3h4"
   ]
  },
  {
   "cell_type": "code",
   "execution_count": 7,
   "metadata": {},
   "outputs": [],
   "source": [
    "def encode(line):\n",
    "    enc_str = \"\"\n",
    "    count = 1\n",
    "    for i in range(len(line)-1):\n",
    "        if line[i] == line[i+1]:\n",
    "            count += 1\n",
    "        else:\n",
    "            enc_str += line[i] + str(count)\n",
    "            count = 1\n",
    "    enc_str += line[i] + str(count)\n",
    "\n",
    "    if len(enc_str) >= len(line):\n",
    "        return line\n",
    "    else:\n",
    "        return enc_str"
   ]
  },
  {
   "cell_type": "code",
   "execution_count": 8,
   "metadata": {},
   "outputs": [
    {
     "data": {
      "text/plain": [
       "'A3B4C1D10E2D4 1o2o1'"
      ]
     },
     "execution_count": 8,
     "metadata": {},
     "output_type": "execute_result"
    }
   ],
   "source": [
    "encode(s)\n",
    "# A3B4C1D10E2D4 1o2i1"
   ]
  },
  {
   "cell_type": "code",
   "execution_count": 10,
   "metadata": {},
   "outputs": [
    {
     "name": "stdout",
     "output_type": "stream",
     "text": [
      "b2c6d1r3f2?5_4 3h4\n"
     ]
    }
   ],
   "source": [
    "s = 'bbccccccdrrrff?????____   hhhh'\n",
    "sr = ''.join(encode(s))\n",
    "print(sr)"
   ]
  },
  {
   "cell_type": "code",
   "execution_count": 12,
   "metadata": {},
   "outputs": [
    {
     "data": {
      "text/plain": [
       "'b2c6d1r3f2?5_4 3h4'"
      ]
     },
     "execution_count": 12,
     "metadata": {},
     "output_type": "execute_result"
    }
   ],
   "source": [
    "encode(v)\n",
    "# b2c6d1r3f2?5_4 3h4"
   ]
  },
  {
   "cell_type": "code",
   "execution_count": 16,
   "metadata": {},
   "outputs": [],
   "source": [
    "def decode(line):\n",
    "    dec = ''\n",
    "    for i in range(len(line)-1):\n",
    "        if line[i+1].isdigit():\n",
    "            count = 0\n",
    "            count = int(line[i+1])\n",
    "            for line[i] in range(count):\n",
    "                dec += line[i]\n",
    "        elif not line[i+1].isdigit():\n",
    "            dec += line[i]\n",
    "        else:\n",
    "            pass\n",
    "    print(dec)\n"
   ]
  },
  {
   "cell_type": "code",
   "execution_count": 18,
   "metadata": {},
   "outputs": [
    {
     "ename": "TypeError",
     "evalue": "'str' object does not support item assignment",
     "output_type": "error",
     "traceback": [
      "\u001b[1;31m---------------------------------------------------------------------------\u001b[0m",
      "\u001b[1;31mTypeError\u001b[0m                                 Traceback (most recent call last)",
      "\u001b[1;32m<ipython-input-18-1822f1440a0f>\u001b[0m in \u001b[0;36m<module>\u001b[1;34m\u001b[0m\n\u001b[1;32m----> 1\u001b[1;33m \u001b[0mdecode\u001b[0m\u001b[1;33m(\u001b[0m\u001b[0msr\u001b[0m\u001b[1;33m)\u001b[0m\u001b[1;33m\u001b[0m\u001b[1;33m\u001b[0m\u001b[0m\n\u001b[0m",
      "\u001b[1;32m<ipython-input-16-8b7108703d5d>\u001b[0m in \u001b[0;36mdecode\u001b[1;34m(line)\u001b[0m\n\u001b[0;32m      5\u001b[0m             \u001b[0mcount\u001b[0m \u001b[1;33m=\u001b[0m \u001b[1;36m0\u001b[0m\u001b[1;33m\u001b[0m\u001b[1;33m\u001b[0m\u001b[0m\n\u001b[0;32m      6\u001b[0m             \u001b[0mcount\u001b[0m \u001b[1;33m=\u001b[0m \u001b[0mint\u001b[0m\u001b[1;33m(\u001b[0m\u001b[0mline\u001b[0m\u001b[1;33m[\u001b[0m\u001b[0mi\u001b[0m\u001b[1;33m+\u001b[0m\u001b[1;36m1\u001b[0m\u001b[1;33m]\u001b[0m\u001b[1;33m)\u001b[0m\u001b[1;33m\u001b[0m\u001b[1;33m\u001b[0m\u001b[0m\n\u001b[1;32m----> 7\u001b[1;33m             \u001b[1;32mfor\u001b[0m \u001b[0mline\u001b[0m\u001b[1;33m[\u001b[0m\u001b[0mi\u001b[0m\u001b[1;33m]\u001b[0m \u001b[1;32min\u001b[0m \u001b[0mrange\u001b[0m\u001b[1;33m(\u001b[0m\u001b[0mcount\u001b[0m\u001b[1;33m)\u001b[0m\u001b[1;33m:\u001b[0m\u001b[1;33m\u001b[0m\u001b[1;33m\u001b[0m\u001b[0m\n\u001b[0m\u001b[0;32m      8\u001b[0m                 \u001b[0mdec\u001b[0m \u001b[1;33m+=\u001b[0m \u001b[0mline\u001b[0m\u001b[1;33m[\u001b[0m\u001b[0mi\u001b[0m\u001b[1;33m]\u001b[0m\u001b[1;33m\u001b[0m\u001b[1;33m\u001b[0m\u001b[0m\n\u001b[0;32m      9\u001b[0m         \u001b[1;32melif\u001b[0m \u001b[1;32mnot\u001b[0m \u001b[0mline\u001b[0m\u001b[1;33m[\u001b[0m\u001b[0mi\u001b[0m\u001b[1;33m+\u001b[0m\u001b[1;36m1\u001b[0m\u001b[1;33m]\u001b[0m\u001b[1;33m.\u001b[0m\u001b[0misdigit\u001b[0m\u001b[1;33m(\u001b[0m\u001b[1;33m)\u001b[0m\u001b[1;33m:\u001b[0m\u001b[1;33m\u001b[0m\u001b[1;33m\u001b[0m\u001b[0m\n",
      "\u001b[1;31mTypeError\u001b[0m: 'str' object does not support item assignment"
     ]
    }
   ],
   "source": [
    "decode(sr)"
   ]
  },
  {
   "cell_type": "code",
   "execution_count": 56,
   "metadata": {},
   "outputs": [
    {
     "ename": "TypeError",
     "evalue": "unsupported operand type(s) for -=: 'str' and 'int'",
     "output_type": "error",
     "traceback": [
      "\u001b[1;31m---------------------------------------------------------------------------\u001b[0m",
      "\u001b[1;31mTypeError\u001b[0m                                 Traceback (most recent call last)",
      "\u001b[1;32m<ipython-input-56-6f5e2be12594>\u001b[0m in \u001b[0;36m<module>\u001b[1;34m\u001b[0m\n\u001b[0;32m      6\u001b[0m \u001b[1;32mfor\u001b[0m \u001b[0mi\u001b[0m \u001b[1;32min\u001b[0m \u001b[0mdec_list\u001b[0m\u001b[1;33m:\u001b[0m\u001b[1;33m\u001b[0m\u001b[1;33m\u001b[0m\u001b[0m\n\u001b[0;32m      7\u001b[0m     \u001b[0mj\u001b[0m \u001b[1;33m=\u001b[0m \u001b[0mi\u001b[0m\u001b[1;33m\u001b[0m\u001b[1;33m\u001b[0m\u001b[0m\n\u001b[1;32m----> 8\u001b[1;33m     \u001b[0mj\u001b[0m \u001b[1;33m-=\u001b[0m \u001b[1;36m1\u001b[0m\u001b[1;33m\u001b[0m\u001b[1;33m\u001b[0m\u001b[0m\n\u001b[0m\u001b[0;32m      9\u001b[0m     \u001b[1;32mtry\u001b[0m\u001b[1;33m:\u001b[0m\u001b[1;33m\u001b[0m\u001b[1;33m\u001b[0m\u001b[0m\n\u001b[0;32m     10\u001b[0m         \u001b[1;32mif\u001b[0m \u001b[0mdec_list\u001b[0m\u001b[1;33m[\u001b[0m\u001b[0mi\u001b[0m \u001b[1;33m+\u001b[0m \u001b[1;36m1\u001b[0m\u001b[1;33m]\u001b[0m\u001b[1;33m.\u001b[0m\u001b[0misdigit\u001b[0m\u001b[1;33m(\u001b[0m\u001b[1;33m)\u001b[0m\u001b[1;33m:\u001b[0m\u001b[1;33m\u001b[0m\u001b[1;33m\u001b[0m\u001b[0m\n",
      "\u001b[1;31mTypeError\u001b[0m: unsupported operand type(s) for -=: 'str' and 'int'"
     ]
    }
   ],
   "source": [
    "decode = ''\n",
    "s = 'bbccccccdrrrff?????____   hhhh'\n",
    "sr = 'b2c6d1r3f2?5_4 3h4'\n",
    "dec_list = []\n",
    "dec_list = list(sr)\n",
    "for i in dec_list:\n",
    "    j = i\n",
    "    j -= 1\n",
    "    try:\n",
    "        if dec_list[i + 1].isdigit():\n",
    "            print(dec_list)\n",
    "    except:\n",
    "        pass"
   ]
  },
  {
   "cell_type": "code",
   "execution_count": 51,
   "metadata": {},
   "outputs": [
    {
     "ename": "IndentationError",
     "evalue": "unexpected unindent (<ipython-input-51-a5740fc5366a>, line 12)",
     "output_type": "error",
     "traceback": [
      "\u001b[1;36m  File \u001b[1;32m\"<ipython-input-51-a5740fc5366a>\"\u001b[1;36m, line \u001b[1;32m12\u001b[0m\n\u001b[1;33m    print(dec_list)\u001b[0m\n\u001b[1;37m                   ^\u001b[0m\n\u001b[1;31mIndentationError\u001b[0m\u001b[1;31m:\u001b[0m unexpected unindent\n"
     ]
    }
   ],
   "source": [
    "decode = ''\n",
    "s = 'bbccccccdrrrff?????____   hhhh'\n",
    "sr = 'b2c6d1r3f2?5_4 3h4'\n",
    "dec_list = []\n",
    "dec_list = list(sr)\n",
    "for i in dec_list:\n",
    "    j = i\n",
    "    j -= 1\n",
    "    try:\n",
    "        if dec_list[i + 1].isdigit():\n",
    "            print('hello')\n",
    "print(dec_list)"
   ]
  },
  {
   "cell_type": "code",
   "execution_count": 1,
   "metadata": {},
   "outputs": [
    {
     "ename": "SyntaxError",
     "evalue": "invalid syntax (<ipython-input-1-105d6c6715c4>, line 2)",
     "output_type": "error",
     "traceback": [
      "\u001b[1;36m  File \u001b[1;32m\"<ipython-input-1-105d6c6715c4>\"\u001b[1;36m, line \u001b[1;32m2\u001b[0m\n\u001b[1;33m    temp_num =\u001b[0m\n\u001b[1;37m               ^\u001b[0m\n\u001b[1;31mSyntaxError\u001b[0m\u001b[1;31m:\u001b[0m invalid syntax\n"
     ]
    }
   ],
   "source": [
    "if sr[i].isdigit():\n",
    "        temp_num = \n",
    "        temp_lett = sr[i - 1]\n",
    "        for j in temp_num:\n",
    "            decode += sr[i-1]\n",
    "print(decode)\n",
    "\n",
    "\n",
    "\"\"\"\n",
    "for i in range(len(line)-1):\n",
    "        if line[i] == line[i+1]:\n",
    "            count += 1\n",
    "        else:\n",
    "            enc_str += line[i] + str(count)\n",
    "            count = 1\n",
    "    enc_str += line[i] + str(count)\n",
    "    \n",
    "    \n",
    "    --------------------------------\n",
    "    for i in range(len(line)):\n",
    "        if line[i] != '\\n':\n",
    "            dec += line[i]\n",
    "        else:\n",
    "            sub = ''\n",
    "            while dec:\n",
    "                pass\n",
    "    \n",
    "    \n",
    "\"\"\"  "
   ]
  },
  {
   "cell_type": "code",
   "execution_count": 8,
   "metadata": {},
   "outputs": [],
   "source": [
    "def str_to_list_old(text):\n",
    "    li = list(text)\n",
    "    dec_str = ''\n",
    "    for i in range(len(li)):\n",
    "        if li[i].isdigit():\n",
    "            li.insert(i, '[')\n",
    "            continue\n",
    "            if li[i+1].isdigit():\n",
    "                continue\n",
    "            else:\n",
    "                li.insert(i+1, ']')\n",
    "    for el in li:\n",
    "        dec_str += el\n",
    "    return dec_str"
   ]
  },
  {
   "cell_type": "code",
   "execution_count": 9,
   "metadata": {},
   "outputs": [],
   "source": [
    "def str_to_list(text):\n",
    "    li = list(text)\n",
    "    dec_str = ''\n",
    "    for i in range(len(li)):\n",
    "        if li[i].isdigit() == True:\n",
    "            temp = ''\n",
    "            temp += '[' + li[i] + ']'\n",
    "            dec_str += temp\n",
    "        else:\n",
    "            dec_str += li[i]      \n",
    "    return dec_str"
   ]
  },
  {
   "cell_type": "code",
   "execution_count": 32,
   "metadata": {},
   "outputs": [
    {
     "name": "stdout",
     "output_type": "stream",
     "text": [
      "['A', '[', '3', ']', 'B', '[', '4', ']', 'C', '[', '1', ']', 'D', '[', '1', ']', '[', '0', ']', 'E', '[', '2', ']', 'D', '[', '4', ']', ' ', '[', '1', ']', 'o', '[', '2', ']', 'i', '[', '1', ']']\n",
      "A[3]B[4]C[1]D[1][0]E[2]D[4] [1]o[2]i[1]\n"
     ]
    }
   ],
   "source": [
    "work1 = str_to_list('A3B4C1D10E2D4 1o2i1')\n",
    "list_test = list(work1)\n",
    "print(list_test)\n",
    "print(work1)"
   ]
  },
  {
   "cell_type": "code",
   "execution_count": 1,
   "metadata": {},
   "outputs": [],
   "source": [
    "def decodeString(s: str) -> str:\n",
    "        num = 0\n",
    "        string = ''\n",
    "        stack = []\n",
    "        for c in s:\n",
    "            if c.isdigit():\n",
    "                num = num*10 + int(c)\n",
    "            elif c == \"[\":\n",
    "                stack.append(string)\n",
    "                stack.append(num)\n",
    "                string = ''\n",
    "                num = 0\n",
    "            elif c.isalpha():\n",
    "                string += c\n",
    "            elif c == ']':\n",
    "                pre_num = stack.pop()\n",
    "                pre_string = stack.pop()\n",
    "                string = pre_string + pre_num * string\n",
    "        return string"
   ]
  },
  {
   "cell_type": "code",
   "execution_count": 4,
   "metadata": {},
   "outputs": [
    {
     "data": {
      "text/plain": [
       "'ABCDEDoi'"
      ]
     },
     "execution_count": 4,
     "metadata": {},
     "output_type": "execute_result"
    }
   ],
   "source": [
    "decodeString('A3B4C1D10E2D4 1o2i1')"
   ]
  },
  {
   "cell_type": "code",
   "execution_count": 11,
   "metadata": {},
   "outputs": [
    {
     "name": "stdout",
     "output_type": "stream",
     "text": [
      "A[3]B[4]C[1]D[1][0]E[2]D[4] [1]o[2]i[1]\n"
     ]
    }
   ],
   "source": [
    "test1 = str_to_list('A3B4C1D10E2D4 1o2i1')\n",
    "print(test1)"
   ]
  },
  {
   "cell_type": "code",
   "execution_count": 14,
   "metadata": {},
   "outputs": [],
   "source": [
    "def decodeString(s):\n",
    "        \"\"\"\n",
    "        :type s: str\n",
    "        :rtype: str\n",
    "        \"\"\"\n",
    "        n, curr, nums, strs = 0, [], [], []\n",
    "        for c in s:\n",
    "            if c.isdigit():\n",
    "                n = n*10 + ord(c)-ord('0')\n",
    "            elif c.isalpha():\n",
    "                curr.append(c)\n",
    "            elif c == '[':\n",
    "                nums.append(n)\n",
    "                strs.append(curr)\n",
    "                n, curr = 0, []\n",
    "            elif c == ']':\n",
    "                strs[-1].extend(curr*nums.pop())\n",
    "                curr = strs.pop()\n",
    "        return \"\".join(curr)"
   ]
  },
  {
   "cell_type": "code",
   "execution_count": 17,
   "metadata": {},
   "outputs": [
    {
     "data": {
      "text/plain": [
       "'ABCDEDoi'"
      ]
     },
     "execution_count": 17,
     "metadata": {},
     "output_type": "execute_result"
    }
   ],
   "source": [
    "decodeString(list_test)"
   ]
  },
  {
   "cell_type": "code",
   "execution_count": 20,
   "metadata": {},
   "outputs": [],
   "source": [
    "def decode_test1(s):\n",
    "    dec = ''\n",
    "    for i, element in range(0, len(s)):\n",
    "        if s[i][element].isdigit():\n",
    "            j = i\n",
    "            while j.isdigit():\n",
    "                temp = s\n",
    "                word = ''\n",
    "                word += temp[j]\n",
    "                de\n",
    "                j += 1"
   ]
  },
  {
   "cell_type": "code",
   "execution_count": 1,
   "metadata": {},
   "outputs": [],
   "source": [
    "def encode(strs):\n",
    "        \"\"\"Encodes a list of strings to a single string.\n",
    "\n",
    "        :type strs: List[str]\n",
    "        :rtype: str\n",
    "        \"\"\"\n",
    "        encoded_str = \"\"\n",
    "        for s in strs:\n",
    "            encoded_str += \"%0*x\" % (8, len(s)) + s\n",
    "        return encoded_str"
   ]
  },
  {
   "cell_type": "code",
   "execution_count": 2,
   "metadata": {},
   "outputs": [],
   "source": [
    "def decode(s):\n",
    "        \"\"\"Decodes a single string to a list of strings.\n",
    "\n",
    "        :type s: str\n",
    "        :rtype: List[str]\n",
    "        \"\"\"\n",
    "        i = 0\n",
    "        strs = []\n",
    "        while i < len(s):\n",
    "            l = int(s[i:i+8], 16)\n",
    "            strs.append(s[i+8:i+8+l])\n",
    "            i += 8+l\n",
    "        return strs"
   ]
  },
  {
   "cell_type": "code",
   "execution_count": 5,
   "metadata": {},
   "outputs": [
    {
     "name": "stdout",
     "output_type": "stream",
     "text": [
      "00000001b00000001b00000001c00000001c00000001c00000001c00000001c00000001c00000001d00000001r00000001r00000001r00000001f00000001f00000001?00000001?00000001?00000001?00000001?00000001_00000001_00000001_00000001_00000001 00000001 00000001 00000001h00000001h00000001h00000001h\n",
      "['b', 'b', 'c', 'c', 'c', 'c', 'c', 'c', 'd', 'r', 'r', 'r', 'f', 'f', '?', '?', '?', '?', '?', '_', '_', '_', '_', ' ', ' ', ' ', 'h', 'h', 'h', 'h']\n"
     ]
    }
   ],
   "source": [
    "text_test1 = v = 'bbccccccdrrrff?????____   hhhh'\n",
    "ans1 = encode(text_test1)\n",
    "print(ans1)\n",
    "\n",
    "ans2 = decode(ans1)\n",
    "#print(ans2)\n",
    "print(decode(ans1))\n"
   ]
  },
  {
   "cell_type": "code",
   "execution_count": 8,
   "metadata": {},
   "outputs": [
    {
     "name": "stdout",
     "output_type": "stream",
     "text": [
      "bbccccccdrrrff?????____   hhhh\n"
     ]
    }
   ],
   "source": [
    "listToStr = ''.join([str(elem) for elem in ans2])\n",
    "print(listToStr)"
   ]
  },
  {
   "cell_type": "code",
   "execution_count": 16,
   "metadata": {},
   "outputs": [],
   "source": [
    "def encode(strs):\n",
    "        \"\"\"Encodes a list of strings to a single string.\n",
    "\n",
    "        :type strs: List[str]\n",
    "        :rtype: str\n",
    "        \"\"\"\n",
    "        res = \"%d \" % len(strs)\n",
    "        for s in strs:\n",
    "            res = \"%s%d %s\" % (res, len(s), s)\n",
    "        return res"
   ]
  },
  {
   "cell_type": "code",
   "execution_count": 55,
   "metadata": {},
   "outputs": [],
   "source": [
    "def decode(s):\n",
    "        \"\"\"Decodes a single string to a list of strings.\n",
    "\n",
    "        :type s: str\n",
    "        :rtype: List[str]\n",
    "        \"\"\"\n",
    "        if s == \"\": return []\n",
    "        res = []\n",
    "        i = 0\n",
    "        while s[i] != ' ': i += 1\n",
    "        count = int(s[0:i])\n",
    "        i += 1\n",
    "\n",
    "        for k in range(count):\n",
    "            # get length\n",
    "            j = i\n",
    "            while s[j] != ' ': j += 1\n",
    "            length = int(s[i:j])\n",
    "            i = j+1\n",
    "            # get string\n",
    "            res.append(s[i:i+length])\n",
    "            i = i+length\n",
    "        return res"
   ]
  },
  {
   "cell_type": "code",
   "execution_count": 57,
   "metadata": {},
   "outputs": [
    {
     "name": "stdout",
     "output_type": "stream",
     "text": [
      "30 1 b1 b1 c1 c1 c1 c1 c1 c1 d1 r1 r1 r1 f1 f1 ?1 ?1 ?1 ?1 ?1 _1 _1 _1 _1  1  1  1 h1 h1 h1 h\n",
      "['b', 'b', 'c', 'c', 'c', 'c', 'c', 'c', 'd', 'r', 'r', 'r', 'f', 'f', '?', '?', '?', '?', '?', '_', '_', '_', '_', ' ', ' ', ' ', 'h', 'h', 'h', 'h']\n"
     ]
    }
   ],
   "source": [
    "text_test1 = 'bbccccccdrrrff?????____   hhhh'\n",
    "ans1 = encode(text_test1)\n",
    "print(ans1)\n",
    "\n",
    "ans2 = decode(ans1)\n",
    "#print(ans2)\n",
    "print(decode(ans1))"
   ]
  },
  {
   "cell_type": "code",
   "execution_count": 52,
   "metadata": {},
   "outputs": [],
   "source": [
    "def t(s):\n",
    "    if s == '': return []\n",
    "    li = list(s)\n",
    "    dec = []\n",
    "    i = 0\n",
    "    while len(s)<i: \n",
    "        if li[i].isdigit():\n",
    "            tmp = ''\n",
    "            j = i\n",
    "            while s[j].isdigit():\n",
    "                tmp += li[j]\n",
    "            dec.append(decode_num(li[i-1], temp))\n",
    "            print(decode_num(s[i-1], temp))\n",
    "        else:\n",
    "            i += 1\n",
    "        i += 1\n",
    "    return dec"
   ]
  },
  {
   "cell_type": "code",
   "execution_count": 53,
   "metadata": {},
   "outputs": [],
   "source": [
    "def decode_num(s, num):\n",
    "    dec_lett = ''\n",
    "    for ele in range(0, num):\n",
    "        dec_lett += s\n",
    "    return s"
   ]
  },
  {
   "cell_type": "code",
   "execution_count": 54,
   "metadata": {},
   "outputs": [
    {
     "name": "stdout",
     "output_type": "stream",
     "text": [
      "[]\n"
     ]
    }
   ],
   "source": [
    "text_test1 = 'A3B4C1D10E2D4 1o2i1'\n",
    "ans1 = t('A3B4C1D10E2D4 1o2i1')\n",
    "print(ans1)"
   ]
  },
  {
   "cell_type": "code",
   "execution_count": 2,
   "metadata": {},
   "outputs": [
    {
     "name": "stdout",
     "output_type": "stream",
     "text": [
      "['A', '3', 'B', '4', 'C', '1', 'D', '1', '0', 'E', '2', 'D', '4', ' ', '1', 'o', '2', 'i', '1']\n"
     ]
    }
   ],
   "source": [
    "def cc(s):\n",
    "    li = []\n",
    "    for i in range(len(s)):\n",
    "        li.append(s[i])\n",
    "    return li\n",
    "print(cc('A3B4C1D10E2D4 1o2i1'))\n",
    "\n",
    "def ss():\n",
    "    li = cc('A3B4C1D10E2D4 1o2i1')\n",
    "    for i in range(len(li)):\n",
    "        conv = ''\n",
    "        temp = ''\n",
    "        num = []\n",
    "        dec = ''\n",
    "        if li[i].isnumeric():\n",
    "            j = i\n",
    "            if li[i].isalpha() or li[i] == ' ':\n",
    "                temp = li[i]\n",
    "            while li[j].isnumeric():\n",
    "                if li[j].isnumeric():\n",
    "                    conv += li[j]\n",
    "                else:\n",
    "                    break\n",
    "            dec += dec_seq(let, conv)\n",
    "            i = j\n",
    "    return dec\n",
    "\n",
    "def sss():\n",
    "    li = cc('A3B4C1D10E2D4 1o2i1')\n",
    "    i = 0\n",
    "    while i < len(li):\n",
    "        conv = ''\n",
    "        temp = ''\n",
    "        num = []\n",
    "        dec = ''\n",
    "        if li[i].isnumeric() == True:\n",
    "            j = i\n",
    "            if li[i].isalpha() or li[i] == ' ':\n",
    "                temp = li[i]\n",
    "            while li[j].isnumeric():\n",
    "                if li[j].isnumeric():\n",
    "                    conv += li[j]\n",
    "                else:\n",
    "                    break\n",
    "            dec += dec_seq(let, conv)\n",
    "            i = j\n",
    "        i += 1\n",
    "    return dec\n",
    "\n",
    "def dec_seq(let, num):\n",
    "    counter = int(num)\n",
    "    print(num)\n",
    "    print(let)\n",
    "    seq = ''\n",
    "    i = 0\n",
    "    while i < counter:\n",
    "        seq += let\n",
    "    return seq    \n",
    "\n"
   ]
  },
  {
   "cell_type": "code",
   "execution_count": null,
   "metadata": {},
   "outputs": [],
   "source": [
    "#print(cc('A3B4C1D10E2D4 1o2i1'))\n",
    "print(sss())"
   ]
  },
  {
   "cell_type": "code",
   "execution_count": 78,
   "metadata": {},
   "outputs": [],
   "source": [
    "def tt(s):\n",
    "    dec = ''\n",
    "    \n",
    "    for i in range(len(s)):\n",
    "        let = ''\n",
    "        num = []\n",
    "        if not s[i].isnumeric():\n",
    "            let = s[i]\n",
    "        elif s[i].isnumeric():\n",
    "            let = s[i-1]\n",
    "            for j in range(len(s)):\n",
    "                if s[j].isnumeric():\n",
    "                    num.append(s[j])\n",
    "                else:\n",
    "                    break\n",
    "            dec += dec_seq(let, num)\n",
    "    return dec\n",
    "\n",
    "\"\"\"def dec_seq(let, num):\n",
    "    #counter = int(num)\n",
    "    print(num)\n",
    "    print(let)\n",
    "    seq = ''\n",
    "    for i in range(len(num)):\n",
    "        seq += let\n",
    "    return let\"\"\""
   ]
  },
  {
   "cell_type": "code",
   "execution_count": 79,
   "metadata": {},
   "outputs": [
    {
     "name": "stdout",
     "output_type": "stream",
     "text": [
      "[]\n",
      "A\n",
      "[]\n",
      "B\n",
      "[]\n",
      "C\n",
      "[]\n",
      "D\n",
      "[]\n",
      "1\n",
      "[]\n",
      "E\n",
      "[]\n",
      "D\n",
      "[]\n",
      " \n",
      "[]\n",
      "o\n",
      "[]\n",
      "i\n",
      "ABCD1ED oi\n"
     ]
    }
   ],
   "source": [
    "text_test1 = 'A3B4C1D10E2D4 1o2i1'\n",
    "ans1 = tt('A3B4C1D10E2D4 1o2i1')\n",
    "print(ans1)"
   ]
  },
  {
   "cell_type": "code",
   "execution_count": 1,
   "metadata": {},
   "outputs": [
    {
     "ename": "NameError",
     "evalue": "name 'decode' is not defined",
     "output_type": "error",
     "traceback": [
      "\u001b[1;31m---------------------------------------------------------------------------\u001b[0m",
      "\u001b[1;31mNameError\u001b[0m                                 Traceback (most recent call last)",
      "\u001b[1;32m<ipython-input-1-9f4f21149600>\u001b[0m in \u001b[0;36m<module>\u001b[1;34m\u001b[0m\n\u001b[1;32m----> 1\u001b[1;33m \u001b[0mv\u001b[0m \u001b[1;33m=\u001b[0m \u001b[0mdecode\u001b[0m\u001b[1;33m(\u001b[0m\u001b[1;34m'b2c6d1r3f2?5_4 3h4'\u001b[0m\u001b[1;33m)\u001b[0m\u001b[1;33m\u001b[0m\u001b[1;33m\u001b[0m\u001b[0m\n\u001b[0m\u001b[0;32m      2\u001b[0m \u001b[0mprint\u001b[0m\u001b[1;33m(\u001b[0m\u001b[0mtest_v\u001b[0m\u001b[1;33m)\u001b[0m\u001b[1;33m\u001b[0m\u001b[1;33m\u001b[0m\u001b[0m\n\u001b[0;32m      3\u001b[0m \u001b[1;32mif\u001b[0m \u001b[0mv\u001b[0m \u001b[1;33m==\u001b[0m \u001b[0mtest_v\u001b[0m\u001b[1;33m:\u001b[0m\u001b[1;33m\u001b[0m\u001b[1;33m\u001b[0m\u001b[0m\n\u001b[0;32m      4\u001b[0m     \u001b[0mprint\u001b[0m\u001b[1;33m(\u001b[0m\u001b[1;34m'working'\u001b[0m\u001b[1;33m)\u001b[0m\u001b[1;33m\u001b[0m\u001b[1;33m\u001b[0m\u001b[0m\n",
      "\u001b[1;31mNameError\u001b[0m: name 'decode' is not defined"
     ]
    }
   ],
   "source": [
    "v = decode('b2c6d1r3f2?5_4 3h4')\n",
    "print(test_v)\n",
    "if v == test_v:\n",
    "    print('working')"
   ]
  },
  {
   "cell_type": "code",
   "execution_count": null,
   "metadata": {},
   "outputs": [],
   "source": []
  }
 ],
 "metadata": {
  "kernelspec": {
   "display_name": "Python 3",
   "language": "python",
   "name": "python3"
  },
  "language_info": {
   "codemirror_mode": {
    "name": "ipython",
    "version": 3
   },
   "file_extension": ".py",
   "mimetype": "text/x-python",
   "name": "python",
   "nbconvert_exporter": "python",
   "pygments_lexer": "ipython3",
   "version": "3.9.2"
  }
 },
 "nbformat": 4,
 "nbformat_minor": 4
}
