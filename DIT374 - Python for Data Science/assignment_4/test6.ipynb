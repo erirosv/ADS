{
 "cells": [
  {
   "cell_type": "code",
   "execution_count": null,
   "metadata": {},
   "outputs": [],
   "source": []
  },
  {
   "cell_type": "code",
   "execution_count": null,
   "metadata": {},
   "outputs": [],
   "source": []
  },
  {
   "cell_type": "code",
   "execution_count": 6,
   "metadata": {},
   "outputs": [
    {
     "name": "stdout",
     "output_type": "stream",
     "text": [
      "running - mrege_k\n",
      "4\n",
      "[4, 7, 15, 1800, 2, 1, 9, 17, 0, 0, 0, 0]\n",
      "4 4\n",
      "4\n",
      "[2, 1, 4, 7, 9, 15, 17, 1800, 1, 40, 12, 19]\n",
      "8 4\n",
      "1 2 1 4 7 9 15 17 40 12 19 1800 "
     ]
    }
   ],
   "source": [
    "#lst = [[1, 3, 5],[1, 2, 7, 9], [0, 6, 8]]\n",
    "lst = [[ 4, 7, 15, 1800 ],[ 2, 1, 9, 17 ],[ 1, 40, 12, 19 ]]\n",
    "merge_k_sorted_lists(lst)\n"
   ]
  },
  {
   "cell_type": "code",
   "execution_count": 1,
   "metadata": {},
   "outputs": [],
   "source": [
    "def merge_k_sorted_lists(lst):\n",
    "    n = 4\n",
    "\n",
    "    k = len(lst); \n",
    "    res_lst = [0] * (n * k); \n",
    "    A = splitter(0, k - 1, res_lst, lst, n);\n",
    "\n",
    "    for i in range(n * k) :\n",
    "        print(res_lst[i], end = \" \");"
   ]
  },
  {
   "cell_type": "code",
   "execution_count": 2,
   "metadata": {},
   "outputs": [
    {
     "data": {
      "text/plain": [
       "\"   \\n\\nprint(lst, len(lst))\\n    for i in len(lst):\\n        sort_lst += lst[i].sort() # this sort is needed to sort each individual sub list to make it work\\n    return sort_list\\n    \\n    k = len(lst); \\n    res_lst = [0] * (n * k); \\n    print('running - mrege_k')\\n    A = splitter(0, k - 1, res_lst, lst, n);\\n    \\n      sort_lst = []\\n    for i in range(len(lst)):\\n        n = len(lst[i])\\n        sort_lst += lst[i].sort() # this sort is needed to sort each individual sub list to make it work\\n\""
      ]
     },
     "execution_count": 2,
     "metadata": {},
     "output_type": "execute_result"
    }
   ],
   "source": [
    "\"\"\"   \n",
    "\n",
    "print(lst, len(lst))\n",
    "    for i in len(lst):\n",
    "        sort_lst += lst[i].sort() # this sort is needed to sort each individual sub list to make it work\n",
    "    return sort_list\n",
    "    \n",
    "    k = len(lst); \n",
    "    res_lst = [0] * (n * k); \n",
    "    print('running - mrege_k')\n",
    "    A = splitter(0, k - 1, res_lst, lst, n);\n",
    "    \n",
    "      sort_lst = []\n",
    "    for i in range(len(lst)):\n",
    "        n = len(lst[i])\n",
    "        sort_lst += lst[i].sort() # this sort is needed to sort each individual sub list to make it work\n",
    "\"\"\""
   ]
  },
  {
   "cell_type": "code",
   "execution_count": 3,
   "metadata": {},
   "outputs": [],
   "source": [
    "def splitter(left, right, res_arr, arr, n):\n",
    "    if left == right:\n",
    "        for i in range(n):\n",
    "            res_arr[left * n + i] = arr[left][i]\n",
    "        return\n",
    "    \n",
    "    splitter(left, (left + right) // 2, res_arr, arr, n)\n",
    "    splitter((left + right) // 2 + 1, right, res_arr, arr, n)\n",
    "    merge(left, right,res_arr, n)\n",
    "    #merge1(left, right,res_arr)\n",
    "    #return A"
   ]
  },
  {
   "cell_type": "code",
   "execution_count": 4,
   "metadata": {},
   "outputs": [],
   "source": [
    "def sort(lst):\n",
    "    if len(lst)>1:\n",
    "        mid = len(lst)//2\n",
    "        left = lst[:mid]\n",
    "        right = lst[mid:]\n",
    "        print('lst mergesort',lst)\n",
    "        sort(left)\n",
    "        sort(right)\n",
    "\n",
    "        i=0\n",
    "        j=0\n",
    "        k=0\n",
    "        while i < len(left) and j < len(right):\n",
    "            if left[i] <= right[j]:\n",
    "                lst[k]=left[i]\n",
    "                i=i+1\n",
    "            else:\n",
    "                lst[k]=right[j]\n",
    "                j=j+1\n",
    "            k=k+1\n",
    "\n",
    "        while i < len(left):\n",
    "            lst[k]=left[i]\n",
    "            i=i+1\n",
    "            k=k+1\n",
    "\n",
    "        while j < len(right):\n",
    "            lst[k]=right[j]\n",
    "            j=j+1\n",
    "            k=k+1\n",
    "    return lst"
   ]
  },
  {
   "cell_type": "code",
   "execution_count": null,
   "metadata": {},
   "outputs": [],
   "source": []
  },
  {
   "cell_type": "code",
   "execution_count": null,
   "metadata": {},
   "outputs": [],
   "source": []
  },
  {
   "cell_type": "code",
   "execution_count": 5,
   "metadata": {},
   "outputs": [],
   "source": [
    "def merge(left, right, result, n):\n",
    "    print(n)\n",
    "    print(result)\n",
    "    # store the initialize satr\n",
    "    left_start = left * n\n",
    "    right_start = ((right + left) // 2+1) *n\n",
    "    \n",
    "    # gives the size of left & right\n",
    "    left_current = ((left + right) // 2 + 1) * n\n",
    "    right_current = (right - (left + right) // 2) * n\n",
    "    print(left_current,right_current)\n",
    "    \n",
    "    # list to work with left & right by using the size of the current left and right\n",
    "    left_temp = [0] * left_current\n",
    "    right_temp = [0] * right_current\n",
    "    \n",
    "    # moving left and right vaues to individual lists\n",
    "    for i in range(left_current):\n",
    "        left_temp[i] = result[left_start + i]\n",
    "    for i in range(right_current):\n",
    "        right_temp[i] = result[right_start + i]\n",
    "\n",
    "        \n",
    "    i = 0 # index for left_current\n",
    "    j = 0 # index for right_current\n",
    "    k = left_start # index for result\n",
    "    \n",
    "    while (i + j) < (left_current + right_current):\n",
    "        if j == right_current:\n",
    "            result[k] = left_temp[i]\n",
    "            i += 1\n",
    "            k += 1\n",
    "        elif i != left_current and left_temp[i] < right_temp[j]:\n",
    "            result[k] = left_temp[i]\n",
    "            i += 1\n",
    "            k += 1\n",
    "        else:\n",
    "            result[k] = right_temp[j]\n",
    "            j += 1\n",
    "            k += 1\n",
    "    return result\n"
   ]
  },
  {
   "cell_type": "code",
   "execution_count": 98,
   "metadata": {},
   "outputs": [],
   "source": [
    "def merge1(l, r, output):\n",
    "    n = 4\n",
    "    print(output)\n",
    "    # to store the starting point of left and right array\n",
    "    l_in = l * n ;\n",
    "    r_in = ((l + r) // 2 + 1) * n;\n",
    " \n",
    "    # to store the size of left and right array\n",
    "    l_c = ((l + r) // 2 - l + 1) * n;\n",
    "    r_c = (r - (l + r) // 2) * n;\n",
    "    print(l_c, r_c)\n",
    "    # array to temporarily store left and right array\n",
    "    l_arr = [0] * l_c; r_arr = [0] * r_c;\n",
    " \n",
    "    # storing data in left array\n",
    "    for i in range(l_c) :\n",
    "        l_arr[i] = output[l_in + i];\n",
    " \n",
    "    # storing data in right array\n",
    "    for i in range(r_c) :\n",
    "        r_arr[i] = output[r_in + i];\n",
    " \n",
    "    # to store the current index of temporary left and right array\n",
    "    l_curr = 0 ; r_curr = 0;\n",
    " \n",
    "    # to store the current index for output array\n",
    "    in1 = l_in;\n",
    " \n",
    "    # two pointer merge for two sorted arrays\n",
    "    while (l_curr + r_curr < l_c + r_c) :\n",
    "        if (r_curr == r_c or (l_curr != l_c and\n",
    "            l_arr[l_curr] < r_arr[r_curr])) :\n",
    "            output[in1] = l_arr[l_curr];\n",
    "            l_curr += 1; in1 += 1;\n",
    "        else :\n",
    "            output[in1] = r_arr[r_curr];\n",
    "            r_curr += 1; in1 += 1;\n",
    "    print(output)\n",
    "    return output\n"
   ]
  },
  {
   "cell_type": "code",
   "execution_count": null,
   "metadata": {},
   "outputs": [],
   "source": []
  },
  {
   "cell_type": "code",
   "execution_count": null,
   "metadata": {},
   "outputs": [],
   "source": []
  },
  {
   "cell_type": "code",
   "execution_count": null,
   "metadata": {},
   "outputs": [],
   "source": []
  }
 ],
 "metadata": {
  "kernelspec": {
   "display_name": "Python 3",
   "language": "python",
   "name": "python3"
  },
  "language_info": {
   "codemirror_mode": {
    "name": "ipython",
    "version": 3
   },
   "file_extension": ".py",
   "mimetype": "text/x-python",
   "name": "python",
   "nbconvert_exporter": "python",
   "pygments_lexer": "ipython3",
   "version": "3.9.2"
  }
 },
 "nbformat": 4,
 "nbformat_minor": 4
}
