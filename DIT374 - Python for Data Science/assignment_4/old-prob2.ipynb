{
 "cells": [
  {
   "cell_type": "code",
   "execution_count": 1,
   "metadata": {},
   "outputs": [],
   "source": [
    "class merge_list():\n",
    "    def merge_k_list(lists):\n",
    "        if not lists or len(lists) == 0:\n",
    "            return None\n",
    "\n",
    "        while len(lists) > 1:\n",
    "            mergedList = []\n",
    "            for i in range(0,len(lists),2):\n",
    "                l1 = lists[i]\n",
    "                l2 = lists[i + 1] if i+1 < len(lists) else None\n",
    "\n",
    "                mergedList.append(mergeList(l1,l2))\n",
    "            lists = mergedList\n",
    "        return lists[0]\n",
    "\n",
    "    def mergeList(l1, l2):\n",
    "        temp = ListNode()\n",
    "        tail = temp\n",
    "\n",
    "        while l1 and l2:\n",
    "            if l1.val < l2.val:\n",
    "                tail.next = l1\n",
    "                l1 = l1.next\n",
    "            else:\n",
    "                tail.next = l2\n",
    "                l2 = l2.next\n",
    "            tail = tail.next\n",
    "        if l1: tail.next = l1\n",
    "        if l2: tail.next = l2\n",
    "        return temp.next"
   ]
  },
  {
   "cell_type": "code",
   "execution_count": 2,
   "metadata": {},
   "outputs": [
    {
     "ename": "NameError",
     "evalue": "name 'merge_k_list' is not defined",
     "output_type": "error",
     "traceback": [
      "\u001b[1;31m---------------------------------------------------------------------------\u001b[0m",
      "\u001b[1;31mNameError\u001b[0m                                 Traceback (most recent call last)",
      "\u001b[1;32m<ipython-input-2-2140028c79ef>\u001b[0m in \u001b[0;36m<module>\u001b[1;34m\u001b[0m\n\u001b[0;32m      1\u001b[0m \u001b[0mtest_l\u001b[0m \u001b[1;33m=\u001b[0m \u001b[1;33m[\u001b[0m\u001b[1;33m[\u001b[0m\u001b[1;36m1\u001b[0m\u001b[1;33m,\u001b[0m \u001b[1;36m3\u001b[0m\u001b[1;33m,\u001b[0m \u001b[1;36m5\u001b[0m\u001b[1;33m]\u001b[0m\u001b[1;33m,\u001b[0m\u001b[1;33m[\u001b[0m\u001b[1;36m1\u001b[0m\u001b[1;33m,\u001b[0m \u001b[1;36m2\u001b[0m\u001b[1;33m,\u001b[0m \u001b[1;36m7\u001b[0m\u001b[1;33m,\u001b[0m \u001b[1;36m9\u001b[0m\u001b[1;33m]\u001b[0m\u001b[1;33m,\u001b[0m \u001b[1;33m[\u001b[0m\u001b[1;36m0\u001b[0m\u001b[1;33m,\u001b[0m \u001b[1;36m6\u001b[0m\u001b[1;33m,\u001b[0m \u001b[1;36m8\u001b[0m\u001b[1;33m]\u001b[0m\u001b[1;33m]\u001b[0m\u001b[1;33m\u001b[0m\u001b[1;33m\u001b[0m\u001b[0m\n\u001b[1;32m----> 2\u001b[1;33m \u001b[0mmerge_k_list\u001b[0m\u001b[1;33m(\u001b[0m\u001b[0mtest_l\u001b[0m\u001b[1;33m)\u001b[0m\u001b[1;33m\u001b[0m\u001b[1;33m\u001b[0m\u001b[0m\n\u001b[0m",
      "\u001b[1;31mNameError\u001b[0m: name 'merge_k_list' is not defined"
     ]
    }
   ],
   "source": [
    "test_l = [[1, 3, 5],[1, 2, 7, 9], [0, 6, 8]]\n",
    "merge_k_list(test_l)"
   ]
  },
  {
   "cell_type": "code",
   "execution_count": 3,
   "metadata": {},
   "outputs": [],
   "source": [
    "def min_idx(lists):\n",
    "    idx = 0\n",
    "\n",
    "    for i in range(len(lists)):\n",
    "        if lists[i].val < lists[idx].val:\n",
    "            idx = i\n",
    "    return idx\n",
    "\n",
    "def mergeKLists(lists):\n",
    "    head = tail = ListNode(-1)\n",
    "\n",
    "    lists = list(filter(lambda x: x is not None, lists))\n",
    "\n",
    "    while len(lists) > 0:\n",
    "        m_idx = min_idx(lists)\n",
    "\n",
    "        tail.next = lists[m_idx]\n",
    "        tail = tail.next\n",
    "        lists[m_idx] = lists[m_idx].next\n",
    "\n",
    "        if lists[m_idx] is None:\n",
    "            del lists[m_idx]\n",
    "\n",
    "    return head.next"
   ]
  },
  {
   "cell_type": "code",
   "execution_count": 4,
   "metadata": {},
   "outputs": [],
   "source": [
    "def min_idx(lists):\n",
    "    idx = 0\n",
    "\n",
    "    for i in range(len(lists)):\n",
    "        if lists[i].val < lists[idx].val:\n",
    "            idx = i\n",
    "    return idx\n",
    "\n",
    "def mergeKLists(lists):\n",
    "    head = tail = ListNode(-1)\n",
    "\n",
    "    lists = list(filter(lambda x: x is not None, lists))\n",
    "\n",
    "    while len(lists) > 0:\n",
    "        m_idx = min_idx(lists)\n",
    "\n",
    "        tail.next = lists[m_idx]\n",
    "        tail = tail.next\n",
    "        lists[m_idx] = lists[m_idx].next\n",
    "\n",
    "        if lists[m_idx] is None:\n",
    "            del lists[m_idx]\n",
    "\n",
    "    return head.next"
   ]
  },
  {
   "cell_type": "code",
   "execution_count": null,
   "metadata": {},
   "outputs": [],
   "source": [
    "lists = [[1, 3, 5],[1, 2, 7, 9], [0, 6, 8]]\n",
    "mergeKLists(lists)"
   ]
  }
 ],
 "metadata": {
  "kernelspec": {
   "display_name": "Python 3",
   "language": "python",
   "name": "python3"
  },
  "language_info": {
   "codemirror_mode": {
    "name": "ipython",
    "version": 3
   },
   "file_extension": ".py",
   "mimetype": "text/x-python",
   "name": "python",
   "nbconvert_exporter": "python",
   "pygments_lexer": "ipython3",
   "version": "3.9.2"
  }
 },
 "nbformat": 4,
 "nbformat_minor": 4
}
