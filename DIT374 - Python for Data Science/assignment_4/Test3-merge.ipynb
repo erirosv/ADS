{
 "cells": [
  {
   "cell_type": "code",
   "execution_count": null,
   "metadata": {},
   "outputs": [],
   "source": []
  },
  {
   "cell_type": "markdown",
   "metadata": {},
   "source": [
    "MergeSort\n",
    "---\n",
    "\n",
    "This is the old one which works for 1 list as input"
   ]
  },
  {
   "cell_type": "code",
   "execution_count": null,
   "metadata": {},
   "outputs": [],
   "source": [
    "def mergeSort(lst):\n",
    "    if len(lst)>1:\n",
    "        mid = len(lst)//2\n",
    "        left = lst[:mid]\n",
    "        right = lst[mid:]\n",
    "\n",
    "        mergeSort(left)\n",
    "        mergeSort(right)\n",
    "\n",
    "        i=0\n",
    "        j=0\n",
    "        k=0\n",
    "        while i < len(left) and j < len(right):\n",
    "            if left[i] <= right[j]:\n",
    "                lst[k]=left[i]\n",
    "                i=i+1\n",
    "            else:\n",
    "                lst[k]=right[j]\n",
    "                j=j+1\n",
    "            k=k+1\n",
    "\n",
    "        while i < len(left):\n",
    "            lst[k]=left[i]\n",
    "            i=i+1\n",
    "            k=k+1\n",
    "\n",
    "        while j < len(right):\n",
    "            lst[k]=right[j]\n",
    "            j=j+1\n",
    "            k=k+1\n",
    "    return lst"
   ]
  },
  {
   "cell_type": "markdown",
   "metadata": {},
   "source": [
    "MergeSort\n",
    "---\n",
    "\n",
    "This takes in 2 lists as input"
   ]
  },
  {
   "cell_type": "code",
   "execution_count": 145,
   "metadata": {},
   "outputs": [],
   "source": []
  },
  {
   "cell_type": "code",
   "execution_count": 1,
   "metadata": {},
   "outputs": [],
   "source": [
    "def mergeSort_w(a, b):\n",
    "    lst = []\n",
    "    if len(a)>1 and len(b) > 1:\n",
    "        c = a + b\n",
    "        #print(len(a), len(b))\n",
    "        mid = len(c)//2\n",
    "        left = c[:mid]\n",
    "        right = c[mid:]\n",
    "\n",
    "        mergeSort_w(left, right)\n",
    "        #mergeSort(right)\n",
    "\n",
    "        i=0\n",
    "        j=0\n",
    "        k=0\n",
    "        while i < len(left) and j < len(right):\n",
    "            if left[i] <= right[j]:\n",
    "                lst[k]=left[i]\n",
    "                i=i+1\n",
    "            else:\n",
    "                lst[k]=right[j]\n",
    "                j=j+1\n",
    "            k=k+1\n",
    "\n",
    "        while i < len(left):\n",
    "            lst[k]=left[i]\n",
    "            i=i+1\n",
    "            k=k+1\n",
    "\n",
    "        while j < len(right):\n",
    "            lst[k]=right[j]\n",
    "            j=j+1\n",
    "            k=k+1\n",
    "        return lst\n",
    "    elif len(a)>1 and b == []:\n",
    "        mid = len(a)//2\n",
    "        left = a[:mid]\n",
    "        right = a[mid:]\n",
    "\n",
    "        mergeSort_w(left, right)\n",
    "        #mergeSort(left)\n",
    "        #mergeSort(right)\n",
    "\n",
    "        i=0\n",
    "        j=0\n",
    "        k=0\n",
    "        while i < len(left) and j < len(right):\n",
    "            if left[i] <= right[j]:\n",
    "                lst[k]=left[i]\n",
    "                i=i+1\n",
    "            else:\n",
    "                lst[k]=right[j]\n",
    "                j=j+1\n",
    "            k=k+1\n",
    "\n",
    "        while i < len(left):\n",
    "            lst[k]=left[i]\n",
    "            i=i+1\n",
    "            k=k+1\n",
    "\n",
    "        while j < len(right):\n",
    "            lst[k]=right[j]\n",
    "            j=j+1\n",
    "            k=k+1\n",
    "        return lst"
   ]
  },
  {
   "cell_type": "code",
   "execution_count": 2,
   "metadata": {},
   "outputs": [],
   "source": [
    "def sendList(li):\n",
    "    lst = []\n",
    "    for i in range(len(li)):\n",
    "        try:\n",
    "            if (i != len(li)):\n",
    "                lst += mergeSort_w(li[i], li[i+1])\n",
    "            elif i == len(li):\n",
    "                lst += merge_k_sorted_lists(li[-1], [])\n",
    "        except:\n",
    "            pass\n",
    "    return lst"
   ]
  },
  {
   "cell_type": "code",
   "execution_count": null,
   "metadata": {},
   "outputs": [],
   "source": [
    "A = []\n",
    "testList = [[1, 3, 5],[1, 2, 7, 9], [0, 6, 8]]\n",
    "A = sendList(testList)\n",
    "print('A',A)"
   ]
  },
  {
   "cell_type": "code",
   "execution_count": null,
   "metadata": {},
   "outputs": [],
   "source": []
  },
  {
   "cell_type": "code",
   "execution_count": null,
   "metadata": {},
   "outputs": [],
   "source": []
  },
  {
   "cell_type": "code",
   "execution_count": 20,
   "metadata": {},
   "outputs": [],
   "source": [
    "def merge_k_sorted_lists(lst1, lst2):\n",
    "    lst = []\n",
    "    #i=0\n",
    "    #j=0\n",
    "    #k=0\n",
    "    print('lists and legth FIRST', len(lst1), len(lst2))\n",
    "    if len(lst1) > 1 and len(lst2) > 1:\n",
    "        print('inside first if',lst1,lst2)\n",
    "        i=0\n",
    "        j=0\n",
    "        k=0\n",
    "        while i < len(lst1) and j < len(lst2):\n",
    "            len('L before if',lst1), len(lst2)\n",
    "            print(k, i, j)\n",
    "            print(lst1[i],lst2[j])\n",
    "            print('i =',i)\n",
    "            if lst1[i] <= lst2[j]:\n",
    "                lst[k] = lst1[i]\n",
    "                i += 1\n",
    "                print('i =',i)\n",
    "            else:\n",
    "                print('else')\n",
    "                lst[k]=lst2[j]\n",
    "                j += I\n",
    "                print(lst1,lst2)\n",
    "            k=k+1\n",
    "        print('after while',k, i, j)\n",
    "        while i < len(lst1):\n",
    "            print('while2')\n",
    "            lst[k]=lst1[i]\n",
    "            i=i+1\n",
    "            k=k+1\n",
    "            print(lst1,lst2)\n",
    "\n",
    "        while j < len(lst2):\n",
    "            lst[k]=lst2[j]\n",
    "            j=j+1\n",
    "            k=k+1\n",
    "            print(lst)\n",
    "    elif len(lst) > 1 and lst2 == None:\n",
    "        mid = len(lst1)//2\n",
    "        left = lst1[:mid]\n",
    "        right = lst1[mid:]\n",
    "        \n",
    "        print('failed with recusion - split')\n",
    "        merge_k_sorted_lists(left, right)\n",
    "        print('success with recusion - split')\n",
    "        #i=0\n",
    "        #j=0\n",
    "        #k=0\n",
    "        while i < len(left) and j < len(right):\n",
    "            if left[i] <= right[j]:\n",
    "                lst[k]=left[i]\n",
    "                i=i+1\n",
    "            else:\n",
    "                lst[k]=right[j]\n",
    "                j=j+1\n",
    "            k=k+1\n",
    "\n",
    "        while i < len(left):\n",
    "            lst[k]=left[i]\n",
    "            i=i+1\n",
    "            k=k+1\n",
    "\n",
    "        while j < len(right):\n",
    "            lst[k]=right[j]\n",
    "            j=j+1\n",
    "            k=k+1\n",
    "    return lst\n",
    "    "
   ]
  },
  {
   "cell_type": "code",
   "execution_count": 21,
   "metadata": {},
   "outputs": [],
   "source": [
    "def sendList(li):\n",
    "    lst = []\n",
    "    for i in range(len(li)):\n",
    "        try:\n",
    "            if (i != len(li)):\n",
    "                lst += merge_k_sorted_lists(li[i], li[i+1])\n",
    "                print('from merge',lst)\n",
    "                i += 1\n",
    "            elif i == len(li):\n",
    "                lst += merge_k_sorted_lists(li[-1], None)\n",
    "                print('from merge',lst)\n",
    "        except:\n",
    "            pass\n",
    "    return lst"
   ]
  },
  {
   "cell_type": "code",
   "execution_count": 22,
   "metadata": {},
   "outputs": [
    {
     "name": "stdout",
     "output_type": "stream",
     "text": [
      "lists and legth FIRST 3 4\n",
      "inside first if [1, 3, 5] [1, 2, 7, 9]\n",
      "lists and legth FIRST 4 3\n",
      "inside first if [1, 2, 7, 9] [0, 6, 8]\n",
      "A []\n"
     ]
    }
   ],
   "source": [
    "A = []\n",
    "testList = [[1, 3, 5],[1, 2, 7, 9], [0, 6, 8]]\n",
    "A = sendList(testList)\n",
    "print('A',A)"
   ]
  },
  {
   "cell_type": "code",
   "execution_count": null,
   "metadata": {},
   "outputs": [],
   "source": []
  },
  {
   "cell_type": "code",
   "execution_count": null,
   "metadata": {},
   "outputs": [],
   "source": []
  },
  {
   "cell_type": "code",
   "execution_count": 104,
   "metadata": {},
   "outputs": [],
   "source": [
    "def fraud_detect_merge(first_booth_voters, second_booth_voters):\n",
    "    #fraud = VoterList()\n",
    "    fraud = []\n",
    "    comparisons = 0\n",
    "\n",
    "    first_booth_voters.sort()     # if not already sorted\n",
    "    second_booth_voters.sort()    # if not already sorted\n",
    "\n",
    "    first = first_booth_voters[0]\n",
    "    second = second_booth_voters[0]\n",
    "\n",
    "    while first_booth_voters and second_booth_voters:\n",
    "        comparisons += 1\n",
    "\n",
    "        if first == second:\n",
    "            fraud.append(first)\n",
    "            first = first_booth_voters.pop(0)\n",
    "            second = second_booth_voters.pop(0)\n",
    "        elif first < second:\n",
    "            first = first_booth_voters.pop(0)\n",
    "        else:\n",
    "            second = second_booth_voters.pop(0)\n",
    "\n",
    "    return fraud, comparisons"
   ]
  },
  {
   "cell_type": "code",
   "execution_count": 105,
   "metadata": {},
   "outputs": [
    {
     "data": {
      "text/plain": [
       "([1, 1], 4)"
      ]
     },
     "execution_count": 105,
     "metadata": {},
     "output_type": "execute_result"
    }
   ],
   "source": [
    "fraud_detect_merge([1, 3, 5],[1, 2, 7, 9])"
   ]
  },
  {
   "cell_type": "code",
   "execution_count": null,
   "metadata": {},
   "outputs": [],
   "source": []
  }
 ],
 "metadata": {
  "kernelspec": {
   "display_name": "Python 3",
   "language": "python",
   "name": "python3"
  },
  "language_info": {
   "codemirror_mode": {
    "name": "ipython",
    "version": 3
   },
   "file_extension": ".py",
   "mimetype": "text/x-python",
   "name": "python",
   "nbconvert_exporter": "python",
   "pygments_lexer": "ipython3",
   "version": "3.9.2"
  }
 },
 "nbformat": 4,
 "nbformat_minor": 4
}
