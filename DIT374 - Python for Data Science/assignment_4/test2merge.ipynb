{
 "cells": [
  {
   "cell_type": "code",
   "execution_count": 3,
   "metadata": {},
   "outputs": [],
   "source": [
    "def sort(l1, l2):\n",
    "    if len(l1) > 1:\n",
    "        lst = []\n",
    "        \"\"\"if l2 == []:\n",
    "            middle_point = len(l1) // 2\n",
    "            left = l1[:middle_point]\n",
    "            right = l1[middle_point:]\n",
    "\n",
    "        else:\n",
    "            temp = []\n",
    "            temp = l1 + l2\n",
    "            middle_point = len(temp) // 2\n",
    "            left = temp[:middle_point]\n",
    "            right = temp[middle_point:]\n",
    "            left = l1\n",
    "            right = l2\"\"\"\n",
    "\n",
    "        if len(l1)>1 and len(l2)>1:\n",
    "            #temp = []\n",
    "            #temp = l1 + l2\n",
    "            #print(temp)\n",
    "            #middle_point = len(temp) // 2\n",
    "            #left = temp[:middle_point]\n",
    "            #right = temp[middle_point:]\n",
    "            left = l1\n",
    "            right = l2\n",
    "        else:\n",
    "            middle_point = len(l1) // 2\n",
    "            left = l1[:middle_point]\n",
    "            right = l1[middle_point:]\n",
    "\n",
    "\n",
    "        # recursive calls\n",
    "        sort(left, right)\n",
    "        #sort(right) print(left, right)\n",
    "        print('after rec')    \n",
    "        i = 0\n",
    "        j = 0\n",
    "        k = 0  \n",
    "        while i < len(left) and j < len(right):\n",
    "            if left[i] < right[j]:\n",
    "                lst[k] = left[i]\n",
    "                i += 1\n",
    "                print(left, right)\n",
    "            else:\n",
    "                lst[k] = right[j]\n",
    "                j += 1\n",
    "                k += 1\n",
    "\n",
    "            while i < len(left):\n",
    "                lst[k] = left[i]\n",
    "                i += 1\n",
    "                k += 1\n",
    "\n",
    "            while j < len(right):\n",
    "                lst[k] = right[j]\n",
    "                j += 1\n",
    "                k += 1\n",
    "            \n",
    "    return lst"
   ]
  },
  {
   "cell_type": "code",
   "execution_count": null,
   "metadata": {},
   "outputs": [],
   "source": [
    "def sendList(li):\n",
    "    lst = []\n",
    "    for i in range(len(li)):\n",
    "        if (i != len(li)):\n",
    "            lst += sort(li[i], li[i+1])\n",
    "        else:\n",
    "            lst += sort(li[i], [])\n",
    "    return lst\n",
    "\n",
    "A = []\n",
    "testList = [[1, 3, 5],[1, 2, 7, 9], [0, 6, 8]]\n",
    "A = sendList(testList)\n",
    "print('A',A)\n",
    "B = []\n",
    "B = sort(A)\n",
    "print(B)"
   ]
  },
  {
   "cell_type": "code",
   "execution_count": 16,
   "metadata": {},
   "outputs": [
    {
     "ename": "IndentationError",
     "evalue": "expected an indented block (<ipython-input-16-13ff5e78fadd>, line 7)",
     "output_type": "error",
     "traceback": [
      "\u001b[1;36m  File \u001b[1;32m\"<ipython-input-16-13ff5e78fadd>\"\u001b[1;36m, line \u001b[1;32m7\u001b[0m\n\u001b[1;33m    return lst\u001b[0m\n\u001b[1;37m    ^\u001b[0m\n\u001b[1;31mIndentationError\u001b[0m\u001b[1;31m:\u001b[0m expected an indented block\n"
     ]
    }
   ],
   "source": [
    "def sendList(li):\n",
    "    lst = []\n",
    "    for i in range(len(li)):\n",
    "        \n",
    "    return lst\n",
    "\n",
    "def printLst(lst):\n",
    "    for i in range(len(lst)):\n",
    "        print(lst[i], end = ' ')\n",
    "    print()"
   ]
  },
  {
   "cell_type": "code",
   "execution_count": 10,
   "metadata": {},
   "outputs": [
    {
     "name": "stdout",
     "output_type": "stream",
     "text": [
      "[1, 3, 5, 1, 2, 7, 9, 0, 6, 8]\n"
     ]
    },
    {
     "ename": "TypeError",
     "evalue": "sort() missing 1 required positional argument: 'l2'",
     "output_type": "error",
     "traceback": [
      "\u001b[1;31m---------------------------------------------------------------------------\u001b[0m",
      "\u001b[1;31mTypeError\u001b[0m                                 Traceback (most recent call last)",
      "\u001b[1;32m<ipython-input-10-4fa21d6eda65>\u001b[0m in \u001b[0;36m<module>\u001b[1;34m\u001b[0m\n\u001b[0;32m      2\u001b[0m \u001b[0mtestList\u001b[0m \u001b[1;33m=\u001b[0m \u001b[0mmergeList\u001b[0m\u001b[1;33m(\u001b[0m\u001b[0mtestList\u001b[0m\u001b[1;33m)\u001b[0m\u001b[1;33m\u001b[0m\u001b[1;33m\u001b[0m\u001b[0m\n\u001b[0;32m      3\u001b[0m \u001b[0mprint\u001b[0m\u001b[1;33m(\u001b[0m\u001b[0mtestList\u001b[0m\u001b[1;33m)\u001b[0m\u001b[1;33m\u001b[0m\u001b[1;33m\u001b[0m\u001b[0m\n\u001b[1;32m----> 4\u001b[1;33m \u001b[0msort\u001b[0m\u001b[1;33m(\u001b[0m\u001b[0mtestList\u001b[0m\u001b[1;33m)\u001b[0m\u001b[1;33m\u001b[0m\u001b[1;33m\u001b[0m\u001b[0m\n\u001b[0m",
      "\u001b[1;31mTypeError\u001b[0m: sort() missing 1 required positional argument: 'l2'"
     ]
    }
   ],
   "source": [
    "testList = [[1, 3, 5],[1, 2, 7, 9], [0, 6, 8]]\n",
    "testList = mergeList(testList)\n",
    "print(testList)\n",
    "sort(testList)"
   ]
  },
  {
   "cell_type": "code",
   "execution_count": 1,
   "metadata": {},
   "outputs": [],
   "source": [
    "def sort(l1, l2):\n",
    "    if len(l1) > 1:\n",
    "        lst = []\n",
    "        if l2 == []:\n",
    "            mp = len(l1) // 2\n",
    "            left = l1[:mp]\n",
    "            right = l1[mp:]\n",
    "            \n",
    "        elif len(l2) != []:\n",
    "            left = l1\n",
    "            right = l2\n",
    "            \n",
    "        else:\n",
    "            pass\n",
    "\n",
    "        # recursive calls\n",
    "        sort(left, right)\n",
    "        #sort(right)\n",
    "\n",
    "        i = 0\n",
    "        j = 0\n",
    "        k = 0\n",
    "\n",
    "        while i < len(left) and j < len(right):\n",
    "            if left[i] < right[j]:\n",
    "                lst[k] = left[i]\n",
    "                i += 1\n",
    "            else:\n",
    "                lst[k] = right[j]\n",
    "                j += 1\n",
    "                k += 1\n",
    "\n",
    "            while i < len(left):\n",
    "                lst[k] = left[i]\n",
    "                i += 1\n",
    "                k += 1\n",
    "\n",
    "            while j < len(right):\n",
    "                lst[k] = right[j]\n",
    "                j += 1\n",
    "                k += 1\n",
    "    return lst"
   ]
  },
  {
   "cell_type": "code",
   "execution_count": 2,
   "metadata": {},
   "outputs": [],
   "source": [
    "def seed_list(lst):\n",
    "    if len(lst) > 1:\n",
    "        pass\n",
    "    else:\n",
    "        print('List is empty')\n",
    "        return []\n",
    "    "
   ]
  },
  {
   "cell_type": "code",
   "execution_count": null,
   "metadata": {},
   "outputs": [],
   "source": [
    "l = [1,4,2,7,5]\n",
    "b = []\n",
    "print(len(b))\n",
    "sort_2 = sort(l, b)\n",
    "print(sort_2)"
   ]
  },
  {
   "cell_type": "code",
   "execution_count": null,
   "metadata": {},
   "outputs": [],
   "source": []
  },
  {
   "cell_type": "code",
   "execution_count": 22,
   "metadata": {},
   "outputs": [],
   "source": [
    "def merge_k_sort(lst):\n",
    "    if len(lst) > 1:\n",
    "        middle_point = len(lst) // 2\n",
    "        left = lst[:middle_point]\n",
    "        right = lst[middle_point:]\n",
    "        \n",
    "        # recursive calls\n",
    "        merge_k_sort(left)\n",
    "        merge_k_sort(right)\n",
    "        \n",
    "        i = 0 # index for left\n",
    "        j = 0 # index for right\n",
    "        k = 0 # indoex for sorted list\n",
    "        \n",
    "        while i < len(left) and j < len(right):\n",
    "            if left[i] < right[j]:\n",
    "                lst[k] = left[i]\n",
    "                i += 1\n",
    "            else:\n",
    "                lst[k] = right[j]\n",
    "                j += 1\n",
    "            k += 1\n",
    "            \n",
    "            while i < len(left):\n",
    "                lst[k] = left[i]\n",
    "                i += 1\n",
    "                k += 1\n",
    "            \n",
    "            while j < len(right):\n",
    "                lst[k] = right[j]\n",
    "                j += 1\n",
    "                k += 1\n",
    "    return lst"
   ]
  },
  {
   "cell_type": "code",
   "execution_count": 23,
   "metadata": {},
   "outputs": [],
   "source": [
    "def seed_list(lst):\n",
    "    li = []\n",
    "    final = []\n",
    "    temp = []\n",
    "    for i in range(len(lst)):\n",
    "        li += merge_k_sort(lst[i])\n",
    "    final += merge_k_sort(li)\n",
    "    \n",
    "    return final"
   ]
  },
  {
   "cell_type": "code",
   "execution_count": 24,
   "metadata": {},
   "outputs": [
    {
     "name": "stdout",
     "output_type": "stream",
     "text": [
      "A [0, 1, 1, 3, 5, 2, 7, 9, 6, 8]\n",
      "[0, 1, 1, 3, 5, 2, 7, 6, 8, 9]\n"
     ]
    }
   ],
   "source": [
    "A = []\n",
    "testList = [[1, 3, 5],[1, 2, 7, 9], [0, 6, 8]]\n",
    "A = seed_list(testList)\n",
    "print('A',A)\n",
    "for i in range(len(A)):\n",
    "    B = merge_k_sort(A)\n",
    "    #print(B)\n",
    "print(B)"
   ]
  },
  {
   "cell_type": "code",
   "execution_count": null,
   "metadata": {},
   "outputs": [],
   "source": []
  },
  {
   "cell_type": "code",
   "execution_count": null,
   "metadata": {},
   "outputs": [],
   "source": []
  },
  {
   "cell_type": "code",
   "execution_count": null,
   "metadata": {},
   "outputs": [],
   "source": []
  },
  {
   "cell_type": "code",
   "execution_count": 42,
   "metadata": {},
   "outputs": [
    {
     "ename": "IndentationError",
     "evalue": "unexpected indent (<ipython-input-42-e6f3326281d3>, line 2)",
     "output_type": "error",
     "traceback": [
      "\u001b[1;36m  File \u001b[1;32m\"<ipython-input-42-e6f3326281d3>\"\u001b[1;36m, line \u001b[1;32m2\u001b[0m\n\u001b[1;33m    a[] is the array, p is starting index, that is 0,\u001b[0m\n\u001b[1;37m    ^\u001b[0m\n\u001b[1;31mIndentationError\u001b[0m\u001b[1;31m:\u001b[0m unexpected indent\n"
     ]
    }
   ],
   "source": [
    "/*  \n",
    "    a[] is the array, p is starting index, that is 0, \n",
    "    and r is the last index of array. \n",
    "*/\n",
    "\n",
    "#include <stdio.h>\n",
    "\n",
    "// lets take a[5] = {32, 45, 67, 2, 7} as the array to be sorted.\n",
    "\n",
    "// merge sort function\n",
    "void mergeSort(int a[], int p, int r)\n",
    "{\n",
    "    int q;\n",
    "    if(p < r)\n",
    "    {\n",
    "        q = (p + r) / 2;\n",
    "        mergeSort(a, p, q);\n",
    "        mergeSort(a, q+1, r);\n",
    "        merge(a, p, q, r);\n",
    "    }\n",
    "}\n",
    "\n",
    "// function to merge the subarrays\n",
    "void merge(int a[], int p, int q, int r)\n",
    "{\n",
    "    int b[5];   //same size of a[]\n",
    "    int i, j, k;\n",
    "    k = 0;\n",
    "    i = p;\n",
    "    j = q + 1;\n",
    "    while(i <= q && j <= r)\n",
    "    {\n",
    "        if(a[i] < a[j])\n",
    "        {\n",
    "            b[k++] = a[i++];    // same as b[k]=a[i]; k++; i++;\n",
    "        }\n",
    "        else\n",
    "        {\n",
    "            b[k++] = a[j++];\n",
    "        }\n",
    "    }\n",
    "  \n",
    "    while(i <= q)\n",
    "    {\n",
    "        b[k++] = a[i++];\n",
    "    }\n",
    "  \n",
    "    while(j <= r)\n",
    "    {\n",
    "        b[k++] = a[j++];\n",
    "    }\n",
    "  \n",
    "    for(i=r; i >= p; i--)\n",
    "    {\n",
    "        a[i] = b[--k];  // copying back the sorted list to a[]\n",
    "    } \n",
    "}\n",
    "\n",
    "// function to print the array\n",
    "void printArray(int a[], int size)\n",
    "{\n",
    "    int i;\n",
    "    for (i=0; i < size; i++)\n",
    "    {\n",
    "        printf(\"%d \", a[i]);\n",
    "    }\n",
    "    printf(\"\\n\");\n",
    "}\n",
    " \n",
    "int main()\n",
    "{\n",
    "    int arr[] = {32, 45, 67, 2, 7};\n",
    "    int len = sizeof(arr)/sizeof(arr[0]);\n",
    " \n",
    "    printf(\"Given array: \\n\");\n",
    "    printArray(arr, len);\n",
    "    \n",
    "    // calling merge sort\n",
    "    mergeSort(arr, 0, len - 1);\n",
    " \n",
    "    printf(\"\\nSorted array: \\n\");\n",
    "    printArray(arr, len);\n",
    "    return 0;\n",
    "}"
   ]
  },
  {
   "cell_type": "code",
   "execution_count": null,
   "metadata": {},
   "outputs": [],
   "source": []
  },
  {
   "cell_type": "markdown",
   "metadata": {},
   "source": [
    "WORKING tempt 2\n",
    "---\n",
    "\n",
    "This code takes in small list sorts them, return to funtion and then append it to next part of list and sort the new list\n",
    "\n",
    "source:\n",
    "- https://runestone.academy/runestone/books/published/pythonds/SortSearch/TheMergeSort.html"
   ]
  },
  {
   "cell_type": "code",
   "execution_count": 7,
   "metadata": {},
   "outputs": [],
   "source": [
    "def mergeSort(lst):\n",
    "    if len(lst)>1:\n",
    "        mid = len(lst)//2\n",
    "        left = lst[:mid]\n",
    "        right = lst[mid:]\n",
    "\n",
    "        mergeSort(left)\n",
    "        mergeSort(right)\n",
    "\n",
    "        i=0\n",
    "        j=0\n",
    "        k=0\n",
    "        while i < len(left) and j < len(right):\n",
    "            if left[i] <= right[j]:\n",
    "                lst[k]=left[i]\n",
    "                i=i+1\n",
    "            else:\n",
    "                lst[k]=right[j]\n",
    "                j=j+1\n",
    "            k=k+1\n",
    "\n",
    "        while i < len(left):\n",
    "            lst[k]=left[i]\n",
    "            i=i+1\n",
    "            k=k+1\n",
    "\n",
    "        while j < len(right):\n",
    "            lst[k]=right[j]\n",
    "            j=j+1\n",
    "            k=k+1\n",
    "    return lst"
   ]
  },
  {
   "cell_type": "code",
   "execution_count": 8,
   "metadata": {},
   "outputs": [],
   "source": [
    "def seed_list(lst):\n",
    "    li = []\n",
    "    final = []\n",
    "    temp = []\n",
    "    for i in range(len(lst)):\n",
    "        li += mergeSort(lst[i])\n",
    "    final += mergeSort(li)\n",
    "    return final"
   ]
  },
  {
   "cell_type": "code",
   "execution_count": 9,
   "metadata": {},
   "outputs": [
    {
     "name": "stdout",
     "output_type": "stream",
     "text": [
      "A [0, 1, 1, 2, 3, 5, 6, 7, 8, 9]\n"
     ]
    }
   ],
   "source": [
    "A = []\n",
    "testList = [[1, 3, 5],[1, 2, 7, 9], [0, 6, 8]]\n",
    "A = seed_list(testList)\n",
    "print('A',A)"
   ]
  },
  {
   "cell_type": "code",
   "execution_count": 11,
   "metadata": {},
   "outputs": [
    {
     "name": "stdout",
     "output_type": "stream",
     "text": [
      "A [0, 0, 1, 1, 1, 1, 2, 2, 2, 3, 4, 5, 5, 6, 6, 7, 7, 7, 7, 7, 8, 8, 9, 9, 9, 13, 14, 40, 94, 346, 486, 543, 547, 654, 657, 3245, 4040, 8948, 48754, 94790, 435346]\n"
     ]
    }
   ],
   "source": [
    "A = []\n",
    "testList = [[1, 3, 5, 1, 2, 7, 9, 1, 2, 7, 9,5,3245,346,14,7,7,8948,4,94,94790,40,4040,486,543,657,654],[1, 2, 7, 435346,13,547,48754,9, 0, 6, 8], [0, 6, 8]]\n",
    "A = seed_list(testList)\n",
    "print('A',A)"
   ]
  },
  {
   "cell_type": "markdown",
   "metadata": {},
   "source": [
    "Improve code\n",
    "---\n",
    "\n",
    "trying to work with tempt 2 to improve it\n",
    "\n",
    "TODO:\n",
    "- change input to 2 small lists\n",
    "- sort each of them and merge them\n"
   ]
  },
  {
   "cell_type": "code",
   "execution_count": null,
   "metadata": {},
   "outputs": [],
   "source": []
  },
  {
   "cell_type": "code",
   "execution_count": 16,
   "metadata": {},
   "outputs": [],
   "source": [
    "def mergeSort(lst):\n",
    "    alist = []\n",
    "    print(lst)\n",
    "    for i in range(len(lst)):\n",
    "        for j in range(len(lst[i])):\n",
    "            alist += lst[i]\n",
    "        \n",
    "    if len(alist)>1:\n",
    "        mid = len(alist)//2\n",
    "        lefthalf = alist[:mid]\n",
    "        righthalf = alist[mid:]\n",
    "\n",
    "        mergeSort(lefthalf)\n",
    "        mergeSort(righthalf)\n",
    "\n",
    "        i=0\n",
    "        j=0\n",
    "        k=0\n",
    "        while i < len(lefthalf) and j < len(righthalf):\n",
    "            if lefthalf[i] <= righthalf[j]:\n",
    "                alist[k]=lefthalf[i]\n",
    "                i=i+1\n",
    "            else:\n",
    "                alist[k]=righthalf[j]\n",
    "                j=j+1\n",
    "            k=k+1\n",
    "\n",
    "        while i < len(lefthalf):\n",
    "            alist[k]=lefthalf[i]\n",
    "            i=i+1\n",
    "            k=k+1\n",
    "\n",
    "        while j < len(righthalf):\n",
    "            alist[k]=righthalf[j]\n",
    "            j=j+1\n",
    "            k=k+1\n",
    "    return alist"
   ]
  },
  {
   "cell_type": "code",
   "execution_count": 17,
   "metadata": {},
   "outputs": [
    {
     "name": "stdout",
     "output_type": "stream",
     "text": [
      "[[1, 3, 5], [1, 2, 7, 9], [0, 6, 8]]\n",
      "[1, 3, 5, 1, 3, 5, 1, 3, 5, 1, 2, 7, 9, 1, 2, 7, 9]\n"
     ]
    },
    {
     "ename": "TypeError",
     "evalue": "object of type 'int' has no len()",
     "output_type": "error",
     "traceback": [
      "\u001b[1;31m---------------------------------------------------------------------------\u001b[0m",
      "\u001b[1;31mTypeError\u001b[0m                                 Traceback (most recent call last)",
      "\u001b[1;32m<ipython-input-17-31b814fbedbd>\u001b[0m in \u001b[0;36m<module>\u001b[1;34m\u001b[0m\n\u001b[0;32m      1\u001b[0m \u001b[0mmks\u001b[0m \u001b[1;33m=\u001b[0m \u001b[1;33m[\u001b[0m\u001b[1;33m[\u001b[0m\u001b[1;36m1\u001b[0m\u001b[1;33m,\u001b[0m \u001b[1;36m3\u001b[0m\u001b[1;33m,\u001b[0m \u001b[1;36m5\u001b[0m\u001b[1;33m]\u001b[0m\u001b[1;33m,\u001b[0m\u001b[1;33m[\u001b[0m\u001b[1;36m1\u001b[0m\u001b[1;33m,\u001b[0m \u001b[1;36m2\u001b[0m\u001b[1;33m,\u001b[0m \u001b[1;36m7\u001b[0m\u001b[1;33m,\u001b[0m \u001b[1;36m9\u001b[0m\u001b[1;33m]\u001b[0m\u001b[1;33m,\u001b[0m \u001b[1;33m[\u001b[0m\u001b[1;36m0\u001b[0m\u001b[1;33m,\u001b[0m \u001b[1;36m6\u001b[0m\u001b[1;33m,\u001b[0m \u001b[1;36m8\u001b[0m\u001b[1;33m]\u001b[0m\u001b[1;33m]\u001b[0m\u001b[1;33m\u001b[0m\u001b[1;33m\u001b[0m\u001b[0m\n\u001b[1;32m----> 2\u001b[1;33m \u001b[0mmergeSort\u001b[0m\u001b[1;33m(\u001b[0m\u001b[0mmks\u001b[0m\u001b[1;33m)\u001b[0m\u001b[1;33m\u001b[0m\u001b[1;33m\u001b[0m\u001b[0m\n\u001b[0m",
      "\u001b[1;32m<ipython-input-16-9c49c3bbeb06>\u001b[0m in \u001b[0;36mmergeSort\u001b[1;34m(lst)\u001b[0m\n\u001b[0;32m     11\u001b[0m         \u001b[0mrighthalf\u001b[0m \u001b[1;33m=\u001b[0m \u001b[0malist\u001b[0m\u001b[1;33m[\u001b[0m\u001b[0mmid\u001b[0m\u001b[1;33m:\u001b[0m\u001b[1;33m]\u001b[0m\u001b[1;33m\u001b[0m\u001b[1;33m\u001b[0m\u001b[0m\n\u001b[0;32m     12\u001b[0m \u001b[1;33m\u001b[0m\u001b[0m\n\u001b[1;32m---> 13\u001b[1;33m         \u001b[0mmergeSort\u001b[0m\u001b[1;33m(\u001b[0m\u001b[0mlefthalf\u001b[0m\u001b[1;33m)\u001b[0m\u001b[1;33m\u001b[0m\u001b[1;33m\u001b[0m\u001b[0m\n\u001b[0m\u001b[0;32m     14\u001b[0m         \u001b[0mmergeSort\u001b[0m\u001b[1;33m(\u001b[0m\u001b[0mrighthalf\u001b[0m\u001b[1;33m)\u001b[0m\u001b[1;33m\u001b[0m\u001b[1;33m\u001b[0m\u001b[0m\n\u001b[0;32m     15\u001b[0m \u001b[1;33m\u001b[0m\u001b[0m\n",
      "\u001b[1;32m<ipython-input-16-9c49c3bbeb06>\u001b[0m in \u001b[0;36mmergeSort\u001b[1;34m(lst)\u001b[0m\n\u001b[0;32m      3\u001b[0m     \u001b[0mprint\u001b[0m\u001b[1;33m(\u001b[0m\u001b[0mlst\u001b[0m\u001b[1;33m)\u001b[0m\u001b[1;33m\u001b[0m\u001b[1;33m\u001b[0m\u001b[0m\n\u001b[0;32m      4\u001b[0m     \u001b[1;32mfor\u001b[0m \u001b[0mi\u001b[0m \u001b[1;32min\u001b[0m \u001b[0mrange\u001b[0m\u001b[1;33m(\u001b[0m\u001b[0mlen\u001b[0m\u001b[1;33m(\u001b[0m\u001b[0mlst\u001b[0m\u001b[1;33m)\u001b[0m\u001b[1;33m)\u001b[0m\u001b[1;33m:\u001b[0m\u001b[1;33m\u001b[0m\u001b[1;33m\u001b[0m\u001b[0m\n\u001b[1;32m----> 5\u001b[1;33m         \u001b[1;32mfor\u001b[0m \u001b[0mj\u001b[0m \u001b[1;32min\u001b[0m \u001b[0mrange\u001b[0m\u001b[1;33m(\u001b[0m\u001b[0mlen\u001b[0m\u001b[1;33m(\u001b[0m\u001b[0mlst\u001b[0m\u001b[1;33m[\u001b[0m\u001b[0mi\u001b[0m\u001b[1;33m]\u001b[0m\u001b[1;33m)\u001b[0m\u001b[1;33m)\u001b[0m\u001b[1;33m:\u001b[0m\u001b[1;33m\u001b[0m\u001b[1;33m\u001b[0m\u001b[0m\n\u001b[0m\u001b[0;32m      6\u001b[0m             \u001b[0malist\u001b[0m \u001b[1;33m+=\u001b[0m \u001b[0mlst\u001b[0m\u001b[1;33m[\u001b[0m\u001b[0mi\u001b[0m\u001b[1;33m]\u001b[0m\u001b[1;33m\u001b[0m\u001b[1;33m\u001b[0m\u001b[0m\n\u001b[0;32m      7\u001b[0m \u001b[1;33m\u001b[0m\u001b[0m\n",
      "\u001b[1;31mTypeError\u001b[0m: object of type 'int' has no len()"
     ]
    }
   ],
   "source": [
    "mks = [[1, 3, 5],[1, 2, 7, 9], [0, 6, 8]]\n",
    "mergeSort(mks)"
   ]
  },
  {
   "cell_type": "code",
   "execution_count": null,
   "metadata": {},
   "outputs": [],
   "source": []
  },
  {
   "cell_type": "markdown",
   "metadata": {},
   "source": [
    "Attempt \n",
    "---"
   ]
  },
  {
   "cell_type": "code",
   "execution_count": 9,
   "metadata": {},
   "outputs": [],
   "source": [
    "def mergeSort1(alist, blist):\n",
    "    if len(alist)>1 and blist == []:\n",
    "        mid = len(alist)//2\n",
    "        left = alist[:mid]\n",
    "        right = alist[mid:]\n",
    "        mergeSort1(left, right)\n",
    "    else:\n",
    "        lst = alist + blist\n",
    "        mid = len(lst)//2\n",
    "        left = lst[:mid]\n",
    "        right = lst[mid:]\n",
    "        mergeSort1(left, right)\n",
    "    print('lst',lst)\n",
    "    print('L',left)\n",
    "    print('R',right)\n",
    "    \n",
    "        #mergeSort(lefthalf)\n",
    "        #mergeSort(righthalf)\n",
    "\n",
    "    i=0\n",
    "    j=0\n",
    "    k=0\n",
    "    \n",
    "    print(left, right)\n",
    "    while i < len(left) and j < len(right):\n",
    "        if left[i] <= right[j]:\n",
    "            alist[k]=left[i]\n",
    "            i=i+1\n",
    "        else:\n",
    "            alist[k]=right[j]\n",
    "            j=j+1\n",
    "        k=k+1\n",
    "\n",
    "    while i < len(left):\n",
    "        alist[k]=left[i]\n",
    "        i=i+1\n",
    "        k=k+1\n",
    "\n",
    "    while j < len(right):\n",
    "        alist[k]=right[j]\n",
    "        j=j+1\n",
    "        k=k+1\n",
    "    \n",
    "    #mergeSort1(left, right)\n",
    "    \n",
    "    return alist"
   ]
  },
  {
   "cell_type": "code",
   "execution_count": 10,
   "metadata": {},
   "outputs": [],
   "source": [
    "def sendList(li):\n",
    "    lst = []\n",
    "    for i in range(len(li)):\n",
    "        if (i != len(li)):\n",
    "            lst += mergeSort1(li[i], li[i+1])\n",
    "        else:\n",
    "            lst += mergeSort1(li[i], [])\n",
    "    return lst"
   ]
  },
  {
   "cell_type": "code",
   "execution_count": null,
   "metadata": {},
   "outputs": [],
   "source": [
    "A = []\n",
    "testList = [[1, 3, 5],[1, 2, 7, 9], [0, 6, 8]]\n",
    "A = sendList(testList)\n",
    "print('A',A)"
   ]
  },
  {
   "cell_type": "markdown",
   "metadata": {},
   "source": [
    "Attempt \n",
    "---"
   ]
  },
  {
   "cell_type": "code",
   "execution_count": 1,
   "metadata": {},
   "outputs": [],
   "source": [
    "def mergeSort(alist, blist):\n",
    "    left, right = check_list(alist, blist)\n",
    "        \n",
    "    \n",
    "    mergeSort(left, right)\n",
    "        #mergeSort(lefthalf)\n",
    "        #mergeSort(righthalf)\n",
    "\n",
    "    i=0\n",
    "    j=0\n",
    "    k=0\n",
    "    \n",
    "    while i < len(left) and j < len(right):\n",
    "        if left[i] <= right[j]:\n",
    "            alist[k]=lefthalf[i]\n",
    "            i=i+1\n",
    "        else:\n",
    "            alist[k]=right[j]\n",
    "            j=j+1\n",
    "        k=k+1\n",
    "\n",
    "    while i < len(left):\n",
    "        alist[k]=left[i]\n",
    "        i=i+1\n",
    "        k=k+1\n",
    "\n",
    "    while j < len(right):\n",
    "        alist[k]=righthalf[j]\n",
    "        j=j+1\n",
    "        k=k+1\n",
    "    return alist\n",
    "\n",
    "def check_list(a, b):\n",
    "    if len(a)>1 and b == []:\n",
    "        mid = len(a)//2\n",
    "        left = a[:mid]\n",
    "        right = a[mid:]\n",
    "    else:\n",
    "        left = a\n",
    "        right = b\n",
    "    return left, right"
   ]
  },
  {
   "cell_type": "code",
   "execution_count": null,
   "metadata": {},
   "outputs": [],
   "source": []
  },
  {
   "cell_type": "code",
   "execution_count": 2,
   "metadata": {},
   "outputs": [],
   "source": [
    "def sendList(li):\n",
    "    lst = []\n",
    "    for i in range(len(li)):\n",
    "        if (i != len(li)):\n",
    "            lst += mergeSort(li[i], li[i+1])\n",
    "        else:\n",
    "            lst += mergeSort(li[i], [])\n",
    "    return lst"
   ]
  },
  {
   "cell_type": "code",
   "execution_count": null,
   "metadata": {},
   "outputs": [],
   "source": [
    "A = []\n",
    "testList = [[1, 3, 5],[1, 2, 7, 9], [0, 6, 8]]\n",
    "A = sendList(testList)\n",
    "print('A',A)"
   ]
  },
  {
   "cell_type": "code",
   "execution_count": null,
   "metadata": {},
   "outputs": [],
   "source": []
  },
  {
   "cell_type": "code",
   "execution_count": null,
   "metadata": {},
   "outputs": [],
   "source": []
  }
 ],
 "metadata": {
  "kernelspec": {
   "display_name": "Python 3",
   "language": "python",
   "name": "python3"
  },
  "language_info": {
   "codemirror_mode": {
    "name": "ipython",
    "version": 3
   },
   "file_extension": ".py",
   "mimetype": "text/x-python",
   "name": "python",
   "nbconvert_exporter": "python",
   "pygments_lexer": "ipython3",
   "version": "3.9.2"
  }
 },
 "nbformat": 4,
 "nbformat_minor": 4
}
