{
 "cells": [
  {
   "cell_type": "markdown",
   "metadata": {},
   "source": [
    "## Problem 1\n",
    "* The task in this problem is to write an encoder and decoder for strings.\n",
    "* Python provides a generator to create your own iterator function. A generator is a special type of function which does not return a single value, instead, it returns an iterator object with a sequence of values. In a generator function, a yield statement is used rather than a return statement. (Source: https://www.tutorialsteacher.com/python/python-generator )\n",
    "* A generator-function is defined like a normal function, but whenever it needs to generate a value, it does so with the yield keyword rather than return. If the body of a def contains yield, the function automatically becomes a generator function. (Source: https://www.geeksforgeeks.org/generators-in-python/)"
   ]
  },
  {
   "cell_type": "code",
   "execution_count": 19,
   "metadata": {},
   "outputs": [],
   "source": [
    "import re\n",
    "def encode(string):\n",
    "    last_str,str_count = string[0],0\n",
    "    for val in string:\n",
    "        if last_str !=val:\n",
    "            yield '%s%i' % (last_str,str_count)\n",
    "            last_str,str_count=val,0\n",
    "        str_count +=1\n",
    "    yield '%s%i' % (last_str,str_count)\n",
    "    \n",
    "def decode(string):\n",
    "    for val,n in re.findall(r'(\\w)(\\d+)',string):\n",
    "        yield val * int(n)\n",
    "\n",
    "def show_results(string):\n",
    "    encoded_str =''.join(encode(string))\n",
    "    decoded_str= ''.join(decode(encoded_str))\n",
    "    print(\"Given String:\",string,\"\\nEncoded:\",encoded_str,\"\\nDecoded:\",decoded_str,sep=\"\")\n",
    "    print(\"\\n\")"
   ]
  },
  {
   "cell_type": "code",
   "execution_count": 20,
   "metadata": {},
   "outputs": [
    {
     "name": "stdout",
     "output_type": "stream",
     "text": [
      "Given String:UUYYGHJ\n",
      "Encoded:U2Y2G1H1J1\n",
      "Decoded:UUYYGHJ\n",
      "\n",
      "\n"
     ]
    }
   ],
   "source": [
    "# Testing only one string\n",
    "string_1 = \"UUYYGHJ\"\n",
    "show_results(string_1)"
   ]
  },
  {
   "cell_type": "code",
   "execution_count": 21,
   "metadata": {},
   "outputs": [
    {
     "name": "stdout",
     "output_type": "stream",
     "text": [
      "Given String:CCRRUYVYYY\n",
      "Encoded:C2R2U1Y1V1Y3\n",
      "Decoded:CCRRUYVYYY\n",
      "\n",
      "\n",
      "Given String:AAABBBBCDDDDDDDDDDEEDDDD\n",
      "Encoded:A3B4C1D10E2D4\n",
      "Decoded:AAABBBBCDDDDDDDDDDEEDDDD\n",
      "\n",
      "\n",
      "Given String:AAABBBBCDEEEEEEEEEDD ooi\n",
      "Encoded:A3B4C1D1E9D2 1o2i1\n",
      "Decoded:AAABBBBCDEEEEEEEEEDDooi\n",
      "\n",
      "\n",
      "Given String:bbccccccdrrrff?????    hhhh\n",
      "Encoded:b2c6d1r3f2?5 4h4\n",
      "Decoded:bbccccccdrrrffhhhh\n",
      "\n",
      "\n"
     ]
    }
   ],
   "source": [
    "# Testing more than one string\n",
    "sample_strings =['CCRRUYVYYY','AAABBBBCDDDDDDDDDDEEDDDD','AAABBBBCDEEEEEEEEEDD ooi','bbccccccdrrrff?????    hhhh']\n",
    "for i in sample_strings:\n",
    "    show_results(i)"
   ]
  },
  {
   "cell_type": "markdown",
   "metadata": {},
   "source": [
    "## Problem 2\n",
    "* Create a function merge_k_sorted_lists() where the input is k (k>0) sorted lists of size n each\n",
    "and returns as an output a list of k*n sorted elements."
   ]
  },
  {
   "cell_type": "markdown",
   "metadata": {},
   "source": [
    "## Problem 2 - Solution 1"
   ]
  },
  {
   "cell_type": "code",
   "execution_count": 22,
   "metadata": {},
   "outputs": [
    {
     "name": "stdout",
     "output_type": "stream",
     "text": [
      "1 2 7 9 15 18 27 40 41 2217 41428 213135 "
     ]
    }
   ],
   "source": [
    "N = 4 # sorted arrays\n",
    " \n",
    "def merge_and_sort(output, arr, n, k):\n",
    "    for  i in range(k):     # Put the elements in sorted array.\n",
    "        for j in range(n):\n",
    "            output[i * n + j] = arr[i][j];\n",
    "    output.sort()\n",
    "\n",
    "if __name__=='__main__': \n",
    "    # Input 2D-array\n",
    "    arr = [ [ 213135, 2, 15, 18 ],[ 41, 41428, 9, 2217 ],[ 1, 40, 27, 7 ] ]; # List members can be given without any order\n",
    "    n = N;\n",
    "    k = len(arr) # Number of arrays\n",
    "    output = [0 for i in range(n * k)]\n",
    "    merge_and_sort(output, arr, n, k);\n",
    "\n",
    "    for  i in range(n * k):\n",
    "        print(output[i], end = ' ')"
   ]
  },
  {
   "cell_type": "markdown",
   "metadata": {},
   "source": [
    "## Problem 2 - Solution 2 (Using recursion)"
   ]
  },
  {
   "cell_type": "code",
   "execution_count": 23,
   "metadata": {},
   "outputs": [
    {
     "name": "stdout",
     "output_type": "stream",
     "text": [
      "1 2 3 4 7 9 15 17 40 12 19 1800 "
     ]
    }
   ],
   "source": [
    "n = 4 ;\n",
    " \n",
    "def merge(l, r, output) :\n",
    "     \n",
    "    # to store the starting point of left and right array\n",
    "    l_in = l * n ;\n",
    "    r_in = ((l + r) // 2 + 1) * n;\n",
    " \n",
    "    # to store the size of left and right array\n",
    "    l_c = ((l + r) // 2 - l + 1) * n;\n",
    "    r_c = (r - (l + r) // 2) * n;\n",
    " \n",
    "    # array to temporarily store left and right array\n",
    "    l_arr = [0] * l_c; r_arr = [0] * r_c;\n",
    " \n",
    "    # storing data in left array\n",
    "    for i in range(l_c) :\n",
    "        l_arr[i] = output[l_in + i];\n",
    " \n",
    "    # storing data in right array\n",
    "    for i in range(r_c) :\n",
    "        r_arr[i] = output[r_in + i];\n",
    " \n",
    "    # to store the current index of temporary left and right array\n",
    "    l_curr = 0 ; r_curr = 0;\n",
    " \n",
    "    # to store the current index for output array\n",
    "    in1 = l_in;\n",
    " \n",
    "    # two pointer merge for two sorted arrays\n",
    "    while (l_curr + r_curr < l_c + r_c) :\n",
    "        if (r_curr == r_c or (l_curr != l_c and\n",
    "            l_arr[l_curr] < r_arr[r_curr])) :\n",
    "            output[in1] = l_arr[l_curr];\n",
    "            l_curr += 1; in1 += 1;\n",
    "        else :\n",
    "            output[in1] = r_arr[r_curr];\n",
    "            r_curr += 1; in1 += 1;\n",
    " \n",
    "\n",
    "def divide(l, r, output, arr) :\n",
    "     \n",
    "    if (l == r) :\n",
    "        for i in range(n) :\n",
    "            output[l * n + i] = arr[l][i];\n",
    "        return;\n",
    "     \n",
    "    divide(l, (l + r) // 2, output, arr); # to sort left half\n",
    "    divide((l + r) // 2 + 1, r, output, arr); # to sort right half\n",
    "    merge(l, r, output); # merge the left and right half\n",
    "  \n",
    "\n",
    "if __name__ == \"__main__\" :\n",
    " \n",
    "    arr = [[ 4, 7, 15, 1800 ],[ 2, 3, 9, 17 ],[ 1, 40, 12, 19 ]]; # The array must be in sorted order first in each list member!\n",
    "    k = len(arr); # Number of arrays\n",
    "    output = [0] * (n * k); # Output array\n",
    "    divide(0, k - 1, output, arr);\n",
    "\n",
    "    for i in range(n * k) :\n",
    "        print(output[i], end = \" \");"
   ]
  },
  {
   "cell_type": "markdown",
   "metadata": {},
   "source": [
    "## Problem 3"
   ]
  },
  {
   "cell_type": "markdown",
   "metadata": {},
   "source": [
    "## Complexity for Problem 2-Solution1\n",
    "#### Time Complexity: O(N*k*log(N*k)). \n",
    "*The size of all elements is n*k so the time complexity is O(N*k * log(N*k))\n",
    "#### Space Complexity: O(N*k). \n",
    "*To store the output array O(N*k) space is required.\n",
    "\n",
    "\n",
    "## Complexity for Problem 2-Solution2\n",
    "####  Time Complexity: O(N*k*log(k)). \n",
    "*In each level the array of size N*k is traversed once, and the number of levels are log(k).\n",
    "#### Space Complexity: O(N*k). \n",
    "*In order to store the output array O(N*k) space is required."
   ]
  },
  {
   "cell_type": "code",
   "execution_count": null,
   "metadata": {},
   "outputs": [],
   "source": []
  }
 ],
 "metadata": {
  "kernelspec": {
   "display_name": "Python 3",
   "language": "python",
   "name": "python3"
  },
  "language_info": {
   "codemirror_mode": {
    "name": "ipython",
    "version": 3
   },
   "file_extension": ".py",
   "mimetype": "text/x-python",
   "name": "python",
   "nbconvert_exporter": "python",
   "pygments_lexer": "ipython3",
   "version": "3.9.2"
  }
 },
 "nbformat": 4,
 "nbformat_minor": 4
}
