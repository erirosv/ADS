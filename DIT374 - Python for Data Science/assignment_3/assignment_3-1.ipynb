{
 "cells": [
  {
   "attachments": {},
   "cell_type": "markdown",
   "metadata": {},
   "source": [
    "# Assignment 3\n"
   ]
  },
  {
   "cell_type": "markdown",
   "metadata": {},
   "source": [
    "## Problem 1"
   ]
  },
  {
   "cell_type": "code",
   "execution_count": 1,
   "metadata": {},
   "outputs": [],
   "source": [
    "import math"
   ]
  },
  {
   "cell_type": "code",
   "execution_count": 2,
   "metadata": {},
   "outputs": [],
   "source": [
    "class Circle:\n",
    "    \"\"\"\n",
    "    This class define a few simple methods to calculate circumference & surface_area\n",
    "    of a circle\n",
    "    \"\"\"\n",
    "    def __init__(self, radius):\n",
    "        self.radius = radius\n",
    "    \n",
    "    def description(self):\n",
    "        print(\"radius: \", self.radius)\n",
    "        \n",
    "    def circumference(self):\n",
    "        return 2*math.pi*self.radius\n",
    "        \n",
    "    def surface_area(self):\n",
    "        return self._area()\n",
    "    \n",
    "    def _area(self):\n",
    "        return self.radius**2*math.pi"
   ]
  },
  {
   "cell_type": "code",
   "execution_count": 3,
   "metadata": {},
   "outputs": [
    {
     "name": "stdout",
     "output_type": "stream",
     "text": [
      "radius:  3\n",
      "None\n",
      "18.84955592153876\n",
      "28.274333882308138\n"
     ]
    }
   ],
   "source": [
    "c = Circle(3)\n",
    "print(c.description())\n",
    "print(c.circumference())\n",
    "print(c.surface_area())"
   ]
  },
  {
   "cell_type": "code",
   "execution_count": 4,
   "metadata": {},
   "outputs": [],
   "source": [
    "class Cylinder(Circle):\n",
    "    \"\"\"\n",
    "    This class define a few simple methods to calculate volume & surface_area\n",
    "    of a cylinder. This class is inheriting from the Circle class\n",
    "    \"\"\"\n",
    "    def __init__(self, radius, height):\n",
    "        super().__init__(radius)\n",
    "        self.height = height\n",
    "        \n",
    "    def description(self):\n",
    "        print(\"radius: \", self.radius, \"height: \", self.height)\n",
    "    \n",
    "    def surface_area(self):\n",
    "        s = super().surface_area()\n",
    "        total = 2*s + (2*math.pi*self.radius*self.height)\n",
    "        return total\n",
    "\n",
    "    def volume(self):\n",
    "        v = math.pi*self.radius*self.radius*self.height\n",
    "        return v"
   ]
  },
  {
   "cell_type": "code",
   "execution_count": 5,
   "metadata": {},
   "outputs": [
    {
     "name": "stdout",
     "output_type": "stream",
     "text": [
      "radius:  4 height:  9\n",
      "None\n",
      "Cylinder surface area:  326.7256359733385\n",
      "Cylinder voulume:  452.3893421169302\n"
     ]
    }
   ],
   "source": [
    "cyl = Cylinder(4,9)\n",
    "print(cyl.description())\n",
    "print('Cylinder surface area: ',cyl.surface_area())\n",
    "print('Cylinder voulume: ',cyl.volume())"
   ]
  },
  {
   "cell_type": "code",
   "execution_count": 6,
   "metadata": {},
   "outputs": [],
   "source": [
    "class Cone(Cylinder):\n",
    "    \"\"\"\n",
    "    This class define a few simple methods to calculate volume & surface_area\n",
    "    of a cone. This class is inheriting from the Cylinder class\n",
    "    \"\"\"\n",
    "    def __init__(self, radius, height):\n",
    "        super().__init__(radius, height)\n",
    "    \n",
    "    def surface_area(self):\n",
    "        b = super()._area()\n",
    "        s = math.sqrt(self.radius**2 + self.height**2)\n",
    "        m = math.pi*self.radius * s\n",
    "        a = b + m\n",
    "        return a\n",
    "        \n",
    "    def volume(self):\n",
    "        v = super().volume()\n",
    "        vv = v *(1/3)\n",
    "        return vv"
   ]
  },
  {
   "cell_type": "code",
   "execution_count": 8,
   "metadata": {},
   "outputs": [
    {
     "name": "stdout",
     "output_type": "stream",
     "text": [
      "Cylinder surface area:  326.7256359733385\n",
      "Cylinder voulume:  452.3893421169302\n",
      "Cone surface area:  174.0298797229293\n",
      "Cone voulume:  150.79644737231007\n"
     ]
    }
   ],
   "source": [
    "cyl = Cylinder(4,9)\n",
    "print('Cylinder surface area: ',cyl.surface_area())\n",
    "print('Cylinder voulume: ',cyl.volume())\n",
    "co = Cone(4,9)\n",
    "print('Cone surface area: ',co.surface_area())\n",
    "print('Cone voulume: ',co.volume())"
   ]
  },
  {
   "cell_type": "markdown",
   "metadata": {},
   "source": [
    "## Problem 2"
   ]
  },
  {
   "cell_type": "code",
   "execution_count": 18,
   "metadata": {},
   "outputs": [],
   "source": [
    "class Car():\n",
    "    def __init__(self, id, build_year, **kw):\n",
    "        super().__init__(**kw)\n",
    "        self.id = id\n",
    "        self.build_year = build_year"
   ]
  },
  {
   "cell_type": "code",
   "execution_count": 26,
   "metadata": {},
   "outputs": [],
   "source": [
    "class Petrol_car(Car):\n",
    "    def __init__(self, id, build_year, tank_capacity, fuel_consumption, **kw):\n",
    "        super().__init__(id, build_year, **kw)\n",
    "        if tank_capacity < 40 or tank_capacity > 70:\n",
    "            print('Fule must be between 40 & 70 L')\n",
    "        else: \n",
    "            self.tank_capacity = tank_capacity\n",
    "        self.fuel_consumption = fuel_consumption\n",
    "        self.fuel_status = 0\n",
    "\n",
    "    def fill_fuel_to(self, fuel):\n",
    "        \"\"\"\n",
    "        This method fills the tank of the car.\n",
    "        It takes an input from the user 0-1.\n",
    "        * 0 is empty tank\n",
    "        * 1 is full tank\n",
    "        ----\n",
    "        ex: if adding 0.5 to the tank (0.5), then we adding it to \n",
    "            1 and its a full tank.\n",
    "        \"\"\"\n",
    "        if fuel > 1 or fuel < 0:\n",
    "            print('Enter value between 0-1')\n",
    "        else:\n",
    "            check = 0\n",
    "            check = fuel + self.fuel_status\n",
    "            if check > 1:\n",
    "                print('To much fuel for the tank')\n",
    "            else:\n",
    "                self.fuel_status += fuel\n",
    "                print('Fuel status of ', self.id, ' is ' , self.fuel_status, ' of full tank now')\n",
    "    \n",
    "    def reduce_fuel_to(self, fuel):\n",
    "        \"\"\"\n",
    "        This method reduce the tank of the car.\n",
    "        It takes an input 'fuel' from the user 0-1.\n",
    "        * 0 is empty tank\n",
    "        * 1 is full tank\n",
    "        ----\n",
    "        ex: if subtracting 0.5 from the tank (0.5), then we subtracting it to \n",
    "            0 and its a empty tank.\n",
    "        \"\"\"\n",
    "        if fuel > 1 or fuel < 0:\n",
    "            print('Enter value between 0-1')\n",
    "        else:\n",
    "            check = 0\n",
    "            check =  self.fuel_status - fuel\n",
    "            if check < 0:\n",
    "                print('To little fuel for the tank')\n",
    "            else:\n",
    "                self.fuel_status = fuel \n",
    "                self.tank_capacity *= self.fuel_status\n",
    "                print('Fuel status of ', self.id, ' is ' , self.fuel_status, ' of full tank now')\n",
    "                        \n",
    "    def get_range(self):\n",
    "        print('The remaining range of ', self.id, ': ', self._calculate_petrol_range(), 'km.')\n",
    "    \n",
    "    def _calculate_petrol_range(self):\n",
    "        \"\"\"\n",
    "        This method calculates the theoretical range the car can drive \n",
    "        with its current tank capacity\n",
    "        \"\"\"\n",
    "        con = self.fuel_consumption / 100\n",
    "        ra = self.tank_capacity / con\n",
    "        return ra"
   ]
  },
  {
   "cell_type": "code",
   "execution_count": 27,
   "metadata": {},
   "outputs": [],
   "source": [
    "class Electric_car(Car):\n",
    "    def __init__(self, id, build_year, battery_capacity, battery_consumption, **kw):\n",
    "        super().__init__(id, build_year, **kw)\n",
    "        self.battery_capacity = battery_capacity\n",
    "        self.battery_consumption = battery_consumption\n",
    "        self.battery_status = 0\n",
    "    \n",
    "    def charge_battery_to(self, cap):\n",
    "        \"\"\"\n",
    "        The method is adding the battery with the input that the user gives\n",
    "        \n",
    "        input: adding amount from user\n",
    "        return: none\n",
    "        \"\"\"\n",
    "        if (self.battery_status + cap) > 100:\n",
    "            print('You cant charge the battery over 100%')\n",
    "        else:\n",
    "            self.battery_status = self.battery_status + cap\n",
    "            print('Fuel status of ', self.id, ' is ' , self.battery_status, '% of full tank now')\n",
    "            \n",
    "    def reduce_battery_to(self, cap):\n",
    "        \"\"\"\n",
    "        The method is subtracting the battery with the input that the user gives\n",
    "        \n",
    "        input: reducing amount from user\n",
    "        return: none\n",
    "        \"\"\"\n",
    "        if (self.battery_status - cap) < 0:\n",
    "            print('You cant reduce the battery under 0%')\n",
    "        else:\n",
    "            self.battery_status = self.battery_status - cap \n",
    "            print('Fuel status of ', self.id, ' is ' , self.battery_status, '% of full tank now')\n",
    "            \n",
    "    def get_range(self):\n",
    "        print('The remaining range of ', self.id, ': ', self._calculate_electric_range(), 'km.')\n",
    "        \n",
    "    def _calculate_electric_range(self):\n",
    "        \"\"\"\n",
    "        This method calculates the theoretical range the car can drive \n",
    "        with its current battery capacity\n",
    "        \"\"\"\n",
    "        x = self.battery_capacity / self.battery_consumption\n",
    "        x *= (self.battery_status / 100)\n",
    "        return x"
   ]
  },
  {
   "cell_type": "code",
   "execution_count": 28,
   "metadata": {},
   "outputs": [],
   "source": [
    "class PHEV(Petrol_car, Electric_car):\n",
    "    def __init__(self, id, build_year, tank_capacity, fuel_consumption, battery_capacity, battery_consumption):\n",
    "        super().__init__(id, build_year = build_year, tank_capacity = tank_capacity, fuel_consumption = fuel_consumption, \n",
    "                         battery_capacity = battery_capacity, battery_consumption = battery_consumption)\n",
    "        self.id = id\n",
    "        self.build_year = build_year\n",
    "        self.fuel_consumption = fuel_consumption\n",
    "        self.battery_consumption = battery_consumption\n",
    "        if tank_capacity < 40 or tank_capacity > 70:\n",
    "            print('Fule must be between 40 & 70 L')\n",
    "        else: \n",
    "            self.tank_capacity = tank_capacity\n",
    "        if battery_capacity < 8 or battery_capacity > 9.5:\n",
    "            print('Battery capacity must be between 8 & 9.5')\n",
    "        else:\n",
    "            self.battery_capacity = battery_capacity\n",
    "    \n",
    "    def get_range(self):\n",
    "        \"\"\"\n",
    "        This method prints the calculated the theoretical range for the hybrid car \n",
    "        \"\"\"\n",
    "        print('The remaining range of h1:', self.__caluculate_range(), 'km')\n",
    "    \n",
    "    def __caluculate_range(self):\n",
    "        \"\"\"\n",
    "        __caluculate_range() is a private method. \n",
    "        Input: none\n",
    "        retrun: summary of the theoretical range from battery and fuel tank\n",
    "        \n",
    "        super()._calculate_petrol_range() + den andra\n",
    "        \"\"\"\n",
    "        \n",
    "        return super()._calculate_petrol_range() + super()._calculate_electric_range()"
   ]
  },
  {
   "cell_type": "code",
   "execution_count": 29,
   "metadata": {},
   "outputs": [
    {
     "name": "stdout",
     "output_type": "stream",
     "text": [
      "Fuel status of  c1  is  1  of full tank now\n",
      "The remaining range of  c1 :  727.2727272727273 km.\n",
      "Fuel status of  c1  is  0.4  of full tank now\n",
      "The remaining range of  c1 :  290.90909090909093 km.\n",
      "Fuel status of  e1  is  90 % of full tank now\n",
      "The remaining range of  e1 :  315.0 km.\n",
      "Fuel status of  e1  is  70 % of full tank now\n",
      "The remaining range of  e1 :  244.99999999999997 km.\n",
      "Fuel status of  h1  is  0.5  of full tank now\n",
      "Fuel status of  h1  is  50 % of full tank now\n",
      "The remaining range of h1: 751.0227272727273 km\n",
      "Fuel status of  h1  is  0 % of full tank now\n",
      "The remaining range of h1: 727.2727272727273 km\n"
     ]
    }
   ],
   "source": [
    "c = Petrol_car('c1', 1995, 40, 5.5)\n",
    "c.fill_fuel_to(1)\n",
    "c.get_range()\n",
    "c.reduce_fuel_to(0.4)\n",
    "c.get_range()\n",
    "e = Electric_car('e1', 2015, 70, 0.2)\n",
    "e.charge_battery_to(90)\n",
    "e.get_range()\n",
    "e.reduce_battery_to(20)\n",
    "e.get_range()\n",
    "h = PHEV('h1', 2016, 40, 5.5, 9.5, 0.2)\n",
    "h.fill_fuel_to(0.5)\n",
    "h.charge_battery_to(50)\n",
    "h.get_range()\n",
    "h.reduce_battery_to(50)\n",
    "h.get_range()"
   ]
  },
  {
   "cell_type": "code",
   "execution_count": null,
   "metadata": {},
   "outputs": [],
   "source": []
  },
  {
   "cell_type": "code",
   "execution_count": null,
   "metadata": {},
   "outputs": [],
   "source": []
  }
 ],
 "metadata": {
  "kernelspec": {
   "display_name": "Python 3",
   "language": "python",
   "name": "python3"
  },
  "language_info": {
   "codemirror_mode": {
    "name": "ipython",
    "version": 3
   },
   "file_extension": ".py",
   "mimetype": "text/x-python",
   "name": "python",
   "nbconvert_exporter": "python",
   "pygments_lexer": "ipython3",
   "version": "3.9.2"
  }
 },
 "nbformat": 4,
 "nbformat_minor": 4
}
