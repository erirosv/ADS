{
 "cells": [
  {
   "cell_type": "code",
   "execution_count": 1,
   "metadata": {},
   "outputs": [
    {
     "data": {
      "text/plain": [
       "'\\nQ1: You do not need two definitions of self.radius you obtain it from the super class already. \\nThe functions for volume and surface are in both cone and cylinder do not use the super class \\nfunctions as was required by the assignment. Remember that inheritance allow you to use the \\nfunctions of parent classes \\n\\nQ2: Nice usage of **kwargs for initialization. You were asked to \\nhave private/protected methods that compute the range in both petrol and electric vehicle classes, \\nwith a public method that calls these private methods. You did not follow the instructions. \\nIn the PHEV class you once again do not use the methods of the super classes to determine the range, \\ninstead you calculate it again.\\n'"
      ]
     },
     "execution_count": 1,
     "metadata": {},
     "output_type": "execute_result"
    }
   ],
   "source": [
    "\"\"\"\n",
    "Q1: You do not need two definitions of self.radius you obtain it from the super class already. \n",
    "The functions for volume and surface are in both cone and cylinder do not use the super class \n",
    "functions as was required by the assignment. Remember that inheritance allow you to use the \n",
    "functions of parent classes \n",
    "\n",
    "Q2: Nice usage of **kwargs for initialization. You were asked to \n",
    "have private/protected methods that compute the range in both petrol and electric vehicle classes, \n",
    "with a public method that calls these private methods. You did not follow the instructions. \n",
    "In the PHEV class you once again do not use the methods of the super classes to determine the range, \n",
    "instead you calculate it again.\n",
    "\"\"\""
   ]
  },
  {
   "cell_type": "code",
   "execution_count": 56,
   "metadata": {},
   "outputs": [],
   "source": [
    "import math"
   ]
  },
  {
   "cell_type": "code",
   "execution_count": 59,
   "metadata": {},
   "outputs": [],
   "source": [
    "class Circle:\n",
    "    \"\"\"\n",
    "    This class define a few simple methods to calculate circumference & surface_area\n",
    "    of a circle\n",
    "    \"\"\"\n",
    "    def __init__(self, radius):\n",
    "        self.radius = radius\n",
    "    \n",
    "    def description(self):\n",
    "        print(\"radius: \", self.radius)\n",
    "        \n",
    "    def circumference(self):\n",
    "        return 2*math.pi*self.radius\n",
    "        \n",
    "    def area(self):\n",
    "        return self.radius**2*math.pi"
   ]
  },
  {
   "cell_type": "code",
   "execution_count": 61,
   "metadata": {},
   "outputs": [
    {
     "name": "stdout",
     "output_type": "stream",
     "text": [
      "radius:  3\n",
      "None\n",
      "18.84955592153876\n",
      "28.274333882308138\n"
     ]
    }
   ],
   "source": [
    "c = Circle(3)\n",
    "print(c.description())\n",
    "print(c.circumference())\n",
    "print(c.area())"
   ]
  },
  {
   "cell_type": "code",
   "execution_count": 62,
   "metadata": {},
   "outputs": [],
   "source": [
    "class Cylinder(Circle):\n",
    "    \"\"\"\n",
    "    This class define a few simple methods to calculate volume & surface_area\n",
    "    of a cylinder. This class is inheriting from the Circle class\n",
    "    \"\"\"\n",
    "    def __init__(self, radius, height):\n",
    "        super().__init__(radius)\n",
    "        self.height = height\n",
    "        \n",
    "    def description(self):\n",
    "        print(\"radius: \", self.radius, \"height: \", self.height)\n",
    "    \n",
    "    def surface_area(self):\n",
    "        s = super().area()\n",
    "        total = 2*s + (2*math.pi*self.radius*self.height)\n",
    "        return total\n",
    "\n",
    "    def volume(self):\n",
    "        v = math.pi*self.radius*self.radius*self.height\n",
    "        return v\n",
    "    "
   ]
  },
  {
   "cell_type": "code",
   "execution_count": 63,
   "metadata": {},
   "outputs": [
    {
     "name": "stdout",
     "output_type": "stream",
     "text": [
      "radius:  4 height:  9\n",
      "None\n",
      "Cylinder surface area:  326.7256359733385\n",
      "Cylinder voulume:  452.3893421169302\n"
     ]
    }
   ],
   "source": [
    "cyl = Cylinder(4,9)\n",
    "print(cyl.description())\n",
    "print('Cylinder surface area: ',cyl.surface_area())\n",
    "print('Cylinder voulume: ',cyl.volume())"
   ]
  },
  {
   "cell_type": "code",
   "execution_count": 67,
   "metadata": {},
   "outputs": [],
   "source": [
    "class Cone(Cylinder):\n",
    "    \"\"\"\n",
    "    This class define a few simple methods to calculate volume & surface_area\n",
    "    of a cone. This class is inheriting from the Cylinder class\n",
    "    \"\"\"\n",
    "    def __init__(self, radius, height):\n",
    "        super().__init__(radius, height)\n",
    "    \n",
    "    def surface_area(self):\n",
    "        b = super().area()\n",
    "        s = math.sqrt(self.radius**2 + self.height**2)\n",
    "        m = math.pi*self.radius * s\n",
    "        a = b + m\n",
    "        \n",
    "        return a\n",
    "        \n",
    "    def volume(self):\n",
    "        v = super().volume()\n",
    "        vv = v *(1/3)\n",
    "        return vv"
   ]
  },
  {
   "cell_type": "code",
   "execution_count": 68,
   "metadata": {},
   "outputs": [
    {
     "name": "stdout",
     "output_type": "stream",
     "text": [
      "radius:  4 height:  9\n",
      "None\n",
      "Cylinder surface area:  326.7256359733385\n",
      "Cylinder voulume:  452.3893421169302\n",
      "Cone surface area:  174.0298797229293\n",
      "Cone voulume:  150.79644737231007\n"
     ]
    }
   ],
   "source": [
    "cyl = Cylinder(4,9)\n",
    "print(cyl.description())\n",
    "print('Cylinder surface area: ',cyl.surface_area())\n",
    "print('Cylinder voulume: ',cyl.volume())\n",
    "co = Cone(4,9)\n",
    "print('Cone surface area: ',co.surface_area())\n",
    "print('Cone voulume: ',co.volume())"
   ]
  },
  {
   "cell_type": "code",
   "execution_count": null,
   "metadata": {},
   "outputs": [],
   "source": []
  },
  {
   "cell_type": "code",
   "execution_count": null,
   "metadata": {},
   "outputs": [],
   "source": []
  },
  {
   "cell_type": "code",
   "execution_count": null,
   "metadata": {},
   "outputs": [],
   "source": []
  },
  {
   "cell_type": "code",
   "execution_count": null,
   "metadata": {},
   "outputs": [],
   "source": []
  }
 ],
 "metadata": {
  "kernelspec": {
   "display_name": "Python 3",
   "language": "python",
   "name": "python3"
  },
  "language_info": {
   "codemirror_mode": {
    "name": "ipython",
    "version": 3
   },
   "file_extension": ".py",
   "mimetype": "text/x-python",
   "name": "python",
   "nbconvert_exporter": "python",
   "pygments_lexer": "ipython3",
   "version": "3.9.2"
  }
 },
 "nbformat": 4,
 "nbformat_minor": 4
}
