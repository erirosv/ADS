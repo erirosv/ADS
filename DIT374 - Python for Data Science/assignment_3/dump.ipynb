{
 "cells": [
  {
   "cell_type": "code",
   "execution_count": null,
   "metadata": {},
   "outputs": [],
   "source": [
    " con = self.fuel_consumption / 100\n",
    "        ra = self.tank_capacity / con\n",
    "        \n",
    "        x = self.battery_capacity / self.battery_consumption\n",
    "        x *= (self.battery_status / 100)\n",
    "        return ra + x"
   ]
  },
  {
   "cell_type": "code",
   "execution_count": 1,
   "metadata": {},
   "outputs": [
    {
     "ename": "SyntaxError",
     "evalue": "invalid syntax (<ipython-input-1-f73d179a8ad1>, line 39)",
     "output_type": "error",
     "traceback": [
      "\u001b[1;36m  File \u001b[1;32m\"<ipython-input-1-f73d179a8ad1>\"\u001b[1;36m, line \u001b[1;32m39\u001b[0m\n\u001b[1;33m    def reduce_battery_to(self, cap):\u001b[0m\n\u001b[1;37m    ^\u001b[0m\n\u001b[1;31mSyntaxError\u001b[0m\u001b[1;31m:\u001b[0m invalid syntax\n"
     ]
    }
   ],
   "source": [
    "class Electric_car(Car):\n",
    "    def __init__(self, id, build_year, battery_capacity, battery_consumption, **kw):\n",
    "        super().__init__(id, build_year, **kw)\n",
    "        self.battery_capacity = battery_capacity\n",
    "        self.battery_consumption = battery_consumption\n",
    "        self.battery_status = 0\n",
    "        \n",
    "    def charge_battery_to(self, cap):\n",
    "        \"\"\"\n",
    "        This method takes an input cap from the user\n",
    "        the inpput can be between 17 & 100\n",
    "        \n",
    "        \"\"\"\n",
    "        if cap > 0 and cap < 101:\n",
    "            check = 0\n",
    "            check = cap + self.battery_status\n",
    "            if check > 100:\n",
    "                print('To much charge for the battery')\n",
    "            else:\n",
    "                self.battery_status = cap\n",
    "                print('Battery status of ', self.id, ' is ' , self.battery_status, '% of full tank now')\n",
    "        else:\n",
    "            print('Enter capacity between 0 and 100')\n",
    "            \n",
    "    def charge_battery_to(self, cap):\n",
    "        \"\"\"\n",
    "        !overriding the reduce_battery_to from the Electric_car class to work around the error correction\n",
    "        The method is adding the battery with the input that the user gives\n",
    "        \n",
    "        input: adding amount from user\n",
    "        return: none\n",
    "        \"\"\"\n",
    "        if (self.battery_status + cap) > 100:\n",
    "            print('You cant charge the battery over 100%')\n",
    "        else:\n",
    "            self.battery_status = self.battery_status + cap\n",
    "            print('Fuel status of ', self.id, ' is ' , self.battery_status, '% of full tank now'\n",
    "    \n",
    "    def reduce_battery_to(self, cap):\n",
    "        \"\"\"\n",
    "        Reducing the capacity of the battery with an input from user.\n",
    "        \n",
    "        input: cap (number 0 - 100)\n",
    "        \"\"\"\n",
    "        if cap > 0 and cap < 101:\n",
    "            check = 0\n",
    "            check =  self.battery_status - cap\n",
    "            if check < 0:\n",
    "                print('To little fuel for the tank')\n",
    "            else:\n",
    "                self.battery_status = check \n",
    "                print('Fuel status of ', self.id, ' is ' , self.battery_status, '% of full tank now')\n",
    "    \n",
    "    def get_range(self):\n",
    "        \"\"\"\n",
    "        This method calculates the theoretical range the car can drive \n",
    "        with its current battery capacity\n",
    "        \"\"\"\n",
    "        x = self.battery_capacity / self.battery_consumption\n",
    "        x *= (self.battery_status / 100)\n",
    "        print('The remaining range of ', self.id, ': ', x, 'km.')"
   ]
  },
  {
   "cell_type": "code",
   "execution_count": 3,
   "metadata": {},
   "outputs": [],
   "source": [
    "   def charge_battery_to(self, cap):\n",
    "        \"\"\"\n",
    "        This method takes an input cap from the user\n",
    "        the inpput can be between 17 & 100\n",
    "        \n",
    "        \"\"\"\n",
    "        if cap > 0 and cap < 101:\n",
    "            check = 0\n",
    "            check = cap + self.battery_status\n",
    "            if check > 100:\n",
    "                print('To much charge for the battery')\n",
    "            else:\n",
    "                self.battery_status = cap\n",
    "                print('Battery status of ', self.id, ' is ' , self.battery_status, '% of full tank now')\n",
    "        else:\n",
    "            print('Enter capacity between 0 and 100')"
   ]
  },
  {
   "cell_type": "code",
   "execution_count": null,
   "metadata": {},
   "outputs": [],
   "source": [
    "def charge_battery_to(self, cap):\n",
    "        \"\"\"\n",
    "        !overriding the reduce_battery_to from the Electric_car class to work around the error correction\n",
    "        The method is adding the battery with the input that the user gives\n",
    "        \n",
    "        input: adding amount from user\n",
    "        return: none\n",
    "        \"\"\"\n",
    "        if (self.battery_status + cap) > 100:\n",
    "            print('You cant charge the battery over 100%')\n",
    "        else:\n",
    "            self.battery_status = self.battery_status + cap\n",
    "            print('Fuel status of ', self.id, ' is ' , self.battery_status, '% of full tank now')\n",
    "            \n",
    "def reduce_battery_to(self, cap):\n",
    "        \"\"\"\n",
    "        !overriding the reduce_battery_to from the Electric_car class to work around the error correction\n",
    "        The method is subtracting the battery with the input that the user gives\n",
    "        \n",
    "        input: reducing amount from user\n",
    "        return: none\n",
    "        \"\"\"\n",
    "        if (self.battery_status - cap) < 0:\n",
    "            print('You cant reduce the battery under 0%')\n",
    "        else:\n",
    "            self.battery_status = self.battery_status - cap \n",
    "            print('Fuel status of ', self.id, ' is ' , self.battery_status, '% of full tank now')"
   ]
  }
 ],
 "metadata": {
  "kernelspec": {
   "display_name": "Python 3",
   "language": "python",
   "name": "python3"
  },
  "language_info": {
   "codemirror_mode": {
    "name": "ipython",
    "version": 3
   },
   "file_extension": ".py",
   "mimetype": "text/x-python",
   "name": "python",
   "nbconvert_exporter": "python",
   "pygments_lexer": "ipython3",
   "version": "3.9.2"
  }
 },
 "nbformat": 4,
 "nbformat_minor": 4
}
