{
 "cells": [
  {
   "attachments": {},
   "cell_type": "markdown",
   "metadata": {},
   "source": [
    "# Assignment 3\n"
   ]
  },
  {
   "cell_type": "markdown",
   "metadata": {},
   "source": [
    "## Problem 1"
   ]
  },
  {
   "cell_type": "code",
   "execution_count": 6,
   "metadata": {},
   "outputs": [],
   "source": [
    "import math"
   ]
  },
  {
   "cell_type": "code",
   "execution_count": 7,
   "metadata": {},
   "outputs": [],
   "source": [
    "class Circle:\n",
    "    \"\"\"\n",
    "    This class define a few simple methods to calculate circumference & surface_area\n",
    "    of a circle\n",
    "    \"\"\"\n",
    "    def __init__(self, radius):\n",
    "        self.radius = radius\n",
    "    \n",
    "    def description(self):\n",
    "        print(\"radius: \", self.radius)\n",
    "        \n",
    "    def circumference(self):\n",
    "        return 2*self.radius*math.pi\n",
    "        \n",
    "    def surface_area(self):\n",
    "        return self.radius**2*math.pi"
   ]
  },
  {
   "cell_type": "code",
   "execution_count": 8,
   "metadata": {},
   "outputs": [
    {
     "name": "stdout",
     "output_type": "stream",
     "text": [
      "radius:  3\n",
      "None\n",
      "18.84955592153876\n",
      "28.274333882308138\n"
     ]
    }
   ],
   "source": [
    "c = Circle(3)\n",
    "print(c.description())\n",
    "print(c.circumference())\n",
    "print(c.surface_area())"
   ]
  },
  {
   "cell_type": "code",
   "execution_count": 5,
   "metadata": {},
   "outputs": [
    {
     "ename": "NameError",
     "evalue": "name 'Circle' is not defined",
     "output_type": "error",
     "traceback": [
      "\u001b[1;31m---------------------------------------------------------------------------\u001b[0m",
      "\u001b[1;31mNameError\u001b[0m                                 Traceback (most recent call last)",
      "\u001b[1;32m<ipython-input-5-c029692c64a6>\u001b[0m in \u001b[0;36m<module>\u001b[1;34m\u001b[0m\n\u001b[1;32m----> 1\u001b[1;33m \u001b[1;32mclass\u001b[0m \u001b[0mCylinder\u001b[0m\u001b[1;33m(\u001b[0m\u001b[0mCircle\u001b[0m\u001b[1;33m)\u001b[0m\u001b[1;33m:\u001b[0m\u001b[1;33m\u001b[0m\u001b[1;33m\u001b[0m\u001b[0m\n\u001b[0m\u001b[0;32m      2\u001b[0m     \"\"\"\n\u001b[0;32m      3\u001b[0m     \u001b[0mThis\u001b[0m \u001b[1;32mclass\u001b[0m \u001b[0mdefine\u001b[0m \u001b[0ma\u001b[0m \u001b[0mfew\u001b[0m \u001b[0msimple\u001b[0m \u001b[0mmethods\u001b[0m \u001b[0mto\u001b[0m \u001b[0mcalculate\u001b[0m \u001b[0mvolume\u001b[0m \u001b[1;33m&\u001b[0m \u001b[0msurface_area\u001b[0m\u001b[1;33m\u001b[0m\u001b[1;33m\u001b[0m\u001b[0m\n\u001b[0;32m      4\u001b[0m     \u001b[0mof\u001b[0m \u001b[0ma\u001b[0m \u001b[0mcylinder\u001b[0m\u001b[1;33m.\u001b[0m \u001b[0mThis\u001b[0m \u001b[1;32mclass\u001b[0m \u001b[1;32mis\u001b[0m \u001b[0minheriting\u001b[0m \u001b[1;32mfrom\u001b[0m \u001b[0mthe\u001b[0m \u001b[0mCircle\u001b[0m \u001b[1;32mclass\u001b[0m\u001b[1;33m\u001b[0m\u001b[1;33m\u001b[0m\u001b[0m\n\u001b[0;32m      5\u001b[0m     \"\"\"\n",
      "\u001b[1;31mNameError\u001b[0m: name 'Circle' is not defined"
     ]
    }
   ],
   "source": [
    "class Cylinder(Circle):\n",
    "    \"\"\"\n",
    "    This class define a few simple methods to calculate volume & surface_area\n",
    "    of a cylinder. This class is inheriting from the Circle class\n",
    "    \"\"\"\n",
    "    def __init__(self, radius, height):\n",
    "        super().__init__(radius)\n",
    "        self.radius = radius\n",
    "        self.height = height\n",
    "        \n",
    "    def description(self):\n",
    "        print(\"radius: \", self.radius, \"height: \", self.height)\n",
    "    \n",
    "    def surface_area(self):\n",
    "        a = 2*math.pi*self.radius*self.radius\n",
    "        b = 2*math.pi*self.radius*self.height\n",
    "        s = a + b\n",
    "        return s\n",
    "    \n",
    "    def volume(self):\n",
    "        v = math.pi*self.radius*self.radius*self.height\n",
    "        return v"
   ]
  },
  {
   "cell_type": "code",
   "execution_count": 4,
   "metadata": {},
   "outputs": [
    {
     "ename": "NameError",
     "evalue": "name 'Cylinder' is not defined",
     "output_type": "error",
     "traceback": [
      "\u001b[1;31m---------------------------------------------------------------------------\u001b[0m",
      "\u001b[1;31mNameError\u001b[0m                                 Traceback (most recent call last)",
      "\u001b[1;32m<ipython-input-4-e6dd3614387a>\u001b[0m in \u001b[0;36m<module>\u001b[1;34m\u001b[0m\n\u001b[1;32m----> 1\u001b[1;33m \u001b[0mcyl\u001b[0m \u001b[1;33m=\u001b[0m \u001b[0mCylinder\u001b[0m\u001b[1;33m(\u001b[0m\u001b[1;36m4\u001b[0m\u001b[1;33m,\u001b[0m\u001b[1;36m9\u001b[0m\u001b[1;33m)\u001b[0m\u001b[1;33m\u001b[0m\u001b[1;33m\u001b[0m\u001b[0m\n\u001b[0m\u001b[0;32m      2\u001b[0m \u001b[0mprint\u001b[0m\u001b[1;33m(\u001b[0m\u001b[0mcyl\u001b[0m\u001b[1;33m.\u001b[0m\u001b[0mdescription\u001b[0m\u001b[1;33m(\u001b[0m\u001b[1;33m)\u001b[0m\u001b[1;33m)\u001b[0m\u001b[1;33m\u001b[0m\u001b[1;33m\u001b[0m\u001b[0m\n\u001b[0;32m      3\u001b[0m \u001b[0mprint\u001b[0m\u001b[1;33m(\u001b[0m\u001b[1;34m'Cylinder surface area: '\u001b[0m\u001b[1;33m,\u001b[0m\u001b[0mcyl\u001b[0m\u001b[1;33m.\u001b[0m\u001b[0msurface_area\u001b[0m\u001b[1;33m(\u001b[0m\u001b[1;33m)\u001b[0m\u001b[1;33m)\u001b[0m\u001b[1;33m\u001b[0m\u001b[1;33m\u001b[0m\u001b[0m\n\u001b[0;32m      4\u001b[0m \u001b[0mprint\u001b[0m\u001b[1;33m(\u001b[0m\u001b[1;34m'Cylinder voulume: '\u001b[0m\u001b[1;33m,\u001b[0m\u001b[0mcyl\u001b[0m\u001b[1;33m.\u001b[0m\u001b[0mvolume\u001b[0m\u001b[1;33m(\u001b[0m\u001b[1;33m)\u001b[0m\u001b[1;33m)\u001b[0m\u001b[1;33m\u001b[0m\u001b[1;33m\u001b[0m\u001b[0m\n",
      "\u001b[1;31mNameError\u001b[0m: name 'Cylinder' is not defined"
     ]
    }
   ],
   "source": [
    "cyl = Cylinder(4,9)\n",
    "print(cyl.description())\n",
    "print('Cylinder surface area: ',cyl.surface_area())\n",
    "print('Cylinder voulume: ',cyl.volume())"
   ]
  },
  {
   "cell_type": "code",
   "execution_count": 1,
   "metadata": {},
   "outputs": [
    {
     "ename": "NameError",
     "evalue": "name 'Cylinder' is not defined",
     "output_type": "error",
     "traceback": [
      "\u001b[1;31m---------------------------------------------------------------------------\u001b[0m",
      "\u001b[1;31mNameError\u001b[0m                                 Traceback (most recent call last)",
      "\u001b[1;32m<ipython-input-1-284b5d54ae90>\u001b[0m in \u001b[0;36m<module>\u001b[1;34m\u001b[0m\n\u001b[1;32m----> 1\u001b[1;33m \u001b[1;32mclass\u001b[0m \u001b[0mCone\u001b[0m\u001b[1;33m(\u001b[0m\u001b[0mCylinder\u001b[0m\u001b[1;33m)\u001b[0m\u001b[1;33m:\u001b[0m\u001b[1;33m\u001b[0m\u001b[1;33m\u001b[0m\u001b[0m\n\u001b[0m\u001b[0;32m      2\u001b[0m     \"\"\"\n\u001b[0;32m      3\u001b[0m     \u001b[0mThis\u001b[0m \u001b[1;32mclass\u001b[0m \u001b[0mdefine\u001b[0m \u001b[0ma\u001b[0m \u001b[0mfew\u001b[0m \u001b[0msimple\u001b[0m \u001b[0mmethods\u001b[0m \u001b[0mto\u001b[0m \u001b[0mcalculate\u001b[0m \u001b[0mvolume\u001b[0m \u001b[1;33m&\u001b[0m \u001b[0msurface_area\u001b[0m\u001b[1;33m\u001b[0m\u001b[1;33m\u001b[0m\u001b[0m\n\u001b[0;32m      4\u001b[0m     \u001b[0mof\u001b[0m \u001b[0ma\u001b[0m \u001b[0mcone\u001b[0m\u001b[1;33m.\u001b[0m \u001b[0mThis\u001b[0m \u001b[1;32mclass\u001b[0m \u001b[1;32mis\u001b[0m \u001b[0minheriting\u001b[0m \u001b[1;32mfrom\u001b[0m \u001b[0mthe\u001b[0m \u001b[0mCylinder\u001b[0m \u001b[1;32mclass\u001b[0m\u001b[1;33m\u001b[0m\u001b[1;33m\u001b[0m\u001b[0m\n\u001b[0;32m      5\u001b[0m     \"\"\"\n",
      "\u001b[1;31mNameError\u001b[0m: name 'Cylinder' is not defined"
     ]
    }
   ],
   "source": [
    "class Cone(Cylinder):\n",
    "    \"\"\"\n",
    "    This class define a few simple methods to calculate volume & surface_area\n",
    "    of a cone. This class is inheriting from the Cylinder class\n",
    "    \"\"\"\n",
    "    def __init__(self, radius, height):\n",
    "        super().__init__(radius, height)\n",
    "        self.radius = radius\n",
    "        self.height = height\n",
    "    \n",
    "    def surface_area(self):\n",
    "        s = self.height*self.height*self.radius*self.radius\n",
    "        a = math.pi*self.radius*s\n",
    "        b = math.pi*self.radius*self.radius\n",
    "        return a+b\n",
    "    \n",
    "    def volume(self):\n",
    "        v = (1/3)*math.pi*self.radius*self.radius*self.height\n",
    "        \n",
    "        return v"
   ]
  },
  {
   "cell_type": "code",
   "execution_count": 2,
   "metadata": {},
   "outputs": [
    {
     "ename": "NameError",
     "evalue": "name 'Cylinder' is not defined",
     "output_type": "error",
     "traceback": [
      "\u001b[1;31m---------------------------------------------------------------------------\u001b[0m",
      "\u001b[1;31mNameError\u001b[0m                                 Traceback (most recent call last)",
      "\u001b[1;32m<ipython-input-2-772f12bd0eb5>\u001b[0m in \u001b[0;36m<module>\u001b[1;34m\u001b[0m\n\u001b[1;32m----> 1\u001b[1;33m \u001b[0mcyl\u001b[0m \u001b[1;33m=\u001b[0m \u001b[0mCylinder\u001b[0m\u001b[1;33m(\u001b[0m\u001b[1;36m4\u001b[0m\u001b[1;33m,\u001b[0m\u001b[1;36m9\u001b[0m\u001b[1;33m)\u001b[0m\u001b[1;33m\u001b[0m\u001b[1;33m\u001b[0m\u001b[0m\n\u001b[0m\u001b[0;32m      2\u001b[0m \u001b[0mprint\u001b[0m\u001b[1;33m(\u001b[0m\u001b[0mcyl\u001b[0m\u001b[1;33m.\u001b[0m\u001b[0mdescription\u001b[0m\u001b[1;33m(\u001b[0m\u001b[1;33m)\u001b[0m\u001b[1;33m)\u001b[0m\u001b[1;33m\u001b[0m\u001b[1;33m\u001b[0m\u001b[0m\n\u001b[0;32m      3\u001b[0m \u001b[0mprint\u001b[0m\u001b[1;33m(\u001b[0m\u001b[1;34m'Cylinder surface area: '\u001b[0m\u001b[1;33m,\u001b[0m\u001b[0mcyl\u001b[0m\u001b[1;33m.\u001b[0m\u001b[0msurface_area\u001b[0m\u001b[1;33m(\u001b[0m\u001b[1;33m)\u001b[0m\u001b[1;33m)\u001b[0m\u001b[1;33m\u001b[0m\u001b[1;33m\u001b[0m\u001b[0m\n\u001b[0;32m      4\u001b[0m \u001b[0mprint\u001b[0m\u001b[1;33m(\u001b[0m\u001b[1;34m'Cylinder voulume: '\u001b[0m\u001b[1;33m,\u001b[0m\u001b[0mcyl\u001b[0m\u001b[1;33m.\u001b[0m\u001b[0mvolume\u001b[0m\u001b[1;33m(\u001b[0m\u001b[1;33m)\u001b[0m\u001b[1;33m)\u001b[0m\u001b[1;33m\u001b[0m\u001b[1;33m\u001b[0m\u001b[0m\n\u001b[0;32m      5\u001b[0m \u001b[0mco\u001b[0m \u001b[1;33m=\u001b[0m \u001b[0mCone\u001b[0m\u001b[1;33m(\u001b[0m\u001b[1;36m4\u001b[0m\u001b[1;33m,\u001b[0m\u001b[1;36m9\u001b[0m\u001b[1;33m)\u001b[0m\u001b[1;33m\u001b[0m\u001b[1;33m\u001b[0m\u001b[0m\n",
      "\u001b[1;31mNameError\u001b[0m: name 'Cylinder' is not defined"
     ]
    }
   ],
   "source": [
    "cyl = Cylinder(4,9)\n",
    "print(cyl.description())\n",
    "print('Cylinder surface area: ',cyl.surface_area())\n",
    "print('Cylinder voulume: ',cyl.volume())\n",
    "co = Cone(4,9)\n",
    "print('Cone surface area: ',co.surface_area())\n",
    "print('Cone voulume: ',co.volume())"
   ]
  },
  {
   "cell_type": "markdown",
   "metadata": {},
   "source": [
    "## Problem 2\n",
    "\n",
    "(* * kw) stands for kwargs"
   ]
  },
  {
   "cell_type": "code",
   "execution_count": 18,
   "metadata": {},
   "outputs": [],
   "source": [
    "class Car():\n",
    "    def __init__(self, id, build_year, **kw):\n",
    "        super().__init__(**kw)\n",
    "        self.id = id\n",
    "        self.build_year = build_year"
   ]
  },
  {
   "cell_type": "code",
   "execution_count": 19,
   "metadata": {},
   "outputs": [],
   "source": [
    "class Petrol_car(Car):\n",
    "    def __init__(self, id, build_year, tank_capacity, fuel_consumption, **kw):\n",
    "        super().__init__(id, build_year, **kw)\n",
    "        if tank_capacity < 40 or tank_capacity > 70:\n",
    "            print('Fule must be between 40 & 70 L')\n",
    "        else: \n",
    "            self.tank_capacity = tank_capacity\n",
    "        self.fuel_consumption = fuel_consumption\n",
    "        self.fuel_status = 0\n",
    "\n",
    "    def fill_fuel_to(self, fuel):\n",
    "        \"\"\"\n",
    "        This method fills the tank of the car.\n",
    "        It takes an input from the user 0-1.\n",
    "        * 0 is empty tank\n",
    "        * 1 is full tank\n",
    "        ----\n",
    "        ex: if adding 0.5 to the tank (0.5), then we adding it to \n",
    "            1 and its a full tank.\n",
    "        \"\"\"\n",
    "        if fuel > 1 or fuel < 0:\n",
    "            print('Enter value between 0-1')\n",
    "        else:\n",
    "            check = 0\n",
    "            check = fuel + self.fuel_status\n",
    "            if check > 1:\n",
    "                print('To much fuel for the tank')\n",
    "            else:\n",
    "                self.fuel_status += fuel\n",
    "                print('Fuel status of ', self.id, ' is ' , self.fuel_status, ' of full tank now')\n",
    "    \n",
    "    def reduce_fuel_to(self, fuel):\n",
    "        \"\"\"\n",
    "        This method reduce the tank of the car.\n",
    "        It takes an input 'fuel' from the user 0-1.\n",
    "        * 0 is empty tank\n",
    "        * 1 is full tank\n",
    "        ----\n",
    "        ex: if subtracting 0.5 from the tank (0.5), then we subtracting it to \n",
    "            0 and its a empty tank.\n",
    "        \"\"\"\n",
    "        if fuel > 1 or fuel < 0:\n",
    "            print('Enter value between 0-1')\n",
    "        else:\n",
    "            check = 0\n",
    "            check =  self.fuel_status - fuel\n",
    "            if check < 0:\n",
    "                print('To little fuel for the tank')\n",
    "            else:\n",
    "                self.fuel_status = fuel \n",
    "                self.tank_capacity *= self.fuel_status\n",
    "                print('Fuel status of ', self.id, ' is ' , self.fuel_status, ' of full tank now')\n",
    "                \n",
    "    def get_range(self):\n",
    "        \"\"\"\n",
    "        This method calculates the theoretical range the car can drive \n",
    "        with its current tank capacity\n",
    "        \"\"\"\n",
    "        con = self.fuel_consumption / 100\n",
    "        ra = self.tank_capacity / con\n",
    "        print('The remaining range of ', self.id, ': ', ra, 'km.')"
   ]
  },
  {
   "cell_type": "code",
   "execution_count": 20,
   "metadata": {},
   "outputs": [],
   "source": [
    "class Electric_car(Car):\n",
    "    def __init__(self, id, build_year, battery_capacity, battery_consumption, **kw):\n",
    "        super().__init__(id, build_year, **kw)\n",
    "        self.battery_capacity = battery_capacity\n",
    "        self.battery_consumption = battery_consumption\n",
    "        self.battery_status = 0\n",
    "    \n",
    "    def charge_battery_to(self, cap):\n",
    "        \"\"\"\n",
    "        The method is adding the battery with the input that the user gives\n",
    "        \n",
    "        input: adding amount from user\n",
    "        return: none\n",
    "        \"\"\"\n",
    "        if (self.battery_status + cap) > 100:\n",
    "            print('You cant charge the battery over 100%')\n",
    "        else:\n",
    "            self.battery_status = self.battery_status + cap\n",
    "            print('Fuel status of ', self.id, ' is ' , self.battery_status, '% of full tank now')\n",
    "            \n",
    "    def reduce_battery_to(self, cap):\n",
    "        \"\"\"\n",
    "        The method is subtracting the battery with the input that the user gives\n",
    "        \n",
    "        input: reducing amount from user\n",
    "        return: none\n",
    "        \"\"\"\n",
    "        if (self.battery_status - cap) < 0:\n",
    "            print('You cant reduce the battery under 0%')\n",
    "        else:\n",
    "            self.battery_status = self.battery_status - cap \n",
    "            print('Fuel status of ', self.id, ' is ' , self.battery_status, '% of full tank now')\n",
    "            \n",
    "    def get_range(self):\n",
    "        \"\"\"\n",
    "        This method calculates the theoretical range the car can drive \n",
    "        with its current battery capacity\n",
    "        \"\"\"\n",
    "        x = self.battery_capacity / self.battery_consumption\n",
    "        x *= (self.battery_status / 100)\n",
    "        print('The remaining range of ', self.id, ': ', x, 'km.')"
   ]
  },
  {
   "cell_type": "code",
   "execution_count": 21,
   "metadata": {},
   "outputs": [],
   "source": [
    "class PHEV(Petrol_car, Electric_car):\n",
    "    def __init__(self, id, build_year, tank_capacity, fuel_consumption, battery_capacity, battery_consumption):\n",
    "        super().__init__(id, build_year = build_year, tank_capacity = tank_capacity, fuel_consumption = fuel_consumption, \n",
    "                         battery_capacity = battery_capacity, battery_consumption = battery_consumption)\n",
    "        self.id = id\n",
    "        self.build_year = build_year\n",
    "        self.fuel_consumption = fuel_consumption\n",
    "        self.battery_consumption = battery_consumption\n",
    "        if tank_capacity < 40 or tank_capacity > 70:\n",
    "            print('Fule must be between 40 & 70 L')\n",
    "        else: \n",
    "            self.tank_capacity = tank_capacity\n",
    "        if battery_capacity < 8 or battery_capacity > 9.5:\n",
    "            print('Battery capacity must be between 8 & 9.5')\n",
    "        else:\n",
    "            self.battery_capacity = battery_capacity\n",
    "    \n",
    "    def get_range(self):\n",
    "        \"\"\"\n",
    "        This method prints the calculated the theoretical range for the hybrid car \n",
    "        \"\"\"\n",
    "        print('The remaining range of h1:', self.__caluculate_range(), 'km')\n",
    "    \n",
    "    def __caluculate_range(self):\n",
    "        \"\"\"\n",
    "        __caluculate_range() is a private method. \n",
    "        Input: none\n",
    "        retrun: summary of the theoretical range from battery and fuel tank\n",
    "        \"\"\"\n",
    "        con = self.fuel_consumption / 100\n",
    "        ra = self.tank_capacity / con\n",
    "        \n",
    "        x = self.battery_capacity / self.battery_consumption\n",
    "        x *= (self.battery_status / 100)\n",
    "        \n",
    "        return ra + x"
   ]
  },
  {
   "cell_type": "code",
   "execution_count": 22,
   "metadata": {},
   "outputs": [
    {
     "name": "stdout",
     "output_type": "stream",
     "text": [
      "Fuel status of  c1  is  1  of full tank now\n",
      "The remaining range of  c1 :  727.2727272727273 km.\n",
      "Fuel status of  c1  is  0.4  of full tank now\n",
      "The remaining range of  c1 :  290.90909090909093 km.\n",
      "Fuel status of  e1  is  90 % of full tank now\n",
      "The remaining range of  e1 :  315.0 km.\n",
      "Fuel status of  e1  is  70 % of full tank now\n",
      "The remaining range of  e1 :  244.99999999999997 km.\n",
      "Fuel status of  h1  is  0.5  of full tank now\n",
      "Fuel status of  h1  is  50 % of full tank now\n",
      "The remaining range of h1: 751.0227272727273 km\n",
      "Fuel status of  h1  is  0 % of full tank now\n",
      "The remaining range of h1: 727.2727272727273 km\n"
     ]
    }
   ],
   "source": [
    "c = Petrol_car('c1', 1995, 40, 5.5)\n",
    "c.fill_fuel_to(1)\n",
    "c.get_range()\n",
    "c.reduce_fuel_to(0.4)\n",
    "c.get_range()\n",
    "e = Electric_car('e1', 2015, 70, 0.2)\n",
    "e.charge_battery_to(90)\n",
    "e.get_range()\n",
    "e.reduce_battery_to(20)\n",
    "e.get_range()\n",
    "h = PHEV('h1', 2016, 40, 5.5, 9.5, 0.2)\n",
    "h.fill_fuel_to(0.5)\n",
    "h.charge_battery_to(50)\n",
    "h.get_range()\n",
    "h.reduce_battery_to(50)\n",
    "h.get_range()"
   ]
  },
  {
   "cell_type": "code",
   "execution_count": 23,
   "metadata": {},
   "outputs": [
    {
     "ename": "AttributeError",
     "evalue": "'PHEV' object has no attribute 'caluculate_range'",
     "output_type": "error",
     "traceback": [
      "\u001b[1;31m---------------------------------------------------------------------------\u001b[0m",
      "\u001b[1;31mAttributeError\u001b[0m                            Traceback (most recent call last)",
      "\u001b[1;32m<ipython-input-23-f926d75d75d0>\u001b[0m in \u001b[0;36m<module>\u001b[1;34m\u001b[0m\n\u001b[1;32m----> 1\u001b[1;33m \u001b[0mh\u001b[0m\u001b[1;33m.\u001b[0m\u001b[0mcaluculate_range\u001b[0m\u001b[1;33m(\u001b[0m\u001b[1;33m)\u001b[0m\u001b[1;33m\u001b[0m\u001b[1;33m\u001b[0m\u001b[0m\n\u001b[0m",
      "\u001b[1;31mAttributeError\u001b[0m: 'PHEV' object has no attribute 'caluculate_range'"
     ]
    }
   ],
   "source": [
    "h.caluculate_range()"
   ]
  },
  {
   "cell_type": "code",
   "execution_count": null,
   "metadata": {},
   "outputs": [],
   "source": []
  },
  {
   "cell_type": "code",
   "execution_count": null,
   "metadata": {},
   "outputs": [],
   "source": []
  },
  {
   "cell_type": "code",
   "execution_count": null,
   "metadata": {},
   "outputs": [],
   "source": []
  }
 ],
 "metadata": {
  "kernelspec": {
   "display_name": "Python 3",
   "language": "python",
   "name": "python3"
  },
  "language_info": {
   "codemirror_mode": {
    "name": "ipython",
    "version": 3
   },
   "file_extension": ".py",
   "mimetype": "text/x-python",
   "name": "python",
   "nbconvert_exporter": "python",
   "pygments_lexer": "ipython3",
   "version": "3.9.2"
  }
 },
 "nbformat": 4,
 "nbformat_minor": 4
}
