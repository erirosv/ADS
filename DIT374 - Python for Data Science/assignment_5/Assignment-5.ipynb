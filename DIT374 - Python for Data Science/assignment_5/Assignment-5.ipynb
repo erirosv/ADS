{
 "cells": [
  {
   "attachments": {},
   "cell_type": "markdown",
   "metadata": {},
   "source": [
    "## Solution for Problem 1"
   ]
  },
  {
   "cell_type": "code",
   "execution_count": 76,
   "metadata": {},
   "outputs": [],
   "source": [
    "class Stack:\n",
    "    def __init__(self):\n",
    "        self.items=[]\n",
    "\n",
    "    def isEmpty(self):\n",
    "        return self.items==[]\n",
    "\n",
    "    def push(self,data):\n",
    "        self.items.append(data)\n",
    "\n",
    "    def size(self):\n",
    "        return len(Self.items)\n",
    "\n",
    "    def show(self):\n",
    "        print (self.items)\n",
    "\n",
    "    def peek(self):\n",
    "        return self.items[len(self.items)-1]\n",
    "\n",
    "    def pop(self):\n",
    "        assert not self.isEmpty()\n",
    "        return self.items.pop()"
   ]
  },
  {
   "cell_type": "code",
   "execution_count": 88,
   "metadata": {},
   "outputs": [],
   "source": [
    "def palindrome_function(word):\n",
    "    s=Stack();\n",
    "    for i in word_input_lower:\n",
    "         s.push(i)\n",
    "\n",
    "    list1 = \"\"\n",
    "    while not s.isEmpty():\n",
    "        list1 += s.pop()\n",
    "\n",
    "    if(list1 == word_input_lower):\n",
    "        print(word_input,\"is a palindrome\");\n",
    "    else:\n",
    "        print(word_input,\"is not a palindrome\");"
   ]
  },
  {
   "cell_type": "code",
   "execution_count": 91,
   "metadata": {},
   "outputs": [
    {
     "name": "stdout",
     "output_type": "stream",
     "text": [
      "Enter a word,verse or sentence: 1881\n",
      "1881 is a palindrome\n"
     ]
    }
   ],
   "source": [
    "word_input =input(\"Enter a word,verse or sentence: \") #1881\n",
    "word_input_lower = word_input.lower()\n",
    "\n",
    "palindrome_function(word_input_lower)"
   ]
  },
  {
   "cell_type": "code",
   "execution_count": 94,
   "metadata": {},
   "outputs": [
    {
     "name": "stdout",
     "output_type": "stream",
     "text": [
      "Enter a word,verse or sentence: eleven\n",
      "eleven is not a palindrome\n"
     ]
    }
   ],
   "source": [
    "word_input =input(\"Enter a word,verse or sentence: \") #eleven\n",
    "word_input_lower = word_input.lower()\n",
    "\n",
    "palindrome_function(word_input_lower)"
   ]
  },
  {
   "cell_type": "code",
   "execution_count": 92,
   "metadata": {},
   "outputs": [
    {
     "name": "stdout",
     "output_type": "stream",
     "text": [
      "Enter a word,verse or sentence: Able was I ere I saw Elba\n",
      "Able was I ere I saw Elba is a palindrome\n"
     ]
    }
   ],
   "source": [
    "word_input =input(\"Enter a word,verse or sentence: \") #Able was I ere I saw Elba\n",
    "word_input_lower = word_input.lower()\n",
    "\n",
    "palindrome_function(word_input_lower)"
   ]
  },
  {
   "cell_type": "code",
   "execution_count": 93,
   "metadata": {},
   "outputs": [
    {
     "name": "stdout",
     "output_type": "stream",
     "text": [
      "Enter a word,verse or sentence: Nothing else matters\n",
      "Nothing else matters is not a palindrome\n"
     ]
    }
   ],
   "source": [
    "word_input =input(\"Enter a word,verse or sentence: \") #Nothing else matters\n",
    "word_input_lower = word_input.lower()\n",
    "\n",
    "palindrome_function(word_input_lower)"
   ]
  },
  {
   "cell_type": "markdown",
   "metadata": {},
   "source": [
    "## Solution for Problem 2"
   ]
  },
  {
   "cell_type": "code",
   "execution_count": 96,
   "metadata": {},
   "outputs": [
    {
     "name": "stdout",
     "output_type": "stream",
     "text": [
      "False\n",
      "False\n",
      "False\n",
      "True\n",
      "True\n",
      "True\n",
      "True\n",
      "False\n",
      "True\n",
      "True\n"
     ]
    }
   ],
   "source": [
    "def check_matching_special_chars(chars):\n",
    "      \n",
    "    open_tup, close_tup = tuple('({['), tuple(')}]')\n",
    "    map = dict(zip(open_tup, close_tup))\n",
    "    queue = []\n",
    "  \n",
    "    for i in chars:\n",
    "        if i in open_tup:\n",
    "            queue.append(map[i])\n",
    "        elif i in close_tup:\n",
    "            if not queue or i != queue.pop():\n",
    "                return \"False\"\n",
    "    if not queue:\n",
    "        return \"True\"\n",
    "    else:\n",
    "        return \"False\"\n",
    "  \n",
    "if __name__ == '__main__':\n",
    "    print(check_matching_special_chars(\"()(l[k][k]))\"))\n",
    "    print(check_matching_special_chars(\"[[](9)l)l]\"))\n",
    "    print(check_matching_special_chars(\"((())\"))\n",
    "    print(check_matching_special_chars(\"()[]{}\"))\n",
    "    print(check_matching_special_chars(\"(5[][7]())\"))\n",
    "    print(check_matching_special_chars(\"[[[][3]]]\"))\n",
    "    print(check_matching_special_chars(\"\"))\n",
    "    print(check_matching_special_chars(\"\\[3+4\"))\n",
    "    print(check_matching_special_chars(\"It costs $3.\"))\n",
    "    print(check_matching_special_chars(\"$\\frac{1}{2}+5$\"))"
   ]
  }
 ],
 "metadata": {
  "kernelspec": {
   "display_name": "Python 3",
   "language": "python",
   "name": "python3"
  },
  "language_info": {
   "codemirror_mode": {
    "name": "ipython",
    "version": 3
   },
   "file_extension": ".py",
   "mimetype": "text/x-python",
   "name": "python",
   "nbconvert_exporter": "python",
   "pygments_lexer": "ipython3",
   "version": "3.8.8"
  }
 },
 "nbformat": 4,
 "nbformat_minor": 4
}
