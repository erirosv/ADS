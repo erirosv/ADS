{
 "cells": [
  {
   "cell_type": "markdown",
   "metadata": {},
   "source": [
    "# Assignment 2\n",
    "by:\n"
   ]
  },
  {
   "cell_type": "markdown",
   "metadata": {},
   "source": [
    "## Problem 1"
   ]
  },
  {
   "cell_type": "code",
   "execution_count": 1,
   "metadata": {},
   "outputs": [],
   "source": [
    "import timeit"
   ]
  },
  {
   "cell_type": "code",
   "execution_count": 9,
   "metadata": {},
   "outputs": [],
   "source": [
    "def getWords():\n",
    "    words = []\n",
    "    with open('Words.txt') as f:\n",
    "        words = f.readlines()\n",
    "    return words"
   ]
  },
  {
   "cell_type": "code",
   "execution_count": 10,
   "metadata": {},
   "outputs": [],
   "source": [
    "def words_letter_position(words, letter, position):\n",
    "    pos = int(position)\n",
    "    found = []\n",
    "    \n",
    "    for i in range(len(words)):\n",
    "        temp = words[i]\n",
    "        temp = temp.strip()\n",
    "        if len(temp) - 1 >= pos and temp[pos] == letter:\n",
    "            found.append(temp)\n",
    "        else:\n",
    "            continue\n",
    "    return found"
   ]
  },
  {
   "cell_type": "code",
   "execution_count": 11,
   "metadata": {},
   "outputs": [],
   "source": [
    "def run(words):\n",
    "    letter = input('Enter letter: ')\n",
    "    position = input('Enter position: ')\n",
    "    w = []   \n",
    "    start = timeit.default_timer()\n",
    "    w = words_letter_position(words, letter, position)\n",
    "    stop = timeit.default_timer()\n",
    "    return start, stop, w"
   ]
  },
  {
   "cell_type": "code",
   "execution_count": 22,
   "metadata": {},
   "outputs": [
    {
     "name": "stdout",
     "output_type": "stream",
     "text": [
      "Enter letter: b\n",
      "Enter position: 3\n",
      "Time:  0.10481770000001234\n"
     ]
    }
   ],
   "source": [
    "found_words = []\n",
    "words = getWords()\n",
    "start, stop, found_words = run(words)\n",
    "print('Time: ', stop - start)"
   ]
  },
  {
   "cell_type": "code",
   "execution_count": 17,
   "metadata": {},
   "outputs": [],
   "source": [
    "def getWord2():\n",
    "    words = ()\n",
    "    with open('Words.txt') as f:\n",
    "        words = f.readlines()\n",
    "    return words"
   ]
  },
  {
   "cell_type": "code",
   "execution_count": 23,
   "metadata": {},
   "outputs": [
    {
     "name": "stdout",
     "output_type": "stream",
     "text": [
      "Enter letter: b\n",
      "Enter position: 3\n",
      "Time:  0.1476505000000543\n"
     ]
    }
   ],
   "source": [
    "found_words2 = []\n",
    "words = getWord2()\n",
    "start, stop, found_words2 = run(words)\n",
    "print('Time: ', stop - start)"
   ]
  },
  {
   "cell_type": "markdown",
   "metadata": {},
   "source": [
    "### 1-3\n",
    "Lists are faster than sets\n",
    "times:\n",
    "* List: 0.10481770000001234\n",
    "* Set: 0.1476505000000543"
   ]
  },
  {
   "cell_type": "markdown",
   "metadata": {},
   "source": [
    "## Problem 2"
   ]
  },
  {
   "cell_type": "code",
   "execution_count": 10,
   "metadata": {},
   "outputs": [],
   "source": [
    "def readFile():\n",
    "    words = []\n",
    "    with open('Words.txt') as f:\n",
    "        words = f.readlines()\n",
    "        return words"
   ]
  },
  {
   "cell_type": "code",
   "execution_count": 33,
   "metadata": {},
   "outputs": [],
   "source": [
    "def anagram(words, wlen, check):\n",
    "    length_of_word = int(wlen)\n",
    "    found_anagram = []\n",
    "    print('1',check)\n",
    "    \n",
    "    check = findWord(words, length_of_word, check)\n",
    "    print('2',check)\n",
    "    for i in range(len(words)):\n",
    "        if sorted(words[i]) == sorted(check) and check != words[i]:\n",
    "            found_anagram.append(words[i])\n",
    "        return found_anagram"
   ]
  },
  {
   "cell_type": "code",
   "execution_count": 46,
   "metadata": {},
   "outputs": [],
   "source": [
    "def findWord(words, length, check):\n",
    "    le = int(length)\n",
    "    for i in range(len(words)):\n",
    "        wl = len(words[i])\n",
    "        if check == '' or check == None and len(words[i]) == le:\n",
    "            ans = words[i]\n",
    "            return words[i]\n",
    "        elif len(words[i]) - 1 == le and sorted(check) and check != words[i]:\n",
    "            ans = words[i]\n",
    "            return words[i]\n",
    "        else:\n",
    "            continue"
   ]
  },
  {
   "cell_type": "code",
   "execution_count": 47,
   "metadata": {},
   "outputs": [
    {
     "name": "stdout",
     "output_type": "stream",
     "text": [
      "Enter word length: 8\n",
      "1 ABA\n",
      "\n",
      "2 abacisci\n",
      "\n"
     ]
    }
   ],
   "source": [
    "x = []\n",
    "emp = ''\n",
    "length = input('Enter word length: ')\n",
    "words = readFile()\n",
    "check_word = findWord(words, length, emp)\n",
    "x = anagram(words, length, check_word)"
   ]
  },
  {
   "cell_type": "code",
   "execution_count": null,
   "metadata": {},
   "outputs": [],
   "source": [
    "for i in range(len(words)):\n",
    "        temp = words[i]\n",
    "        temp = temp.strip()\n",
    "        if len(temp) - 1 == length_of_word and sorted(temp) == sorted(words[i]):\n",
    "            w = word[i]\n",
    "            found_anagram.append(words[i])\n",
    "        return found_anagram"
   ]
  },
  {
   "cell_type": "code",
   "execution_count": null,
   "metadata": {},
   "outputs": [],
   "source": []
  }
 ],
 "metadata": {
  "kernelspec": {
   "display_name": "Python 3",
   "language": "python",
   "name": "python3"
  },
  "language_info": {
   "codemirror_mode": {
    "name": "ipython",
    "version": 3
   },
   "file_extension": ".py",
   "mimetype": "text/x-python",
   "name": "python",
   "nbconvert_exporter": "python",
   "pygments_lexer": "ipython3",
   "version": "3.9.2"
  }
 },
 "nbformat": 4,
 "nbformat_minor": 4
}
