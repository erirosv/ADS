{
 "cells": [
  {
   "attachments": {},
   "cell_type": "markdown",
   "metadata": {},
   "source": [
    "# Assingment 1"
   ]
  },
  {
   "cell_type": "code",
   "execution_count": null,
   "metadata": {},
   "outputs": [],
   "source": []
  },
  {
   "cell_type": "markdown",
   "metadata": {},
   "source": [
    "# 1. Problem "
   ]
  },
  {
   "cell_type": "code",
   "execution_count": null,
   "metadata": {
    "scrolled": true
   },
   "outputs": [],
   "source": [
    "adjacent = int(input(\"Enter a number \"))\n",
    "opposite = int(input(\"Enter a number \"))\n",
    "hypotense = int(input(\"Enter a number \"))\n",
    "perimiter = adjacent + opposite + hypotense\n",
    "s = perimiter / 2\n",
    "area = (s*(s-adjacent) * (s-opposite) * (s-hypotense)) ** 0.5\n",
    "print(perimiter)\n",
    "print(area)"
   ]
  },
  {
   "cell_type": "markdown",
   "metadata": {},
   "source": [
    "# 2 Problem"
   ]
  },
  {
   "cell_type": "code",
   "execution_count": 2,
   "metadata": {},
   "outputs": [
    {
     "name": "stdout",
     "output_type": "stream",
     "text": [
      "Enter the width of the plinth at ground level: 3\n",
      "Enter the width of the plinth at the highest level: 7\n",
      "50\n"
     ]
    }
   ],
   "source": [
    "low = int(input('Enter the width of the plinth at ground level: '))\n",
    "high = int(input('Enter the width of the plinth at the highest level: '))\n",
    "\n",
    "area = 0\n",
    "i = low\n",
    "\n",
    "while(i <= high):\n",
    "    area = area + 2*i\n",
    "    i += 1\n",
    "\n",
    "print(area)"
   ]
  },
  {
   "cell_type": "markdown",
   "metadata": {},
   "source": [
    "# 3 Problem"
   ]
  },
  {
   "cell_type": "markdown",
   "metadata": {},
   "source": [
    "## 3.1\n",
    "List are the most versatile of all types. A list is mutable, ordered sequence of items. A list can be used for any type of obkects (integers, strings e.g). When accessing a list, its the same as you accessing a string. This makes it easy to use, and its size will automaticly grow or decrease (the list is changeable, it means that its possible to add/remove after the list been created). There can be douplicats in a list.\n",
    "\n",
    "A dicitonary is constructed by a key:value pair (similarities can be found in other programming languages). A dictionary can be explained like an address book, where the keys and values are assosiated. Important is that the key must be unique. \n",
    "\n",
    "There are some restrictions for the key, duplicates are not allowed, and the type of the key must be immutable. Items in a dictionary have a defined orders, i other words the order of a dictionary will not change. If the dictionary isn't orderd you can find any item by searching by usingin the index.\n",
    "\n",
    "I would use a dictionary when i work with database-tables, to ensure not to have any duplicates. \n",
    "\n",
    "References\n",
    "- https://medium.com/analytics-vidhya/python-list-vs-tuple-vs-dictionary-4a48655c7934\n",
    "- lecture note (Lecture 2)\n"
   ]
  },
  {
   "cell_type": "markdown",
   "metadata": {},
   "source": [
    "## 3.2\n",
    "Python is known for its simplicity. The naming of data types is, therefore, simpler as well. For example, a hash table is a built-in function in the name of a dict. If we compare to Java, Rust, .Netframework where it’s called a HashSet, Hashmap etc. In C++ it’s called an unordered map. There seem to be then that in computer science in general the naming convention is a bit different than that of Python. Primary naming after that actual data structure. Turning to Graph (abstract data type) it’s named graph in Python as well as other programming languages so this is an example where Python shares naming with other languages. \n",
    "\n",
    "Overall one can say that Python has its own naming for the different types because these are not as in a lot of other languages strictly the data structures that are taught in data structures and algorithms class. They act similarly to some of those data structures and try to preserve the use, intent, and same patterns of access, but they’re different."
   ]
  },
  {
   "cell_type": "code",
   "execution_count": null,
   "metadata": {},
   "outputs": [],
   "source": []
  }
 ],
 "metadata": {
  "kernelspec": {
   "display_name": "Python 3",
   "language": "python",
   "name": "python3"
  },
  "language_info": {
   "codemirror_mode": {
    "name": "ipython",
    "version": 3
   },
   "file_extension": ".py",
   "mimetype": "text/x-python",
   "name": "python",
   "nbconvert_exporter": "python",
   "pygments_lexer": "ipython3",
   "version": "3.9.2"
  }
 },
 "nbformat": 4,
 "nbformat_minor": 4
}
