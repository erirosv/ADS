{
 "cells": [
  {
   "cell_type": "code",
   "execution_count": 1,
   "metadata": {
    "cell_id": "00000-22b673e2-d368-4e56-bf63-f484423474e1",
    "deepnote_cell_type": "code",
    "deepnote_to_be_reexecuted": false,
    "execution_millis": 43,
    "execution_start": 1634573314708,
    "source_hash": "ff143fe",
    "tags": []
   },
   "outputs": [],
   "source": [
    "import math"
   ]
  },
  {
   "cell_type": "code",
   "execution_count": 2,
   "metadata": {
    "cell_id": "00001-563894db-47cb-4d55-8d85-ad6bd3626e1a",
    "deepnote_cell_type": "code",
    "deepnote_to_be_reexecuted": false,
    "execution_millis": 38,
    "execution_start": 1634573314751,
    "source_hash": "735daa65",
    "tags": []
   },
   "outputs": [],
   "source": [
    "class Graph:\n",
    "    def __init__(self, gdict = {}):\n",
    "        self.gdict = gdict\n",
    "        self.colour = {}\n",
    "        self.distance = {}\n",
    "        self.predecessor = {}\n",
    "        self.finish = {}     \n",
    "        \n",
    "    def get_vertices(self):\n",
    "        #return list(self.gdict.keys())\n",
    "        vertices = set()\n",
    "        for u in self.gdict:\n",
    "            vertices.add(u)\n",
    "            for v in self.gdict[u]:\n",
    "                vertices.add(v)\n",
    "        return vertices\n",
    "    \n",
    "    def get_edges(self):\n",
    "        edgename = []\n",
    "        for vertex in self.gdict:\n",
    "            for next_vertex in self.gdict[vertex]:\n",
    "                if {next_vertex, vertex} not in edgename:\n",
    "                    edgename.append({vertex, next_vertex})\n",
    "        return edgename    \n",
    "    \n",
    "    def add_vertex(self, vertex):\n",
    "        if vertex not in self.gdict:\n",
    "            self.gdict[vertex] = []\n",
    "            \n",
    "    def add_edge(self, edge):\n",
    "        edge = set(edge)\n",
    "        (vertex1, vertex2) = tuple(edge)\n",
    "        if vertex1 in self.gdict:\n",
    "            self.gdict[vertex1].append(vertex2)\n",
    "        else:\n",
    "            self.gdict[vertex1] = [vertex2]\n",
    "            \n",
    "    def BFS(self, s):\n",
    "        vertices = self.get_vertices()\n",
    "        vertices.remove(s)\n",
    "        for u in vertices:\n",
    "            self.colour[u] = \"White\"\n",
    "            self.distance[u] = 0\n",
    "            self.predecessor[u] = None\n",
    "        self.colour[s] = \"Gray\"\n",
    "        self.distance[s] = 0\n",
    "        self.predecessor[s] = None\n",
    "        queue = []\n",
    "        queue.append(s)\n",
    "        while queue:\n",
    "            u = queue.pop(0)\n",
    "            #print(self.gdict[u])\n",
    "            for v in self.gdict[u]:\n",
    "                if self.colour[v] == \"White\":\n",
    "                    self.colour[v] = \"Gray\"\n",
    "                    self.distance[v] = self.distance[u] + 1\n",
    "                    self.predecessor[v] = u\n",
    "                    queue.append(v)\n",
    "            self.colour[u] = \"Black\"    \n",
    "            \n",
    "    def print_path(self, s, v):\n",
    "        if v in self.gdict.keys():\n",
    "            if v == s:\n",
    "                print(s)\n",
    "            elif self.predecessor[v] == None:\n",
    "                print(\"There is no path from\", s, \"to\", v, \"exists.\")\n",
    "            else:\n",
    "                self.print_path(s, self.predecessor[v])\n",
    "                print(v)\n",
    "        else: \n",
    "            print(\"Node with key\", v, \"is not in the graph.\")       \n",
    "            \n",
    "    def DFS(self):\n",
    "        for u in self.gdict:\n",
    "            self.colour[u] = \"White\"\n",
    "            self.predecessor[u] = None\n",
    "            self.distance[u] = 0    # Added to initialise self.distance\n",
    "            self.finish[u] = -1     # Added to initialise self.finish\n",
    "        global time \n",
    "        time = 0\n",
    "        for u in self.gdict:\n",
    "            if self.colour[u] == \"White\":\n",
    "                self._DFS_visit(u)        \n",
    "                \n",
    "    def _DFS_visit(self, u):\n",
    "        global time\n",
    "        time += 1      # white vertex u has just been discovered\n",
    "        self.distance[u] = time\n",
    "        self.colour[u] = \"Gray\"\n",
    "        for v in self.gdict[u]:  # explore edge(u,v)\n",
    "            if self.colour[v] == \"White\":\n",
    "                self.predecessor[v] = u\n",
    "                self._DFS_visit(v)\n",
    "        self.colour[u] = \"Black\"   # blacken u; it is finished\n",
    "        time += 1\n",
    "        self.finish[u] = time\n",
    "\n",
    "    # ----- New functionality -----\n",
    "\n",
    "    def initialise_single_source(self, s):\n",
    "        for v in self.get_vertices():\n",
    "            self.distance[v] = math.inf\n",
    "            self.predecessor[v] = None       \n",
    "        self.distance[s] = 0\n",
    "\n",
    "    def get_weight(self, u, v):\n",
    "        return self.gdict[u][v]\n",
    "\n",
    "    def relax(self, u, v):\n",
    "        if self.distance[v] > self.distance[u] + self.get_weight(u, v):\n",
    "            self.distance[v] = self.distance[u] + self.get_weight(u, v)\n",
    "            self.predecessor[v] = u\n",
    "\n",
    "    # DAG\n",
    "    def dag_shortest_paths(self, s):\n",
    "        self.topological_sort()  # O(V+E)\n",
    "        self.initialise_single_source(s)  # O(V)\n",
    "        for u in self.finish.keys():      # O(V+E)\n",
    "            for v in self.gdict[u].keys():\n",
    "                self.relax(u, v)\n",
    "        \n",
    "    \n",
    "    def extract_min(self, candidates):\n",
    "        min = 999999\n",
    "        for cu in candidates:\n",
    "            if self.distance[cu] < min:\n",
    "                min = self.distance[cu]\n",
    "                u = cu  \n",
    "        return u\n",
    "    \n",
    "    def bellman_ford(self, s):\n",
    "        self.initialise_single_source(s)       # O(V)\n",
    "        for i in range(1, len(self.get_vertices())):    # O(E)\n",
    "            for (u, v) in self.get_edges():\n",
    "                self.relax(u, v)\n",
    "        for (u,v) in self.get_edges():    # O(E)\n",
    "            if self.distance[v] > self.distance[u] + self.get_weight(u, v):\n",
    "                return False\n",
    "        return True\n",
    "\n",
    "    def topological_sort(self):\n",
    "        self.DFS()\n",
    "        #return self.finish()\n",
    "          \n",
    "    def dijkstra(self, s):\n",
    "        self.initialise_single_source(s)\n",
    "        dist_far = [] # distance\n",
    "        Q = self.get_vertices() # All verticies\n",
    "        while Q:\n",
    "            u = self.extract_min(Q)\n",
    "            Q.remove(u)\n",
    "            dist_far = dist_far + [u] \n",
    "            for v in self.gdict[u]:\n",
    "                self.relax(u, v)"
   ]
  },
  {
   "cell_type": "code",
   "execution_count": 3,
   "metadata": {
    "cell_id": "00002-463e1319-d4a1-4ce0-9408-4aec967d9993",
    "deepnote_cell_type": "code",
    "deepnote_to_be_reexecuted": false,
    "execution_millis": 1,
    "execution_start": 1634573314790,
    "source_hash": "83f36ef9",
    "tags": []
   },
   "outputs": [],
   "source": [
    "adjacency5 = {\"s\" : {\"t\": 10, \"y\": 5},\n",
    "              \"t\" : {\"x\": 1, \"y\": 2},\n",
    "              \"x\" : {\"z\": 4},\n",
    "              \"y\" : {\"t\": 3, \"x\": 9, \"z\": 2},\n",
    "              \"z\" : {\"x\": 6, \"s\": 7}\n",
    "              }\n",
    "\n",
    "g5 = Graph(adjacency5)"
   ]
  },
  {
   "cell_type": "code",
   "execution_count": 4,
   "metadata": {
    "cell_id": "00003-9d5ea013-e3d6-4feb-b042-b7855665167d",
    "deepnote_cell_type": "code",
    "deepnote_to_be_reexecuted": false,
    "execution_millis": 0,
    "execution_start": 1634573314791,
    "source_hash": "f9e6bab0",
    "tags": []
   },
   "outputs": [],
   "source": [
    "g5.dijkstra(\"s\")"
   ]
  },
  {
   "cell_type": "code",
   "execution_count": 5,
   "metadata": {
    "cell_id": "00004-90e7c63b-7594-41dc-8cae-f46c210b66bd",
    "deepnote_cell_type": "code",
    "deepnote_to_be_reexecuted": false,
    "execution_millis": 0,
    "execution_start": 1634573314792,
    "source_hash": "347cae6",
    "tags": []
   },
   "outputs": [
    {
     "name": "stdout",
     "output_type": "stream",
     "text": [
      "s\n",
      "y\n",
      "z\n"
     ]
    }
   ],
   "source": [
    "g5.print_path(\"s\", \"z\")"
   ]
  },
  {
   "cell_type": "code",
   "execution_count": 6,
   "metadata": {
    "cell_id": "00005-d84a4de8-000e-43b7-b06b-f49d883a10e8",
    "deepnote_cell_type": "code",
    "deepnote_to_be_reexecuted": false,
    "execution_millis": 1,
    "execution_start": 1634573314801,
    "source_hash": "fd41b35f",
    "tags": []
   },
   "outputs": [
    {
     "name": "stdout",
     "output_type": "stream",
     "text": [
      "s\n",
      "y\n",
      "t\n",
      "x\n"
     ]
    }
   ],
   "source": [
    "g5.print_path(\"s\", \"x\")"
   ]
  },
  {
   "cell_type": "code",
   "execution_count": 7,
   "metadata": {
    "cell_id": "00006-3f306cce-b066-4c6c-90d7-7cbadc598402",
    "deepnote_cell_type": "code",
    "deepnote_to_be_reexecuted": false,
    "execution_millis": 42027,
    "execution_start": 1634573314815,
    "source_hash": "13eb1ea2",
    "tags": []
   },
   "outputs": [],
   "source": [
    "g5.dag_shortest_paths(\"s\")"
   ]
  },
  {
   "cell_type": "code",
   "execution_count": 8,
   "metadata": {
    "cell_id": "00007-e47e9b12-a5a6-4deb-828f-f61971dac0e1",
    "deepnote_cell_type": "code",
    "deepnote_to_be_reexecuted": false,
    "execution_millis": 41997,
    "execution_start": 1634573314863,
    "source_hash": "347cae6",
    "tags": []
   },
   "outputs": [
    {
     "name": "stdout",
     "output_type": "stream",
     "text": [
      "s\n",
      "y\n",
      "z\n"
     ]
    }
   ],
   "source": [
    "g5.print_path(\"s\", \"z\")"
   ]
  },
  {
   "cell_type": "code",
   "execution_count": 9,
   "metadata": {
    "cell_id": "00008-5ebd959c-fd45-49ed-9f79-80b4cf9cf136",
    "deepnote_cell_type": "code",
    "deepnote_to_be_reexecuted": false,
    "execution_millis": 154,
    "execution_start": 1634573314864,
    "source_hash": "fc5c595a",
    "tags": []
   },
   "outputs": [
    {
     "name": "stdout",
     "output_type": "stream",
     "text": [
      "tram1.txt\n",
      "tram10.txt\n",
      "tram11.txt\n",
      "tram14.txt\n",
      "tram2.txt\n",
      "tram3.txt\n",
      "tram4.txt\n",
      "tram5.txt\n",
      "tram6.txt\n",
      "tram7.txt\n",
      "tram8.txt\n",
      "tram9.txt\n"
     ]
    },
    {
     "data": {
      "text/plain": [
       "['tram1.txt',\n",
       " 'tram10.txt',\n",
       " 'tram11.txt',\n",
       " 'tram14.txt',\n",
       " 'tram2.txt',\n",
       " 'tram3.txt',\n",
       " 'tram4.txt',\n",
       " 'tram5.txt',\n",
       " 'tram6.txt',\n",
       " 'tram7.txt',\n",
       " 'tram8.txt',\n",
       " 'tram9.txt']"
      ]
     },
     "execution_count": 9,
     "metadata": {},
     "output_type": "execute_result"
    }
   ],
   "source": [
    "import os\n",
    "\n",
    "name_list = []\n",
    "# Get .txt files\n",
    "for f_name in os.listdir('Data'):\n",
    "    if f_name.endswith('.txt'):\n",
    "        print(f_name)\n",
    "        name_list.append(f_name)\n",
    "name_list"
   ]
  },
  {
   "cell_type": "code",
   "execution_count": 10,
   "metadata": {
    "cell_id": "00009-10db550c-df5b-488c-ac7e-d55b8d332168",
    "deepnote_cell_type": "code",
    "deepnote_to_be_reexecuted": false,
    "execution_millis": 22,
    "execution_start": 1634574114334,
    "source_hash": "98871090",
    "tags": []
   },
   "outputs": [
    {
     "name": "stdout",
     "output_type": "stream",
     "text": [
      "340\n",
      "['Opaltorget, 1\\n', 'Smaragdgatan, 1\\n', 'Briljantgatan, 1\\n', 'Frölunda Torg Spårvagn, 1\\n', 'Positivgatan, 1\\n', 'Musikvägen, 1\\n', 'Nymilsgatan, 1\\n', 'Lantmilsgatan, 2\\n', 'Axel Dahlströms Torg, 1\\n', 'Marklandsgatan, 3\\n', 'Botaniska Trädgården, 2\\n', 'Linnéplatsen, 1\\n', 'Olivedalsgatan, 2\\n', 'Prinsgatan, 2\\n', 'Järntorget, 2\\n', 'Stenpiren, 3\\n', 'Brunnsparken, 2\\n', 'Centralstationen, 3\\n', 'Ullevi Norra, 2\\n', 'Svingeln, 2\\n', 'Olskrokstorget, 3\\n', 'Redbergsplatsen, 2\\n', 'Stockholmsgatan, 1\\n', 'Härlanda, 2\\n', 'Munkebäckstorget, 1\\n', 'Ättehögsgatan, 1\\n', 'Kaggeledstorget, 2\\n', 'Tingvallsvägen, 0', 'Väderilsgatan, 1\\n', 'Friskväderstorget, 1\\n', 'Önskevädersgatan, 1\\n', 'Mildvädersgatan, 1\\n', 'Vårväderstorget, 2\\n', 'Sälöfjordsgatan, 1\\n', 'Eketrägatan, 1\\n', 'Gropegårdsgatan, 1\\n', 'Rambergsvallen, 1\\n', 'Wieselgrensplatsen, 2\\n', 'Vågmästareplatsen, 1\\n', 'Hjalmar Brantingsplatsen, 1\\n', 'Frihamnen, 4\\n', 'Lilla Bommen, 1\\n', 'Brunnsparken, 2\\n', 'Kungsportsplatsen, 2\\n', 'Valand, 1\\n', 'Vasaplatsen, 2\\n', 'Kapellplatsen, 1\\n', 'Chalmers, 1\\n', 'Wavrinskys plats, 1\\n', 'Doktor Fries torg, 2\\n', 'Doktor Sydows gata, 0', 'Saltholmen, 1\\n', 'Roddföreningen, 1\\n', 'Långedrag, 1\\n', 'Hinsholmen, 2\\n', 'Käringberget, 1\\n', 'Tranered, 1\\n', 'Hagen, 2\\n', 'Nya Varvsallén, 1\\n', 'Kungssten, 2\\n', 'Sandarna, 1\\n', 'Sannaplan, 1\\n', 'Mariaplan, 1\\n', 'Godhemsgatan, 1\\n', 'Ekedal, 2\\n', 'Majvallen, 1\\n', 'Fjällgatan, 2\\n', 'Stigbergstorget, 2\\n', 'Masthuggstorget, 2\\n', 'Järntorget, 3\\n', 'Hagakyrkan, 2\\n', 'Grönsakstorget, 1\\n', 'Domkyrkan, 2\\n', 'Brunnsparken, 2\\n', 'Centralstationen, 6\\n', 'Gamlestads Torg, 1\\n', 'SKF, 2\\n', 'Bellevue, 1\\n', 'Kviberg, 1\\n', 'Beväringsgatan, 1\\n', 'Nymånegatan, 1\\n', 'Runstavsgatan, 2\\n', 'Kortedala Torg, 1\\n', 'Allhelgonakyrkan, 1\\n', 'Januarigatan, 2\\n', 'Galileis gata, 1\\n', 'Teleskopgatan, 2\\n', 'Rymdtorget Spårvagn, 1\\n', 'Komettorget, 0', 'Wieselgrensplatsen, 1\\n', 'Vågmästareplatsen, 1\\n', 'Hjalmar Brantingsplatsen, 1\\n', 'Frihamnen, 4\\n', 'Nordstan, 1\\n', 'Centralstationen, 6\\n', 'Gamlestads Torg, 1\\n', 'SKF, 2\\n', 'Bellevue, 1\\n', 'Kviberg, 1\\n', 'Beväringsgatan, 1\\n', 'Nymånegatan, 0', 'Axel Dahlströms Torg, 1\\n', 'Marklandsgatan, 3\\n', 'Botaniska Trädgården, 2\\n', 'Linnéplatsen, 1\\n', 'Olivedalsgatan, 2 \\n', 'Seminariegatan, 1\\n', 'Brunnsgatan, 1\\n', 'Handelshögskolan, 2 \\n', 'Vasa Viktoriagatan, 1\\n', 'Vasaplatsen, 1\\n', 'Grönsakstorget, 1 \\n', 'Domkyrkan, 2\\n', 'Brunnsparken, 2\\n', 'Centralstationen, 3\\n', 'Ullevi Södra, 2 \\n', 'Scandinavium, 1\\n', 'Korsvägen, 2\\n', 'Liseberg Södra, 1\\n', 'Almedal, 1\\n', 'Elisedal, 2\\n', 'Varbergsgatan, 1 \\n', 'Lana, 1\\n', 'Krokslätts torg, 1\\n', 'Krokslätts Fabriker, 2\\n', 'Lackarebäck, 1\\n', 'Mölndals sjukhus, 2\\n', 'Mölndals Innerstad, 0', 'Marklandsgatan, 1\\n', 'Bokekullsgatan, 1\\n', 'Högsbogatan, 1\\n', 'Klintens Väg, 1\\n', 'Godhemsgatan, 2 \\n', 'Mariaplan, 1\\n', 'Ostindiegatan, 1\\n', 'Vagnhallen Majorna, 1\\n', 'Jaegerdorffsplatsen, 1\\n', 'Chapmans Torg, 2\\n', 'Kaptensgatan, 2\\n', 'Stigbergstorget, 2\\n', 'Masthuggstorget, 2\\n', 'Järntorget, 3\\n', 'Hagakyrkan, 2\\n', 'Vasa Viktoriagatan, 3\\n', 'Vasaplatsen, 1\\n', 'Valand, 2\\n', 'Kungsportsplatsen, 2\\n', 'Brunnsparken, 2\\n', 'Centralstationen, 3\\n', 'Ullevi Norra, 2\\n', 'Svingeln, 2\\n', 'Olskrokstorget, 1\\n', 'Redbergsplatsen, 1\\n', 'Stockholmsgatan, 1\\n', 'Härlanda, 2\\n', 'Solrosgatan, 1\\n', 'Sanatoriegatan, 1\\n', 'Virginsgatan, 0', 'Mölndals Innerstad, 1\\n', 'Mölndals sjukhus, 2\\n', 'Lackarebäck, 1\\n', 'Krokslätts fabriker, 1\\n', 'Krokslätts torg, 1\\n', 'Lana, 1\\n', 'Varbergsgatan, 1\\n', 'Elisedal, 1\\n', 'Almedal, 2\\n', 'Liseberg Södra, 2\\n', 'Korsvägen, 1\\n', 'Berzeliigatan, 2\\n', 'Valand, 2\\n', 'Kungsportsplatsen, 2\\n', 'Brunnsparken, 2\\n', 'Centralstationen, 6\\n', 'Gamlestads Torg, 6\\n', 'Hjällbo, 3\\n', 'Hammarkullen, 1\\n', 'Storås, 3\\n', 'Angered centrum, 0', 'Östra sjukhuset, 1\\n', 'Tingvallsvägen, 1\\n', 'Kaggeledstorget, 1\\n', 'Ättehögsgatan, 1\\n', 'Munkebäckstorget, 1\\n', 'Solrosgatan, 1\\n', 'Sanatoriegatan, 1\\n', 'Virginsgatan, 2\\n', 'Welandergatan, 1\\n', 'Töpelsgatan, 1\\n', 'Bögatan, 1\\n', 'Ekmanska, 1\\n', 'Bäckeliden, 1\\n', 'Sankt Sigfrids Plan, 1\\n', 'Liseberg Station, 2\\n', 'Korsvägen, 1\\n', 'Berzeliigatan, 2\\n', 'Valand, 2\\n', 'Kungsportsplatsen, 2\\n', 'Brunnsparken, 1\\n', 'Lilla Bommen, 3\\n', 'Frihamnen, 1\\n', 'Hjalmar Brantingsplatsen, 1\\n', 'Vågmästareplatsen, 1\\n', 'Wieselgrensplatsen, 1\\n', 'Rambergsvallen, 2\\n', 'Gropegårdsgatan, 1\\n', 'Eketrägatan, 2\\n', 'Sälöfjordsgatan, 1\\n', 'Vårväderstorget, 1\\n', 'Mildvädersgatan, 1\\n', 'Önskevädersgatan, 1\\n', 'Friskväderstorget, 1\\n', 'Väderilsgatan, 2\\n', 'Temperaturgatan, 1\\n', 'Varmfrontsgatan, 0', 'Varmfrontsgatan, 1\\n', 'Temperaturgatan, 2\\n', 'Väderilsgatan, 1\\n', 'Friskväderstorget, 1\\n', 'Önskevädersgatan, 1\\n', 'Mildvädersgatan, 1\\n', 'Vårväderstorget, 1\\n', 'Sälöfjordsgatan, 2\\n', 'Eketrägatan, 1\\n', 'Gropegårdsgatan, 1\\n', 'Rambergsvallen, 1\\n', 'Wieselgrensplatsen, 2\\n', 'Vågmästareplatsen, 1\\n', 'Hjalmar Brantingsplatsen, 1\\n', 'Frihamnen, 4\\n', 'Nordstan, 2\\n', 'Brunnsparken, 2\\n', 'Domkyrkan, 1\\n', 'Grönsakstorget, 2\\n', 'Hagakyrkan, 3\\n', 'Järntorget, 1\\n', 'Prinsgatan, 2\\n', 'Olivedalsgatan, 1\\n', 'Linnéplatsen, 3\\n', 'Sahlgrenska Huvudentré, 1\\n', 'Medicinaregatan, 1\\n', 'Wavrinskys Plats, 1\\n', 'Chalmers, 4\\n', 'Korsvägen, 1\\n', 'Scandinavium, 2\\n', 'Ullevi Södra, 2\\n', 'Ullevi Norra, 2\\n', 'Svingeln, 2\\n', 'Olskrokstorget, 1\\n', 'Redbergsplatsen, 2\\n', 'Ejdergatan, 2\\n', 'Gamlestads Torg, 1\\n', 'SKF, 2\\n', 'Bellevue, 2\\n', 'Kviberg, 1\\n', 'Beväringsgatan, 1\\n', 'Nymånegatan, 1\\n', 'Runstavsgatan, 2\\n', 'Kortedala Torg, 1\\n', 'Allhelgonakyrkan, 1\\n', 'Aprilgatan, 0', 'Opaltorget, 1\\n', 'Smaragdgatan, 1\\n', 'Briljantgatan, 1\\n', 'Frölunda Torg Spårvagn, 1\\n', 'Positivgatan, 1\\n', 'Musikvägen, 1\\n', 'Nymilsgatan, 1\\n', 'Lantmilsgatan, 2\\n', 'Axel Dahlströms torg, 1\\n', 'Marklandsgatan, 3\\n', 'Botaniska trädgården, 3\\n', 'Sahlgrenska huvudentré, 1\\n', 'Medicinaregatan, 1\\n', 'Wavrinskys plats, 1\\n', 'Chalmers, 1\\n', 'Kapellplatsen, 3\\n', 'Vasaplatsen, 1\\n', 'Valand, 2\\n', 'Kungsportsplatsen, 2\\n', 'Brunnsparken, 2\\n', 'Centralstationen, 6\\n', 'Gamlestads Torg, 1\\n', 'SKF, 2\\n', 'Bellevue, 1\\n', 'Kviberg, 1\\n', 'Beväringsgatan, 1\\n', 'Nymånegatan, 1\\n', 'Runstavsgatan, 2\\n', 'Kortedala Torg, 1\\n', 'Allhelgonakyrkan, 1\\n', 'Januarigatan, 2\\n', 'Galileis gata, 1\\n', 'Teleskopgatan, 2\\n', 'Rymdtorget, 1\\n', 'Komettorget, 0', 'Frölunda Torg Spårvagn, 1\\n', 'Positivgatan, 1\\n', 'Musikvägen, 1\\n', 'Nymilsgatan, 1\\n', 'Lantmilsgatan, 2\\n', 'Axel Dahlströms Torg, 1\\n', 'Marklandsgatan, 3\\n', 'Botaniska Trädgården, 3\\n', 'Sahlgrenska Huvudentré, 1\\n', 'Medicinaregatan, 1\\n', 'Wavrinskys Plats, 1\\n', 'Chalmers, 4\\n', 'Korsvägen, 1\\n', 'Scandinavium, 2\\n', 'Ullevi Södra, 2\\n', 'Ullevi Norra, 2\\n', 'Svingeln, 2\\n', 'Olskrokstorget, 1\\n', 'Redbergsplatsen, 1\\n', 'Ejdergatan, 3\\n', 'Gamlestads Torg, 4\\n', 'Hjällbo, 3\\n', 'Hammarkullen, 1\\n', 'Storås, 3\\n', 'Angered Centrum, 0', 'Kungssten, 2\\n', 'Sandarna, 1\\n', 'Sannaplan, 1\\n', 'Ostindiegatan, 1\\n', 'Vagnhallen Majorna, 1\\n', 'Jaegerdorffsplatsen, 1\\n', 'Chapmans Torg, 2\\n', 'Kaptensgatan, 2\\n', 'Stigbergstorget, 2\\n', 'Masthuggstorget, 2\\n', 'Järntorget, 2\\n', 'Stenpiren, 3\\n', 'Brunnsparken, 2\\n', 'Centralstationen, 6\\n', 'Gamlestads Torg, 6\\n', 'Hjällbo, 3\\n', 'Hammarkullen, 1\\n', 'Storås, 3\\n', 'Angered Centrum, 0']\n"
     ]
    }
   ],
   "source": [
    "i = 0\n",
    "lis = []\n",
    "files = [f for f in os.listdir('./Data/') if os.path.isfile(f)]\n",
    "\n",
    "for f_name in files:\n",
    "    with open(f_name, \"r\", encoding=\"utf-8\") as f:\n",
    "        tram_line = f.readlines()\n",
    "        lis.append(f.readlines())\n",
    "        i += 1\n",
    "        lis += tram_line\n",
    "        #print(tram_line)\n",
    "\n",
    "lis\n",
    "\n",
    "res = [ele for ele in lis if ele != []]\n",
    "print(len(res))\n",
    "print(res)"
   ]
  },
  {
   "cell_type": "code",
   "execution_count": 11,
   "metadata": {
    "cell_id": "00009-73c2d965-4eb7-457a-b76f-dd5c5ec4c5b8",
    "deepnote_cell_type": "code",
    "deepnote_to_be_reexecuted": false,
    "execution_millis": 118,
    "execution_start": 1634574115777,
    "source_hash": "687ce7c7",
    "tags": []
   },
   "outputs": [
    {
     "name": "stdout",
     "output_type": "stream",
     "text": [
      "340\n",
      "{'opaltorget': 1, 'smaragdgatan': 1, 'briljantgatan': 1, 'frölunda torg spårvagn': 1, 'positivgatan': 1, 'musikvägen': 1, 'nymilsgatan': 1, 'lantmilsgatan': 2, 'axel dahlströms torg': 1, 'marklandsgatan': 3, 'botaniska trädgården': 3, 'linnéplatsen': 3, 'olivedalsgatan': 1, 'prinsgatan': 2, 'järntorget': 2, 'stenpiren': 3, 'brunnsparken': 2, 'centralstationen': 6, 'ullevi norra': 2, 'svingeln': 2, 'olskrokstorget': 1, 'redbergsplatsen': 1, 'stockholmsgatan': 1, 'härlanda': 2, 'munkebäckstorget': 1, 'ättehögsgatan': 1, 'kaggeledstorget': 1, 'tingvallsvägen': 1, 'väderilsgatan': 1, 'friskväderstorget': 1, 'önskevädersgatan': 1, 'mildvädersgatan': 1, 'vårväderstorget': 1, 'sälöfjordsgatan': 2, 'eketrägatan': 1, 'gropegårdsgatan': 1, 'rambergsvallen': 1, 'wieselgrensplatsen': 2, 'vågmästareplatsen': 1, 'hjalmar brantingsplatsen': 1, 'frihamnen': 4, 'lilla bommen': 3, 'kungsportsplatsen': 2, 'valand': 2, 'vasaplatsen': 1, 'kapellplatsen': 3, 'chalmers': 4, 'wavrinskys plats': 1, 'doktor fries torg': 2, 'doktor sydows gata': 0, 'saltholmen': 1, 'roddföreningen': 1, 'långedrag': 1, 'hinsholmen': 2, 'käringberget': 1, 'tranered': 1, 'hagen': 2, 'nya varvsallén': 1, 'kungssten': 2, 'sandarna': 1, 'sannaplan': 1, 'mariaplan': 1, 'godhemsgatan': 2, 'ekedal': 2, 'majvallen': 1, 'fjällgatan': 2, 'stigbergstorget': 2, 'masthuggstorget': 2, 'hagakyrkan': 3, 'grönsakstorget': 2, 'domkyrkan': 1, 'gamlestads torg': 6, 'skf': 2, 'bellevue': 1, 'kviberg': 1, 'beväringsgatan': 1, 'nymånegatan': 1, 'runstavsgatan': 2, 'kortedala torg': 1, 'allhelgonakyrkan': 1, 'januarigatan': 2, 'galileis gata': 1, 'teleskopgatan': 2, 'rymdtorget spårvagn': 1, 'komettorget': 0, 'nordstan': 2, 'seminariegatan': 1, 'brunnsgatan': 1, 'handelshögskolan': 2, 'vasa viktoriagatan': 3, 'ullevi södra': 2, 'scandinavium': 2, 'korsvägen': 1, 'liseberg södra': 2, 'almedal': 2, 'elisedal': 1, 'varbergsgatan': 1, 'lana': 1, 'krokslätts torg': 1, 'krokslätts fabriker': 1, 'lackarebäck': 1, 'mölndals sjukhus': 2, 'mölndals innerstad': 1, 'bokekullsgatan': 1, 'högsbogatan': 1, 'klintens väg': 1, 'ostindiegatan': 1, 'vagnhallen majorna': 1, 'jaegerdorffsplatsen': 1, 'chapmans torg': 2, 'kaptensgatan': 2, 'solrosgatan': 1, 'sanatoriegatan': 1, 'virginsgatan': 2, 'berzeliigatan': 2, 'hjällbo': 3, 'hammarkullen': 1, 'storås': 3, 'angered centrum': 0, 'östra sjukhuset': 1, 'welandergatan': 1, 'töpelsgatan': 1, 'bögatan': 1, 'ekmanska': 1, 'bäckeliden': 1, 'sankt sigfrids plan': 1, 'liseberg station': 2, 'temperaturgatan': 2, 'varmfrontsgatan': 1, 'sahlgrenska huvudentré': 1, 'medicinaregatan': 1, 'ejdergatan': 3, 'aprilgatan': 0, 'rymdtorget': 1}\n",
      "134\n"
     ]
    }
   ],
   "source": [
    "ress = res\n",
    "print(len(ress))\n",
    "names = []\n",
    "code = []\n",
    "tempy = dict()\n",
    "c = ''\n",
    "n = ''\n",
    "\n",
    "for i in range(len(ress)):\n",
    "    temp = str(ress[i]).lower()\n",
    "    cc = temp.strip('\\n')\n",
    "    n, c = cc.split(', ')\n",
    "    names.append(n)\n",
    "    code.append(int(c))\n",
    "\n",
    "d = dict(zip(names, code))\n",
    "print(d)\n",
    "print(len(d))\n"
   ]
  },
  {
   "cell_type": "code",
   "execution_count": 12,
   "metadata": {
    "cell_id": "00011-b1ebf789-edd1-4995-bb9e-34bb5220d35b",
    "deepnote_cell_type": "code",
    "deepnote_to_be_reexecuted": false,
    "execution_millis": 6,
    "execution_start": 1634574118268,
    "source_hash": "3d6a997e",
    "tags": []
   },
   "outputs": [
    {
     "name": "stdout",
     "output_type": "stream",
     "text": [
      "36\n"
     ]
    }
   ],
   "source": [
    "val = 3\n",
    "match = []\n",
    "\n",
    "for key, value in d.items():\n",
    "    if value >= val:\n",
    "        match.append(key)\n",
    "    else:\n",
    "        pass\n",
    "\n",
    "count = 0\n",
    "for i in range(len(match)):\n",
    "    for j in range(len(names)):\n",
    "        if match[i] == names[j] and code[j] >= val:\n",
    "            #print(match[i], code[j])\n",
    "            count += 1\n",
    "        else:\n",
    "            pass\n",
    "\n",
    "print(count)"
   ]
  },
  {
   "cell_type": "code",
   "execution_count": 13,
   "metadata": {
    "cell_id": "00012-2734fa74-08f3-4e9e-848d-325747e6e061",
    "deepnote_cell_type": "code",
    "deepnote_to_be_reexecuted": false,
    "execution_millis": 16,
    "execution_start": 1634573827262,
    "source_hash": "75f6766d",
    "tags": []
   },
   "outputs": [
    {
     "name": "stdout",
     "output_type": "stream",
     "text": [
      "['opaltorget', 'smaragdgatan', 'briljantgatan', 'frölunda torg spårvagn', 'positivgatan', 'musikvägen', 'nymilsgatan', 'lantmilsgatan', 'axel dahlströms torg', 'marklandsgatan', 'botaniska trädgården', 'linnéplatsen', 'olivedalsgatan', 'prinsgatan', 'järntorget', 'stenpiren', 'brunnsparken', 'ullevi norra', 'svingeln', 'olskrokstorget', 'redbergsplatsen', 'stockholmsgatan', 'härlanda', 'munkebäckstorget', 'ättehögsgatan', 'kaggeledstorget', 'tingvallsvägen', 'väderilsgatan', 'friskväderstorget', 'önskevädersgatan', 'mildvädersgatan', 'vårväderstorget', 'sälöfjordsgatan', 'eketrägatan', 'gropegårdsgatan', 'rambergsvallen', 'wieselgrensplatsen', 'vågmästareplatsen', 'hjalmar brantingsplatsen', 'lilla bommen', 'kungsportsplatsen', 'valand', 'vasaplatsen', 'kapellplatsen', 'wavrinskys plats', 'doktor fries torg', 'doktor sydows gata', 'saltholmen', 'roddföreningen', 'långedrag', 'hinsholmen', 'käringberget', 'tranered', 'hagen', 'nya varvsallén', 'kungssten', 'sandarna', 'sannaplan', 'mariaplan', 'godhemsgatan', 'ekedal', 'majvallen', 'fjällgatan', 'stigbergstorget', 'masthuggstorget', 'hagakyrkan', 'grönsakstorget', 'domkyrkan', 'skf', 'bellevue', 'kviberg', 'beväringsgatan', 'nymånegatan', 'runstavsgatan', 'kortedala torg', 'allhelgonakyrkan', 'januarigatan', 'galileis gata', 'teleskopgatan', 'rymdtorget spårvagn', 'komettorget', 'nordstan', 'seminariegatan', 'brunnsgatan', 'handelshögskolan', 'vasa viktoriagatan', 'ullevi södra', 'scandinavium', 'korsvägen', 'liseberg södra', 'almedal', 'elisedal', 'varbergsgatan', 'lana', 'krokslätts torg', 'krokslätts fabriker', 'lackarebäck', 'mölndals sjukhus', 'mölndals innerstad', 'bokekullsgatan', 'högsbogatan', 'klintens väg', 'ostindiegatan', 'vagnhallen majorna', 'jaegerdorffsplatsen', 'chapmans torg', 'kaptensgatan', 'solrosgatan', 'sanatoriegatan', 'virginsgatan', 'berzeliigatan', 'hjällbo', 'hammarkullen', 'storås', 'angered centrum', 'östra sjukhuset', 'welandergatan', 'töpelsgatan', 'bögatan', 'ekmanska', 'bäckeliden', 'sankt sigfrids plan', 'liseberg station', 'temperaturgatan', 'varmfrontsgatan', 'sahlgrenska huvudentré', 'medicinaregatan', 'ejdergatan', 'aprilgatan', 'rymdtorget']\n",
      "opaltorget 1\n"
     ]
    },
    {
     "ename": "IndexError",
     "evalue": "list index out of range",
     "output_type": "error",
     "traceback": [
      "\u001b[1;31m---------------------------------------------------------------------------\u001b[0m",
      "\u001b[1;31mIndexError\u001b[0m                                Traceback (most recent call last)",
      "\u001b[1;32m<ipython-input-13-52380021d3fb>\u001b[0m in \u001b[0;36m<module>\u001b[1;34m\u001b[0m\n\u001b[0;32m     14\u001b[0m \u001b[1;32mfor\u001b[0m \u001b[0mi\u001b[0m \u001b[1;32min\u001b[0m \u001b[0mrange\u001b[0m\u001b[1;33m(\u001b[0m\u001b[0mlen\u001b[0m\u001b[1;33m(\u001b[0m\u001b[0ms\u001b[0m\u001b[1;33m)\u001b[0m\u001b[1;33m)\u001b[0m\u001b[1;33m:\u001b[0m\u001b[1;33m\u001b[0m\u001b[1;33m\u001b[0m\u001b[0m\n\u001b[0;32m     15\u001b[0m     \u001b[1;32mfor\u001b[0m \u001b[0mj\u001b[0m \u001b[1;32min\u001b[0m \u001b[0mrange\u001b[0m\u001b[1;33m(\u001b[0m\u001b[0mlen\u001b[0m\u001b[1;33m(\u001b[0m\u001b[0mnames\u001b[0m\u001b[1;33m)\u001b[0m\u001b[1;33m)\u001b[0m\u001b[1;33m:\u001b[0m\u001b[1;33m\u001b[0m\u001b[1;33m\u001b[0m\u001b[0m\n\u001b[1;32m---> 16\u001b[1;33m         \u001b[1;32mif\u001b[0m \u001b[0ms\u001b[0m\u001b[1;33m[\u001b[0m\u001b[0mi\u001b[0m\u001b[1;33m]\u001b[0m \u001b[1;33m==\u001b[0m \u001b[0ms\u001b[0m\u001b[1;33m[\u001b[0m\u001b[0mj\u001b[0m\u001b[1;33m]\u001b[0m \u001b[1;32mand\u001b[0m \u001b[0mcode\u001b[0m\u001b[1;33m[\u001b[0m\u001b[0mj\u001b[0m\u001b[1;33m]\u001b[0m \u001b[1;33m<=\u001b[0m \u001b[0mvalle\u001b[0m\u001b[1;33m:\u001b[0m\u001b[1;33m\u001b[0m\u001b[1;33m\u001b[0m\u001b[0m\n\u001b[0m\u001b[0;32m     17\u001b[0m             \u001b[0mprint\u001b[0m\u001b[1;33m(\u001b[0m\u001b[0ms\u001b[0m\u001b[1;33m[\u001b[0m\u001b[0mi\u001b[0m\u001b[1;33m]\u001b[0m\u001b[1;33m,\u001b[0m \u001b[0mcode\u001b[0m\u001b[1;33m[\u001b[0m\u001b[0mj\u001b[0m\u001b[1;33m]\u001b[0m\u001b[1;33m)\u001b[0m\u001b[1;33m\u001b[0m\u001b[1;33m\u001b[0m\u001b[0m\n\u001b[0;32m     18\u001b[0m             \u001b[0mcount\u001b[0m \u001b[1;33m+=\u001b[0m \u001b[1;36m1\u001b[0m\u001b[1;33m\u001b[0m\u001b[1;33m\u001b[0m\u001b[0m\n",
      "\u001b[1;31mIndexError\u001b[0m: list index out of range"
     ]
    }
   ],
   "source": [
    "valle = 1\n",
    "s = []\n",
    "\n",
    "for key, value in d.items():\n",
    "    if value <= val:\n",
    "        s.append(key)\n",
    "    else:\n",
    "        pass\n",
    "\n",
    "print(s)\n",
    "\n",
    "count = 0\n",
    "temp = []\n",
    "for i in range(len(s)):\n",
    "    for j in range(len(names)):\n",
    "        if s[i] == s[j] and code[j] <= valle:\n",
    "            print(s[i], code[j])\n",
    "            count += 1\n",
    "        else:\n",
    "            pass\n",
    "\n",
    "print(count)\n",
    "\n"
   ]
  },
  {
   "cell_type": "code",
   "execution_count": null,
   "metadata": {
    "cell_id": "00010-4a7d5649-08f6-41e3-ab6a-801e7de055de",
    "deepnote_cell_type": "code",
    "deepnote_to_be_reexecuted": true,
    "execution_millis": 3,
    "execution_start": 1634573232820,
    "source_hash": "1b95e3c7",
    "tags": []
   },
   "outputs": [
    {
     "name": "stdout",
     "output_type": "stream",
     "text": [
      "3\n"
     ]
    },
    {
     "data": {
      "text/plain": [
       "'\\nl is the original list\\nd is one of the dictionaries in the list\\nt is one of the tuples created from a dictionary\\n'"
      ]
     },
     "execution_count": 14,
     "metadata": {},
     "output_type": "execute_result"
    }
   ],
   "source": [
    "val = 1\n",
    "match = []\n",
    "\n",
    "for key, value in d.items():\n",
    "    if value >= val:\n",
    "        match.append(key)\n",
    "    else:\n",
    "        pass\n",
    "\n",
    "count = 0\n",
    "for i in range(len(match)):\n",
    "    for j in range(len(names)):\n",
    "        if match[i] == names[j] and code[j] < val:\n",
    "            #print(match[i], code[j])\n",
    "            count += 1\n",
    "        else:\n",
    "            pass\n",
    "\n",
    "print(count)\n",
    "\n",
    "\n",
    "\"\"\"\n",
    "l is the original list\n",
    "d is one of the dictionaries in the list\n",
    "t is one of the tuples created from a dictionary\n",
    "\"\"\""
   ]
  },
  {
   "cell_type": "code",
   "execution_count": null,
   "metadata": {
    "cell_id": "00009-5c180909-49e9-41df-9645-a404020b5903",
    "deepnote_cell_type": "code",
    "deepnote_to_be_reexecuted": true,
    "execution_millis": 1,
    "execution_start": 1634573232820,
    "source_hash": "b623e53d",
    "tags": []
   },
   "outputs": [],
   "source": []
  },
  {
   "cell_type": "code",
   "execution_count": null,
   "metadata": {
    "cell_id": "00010-c53bfa2e-cccd-4dbe-8dd6-4352ec1c8015",
    "deepnote_cell_type": "code",
    "deepnote_to_be_reexecuted": true,
    "execution_millis": 46,
    "execution_start": 1634573232821,
    "source_hash": "b623e53d",
    "tags": []
   },
   "outputs": [],
   "source": []
  },
  {
   "cell_type": "code",
   "execution_count": null,
   "metadata": {
    "cell_id": "00013-f09140f0-e93b-4739-a50d-8099aab49a26",
    "deepnote_cell_type": "code",
    "deepnote_to_be_reexecuted": true,
    "execution_millis": 0,
    "execution_start": 1634573232868,
    "source_hash": "b623e53d",
    "tags": []
   },
   "outputs": [],
   "source": []
  },
  {
   "cell_type": "markdown",
   "metadata": {
    "created_in_deepnote_cell": true,
    "deepnote_cell_type": "markdown",
    "tags": []
   },
   "source": [
    "<a style='text-decoration:none;line-height:16px;display:flex;color:#5B5B62;padding:10px;justify-content:end;' href='https://deepnote.com?utm_source=created-in-deepnote-cell&projectId=ba858619-a3b2-4571-95df-e86349b28d8b' target=\"_blank\">\n",
    "<img alt='Created in deepnote.com' style='display:inline;max-height:16px;margin:0px;margin-right:7.5px;' src='data:image/svg+xml;base64,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' > </img>\n",
    "Created in <span style='font-weight:600;margin-left:4px;'>Deepnote</span></a>"
   ]
  }
 ],
 "metadata": {
  "deepnote": {
   "is_reactive": false
  },
  "deepnote_execution_queue": [],
  "deepnote_notebook_id": "d62701a1-8f11-4f20-be28-1ebec33d44c9",
  "kernelspec": {
   "display_name": "Python 3",
   "language": "python",
   "name": "python3"
  },
  "language_info": {
   "codemirror_mode": {
    "name": "ipython",
    "version": 3
   },
   "file_extension": ".py",
   "mimetype": "text/x-python",
   "name": "python",
   "nbconvert_exporter": "python",
   "pygments_lexer": "ipython3",
   "version": "3.9.2"
  }
 },
 "nbformat": 4,
 "nbformat_minor": 2
}
