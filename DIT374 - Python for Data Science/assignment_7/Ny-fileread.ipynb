{
 "cells": [
  {
   "cell_type": "code",
   "execution_count": 1,
   "metadata": {},
   "outputs": [],
   "source": [
    "import math"
   ]
  },
  {
   "cell_type": "code",
   "execution_count": 26,
   "metadata": {},
   "outputs": [],
   "source": [
    "class Graph:\n",
    "    def __init__(self, gdict = {}):\n",
    "        self.gdict = gdict\n",
    "        self.colour = {}\n",
    "        self.distance = {}\n",
    "        self.predecessor = {}\n",
    "        self.finish = {}     \n",
    "        \n",
    "    def get_vertices(self):\n",
    "        return list(self.gdict.keys())\n",
    "    \n",
    "    def get_edges(self):\n",
    "        edgename = []\n",
    "        for vertex in self.gdict:\n",
    "            print(vertex)\n",
    "            for next_vertex in self.gdict[vertex]:\n",
    "                if {next_vertex, vertex} not in edgename:\n",
    "                    edgename.append({vertex, next_vertex})\n",
    "        return edgename    \n",
    "    \n",
    "    def add_vertex(self, vertex):\n",
    "        if vertex not in self.gdict:\n",
    "            self.gdict[vertex] = []\n",
    "            \n",
    "    def add_edge(self, edge):\n",
    "        edge = set(edge)\n",
    "        (vertex1, vertex2) = tuple(edge)\n",
    "        if vertex1 in self.gdict:\n",
    "            self.gdict[vertex1].append(vertex2)\n",
    "        else:\n",
    "            self.gdict[vertex1] = [vertex2]\n",
    "            \n",
    "    def BFS(self, s):\n",
    "        vertices = self.get_vertices()\n",
    "        vertices.remove(s)\n",
    "        for u in vertices:\n",
    "            self.colour[u] = \"White\"\n",
    "            self.distance[u] = 0\n",
    "            self.predecessor[u] = None\n",
    "        self.colour[s] = \"Gray\"\n",
    "        self.distance[s] = 0\n",
    "        self.predecessor[s] = None\n",
    "        queue = []\n",
    "        queue.append(s)\n",
    "        while queue:\n",
    "            u = queue.pop(0)\n",
    "            #print(self.gdict[u])\n",
    "            for v in self.gdict[u]:\n",
    "                if self.colour[v] == \"White\":\n",
    "                    self.colour[v] = \"Gray\"\n",
    "                    self.distance[v] = self.distance[u] + 1\n",
    "                    self.predecessor[v] = u\n",
    "                    queue.append(v)\n",
    "            self.colour[u] = \"Black\"    \n",
    "            \n",
    "    def print_path(self, s, v):\n",
    "        if v in self.gdict.keys():\n",
    "            if v == s:\n",
    "                print(s)\n",
    "            elif self.predecessor[v] == None:\n",
    "                print(\"There is no path from\", s, \"to\", v, \"exists.\")\n",
    "            else:\n",
    "                self.print_path(s, self.predecessor[v])\n",
    "                print(v)\n",
    "        else: \n",
    "            print(\"Node with key\", v, \"is not in the graph.\")       \n",
    "            \n",
    "    def DFS(self):\n",
    "        for u in self.gdict:\n",
    "            self.colour[u] = \"White\"\n",
    "            self.predecessor[u] = None\n",
    "            self.distance[u] = 0    # Added to initialise self.distance\n",
    "            self.finish[u] = -1     # Added to initialise self.finish\n",
    "        global time \n",
    "        time = 0\n",
    "        for u in self.gdict:\n",
    "            if self.colour[u] == \"White\":\n",
    "                self._DFS_visit(u)        \n",
    "                \n",
    "    def _DFS_visit(self, u):\n",
    "        global time\n",
    "        time += 1      # white vertex u has just been discovered\n",
    "        self.distance[u] = time\n",
    "        self.colour[u] = \"Gray\"\n",
    "        for v in self.gdict[u]:  # explore edge(u,v)\n",
    "            if self.colour[v] == \"White\":\n",
    "                self.predecessor[v] = u\n",
    "                self._DFS_visit(v)\n",
    "        self.colour[u] = \"Black\"   # blacken u; it is finished\n",
    "        time += 1\n",
    "        self.finish[u] = time\n",
    "\n",
    "    # ----- New functionality -----\n",
    "\n",
    "    def initialise_single_source(self, s):\n",
    "        for v in self.get_vertices():\n",
    "            self.distance[v] = math.inf\n",
    "            self.predecessor[v] = None       \n",
    "        self.distance[s] = 0\n",
    "\n",
    "    def get_weight(self, u, v):\n",
    "        return self.gdict[u][v]\n",
    "\n",
    "    def relax(self, u, v):\n",
    "        if self.distance[v] > self.distance[u] + self.get_weight(u, v):\n",
    "            self.distance[v] = self.distance[u] + self.get_weight(u, v)\n",
    "            self.predecessor[v] = u\n",
    "\n",
    "    # DAG\n",
    "    def dag_shortest_paths(self, s):\n",
    "        self.topological_sort()  # O(V+E)\n",
    "        self.initialise_single_source(s)  # O(V)\n",
    "        for u in self.finish.keys():      # O(V+E)\n",
    "            for v in self.gdict[u].keys():\n",
    "                self.relax(u, v)\n",
    "        \n",
    "    \n",
    "    def extract_min(self, candidates):\n",
    "        min = 999999\n",
    "        for cu in candidates:\n",
    "            if self.distance[cu] < min:\n",
    "                min = self.distance[cu]\n",
    "                u = cu  \n",
    "        return u\n",
    "    \n",
    "    def bellman_ford(self, s):\n",
    "        self.initialise_single_source(s)       # O(V)\n",
    "        for i in range(1, len(self.get_vertices())):    # O(E)\n",
    "            for (u, v) in self.get_edges():\n",
    "                self.relax(u, v)\n",
    "        for (u,v) in self.get_edges():    # O(E)\n",
    "            if self.distance[v] > self.distance[u] + self.get_weight(u, v):\n",
    "                return False\n",
    "        return True\n",
    "\n",
    "    def topological_sort(self):\n",
    "        self.DFS()\n",
    "        #return self.finish()\n",
    "          \n",
    "    def dijkstra(self, s):\n",
    "        self.initialise_single_source(s)\n",
    "        dist_far = [] # distance\n",
    "        Q = self.get_vertices() # All verticies\n",
    "        while Q:\n",
    "            u = self.extract_min(Q)\n",
    "            Q.remove(u)\n",
    "            dist_far = dist_far + [u] \n",
    "            for v in self.gdict[u]:\n",
    "                self.relax(u, v)"
   ]
  },
  {
   "cell_type": "code",
   "execution_count": 27,
   "metadata": {},
   "outputs": [
    {
     "data": {
      "text/plain": [
       "['tram1.txt',\n",
       " 'tram10.txt',\n",
       " 'tram11.txt',\n",
       " 'tram14.txt',\n",
       " 'tram2.txt',\n",
       " 'tram3.txt',\n",
       " 'tram4.txt',\n",
       " 'tram5.txt',\n",
       " 'tram6.txt',\n",
       " 'tram7.txt',\n",
       " 'tram8.txt',\n",
       " 'tram9.txt']"
      ]
     },
     "execution_count": 27,
     "metadata": {},
     "output_type": "execute_result"
    }
   ],
   "source": [
    "import os\n",
    "\n",
    "name_list = []\n",
    "# Get .txt files\n",
    "for f_name in os.listdir('Data'):\n",
    "    if f_name.endswith('.txt'):\n",
    "        #print(f_name)\n",
    "        name_list.append(f_name)\n",
    "name_list"
   ]
  },
  {
   "cell_type": "code",
   "execution_count": 28,
   "metadata": {},
   "outputs": [
    {
     "name": "stdout",
     "output_type": "stream",
     "text": [
      "{'Opaltorget': 1, 'Smaragdgatan': 1, 'Briljantgatan': 1, 'Frölunda Torg Spårvagn': 1, 'Positivgatan': 1, 'Musikvägen': 1, 'Nymilsgatan': 1, 'Lantmilsgatan': 2, 'Axel Dahlströms Torg': 1, 'Marklandsgatan': 3, 'Botaniska Trädgården': 3, 'Linnéplatsen': 3, 'Olivedalsgatan': 1, 'Prinsgatan': 2, 'Järntorget': 2, 'Stenpiren': 3, 'Brunnsparken': 2, 'Centralstationen': 6, 'Ullevi Norra': 2, 'Svingeln': 2, 'Olskrokstorget': 1, 'Redbergsplatsen': 1, 'Stockholmsgatan': 1, 'Härlanda': 2, 'Munkebäckstorget': 1, 'Ättehögsgatan': 1, 'Kaggeledstorget': 1, 'Tingvallsvägen': 1, 'Väderilsgatan': 1, 'Friskväderstorget': 1, 'Önskevädersgatan': 1, 'Mildvädersgatan': 1, 'Vårväderstorget': 1, 'Sälöfjordsgatan': 2, 'Eketrägatan': 1, 'Gropegårdsgatan': 1, 'Rambergsvallen': 1, 'Wieselgrensplatsen': 2, 'Vågmästareplatsen': 1, 'Hjalmar Brantingsplatsen': 1, 'Frihamnen': 4, 'Lilla Bommen': 3, 'Kungsportsplatsen': 2, 'Valand': 2, 'Vasaplatsen': 1, 'Kapellplatsen': 3, 'Chalmers': 4, 'Wavrinskys plats': 1, 'Doktor Fries torg': 2, 'Doktor Sydows gata': 0, 'Saltholmen': 1, 'Roddföreningen': 1, 'Långedrag': 1, 'Hinsholmen': 2, 'Käringberget': 1, 'Tranered': 1, 'Hagen': 2, 'Nya Varvsallén': 1, 'Kungssten': 2, 'Sandarna': 1, 'Sannaplan': 1, 'Mariaplan': 1, 'Godhemsgatan': 2, 'Ekedal': 2, 'Majvallen': 1, 'Fjällgatan': 2, 'Stigbergstorget': 2, 'Masthuggstorget': 2, 'Hagakyrkan': 3, 'Grönsakstorget': 2, 'Domkyrkan': 1, 'Gamlestads Torg': 6, 'SKF': 2, 'Bellevue': 1, 'Kviberg': 1, 'Beväringsgatan': 1, 'Nymånegatan': 1, 'Runstavsgatan': 2, 'Kortedala Torg': 1, 'Allhelgonakyrkan': 1, 'Januarigatan': 2, 'Galileis gata': 1, 'Teleskopgatan': 2, 'Rymdtorget Spårvagn': 1, 'Komettorget': 0, 'Nordstan': 2, 'Seminariegatan': 1, 'Brunnsgatan': 1, 'Handelshögskolan': 2, 'Vasa Viktoriagatan': 3, 'Ullevi Södra': 2, 'Scandinavium': 2, 'Korsvägen': 1, 'Liseberg Södra': 2, 'Almedal': 2, 'Elisedal': 1, 'Varbergsgatan': 1, 'Lana': 1, 'Krokslätts torg': 1, 'Krokslätts Fabriker': 2, 'Lackarebäck': 1, 'Mölndals sjukhus': 2, 'Mölndals Innerstad': 1, 'Bokekullsgatan': 1, 'Högsbogatan': 1, 'Klintens Väg': 1, 'Ostindiegatan': 1, 'Vagnhallen Majorna': 1, 'Jaegerdorffsplatsen': 1, 'Chapmans Torg': 2, 'Kaptensgatan': 2, 'Solrosgatan': 1, 'Sanatoriegatan': 1, 'Virginsgatan': 2, 'Krokslätts fabriker': 1, 'Berzeliigatan': 2, 'Hjällbo': 3, 'Hammarkullen': 1, 'Storås': 3, 'Angered centrum': 0, 'Östra sjukhuset': 1, 'Welandergatan': 1, 'Töpelsgatan': 1, 'Bögatan': 1, 'Ekmanska': 1, 'Bäckeliden': 1, 'Sankt Sigfrids Plan': 1, 'Liseberg Station': 2, 'Temperaturgatan': 2, 'Varmfrontsgatan': 1, 'Sahlgrenska Huvudentré': 1, 'Medicinaregatan': 1, 'Wavrinskys Plats': 1, 'Ejdergatan': 3, 'Aprilgatan': 0, 'Axel Dahlströms torg': 1, 'Botaniska trädgården': 3, 'Sahlgrenska huvudentré': 1, 'Rymdtorget': 1, 'Angered Centrum': 0}\n"
     ]
    }
   ],
   "source": [
    "d = {}\n",
    "files = [f for f in os.listdir('./Data/') if os.path.isfile(f)]\n",
    "for f_name in files:\n",
    "    with open(f_name, \"r\", encoding=\"utf-8\") as f:\n",
    "        for line in f:\n",
    "            key, value = line.strip('\\n').split(', ')\n",
    "            d[key] = int(value)\n",
    "print(d)"
   ]
  },
  {
   "cell_type": "code",
   "execution_count": 29,
   "metadata": {},
   "outputs": [
    {
     "name": "stdout",
     "output_type": "stream",
     "text": [
      "['Opaltorget', 'Smaragdgatan', 'Briljantgatan', 'Frölunda Torg Spårvagn', 'Positivgatan', 'Musikvägen', 'Nymilsgatan', 'Lantmilsgatan', 'Axel Dahlströms Torg', 'Marklandsgatan', 'Botaniska Trädgården', 'Linnéplatsen', 'Olivedalsgatan', 'Prinsgatan', 'Järntorget', 'Stenpiren', 'Brunnsparken', 'Centralstationen', 'Ullevi Norra', 'Svingeln', 'Olskrokstorget', 'Redbergsplatsen', 'Stockholmsgatan', 'Härlanda', 'Munkebäckstorget', 'Ättehögsgatan', 'Kaggeledstorget', 'Tingvallsvägen', 'Väderilsgatan', 'Friskväderstorget', 'Önskevädersgatan', 'Mildvädersgatan', 'Vårväderstorget', 'Sälöfjordsgatan', 'Eketrägatan', 'Gropegårdsgatan', 'Rambergsvallen', 'Wieselgrensplatsen', 'Vågmästareplatsen', 'Hjalmar Brantingsplatsen', 'Frihamnen', 'Lilla Bommen', 'Kungsportsplatsen', 'Valand', 'Vasaplatsen', 'Kapellplatsen', 'Chalmers', 'Wavrinskys plats', 'Doktor Fries torg', 'Doktor Sydows gata', 'Saltholmen', 'Roddföreningen', 'Långedrag', 'Hinsholmen', 'Käringberget', 'Tranered', 'Hagen', 'Nya Varvsallén', 'Kungssten', 'Sandarna', 'Sannaplan', 'Mariaplan', 'Godhemsgatan', 'Ekedal', 'Majvallen', 'Fjällgatan', 'Stigbergstorget', 'Masthuggstorget', 'Hagakyrkan', 'Grönsakstorget', 'Domkyrkan', 'Gamlestads Torg', 'SKF', 'Bellevue', 'Kviberg', 'Beväringsgatan', 'Nymånegatan', 'Runstavsgatan', 'Kortedala Torg', 'Allhelgonakyrkan', 'Januarigatan', 'Galileis gata', 'Teleskopgatan', 'Rymdtorget Spårvagn', 'Komettorget', 'Nordstan', 'Seminariegatan', 'Brunnsgatan', 'Handelshögskolan', 'Vasa Viktoriagatan', 'Ullevi Södra', 'Scandinavium', 'Korsvägen', 'Liseberg Södra', 'Almedal', 'Elisedal', 'Varbergsgatan', 'Lana', 'Krokslätts torg', 'Krokslätts Fabriker', 'Lackarebäck', 'Mölndals sjukhus', 'Mölndals Innerstad', 'Bokekullsgatan', 'Högsbogatan', 'Klintens Väg', 'Ostindiegatan', 'Vagnhallen Majorna', 'Jaegerdorffsplatsen', 'Chapmans Torg', 'Kaptensgatan', 'Solrosgatan', 'Sanatoriegatan', 'Virginsgatan', 'Krokslätts fabriker', 'Berzeliigatan', 'Hjällbo', 'Hammarkullen', 'Storås', 'Angered centrum', 'Östra sjukhuset', 'Welandergatan', 'Töpelsgatan', 'Bögatan', 'Ekmanska', 'Bäckeliden', 'Sankt Sigfrids Plan', 'Liseberg Station', 'Temperaturgatan', 'Varmfrontsgatan', 'Sahlgrenska Huvudentré', 'Medicinaregatan', 'Wavrinskys Plats', 'Ejdergatan', 'Aprilgatan', 'Axel Dahlströms torg', 'Botaniska trädgården', 'Sahlgrenska huvudentré', 'Rymdtorget', 'Angered Centrum']\n"
     ]
    }
   ],
   "source": [
    "pro = Graph(d)\n",
    "alpha = pro.get_vertices()\n",
    "##xx = pro.get_edges()\n",
    "print(alpha)\n",
    "#print(len(xx))\n"
   ]
  },
  {
   "cell_type": "code",
   "execution_count": 30,
   "metadata": {},
   "outputs": [
    {
     "name": "stdout",
     "output_type": "stream",
     "text": [
      "Opaltorget\n"
     ]
    },
    {
     "ename": "TypeError",
     "evalue": "'int' object is not iterable",
     "output_type": "error",
     "traceback": [
      "\u001b[1;31m---------------------------------------------------------------------------\u001b[0m",
      "\u001b[1;31mTypeError\u001b[0m                                 Traceback (most recent call last)",
      "\u001b[1;32m<ipython-input-30-1be7ee6cd383>\u001b[0m in \u001b[0;36m<module>\u001b[1;34m\u001b[0m\n\u001b[1;32m----> 1\u001b[1;33m \u001b[0mbeta\u001b[0m \u001b[1;33m=\u001b[0m \u001b[0mpro\u001b[0m\u001b[1;33m.\u001b[0m\u001b[0mget_edges\u001b[0m\u001b[1;33m(\u001b[0m\u001b[1;33m)\u001b[0m\u001b[1;33m\u001b[0m\u001b[1;33m\u001b[0m\u001b[0m\n\u001b[0m\u001b[0;32m      2\u001b[0m \u001b[1;32mfor\u001b[0m \u001b[0mi\u001b[0m \u001b[1;32min\u001b[0m \u001b[0mrange\u001b[0m\u001b[1;33m(\u001b[0m\u001b[0mlen\u001b[0m\u001b[1;33m(\u001b[0m\u001b[0mbeta\u001b[0m\u001b[1;33m)\u001b[0m\u001b[1;33m)\u001b[0m\u001b[1;33m:\u001b[0m\u001b[1;33m\u001b[0m\u001b[1;33m\u001b[0m\u001b[0m\n\u001b[0;32m      3\u001b[0m     \u001b[0mprint\u001b[0m\u001b[1;33m(\u001b[0m\u001b[0mbeta\u001b[0m\u001b[1;33m[\u001b[0m\u001b[0mi\u001b[0m\u001b[1;33m]\u001b[0m\u001b[1;33m)\u001b[0m\u001b[1;33m\u001b[0m\u001b[1;33m\u001b[0m\u001b[0m\n",
      "\u001b[1;32m<ipython-input-26-c0af3593539f>\u001b[0m in \u001b[0;36mget_edges\u001b[1;34m(self)\u001b[0m\n\u001b[0;32m     14\u001b[0m         \u001b[1;32mfor\u001b[0m \u001b[0mvertex\u001b[0m \u001b[1;32min\u001b[0m \u001b[0mself\u001b[0m\u001b[1;33m.\u001b[0m\u001b[0mgdict\u001b[0m\u001b[1;33m:\u001b[0m\u001b[1;33m\u001b[0m\u001b[1;33m\u001b[0m\u001b[0m\n\u001b[0;32m     15\u001b[0m             \u001b[0mprint\u001b[0m\u001b[1;33m(\u001b[0m\u001b[0mvertex\u001b[0m\u001b[1;33m)\u001b[0m\u001b[1;33m\u001b[0m\u001b[1;33m\u001b[0m\u001b[0m\n\u001b[1;32m---> 16\u001b[1;33m             \u001b[1;32mfor\u001b[0m \u001b[0mnext_vertex\u001b[0m \u001b[1;32min\u001b[0m \u001b[0mself\u001b[0m\u001b[1;33m.\u001b[0m\u001b[0mgdict\u001b[0m\u001b[1;33m[\u001b[0m\u001b[0mvertex\u001b[0m\u001b[1;33m]\u001b[0m\u001b[1;33m:\u001b[0m\u001b[1;33m\u001b[0m\u001b[1;33m\u001b[0m\u001b[0m\n\u001b[0m\u001b[0;32m     17\u001b[0m                 \u001b[1;32mif\u001b[0m \u001b[1;33m{\u001b[0m\u001b[0mnext_vertex\u001b[0m\u001b[1;33m,\u001b[0m \u001b[0mvertex\u001b[0m\u001b[1;33m}\u001b[0m \u001b[1;32mnot\u001b[0m \u001b[1;32min\u001b[0m \u001b[0medgename\u001b[0m\u001b[1;33m:\u001b[0m\u001b[1;33m\u001b[0m\u001b[1;33m\u001b[0m\u001b[0m\n\u001b[0;32m     18\u001b[0m                     \u001b[0medgename\u001b[0m\u001b[1;33m.\u001b[0m\u001b[0mappend\u001b[0m\u001b[1;33m(\u001b[0m\u001b[1;33m{\u001b[0m\u001b[0mvertex\u001b[0m\u001b[1;33m,\u001b[0m \u001b[0mnext_vertex\u001b[0m\u001b[1;33m}\u001b[0m\u001b[1;33m)\u001b[0m\u001b[1;33m\u001b[0m\u001b[1;33m\u001b[0m\u001b[0m\n",
      "\u001b[1;31mTypeError\u001b[0m: 'int' object is not iterable"
     ]
    }
   ],
   "source": [
    "beta = pro.get_edges()\n",
    "for i in range(len(beta)):\n",
    "    print(beta[i])\n"
   ]
  },
  {
   "cell_type": "code",
   "execution_count": 31,
   "metadata": {},
   "outputs": [
    {
     "name": "stdout",
     "output_type": "stream",
     "text": [
      "Node with key briljantgatan is not in the graph.\n"
     ]
    }
   ],
   "source": [
    "pro.print_path(\"opaltorget\", \"briljantgatan\")"
   ]
  },
  {
   "cell_type": "code",
   "execution_count": null,
   "metadata": {},
   "outputs": [],
   "source": []
  },
  {
   "cell_type": "code",
   "execution_count": null,
   "metadata": {},
   "outputs": [],
   "source": []
  }
 ],
 "metadata": {
  "kernelspec": {
   "display_name": "Python 3",
   "language": "python",
   "name": "python3"
  },
  "language_info": {
   "codemirror_mode": {
    "name": "ipython",
    "version": 3
   },
   "file_extension": ".py",
   "mimetype": "text/x-python",
   "name": "python",
   "nbconvert_exporter": "python",
   "pygments_lexer": "ipython3",
   "version": "3.9.2"
  }
 },
 "nbformat": 4,
 "nbformat_minor": 4
}
