{
 "cells": [
  {
   "cell_type": "markdown",
   "metadata": {},
   "source": [
    "Your answers for question 1 and 2 are reversed, ie you interpreted them in the opposite way as they should be interpreted. \n",
    "\n",
    "For Q1 and Q2 no comments and no discussion of what the plot shows. Please add at least one sentence that interprets the plots \n",
    "\n",
    "Question 3\n",
    "- For 3a your visualization is very small and contain a lot of information, perhaps something more concise would be more interestin to a teacher. Also no interpretation or discussion of results \n",
    "- For 3b, no answer to the question was given, only a plot, please add an actual sentence. \n",
    "- For 3c your x label is wrong. With once again no discussion of what your plot says \n",
    "\n",
    "For 4, no explanation of what variables you measure and why. You choose total seconds for answering, why? Can you think of any pitfals of this method. Visualization is not particularly clear, perhaps a scatter plot would have been better. No discussion of results, or what you plot actually indicates. \n",
    "\n",
    "Q5: You didn't show the pairs of interest. The teacher was interested to see the list of pairs of students who gave the same wrong answers for at least two questions. Regarding removing duplicates, this could have done by using \"[ss, s] not in pairs\" (rather than \"p not in pairs\") in the last if statement. But, it is good that you are aware of the duplicates issue. \n",
    "\n",
    "Q6: The task asked \"Convey your thoughts by doing analysis and showing the results.\"; this was not satisfied with the answer to Q6 in the submission. The answer of Q1 has nothing to do with how long each student response to each question."
   ]
  },
  {
   "cell_type": "code",
   "execution_count": null,
   "metadata": {},
   "outputs": [],
   "source": []
  }
 ],
 "metadata": {
  "kernelspec": {
   "display_name": "Python 3",
   "language": "python",
   "name": "python3"
  },
  "language_info": {
   "codemirror_mode": {
    "name": "ipython",
    "version": 3
   },
   "file_extension": ".py",
   "mimetype": "text/x-python",
   "name": "python",
   "nbconvert_exporter": "python",
   "pygments_lexer": "ipython3",
   "version": "3.9.2"
  }
 },
 "nbformat": 4,
 "nbformat_minor": 4
}
