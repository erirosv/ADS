{
 "cells": [
  {
   "cell_type": "code",
   "execution_count": 1,
   "metadata": {},
   "outputs": [],
   "source": [
    "import pandas as pd\n",
    "import numpy as np\n",
    "import seaborn as sns\n",
    "import matplotlib.pyplot as plt"
   ]
  },
  {
   "cell_type": "code",
   "execution_count": 3,
   "metadata": {},
   "outputs": [],
   "source": [
    "df1 = pd.read_csv('Poll_Info.csv', sep='\\t')\n",
    "df2 = pd.read_csv('Poll_Report.csv', sep=';')"
   ]
  },
  {
   "cell_type": "code",
   "execution_count": 6,
   "metadata": {},
   "outputs": [],
   "source": [
    "# sticth (merge) the two csv-files together\n",
    "df_stitch = pd.merge(df1, df2, left_on='Question', right_on='Question ID')\n",
    "df_stitch.drop('Question ID', axis=1, inplace = True)\n",
    "\n",
    "# Getting the data \n",
    "df_stitch['date_time_launched']=pd.to_datetime(df_stitch['Time Launched']).dt.time\n",
    "df_stitch['date_submitted_time']=pd.to_datetime(df_stitch['Submitted Date/Time']).dt.time\n",
    "df_stitch.drop(['Time Launched','Submitted Date/Time'],axis=1,inplace=True)\n",
    "\n",
    "df_stitch['seconds_for_answering']= (pd.to_timedelta(df_stitch['date_submitted_time'].astype(str)) - \n",
    "                             pd.to_timedelta(df_stitch['date_time_launched'].astype(str))).dt.total_seconds()\n",
    "\n",
    "df_stitch.drop(['date_time_launched','date_submitted_time'],axis=1,inplace=True)\n",
    "\n",
    "df_stitch['answer_is_true'] = np.where(df_stitch['Correct Answer']==df_stitch['Student Answer'],1,0)\n",
    "df_stitch['answer_is_true'] = df_stitch['answer_is_true'].astype('object')\n",
    "\n",
    "df_stitch.rename(columns={'User Name':'s_numb'}, inplace=True)\n",
    "merge_df = df_stitch.groupby(['s_numb','User Email']).agg({'answer_is_true':'sum'}).sort_values(by='answer_is_true', ascending=True)\n",
    "\n",
    "#df_stitch[df_stitch['s_numb'] == 'Student16']\n",
    "#df_stitch[df_stitch['s_numb'] == 'Student23']"
   ]
  },
  {
   "cell_type": "code",
   "execution_count": 9,
   "metadata": {},
   "outputs": [
    {
     "data": {
      "image/png": "[encoded data removed]",
      "text/plain": [
       "<Figure size 1512x504 with 1 Axes>"
      ]
     },
     "metadata": {
      "needs_background": "light"
     },
     "output_type": "display_data"
    }
   ],
   "source": [
    "plot_order = df_stitch.groupby('s_numb')['seconds_for_answering'].mean().sort_values(ascending=True).index.values\n",
    "\n",
    "sns.catplot(data=df_stitch, x='s_numb',  y='seconds_for_answering',kind='bar',ci=None,\n",
    "            order=plot_order,height=7,aspect=3,palette=\"tab20\");\n",
    "plt.xticks(rotation=90)\n",
    "plt.show()"
   ]
  },
  {
   "cell_type": "markdown",
   "metadata": {},
   "source": []
  },
  {
   "cell_type": "code",
   "execution_count": 1,
   "metadata": {},
   "outputs": [
    {
     "ename": "NameError",
     "evalue": "name 'info_dict' is not defined",
     "output_type": "error",
     "traceback": [
      "\u001b[1;31m---------------------------------------------------------------------------\u001b[0m",
      "\u001b[1;31mNameError\u001b[0m                                 Traceback (most recent call last)",
      "\u001b[1;32m<ipython-input-1-1acb74ca8674>\u001b[0m in \u001b[0;36m<module>\u001b[1;34m\u001b[0m\n\u001b[0;32m      3\u001b[0m \u001b[0manswer_num\u001b[0m \u001b[1;33m=\u001b[0m \u001b[1;33m[\u001b[0m\u001b[1;33m]\u001b[0m\u001b[1;33m\u001b[0m\u001b[1;33m\u001b[0m\u001b[0m\n\u001b[0;32m      4\u001b[0m \u001b[1;33m\u001b[0m\u001b[0m\n\u001b[1;32m----> 5\u001b[1;33m \u001b[1;32mfor\u001b[0m \u001b[0mkey\u001b[0m\u001b[1;33m,\u001b[0m \u001b[0mvalue\u001b[0m \u001b[1;32min\u001b[0m \u001b[0minfo_dict\u001b[0m\u001b[1;33m.\u001b[0m\u001b[0mitems\u001b[0m\u001b[1;33m(\u001b[0m\u001b[1;33m)\u001b[0m\u001b[1;33m:\u001b[0m\u001b[1;33m\u001b[0m\u001b[1;33m\u001b[0m\u001b[0m\n\u001b[0m\u001b[0;32m      6\u001b[0m     \u001b[1;32mfor\u001b[0m \u001b[0mi\u001b[0m \u001b[1;32min\u001b[0m \u001b[0mrange\u001b[0m\u001b[1;33m(\u001b[0m\u001b[0mlen\u001b[0m\u001b[1;33m(\u001b[0m\u001b[0ms\u001b[0m\u001b[1;33m)\u001b[0m\u001b[1;33m)\u001b[0m\u001b[1;33m:\u001b[0m\u001b[1;33m\u001b[0m\u001b[1;33m\u001b[0m\u001b[0m\n\u001b[0;32m      7\u001b[0m         \u001b[0ma\u001b[0m\u001b[1;33m,\u001b[0m \u001b[0mb\u001b[0m \u001b[1;33m=\u001b[0m \u001b[0ms\u001b[0m\u001b[1;33m[\u001b[0m\u001b[0mi\u001b[0m\u001b[1;33m]\u001b[0m\u001b[1;33m\u001b[0m\u001b[1;33m\u001b[0m\u001b[0m\n",
      "\u001b[1;31mNameError\u001b[0m: name 'info_dict' is not defined"
     ]
    }
   ],
   "source": [
    "# sorting out all correct answers\n",
    "answer_sig = []\n",
    "answer_num = []\n",
    "\n",
    "for key, value in info_dict.items():\n",
    "    for i in range(len(s)):\n",
    "        a, b = s[i]\n",
    "        if a != key and b != value: \n",
    "            answer_sig.append(b)\n",
    "            answer_num.append(a)\n",
    "\n",
    "wrong_answers = tuple(zip(answer_num, answer_sig))"
   ]
  },
  {
   "cell_type": "code",
   "execution_count": null,
   "metadata": {},
   "outputs": [],
   "source": [
    "answer_sig = []\n",
    "answer_num = []\n",
    "\n",
    "for i in range(len(s)):\n",
    "    for key, value in info_dict.items():\n",
    "        a, b = s[i]\n",
    "        if a != key and b != value: \n",
    "            answer_sig.append(b)\n",
    "            answer_num.append(a)\n",
    "            \n",
    "wrong_answers = tuple(zip(answer_num, answer_sig))"
   ]
  },
  {
   "cell_type": "code",
   "execution_count": null,
   "metadata": {},
   "outputs": [],
   "source": [
    "ans_c = 0\n",
    "inum = []\n",
    "ll = ['A','B','C','D', 'E']\n",
    "for i in range(len(wrong_answers)):\n",
    "    a,b = wrong_answers[i]\n",
    "    for j in range(len(quest)):\n",
    "        for k in range(len(ll)):\n",
    "            if a == quest[j] and b == ll[k]:\n",
    "                ans_c += 1\n",
    "        inum.append(ans_c)\n",
    "        ans_c = 0\n",
    "#print(inum)          "
   ]
  },
  {
   "cell_type": "code",
   "execution_count": null,
   "metadata": {},
   "outputs": [],
   "source": [
    "ans_c = 0\n",
    "inum = []\n",
    "xx = {}\n",
    "for j in range(len(quest)):\n",
    "    for i in range(len(wrong_answers)):\n",
    "        a,b = wrong_answers[i]\n",
    "        if a == quest[j]:\n",
    "            inum.append(b)\n",
    "    xx = count_pair(inum)\n",
    "print(xx)\n",
    "\n",
    "def count_pair(lis):\n",
    "    from collections import Counter\n",
    "    count_dict = {i:lis.count(i) for i in lis}\n",
    "    return count_dict\n",
    "            "
   ]
  },
  {
   "cell_type": "code",
   "execution_count": null,
   "metadata": {},
   "outputs": [],
   "source": []
  },
  {
   "cell_type": "code",
   "execution_count": null,
   "metadata": {},
   "outputs": [],
   "source": []
  },
  {
   "cell_type": "code",
   "execution_count": 21,
   "metadata": {},
   "outputs": [],
   "source": [
    "li = ['Student1Student10', 'Student1Student11', \n",
    " 'Student1Student14', 'Student1Student15', \n",
    " 'Student1Student18', 'Student1Student19', \n",
    " 'Student1Student2', 'Student1Student22', \n",
    " 'Student1Student23', 'Student1Student25', \n",
    " 'Student1Student26', 'Student1Student27', \n",
    " 'Student1Student3', 'Student1Student5', \n",
    " 'Student1Student6', 'Student1Student8', \n",
    " 'Student10Student1', 'Student10Student11', \n",
    " 'Student10Student14', 'Student10Student18', \n",
    " 'Student10Student2', 'Student10Student22', \n",
    " 'Student10Student23', 'Student10Student27', \n",
    " 'Student10Student3', 'Student10Student5']"
   ]
  },
  {
   "cell_type": "code",
   "execution_count": 10,
   "metadata": {},
   "outputs": [],
   "source": [
    "S = list(set(li))"
   ]
  },
  {
   "cell_type": "code",
   "execution_count": 11,
   "metadata": {},
   "outputs": [],
   "source": [
    "mylist = list(dict.fromkeys(li))"
   ]
  },
  {
   "cell_type": "code",
   "execution_count": 12,
   "metadata": {},
   "outputs": [
    {
     "data": {
      "text/plain": [
       "['Student1Student10',\n",
       " 'Student1Student11',\n",
       " 'Student1Student14',\n",
       " 'Student1Student15',\n",
       " 'Student1Student18',\n",
       " 'Student1Student19',\n",
       " 'Student1Student2',\n",
       " 'Student1Student22',\n",
       " 'Student1Student23',\n",
       " 'Student1Student25',\n",
       " 'Student1Student26',\n",
       " 'Student1Student27',\n",
       " 'Student1Student3',\n",
       " 'Student1Student5',\n",
       " 'Student1Student6',\n",
       " 'Student1Student8',\n",
       " 'Student10Student1',\n",
       " 'Student10Student11',\n",
       " 'Student10Student14',\n",
       " 'Student10Student18',\n",
       " 'Student10Student2',\n",
       " 'Student10Student22',\n",
       " 'Student10Student23',\n",
       " 'Student10Student27',\n",
       " 'Student10Student3',\n",
       " 'Student10Student5']"
      ]
     },
     "execution_count": 12,
     "metadata": {},
     "output_type": "execute_result"
    }
   ],
   "source": [
    "mylist"
   ]
  },
  {
   "cell_type": "code",
   "execution_count": 14,
   "metadata": {},
   "outputs": [
    {
     "data": {
      "text/plain": [
       "[None,\n",
       " None,\n",
       " None,\n",
       " None,\n",
       " None,\n",
       " None,\n",
       " None,\n",
       " None,\n",
       " None,\n",
       " None,\n",
       " None,\n",
       " None,\n",
       " None,\n",
       " None,\n",
       " None,\n",
       " None,\n",
       " None,\n",
       " None,\n",
       " None,\n",
       " None,\n",
       " None,\n",
       " None,\n",
       " None,\n",
       " None,\n",
       " None,\n",
       " None]"
      ]
     },
     "execution_count": 14,
     "metadata": {},
     "output_type": "execute_result"
    }
   ],
   "source": [
    "result = [] \n",
    "[result.append(x) for x in li if x not in result] "
   ]
  },
  {
   "cell_type": "code",
   "execution_count": 18,
   "metadata": {},
   "outputs": [
    {
     "name": "stdout",
     "output_type": "stream",
     "text": [
      "['Student1Student10', 'Student1Student11', 'Student1Student14', 'Student1Student15', 'Student1Student18', 'Student1Student19', 'Student1Student2', 'Student1Student22', 'Student1Student23', 'Student1Student25', 'Student1Student26', 'Student1Student27', 'Student1Student3', 'Student1Student5', 'Student1Student6', 'Student1Student8', 'Student10Student1', 'Student10Student11', 'Student10Student14', 'Student10Student18', 'Student10Student2', 'Student10Student22', 'Student10Student23', 'Student10Student27', 'Student10Student3', 'Student10Student5']\n"
     ]
    }
   ],
   "source": [
    "result = [i for n, i in enumerate(li) if i not in li[:n]] \n",
    "print(result)"
   ]
  },
  {
   "cell_type": "code",
   "execution_count": 22,
   "metadata": {},
   "outputs": [
    {
     "name": "stdout",
     "output_type": "stream",
     "text": [
      "['Student1Student10', 'Student1Student11', 'Student1Student14', 'Student1Student15', 'Student1Student18', 'Student1Student19', 'Student1Student2', 'Student1Student22', 'Student1Student23', 'Student1Student25', 'Student1Student26', 'Student1Student27', 'Student1Student3', 'Student1Student5', 'Student1Student6', 'Student1Student8', 'Student10Student1', 'Student10Student11', 'Student10Student14', 'Student10Student18', 'Student10Student2', 'Student10Student22', 'Student10Student23', 'Student10Student27', 'Student10Student3', 'Student10Student5']\n"
     ]
    }
   ],
   "source": [
    "from collections import OrderedDict \n",
    "result = list(OrderedDict.fromkeys(li)) \n",
    "print(result)"
   ]
  },
  {
   "cell_type": "code",
   "execution_count": 24,
   "metadata": {},
   "outputs": [
    {
     "name": "stdout",
     "output_type": "stream",
     "text": [
      "['Student1Student10' 'Student1Student11' 'Student1Student14'\n",
      " 'Student1Student15' 'Student1Student18' 'Student1Student19'\n",
      " 'Student1Student2' 'Student1Student22' 'Student1Student23'\n",
      " 'Student1Student25' 'Student1Student26' 'Student1Student27'\n",
      " 'Student1Student3' 'Student1Student5' 'Student1Student6'\n",
      " 'Student1Student8' 'Student10Student1' 'Student10Student11'\n",
      " 'Student10Student14' 'Student10Student18' 'Student10Student2'\n",
      " 'Student10Student22' 'Student10Student23' 'Student10Student27'\n",
      " 'Student10Student3' 'Student10Student5']\n"
     ]
    }
   ],
   "source": [
    "import numpy as np\n",
    "data = np.array(li)\n",
    "print(data)"
   ]
  },
  {
   "cell_type": "code",
   "execution_count": 27,
   "metadata": {},
   "outputs": [
    {
     "name": "stdout",
     "output_type": "stream",
     "text": [
      "['Student1Student10', 'Student1Student11', 'Student1Student14', 'Student1Student15', 'Student1Student18', 'Student1Student19', 'Student1Student2', 'Student1Student22', 'Student1Student23', 'Student1Student25', 'Student1Student26', 'Student1Student27', 'Student1Student3', 'Student1Student5', 'Student1Student6', 'Student1Student8', 'Student10Student1', 'Student10Student11', 'Student10Student14', 'Student10Student18', 'Student10Student2', 'Student10Student22', 'Student10Student23', 'Student10Student27', 'Student10Student3', 'Student10Student5']\n"
     ]
    }
   ],
   "source": [
    "uniquelist = list(dict.fromkeys(li))\n",
    "print(uniquelist)"
   ]
  },
  {
   "cell_type": "code",
   "execution_count": 29,
   "metadata": {},
   "outputs": [
    {
     "name": "stdout",
     "output_type": "stream",
     "text": [
      "['Student10Student1', 'Student10Student11', 'Student10Student14', 'Student10Student18', 'Student10Student2', 'Student10Student22', 'Student10Student23', 'Student10Student27', 'Student10Student3', 'Student10Student5', 'Student1Student10', 'Student1Student11', 'Student1Student14', 'Student1Student15', 'Student1Student18', 'Student1Student19', 'Student1Student2', 'Student1Student22', 'Student1Student23', 'Student1Student25', 'Student1Student26', 'Student1Student27', 'Student1Student3', 'Student1Student5', 'Student1Student6', 'Student1Student8']\n"
     ]
    }
   ],
   "source": [
    "uniquelist = np.unique(li).tolist()\n",
    "print(uniquelist)"
   ]
  },
  {
   "cell_type": "code",
   "execution_count": 30,
   "metadata": {},
   "outputs": [
    {
     "data": {
      "text/plain": [
       "[None,\n",
       " None,\n",
       " None,\n",
       " None,\n",
       " None,\n",
       " None,\n",
       " None,\n",
       " None,\n",
       " None,\n",
       " None,\n",
       " None,\n",
       " None,\n",
       " None,\n",
       " None,\n",
       " None,\n",
       " None,\n",
       " None,\n",
       " None,\n",
       " None,\n",
       " None,\n",
       " None,\n",
       " None,\n",
       " None,\n",
       " None,\n",
       " None,\n",
       " None]"
      ]
     },
     "execution_count": 30,
     "metadata": {},
     "output_type": "execute_result"
    }
   ],
   "source": [
    "new_list = []\n",
    " \n",
    "[new_list.append(item) for item in li if item not in new_list ]\n"
   ]
  },
  {
   "cell_type": "code",
   "execution_count": 32,
   "metadata": {},
   "outputs": [
    {
     "name": "stdout",
     "output_type": "stream",
     "text": [
      "The new list: ['Student1Student10', 'Student1Student11', 'Student1Student14', 'Student1Student15', 'Student1Student18', 'Student1Student19', 'Student1Student2', 'Student1Student22', 'Student1Student23', 'Student1Student25', 'Student1Student26', 'Student1Student27', 'Student1Student3', 'Student1Student5', 'Student1Student6', 'Student1Student8', 'Student10Student1', 'Student10Student11', 'Student10Student14', 'Student10Student18', 'Student10Student2', 'Student10Student22', 'Student10Student23', 'Student10Student27', 'Student10Student3', 'Student10Student5']\n"
     ]
    }
   ],
   "source": [
    "li2 = []\n",
    "for item in li:\n",
    "    # using the membership operator in check for the presence of the element in the list\n",
    "    if item not in li2:\n",
    "        # append to the new list if not already present\n",
    "        li2.append(item)\n",
    "\n",
    "#print(\"The original list:\", li)\n",
    "print(\"The new list:\", li2)"
   ]
  },
  {
   "cell_type": "code",
   "execution_count": 34,
   "metadata": {},
   "outputs": [
    {
     "name": "stdout",
     "output_type": "stream",
     "text": [
      "['Student1Student10', 'Student1Student11', 'Student1Student14', 'Student1Student15', 'Student1Student18', 'Student1Student19', 'Student1Student2', 'Student1Student22', 'Student1Student23', 'Student1Student25', 'Student1Student26', 'Student1Student27', 'Student1Student3', 'Student1Student5', 'Student1Student6', 'Student1Student8', 'Student10Student1', 'Student10Student11', 'Student10Student14', 'Student10Student18', 'Student10Student2', 'Student10Student22', 'Student10Student23', 'Student10Student27', 'Student10Student3', 'Student10Student5']\n"
     ]
    }
   ],
   "source": [
    "list2 = list(OrderedDict.fromkeys(li))\n",
    "print(list2)"
   ]
  },
  {
   "cell_type": "code",
   "execution_count": 38,
   "metadata": {},
   "outputs": [
    {
     "data": {
      "text/plain": [
       "[None,\n",
       " None,\n",
       " None,\n",
       " None,\n",
       " None,\n",
       " None,\n",
       " None,\n",
       " None,\n",
       " None,\n",
       " None,\n",
       " None,\n",
       " None,\n",
       " None,\n",
       " None,\n",
       " None,\n",
       " None,\n",
       " None,\n",
       " None,\n",
       " None,\n",
       " None,\n",
       " None,\n",
       " None,\n",
       " None,\n",
       " None,\n",
       " None,\n",
       " None]"
      ]
     },
     "execution_count": 38,
     "metadata": {},
     "output_type": "execute_result"
    }
   ],
   "source": [
    "ulist = []\n",
    "[ulist.append(x) for x in li if x not in ulist]"
   ]
  },
  {
   "cell_type": "code",
   "execution_count": 40,
   "metadata": {},
   "outputs": [
    {
     "ename": "AttributeError",
     "evalue": "'list' object has no attribute 'split'",
     "output_type": "error",
     "traceback": [
      "\u001b[1;31m---------------------------------------------------------------------------\u001b[0m",
      "\u001b[1;31mAttributeError\u001b[0m                            Traceback (most recent call last)",
      "\u001b[1;32m<ipython-input-40-479b2f6aa6ee>\u001b[0m in \u001b[0;36m<module>\u001b[1;34m\u001b[0m\n\u001b[0;32m      8\u001b[0m \u001b[1;33m\u001b[0m\u001b[0m\n\u001b[0;32m      9\u001b[0m \u001b[1;31m#st = 'There are two children children playing in the park'\u001b[0m\u001b[1;33m\u001b[0m\u001b[1;33m\u001b[0m\u001b[1;33m\u001b[0m\u001b[0m\n\u001b[1;32m---> 10\u001b[1;33m \u001b[0mremove_duplicate\u001b[0m\u001b[1;33m(\u001b[0m\u001b[0mli\u001b[0m\u001b[1;33m)\u001b[0m\u001b[1;33m\u001b[0m\u001b[1;33m\u001b[0m\u001b[0m\n\u001b[0m",
      "\u001b[1;32m<ipython-input-40-479b2f6aa6ee>\u001b[0m in \u001b[0;36mremove_duplicate\u001b[1;34m(s)\u001b[0m\n\u001b[0;32m      2\u001b[0m \u001b[1;32mdef\u001b[0m \u001b[0mremove_duplicate\u001b[0m\u001b[1;33m(\u001b[0m\u001b[0ms\u001b[0m\u001b[1;33m)\u001b[0m\u001b[1;33m:\u001b[0m\u001b[1;33m\u001b[0m\u001b[1;33m\u001b[0m\u001b[0m\n\u001b[0;32m      3\u001b[0m \u001b[1;33m\u001b[0m\u001b[0m\n\u001b[1;32m----> 4\u001b[1;33m     \u001b[0ms\u001b[0m \u001b[1;33m=\u001b[0m \u001b[0ms\u001b[0m\u001b[1;33m.\u001b[0m\u001b[0msplit\u001b[0m\u001b[1;33m(\u001b[0m\u001b[1;34m\" \"\u001b[0m\u001b[1;33m)\u001b[0m\u001b[1;33m\u001b[0m\u001b[1;33m\u001b[0m\u001b[0m\n\u001b[0m\u001b[0;32m      5\u001b[0m     \u001b[0mword_dic\u001b[0m \u001b[1;33m=\u001b[0m \u001b[0mCounter\u001b[0m\u001b[1;33m(\u001b[0m\u001b[0ms\u001b[0m\u001b[1;33m)\u001b[0m\u001b[1;33m\u001b[0m\u001b[1;33m\u001b[0m\u001b[0m\n\u001b[0;32m      6\u001b[0m     \u001b[0mresult\u001b[0m \u001b[1;33m=\u001b[0m \u001b[1;34m\" \"\u001b[0m\u001b[1;33m.\u001b[0m\u001b[0mjoin\u001b[0m\u001b[1;33m(\u001b[0m\u001b[0mword_dic\u001b[0m\u001b[1;33m.\u001b[0m\u001b[0mkeys\u001b[0m\u001b[1;33m(\u001b[0m\u001b[1;33m)\u001b[0m\u001b[1;33m)\u001b[0m\u001b[1;33m\u001b[0m\u001b[1;33m\u001b[0m\u001b[0m\n",
      "\u001b[1;31mAttributeError\u001b[0m: 'list' object has no attribute 'split'"
     ]
    }
   ],
   "source": [
    "from collections import Counter \n",
    "def remove_duplicate(s):\n",
    "\n",
    "    s = s.split(\" \")\n",
    "    word_dic = Counter(s)\n",
    "    result = \" \".join(word_dic.keys())\n",
    "    print (result)\n",
    " \n",
    "#st = 'There are two children children playing in the park'\n",
    "remove_duplicate(li)"
   ]
  },
  {
   "cell_type": "code",
   "execution_count": null,
   "metadata": {},
   "outputs": [],
   "source": []
  }
 ],
 "metadata": {
  "kernelspec": {
   "display_name": "Python 3",
   "language": "python",
   "name": "python3"
  },
  "language_info": {
   "codemirror_mode": {
    "name": "ipython",
    "version": 3
   },
   "file_extension": ".py",
   "mimetype": "text/x-python",
   "name": "python",
   "nbconvert_exporter": "python",
   "pygments_lexer": "ipython3",
   "version": "3.9.2"
  }
 },
 "nbformat": 4,
 "nbformat_minor": 4
}
