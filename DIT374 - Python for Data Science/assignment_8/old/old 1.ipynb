{
 "cells": [
  {
   "cell_type": "markdown",
   "metadata": {},
   "source": [
    "# Assignment 8\n",
    "---\n",
    "\n",
    "By: Erik Rosvall (960523)"
   ]
  },
  {
   "cell_type": "markdown",
   "metadata": {},
   "source": [
    "Importing libs and CSV-files"
   ]
  },
  {
   "cell_type": "code",
   "execution_count": 65,
   "metadata": {},
   "outputs": [],
   "source": [
    "import pandas as pd\n",
    "import numpy as np\n",
    "import datetime\n",
    "import matplotlib.pyplot as plt \n",
    "import seaborn as sns"
   ]
  },
  {
   "cell_type": "code",
   "execution_count": 88,
   "metadata": {},
   "outputs": [],
   "source": [
    "df1 = pd.read_csv('Poll_Info.csv', sep='\\t')\n",
    "df2 = pd.read_csv('Poll_Report.csv', sep=';')"
   ]
  },
  {
   "cell_type": "markdown",
   "metadata": {},
   "source": [
    "## 1"
   ]
  },
  {
   "cell_type": "code",
   "execution_count": 104,
   "metadata": {},
   "outputs": [
    {
     "name": "stdout",
     "output_type": "stream",
     "text": [
      "['C', 'B', 'E', 'C', 'B', 'E', 'C', 'D', 'A', 'D', 'A', 'D', 'B', 'B', 'B', 'D', 'B', 'A']\n"
     ]
    }
   ],
   "source": [
    "\"\"\"\n",
    "Getting the 'Correct Answer' from Poll_Info.csv\n",
    "\"\"\"\n",
    "dd = df1['Correct Answer']\n",
    "num = []\n",
    "\n",
    "for i in range(len(dd)):\n",
    "    num.append(dd[i])\n",
    "print(num)"
   ]
  },
  {
   "cell_type": "code",
   "execution_count": 105,
   "metadata": {},
   "outputs": [
    {
     "name": "stdout",
     "output_type": "stream",
     "text": [
      "[1, 2, 3, 4, 5, 6, 7, 8, 9, 10, 11, 12, 13, 14, 15, 16, 17, 18]\n"
     ]
    }
   ],
   "source": [
    "\"\"\"\n",
    "Getting question\n",
    "\"\"\"\n",
    "ddd = df1['Question']\n",
    "quest = []\n",
    "\n",
    "for i in range(len(ddd)):\n",
    "    quest.append(ddd[i])\n",
    "print(quest)"
   ]
  },
  {
   "cell_type": "code",
   "execution_count": 110,
   "metadata": {},
   "outputs": [
    {
     "name": "stdout",
     "output_type": "stream",
     "text": [
      "{1: 'C', 2: 'B', 3: 'E', 4: 'C', 5: 'B', 6: 'E', 7: 'C', 8: 'D', 9: 'A', 10: 'D', 11: 'A', 12: 'D', 13: 'B', 14: 'B', 15: 'B', 16: 'D', 17: 'B', 18: 'A'}\n"
     ]
    }
   ],
   "source": [
    "\"\"\"\n",
    "Creating a dictionary for the correct answers\n",
    "\"\"\"\n",
    "info_dict = {}\n",
    "info_dict = dict(zip(quest, num))\n",
    "print(info_dict)"
   ]
  },
  {
   "cell_type": "code",
   "execution_count": 165,
   "metadata": {},
   "outputs": [
    {
     "name": "stdout",
     "output_type": "stream",
     "text": [
      "[11, 11, 11, 11, 11, 11, 11, 11, 11, 11, 11, 11, 11, 11, 11, 11, 11, 11, 11, 11, 11, 11, 11, 11, 11, 11, 11, 16, 16, 16, 16, 16, 16, 16, 16, 16, 16, 16, 16, 16, 16, 16, 16, 16, 16, 16, 16, 16, 16, 16, 16, 16, 16, 16, 13, 13, 13, 13, 13, 13, 13, 13, 13, 13, 13, 13, 13, 13, 13, 13, 13, 13, 13, 13, 13, 13, 13, 13, 13, 13, 13, 4, 4, 4, 4, 4, 4, 4, 4, 4, 4, 4, 4, 4, 4, 4, 4, 4, 4, 4, 4, 4, 4, 4, 4, 4, 4, 4, 8, 8, 8, 8, 8, 8, 8, 8, 8, 8, 8, 8, 8, 8, 8, 8, 8, 8, 8, 8, 8, 8, 8, 8, 8, 8, 8, 12, 12, 12, 12, 12, 12, 12, 12, 12, 12, 12, 12, 12, 12, 12, 12, 12, 12, 12, 12, 12, 12, 12, 12, 12, 12, 15, 15, 15, 15, 15, 15, 15, 15, 15, 15, 15, 15, 15, 15, 15, 15, 15, 15, 15, 15, 15, 15, 15, 15, 15, 15, 15, 5, 5, 5, 5, 5, 5, 5, 5, 5, 5, 5, 5, 5, 5, 5, 5, 5, 5, 5, 5, 5, 5, 5, 5, 5, 5, 5, 9, 9, 9, 9, 9, 9, 9, 9, 9, 9, 9, 9, 9, 9, 9, 9, 9, 9, 9, 9, 9, 9, 9, 9, 9, 9, 9, 1, 1, 1, 1, 1, 1, 1, 1, 1, 1, 1, 1, 1, 1, 1, 1, 1, 1, 1, 1, 1, 1, 1, 1, 1, 1, 1, 14, 14, 14, 14, 14, 14, 14, 14, 14, 14, 14, 14, 14, 14, 14, 14, 14, 14, 14, 14, 14, 14, 14, 14, 14, 14, 14, 3, 3, 3, 3, 3, 3, 3, 3, 3, 3, 3, 3, 3, 3, 3, 3, 3, 3, 3, 3, 3, 3, 3, 3, 3, 3, 3, 6, 6, 6, 6, 6, 6, 6, 6, 6, 6, 6, 6, 6, 6, 6, 6, 6, 6, 6, 6, 6, 6, 6, 6, 6, 6, 6, 18, 18, 18, 18, 18, 18, 18, 18, 18, 18, 18, 18, 18, 18, 18, 18, 18, 18, 18, 18, 18, 18, 18, 18, 18, 18, 10, 10, 10, 10, 10, 10, 10, 10, 10, 10, 10, 10, 10, 10, 10, 10, 10, 10, 10, 10, 10, 10, 10, 10, 10, 10, 10, 17, 17, 17, 17, 17, 17, 17, 17, 17, 17, 17, 17, 17, 17, 17, 17, 17, 17, 17, 17, 17, 17, 17, 17, 17, 17, 17, 7, 7, 7, 7, 7, 7, 7, 7, 7, 7, 7, 7, 7, 7, 7, 7, 7, 7, 7, 7, 7, 7, 7, 7, 7, 7, 7, 2, 2, 2, 2, 2, 2, 2, 2, 2, 2, 2, 2, 2, 2, 2, 2, 2, 2, 2, 2, 2, 2, 2, 2, 2, 2, 2]\n"
     ]
    }
   ],
   "source": [
    "\"\"\"\n",
    "Getting the question ID\n",
    "\"\"\"\n",
    "ss = df2['Question ID']\n",
    "qid = []\n",
    "for i in range(len(ss)):\n",
    "    qid.append(ss[i])\n",
    "print(qid)"
   ]
  },
  {
   "cell_type": "code",
   "execution_count": 167,
   "metadata": {},
   "outputs": [
    {
     "name": "stdout",
     "output_type": "stream",
     "text": [
      "['B', 'E', 'A', 'A', 'E', 'A', 'A', 'B', 'B', 'A', 'B', 'A', 'A', 'A', 'B', 'A', 'A', 'B', 'C', 'A', 'A', 'B', 'B', 'E', 'B', 'B', 'B', 'A', 'D', 'D', 'D', 'D', 'A', 'D', 'D', 'D', 'D', 'D', 'D', 'D', 'D', 'D', 'D', 'B', 'D', 'A', 'D', 'D', 'D', 'D', 'D', 'D', 'D', 'D', 'B', 'B', 'B', 'B', 'A', 'B', 'B', 'B', 'B', 'B', 'B', 'B', 'B', 'B', 'B', 'B', 'B', 'B', 'B', 'B', 'B', 'B', 'A', 'B', 'B', 'B', 'B', 'C', 'C', 'B', 'B', 'C', 'C', 'C', 'C', 'C', 'C', 'C', 'C', 'C', 'C', 'C', 'C', 'C', 'C', 'C', 'C', 'C', 'B', 'B', 'C', 'C', 'C', 'C', 'C', 'B', 'C', 'D', 'C', 'D', 'D', 'D', 'D', 'C', 'C', 'C', 'D', 'C', 'D', 'D', 'B', 'C', 'B', 'D', 'C', 'A', 'E', 'C', 'D', 'D', 'D', 'C', 'D', 'D', 'D', 'C', 'D', 'E', 'A', 'E', 'D', 'D', 'D', 'D', 'D', 'D', 'D', 'A', 'D', 'C', 'D', 'D', 'D', 'D', 'D', 'A', 'A', 'B', 'C', 'B', 'B', 'C', 'C', 'B', 'B', 'B', 'C', 'C', 'B', 'D', 'B', 'B', 'B', 'B', 'C', 'B', 'B', 'B', 'B', 'C', 'B', 'B', 'B', 'D', 'B', 'B', 'B', 'B', 'A', 'B', 'B', 'B', 'B', 'A', 'A', 'B', 'B', 'B', 'B', 'B', 'B', 'A', 'B', 'A', 'B', 'B', 'B', 'B', 'B', 'B', 'A', 'A', 'D', 'C', 'D', 'A', 'A', 'A', 'C', 'A', 'A', 'D', 'A', 'A', 'A', 'A', 'A', 'A', 'A', 'D', 'A', 'A', 'D', 'A', 'A', 'A', 'A', 'A', 'C', 'C', 'C', 'C', 'C', 'B', 'C', 'C', 'C', 'C', 'C', 'C', 'C', 'C', 'C', 'C', 'C', 'C', 'C', 'C', 'C', 'C', 'C', 'C', 'C', 'C', 'B', 'A', 'A', 'A', 'B', 'B', 'B', 'B', 'A', 'B', 'A', 'A', 'B', 'B', 'A', 'A', 'B', 'B', 'A', 'B', 'B', 'B', 'A', 'A', 'B', 'A', 'A', 'B', 'A', 'C', 'D', 'D', 'C', 'A', 'D', 'C', 'D', 'E', 'C', 'D', 'E', 'D', 'D', 'E', 'E', 'E', 'E', 'E', 'E', 'D', 'D', 'E', 'D', 'E', 'D', 'E', 'E', 'E', 'E', 'E', 'D', 'D', 'E', 'E', 'E', 'E', 'E', 'E', 'E', 'B', 'E', 'E', 'E', 'E', 'D', 'D', 'E', 'D', 'D', 'E', 'E', 'C', 'B', 'A', 'A', 'A', 'B', 'A', 'A', 'B', 'A', 'A', 'A', 'A', 'A', 'A', 'C', 'A', 'A', 'A', 'A', 'A', 'A', 'A', 'A', 'C', 'A', 'B', 'A', 'A', 'D', 'D', 'D', 'D', 'D', 'A', 'D', 'B', 'A', 'D', 'D', 'D', 'D', 'D', 'A', 'B', 'A', 'D', 'D', 'D', 'A', 'C', 'D', 'D', 'B', 'B', 'B', 'B', 'B', 'B', 'A', 'B', 'B', 'B', 'B', 'B', 'C', 'B', 'B', 'B', 'B', 'B', 'B', 'D', 'B', 'B', 'B', 'E', 'B', 'B', 'B', 'B', 'C', 'C', 'C', 'B', 'D', 'B', 'C', 'C', 'C', 'C', 'C', 'C', 'C', 'B', 'A', 'C', 'C', 'C', 'C', 'C', 'B', 'C', 'C', 'B', 'A', 'C', 'D', 'D', 'B', 'B', 'A', 'D', 'B', 'B', 'C', 'B', 'A', 'B', 'C', 'B', 'B', 'D', 'B', 'B', 'B', 'A', 'B', 'B', 'A', 'B', 'B', 'D', 'B', 'D']\n"
     ]
    }
   ],
   "source": [
    "\"\"\"\n",
    "Student answers\n",
    "\"\"\"\n",
    "sss = df2['Student Answer']\n",
    "sa = []\n",
    "for i in range(len(sss)):\n",
    "    sa.append(sss[i])\n",
    "print(sa)"
   ]
  },
  {
   "cell_type": "code",
   "execution_count": 169,
   "metadata": {},
   "outputs": [
    {
     "name": "stdout",
     "output_type": "stream",
     "text": [
      "[2700, 4077, 972, 2700, 4077, 972, 2700, 2700, 2619, 2700, 2619, 2600, 4077, 4077, 4077, 2700, 4077, 2522]\n"
     ]
    }
   ],
   "source": [
    "i = 0\n",
    "count = 0\n",
    "cc = []\n",
    "for key, val in info_dict.items():\n",
    "    for i in range(len(qid)):\n",
    "        for j in range(len(sa)):\n",
    "            if key == qid[i] and val == sa[j]:\n",
    "                count += 1\n",
    "    cc.append(count)\n",
    "    count = 0\n",
    "print(cc)"
   ]
  },
  {
   "cell_type": "code",
   "execution_count": 174,
   "metadata": {},
   "outputs": [],
   "source": [
    "for i in range(len(qid)):\n",
    "    for j in range(len(sa)):\n",
    "        for key, val in info_dict.items():\n",
    "            if key == qid[i] and val == sa[j]:\n",
    "                count += 1\n",
    "    cc.append(count)\n",
    "    count = 0\n",
    "#print(cc)"
   ]
  },
  {
   "cell_type": "code",
   "execution_count": null,
   "metadata": {},
   "outputs": [],
   "source": [
    "id_l = []\n",
    "for i in range(len(qid)):\n",
    "    if not qid[]"
   ]
  },
  {
   "cell_type": "code",
   "execution_count": 137,
   "metadata": {},
   "outputs": [],
   "source": [
    "count = 0\n",
    "check_id = 0\n",
    "id_list = []\n",
    "amount = []\n",
    "\n"
   ]
  },
  {
   "cell_type": "code",
   "execution_count": null,
   "metadata": {},
   "outputs": [],
   "source": [
    "for key, val in info_dict.items():\n",
    "    for i in range(len(qid)):\n",
    "        for j in range(len(sa)):\n",
    "            if qid[i] == key and sa[j] == val:\n",
    "                count += 1\n",
    "                check_id = key\n",
    "            amount.append(count)\n",
    "            count = 0\n",
    "                \n",
    "    id_list.append(key)\n",
    "    \n",
    "    \n",
    "    \n",
    "print(amount)\n",
    "print(id_list)"
   ]
  },
  {
   "cell_type": "code",
   "execution_count": 152,
   "metadata": {},
   "outputs": [
    {
     "ename": "SyntaxError",
     "evalue": "invalid syntax (<ipython-input-152-40d4c58ba34d>, line 12)",
     "output_type": "error",
     "traceback": [
      "\u001b[1;36m  File \u001b[1;32m\"<ipython-input-152-40d4c58ba34d>\"\u001b[1;36m, line \u001b[1;32m12\u001b[0m\n\u001b[1;33m    if letters[i] == qid[j] and sa[j] == info_dict.get(key[, value]):\u001b[0m\n\u001b[1;37m                                                           ^\u001b[0m\n\u001b[1;31mSyntaxError\u001b[0m\u001b[1;31m:\u001b[0m invalid syntax\n"
     ]
    }
   ],
   "source": [
    "letters = []\n",
    "counting = []\n",
    "\n",
    "# adding question order\n",
    "for i in range(len(qid)):\n",
    "    if not qid[i] in letters:\n",
    "        letters.append(qid[i])\n",
    "print(letters)\n",
    "\n",
    "for i in range(len(letters)):\n",
    "    for j in range(len(qid)):\n",
    "        if letters[i] == qid[j] and sa[j] == info_dict.get(key[, value]):\n",
    "            print('h')\n",
    "            \n"
   ]
  },
  {
   "cell_type": "code",
   "execution_count": null,
   "metadata": {},
   "outputs": [],
   "source": [
    "# counting each letter\n",
    "count = 0\n",
    "for i in range(len(letters)):\n",
    "    for j in range(len(sa)):\n",
    "        if letters[i] == sa[j]:\n",
    "            print(leters[i],a[j])\n",
    "            count += 1\n",
    "            \n",
    "    counting.append(count)\n",
    "    count = 0\n",
    "        \n",
    "print(counting)"
   ]
  },
  {
   "cell_type": "code",
   "execution_count": 176,
   "metadata": {},
   "outputs": [
    {
     "data": {
      "image/png": "[encoded data removed]",
      "text/plain": [
       "<Figure size 432x288 with 1 Axes>"
      ]
     },
     "metadata": {
      "needs_background": "light"
     },
     "output_type": "display_data"
    }
   ],
   "source": [
    "plt.bar(letters ,counting, width=0.5)\n",
    "\n",
    "plt.show()"
   ]
  },
  {
   "cell_type": "markdown",
   "metadata": {},
   "source": [
    "## 2"
   ]
  },
  {
   "cell_type": "markdown",
   "metadata": {},
   "source": [
    "TODO:\n",
    "* poll_info\n",
    "    * get Question for comparing how many answer correctly agains the answers in poll_report\n",
    "    * filter out the correct student answers agains teh correct answers for each question"
   ]
  },
  {
   "cell_type": "code",
   "execution_count": null,
   "metadata": {},
   "outputs": [],
   "source": []
  }
 ],
 "metadata": {
  "kernelspec": {
   "display_name": "Python 3",
   "language": "python",
   "name": "python3"
  },
  "language_info": {
   "codemirror_mode": {
    "name": "ipython",
    "version": 3
   },
   "file_extension": ".py",
   "mimetype": "text/x-python",
   "name": "python",
   "nbconvert_exporter": "python",
   "pygments_lexer": "ipython3",
   "version": "3.9.2"
  }
 },
 "nbformat": 4,
 "nbformat_minor": 4
}
