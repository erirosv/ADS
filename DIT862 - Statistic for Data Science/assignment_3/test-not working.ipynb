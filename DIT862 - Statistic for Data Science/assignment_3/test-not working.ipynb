{
 "cells": [
  {
   "cell_type": "code",
   "execution_count": 11,
   "metadata": {},
   "outputs": [],
   "source": [
    "%matplotlib inline\n",
    "import numpy as np\n",
    "import matplotlib.pyplot as plt\n",
    "from random import sample \n",
    "import matplotlib.cm as cm \n",
    "import imageio\n",
    "import pandas as ps\n",
    "from copy import deepcopy\n",
    "from random import randint\n",
    "from matplotlib import pyplot\n",
    "\n",
    "# nä'r används dessa?\n",
    "from scipy import linalg \n",
    "import scipy.misc \n",
    "import scipy.io \n",
    "\n",
    "from sklearn.datasets import make_blobs"
   ]
  },
  {
   "cell_type": "code",
   "execution_count": 52,
   "metadata": {},
   "outputs": [],
   "source": [
    "# ******************* old *******************\n",
    "def generate_fake_data(f_centers):\n",
    "    x, y = make_blobs(n_samples=5000, centers=f_centers, n_features=2, random_state=195)\n",
    "    xx = deepcopy(x)\n",
    "    yy = deepcopy(y)\n",
    "    return f_centers, x, xx, yy\n",
    "\n",
    "def plot_reg_data(x):\n",
    "    pyplot.scatter(x[:, 0], x[:, 1])\n",
    "    pyplot.show()  \n",
    "    \n",
    "def gen_rand_cluster(nub_cluster):\n",
    "    n_features = 2\n",
    "    c_pos = generate_random_clusters(n_features, nub_cluster) \n",
    "    c_pos = np.array(c_pos).T\n",
    "    return c_pos\n",
    "\n",
    "def generate_random_clusters(n_features, k):\n",
    "    c_position = []\n",
    "    for i in range(n_features):\n",
    "        c_position.append(np.random.randint(0.8 * np.min(x[:, i]), 0.8 * np.max(x[:, i]), size=k)) \n",
    "    return c_position\n",
    "\n",
    "def get_centroids(x, cent_pos):\n",
    "    pyplot.scatter(x[:, 0], x[:, 1])\n",
    "    pyplot.scatter(cent_pos[:, 0], cent_pos[:, 1], marker='*', s=300, c='orange')\n",
    "    pyplot.show()\n",
    "\n",
    "# ******************* new *******************\n",
    "\n",
    "# finding the closest centroids\n",
    "def find_centroides(X, cent):\n",
    "    idxs = np.zeros((X.shape[0],1))\n",
    "\n",
    "    for x in range(idxs.shape[0]):\n",
    "        point = X[x]\n",
    "        min_dist, id_x = 9999999, 0\n",
    "        for i in range(cent.shape[0]):\n",
    "            cent = cent[i]\n",
    "            dist = distance(cent,point)\n",
    "            if dist < min_dist:\n",
    "                min_dist = dist\n",
    "                id_x = i\n",
    "        idxs[x] = id_x\n",
    "        \n",
    "    return idxs\n",
    "\n",
    "# get the squared distande\n",
    "def distance(p1, p2):\n",
    "    assert p1.shape == p2.shape\n",
    "    return np.sum(np.square(p2-p1))\n",
    "\n",
    "# compute cenbtroid mean\n",
    "def c_centroids(X, idxs):\n",
    "    sub_X = []\n",
    "    for x in range(len(np.unique(idxs))):\n",
    "        sub_X.append(np.array([X[i] for i in range(X.shape[0]) if idxs[i] == x]))\n",
    "    ret = np.array([np.mean(tX,axis=0) for tX in sub_X])\n",
    "    return ret\n",
    "\n",
    "# run kmeans\n",
    "def k_means(X, centroids, K):\n",
    "    n_iter = 50\n",
    "    cent_h = []\n",
    "    curr_cent = centroids\n",
    "    for myiter in range(n_iter):\n",
    "        cent_h.append(curr_cent)\n",
    "        idxs = find_centroides(X,centroids)\n",
    "        curr_cent = c_centroids(X,idxs)\n",
    "        \n",
    "    return idxs, centroid_history"
   ]
  },
  {
   "cell_type": "code",
   "execution_count": 53,
   "metadata": {},
   "outputs": [
    {
     "data": {
      "image/png": "[encoded data removed]",
      "text/plain": [
       "<Figure size 432x288 with 1 Axes>"
      ]
     },
     "metadata": {
      "needs_background": "light"
     },
     "output_type": "display_data"
    }
   ],
   "source": [
    "f_centers = 4\n",
    "f_cent, x, xx, yy = generate_fake_data(f_centers)\n",
    "plot_reg_data(x)"
   ]
  },
  {
   "cell_type": "code",
   "execution_count": 54,
   "metadata": {},
   "outputs": [
    {
     "data": {
      "image/png": "[encoded data removed]",
      "text/plain": [
       "<Figure size 432x288 with 1 Axes>"
      ]
     },
     "metadata": {
      "needs_background": "light"
     },
     "output_type": "display_data"
    }
   ],
   "source": [
    "cc_pos = gen_rand_cluster(f_cent)\n",
    "get_centroids(x, cc_pos)"
   ]
  },
  {
   "cell_type": "code",
   "execution_count": 55,
   "metadata": {},
   "outputs": [
    {
     "ename": "AssertionError",
     "evalue": "",
     "output_type": "error",
     "traceback": [
      "\u001b[1;31m---------------------------------------------------------------------------\u001b[0m",
      "\u001b[1;31mAssertionError\u001b[0m                            Traceback (most recent call last)",
      "\u001b[1;32m<ipython-input-55-801c28d692ab>\u001b[0m in \u001b[0;36m<module>\u001b[1;34m\u001b[0m\n\u001b[1;32m----> 1\u001b[1;33m \u001b[0mii\u001b[0m \u001b[1;33m=\u001b[0m \u001b[0mfind_centroides\u001b[0m\u001b[1;33m(\u001b[0m\u001b[0mx\u001b[0m\u001b[1;33m,\u001b[0m \u001b[0mcc_pos\u001b[0m\u001b[1;33m)\u001b[0m\u001b[1;33m\u001b[0m\u001b[1;33m\u001b[0m\u001b[0m\n\u001b[0m\u001b[0;32m      2\u001b[0m \u001b[0mii\u001b[0m\u001b[1;33m\u001b[0m\u001b[1;33m\u001b[0m\u001b[0m\n",
      "\u001b[1;32m<ipython-input-52-d735072b6375>\u001b[0m in \u001b[0;36mfind_centroides\u001b[1;34m(X, cent)\u001b[0m\n\u001b[0;32m     38\u001b[0m         \u001b[1;32mfor\u001b[0m \u001b[0mi\u001b[0m \u001b[1;32min\u001b[0m \u001b[0mrange\u001b[0m\u001b[1;33m(\u001b[0m\u001b[0mcent\u001b[0m\u001b[1;33m.\u001b[0m\u001b[0mshape\u001b[0m\u001b[1;33m[\u001b[0m\u001b[1;36m0\u001b[0m\u001b[1;33m]\u001b[0m\u001b[1;33m)\u001b[0m\u001b[1;33m:\u001b[0m\u001b[1;33m\u001b[0m\u001b[1;33m\u001b[0m\u001b[0m\n\u001b[0;32m     39\u001b[0m             \u001b[0mcent\u001b[0m \u001b[1;33m=\u001b[0m \u001b[0mcent\u001b[0m\u001b[1;33m[\u001b[0m\u001b[0mi\u001b[0m\u001b[1;33m]\u001b[0m\u001b[1;33m\u001b[0m\u001b[1;33m\u001b[0m\u001b[0m\n\u001b[1;32m---> 40\u001b[1;33m             \u001b[0mdist\u001b[0m \u001b[1;33m=\u001b[0m \u001b[0mdistance\u001b[0m\u001b[1;33m(\u001b[0m\u001b[0mcent\u001b[0m\u001b[1;33m,\u001b[0m\u001b[0mpoint\u001b[0m\u001b[1;33m)\u001b[0m\u001b[1;33m\u001b[0m\u001b[1;33m\u001b[0m\u001b[0m\n\u001b[0m\u001b[0;32m     41\u001b[0m             \u001b[1;32mif\u001b[0m \u001b[0mdist\u001b[0m \u001b[1;33m<\u001b[0m \u001b[0mmin_dist\u001b[0m\u001b[1;33m:\u001b[0m\u001b[1;33m\u001b[0m\u001b[1;33m\u001b[0m\u001b[0m\n\u001b[0;32m     42\u001b[0m                 \u001b[0mmin_dist\u001b[0m \u001b[1;33m=\u001b[0m \u001b[0mdist\u001b[0m\u001b[1;33m\u001b[0m\u001b[1;33m\u001b[0m\u001b[0m\n",
      "\u001b[1;32m<ipython-input-52-d735072b6375>\u001b[0m in \u001b[0;36mdistance\u001b[1;34m(p1, p2)\u001b[0m\n\u001b[0;32m     48\u001b[0m \u001b[1;31m# get the squared distande\u001b[0m\u001b[1;33m\u001b[0m\u001b[1;33m\u001b[0m\u001b[1;33m\u001b[0m\u001b[0m\n\u001b[0;32m     49\u001b[0m \u001b[1;32mdef\u001b[0m \u001b[0mdistance\u001b[0m\u001b[1;33m(\u001b[0m\u001b[0mp1\u001b[0m\u001b[1;33m,\u001b[0m \u001b[0mp2\u001b[0m\u001b[1;33m)\u001b[0m\u001b[1;33m:\u001b[0m\u001b[1;33m\u001b[0m\u001b[1;33m\u001b[0m\u001b[0m\n\u001b[1;32m---> 50\u001b[1;33m     \u001b[1;32massert\u001b[0m \u001b[0mp1\u001b[0m\u001b[1;33m.\u001b[0m\u001b[0mshape\u001b[0m \u001b[1;33m==\u001b[0m \u001b[0mp2\u001b[0m\u001b[1;33m.\u001b[0m\u001b[0mshape\u001b[0m\u001b[1;33m\u001b[0m\u001b[1;33m\u001b[0m\u001b[0m\n\u001b[0m\u001b[0;32m     51\u001b[0m     \u001b[1;32mreturn\u001b[0m \u001b[0mnp\u001b[0m\u001b[1;33m.\u001b[0m\u001b[0msum\u001b[0m\u001b[1;33m(\u001b[0m\u001b[0mnp\u001b[0m\u001b[1;33m.\u001b[0m\u001b[0msquare\u001b[0m\u001b[1;33m(\u001b[0m\u001b[0mp2\u001b[0m\u001b[1;33m-\u001b[0m\u001b[0mp1\u001b[0m\u001b[1;33m)\u001b[0m\u001b[1;33m)\u001b[0m\u001b[1;33m\u001b[0m\u001b[1;33m\u001b[0m\u001b[0m\n\u001b[0;32m     52\u001b[0m \u001b[1;33m\u001b[0m\u001b[0m\n",
      "\u001b[1;31mAssertionError\u001b[0m: "
     ]
    }
   ],
   "source": [
    "ii = find_centroides(x, cc_pos)"
   ]
  },
  {
   "cell_type": "code",
   "execution_count": 50,
   "metadata": {},
   "outputs": [
    {
     "ename": "AssertionError",
     "evalue": "",
     "output_type": "error",
     "traceback": [
      "\u001b[1;31m---------------------------------------------------------------------------\u001b[0m",
      "\u001b[1;31mAssertionError\u001b[0m                            Traceback (most recent call last)",
      "\u001b[1;32m<ipython-input-50-df8323ae972a>\u001b[0m in \u001b[0;36m<module>\u001b[1;34m\u001b[0m\n\u001b[1;32m----> 1\u001b[1;33m \u001b[0mplotData\u001b[0m\u001b[1;33m(\u001b[0m\u001b[0mx\u001b[0m\u001b[1;33m,\u001b[0m\u001b[0mcc_pos\u001b[0m\u001b[1;33m,\u001b[0m\u001b[0mmyidxs\u001b[0m \u001b[1;33m=\u001b[0m \u001b[1;32mNone\u001b[0m\u001b[1;33m)\u001b[0m\u001b[1;33m\u001b[0m\u001b[1;33m\u001b[0m\u001b[0m\n\u001b[0m",
      "\u001b[1;32m<ipython-input-49-54a7198661b3>\u001b[0m in \u001b[0;36mplotData\u001b[1;34m(myX, mycentroids, myidxs)\u001b[0m\n\u001b[0;32m      8\u001b[0m     \u001b[0mcolors\u001b[0m \u001b[1;33m=\u001b[0m \u001b[1;33m[\u001b[0m\u001b[1;34m'b'\u001b[0m\u001b[1;33m,\u001b[0m\u001b[1;34m'g'\u001b[0m\u001b[1;33m,\u001b[0m\u001b[1;34m'gold'\u001b[0m\u001b[1;33m,\u001b[0m\u001b[1;34m'darkorange'\u001b[0m\u001b[1;33m,\u001b[0m\u001b[1;34m'salmon'\u001b[0m\u001b[1;33m,\u001b[0m\u001b[1;34m'olivedrab'\u001b[0m\u001b[1;33m]\u001b[0m\u001b[1;33m\u001b[0m\u001b[1;33m\u001b[0m\u001b[0m\n\u001b[0;32m      9\u001b[0m \u001b[1;33m\u001b[0m\u001b[0m\n\u001b[1;32m---> 10\u001b[1;33m     \u001b[1;32massert\u001b[0m \u001b[0mmyX\u001b[0m\u001b[1;33m[\u001b[0m\u001b[1;36m0\u001b[0m\u001b[1;33m]\u001b[0m\u001b[1;33m.\u001b[0m\u001b[0mshape\u001b[0m \u001b[1;33m==\u001b[0m \u001b[0mmycentroids\u001b[0m\u001b[1;33m[\u001b[0m\u001b[1;36m0\u001b[0m\u001b[1;33m]\u001b[0m\u001b[1;33m[\u001b[0m\u001b[1;36m0\u001b[0m\u001b[1;33m]\u001b[0m\u001b[1;33m.\u001b[0m\u001b[0mshape\u001b[0m\u001b[1;33m\u001b[0m\u001b[1;33m\u001b[0m\u001b[0m\n\u001b[0m\u001b[0;32m     11\u001b[0m     \u001b[1;32massert\u001b[0m \u001b[0mmycentroids\u001b[0m\u001b[1;33m[\u001b[0m\u001b[1;33m-\u001b[0m\u001b[1;36m1\u001b[0m\u001b[1;33m]\u001b[0m\u001b[1;33m.\u001b[0m\u001b[0mshape\u001b[0m\u001b[1;33m[\u001b[0m\u001b[1;36m0\u001b[0m\u001b[1;33m]\u001b[0m \u001b[1;33m<=\u001b[0m \u001b[0mlen\u001b[0m\u001b[1;33m(\u001b[0m\u001b[0mcolors\u001b[0m\u001b[1;33m)\u001b[0m\u001b[1;33m\u001b[0m\u001b[1;33m\u001b[0m\u001b[0m\n\u001b[0;32m     12\u001b[0m \u001b[1;33m\u001b[0m\u001b[0m\n",
      "\u001b[1;31mAssertionError\u001b[0m: "
     ]
    }
   ],
   "source": [
    "plotData(x,cc_pos,myidxs = None)"
   ]
  },
  {
   "cell_type": "code",
   "execution_count": 49,
   "metadata": {},
   "outputs": [],
   "source": [
    "def plotData(myX,mycentroids,myidxs = None):\n",
    "    \"\"\"\n",
    "    Fucntion to plot the data and color it accordingly.\n",
    "    myidxs should be the latest iteraction index vector\n",
    "    mycentroids should be a vector of centroids, one per iteration\n",
    "    \"\"\"\n",
    "    \n",
    "    colors = ['b','g','gold','darkorange','salmon','olivedrab']\n",
    "    \n",
    "    assert myX[0].shape == mycentroids[0][0].shape\n",
    "    assert mycentroids[-1].shape[0] <= len(colors)\n",
    "\n",
    "    #If idxs is supplied, divide up X into colors\n",
    "    if myidxs is not None:\n",
    "        assert myidxs.shape[0] == myX.shape[0]\n",
    "        subX = []\n",
    "        for x in range(mycentroids[0].shape[0]):\n",
    "            subX.append(np.array([myX[i] for i in range(myX.shape[0]) if myidxs[i] == x]))\n",
    "    else:\n",
    "        subX = [myX]\n",
    "        \n",
    "    fig = plt.figure(figsize=(7,5))\n",
    "    for x in range(len(subX)):\n",
    "        newX = subX[x]\n",
    "        plt.plot(newX[:,0],newX[:,1],'o',color=colors[x],\n",
    "                 alpha=0.75, label='Data Points: Cluster %d'%x)\n",
    "    plt.xlabel('x1',fontsize=14)\n",
    "    plt.ylabel('x2',fontsize=14)\n",
    "    plt.title('Plot of X Points',fontsize=16)\n",
    "    plt.grid(True)\n",
    "\n",
    "    #Drawing a history of centroid movement\n",
    "    tempx, tempy = [], []\n",
    "    for mycentroid in mycentroids:\n",
    "        tempx.append(mycentroid[:,0])\n",
    "        tempy.append(mycentroid[:,1])\n",
    "    \n",
    "    for x in range(len(tempx[0])):\n",
    "        plt.plot(tempx, tempy, 'rx--', markersize=8)\n",
    "\n",
    "    leg = plt.legend(loc=4, framealpha=0.5)"
   ]
  },
  {
   "cell_type": "code",
   "execution_count": null,
   "metadata": {},
   "outputs": [],
   "source": [
    "def findClosestCentroids(myX, mycentroids):\n",
    "    \"\"\"\n",
    "    Function takes in the (m,n) X matrix\n",
    "    (where m is the # of points, n is # of features per point)\n",
    "    and the (K,n) centroid seed matrix\n",
    "    (where K is the # of centroids (clusters)\n",
    "    and returns a (m,1) vector of cluster indices \n",
    "    per point in X (0 through K-1)\n",
    "    \"\"\"\n",
    "    idxs = np.zeros((myX.shape[0],1))\n",
    "    \n",
    "    #Loop through each data point in X\n",
    "    for x in range(idxs.shape[0]):\n",
    "        mypoint = myX[x]\n",
    "        #Compare this point to each centroid,\n",
    "        #Keep track of shortest distance and index of shortest distance\n",
    "        mindist, idx = 9999999, 0\n",
    "        for i in range(mycentroids.shape[0]):\n",
    "            mycentroid = mycentroids[i]\n",
    "            distsquared = distSquared(mycentroid,mypoint)\n",
    "            if distsquared < mindist:\n",
    "                mindist = distsquared\n",
    "                idx = i\n",
    "        #With the best index found, modify the result idx vector\n",
    "        idxs[x] = idx\n",
    "        \n",
    "    return idxs"
   ]
  }
 ],
 "metadata": {
  "kernelspec": {
   "display_name": "Python 3",
   "language": "python",
   "name": "python3"
  },
  "language_info": {
   "codemirror_mode": {
    "name": "ipython",
    "version": 3
   },
   "file_extension": ".py",
   "mimetype": "text/x-python",
   "name": "python",
   "nbconvert_exporter": "python",
   "pygments_lexer": "ipython3",
   "version": "3.9.2"
  }
 },
 "nbformat": 4,
 "nbformat_minor": 4
}
