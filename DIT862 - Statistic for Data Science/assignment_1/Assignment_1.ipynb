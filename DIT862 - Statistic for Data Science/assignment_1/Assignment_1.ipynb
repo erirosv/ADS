{
 "cells": [
  {
   "attachments": {},
   "cell_type": "markdown",
   "metadata": {},
   "source": [
    "# DIT862 - Assignment 1 \n"
   ]
  },
  {
   "cell_type": "code",
   "execution_count": 2,
   "metadata": {},
   "outputs": [],
   "source": [
    "import pandas as pd\n",
    "import numpy as np\n",
    "import matplotlib.pyplot as plt\n",
    "import csv\n",
    "import seaborn as sns\n",
    "import math"
   ]
  },
  {
   "cell_type": "markdown",
   "metadata": {},
   "source": [
    "## Question 1"
   ]
  },
  {
   "cell_type": "code",
   "execution_count": 10,
   "metadata": {},
   "outputs": [],
   "source": [
    "df = pd.read_csv('houses.csv', header = None)"
   ]
  },
  {
   "cell_type": "code",
   "execution_count": 11,
   "metadata": {},
   "outputs": [],
   "source": [
    "# appending title/headers for the relevant columns in the csv file\n",
    "# if you run it, it will append title/headers again and it will mess up the formatting \n",
    "col_names = ['1','Price','3','4','5','6','7','8','9','10','11','City','13','Area', '15', '16']\n",
    "\n",
    "dff = df.to_csv('houses.csv', header=col_names, index=False)\n",
    "dff"
   ]
  },
  {
   "cell_type": "markdown",
   "metadata": {},
   "source": [
    "Run blocks below if you want"
   ]
  },
  {
   "cell_type": "code",
   "execution_count": 3,
   "metadata": {},
   "outputs": [],
   "source": [
    "df= pd.read_csv('houses.csv', sep=',')"
   ]
  },
  {
   "cell_type": "code",
   "execution_count": 4,
   "metadata": {},
   "outputs": [],
   "source": [
    "# Getting price column from csv file\n",
    "df_prop = df['Price']"
   ]
  },
  {
   "cell_type": "code",
   "execution_count": 5,
   "metadata": {},
   "outputs": [
    {
     "data": {
      "text/plain": [
       "0     52000\n",
       "1     57000\n",
       "2     69500\n",
       "3     84000\n",
       "4    110000\n",
       "Name: Price, dtype: int64"
      ]
     },
     "execution_count": 5,
     "metadata": {},
     "output_type": "execute_result"
    }
   ],
   "source": [
    "df_prop.head()"
   ]
  },
  {
   "cell_type": "code",
   "execution_count": 6,
   "metadata": {},
   "outputs": [],
   "source": [
    "# mean, median, standard deviation, minimum, and maximum\n",
    "mean = df_prop.mean()\n",
    "median = df_prop.median()\n",
    "std = df_prop.std()\n",
    "mini = df_prop.min()\n",
    "maxi = df_prop.max()"
   ]
  },
  {
   "cell_type": "code",
   "execution_count": 7,
   "metadata": {},
   "outputs": [
    {
     "name": "stdout",
     "output_type": "stream",
     "text": [
      "mean 174386.75374\n",
      "median 129000.0\n",
      "standard deviation 351463.39776390063\n",
      "min 150\n",
      "max 48465717\n"
     ]
    }
   ],
   "source": [
    "print('mean', mean)\n",
    "print('median', median)\n",
    "print('standard deviation', std)\n",
    "print('min', mini)\n",
    "print('max', maxi)"
   ]
  },
  {
   "cell_type": "markdown",
   "metadata": {},
   "source": [
    "The values above is from the house data-set. Its different mathematical operation on the \"Price\" column"
   ]
  },
  {
   "cell_type": "code",
   "execution_count": 9,
   "metadata": {},
   "outputs": [
    {
     "data": {
      "image/png": "[encoded data removed]",
      "text/plain": [
       "<Figure size 432x288 with 1 Axes>"
      ]
     },
     "metadata": {
      "needs_background": "light"
     },
     "output_type": "display_data"
    }
   ],
   "source": [
    "plt.hist(df_prop, density=False) \n",
    "plt.ylabel('Property price')\n",
    "plt.xlabel('Data');"
   ]
  },
  {
   "cell_type": "markdown",
   "metadata": {},
   "source": [
    "The histogram is so ugly because we are plotting 100000 prices vs nothing. There is nothing on the other axis. We could make it more informative by plotting prices vs things like area, city etc.\n",
    "\n",
    "In this question about making it more informative, we interpret it as just how we can make it so as a question and not as a prompt to make more plots that are what we say as solutions."
   ]
  },
  {
   "cell_type": "code",
   "execution_count": 10,
   "metadata": {},
   "outputs": [
    {
     "data": {
      "text/plain": [
       "Index(['1', 'Price', '3', '4', '5', '6', '7', '8', '9', '10', '11', 'City',\n",
       "       '13', 'Area', '15', '16'],\n",
       "      dtype='object')"
      ]
     },
     "execution_count": 10,
     "metadata": {},
     "output_type": "execute_result"
    }
   ],
   "source": [
    "df.columns"
   ]
  },
  {
   "cell_type": "code",
   "execution_count": 11,
   "metadata": {},
   "outputs": [
    {
     "name": "stdout",
     "output_type": "stream",
     "text": [
      "352491.93941660435\n"
     ]
    }
   ],
   "source": [
    "lon = df[df['City'] == 'LONDON']\n",
    "# Getting the mean price in London\n",
    "print(lon['Price'].mean())"
   ]
  },
  {
   "cell_type": "markdown",
   "metadata": {},
   "source": [
    "The mean for houses in London are: 352491.93941660435"
   ]
  },
  {
   "cell_type": "code",
   "execution_count": 12,
   "metadata": {},
   "outputs": [
    {
     "name": "stdout",
     "output_type": "stream",
     "text": [
      "158853.04133597165\n"
     ]
    }
   ],
   "source": [
    "lo = df[df['City'] != 'LONDON']\n",
    "# Getting the mean price NOT in London\n",
    "print(lo['Price'].mean())"
   ]
  },
  {
   "cell_type": "markdown",
   "metadata": {},
   "source": [
    "The mean for houses **NOT** in London are: 158853.04133597165"
   ]
  },
  {
   "cell_type": "code",
   "execution_count": 13,
   "metadata": {},
   "outputs": [],
   "source": [
    "lo_np = np.array(lo['Price'])\n",
    "lon_np = np.array(lon['Price'])"
   ]
  },
  {
   "cell_type": "code",
   "execution_count": 14,
   "metadata": {},
   "outputs": [],
   "source": [
    "# We are checking for outliers in the data, with a threashhold of 3.5\n",
    "def is_outlier(pp, thresh=3.5):\n",
    "    if len(pp.shape) == 1:\n",
    "        pp = pp[:,None]\n",
    "    med = np.median(pp, axis=0)\n",
    "    diff = np.sum((pp - med)**2, axis=-1)\n",
    "    diff = np.sqrt(diff)\n",
    "    mad = np.median(diff)\n",
    "\n",
    "    mzs = 0.6745 * diff / mad\n",
    "\n",
    "    return mzs > thresh"
   ]
  },
  {
   "cell_type": "code",
   "execution_count": 15,
   "metadata": {},
   "outputs": [],
   "source": [
    "# removing the outliers to the data\n",
    "t_lo = lo_np[~is_outlier(lo_np)]\n",
    "t_lon = lon_np[~is_outlier(lon_np)]"
   ]
  },
  {
   "cell_type": "code",
   "execution_count": 19,
   "metadata": {},
   "outputs": [
    {
     "data": {
      "image/png": "[encoded data removed]",
      "text/plain": [
       "<Figure size 432x288 with 1 Axes>"
      ]
     },
     "metadata": {
      "needs_background": "light"
     },
     "output_type": "display_data"
    }
   ],
   "source": [
    "# plotting the filtered data to a histogram\n",
    "gg = [t_lo, t_lon]\n",
    "plt.hist(gg)\n",
    "plt.ylabel('Price')\n",
    "plt.xlabel('Prevalence');\n",
    "plt.show()"
   ]
  },
  {
   "cell_type": "markdown",
   "metadata": {},
   "source": [
    "**BLUE** = not London\n",
    "\n",
    "**ORANGE** = London\n",
    "\n",
    "- Mean for London: 352491.93941660435\n",
    "- Mean **NOT** including London: 158853.04133597165\n",
    "\n",
    "Real estate in London isn’t just more expensive but on average 2.2 times more expensive than cities outside of London. The graph doesn’t display the whole story as we’ve filtered out outliers from the plot to make it more illustrative. \n",
    "\n",
    "**NOTE** This data from column 12 in the house.csv"
   ]
  },
  {
   "cell_type": "markdown",
   "metadata": {},
   "source": [
    "# Question 2"
   ]
  },
  {
   "cell_type": "markdown",
   "metadata": {},
   "source": [
    "Importing the titanic data set"
   ]
  },
  {
   "cell_type": "code",
   "execution_count": 59,
   "metadata": {},
   "outputs": [],
   "source": [
    "data_frame = pd.read_csv('titanic_train.csv', sep=',')\n",
    "#data_frame "
   ]
  },
  {
   "cell_type": "markdown",
   "metadata": {},
   "source": [
    "### A)"
   ]
  },
  {
   "cell_type": "code",
   "execution_count": 24,
   "metadata": {
    "scrolled": true
   },
   "outputs": [
    {
     "data": {
      "text/plain": [
       "0    S\n",
       "1    C\n",
       "2    S\n",
       "3    S\n",
       "4    S\n",
       "Name: Embarked, dtype: object"
      ]
     },
     "execution_count": 24,
     "metadata": {},
     "output_type": "execute_result"
    }
   ],
   "source": [
    "# checking that it works\n",
    "data_frame['Embarked'].head()"
   ]
  },
  {
   "cell_type": "markdown",
   "metadata": {},
   "source": [
    "Embarked is from which city they borded the titanic. This is ***nominal data***"
   ]
  },
  {
   "cell_type": "code",
   "execution_count": 25,
   "metadata": {},
   "outputs": [
    {
     "data": {
      "text/plain": [
       "<seaborn.axisgrid.FacetGrid at 0x149ed2aa490>"
      ]
     },
     "execution_count": 25,
     "metadata": {},
     "output_type": "execute_result"
    },
    {
     "data": {
      "image/png": "[encoded data removed]",
      "text/plain": [
       "<Figure size 360x360 with 1 Axes>"
      ]
     },
     "metadata": {
      "needs_background": "light"
     },
     "output_type": "display_data"
    }
   ],
   "source": [
    "# plotting embarked as a histogram\n",
    "sns.displot(data_frame, x=\"Embarked\")"
   ]
  },
  {
   "cell_type": "code",
   "execution_count": 26,
   "metadata": {
    "scrolled": true
   },
   "outputs": [
    {
     "data": {
      "text/plain": [
       "0    3\n",
       "1    1\n",
       "2    3\n",
       "3    1\n",
       "4    3\n",
       "Name: Pclass, dtype: int64"
      ]
     },
     "execution_count": 26,
     "metadata": {},
     "output_type": "execute_result"
    }
   ],
   "source": [
    "# checking that it works\n",
    "data_frame['Pclass'].head()"
   ]
  },
  {
   "cell_type": "markdown",
   "metadata": {},
   "source": [
    "PClass is there ticket class (first, second, third). This is ***ordinal data*** because unlike the previous question which was about where they boarded this defines the level of luxury etc. "
   ]
  },
  {
   "cell_type": "code",
   "execution_count": 55,
   "metadata": {},
   "outputs": [
    {
     "data": {
      "text/plain": [
       "<seaborn.axisgrid.FacetGrid at 0x149ee47ed00>"
      ]
     },
     "execution_count": 55,
     "metadata": {},
     "output_type": "execute_result"
    },
    {
     "data": {
      "image/png": "[encoded data removed]",
      "text/plain": [
       "<Figure size 360x360 with 1 Axes>"
      ]
     },
     "metadata": {
      "needs_background": "light"
     },
     "output_type": "display_data"
    }
   ],
   "source": [
    "# plotting Pclass as a histogram\n",
    "sns.displot(data_frame, x=\"Pclass\")"
   ]
  },
  {
   "cell_type": "code",
   "execution_count": 56,
   "metadata": {},
   "outputs": [
    {
     "data": {
      "text/plain": [
       "0    0\n",
       "1    0\n",
       "2    0\n",
       "3    0\n",
       "4    0\n",
       "Name: Parch, dtype: int64"
      ]
     },
     "execution_count": 56,
     "metadata": {},
     "output_type": "execute_result"
    }
   ],
   "source": [
    "# checking that it works\n",
    "data_frame['Parch'].head()"
   ]
  },
  {
   "cell_type": "markdown",
   "metadata": {},
   "source": [
    "Parch is the number of parents/childrens on board. This data is ***discrete data***"
   ]
  },
  {
   "cell_type": "code",
   "execution_count": 29,
   "metadata": {},
   "outputs": [
    {
     "data": {
      "text/plain": [
       "<seaborn.axisgrid.FacetGrid at 0x149ed40f0d0>"
      ]
     },
     "execution_count": 29,
     "metadata": {},
     "output_type": "execute_result"
    },
    {
     "data": {
      "image/png": "[encoded data removed]",
      "text/plain": [
       "<Figure size 360x360 with 1 Axes>"
      ]
     },
     "metadata": {
      "needs_background": "light"
     },
     "output_type": "display_data"
    }
   ],
   "source": [
    "# plotting Parch as a histogram\n",
    "sns.displot(data_frame, x=\"Parch\")"
   ]
  },
  {
   "cell_type": "code",
   "execution_count": 30,
   "metadata": {},
   "outputs": [
    {
     "data": {
      "text/plain": [
       "0     7.2500\n",
       "1    71.2833\n",
       "2     7.9250\n",
       "3    53.1000\n",
       "4     8.0500\n",
       "Name: Fare, dtype: float64"
      ]
     },
     "execution_count": 30,
     "metadata": {},
     "output_type": "execute_result"
    }
   ],
   "source": [
    "# checking that it works\n",
    "data_frame['Fare'].head()"
   ]
  },
  {
   "cell_type": "markdown",
   "metadata": {},
   "source": [
    "This is ***numerical data***. Fare is the price"
   ]
  },
  {
   "cell_type": "code",
   "execution_count": 31,
   "metadata": {},
   "outputs": [
    {
     "data": {
      "text/plain": [
       "<seaborn.axisgrid.FacetGrid at 0x149ed3ce4f0>"
      ]
     },
     "execution_count": 31,
     "metadata": {},
     "output_type": "execute_result"
    },
    {
     "data": {
      "image/png": "[encoded data removed]",
      "text/plain": [
       "<Figure size 360x360 with 1 Axes>"
      ]
     },
     "metadata": {
      "needs_background": "light"
     },
     "output_type": "display_data"
    }
   ],
   "source": [
    "# plotting Fare as a histogram\n",
    "sns.displot(data_frame, x=\"Fare\")"
   ]
  },
  {
   "cell_type": "markdown",
   "metadata": {},
   "source": [
    "### B)"
   ]
  },
  {
   "cell_type": "markdown",
   "metadata": {},
   "source": [
    "For B and C: We compared our results with np.digitize and other numpy functions as suggested in the problem description but we've removed it from the notebook as it doesn't add anything now after. Scince we created our own methods."
   ]
  },
  {
   "cell_type": "code",
   "execution_count": 53,
   "metadata": {},
   "outputs": [],
   "source": [
    "aa = data_frame['Parch']\n",
    "lp = list(aa)\n",
    "for i in range(len(lp)):\n",
    "    for j in range(i + 1, len(lp)):\n",
    "\n",
    "        if lp[i] > lp[j]:\n",
    "            lp[i], lp[j] = lp[j], lp[i]\n",
    "\n",
    "#print(lp)"
   ]
  },
  {
   "cell_type": "code",
   "execution_count": 74,
   "metadata": {
    "scrolled": true
   },
   "outputs": [
    {
     "data": {
      "text/plain": [
       "(array([678., 118.,   0.,  80.,   0.,   5.,   4.,   0.,   5.,   1.]),\n",
       " array([0. , 0.6, 1.2, 1.8, 2.4, 3. , 3.6, 4.2, 4.8, 5.4, 6. ]),\n",
       " <BarContainer object of 10 artists>)"
      ]
     },
     "execution_count": 74,
     "metadata": {},
     "output_type": "execute_result"
    },
    {
     "data": {
      "image/png": "[encoded data removed]",
      "text/plain": [
       "<Figure size 432x288 with 1 Axes>"
      ]
     },
     "metadata": {
      "needs_background": "light"
     },
     "output_type": "display_data"
    }
   ],
   "source": [
    "plt.hist(lp)"
   ]
  },
  {
   "cell_type": "markdown",
   "metadata": {},
   "source": [
    "Our own version of quantize"
   ]
  },
  {
   "cell_type": "code",
   "execution_count": 21,
   "metadata": {},
   "outputs": [],
   "source": [
    "def quantize(val, to_values):\n",
    "    bm = None\n",
    "    bmd = None\n",
    "    for other_val in to_values:\n",
    "        diff = abs(other_val - val)\n",
    "        if bm is None or diff < bmd:\n",
    "            bm = other_val\n",
    "            bmd = diff\n",
    "    return bm"
   ]
  },
  {
   "cell_type": "code",
   "execution_count": 130,
   "metadata": {
    "scrolled": true
   },
   "outputs": [
    {
     "data": {
      "text/plain": [
       "69.3"
      ]
     },
     "execution_count": 130,
     "metadata": {},
     "output_type": "execute_result"
    }
   ],
   "source": [
    "f_test = quantize(69, data_frame['Fare'])\n",
    "f_test"
   ]
  },
  {
   "cell_type": "markdown",
   "metadata": {},
   "source": [
    "Our own splitIntoBins"
   ]
  },
  {
   "cell_type": "code",
   "execution_count": 36,
   "metadata": {},
   "outputs": [],
   "source": [
    "def splitIntoBins(arr, n_bin, mini=None, maxi=None):\n",
    "    mini = min(arr) if mini is None else mini \n",
    "    maxi = max(arr) if maxi is None else maxi \n",
    "    \n",
    "    b_width = (maxi - mini) / n_bin \n",
    "    a_bins = [[] for _ in range(n_bin)] \n",
    "\n",
    "    for elem in arr:\n",
    "        b_num = int((elem - mini) // b_width) \n",
    "        b_index = min(n_bin-1, b_num) \n",
    "        a_bins[b_index].append(elem) \n",
    "    return a_bins"
   ]
  },
  {
   "cell_type": "code",
   "execution_count": 37,
   "metadata": {
    "scrolled": true
   },
   "outputs": [
    {
     "data": {
      "text/plain": [
       "[[7.25,\n",
       "  7.925,\n",
       "  8.05,\n",
       "  8.4583,\n",
       "  21.075,\n",
       "  11.1333,\n",
       "  16.7,\n",
       "  8.05,\n",
       "  7.8542,\n",
       "  16.0,\n",
       "  13.0,\n",
       "  18.0,\n",
       "  7.225,\n",
       "  13.0,\n",
       "  8.0292,\n",
       "  21.075,\n",
       "  7.225,\n",
       "  7.8792,\n",
       "  7.8958,\n",
       "  7.75,\n",
       "  10.5,\n",
       "  7.2292,\n",
       "  8.05,\n",
       "  18.0,\n",
       "  11.2417,\n",
       "  9.475,\n",
       "  21.0,\n",
       "  7.8958,\n",
       "  7.8792,\n",
       "  8.05,\n",
       "  15.5,\n",
       "  7.75,\n",
       "  21.6792,\n",
       "  17.8,\n",
       "  7.8,\n",
       "  10.5,\n",
       "  7.2292,\n",
       "  7.2292,\n",
       "  15.2458,\n",
       "  10.5,\n",
       "  8.1583,\n",
       "  7.925,\n",
       "  8.6625,\n",
       "  10.5,\n",
       "  14.4542,\n",
       "  7.65,\n",
       "  7.8958,\n",
       "  8.05,\n",
       "  12.475,\n",
       "  9.0,\n",
       "  9.5,\n",
       "  7.7875,\n",
       "  10.5,\n",
       "  15.85,\n",
       "  8.05,\n",
       "  8.05,\n",
       "  8.05,\n",
       "  7.8542,\n",
       "  20.575,\n",
       "  7.25,\n",
       "  8.05,\n",
       "  23.0,\n",
       "  7.8958,\n",
       "  7.8958,\n",
       "  8.6542,\n",
       "  7.925,\n",
       "  7.8958,\n",
       "  7.65,\n",
       "  7.775,\n",
       "  7.8958,\n",
       "  24.15,\n",
       "  14.4542,\n",
       "  8.05,\n",
       "  9.825,\n",
       "  14.4583,\n",
       "  7.925,\n",
       "  7.75,\n",
       "  21.0,\n",
       "  8.05,\n",
       "  13.0,\n",
       "  11.2417,\n",
       "  7.75,\n",
       "  7.1417,\n",
       "  22.3583,\n",
       "  6.975,\n",
       "  7.8958,\n",
       "  7.05,\n",
       "  14.5,\n",
       "  13.0,\n",
       "  15.0458,\n",
       "  9.2167,\n",
       "  15.2458,\n",
       "  7.75,\n",
       "  15.85,\n",
       "  6.75,\n",
       "  11.5,\n",
       "  7.7958,\n",
       "  13.0,\n",
       "  12.525,\n",
       "  8.05,\n",
       "  14.5,\n",
       "  7.3125,\n",
       "  7.7333,\n",
       "  8.05,\n",
       "  8.6625,\n",
       "  16.1,\n",
       "  15.75,\n",
       "  7.775,\n",
       "  8.6625,\n",
       "  20.525,\n",
       "  11.1333,\n",
       "  7.925,\n",
       "  7.8542,\n",
       "  25.4667,\n",
       "  13.0,\n",
       "  0.0,\n",
       "  15.05,\n",
       "  22.025,\n",
       "  15.5,\n",
       "  15.5,\n",
       "  7.8958,\n",
       "  13.0,\n",
       "  13.0,\n",
       "  7.8542,\n",
       "  7.75,\n",
       "  8.4042,\n",
       "  7.75,\n",
       "  13.0,\n",
       "  9.5,\n",
       "  6.4958,\n",
       "  7.225,\n",
       "  8.05,\n",
       "  10.4625,\n",
       "  15.85,\n",
       "  18.7875,\n",
       "  7.75,\n",
       "  7.05,\n",
       "  21.0,\n",
       "  7.25,\n",
       "  13.0,\n",
       "  7.75,\n",
       "  7.925,\n",
       "  10.5,\n",
       "  8.05,\n",
       "  13.0,\n",
       "  8.05,\n",
       "  7.8958,\n",
       "  9.35,\n",
       "  10.5,\n",
       "  7.25,\n",
       "  13.0,\n",
       "  25.4667,\n",
       "  7.775,\n",
       "  13.5,\n",
       "  10.5,\n",
       "  7.55,\n",
       "  10.5,\n",
       "  12.275,\n",
       "  14.4542,\n",
       "  15.5,\n",
       "  10.5,\n",
       "  7.125,\n",
       "  7.225,\n",
       "  7.775,\n",
       "  14.5,\n",
       "  7.25,\n",
       "  10.4625,\n",
       "  16.1,\n",
       "  20.2125,\n",
       "  15.2458,\n",
       "  7.75,\n",
       "  0.0,\n",
       "  7.75,\n",
       "  10.5,\n",
       "  7.775,\n",
       "  0.0,\n",
       "  19.5,\n",
       "  7.75,\n",
       "  7.75,\n",
       "  0.0,\n",
       "  20.25,\n",
       "  7.75,\n",
       "  7.8542,\n",
       "  9.5,\n",
       "  8.05,\n",
       "  8.6625,\n",
       "  9.5,\n",
       "  7.8958,\n",
       "  13.0,\n",
       "  7.75,\n",
       "  12.875,\n",
       "  8.85,\n",
       "  7.8958,\n",
       "  7.2292,\n",
       "  7.75,\n",
       "  23.25,\n",
       "  0.0,\n",
       "  12.35,\n",
       "  8.05,\n",
       "  24.0,\n",
       "  7.8958,\n",
       "  7.8542,\n",
       "  14.0,\n",
       "  7.25,\n",
       "  7.8958,\n",
       "  12.35,\n",
       "  6.2375,\n",
       "  13.0,\n",
       "  20.525,\n",
       "  23.25,\n",
       "  18.0,\n",
       "  7.8958,\n",
       "  8.05,\n",
       "  13.0,\n",
       "  13.0,\n",
       "  13.0,\n",
       "  13.0,\n",
       "  13.0,\n",
       "  16.1,\n",
       "  15.9,\n",
       "  8.6625,\n",
       "  9.225,\n",
       "  7.2292,\n",
       "  17.8,\n",
       "  7.225,\n",
       "  9.5,\n",
       "  13.0,\n",
       "  7.8792,\n",
       "  7.8792,\n",
       "  14.4542,\n",
       "  7.05,\n",
       "  15.5,\n",
       "  7.25,\n",
       "  7.2292,\n",
       "  7.75,\n",
       "  6.4958,\n",
       "  8.05,\n",
       "  21.075,\n",
       "  7.25,\n",
       "  4.0125,\n",
       "  7.775,\n",
       "  15.7417,\n",
       "  7.925,\n",
       "  7.8958,\n",
       "  13.0,\n",
       "  7.7292,\n",
       "  12.0,\n",
       "  7.7958,\n",
       "  7.925,\n",
       "  16.7,\n",
       "  7.7958,\n",
       "  7.8542,\n",
       "  10.5,\n",
       "  12.65,\n",
       "  7.925,\n",
       "  8.05,\n",
       "  9.825,\n",
       "  15.85,\n",
       "  8.6625,\n",
       "  21.0,\n",
       "  7.75,\n",
       "  18.75,\n",
       "  7.775,\n",
       "  25.4667,\n",
       "  7.8958,\n",
       "  6.8583,\n",
       "  0.0,\n",
       "  7.925,\n",
       "  8.05,\n",
       "  13.0,\n",
       "  13.0,\n",
       "  24.15,\n",
       "  7.8958,\n",
       "  7.7333,\n",
       "  7.875,\n",
       "  14.4,\n",
       "  20.2125,\n",
       "  7.25,\n",
       "  7.75,\n",
       "  8.05,\n",
       "  16.1,\n",
       "  7.125,\n",
       "  18.75,\n",
       "  10.5,\n",
       "  9.5,\n",
       "  7.775,\n",
       "  13.0,\n",
       "  8.1125,\n",
       "  19.5,\n",
       "  19.2583,\n",
       "  19.9667,\n",
       "  8.05,\n",
       "  7.8958,\n",
       "  10.5,\n",
       "  7.75,\n",
       "  8.05,\n",
       "  13.0,\n",
       "  8.05,\n",
       "  7.05,\n",
       "  0.0,\n",
       "  7.725,\n",
       "  19.2583,\n",
       "  7.25,\n",
       "  8.6625,\n",
       "  13.7917,\n",
       "  9.8375,\n",
       "  21.0,\n",
       "  7.0458,\n",
       "  7.5208,\n",
       "  12.2875,\n",
       "  0.0,\n",
       "  8.05,\n",
       "  9.5875,\n",
       "  25.4667,\n",
       "  8.05,\n",
       "  15.9,\n",
       "  19.9667,\n",
       "  7.25,\n",
       "  8.05,\n",
       "  14.4583,\n",
       "  15.1,\n",
       "  7.7958,\n",
       "  8.6625,\n",
       "  7.75,\n",
       "  7.6292,\n",
       "  9.5875,\n",
       "  22.525,\n",
       "  7.75,\n",
       "  8.05,\n",
       "  7.4958,\n",
       "  10.5,\n",
       "  24.15,\n",
       "  7.8958,\n",
       "  7.8958,\n",
       "  7.225,\n",
       "  7.2292,\n",
       "  7.75,\n",
       "  10.5,\n",
       "  7.925,\n",
       "  11.5,\n",
       "  7.2292,\n",
       "  7.2292,\n",
       "  22.3583,\n",
       "  8.6625,\n",
       "  14.5,\n",
       "  13.8625,\n",
       "  20.525,\n",
       "  7.8292,\n",
       "  7.225,\n",
       "  7.775,\n",
       "  17.4,\n",
       "  7.75,\n",
       "  7.8958,\n",
       "  13.5,\n",
       "  8.05,\n",
       "  8.05,\n",
       "  24.15,\n",
       "  7.8958,\n",
       "  21.075,\n",
       "  7.2292,\n",
       "  7.8542,\n",
       "  10.5,\n",
       "  7.75,\n",
       "  8.05,\n",
       "  14.5,\n",
       "  13.0,\n",
       "  14.4583,\n",
       "  7.925,\n",
       "  8.7125,\n",
       "  15.0,\n",
       "  8.05,\n",
       "  8.05,\n",
       "  7.125,\n",
       "  7.25,\n",
       "  7.75,\n",
       "  24.15,\n",
       "  0.0,\n",
       "  7.225,\n",
       "  7.8958,\n",
       "  8.05,\n",
       "  15.55,\n",
       "  7.8958,\n",
       "  7.05,\n",
       "  15.5,\n",
       "  7.75,\n",
       "  8.05,\n",
       "  14.4,\n",
       "  16.1,\n",
       "  10.5,\n",
       "  14.4542,\n",
       "  15.7417,\n",
       "  7.8542,\n",
       "  16.1,\n",
       "  12.35,\n",
       "  7.8958,\n",
       "  7.7333,\n",
       "  7.0542,\n",
       "  0.0,\n",
       "  13.0,\n",
       "  7.925,\n",
       "  16.1,\n",
       "  7.8542,\n",
       "  19.2583,\n",
       "  7.8958,\n",
       "  7.55,\n",
       "  7.55,\n",
       "  7.8958,\n",
       "  23.0,\n",
       "  8.4333,\n",
       "  7.8292,\n",
       "  6.75,\n",
       "  7.8958,\n",
       "  15.5,\n",
       "  13.0,\n",
       "  7.225,\n",
       "  25.5875,\n",
       "  7.4958,\n",
       "  7.925,\n",
       "  13.0,\n",
       "  7.775,\n",
       "  8.05,\n",
       "  10.5,\n",
       "  13.0,\n",
       "  0.0,\n",
       "  7.775,\n",
       "  8.05,\n",
       "  9.8417,\n",
       "  8.1375,\n",
       "  9.225,\n",
       "  10.1708,\n",
       "  7.7958,\n",
       "  13.4167,\n",
       "  7.225,\n",
       "  13.5,\n",
       "  8.05,\n",
       "  7.7333,\n",
       "  7.65,\n",
       "  14.4542,\n",
       "  7.7417,\n",
       "  7.8542,\n",
       "  13.5,\n",
       "  15.2458,\n",
       "  9.4833,\n",
       "  13.0,\n",
       "  7.65,\n",
       "  10.5,\n",
       "  15.5,\n",
       "  7.775,\n",
       "  7.0542,\n",
       "  13.0,\n",
       "  13.0,\n",
       "  8.6625,\n",
       "  21.0,\n",
       "  7.7375,\n",
       "  7.925,\n",
       "  18.7875,\n",
       "  0.0,\n",
       "  13.0,\n",
       "  13.0,\n",
       "  16.1,\n",
       "  7.8958,\n",
       "  7.8958,\n",
       "  16.1,\n",
       "  7.925,\n",
       "  20.25,\n",
       "  13.0,\n",
       "  7.75,\n",
       "  23.0,\n",
       "  12.475,\n",
       "  9.5,\n",
       "  7.8958,\n",
       "  14.5,\n",
       "  7.7958,\n",
       "  11.5,\n",
       "  8.05,\n",
       "  14.5,\n",
       "  7.125,\n",
       "  7.2292,\n",
       "  7.775,\n",
       "  7.75,\n",
       "  24.15,\n",
       "  8.3625,\n",
       "  9.5,\n",
       "  7.8542,\n",
       "  10.5,\n",
       "  7.225,\n",
       "  23.0,\n",
       "  7.75,\n",
       "  7.75,\n",
       "  12.475,\n",
       "  7.7375,\n",
       "  7.2292,\n",
       "  23.45,\n",
       "  7.05,\n",
       "  7.25,\n",
       "  7.4958,\n",
       "  20.575,\n",
       "  7.75,\n",
       "  7.8958,\n",
       "  13.0,\n",
       "  8.6833,\n",
       "  7.2292,\n",
       "  24.15,\n",
       "  13.0,\n",
       "  8.5167,\n",
       "  6.975,\n",
       "  7.775,\n",
       "  0.0,\n",
       "  7.775,\n",
       "  13.0,\n",
       "  7.8875,\n",
       "  24.15,\n",
       "  10.5,\n",
       "  8.05,\n",
       "  0.0,\n",
       "  7.925,\n",
       "  6.45,\n",
       "  8.6625,\n",
       "  0.0,\n",
       "  12.475,\n",
       "  6.95,\n",
       "  7.75,\n",
       "  14.4542,\n",
       "  18.75,\n",
       "  7.2292,\n",
       "  7.8542,\n",
       "  8.3,\n",
       "  8.6625,\n",
       "  8.05,\n",
       "  7.925,\n",
       "  10.5,\n",
       "  6.4375,\n",
       "  8.6625,\n",
       "  7.55,\n",
       "  7.8958,\n",
       "  7.775,\n",
       "  15.2458,\n",
       "  9.35,\n",
       "  19.2583,\n",
       "  7.2292,\n",
       "  14.1083,\n",
       "  11.5,\n",
       "  13.0,\n",
       "  13.0,\n",
       "  13.8583,\n",
       "  9.5,\n",
       "  11.1333,\n",
       "  7.8958,\n",
       "  5.0,\n",
       "  9.0,\n",
       "  24.0,\n",
       "  7.225,\n",
       "  9.8458,\n",
       "  7.8958,\n",
       "  7.8958,\n",
       "  7.8958,\n",
       "  10.5167,\n",
       "  10.5,\n",
       "  7.05,\n",
       "  13.0,\n",
       "  23.45,\n",
       "  7.75],\n",
       " [30.0708,\n",
       "  26.55,\n",
       "  31.275,\n",
       "  29.125,\n",
       "  26.0,\n",
       "  35.5,\n",
       "  31.3875,\n",
       "  27.7208,\n",
       "  41.5792,\n",
       "  39.6875,\n",
       "  26.0,\n",
       "  35.5,\n",
       "  27.75,\n",
       "  46.9,\n",
       "  27.9,\n",
       "  27.7208,\n",
       "  46.9,\n",
       "  29.0,\n",
       "  47.1,\n",
       "  34.375,\n",
       "  34.6542,\n",
       "  26.0,\n",
       "  31.275,\n",
       "  30.0708,\n",
       "  26.0,\n",
       "  26.2833,\n",
       "  36.75,\n",
       "  34.375,\n",
       "  26.0,\n",
       "  39.6875,\n",
       "  27.9,\n",
       "  25.925,\n",
       "  33.5,\n",
       "  29.125,\n",
       "  30.6958,\n",
       "  28.7125,\n",
       "  31.3875,\n",
       "  39.0,\n",
       "  50.0,\n",
       "  26.55,\n",
       "  26.0,\n",
       "  27.7208,\n",
       "  31.0,\n",
       "  27.0,\n",
       "  31.3875,\n",
       "  26.0,\n",
       "  26.25,\n",
       "  26.0,\n",
       "  26.55,\n",
       "  26.0,\n",
       "  31.3875,\n",
       "  39.6875,\n",
       "  31.0,\n",
       "  29.7,\n",
       "  29.125,\n",
       "  26.0,\n",
       "  27.7208,\n",
       "  30.5,\n",
       "  26.0,\n",
       "  26.25,\n",
       "  26.0,\n",
       "  29.0,\n",
       "  28.5,\n",
       "  35.5,\n",
       "  26.0,\n",
       "  35.0,\n",
       "  27.9,\n",
       "  27.7208,\n",
       "  46.9,\n",
       "  26.0,\n",
       "  32.5,\n",
       "  26.0,\n",
       "  26.0,\n",
       "  26.55,\n",
       "  26.0,\n",
       "  34.375,\n",
       "  26.25,\n",
       "  26.55,\n",
       "  30.5,\n",
       "  27.75,\n",
       "  27.75,\n",
       "  26.55,\n",
       "  26.55,\n",
       "  38.5,\n",
       "  26.55,\n",
       "  27.75,\n",
       "  46.9,\n",
       "  29.7,\n",
       "  30.5,\n",
       "  49.5042,\n",
       "  26.0,\n",
       "  26.55,\n",
       "  26.2875,\n",
       "  34.0208,\n",
       "  26.0,\n",
       "  26.0,\n",
       "  26.25,\n",
       "  26.55,\n",
       "  49.5,\n",
       "  31.275,\n",
       "  31.275,\n",
       "  26.0,\n",
       "  26.0,\n",
       "  26.0,\n",
       "  36.75,\n",
       "  26.0,\n",
       "  26.55,\n",
       "  39.6,\n",
       "  26.3875,\n",
       "  30.0,\n",
       "  26.0,\n",
       "  40.125,\n",
       "  26.0,\n",
       "  33.0,\n",
       "  27.0,\n",
       "  42.4,\n",
       "  26.55,\n",
       "  30.5,\n",
       "  41.5792,\n",
       "  31.275,\n",
       "  39.0,\n",
       "  32.3208,\n",
       "  30.0,\n",
       "  30.5,\n",
       "  27.9,\n",
       "  26.25,\n",
       "  39.6875,\n",
       "  27.9,\n",
       "  35.5,\n",
       "  39.0,\n",
       "  46.9,\n",
       "  46.9,\n",
       "  39.0,\n",
       "  41.5792,\n",
       "  39.6875,\n",
       "  26.55,\n",
       "  26.2875,\n",
       "  26.0,\n",
       "  26.2875,\n",
       "  49.5042,\n",
       "  26.55,\n",
       "  33.0,\n",
       "  26.0,\n",
       "  34.375,\n",
       "  30.0,\n",
       "  39.6,\n",
       "  30.0,\n",
       "  29.125,\n",
       "  26.0,\n",
       "  30.6958,\n",
       "  25.9292,\n",
       "  26.25,\n",
       "  31.275,\n",
       "  37.0042,\n",
       "  27.9,\n",
       "  39.6875,\n",
       "  37.0042,\n",
       "  29.7,\n",
       "  31.0,\n",
       "  33.0,\n",
       "  31.275,\n",
       "  39.4,\n",
       "  26.0,\n",
       "  26.55,\n",
       "  25.9292,\n",
       "  50.4958,\n",
       "  26.0,\n",
       "  29.125,\n",
       "  30.0,\n",
       "  30.0],\n",
       " [71.2833,\n",
       "  53.1,\n",
       "  51.8625,\n",
       "  52.0,\n",
       "  76.7292,\n",
       "  61.9792,\n",
       "  73.5,\n",
       "  56.4958,\n",
       "  61.175,\n",
       "  63.3583,\n",
       "  52.0,\n",
       "  73.5,\n",
       "  53.1,\n",
       "  66.6,\n",
       "  61.3792,\n",
       "  69.55,\n",
       "  55.0,\n",
       "  56.4958,\n",
       "  69.55,\n",
       "  69.55,\n",
       "  76.2917,\n",
       "  52.5542,\n",
       "  56.9292,\n",
       "  69.55,\n",
       "  57.9792,\n",
       "  66.6,\n",
       "  55.0,\n",
       "  75.25,\n",
       "  69.3,\n",
       "  55.4417,\n",
       "  52.0,\n",
       "  73.5,\n",
       "  55.9,\n",
       "  51.8625,\n",
       "  52.0,\n",
       "  56.4958,\n",
       "  59.4,\n",
       "  57.9792,\n",
       "  71.0,\n",
       "  51.4792,\n",
       "  55.9,\n",
       "  56.9292,\n",
       "  65.0,\n",
       "  52.5542,\n",
       "  69.3,\n",
       "  56.4958,\n",
       "  76.7292,\n",
       "  73.5,\n",
       "  73.5,\n",
       "  52.0,\n",
       "  52.0,\n",
       "  76.7292,\n",
       "  57.0,\n",
       "  56.4958,\n",
       "  52.0,\n",
       "  53.1,\n",
       "  71.0,\n",
       "  53.1,\n",
       "  65.0,\n",
       "  57.0,\n",
       "  69.55,\n",
       "  53.1,\n",
       "  56.4958,\n",
       "  56.4958,\n",
       "  69.55,\n",
       "  69.55,\n",
       "  52.5542],\n",
       " [82.1708,\n",
       "  80.0,\n",
       "  83.475,\n",
       "  77.2875,\n",
       "  77.2875,\n",
       "  79.2,\n",
       "  90.0,\n",
       "  83.475,\n",
       "  90.0,\n",
       "  79.2,\n",
       "  86.5,\n",
       "  79.65,\n",
       "  77.9583,\n",
       "  78.85,\n",
       "  91.0792,\n",
       "  83.1583,\n",
       "  82.1708,\n",
       "  90.0,\n",
       "  81.8583,\n",
       "  89.1042,\n",
       "  91.0792,\n",
       "  90.0,\n",
       "  78.2667,\n",
       "  86.5,\n",
       "  93.5,\n",
       "  79.65,\n",
       "  79.65,\n",
       "  79.2,\n",
       "  78.2667,\n",
       "  77.9583,\n",
       "  78.85,\n",
       "  86.5,\n",
       "  77.9583,\n",
       "  79.2,\n",
       "  93.5,\n",
       "  80.0,\n",
       "  83.1583,\n",
       "  89.1042,\n",
       "  83.1583],\n",
       " [113.275,\n",
       "  110.8833,\n",
       "  108.9,\n",
       "  120.0,\n",
       "  113.275,\n",
       "  120.0,\n",
       "  108.9,\n",
       "  106.425,\n",
       "  106.425,\n",
       "  110.8833,\n",
       "  110.8833,\n",
       "  113.275,\n",
       "  110.8833,\n",
       "  120.0,\n",
       "  120.0],\n",
       " [146.5208,\n",
       "  146.5208,\n",
       "  153.4625,\n",
       "  135.6333,\n",
       "  151.55,\n",
       "  151.55,\n",
       "  134.5,\n",
       "  135.6333,\n",
       "  153.4625,\n",
       "  133.65,\n",
       "  134.5,\n",
       "  135.6333,\n",
       "  151.55,\n",
       "  153.4625,\n",
       "  133.65,\n",
       "  151.55],\n",
       " [164.8667, 164.8667],\n",
       " [],\n",
       " [211.5,\n",
       "  227.525,\n",
       "  221.7792,\n",
       "  227.525,\n",
       "  211.3375,\n",
       "  227.525,\n",
       "  227.525,\n",
       "  211.3375,\n",
       "  211.3375],\n",
       " [247.5208, 247.5208],\n",
       " [263.0, 263.0, 262.375, 263.0, 263.0, 262.375],\n",
       " [],\n",
       " [],\n",
       " [],\n",
       " [],\n",
       " [],\n",
       " [],\n",
       " [],\n",
       " [],\n",
       " [512.3292, 512.3292, 512.3292]]"
      ]
     },
     "execution_count": 37,
     "metadata": {},
     "output_type": "execute_result"
    }
   ],
   "source": [
    "obin = splitIntoBins(data_frame['Fare'], 20)\n",
    "len(obin)\n",
    "obin"
   ]
  },
  {
   "cell_type": "code",
   "execution_count": 38,
   "metadata": {
    "scrolled": false
   },
   "outputs": [
    {
     "data": {
      "image/png": "[encoded data removed]",
      "text/plain": [
       "<Figure size 432x288 with 1 Axes>"
      ]
     },
     "metadata": {
      "needs_background": "light"
     },
     "output_type": "display_data"
    }
   ],
   "source": [
    "plt.hist(obin)\n",
    "plt.ylabel('Amount')\n",
    "plt.xlabel('Price');"
   ]
  },
  {
   "cell_type": "markdown",
   "metadata": {},
   "source": [
    "We decided not to filter out outliers not regulate the size of the graph therefore it looks extremly scewed to the left however this was the most accurate representation of the data so we wanted to illustrative. "
   ]
  },
  {
   "cell_type": "markdown",
   "metadata": {},
   "source": [
    "### C)"
   ]
  },
  {
   "cell_type": "code",
   "execution_count": 40,
   "metadata": {},
   "outputs": [],
   "source": [
    "a = data_frame['Fare']\n",
    "l = list(a)\n",
    "for i in range(len(l)):\n",
    "    for j in range(i + 1, len(l)):\n",
    "\n",
    "        if l[i] > l[j]:\n",
    "           l[i], l[j] = l[j], l[i]\n",
    "\n",
    "#print(l)"
   ]
  },
  {
   "cell_type": "markdown",
   "metadata": {},
   "source": [
    "Getting the value for p = 0.2"
   ]
  },
  {
   "cell_type": "code",
   "execution_count": 43,
   "metadata": {},
   "outputs": [
    {
     "data": {
      "text/plain": [
       "7.8542"
      ]
     },
     "execution_count": 43,
     "metadata": {},
     "output_type": "execute_result"
    }
   ],
   "source": [
    "p = 0.2\n",
    "t1 = l[:int(len(l)*p)]\n",
    "t1[-1]"
   ]
  },
  {
   "cell_type": "markdown",
   "metadata": {},
   "source": [
    "Getting the value for p = 0.5"
   ]
  },
  {
   "cell_type": "code",
   "execution_count": 45,
   "metadata": {},
   "outputs": [
    {
     "data": {
      "text/plain": [
       "14.4542"
      ]
     },
     "execution_count": 45,
     "metadata": {},
     "output_type": "execute_result"
    }
   ],
   "source": [
    "p = 0.5\n",
    "t2 = l[:int(len(l)*p)]\n",
    "t2[-1]"
   ]
  },
  {
   "cell_type": "markdown",
   "metadata": {},
   "source": [
    "# Question 3"
   ]
  },
  {
   "cell_type": "markdown",
   "metadata": {},
   "source": [
    "We did first decided to submit this assignment as a document, but we changed our minds and went with a jupyter notebook instead. The code were first written in python (not in a notebook), if the code-blocks looks a bit wonky it's because we imported it to jupyter.\n",
    "\n",
    "Therefore our comments on the code and answer are in # format instead of markdown as previously for the notebook."
   ]
  },
  {
   "cell_type": "code",
   "execution_count": 42,
   "metadata": {},
   "outputs": [],
   "source": [
    "np.random.seed(70);\n",
    "\n",
    "def partA():\n",
    "    sampleSmall = [np.random.rand() for x in  range(1000)];\n",
    "    sampleMedium = [np.random.rand() for x in range(10000)];\n",
    "    sampleLarge = [np.random.rand() for x in  range(100000)];\n",
    "\n",
    "    # What is the shape of this histogram and why?\n",
    "    # It's flat befause random.rand is uniformly distributed.\n",
    "    plt.hist(sampleSmall, density=True, bins=30);\n",
    "    plt.show();\n",
    "\n",
    "    plt.hist(sampleMedium, density=True, bins=30);\n",
    "    plt.show();\n",
    "\n",
    "    plt.hist(sampleLarge, density=True, bins=30);\n",
    "    plt.show();\n",
    "    \n",
    "    # Investigate how the shape of the histogram is affected \n",
    "    # by the number of random numbers you have generated.\n",
    "    # Bigger sample => flatter (less noise; law of large numbers).\n",
    "\n",
    "    sampleSmall = [np.random.normal() for x in  range(1000)];\n",
    "    sampleMedium = [np.random.normal() for x in range(10000)];\n",
    "    sampleLarge = [np.random.normal() for x in  range(100000)];\n",
    "\n",
    "    plt.hist(sampleSmall, density=True, bins=30);\n",
    "    plt.show();\n",
    "\n",
    "    plt.hist(sampleMedium, density=True, bins=30);\n",
    "    plt.show();\n",
    "\n",
    "    plt.hist(sampleLarge, density=True, bins=30);\n",
    "    plt.show();\n"
   ]
  },
  {
   "cell_type": "code",
   "execution_count": 43,
   "metadata": {},
   "outputs": [],
   "source": [
    "def partB():\n",
    "    sample = [examScore(0.8, 20) for x in range(10000)]\n",
    "    plt.hist(sample, density=True, bins = 40);\n",
    "    plt.show();"
   ]
  },
  {
   "cell_type": "code",
   "execution_count": 44,
   "metadata": {},
   "outputs": [],
   "source": [
    "def partC():\n",
    "    sample = [numberOfAttempts(0.4) for x in range(10000)]\n",
    "    plt.hist(sample, density=True, bins = 8);\n",
    "    plt.show();"
   ]
  },
  {
   "cell_type": "code",
   "execution_count": 45,
   "metadata": {},
   "outputs": [],
   "source": [
    "def success(pSuccess):\n",
    "    return np.random.rand() < pSuccess;"
   ]
  },
  {
   "cell_type": "code",
   "execution_count": 47,
   "metadata": {},
   "outputs": [],
   "source": [
    "def examScore(pCorrect, instances):\n",
    "    score = 0;\n",
    "    for i in range(instances):\n",
    "        if success(pCorrect):\n",
    "            score += 1;\n",
    "    return score;     "
   ]
  },
  {
   "cell_type": "code",
   "execution_count": 48,
   "metadata": {},
   "outputs": [],
   "source": [
    "def numberOfAttempts(pPass):\n",
    "    attempts = 0;\n",
    "    while not success(pPass):\n",
    "        attempts += 1;\n",
    "\n",
    "    return attempts;"
   ]
  },
  {
   "cell_type": "markdown",
   "metadata": {},
   "source": [
    "### Part A"
   ]
  },
  {
   "cell_type": "code",
   "execution_count": 50,
   "metadata": {
    "scrolled": false
   },
   "outputs": [
    {
     "data": {
      "image/png": "[encoded data removed]",
      "text/plain": [
       "<Figure size 432x288 with 1 Axes>"
      ]
     },
     "metadata": {
      "needs_background": "light"
     },
     "output_type": "display_data"
    },
    {
     "data": {
      "image/png": "[encoded data removed]",
      "text/plain": [
       "<Figure size 432x288 with 1 Axes>"
      ]
     },
     "metadata": {
      "needs_background": "light"
     },
     "output_type": "display_data"
    },
    {
     "data": {
      "image/png": "[encoded data removed]",
      "text/plain": [
       "<Figure size 432x288 with 1 Axes>"
      ]
     },
     "metadata": {
      "needs_background": "light"
     },
     "output_type": "display_data"
    },
    {
     "data": {
      "image/png": "[encoded data removed]",
      "text/plain": [
       "<Figure size 432x288 with 1 Axes>"
      ]
     },
     "metadata": {
      "needs_background": "light"
     },
     "output_type": "display_data"
    },
    {
     "data": {
      "image/png": "[encoded data removed]",
      "text/plain": [
       "<Figure size 432x288 with 1 Axes>"
      ]
     },
     "metadata": {
      "needs_background": "light"
     },
     "output_type": "display_data"
    },
    {
     "data": {
      "image/png": "[encoded data removed]",
      "text/plain": [
       "<Figure size 432x288 with 1 Axes>"
      ]
     },
     "metadata": {
      "needs_background": "light"
     },
     "output_type": "display_data"
    }
   ],
   "source": [
    "partA();"
   ]
  },
  {
   "cell_type": "markdown",
   "metadata": {},
   "source": [
    "### Part B"
   ]
  },
  {
   "cell_type": "code",
   "execution_count": 51,
   "metadata": {},
   "outputs": [
    {
     "data": {
      "image/png": "[encoded data removed]",
      "text/plain": [
       "<Figure size 432x288 with 1 Axes>"
      ]
     },
     "metadata": {
      "needs_background": "light"
     },
     "output_type": "display_data"
    }
   ],
   "source": [
    "partB();"
   ]
  },
  {
   "cell_type": "markdown",
   "metadata": {},
   "source": [
    "### Part C"
   ]
  },
  {
   "cell_type": "code",
   "execution_count": 52,
   "metadata": {},
   "outputs": [
    {
     "data": {
      "image/png": "[encoded data removed]",
      "text/plain": [
       "<Figure size 432x288 with 1 Axes>"
      ]
     },
     "metadata": {
      "needs_background": "light"
     },
     "output_type": "display_data"
    }
   ],
   "source": [
    "partC();"
   ]
  },
  {
   "cell_type": "code",
   "execution_count": null,
   "metadata": {},
   "outputs": [],
   "source": []
  }
 ],
 "metadata": {
  "kernelspec": {
   "display_name": "Python 3",
   "language": "python",
   "name": "python3"
  },
  "language_info": {
   "codemirror_mode": {
    "name": "ipython",
    "version": 3
   },
   "file_extension": ".py",
   "mimetype": "text/x-python",
   "name": "python",
   "nbconvert_exporter": "python",
   "pygments_lexer": "ipython3",
   "version": "3.9.2"
  }
 },
 "nbformat": 4,
 "nbformat_minor": 4
}
