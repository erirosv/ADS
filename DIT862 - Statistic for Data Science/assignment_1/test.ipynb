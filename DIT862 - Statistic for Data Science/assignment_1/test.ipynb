{
 "cells": [
  {
   "cell_type": "markdown",
   "metadata": {},
   "source": [
    "**TA BORT SEN**\n",
    "\n",
    "sns.histplot(data=penguins, x=\"flipper_length_mm\", kde=True)\n",
    "\n",
    "```Python\n",
    "def quantize(val, to_values):\n",
    "    \"\"\"Quantize a value with regards to a set of allowed values.\n",
    "    Source: https://gist.github.com/aleju/eb75fa01a1d5d5a785cf\n",
    "    Examples:\n",
    "        quantize(49.513, [0, 45, 90]) -> 45\n",
    "        quantize(43, [0, 10, 20, 30]) -> 30\n",
    "    \n",
    "    Note: function doesn't assume to_values to be sorted and\n",
    "    iterates over all values (i.e. is rather slow).\n",
    "    \n",
    "    Args:\n",
    "        val        The value to quantize\n",
    "        to_values  The allowed values\n",
    "    Returns:\n",
    "        Closest value among allowed values.\n",
    "    \"\"\"\n",
    "    best_match = None\n",
    "    best_match_diff = None\n",
    "    for other_val in to_values:\n",
    "        diff = abs(other_val - val)\n",
    "        if best_match is None or diff < best_match_diff:\n",
    "            best_match = other_val\n",
    "            best_match_diff = diff\n",
    "    return best_match\n",
    "```"
   ]
  },
  {
   "cell_type": "code",
   "execution_count": null,
   "metadata": {},
   "outputs": [],
   "source": []
  },
  {
   "cell_type": "code",
   "execution_count": null,
   "metadata": {},
   "outputs": [],
   "source": [
    "\"\"\"\n",
    "DONT USE!!!!!!!!!!!!!!!!!!!!\n",
    "\"\"\"\n",
    "#xx = np.histogram(data_frame['Fare'], bins=20)\n",
    "plt.hist(data_frame['Fare'], bins=20, density=False)\n",
    "#plt.show()"
   ]
  },
  {
   "cell_type": "code",
   "execution_count": 1,
   "metadata": {},
   "outputs": [],
   "source": [
    "# BINNING without numpy\n",
    "\"\"\"\n",
    "RENAME!!!!!!!!!!!!!!\n",
    "\"\"\"\n",
    "def splitIntoBins(arr, nbins, minval=None, maxval=None):\n",
    "    minval = min(arr) if minval is None else minval # Select minval if specified, otherwise min of data\n",
    "    maxval = max(arr) if maxval is None else maxval # Same for maxval\n",
    "    \n",
    "    binwidth = (maxval - minval) / nbins # Bin width\n",
    "    allbins = [[] for _ in range(nbins)] # Pre-make a list-of-lists to hold values\n",
    "\n",
    "    for elem in arr:\n",
    "        binnum = int((elem - minval) // binwidth) # Find which bin this element belongs in\n",
    "        binindex = min(nbins-1, binnum) # To handle the case of elem == maxval\n",
    "        allbins[binindex].append(elem) # Add this element to the bin\n",
    "    return allbins"
   ]
  },
  {
   "cell_type": "code",
   "execution_count": null,
   "metadata": {},
   "outputs": [],
   "source": []
  },
  {
   "cell_type": "markdown",
   "metadata": {},
   "source": [
    "0 quartile = 0 quantile = 0 percentile\n",
    "\n",
    "1 quartile = 0.25 quantile = 25 percentile\n",
    "\n",
    "2 quartile = .5 quantile = 50 percentile (median)\n",
    "\n",
    "3 quartile = .75 quantile = 75 percentile\n",
    "\n",
    "4 quartile = 1 quantile = 100 percentile\n"
   ]
  },
  {
   "cell_type": "code",
   "execution_count": null,
   "metadata": {},
   "outputs": [],
   "source": []
  }
 ],
 "metadata": {
  "kernelspec": {
   "display_name": "Python 3",
   "language": "python",
   "name": "python3"
  },
  "language_info": {
   "codemirror_mode": {
    "name": "ipython",
    "version": 3
   },
   "file_extension": ".py",
   "mimetype": "text/x-python",
   "name": "python",
   "nbconvert_exporter": "python",
   "pygments_lexer": "ipython3",
   "version": "3.9.2"
  }
 },
 "nbformat": 4,
 "nbformat_minor": 4
}
