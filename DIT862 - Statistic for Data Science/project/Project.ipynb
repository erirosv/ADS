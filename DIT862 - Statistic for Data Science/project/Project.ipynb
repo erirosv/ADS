{
  "cells": [
    {
      "cell_type": "markdown",
      "id": "05623933-f95b-468b-abb7-71c25f3303c2",
      "metadata": {
        "id": "05623933-f95b-468b-abb7-71c25f3303c2"
      },
      "source": [
        "# Project"
      ]
    },
    {
      "cell_type": "code",
      "execution_count": 1,
      "id": "4jNCjs8dNxX1",
      "metadata": {
        "colab": {
          "base_uri": "https://localhost:8080/"
        },
        "id": "4jNCjs8dNxX1",
        "outputId": "b656f0c4-6e62-4ea8-bb1a-beb19f472432"
      },
      "outputs": [
        {
          "ename": "ModuleNotFoundError",
          "evalue": "No module named 'google.colab'",
          "output_type": "error",
          "traceback": [
            "\u001b[0;31m---------------------------------------------------------------------------\u001b[0m",
            "\u001b[0;31mModuleNotFoundError\u001b[0m                       Traceback (most recent call last)",
            "Cell \u001b[0;32mIn[1], line 1\u001b[0m\n\u001b[0;32m----> 1\u001b[0m \u001b[39mfrom\u001b[39;00m \u001b[39mgoogle\u001b[39;00m\u001b[39m.\u001b[39;00m\u001b[39mcolab\u001b[39;00m \u001b[39mimport\u001b[39;00m drive\n\u001b[1;32m      2\u001b[0m drive\u001b[39m.\u001b[39mmount(\u001b[39m'\u001b[39m\u001b[39m/content/drive/\u001b[39m\u001b[39m'\u001b[39m, force_remount\u001b[39m=\u001b[39m\u001b[39mTrue\u001b[39;00m)\n",
            "\u001b[0;31mModuleNotFoundError\u001b[0m: No module named 'google.colab'"
          ]
        }
      ],
      "source": [
        "from google.colab import drive\n",
        "drive.mount('/content/drive/', force_remount=True)"
      ]
    },
    {
      "cell_type": "markdown",
      "id": "7jIjDCfWVyty",
      "metadata": {
        "id": "7jIjDCfWVyty"
      },
      "source": [
        "### Imports"
      ]
    },
    {
      "cell_type": "code",
      "execution_count": null,
      "id": "6f0d5674-9ff9-4d2b-8c17-d46c14be9436",
      "metadata": {
        "id": "6f0d5674-9ff9-4d2b-8c17-d46c14be9436"
      },
      "outputs": [],
      "source": [
        "#imports\n",
        "import pandas as pd\n",
        "import matplotlib.pyplot as plt\n",
        "import numpy as np \n",
        "import pylab \n",
        "import scipy.stats as stats\n",
        "from scipy.stats import norm\n",
        "import seaborn as sns\n",
        "from sklearn.cluster import KMeans\n",
        "from sklearn.preprocessing import StandardScaler\n",
        "from sklearn.linear_model import LogisticRegression\n",
        "from sklearn.metrics import plot_confusion_matrix\n",
        "from sklearn.linear_model import LinearRegression\n",
        "from scipy.special import expit\n",
        "from sklearn.metrics import classification_report, confusion_matrix, accuracy_score"
      ]
    },
    {
      "cell_type": "code",
      "execution_count": null,
      "id": "WCGXRIpxwyW0",
      "metadata": {
        "id": "WCGXRIpxwyW0"
      },
      "outputs": [],
      "source": [
        "# KÖR ALLT EN SISTA GÅNG MED KORREKT DATA - TRAIN OCH TEST "
      ]
    },
    {
      "cell_type": "markdown",
      "id": "4a7436f8-4356-46ab-a56c-1190d9a7e309",
      "metadata": {
        "id": "4a7436f8-4356-46ab-a56c-1190d9a7e309"
      },
      "source": [
        "### Data"
      ]
    },
    {
      "cell_type": "code",
      "execution_count": null,
      "id": "HS66nJottK8n",
      "metadata": {
        "colab": {
          "base_uri": "https://localhost:8080/"
        },
        "id": "HS66nJottK8n",
        "outputId": "ae601ad5-e5e0-4f0d-ec67-e103cb00274b"
      },
      "outputs": [
        {
          "name": "stdout",
          "output_type": "stream",
          "text": [
            "Mounted at /content/drive\n"
          ]
        }
      ],
      "source": [
        "from google.colab import drive\n",
        "drive.mount('/content/drive')"
      ]
    },
    {
      "cell_type": "code",
      "execution_count": null,
      "id": "64771f07-62e1-48a9-bda0-8f474d186272",
      "metadata": {
        "id": "64771f07-62e1-48a9-bda0-8f474d186272"
      },
      "outputs": [],
      "source": [
        "#df = pd.read_csv('understat.com.csv') #/content/drive/MyDrive/Project/understat.com.csv\n",
        "df = pd.read_csv('/content/drive/MyDrive/Project/understat.com.csv')"
      ]
    },
    {
      "cell_type": "code",
      "execution_count": null,
      "id": "tViCdDTqXMFJ",
      "metadata": {
        "colab": {
          "base_uri": "https://localhost:8080/",
          "height": 285
        },
        "id": "tViCdDTqXMFJ",
        "outputId": "b21fef7c-2576-4c13-dcdc-dea2b50a2d6c"
      },
      "outputs": [
        {
          "data": {
            "text/html": [
              "\n",
              "  <div id=\"df-82c3a767-7601-4bf0-9da1-7f228e023c90\">\n",
              "    <div class=\"colab-df-container\">\n",
              "      <div>\n",
              "<style scoped>\n",
              "    .dataframe tbody tr th:only-of-type {\n",
              "        vertical-align: middle;\n",
              "    }\n",
              "\n",
              "    .dataframe tbody tr th {\n",
              "        vertical-align: top;\n",
              "    }\n",
              "\n",
              "    .dataframe thead th {\n",
              "        text-align: right;\n",
              "    }\n",
              "</style>\n",
              "<table border=\"1\" class=\"dataframe\">\n",
              "  <thead>\n",
              "    <tr style=\"text-align: right;\">\n",
              "      <th></th>\n",
              "      <th>Unnamed: 0</th>\n",
              "      <th>Unnamed: 1</th>\n",
              "      <th>position</th>\n",
              "      <th>team</th>\n",
              "      <th>matches</th>\n",
              "      <th>wins</th>\n",
              "      <th>draws</th>\n",
              "      <th>loses</th>\n",
              "      <th>scored</th>\n",
              "      <th>missed</th>\n",
              "      <th>pts</th>\n",
              "      <th>xG</th>\n",
              "      <th>xG_diff</th>\n",
              "      <th>npxG</th>\n",
              "      <th>xGA</th>\n",
              "      <th>xGA_diff</th>\n",
              "      <th>npxGA</th>\n",
              "      <th>npxGD</th>\n",
              "      <th>ppda_coef</th>\n",
              "      <th>oppda_coef</th>\n",
              "      <th>deep</th>\n",
              "      <th>deep_allowed</th>\n",
              "      <th>xpts</th>\n",
              "      <th>xpts_diff</th>\n",
              "    </tr>\n",
              "  </thead>\n",
              "  <tbody>\n",
              "    <tr>\n",
              "      <th>0</th>\n",
              "      <td>La_liga</td>\n",
              "      <td>2014</td>\n",
              "      <td>1</td>\n",
              "      <td>Barcelona</td>\n",
              "      <td>38</td>\n",
              "      <td>30</td>\n",
              "      <td>4</td>\n",
              "      <td>4</td>\n",
              "      <td>110</td>\n",
              "      <td>21</td>\n",
              "      <td>94</td>\n",
              "      <td>102.980152</td>\n",
              "      <td>-7.019848</td>\n",
              "      <td>97.777212</td>\n",
              "      <td>28.444293</td>\n",
              "      <td>7.444293</td>\n",
              "      <td>24.727907</td>\n",
              "      <td>73.049305</td>\n",
              "      <td>5.683535</td>\n",
              "      <td>16.367593</td>\n",
              "      <td>489</td>\n",
              "      <td>114</td>\n",
              "      <td>94.0813</td>\n",
              "      <td>0.0813</td>\n",
              "    </tr>\n",
              "    <tr>\n",
              "      <th>1</th>\n",
              "      <td>La_liga</td>\n",
              "      <td>2014</td>\n",
              "      <td>2</td>\n",
              "      <td>Real Madrid</td>\n",
              "      <td>38</td>\n",
              "      <td>30</td>\n",
              "      <td>2</td>\n",
              "      <td>6</td>\n",
              "      <td>118</td>\n",
              "      <td>38</td>\n",
              "      <td>92</td>\n",
              "      <td>95.766243</td>\n",
              "      <td>-22.233757</td>\n",
              "      <td>86.103895</td>\n",
              "      <td>42.607198</td>\n",
              "      <td>4.607198</td>\n",
              "      <td>38.890805</td>\n",
              "      <td>47.213090</td>\n",
              "      <td>10.209085</td>\n",
              "      <td>12.929510</td>\n",
              "      <td>351</td>\n",
              "      <td>153</td>\n",
              "      <td>81.7489</td>\n",
              "      <td>-10.2511</td>\n",
              "    </tr>\n",
              "    <tr>\n",
              "      <th>2</th>\n",
              "      <td>La_liga</td>\n",
              "      <td>2014</td>\n",
              "      <td>3</td>\n",
              "      <td>Atletico Madrid</td>\n",
              "      <td>38</td>\n",
              "      <td>23</td>\n",
              "      <td>9</td>\n",
              "      <td>6</td>\n",
              "      <td>67</td>\n",
              "      <td>29</td>\n",
              "      <td>78</td>\n",
              "      <td>57.047670</td>\n",
              "      <td>-9.952330</td>\n",
              "      <td>52.588008</td>\n",
              "      <td>29.069107</td>\n",
              "      <td>0.069107</td>\n",
              "      <td>26.839271</td>\n",
              "      <td>25.748737</td>\n",
              "      <td>8.982028</td>\n",
              "      <td>9.237091</td>\n",
              "      <td>197</td>\n",
              "      <td>123</td>\n",
              "      <td>73.1353</td>\n",
              "      <td>-4.8647</td>\n",
              "    </tr>\n",
              "    <tr>\n",
              "      <th>3</th>\n",
              "      <td>La_liga</td>\n",
              "      <td>2014</td>\n",
              "      <td>4</td>\n",
              "      <td>Valencia</td>\n",
              "      <td>38</td>\n",
              "      <td>22</td>\n",
              "      <td>11</td>\n",
              "      <td>5</td>\n",
              "      <td>70</td>\n",
              "      <td>32</td>\n",
              "      <td>77</td>\n",
              "      <td>55.062500</td>\n",
              "      <td>-14.937500</td>\n",
              "      <td>49.703978</td>\n",
              "      <td>39.392572</td>\n",
              "      <td>7.392572</td>\n",
              "      <td>33.446477</td>\n",
              "      <td>16.257501</td>\n",
              "      <td>8.709827</td>\n",
              "      <td>7.870225</td>\n",
              "      <td>203</td>\n",
              "      <td>172</td>\n",
              "      <td>63.7068</td>\n",
              "      <td>-13.2932</td>\n",
              "    </tr>\n",
              "    <tr>\n",
              "      <th>4</th>\n",
              "      <td>La_liga</td>\n",
              "      <td>2014</td>\n",
              "      <td>5</td>\n",
              "      <td>Sevilla</td>\n",
              "      <td>38</td>\n",
              "      <td>23</td>\n",
              "      <td>7</td>\n",
              "      <td>8</td>\n",
              "      <td>71</td>\n",
              "      <td>45</td>\n",
              "      <td>76</td>\n",
              "      <td>69.526624</td>\n",
              "      <td>-1.473376</td>\n",
              "      <td>62.094599</td>\n",
              "      <td>47.862742</td>\n",
              "      <td>2.862742</td>\n",
              "      <td>41.916529</td>\n",
              "      <td>20.178070</td>\n",
              "      <td>8.276148</td>\n",
              "      <td>9.477805</td>\n",
              "      <td>305</td>\n",
              "      <td>168</td>\n",
              "      <td>67.3867</td>\n",
              "      <td>-8.6133</td>\n",
              "    </tr>\n",
              "  </tbody>\n",
              "</table>\n",
              "</div>\n",
              "      <button class=\"colab-df-convert\" onclick=\"convertToInteractive('df-82c3a767-7601-4bf0-9da1-7f228e023c90')\"\n",
              "              title=\"Convert this dataframe to an interactive table.\"\n",
              "              style=\"display:none;\">\n",
              "        \n",
              "  <svg xmlns=\"http://www.w3.org/2000/svg\" height=\"24px\"viewBox=\"0 0 24 24\"\n",
              "       width=\"24px\">\n",
              "    <path d=\"M0 0h24v24H0V0z\" fill=\"none\"/>\n",
              "    <path d=\"M18.56 5.44l.94 2.06.94-2.06 2.06-.94-2.06-.94-.94-2.06-.94 2.06-2.06.94zm-11 1L8.5 8.5l.94-2.06 2.06-.94-2.06-.94L8.5 2.5l-.94 2.06-2.06.94zm10 10l.94 2.06.94-2.06 2.06-.94-2.06-.94-.94-2.06-.94 2.06-2.06.94z\"/><path d=\"M17.41 7.96l-1.37-1.37c-.4-.4-.92-.59-1.43-.59-.52 0-1.04.2-1.43.59L10.3 9.45l-7.72 7.72c-.78.78-.78 2.05 0 2.83L4 21.41c.39.39.9.59 1.41.59.51 0 1.02-.2 1.41-.59l7.78-7.78 2.81-2.81c.8-.78.8-2.07 0-2.86zM5.41 20L4 18.59l7.72-7.72 1.47 1.35L5.41 20z\"/>\n",
              "  </svg>\n",
              "      </button>\n",
              "      \n",
              "  <style>\n",
              "    .colab-df-container {\n",
              "      display:flex;\n",
              "      flex-wrap:wrap;\n",
              "      gap: 12px;\n",
              "    }\n",
              "\n",
              "    .colab-df-convert {\n",
              "      background-color: #E8F0FE;\n",
              "      border: none;\n",
              "      border-radius: 50%;\n",
              "      cursor: pointer;\n",
              "      display: none;\n",
              "      fill: #1967D2;\n",
              "      height: 32px;\n",
              "      padding: 0 0 0 0;\n",
              "      width: 32px;\n",
              "    }\n",
              "\n",
              "    .colab-df-convert:hover {\n",
              "      background-color: #E2EBFA;\n",
              "      box-shadow: 0px 1px 2px rgba(60, 64, 67, 0.3), 0px 1px 3px 1px rgba(60, 64, 67, 0.15);\n",
              "      fill: #174EA6;\n",
              "    }\n",
              "\n",
              "    [theme=dark] .colab-df-convert {\n",
              "      background-color: #3B4455;\n",
              "      fill: #D2E3FC;\n",
              "    }\n",
              "\n",
              "    [theme=dark] .colab-df-convert:hover {\n",
              "      background-color: #434B5C;\n",
              "      box-shadow: 0px 1px 3px 1px rgba(0, 0, 0, 0.15);\n",
              "      filter: drop-shadow(0px 1px 2px rgba(0, 0, 0, 0.3));\n",
              "      fill: #FFFFFF;\n",
              "    }\n",
              "  </style>\n",
              "\n",
              "      <script>\n",
              "        const buttonEl =\n",
              "          document.querySelector('#df-82c3a767-7601-4bf0-9da1-7f228e023c90 button.colab-df-convert');\n",
              "        buttonEl.style.display =\n",
              "          google.colab.kernel.accessAllowed ? 'block' : 'none';\n",
              "\n",
              "        async function convertToInteractive(key) {\n",
              "          const element = document.querySelector('#df-82c3a767-7601-4bf0-9da1-7f228e023c90');\n",
              "          const dataTable =\n",
              "            await google.colab.kernel.invokeFunction('convertToInteractive',\n",
              "                                                     [key], {});\n",
              "          if (!dataTable) return;\n",
              "\n",
              "          const docLinkHtml = 'Like what you see? Visit the ' +\n",
              "            '<a target=\"_blank\" href=https://colab.research.google.com/notebooks/data_table.ipynb>data table notebook</a>'\n",
              "            + ' to learn more about interactive tables.';\n",
              "          element.innerHTML = '';\n",
              "          dataTable['output_type'] = 'display_data';\n",
              "          await google.colab.output.renderOutput(dataTable, element);\n",
              "          const docLink = document.createElement('div');\n",
              "          docLink.innerHTML = docLinkHtml;\n",
              "          element.appendChild(docLink);\n",
              "        }\n",
              "      </script>\n",
              "    </div>\n",
              "  </div>\n",
              "  "
            ],
            "text/plain": [
              "  Unnamed: 0  Unnamed: 1  position  ... deep_allowed     xpts  xpts_diff\n",
              "0    La_liga        2014         1  ...          114  94.0813     0.0813\n",
              "1    La_liga        2014         2  ...          153  81.7489   -10.2511\n",
              "2    La_liga        2014         3  ...          123  73.1353    -4.8647\n",
              "3    La_liga        2014         4  ...          172  63.7068   -13.2932\n",
              "4    La_liga        2014         5  ...          168  67.3867    -8.6133\n",
              "\n",
              "[5 rows x 24 columns]"
            ]
          },
          "execution_count": 124,
          "metadata": {},
          "output_type": "execute_result"
        }
      ],
      "source": [
        "df.head()"
      ]
    },
    {
      "cell_type": "code",
      "execution_count": null,
      "id": "dc7000c7-e8ed-49be-9ee1-e00d601a584e",
      "metadata": {
        "id": "dc7000c7-e8ed-49be-9ee1-e00d601a584e"
      },
      "outputs": [],
      "source": [
        "#df_per_game = pd.read_csv('understat_per_game.csv') #/content/drive/MyDrive/Project/understat_per_game.csv\n",
        "df_per_game = pd.read_csv('/content/drive/MyDrive/Project/understat_per_game.csv')"
      ]
    },
    {
      "cell_type": "code",
      "execution_count": null,
      "id": "27c624b1-6dfd-4643-a623-1caf1d932e02",
      "metadata": {
        "colab": {
          "base_uri": "https://localhost:8080/"
        },
        "id": "27c624b1-6dfd-4643-a623-1caf1d932e02",
        "outputId": "f6baadf5-707e-4bf9-90bf-61a77e26aa55"
      },
      "outputs": [
        {
          "data": {
            "text/plain": [
              "['league',\n",
              " 'year',\n",
              " 'h_a',\n",
              " 'xG',\n",
              " 'xGA',\n",
              " 'npxG',\n",
              " 'npxGA',\n",
              " 'deep',\n",
              " 'deep_allowed',\n",
              " 'scored',\n",
              " 'missed',\n",
              " 'xpts',\n",
              " 'result',\n",
              " 'date',\n",
              " 'wins',\n",
              " 'draws',\n",
              " 'loses',\n",
              " 'pts',\n",
              " 'npxGD',\n",
              " 'ppda_coef',\n",
              " 'ppda_att',\n",
              " 'ppda_def',\n",
              " 'oppda_coef',\n",
              " 'oppda_att',\n",
              " 'oppda_def',\n",
              " 'team',\n",
              " 'xG_diff',\n",
              " 'xGA_diff',\n",
              " 'xpts_diff']"
            ]
          },
          "execution_count": 126,
          "metadata": {},
          "output_type": "execute_result"
        }
      ],
      "source": [
        "list(df_per_game.columns)"
      ]
    },
    {
      "cell_type": "markdown",
      "id": "mvyVrhRpaUfr",
      "metadata": {
        "id": "mvyVrhRpaUfr"
      },
      "source": [
        "## Train test split "
      ]
    },
    {
      "cell_type": "code",
      "execution_count": null,
      "id": "e56a54dd-03e4-4451-8a46-13912814aa7b",
      "metadata": {
        "id": "e56a54dd-03e4-4451-8a46-13912814aa7b"
      },
      "outputs": [],
      "source": [
        "train, validate, test = np.split(df_per_game.sample(frac=1, random_state=42),[int(.6*len(df_per_game)), int(.8*len(df_per_game))])"
      ]
    },
    {
      "cell_type": "code",
      "execution_count": null,
      "id": "9bdfbcde-a5dd-4650-8381-b743a8152d4c",
      "metadata": {
        "colab": {
          "base_uri": "https://localhost:8080/",
          "height": 444
        },
        "id": "9bdfbcde-a5dd-4650-8381-b743a8152d4c",
        "outputId": "199959f6-14a4-4deb-b93f-54c3f7164ddd"
      },
      "outputs": [
        {
          "data": {
            "text/html": [
              "\n",
              "  <div id=\"df-6ea167d1-7636-4e87-9121-36d5f4f4eaae\">\n",
              "    <div class=\"colab-df-container\">\n",
              "      <div>\n",
              "<style scoped>\n",
              "    .dataframe tbody tr th:only-of-type {\n",
              "        vertical-align: middle;\n",
              "    }\n",
              "\n",
              "    .dataframe tbody tr th {\n",
              "        vertical-align: top;\n",
              "    }\n",
              "\n",
              "    .dataframe thead th {\n",
              "        text-align: right;\n",
              "    }\n",
              "</style>\n",
              "<table border=\"1\" class=\"dataframe\">\n",
              "  <thead>\n",
              "    <tr style=\"text-align: right;\">\n",
              "      <th></th>\n",
              "      <th>league</th>\n",
              "      <th>year</th>\n",
              "      <th>h_a</th>\n",
              "      <th>xG</th>\n",
              "      <th>xGA</th>\n",
              "      <th>npxG</th>\n",
              "      <th>npxGA</th>\n",
              "      <th>deep</th>\n",
              "      <th>deep_allowed</th>\n",
              "      <th>scored</th>\n",
              "      <th>missed</th>\n",
              "      <th>xpts</th>\n",
              "      <th>result</th>\n",
              "      <th>date</th>\n",
              "      <th>wins</th>\n",
              "      <th>draws</th>\n",
              "      <th>loses</th>\n",
              "      <th>pts</th>\n",
              "      <th>npxGD</th>\n",
              "      <th>ppda_coef</th>\n",
              "      <th>ppda_att</th>\n",
              "      <th>ppda_def</th>\n",
              "      <th>oppda_coef</th>\n",
              "      <th>oppda_att</th>\n",
              "      <th>oppda_def</th>\n",
              "      <th>team</th>\n",
              "      <th>xG_diff</th>\n",
              "      <th>xGA_diff</th>\n",
              "      <th>xpts_diff</th>\n",
              "    </tr>\n",
              "  </thead>\n",
              "  <tbody>\n",
              "    <tr>\n",
              "      <th>2350</th>\n",
              "      <td>Bundesliga</td>\n",
              "      <td>2017</td>\n",
              "      <td>h</td>\n",
              "      <td>1.843330</td>\n",
              "      <td>1.331010</td>\n",
              "      <td>1.843330</td>\n",
              "      <td>0.573238</td>\n",
              "      <td>6</td>\n",
              "      <td>4</td>\n",
              "      <td>0</td>\n",
              "      <td>1</td>\n",
              "      <td>1.8064</td>\n",
              "      <td>l</td>\n",
              "      <td>2017-09-20 17:30:00</td>\n",
              "      <td>0</td>\n",
              "      <td>0</td>\n",
              "      <td>1</td>\n",
              "      <td>0</td>\n",
              "      <td>1.270092</td>\n",
              "      <td>6.580645</td>\n",
              "      <td>204</td>\n",
              "      <td>31</td>\n",
              "      <td>10.074074</td>\n",
              "      <td>272</td>\n",
              "      <td>27</td>\n",
              "      <td>FC Cologne</td>\n",
              "      <td>1.843330</td>\n",
              "      <td>0.331010</td>\n",
              "      <td>1.8064</td>\n",
              "    </tr>\n",
              "    <tr>\n",
              "      <th>23255</th>\n",
              "      <td>Serie_A</td>\n",
              "      <td>2018</td>\n",
              "      <td>a</td>\n",
              "      <td>0.120965</td>\n",
              "      <td>2.013350</td>\n",
              "      <td>0.120965</td>\n",
              "      <td>1.252050</td>\n",
              "      <td>1</td>\n",
              "      <td>15</td>\n",
              "      <td>0</td>\n",
              "      <td>2</td>\n",
              "      <td>0.0863</td>\n",
              "      <td>l</td>\n",
              "      <td>2019-04-29 18:00:00</td>\n",
              "      <td>0</td>\n",
              "      <td>0</td>\n",
              "      <td>1</td>\n",
              "      <td>0</td>\n",
              "      <td>-1.131085</td>\n",
              "      <td>10.476190</td>\n",
              "      <td>220</td>\n",
              "      <td>21</td>\n",
              "      <td>11.133333</td>\n",
              "      <td>167</td>\n",
              "      <td>15</td>\n",
              "      <td>Udinese</td>\n",
              "      <td>0.120965</td>\n",
              "      <td>0.013350</td>\n",
              "      <td>0.0863</td>\n",
              "    </tr>\n",
              "    <tr>\n",
              "      <th>20070</th>\n",
              "      <td>Serie_A</td>\n",
              "      <td>2014</td>\n",
              "      <td>h</td>\n",
              "      <td>1.522290</td>\n",
              "      <td>0.493968</td>\n",
              "      <td>1.522290</td>\n",
              "      <td>0.493968</td>\n",
              "      <td>6</td>\n",
              "      <td>4</td>\n",
              "      <td>2</td>\n",
              "      <td>0</td>\n",
              "      <td>2.3291</td>\n",
              "      <td>w</td>\n",
              "      <td>2014-09-21 14:00:00</td>\n",
              "      <td>1</td>\n",
              "      <td>0</td>\n",
              "      <td>0</td>\n",
              "      <td>3</td>\n",
              "      <td>1.028322</td>\n",
              "      <td>11.695652</td>\n",
              "      <td>269</td>\n",
              "      <td>23</td>\n",
              "      <td>21.476190</td>\n",
              "      <td>451</td>\n",
              "      <td>21</td>\n",
              "      <td>Roma</td>\n",
              "      <td>-0.477710</td>\n",
              "      <td>0.493968</td>\n",
              "      <td>-0.6709</td>\n",
              "    </tr>\n",
              "    <tr>\n",
              "      <th>22169</th>\n",
              "      <td>Serie_A</td>\n",
              "      <td>2016</td>\n",
              "      <td>h</td>\n",
              "      <td>2.841680</td>\n",
              "      <td>0.467310</td>\n",
              "      <td>2.080380</td>\n",
              "      <td>0.467310</td>\n",
              "      <td>2</td>\n",
              "      <td>1</td>\n",
              "      <td>5</td>\n",
              "      <td>1</td>\n",
              "      <td>2.8076</td>\n",
              "      <td>w</td>\n",
              "      <td>2016-11-05 21:00:00</td>\n",
              "      <td>1</td>\n",
              "      <td>0</td>\n",
              "      <td>0</td>\n",
              "      <td>3</td>\n",
              "      <td>1.613070</td>\n",
              "      <td>7.606061</td>\n",
              "      <td>251</td>\n",
              "      <td>33</td>\n",
              "      <td>27.933333</td>\n",
              "      <td>419</td>\n",
              "      <td>15</td>\n",
              "      <td>Torino</td>\n",
              "      <td>-2.158320</td>\n",
              "      <td>-0.532690</td>\n",
              "      <td>-0.1924</td>\n",
              "    </tr>\n",
              "    <tr>\n",
              "      <th>21899</th>\n",
              "      <td>Serie_A</td>\n",
              "      <td>2016</td>\n",
              "      <td>h</td>\n",
              "      <td>1.655170</td>\n",
              "      <td>1.817580</td>\n",
              "      <td>1.655170</td>\n",
              "      <td>1.817580</td>\n",
              "      <td>11</td>\n",
              "      <td>1</td>\n",
              "      <td>1</td>\n",
              "      <td>3</td>\n",
              "      <td>1.2524</td>\n",
              "      <td>l</td>\n",
              "      <td>2016-10-15 17:00:00</td>\n",
              "      <td>0</td>\n",
              "      <td>0</td>\n",
              "      <td>1</td>\n",
              "      <td>0</td>\n",
              "      <td>-0.162410</td>\n",
              "      <td>14.400000</td>\n",
              "      <td>288</td>\n",
              "      <td>20</td>\n",
              "      <td>16.111111</td>\n",
              "      <td>290</td>\n",
              "      <td>18</td>\n",
              "      <td>Napoli</td>\n",
              "      <td>0.655170</td>\n",
              "      <td>-1.182420</td>\n",
              "      <td>1.2524</td>\n",
              "    </tr>\n",
              "  </tbody>\n",
              "</table>\n",
              "</div>\n",
              "      <button class=\"colab-df-convert\" onclick=\"convertToInteractive('df-6ea167d1-7636-4e87-9121-36d5f4f4eaae')\"\n",
              "              title=\"Convert this dataframe to an interactive table.\"\n",
              "              style=\"display:none;\">\n",
              "        \n",
              "  <svg xmlns=\"http://www.w3.org/2000/svg\" height=\"24px\"viewBox=\"0 0 24 24\"\n",
              "       width=\"24px\">\n",
              "    <path d=\"M0 0h24v24H0V0z\" fill=\"none\"/>\n",
              "    <path d=\"M18.56 5.44l.94 2.06.94-2.06 2.06-.94-2.06-.94-.94-2.06-.94 2.06-2.06.94zm-11 1L8.5 8.5l.94-2.06 2.06-.94-2.06-.94L8.5 2.5l-.94 2.06-2.06.94zm10 10l.94 2.06.94-2.06 2.06-.94-2.06-.94-.94-2.06-.94 2.06-2.06.94z\"/><path d=\"M17.41 7.96l-1.37-1.37c-.4-.4-.92-.59-1.43-.59-.52 0-1.04.2-1.43.59L10.3 9.45l-7.72 7.72c-.78.78-.78 2.05 0 2.83L4 21.41c.39.39.9.59 1.41.59.51 0 1.02-.2 1.41-.59l7.78-7.78 2.81-2.81c.8-.78.8-2.07 0-2.86zM5.41 20L4 18.59l7.72-7.72 1.47 1.35L5.41 20z\"/>\n",
              "  </svg>\n",
              "      </button>\n",
              "      \n",
              "  <style>\n",
              "    .colab-df-container {\n",
              "      display:flex;\n",
              "      flex-wrap:wrap;\n",
              "      gap: 12px;\n",
              "    }\n",
              "\n",
              "    .colab-df-convert {\n",
              "      background-color: #E8F0FE;\n",
              "      border: none;\n",
              "      border-radius: 50%;\n",
              "      cursor: pointer;\n",
              "      display: none;\n",
              "      fill: #1967D2;\n",
              "      height: 32px;\n",
              "      padding: 0 0 0 0;\n",
              "      width: 32px;\n",
              "    }\n",
              "\n",
              "    .colab-df-convert:hover {\n",
              "      background-color: #E2EBFA;\n",
              "      box-shadow: 0px 1px 2px rgba(60, 64, 67, 0.3), 0px 1px 3px 1px rgba(60, 64, 67, 0.15);\n",
              "      fill: #174EA6;\n",
              "    }\n",
              "\n",
              "    [theme=dark] .colab-df-convert {\n",
              "      background-color: #3B4455;\n",
              "      fill: #D2E3FC;\n",
              "    }\n",
              "\n",
              "    [theme=dark] .colab-df-convert:hover {\n",
              "      background-color: #434B5C;\n",
              "      box-shadow: 0px 1px 3px 1px rgba(0, 0, 0, 0.15);\n",
              "      filter: drop-shadow(0px 1px 2px rgba(0, 0, 0, 0.3));\n",
              "      fill: #FFFFFF;\n",
              "    }\n",
              "  </style>\n",
              "\n",
              "      <script>\n",
              "        const buttonEl =\n",
              "          document.querySelector('#df-6ea167d1-7636-4e87-9121-36d5f4f4eaae button.colab-df-convert');\n",
              "        buttonEl.style.display =\n",
              "          google.colab.kernel.accessAllowed ? 'block' : 'none';\n",
              "\n",
              "        async function convertToInteractive(key) {\n",
              "          const element = document.querySelector('#df-6ea167d1-7636-4e87-9121-36d5f4f4eaae');\n",
              "          const dataTable =\n",
              "            await google.colab.kernel.invokeFunction('convertToInteractive',\n",
              "                                                     [key], {});\n",
              "          if (!dataTable) return;\n",
              "\n",
              "          const docLinkHtml = 'Like what you see? Visit the ' +\n",
              "            '<a target=\"_blank\" href=https://colab.research.google.com/notebooks/data_table.ipynb>data table notebook</a>'\n",
              "            + ' to learn more about interactive tables.';\n",
              "          element.innerHTML = '';\n",
              "          dataTable['output_type'] = 'display_data';\n",
              "          await google.colab.output.renderOutput(dataTable, element);\n",
              "          const docLink = document.createElement('div');\n",
              "          docLink.innerHTML = docLinkHtml;\n",
              "          element.appendChild(docLink);\n",
              "        }\n",
              "      </script>\n",
              "    </div>\n",
              "  </div>\n",
              "  "
            ],
            "text/plain": [
              "           league  year h_a  ...   xG_diff  xGA_diff  xpts_diff\n",
              "2350   Bundesliga  2017   h  ...  1.843330  0.331010     1.8064\n",
              "23255     Serie_A  2018   a  ...  0.120965  0.013350     0.0863\n",
              "20070     Serie_A  2014   h  ... -0.477710  0.493968    -0.6709\n",
              "22169     Serie_A  2016   h  ... -2.158320 -0.532690    -0.1924\n",
              "21899     Serie_A  2016   h  ...  0.655170 -1.182420     1.2524\n",
              "\n",
              "[5 rows x 29 columns]"
            ]
          },
          "execution_count": 128,
          "metadata": {},
          "output_type": "execute_result"
        }
      ],
      "source": [
        "train.head()"
      ]
    },
    {
      "cell_type": "code",
      "execution_count": null,
      "id": "931e5f20-8170-44f6-b535-4c4672466283",
      "metadata": {
        "colab": {
          "base_uri": "https://localhost:8080/"
        },
        "id": "931e5f20-8170-44f6-b535-4c4672466283",
        "outputId": "ef2d347a-cce1-4ae1-9032-559ac0dfd457"
      },
      "outputs": [
        {
          "data": {
            "text/plain": [
              "2350     0\n",
              "23255    0\n",
              "20070    1\n",
              "22169    1\n",
              "21899    0\n",
              "        ..\n",
              "6000     1\n",
              "10573    1\n",
              "2837     1\n",
              "17253    1\n",
              "3757     1\n",
              "Name: wins, Length: 14748, dtype: int64"
            ]
          },
          "execution_count": 129,
          "metadata": {},
          "output_type": "execute_result"
        }
      ],
      "source": [
        "y=train['wins']\n",
        "y"
      ]
    },
    {
      "cell_type": "code",
      "execution_count": null,
      "id": "85a72e9e-4a6e-41c2-adb3-74e312d47caf",
      "metadata": {
        "colab": {
          "base_uri": "https://localhost:8080/"
        },
        "id": "85a72e9e-4a6e-41c2-adb3-74e312d47caf",
        "outputId": "d1d56830-b1f1-4567-96a4-4ee537395433"
      },
      "outputs": [
        {
          "data": {
            "text/plain": [
              "2350     0\n",
              "23255    0\n",
              "20070    2\n",
              "22169    5\n",
              "21899    1\n",
              "        ..\n",
              "6000     1\n",
              "10573    2\n",
              "2837     2\n",
              "17253    3\n",
              "3757     1\n",
              "Name: scored, Length: 14748, dtype: int64"
            ]
          },
          "execution_count": 130,
          "metadata": {},
          "output_type": "execute_result"
        }
      ],
      "source": [
        "x=train['scored']\n",
        "x"
      ]
    },
    {
      "cell_type": "markdown",
      "id": "63qfikX_aaeF",
      "metadata": {
        "id": "63qfikX_aaeF"
      },
      "source": [
        "## Descriptive analasys"
      ]
    },
    {
      "cell_type": "code",
      "execution_count": null,
      "id": "9259352b-8325-45f7-acfa-655b0982eee6",
      "metadata": {
        "colab": {
          "base_uri": "https://localhost:8080/",
          "height": 295
        },
        "id": "9259352b-8325-45f7-acfa-655b0982eee6",
        "outputId": "f0c85cf9-b6dc-4696-a0a0-a6578ed7b3cf"
      },
      "outputs": [
        {
          "data": {
            "image/png": "[encoded data removed]",
            "text/plain": [
              "<Figure size 432x288 with 1 Axes>"
            ]
          },
          "metadata": {
            "needs_background": "light"
          },
          "output_type": "display_data"
        }
      ],
      "source": [
        "# QQ plot\n",
        "stats.probplot(x, dist=\"norm\", plot=pylab)\n",
        "plt.title('Scored train data')\n",
        "plt.show()"
      ]
    },
    {
      "cell_type": "code",
      "execution_count": null,
      "id": "CiuctrRyRaX6",
      "metadata": {
        "colab": {
          "base_uri": "https://localhost:8080/",
          "height": 295
        },
        "id": "CiuctrRyRaX6",
        "outputId": "41d58b82-7858-41ea-ed27-22188b5ae3d1"
      },
      "outputs": [
        {
          "data": {
            "image/png": "[encoded data removed]",
            "text/plain": [
              "<Figure size 432x288 with 1 Axes>"
            ]
          },
          "metadata": {
            "needs_background": "light"
          },
          "output_type": "display_data"
        }
      ],
      "source": [
        "stats.probplot(validate['scored'], dist=\"norm\", plot=pylab)\n",
        "plt.title('Scored validate data')\n",
        "plt.show()"
      ]
    },
    {
      "cell_type": "code",
      "execution_count": null,
      "id": "JLSjqmsLLHyc",
      "metadata": {
        "colab": {
          "base_uri": "https://localhost:8080/",
          "height": 295
        },
        "id": "JLSjqmsLLHyc",
        "outputId": "6c06ed6a-a44d-49ed-ff14-1bc97074707c"
      },
      "outputs": [
        {
          "data": {
            "image/png": "[encoded data removed]",
            "text/plain": [
              "<Figure size 432x288 with 1 Axes>"
            ]
          },
          "metadata": {
            "needs_background": "light"
          },
          "output_type": "display_data"
        }
      ],
      "source": [
        "stats.probplot(y, dist=\"norm\", plot=pylab)\n",
        "plt.title('Wins train data')\n",
        "plt.show()"
      ]
    },
    {
      "cell_type": "code",
      "execution_count": null,
      "id": "EGrtg5NvR4Iq",
      "metadata": {
        "colab": {
          "base_uri": "https://localhost:8080/",
          "height": 295
        },
        "id": "EGrtg5NvR4Iq",
        "outputId": "c5958663-3207-4198-81f4-3c16410a799e"
      },
      "outputs": [
        {
          "data": {
            "image/png": "[encoded data removed]",
            "text/plain": [
              "<Figure size 432x288 with 1 Axes>"
            ]
          },
          "metadata": {
            "needs_background": "light"
          },
          "output_type": "display_data"
        }
      ],
      "source": [
        "stats.probplot(validate['wins'], dist=\"norm\", plot=pylab)\n",
        "plt.title('Wins validate data')\n",
        "plt.show()"
      ]
    },
    {
      "cell_type": "code",
      "execution_count": null,
      "id": "ni63VehiEOsD",
      "metadata": {
        "colab": {
          "base_uri": "https://localhost:8080/",
          "height": 295
        },
        "id": "ni63VehiEOsD",
        "outputId": "7e72f130-33c9-4825-f94c-47ba672c18a8"
      },
      "outputs": [
        {
          "data": {
            "image/png": "[encoded data removed]",
            "text/plain": [
              "<Figure size 432x288 with 1 Axes>"
            ]
          },
          "metadata": {
            "needs_background": "light"
          },
          "output_type": "display_data"
        }
      ],
      "source": [
        "stats.probplot(train['xG'], dist=\"norm\", plot=pylab)\n",
        "plt.title('Expected goals train data')\n",
        "plt.show()"
      ]
    },
    {
      "cell_type": "code",
      "execution_count": null,
      "id": "7ppDyBVNR_fm",
      "metadata": {
        "colab": {
          "base_uri": "https://localhost:8080/",
          "height": 295
        },
        "id": "7ppDyBVNR_fm",
        "outputId": "dada770a-9cea-4928-a858-a7a11c90db97"
      },
      "outputs": [
        {
          "data": {
            "image/png": "[encoded data removed]",
            "text/plain": [
              "<Figure size 432x288 with 1 Axes>"
            ]
          },
          "metadata": {
            "needs_background": "light"
          },
          "output_type": "display_data"
        }
      ],
      "source": [
        "stats.probplot(validate['xG'], dist=\"norm\", plot=pylab)\n",
        "plt.title('Expected goals validate data')\n",
        "plt.show()"
      ]
    },
    {
      "cell_type": "code",
      "execution_count": null,
      "id": "HEvrOb0QLBpS",
      "metadata": {
        "colab": {
          "base_uri": "https://localhost:8080/",
          "height": 295
        },
        "id": "HEvrOb0QLBpS",
        "outputId": "63dacb8d-5a5c-49df-907a-4e6afe5420f5"
      },
      "outputs": [
        {
          "data": {
            "image/png": "[encoded data removed]",
            "text/plain": [
              "<Figure size 432x288 with 1 Axes>"
            ]
          },
          "metadata": {
            "needs_background": "light"
          },
          "output_type": "display_data"
        }
      ],
      "source": [
        "stats.probplot(train['xGA'], dist=\"norm\", plot=pylab)\n",
        "plt.title('Expected goals against train data')\n",
        "plt.show()"
      ]
    },
    {
      "cell_type": "code",
      "execution_count": null,
      "id": "1foa5B0wSAAh",
      "metadata": {
        "colab": {
          "base_uri": "https://localhost:8080/",
          "height": 295
        },
        "id": "1foa5B0wSAAh",
        "outputId": "dcbbbfd7-6253-4dc2-b838-3bf1806284dc"
      },
      "outputs": [
        {
          "data": {
            "image/png": "[encoded data removed]",
            "text/plain": [
              "<Figure size 432x288 with 1 Axes>"
            ]
          },
          "metadata": {
            "needs_background": "light"
          },
          "output_type": "display_data"
        }
      ],
      "source": [
        "stats.probplot(validate['xGA'], dist=\"norm\", plot=pylab)\n",
        "plt.title('Expected goals against validate data')\n",
        "plt.show()"
      ]
    },
    {
      "cell_type": "code",
      "execution_count": null,
      "id": "xwLwnkVtEiAN",
      "metadata": {
        "colab": {
          "base_uri": "https://localhost:8080/",
          "height": 295
        },
        "id": "xwLwnkVtEiAN",
        "outputId": "35beb514-f1de-42d5-8dc4-bbecf4b0eb4a"
      },
      "outputs": [
        {
          "data": {
            "image/png": "[encoded data removed]",
            "text/plain": [
              "<Figure size 432x288 with 1 Axes>"
            ]
          },
          "metadata": {
            "needs_background": "light"
          },
          "output_type": "display_data"
        }
      ],
      "source": [
        "stats.probplot(train['deep'], dist=\"norm\", plot=pylab)\n",
        "plt.title('Deep train data')\n",
        "plt.show()"
      ]
    },
    {
      "cell_type": "code",
      "execution_count": null,
      "id": "ifmP0QXcSApt",
      "metadata": {
        "colab": {
          "base_uri": "https://localhost:8080/",
          "height": 295
        },
        "id": "ifmP0QXcSApt",
        "outputId": "221808c9-63c4-4fb3-b4a6-2944c63bab47"
      },
      "outputs": [
        {
          "data": {
            "image/png": "[encoded data removed]",
            "text/plain": [
              "<Figure size 432x288 with 1 Axes>"
            ]
          },
          "metadata": {
            "needs_background": "light"
          },
          "output_type": "display_data"
        }
      ],
      "source": [
        "stats.probplot(validate['deep'], dist=\"norm\", plot=pylab)\n",
        "plt.title('Deep validate data')\n",
        "plt.show()"
      ]
    },
    {
      "cell_type": "code",
      "execution_count": null,
      "id": "jTUt-lBnpHtY",
      "metadata": {
        "colab": {
          "base_uri": "https://localhost:8080/",
          "height": 295
        },
        "id": "jTUt-lBnpHtY",
        "outputId": "886acf8b-5ab7-4065-b9aa-dd52ee514601"
      },
      "outputs": [
        {
          "data": {
            "image/png": "[encoded data removed]",
            "text/plain": [
              "<Figure size 432x288 with 1 Axes>"
            ]
          },
          "metadata": {
            "needs_background": "light"
          },
          "output_type": "display_data"
        }
      ],
      "source": [
        "stats.probplot(train['deep_allowed'], dist=\"norm\", plot=pylab)\n",
        "plt.title('Deep allowed train data')\n",
        "plt.show()"
      ]
    },
    {
      "cell_type": "code",
      "execution_count": null,
      "id": "gcMybe0-pOcV",
      "metadata": {
        "colab": {
          "base_uri": "https://localhost:8080/",
          "height": 295
        },
        "id": "gcMybe0-pOcV",
        "outputId": "de752578-0090-4055-bb6a-c802c2ea7241"
      },
      "outputs": [
        {
          "data": {
            "image/png": "[encoded data removed]",
            "text/plain": [
              "<Figure size 432x288 with 1 Axes>"
            ]
          },
          "metadata": {
            "needs_background": "light"
          },
          "output_type": "display_data"
        }
      ],
      "source": [
        "stats.probplot(validate['deep_allowed'], dist=\"norm\", plot=pylab)\n",
        "plt.title('Deep allowed validate data')\n",
        "plt.show()"
      ]
    },
    {
      "cell_type": "code",
      "execution_count": null,
      "id": "e36ada22-b2b7-41c9-aa63-d3872260b278",
      "metadata": {
        "colab": {
          "base_uri": "https://localhost:8080/",
          "height": 238
        },
        "id": "e36ada22-b2b7-41c9-aa63-d3872260b278",
        "outputId": "e5519fb2-12b6-42b4-e0ce-3e143582b2b5"
      },
      "outputs": [
        {
          "data": {
            "text/html": [
              "\n",
              "  <div id=\"df-716b3372-31d6-4c9a-ba3c-8ec779718a1b\">\n",
              "    <div class=\"colab-df-container\">\n",
              "      <div>\n",
              "<style scoped>\n",
              "    .dataframe tbody tr th:only-of-type {\n",
              "        vertical-align: middle;\n",
              "    }\n",
              "\n",
              "    .dataframe tbody tr th {\n",
              "        vertical-align: top;\n",
              "    }\n",
              "\n",
              "    .dataframe thead th {\n",
              "        text-align: right;\n",
              "    }\n",
              "</style>\n",
              "<table border=\"1\" class=\"dataframe\">\n",
              "  <thead>\n",
              "    <tr style=\"text-align: right;\">\n",
              "      <th></th>\n",
              "      <th>count</th>\n",
              "      <th>mean</th>\n",
              "      <th>std</th>\n",
              "      <th>min</th>\n",
              "      <th>25%</th>\n",
              "      <th>50%</th>\n",
              "      <th>75%</th>\n",
              "      <th>max</th>\n",
              "    </tr>\n",
              "  </thead>\n",
              "  <tbody>\n",
              "    <tr>\n",
              "      <th>wins</th>\n",
              "      <td>14748.0</td>\n",
              "      <td>0.372864</td>\n",
              "      <td>0.483583</td>\n",
              "      <td>0.0</td>\n",
              "      <td>0.000000</td>\n",
              "      <td>0.000000</td>\n",
              "      <td>1.000000</td>\n",
              "      <td>1.00000</td>\n",
              "    </tr>\n",
              "    <tr>\n",
              "      <th>scored</th>\n",
              "      <td>14748.0</td>\n",
              "      <td>1.341131</td>\n",
              "      <td>1.244089</td>\n",
              "      <td>0.0</td>\n",
              "      <td>0.000000</td>\n",
              "      <td>1.000000</td>\n",
              "      <td>2.000000</td>\n",
              "      <td>10.00000</td>\n",
              "    </tr>\n",
              "    <tr>\n",
              "      <th>xG</th>\n",
              "      <td>14748.0</td>\n",
              "      <td>1.309558</td>\n",
              "      <td>0.841825</td>\n",
              "      <td>0.0</td>\n",
              "      <td>0.683369</td>\n",
              "      <td>1.152130</td>\n",
              "      <td>1.767350</td>\n",
              "      <td>6.63049</td>\n",
              "    </tr>\n",
              "    <tr>\n",
              "      <th>xGA</th>\n",
              "      <td>14748.0</td>\n",
              "      <td>1.310584</td>\n",
              "      <td>0.840023</td>\n",
              "      <td>0.0</td>\n",
              "      <td>0.680590</td>\n",
              "      <td>1.155995</td>\n",
              "      <td>1.771797</td>\n",
              "      <td>6.63049</td>\n",
              "    </tr>\n",
              "    <tr>\n",
              "      <th>deep</th>\n",
              "      <td>14748.0</td>\n",
              "      <td>5.795633</td>\n",
              "      <td>4.058182</td>\n",
              "      <td>0.0</td>\n",
              "      <td>3.000000</td>\n",
              "      <td>5.000000</td>\n",
              "      <td>8.000000</td>\n",
              "      <td>35.00000</td>\n",
              "    </tr>\n",
              "    <tr>\n",
              "      <th>deep_allowed</th>\n",
              "      <td>14748.0</td>\n",
              "      <td>5.826417</td>\n",
              "      <td>4.080525</td>\n",
              "      <td>0.0</td>\n",
              "      <td>3.000000</td>\n",
              "      <td>5.000000</td>\n",
              "      <td>8.000000</td>\n",
              "      <td>42.00000</td>\n",
              "    </tr>\n",
              "  </tbody>\n",
              "</table>\n",
              "</div>\n",
              "      <button class=\"colab-df-convert\" onclick=\"convertToInteractive('df-716b3372-31d6-4c9a-ba3c-8ec779718a1b')\"\n",
              "              title=\"Convert this dataframe to an interactive table.\"\n",
              "              style=\"display:none;\">\n",
              "        \n",
              "  <svg xmlns=\"http://www.w3.org/2000/svg\" height=\"24px\"viewBox=\"0 0 24 24\"\n",
              "       width=\"24px\">\n",
              "    <path d=\"M0 0h24v24H0V0z\" fill=\"none\"/>\n",
              "    <path d=\"M18.56 5.44l.94 2.06.94-2.06 2.06-.94-2.06-.94-.94-2.06-.94 2.06-2.06.94zm-11 1L8.5 8.5l.94-2.06 2.06-.94-2.06-.94L8.5 2.5l-.94 2.06-2.06.94zm10 10l.94 2.06.94-2.06 2.06-.94-2.06-.94-.94-2.06-.94 2.06-2.06.94z\"/><path d=\"M17.41 7.96l-1.37-1.37c-.4-.4-.92-.59-1.43-.59-.52 0-1.04.2-1.43.59L10.3 9.45l-7.72 7.72c-.78.78-.78 2.05 0 2.83L4 21.41c.39.39.9.59 1.41.59.51 0 1.02-.2 1.41-.59l7.78-7.78 2.81-2.81c.8-.78.8-2.07 0-2.86zM5.41 20L4 18.59l7.72-7.72 1.47 1.35L5.41 20z\"/>\n",
              "  </svg>\n",
              "      </button>\n",
              "      \n",
              "  <style>\n",
              "    .colab-df-container {\n",
              "      display:flex;\n",
              "      flex-wrap:wrap;\n",
              "      gap: 12px;\n",
              "    }\n",
              "\n",
              "    .colab-df-convert {\n",
              "      background-color: #E8F0FE;\n",
              "      border: none;\n",
              "      border-radius: 50%;\n",
              "      cursor: pointer;\n",
              "      display: none;\n",
              "      fill: #1967D2;\n",
              "      height: 32px;\n",
              "      padding: 0 0 0 0;\n",
              "      width: 32px;\n",
              "    }\n",
              "\n",
              "    .colab-df-convert:hover {\n",
              "      background-color: #E2EBFA;\n",
              "      box-shadow: 0px 1px 2px rgba(60, 64, 67, 0.3), 0px 1px 3px 1px rgba(60, 64, 67, 0.15);\n",
              "      fill: #174EA6;\n",
              "    }\n",
              "\n",
              "    [theme=dark] .colab-df-convert {\n",
              "      background-color: #3B4455;\n",
              "      fill: #D2E3FC;\n",
              "    }\n",
              "\n",
              "    [theme=dark] .colab-df-convert:hover {\n",
              "      background-color: #434B5C;\n",
              "      box-shadow: 0px 1px 3px 1px rgba(0, 0, 0, 0.15);\n",
              "      filter: drop-shadow(0px 1px 2px rgba(0, 0, 0, 0.3));\n",
              "      fill: #FFFFFF;\n",
              "    }\n",
              "  </style>\n",
              "\n",
              "      <script>\n",
              "        const buttonEl =\n",
              "          document.querySelector('#df-716b3372-31d6-4c9a-ba3c-8ec779718a1b button.colab-df-convert');\n",
              "        buttonEl.style.display =\n",
              "          google.colab.kernel.accessAllowed ? 'block' : 'none';\n",
              "\n",
              "        async function convertToInteractive(key) {\n",
              "          const element = document.querySelector('#df-716b3372-31d6-4c9a-ba3c-8ec779718a1b');\n",
              "          const dataTable =\n",
              "            await google.colab.kernel.invokeFunction('convertToInteractive',\n",
              "                                                     [key], {});\n",
              "          if (!dataTable) return;\n",
              "\n",
              "          const docLinkHtml = 'Like what you see? Visit the ' +\n",
              "            '<a target=\"_blank\" href=https://colab.research.google.com/notebooks/data_table.ipynb>data table notebook</a>'\n",
              "            + ' to learn more about interactive tables.';\n",
              "          element.innerHTML = '';\n",
              "          dataTable['output_type'] = 'display_data';\n",
              "          await google.colab.output.renderOutput(dataTable, element);\n",
              "          const docLink = document.createElement('div');\n",
              "          docLink.innerHTML = docLinkHtml;\n",
              "          element.appendChild(docLink);\n",
              "        }\n",
              "      </script>\n",
              "    </div>\n",
              "  </div>\n",
              "  "
            ],
            "text/plain": [
              "                count      mean       std  ...       50%       75%       max\n",
              "wins          14748.0  0.372864  0.483583  ...  0.000000  1.000000   1.00000\n",
              "scored        14748.0  1.341131  1.244089  ...  1.000000  2.000000  10.00000\n",
              "xG            14748.0  1.309558  0.841825  ...  1.152130  1.767350   6.63049\n",
              "xGA           14748.0  1.310584  0.840023  ...  1.155995  1.771797   6.63049\n",
              "deep          14748.0  5.795633  4.058182  ...  5.000000  8.000000  35.00000\n",
              "deep_allowed  14748.0  5.826417  4.080525  ...  5.000000  8.000000  42.00000\n",
              "\n",
              "[6 rows x 8 columns]"
            ]
          },
          "execution_count": 143,
          "metadata": {},
          "output_type": "execute_result"
        }
      ],
      "source": [
        "train[['wins','scored','xG','xGA','deep','deep_allowed']].describe().T"
      ]
    },
    {
      "cell_type": "code",
      "execution_count": null,
      "id": "9m3Jfd4YZ0Bo",
      "metadata": {
        "colab": {
          "base_uri": "https://localhost:8080/",
          "height": 295
        },
        "id": "9m3Jfd4YZ0Bo",
        "outputId": "4b90a10b-9b69-41c4-d3ab-dfd006e18326"
      },
      "outputs": [
        {
          "data": {
            "image/png": "[encoded data removed]",
            "text/plain": [
              "<Figure size 432x288 with 1 Axes>"
            ]
          },
          "metadata": {
            "needs_background": "light"
          },
          "output_type": "display_data"
        }
      ],
      "source": [
        "plt.hist(x, bins=10)\n",
        "plt.ylim()\n",
        "plt.yticks()\n",
        "plt.ylabel(\"Frequency\")\n",
        "plt.xlabel(\"Goals\")\n",
        "plt.title('Scored')\n",
        "plt.show()"
      ]
    },
    {
      "cell_type": "code",
      "execution_count": null,
      "id": "IFhXPMugCcg_",
      "metadata": {
        "colab": {
          "base_uri": "https://localhost:8080/",
          "height": 295
        },
        "id": "IFhXPMugCcg_",
        "outputId": "0188be11-d632-4395-d23f-cf0c47f2e350"
      },
      "outputs": [
        {
          "data": {
            "image/png": "[encoded data removed]",
            "text/plain": [
              "<Figure size 432x288 with 1 Axes>"
            ]
          },
          "metadata": {
            "needs_background": "light"
          },
          "output_type": "display_data"
        }
      ],
      "source": [
        "plt.hist(y, bins=3)\n",
        "plt.ylim()\n",
        "plt.xlim()\n",
        "plt.xticks([0,1])\n",
        "plt.ylabel(\"Frequency\")\n",
        "plt.xlabel(\"Loss(0) and Win(1)\")\n",
        "plt.title('Wins')\n",
        "plt.show()"
      ]
    },
    {
      "cell_type": "code",
      "execution_count": null,
      "id": "GWPi7XvXC2wb",
      "metadata": {
        "colab": {
          "base_uri": "https://localhost:8080/",
          "height": 312
        },
        "id": "GWPi7XvXC2wb",
        "outputId": "9fea38f3-bc83-4341-99c4-03a34a5681d4"
      },
      "outputs": [
        {
          "data": {
            "text/plain": [
              "Text(0.5, 1.0, 'Deep')"
            ]
          },
          "execution_count": 146,
          "metadata": {},
          "output_type": "execute_result"
        },
        {
          "data": {
            "image/png": "[encoded data removed]",
            "text/plain": [
              "<Figure size 432x288 with 1 Axes>"
            ]
          },
          "metadata": {
            "needs_background": "light"
          },
          "output_type": "display_data"
        }
      ],
      "source": [
        "plt.hist(train['deep'], bins=12)\n",
        "plt.ylim()\n",
        "plt.yticks()\n",
        "plt.ylabel(\"Frequency\")\n",
        "plt.xlabel(\"Deep pass\")\n",
        "plt.title('Deep')"
      ]
    },
    {
      "cell_type": "code",
      "execution_count": null,
      "id": "5WxOS3VSxD70",
      "metadata": {
        "colab": {
          "base_uri": "https://localhost:8080/",
          "height": 312
        },
        "id": "5WxOS3VSxD70",
        "outputId": "003c1ace-627f-48a0-e918-d1cec8c72d74"
      },
      "outputs": [
        {
          "data": {
            "text/plain": [
              "Text(0.5, 1.0, 'Deep allowed')"
            ]
          },
          "execution_count": 147,
          "metadata": {},
          "output_type": "execute_result"
        },
        {
          "data": {
            "image/png": "[encoded data removed]",
            "text/plain": [
              "<Figure size 432x288 with 1 Axes>"
            ]
          },
          "metadata": {
            "needs_background": "light"
          },
          "output_type": "display_data"
        }
      ],
      "source": [
        "plt.hist(train['deep_allowed'], bins=12)\n",
        "plt.ylim()\n",
        "plt.yticks()\n",
        "plt.ylabel(\"Frequency\")\n",
        "plt.xlabel(\"Deep pass allowed\")\n",
        "plt.title('Deep allowed')"
      ]
    },
    {
      "cell_type": "code",
      "execution_count": null,
      "id": "JdRvpKi0C13l",
      "metadata": {
        "colab": {
          "base_uri": "https://localhost:8080/",
          "height": 312
        },
        "id": "JdRvpKi0C13l",
        "outputId": "7ab03806-1079-491f-e449-49b4c3f9e8be"
      },
      "outputs": [
        {
          "data": {
            "text/plain": [
              "Text(0.5, 1.0, 'Expected goals')"
            ]
          },
          "execution_count": 148,
          "metadata": {},
          "output_type": "execute_result"
        },
        {
          "data": {
            "image/png": "[encoded data removed]",
            "text/plain": [
              "<Figure size 432x288 with 1 Axes>"
            ]
          },
          "metadata": {
            "needs_background": "light"
          },
          "output_type": "display_data"
        }
      ],
      "source": [
        "plt.hist(train['xG'], bins=8)\n",
        "plt.ylim()\n",
        "plt.yticks()\n",
        "plt.ylabel(\"Frequency\")\n",
        "plt.xlabel(\"Goals\")\n",
        "plt.title('Expected goals')"
      ]
    },
    {
      "cell_type": "code",
      "execution_count": null,
      "id": "4a4TO5wILRvf",
      "metadata": {
        "colab": {
          "base_uri": "https://localhost:8080/",
          "height": 312
        },
        "id": "4a4TO5wILRvf",
        "outputId": "5f0e9067-1cb7-4d23-e6bb-75cd55e37a89"
      },
      "outputs": [
        {
          "data": {
            "text/plain": [
              "Text(0.5, 1.0, 'Expected goals against')"
            ]
          },
          "execution_count": 149,
          "metadata": {},
          "output_type": "execute_result"
        },
        {
          "data": {
            "image/png": "[encoded data removed]",
            "text/plain": [
              "<Figure size 432x288 with 1 Axes>"
            ]
          },
          "metadata": {
            "needs_background": "light"
          },
          "output_type": "display_data"
        }
      ],
      "source": [
        "plt.hist(train['xGA'], bins=8)\n",
        "plt.ylim()\n",
        "plt.yticks()\n",
        "plt.ylabel(\"Frequency\")\n",
        "plt.xlabel(\"Goals\")\n",
        "plt.title('Expected goals against')"
      ]
    },
    {
      "cell_type": "code",
      "execution_count": null,
      "id": "yk1hEJ_VcHS7",
      "metadata": {
        "id": "yk1hEJ_VcHS7"
      },
      "outputs": [],
      "source": [
        "# Dependence/correlation "
      ]
    },
    {
      "cell_type": "code",
      "execution_count": null,
      "id": "8KKyw-00MiAz",
      "metadata": {
        "colab": {
          "base_uri": "https://localhost:8080/",
          "height": 143
        },
        "id": "8KKyw-00MiAz",
        "outputId": "f5d9bc08-bd81-4914-ec75-3cac2f0bd95d"
      },
      "outputs": [
        {
          "data": {
            "text/html": [
              "<style  type=\"text/css\" >\n",
              "#T_a8604ae2_6e59_11ec_8fb3_0242ac1c0002row0_col0,#T_a8604ae2_6e59_11ec_8fb3_0242ac1c0002row1_col1,#T_a8604ae2_6e59_11ec_8fb3_0242ac1c0002row2_col2{\n",
              "            background-color:  #cccccc;\n",
              "            color:  #000000;\n",
              "        }#T_a8604ae2_6e59_11ec_8fb3_0242ac1c0002row0_col1,#T_a8604ae2_6e59_11ec_8fb3_0242ac1c0002row0_col2,#T_a8604ae2_6e59_11ec_8fb3_0242ac1c0002row2_col0,#T_a8604ae2_6e59_11ec_8fb3_0242ac1c0002row2_col1{\n",
              "            background-color:  #b3e2cd;\n",
              "            color:  #000000;\n",
              "        }#T_a8604ae2_6e59_11ec_8fb3_0242ac1c0002row1_col0,#T_a8604ae2_6e59_11ec_8fb3_0242ac1c0002row1_col2{\n",
              "            background-color:  #cbd5e8;\n",
              "            color:  #000000;\n",
              "        }</style><table id=\"T_a8604ae2_6e59_11ec_8fb3_0242ac1c0002\" class=\"dataframe\"><thead>    <tr>        <th class=\"blank level0\" ></th>        <th class=\"col_heading level0 col0\" >wins</th>        <th class=\"col_heading level0 col1\" >scored</th>        <th class=\"col_heading level0 col2\" >xG</th>    </tr></thead><tbody>\n",
              "                <tr>\n",
              "                        <th id=\"T_a8604ae2_6e59_11ec_8fb3_0242ac1c0002level0_row0\" class=\"row_heading level0 row0\" >wins</th>\n",
              "                        <td id=\"T_a8604ae2_6e59_11ec_8fb3_0242ac1c0002row0_col0\" class=\"data row0 col0\" >1.000000</td>\n",
              "                        <td id=\"T_a8604ae2_6e59_11ec_8fb3_0242ac1c0002row0_col1\" class=\"data row0 col1\" >0.643718</td>\n",
              "                        <td id=\"T_a8604ae2_6e59_11ec_8fb3_0242ac1c0002row0_col2\" class=\"data row0 col2\" >0.448137</td>\n",
              "            </tr>\n",
              "            <tr>\n",
              "                        <th id=\"T_a8604ae2_6e59_11ec_8fb3_0242ac1c0002level0_row1\" class=\"row_heading level0 row1\" >scored</th>\n",
              "                        <td id=\"T_a8604ae2_6e59_11ec_8fb3_0242ac1c0002row1_col0\" class=\"data row1 col0\" >0.643718</td>\n",
              "                        <td id=\"T_a8604ae2_6e59_11ec_8fb3_0242ac1c0002row1_col1\" class=\"data row1 col1\" >1.000000</td>\n",
              "                        <td id=\"T_a8604ae2_6e59_11ec_8fb3_0242ac1c0002row1_col2\" class=\"data row1 col2\" >0.647021</td>\n",
              "            </tr>\n",
              "            <tr>\n",
              "                        <th id=\"T_a8604ae2_6e59_11ec_8fb3_0242ac1c0002level0_row2\" class=\"row_heading level0 row2\" >xG</th>\n",
              "                        <td id=\"T_a8604ae2_6e59_11ec_8fb3_0242ac1c0002row2_col0\" class=\"data row2 col0\" >0.448137</td>\n",
              "                        <td id=\"T_a8604ae2_6e59_11ec_8fb3_0242ac1c0002row2_col1\" class=\"data row2 col1\" >0.647021</td>\n",
              "                        <td id=\"T_a8604ae2_6e59_11ec_8fb3_0242ac1c0002row2_col2\" class=\"data row2 col2\" >1.000000</td>\n",
              "            </tr>\n",
              "    </tbody></table>"
            ],
            "text/plain": [
              "<pandas.io.formats.style.Styler at 0x7f8cb186ef50>"
            ]
          },
          "execution_count": 210,
          "metadata": {},
          "output_type": "execute_result"
        }
      ],
      "source": [
        "corr = train[['wins','scored','xG']].corr() # ,'xGA','deep','deep_allowed' \n",
        "corr.style.background_gradient(cmap='Pastel2')\n",
        "#corr.style.render()"
      ]
    },
    {
      "cell_type": "markdown",
      "id": "7oA0Go62a8hZ",
      "metadata": {
        "id": "7oA0Go62a8hZ"
      },
      "source": [
        "## Probability distribution"
      ]
    },
    {
      "cell_type": "code",
      "execution_count": null,
      "id": "-eMwT-NXWVST",
      "metadata": {
        "colab": {
          "base_uri": "https://localhost:8080/",
          "height": 295
        },
        "id": "-eMwT-NXWVST",
        "outputId": "019eab36-5ac1-46f5-927f-47b9bb8c03b3"
      },
      "outputs": [
        {
          "data": {
            "image/png": "[encoded data removed]",
            "text/plain": [
              "<Figure size 432x288 with 1 Axes>"
            ]
          },
          "metadata": {
            "needs_background": "light"
          },
          "output_type": "display_data"
        }
      ],
      "source": [
        "mu, std = norm.fit(train[\"scored\"]) \n",
        "  \n",
        "plt.hist(train[\"scored\"], bins=12, density=True,)\n",
        "  \n",
        "xmin, xmax = plt.xlim()\n",
        "x = np.linspace(xmin, xmax, 100)\n",
        "p = norm.pdf(x, mu, std)\n",
        "  \n",
        "plt.plot(x, p, 'k', linewidth=2, color='red')\n",
        "title = \"PDF Mean: {:.2f} and St.dv: {:.2f}\".format(mu, std)\n",
        "plt.ylabel('Gaussian distribution')\n",
        "plt.xlabel('Goals scored')\n",
        "plt.title(title)\n",
        "  \n",
        "plt.show()"
      ]
    },
    {
      "cell_type": "code",
      "execution_count": null,
      "id": "vGbRnNFqVBEZ",
      "metadata": {
        "colab": {
          "base_uri": "https://localhost:8080/",
          "height": 295
        },
        "id": "vGbRnNFqVBEZ",
        "outputId": "45ce7247-66fa-4cd4-9ddf-cae95a1166fa"
      },
      "outputs": [
        {
          "data": {
            "image/png": "[encoded data removed]",
            "text/plain": [
              "<Figure size 432x288 with 1 Axes>"
            ]
          },
          "metadata": {
            "needs_background": "light"
          },
          "output_type": "display_data"
        }
      ],
      "source": [
        "mu, std = norm.fit(train[\"xG\"]) \n",
        "  \n",
        "plt.hist(train[\"xG\"], bins=25, density=True,)\n",
        "  \n",
        "xmin, xmax = plt.xlim()\n",
        "x = np.linspace(xmin, xmax, 100)\n",
        "p = norm.pdf(x, mu, std)\n",
        "  \n",
        "plt.plot(x, p, 'k', linewidth=2, color='red')\n",
        "title = \"PDF Mean: {:.2f} and St.dv: {:.2f}\".format(mu, std)\n",
        "plt.ylabel('Gaussian distribution')\n",
        "plt.xlabel('Expected goals')\n",
        "plt.title(title)\n",
        "  \n",
        "plt.show()"
      ]
    },
    {
      "cell_type": "code",
      "execution_count": null,
      "id": "sj8DXF6gLmv2",
      "metadata": {
        "colab": {
          "base_uri": "https://localhost:8080/",
          "height": 295
        },
        "id": "sj8DXF6gLmv2",
        "outputId": "f8eb9bfd-92f5-4671-9bf9-b5aa5cc919ab"
      },
      "outputs": [
        {
          "data": {
            "image/png": "[encoded data removed]",
            "text/plain": [
              "<Figure size 432x288 with 1 Axes>"
            ]
          },
          "metadata": {
            "needs_background": "light"
          },
          "output_type": "display_data"
        }
      ],
      "source": [
        "mu, std = norm.fit(train[\"xGA\"]) \n",
        "  \n",
        "plt.hist(train[\"xGA\"], bins=25, density=True,)\n",
        "  \n",
        "xmin, xmax = plt.xlim()\n",
        "x = np.linspace(xmin, xmax, 100)\n",
        "p = norm.pdf(x, mu, std)\n",
        "  \n",
        "plt.plot(x, p, 'k', linewidth=2, color='red')\n",
        "title = \"PDF Mean: {:.2f} and St.dv: {:.2f}\".format(mu, std)\n",
        "plt.ylabel('Gaussian distribution')\n",
        "plt.xlabel('Expected goals against')\n",
        "plt.title(title)\n",
        "  \n",
        "plt.show()"
      ]
    },
    {
      "cell_type": "code",
      "execution_count": null,
      "id": "znhS_l4YLn7s",
      "metadata": {
        "id": "znhS_l4YLn7s"
      },
      "outputs": [],
      "source": []
    },
    {
      "cell_type": "markdown",
      "id": "Lqn7rmIFa-5o",
      "metadata": {
        "id": "Lqn7rmIFa-5o"
      },
      "source": [
        "## Predictive analasys "
      ]
    },
    {
      "cell_type": "code",
      "execution_count": null,
      "id": "HWVLK27IZ9Rx",
      "metadata": {
        "id": "HWVLK27IZ9Rx"
      },
      "outputs": [],
      "source": [
        "# Two Predictive models "
      ]
    },
    {
      "cell_type": "code",
      "execution_count": null,
      "id": "ACN6rbMLcgKA",
      "metadata": {
        "id": "ACN6rbMLcgKA"
      },
      "outputs": [],
      "source": [
        "# Model 1: Linear regression "
      ]
    },
    {
      "cell_type": "code",
      "execution_count": null,
      "id": "5cnKNfeeyhMI",
      "metadata": {
        "id": "5cnKNfeeyhMI"
      },
      "outputs": [],
      "source": [
        "# y = b0 + b1X  "
      ]
    },
    {
      "cell_type": "markdown",
      "id": "v-gbG6oszZY3",
      "metadata": {
        "id": "v-gbG6oszZY3"
      },
      "source": [
        "### Train Linear "
      ]
    },
    {
      "cell_type": "code",
      "execution_count": null,
      "id": "bIGjPph4VsJO",
      "metadata": {
        "id": "bIGjPph4VsJO"
      },
      "outputs": [],
      "source": [
        "x=train['scored']\n",
        "y=train['wins']"
      ]
    },
    {
      "cell_type": "code",
      "execution_count": null,
      "id": "u8dnXkbJduzJ",
      "metadata": {
        "colab": {
          "base_uri": "https://localhost:8080/"
        },
        "id": "u8dnXkbJduzJ",
        "outputId": "c1b685ac-3d27-47dd-ee27-658e0584a81b"
      },
      "outputs": [
        {
          "name": "stderr",
          "output_type": "stream",
          "text": [
            "/usr/local/lib/python3.7/dist-packages/ipykernel_launcher.py:3: FutureWarning: Support for multi-dimensional indexing (e.g. `obj[:, None]`) is deprecated and will be removed in a future version.  Convert to a numpy array before indexing instead.\n",
            "  This is separate from the ipykernel package so we can avoid doing imports until\n",
            "/usr/local/lib/python3.7/dist-packages/sklearn/linear_model/_base.py:145: FutureWarning: 'normalize' was deprecated in version 1.0 and will be removed in 1.2.\n",
            "If you wish to scale the data, use Pipeline with a StandardScaler in a preprocessing stage. To reproduce the previous behavior:\n",
            "\n",
            "from sklearn.pipeline import make_pipeline\n",
            "\n",
            "model = make_pipeline(StandardScaler(with_mean=False), LinearRegression())\n",
            "\n",
            "If you wish to pass a sample_weight parameter, you need to pass it as a fit parameter to each step of the pipeline as follows:\n",
            "\n",
            "kwargs = {s[0] + '__sample_weight': sample_weight for s in model.steps}\n",
            "model.fit(X, y, **kwargs)\n",
            "\n",
            "\n",
            "  FutureWarning,\n"
          ]
        },
        {
          "data": {
            "text/plain": [
              "LinearRegression(normalize=True)"
            ]
          },
          "execution_count": 159,
          "metadata": {},
          "output_type": "execute_result"
        }
      ],
      "source": [
        "# train\n",
        "model = LinearRegression(normalize=True)\n",
        "model.fit(x[:, np.newaxis], y) # f(x) = kx + m - regression line"
      ]
    },
    {
      "cell_type": "code",
      "execution_count": null,
      "id": "JdJvkfcUdv4j",
      "metadata": {
        "id": "JdJvkfcUdv4j"
      },
      "outputs": [],
      "source": [
        "x = np.array(x).reshape(-1,1)"
      ]
    },
    {
      "cell_type": "code",
      "execution_count": null,
      "id": "Mrjxmpgbdwlv",
      "metadata": {
        "colab": {
          "base_uri": "https://localhost:8080/"
        },
        "id": "Mrjxmpgbdwlv",
        "outputId": "873198df-6d27-448f-c2c2-4d8cfdb4464e"
      },
      "outputs": [
        {
          "name": "stderr",
          "output_type": "stream",
          "text": [
            "/usr/local/lib/python3.7/dist-packages/sklearn/linear_model/_base.py:145: FutureWarning: 'normalize' was deprecated in version 1.0 and will be removed in 1.2.\n",
            "If you wish to scale the data, use Pipeline with a StandardScaler in a preprocessing stage. To reproduce the previous behavior:\n",
            "\n",
            "from sklearn.pipeline import make_pipeline\n",
            "\n",
            "model = make_pipeline(StandardScaler(with_mean=False), LinearRegression())\n",
            "\n",
            "If you wish to pass a sample_weight parameter, you need to pass it as a fit parameter to each step of the pipeline as follows:\n",
            "\n",
            "kwargs = {s[0] + '__sample_weight': sample_weight for s in model.steps}\n",
            "model.fit(X, y, **kwargs)\n",
            "\n",
            "\n",
            "  FutureWarning,\n"
          ]
        },
        {
          "data": {
            "text/plain": [
              "LinearRegression(normalize=True)"
            ]
          },
          "execution_count": 161,
          "metadata": {},
          "output_type": "execute_result"
        }
      ],
      "source": [
        "model.fit(x,y)"
      ]
    },
    {
      "cell_type": "code",
      "execution_count": null,
      "id": "LseEWky2d3v7",
      "metadata": {
        "id": "LseEWky2d3v7"
      },
      "outputs": [],
      "source": [
        "x_shape = np.array([0,10])\n",
        "y_shape= model.predict(x_shape[:,np.newaxis])"
      ]
    },
    {
      "cell_type": "code",
      "execution_count": null,
      "id": "GsvptqcUd6PI",
      "metadata": {
        "colab": {
          "base_uri": "https://localhost:8080/",
          "height": 295
        },
        "id": "GsvptqcUd6PI",
        "outputId": "ef7523dc-e3f3-418d-e4a2-3c4acebbcbbe"
      },
      "outputs": [
        {
          "data": {
            "image/png": "[encoded data removed]",
            "text/plain": [
              "<Figure size 432x288 with 1 Axes>"
            ]
          },
          "metadata": {
            "needs_background": "light"
          },
          "output_type": "display_data"
        }
      ],
      "source": [
        "plt.scatter(x,y)\n",
        "plt.plot(x_shape, y_shape, color='red')\n",
        "plt.ylim(-0.25, 1.25)\n",
        "plt.yticks([0, 0.5, 1])\n",
        "plt.ylabel(\"Loss (0) or Win (1)\")\n",
        "plt.xlabel(\"Goals\")\n",
        "plt.axhline(0.5, color=\".5\")\n",
        "plt.title('Linear probability model')\n",
        "plt.show()"
      ]
    },
    {
      "cell_type": "code",
      "execution_count": null,
      "id": "9w40WeQJd67q",
      "metadata": {
        "colab": {
          "base_uri": "https://localhost:8080/"
        },
        "id": "9w40WeQJd67q",
        "outputId": "ba121775-787f-4c0a-92e5-273986576932"
      },
      "outputs": [
        {
          "name": "stdout",
          "output_type": "stream",
          "text": [
            "intercept:  0.03729180062532644\n",
            "coeficent:  [0.25021591]\n"
          ]
        }
      ],
      "source": [
        "intercept = model.intercept_\n",
        "coef = model.coef_\n",
        "print('intercept: ', model.intercept_)\n",
        "print('coeficent: ', model.coef_)"
      ]
    },
    {
      "cell_type": "code",
      "execution_count": null,
      "id": "RaiDQoYUXGjv",
      "metadata": {
        "id": "RaiDQoYUXGjv"
      },
      "outputs": [],
      "source": [
        "def mean_squared_error_custom(truth, predicted):\n",
        "    m = truth.shape[0]\n",
        "    mse = (np.sum((predicted - truth)**2)) / (2*m)\n",
        "    return mse"
      ]
    },
    {
      "cell_type": "code",
      "execution_count": null,
      "id": "Lmg4eRg0XJB8",
      "metadata": {
        "colab": {
          "base_uri": "https://localhost:8080/"
        },
        "id": "Lmg4eRg0XJB8",
        "outputId": "9538e19b-e789-48d4-9d65-7b813fe6bdb8"
      },
      "outputs": [
        {
          "name": "stdout",
          "output_type": "stream",
          "text": [
            "0.9908801193382154\n",
            "1.4407038242473555\n"
          ]
        }
      ],
      "source": [
        "# add verification \n",
        "print(mean_squared_error_custom(train['scored'], np.shape(y_shape)))\n",
        "print(mean_squared_error_custom(train['wins'], np.shape(y_shape)))"
      ]
    },
    {
      "cell_type": "markdown",
      "id": "iqLDk1ZRyT0Z",
      "metadata": {
        "id": "iqLDk1ZRyT0Z"
      },
      "source": [
        "### Test Linear"
      ]
    },
    {
      "cell_type": "code",
      "execution_count": null,
      "id": "2GX5VsV9ySY1",
      "metadata": {
        "colab": {
          "base_uri": "https://localhost:8080/"
        },
        "id": "2GX5VsV9ySY1",
        "outputId": "71a1ad59-95de-4540-a16a-31f6e4a68cad"
      },
      "outputs": [
        {
          "name": "stderr",
          "output_type": "stream",
          "text": [
            "/usr/local/lib/python3.7/dist-packages/ipykernel_launcher.py:3: FutureWarning: Support for multi-dimensional indexing (e.g. `obj[:, None]`) is deprecated and will be removed in a future version.  Convert to a numpy array before indexing instead.\n",
            "  This is separate from the ipykernel package so we can avoid doing imports until\n",
            "/usr/local/lib/python3.7/dist-packages/sklearn/linear_model/_base.py:145: FutureWarning: 'normalize' was deprecated in version 1.0 and will be removed in 1.2.\n",
            "If you wish to scale the data, use Pipeline with a StandardScaler in a preprocessing stage. To reproduce the previous behavior:\n",
            "\n",
            "from sklearn.pipeline import make_pipeline\n",
            "\n",
            "model = make_pipeline(StandardScaler(with_mean=False), LinearRegression())\n",
            "\n",
            "If you wish to pass a sample_weight parameter, you need to pass it as a fit parameter to each step of the pipeline as follows:\n",
            "\n",
            "kwargs = {s[0] + '__sample_weight': sample_weight for s in model.steps}\n",
            "model.fit(X, y, **kwargs)\n",
            "\n",
            "\n",
            "  FutureWarning,\n",
            "/usr/local/lib/python3.7/dist-packages/sklearn/linear_model/_base.py:145: FutureWarning: 'normalize' was deprecated in version 1.0 and will be removed in 1.2.\n",
            "If you wish to scale the data, use Pipeline with a StandardScaler in a preprocessing stage. To reproduce the previous behavior:\n",
            "\n",
            "from sklearn.pipeline import make_pipeline\n",
            "\n",
            "model = make_pipeline(StandardScaler(with_mean=False), LinearRegression())\n",
            "\n",
            "If you wish to pass a sample_weight parameter, you need to pass it as a fit parameter to each step of the pipeline as follows:\n",
            "\n",
            "kwargs = {s[0] + '__sample_weight': sample_weight for s in model.steps}\n",
            "model.fit(X, y, **kwargs)\n",
            "\n",
            "\n",
            "  FutureWarning,\n"
          ]
        }
      ],
      "source": [
        "# test\n",
        "model = LinearRegression(normalize=True)\n",
        "model.fit(test['scored'][:, np.newaxis], test['wins']) # f(x) = kx + m - regression line\n",
        "xx = np.array(test['scored']).reshape(-1,1)\n",
        "model.fit(xx,test['wins'])\n",
        "x_shape = np.array([0,10])\n",
        "y_shape= model.predict(x_shape[:,np.newaxis])\n",
        "\n"
      ]
    },
    {
      "cell_type": "code",
      "execution_count": null,
      "id": "36nUvz68yxbb",
      "metadata": {
        "colab": {
          "base_uri": "https://localhost:8080/",
          "height": 295
        },
        "id": "36nUvz68yxbb",
        "outputId": "36e55a99-3c6e-4c5c-ca35-8eb835c5eeb5"
      },
      "outputs": [
        {
          "data": {
            "image/png": "[encoded data removed]",
            "text/plain": [
              "<Figure size 432x288 with 1 Axes>"
            ]
          },
          "metadata": {
            "needs_background": "light"
          },
          "output_type": "display_data"
        }
      ],
      "source": [
        "plt.scatter(xx,test['wins'])\n",
        "plt.plot(x_shape, y_shape, color='red')\n",
        "plt.ylim(-0.25, 1.25)\n",
        "plt.yticks([0, 0.5, 1])\n",
        "plt.ylabel(\"Loss (0) or Win (1)\")\n",
        "plt.xlabel(\"Goals\")\n",
        "plt.axhline(0.5, color=\".5\")\n",
        "plt.title('Linear probability model')\n",
        "plt.show()"
      ]
    },
    {
      "cell_type": "code",
      "execution_count": null,
      "id": "OR0ERhWty18Y",
      "metadata": {
        "colab": {
          "base_uri": "https://localhost:8080/"
        },
        "id": "OR0ERhWty18Y",
        "outputId": "e9560e21-0e61-4b00-8fe4-318543472320"
      },
      "outputs": [
        {
          "name": "stdout",
          "output_type": "stream",
          "text": [
            "intercept:  0.03673493738390948\n",
            "coeficent:  [0.25688868]\n"
          ]
        }
      ],
      "source": [
        "intercept = model.intercept_\n",
        "coef = model.coef_\n",
        "print('intercept: ', model.intercept_)\n",
        "print('coeficent: ', model.coef_)"
      ]
    },
    {
      "cell_type": "code",
      "execution_count": null,
      "id": "VTSu4wPry4Ai",
      "metadata": {
        "id": "VTSu4wPry4Ai"
      },
      "outputs": [],
      "source": [
        "def mean_squared_error_custom(truth, predicted):\n",
        "    m = truth.shape[0]\n",
        "    mse = (np.sum((predicted - truth)**2)) / (2*m)\n",
        "    return mse"
      ]
    },
    {
      "cell_type": "code",
      "execution_count": null,
      "id": "5nRdKynmy5gQ",
      "metadata": {
        "colab": {
          "base_uri": "https://localhost:8080/"
        },
        "id": "5nRdKynmy5gQ",
        "outputId": "41dd2f83-26a2-4411-ef28-42b9fa5cc9f2"
      },
      "outputs": [
        {
          "name": "stdout",
          "output_type": "stream",
          "text": [
            "0.9730471928397071\n",
            "1.4196501220504476\n"
          ]
        }
      ],
      "source": [
        "# add verification \n",
        "print(mean_squared_error_custom(test['scored'], np.shape(y_shape)))\n",
        "print(mean_squared_error_custom(test['wins'], np.shape(y_shape)))"
      ]
    },
    {
      "cell_type": "markdown",
      "id": "jDYBwdjCzmP9",
      "metadata": {
        "id": "jDYBwdjCzmP9"
      },
      "source": [
        "### Train Logit\n"
      ]
    },
    {
      "cell_type": "code",
      "execution_count": null,
      "id": "WKiMf3stfk0c",
      "metadata": {
        "id": "WKiMf3stfk0c"
      },
      "outputs": [],
      "source": [
        "# Logit  Train  Validation Test "
      ]
    },
    {
      "cell_type": "code",
      "execution_count": null,
      "id": "8rqsWb1Nm-PU",
      "metadata": {
        "id": "8rqsWb1Nm-PU"
      },
      "outputs": [],
      "source": [
        "x = train['scored']\n",
        "x_test = test['scored'] \n",
        "y_test = test['wins'] \n",
        "y = train['wins']"
      ]
    },
    {
      "cell_type": "code",
      "execution_count": null,
      "id": "jsXG5rgEfmEi",
      "metadata": {
        "colab": {
          "base_uri": "https://localhost:8080/"
        },
        "id": "jsXG5rgEfmEi",
        "outputId": "1579ee1d-9152-4925-a9a3-fec95a2045de"
      },
      "outputs": [
        {
          "data": {
            "text/plain": [
              "LogisticRegression(random_state=0)"
            ]
          },
          "execution_count": 180,
          "metadata": {},
          "output_type": "execute_result"
        }
      ],
      "source": [
        "sc = StandardScaler()\n",
        "X_train = sc.fit_transform(np.array(x).reshape(-1,1))\n",
        "X_test = sc.transform(np.array(x_test).reshape(-1,1))\n",
        "\n",
        "\n",
        "classifier = LogisticRegression(random_state = 0, solver='lbfgs', multi_class='auto')\n",
        "classifier.fit(X_train, y)\n",
        "\n"
      ]
    },
    {
      "cell_type": "code",
      "execution_count": null,
      "id": "JDAX3DMJCqFe",
      "metadata": {
        "colab": {
          "base_uri": "https://localhost:8080/",
          "height": 402
        },
        "id": "JDAX3DMJCqFe",
        "outputId": "861847d6-f920-4c3a-91c4-ab2f218ede45"
      },
      "outputs": [
        {
          "name": "stdout",
          "output_type": "stream",
          "text": [
            "Confusion matrix, with Logistic regression\n",
            "[[0.84960536 0.15039464]\n",
            " [0.23895254 0.76104746]]\n"
          ]
        },
        {
          "name": "stderr",
          "output_type": "stream",
          "text": [
            "/usr/local/lib/python3.7/dist-packages/sklearn/utils/deprecation.py:87: FutureWarning: Function plot_confusion_matrix is deprecated; Function `plot_confusion_matrix` is deprecated in 1.0 and will be removed in 1.2. Use one of the class methods: ConfusionMatrixDisplay.from_predictions or ConfusionMatrixDisplay.from_estimator.\n",
            "  warnings.warn(msg, category=FutureWarning)\n"
          ]
        },
        {
          "data": {
            "image/png": "[encoded data removed]",
            "text/plain": [
              "<Figure size 432x288 with 2 Axes>"
            ]
          },
          "metadata": {
            "needs_background": "light"
          },
          "output_type": "display_data"
        }
      ],
      "source": [
        "\n",
        "title = 'Confusion matrix, with Logistic regression'\n",
        "names= ['Win','Loss']\n",
        "display = plot_confusion_matrix(classifier, X_train, y,display_labels=names, cmap=plt.cm.Blues, normalize='true')\n",
        "\n",
        "\n",
        "display.ax_.set_title(title)\n",
        "print(title)\n",
        "print(display.confusion_matrix)\n",
        "\n",
        "plt.title('Confusion matrix, with Logistic regression')\n",
        "plt.show()"
      ]
    },
    {
      "cell_type": "code",
      "execution_count": null,
      "id": "quqsx8miDP0v",
      "metadata": {
        "colab": {
          "base_uri": "https://localhost:8080/"
        },
        "id": "quqsx8miDP0v",
        "outputId": "05a40731-5f0b-419a-8e1d-e68821de15de"
      },
      "outputs": [
        {
          "data": {
            "text/plain": [
              "LogisticRegression(random_state=0)"
            ]
          },
          "execution_count": 182,
          "metadata": {},
          "output_type": "execute_result"
        }
      ],
      "source": [
        "clf = LogisticRegression(random_state = 0, solver='lbfgs', multi_class='auto')\n",
        "clf.fit(X_train, y)"
      ]
    },
    {
      "cell_type": "code",
      "execution_count": null,
      "id": "pO8LVcJ7CmIy",
      "metadata": {
        "colab": {
          "base_uri": "https://localhost:8080/",
          "height": 241
        },
        "id": "pO8LVcJ7CmIy",
        "outputId": "e0cd51c0-5b55-4929-d43c-f9c63fe0a482"
      },
      "outputs": [
        {
          "data": {
            "image/png": "[encoded data removed]",
            "text/plain": [
              "<Figure size 288x216 with 1 Axes>"
            ]
          },
          "metadata": {
            "needs_background": "light"
          },
          "output_type": "display_data"
        }
      ],
      "source": [
        "plt.figure(1, figsize=(4, 3))\n",
        "plt.clf()\n",
        "plt.scatter(X_train.ravel(), y, zorder=20)\n",
        "X_test = np.linspace(-2, 8, 300)\n",
        "loss = expit(X_test * clf.coef_ + clf.intercept_).ravel()\n",
        "plt.plot(X_test, loss, color=\"red\", linewidth=1)\n",
        "plt.ylim(-0.25, 1.25)\n",
        "plt.yticks([0, 0.5, 1])\n",
        "plt.ylabel(\"Loss (0) or Win (1)\")\n",
        "plt.xlabel(\"Goals\")\n",
        "plt.axhline(0.5, color=\".5\")\n",
        "plt.title('Logistic model')\n",
        "plt.show()"
      ]
    },
    {
      "cell_type": "markdown",
      "id": "H-iUAR6lztSm",
      "metadata": {
        "id": "H-iUAR6lztSm"
      },
      "source": [
        "### Test Logit"
      ]
    },
    {
      "cell_type": "code",
      "execution_count": null,
      "id": "dfbPEwJ9zxh3",
      "metadata": {
        "colab": {
          "base_uri": "https://localhost:8080/"
        },
        "id": "dfbPEwJ9zxh3",
        "outputId": "a120a7d0-6804-4d16-bdaa-fed4c7790c36"
      },
      "outputs": [
        {
          "data": {
            "text/plain": [
              "LogisticRegression(random_state=0)"
            ]
          },
          "execution_count": 188,
          "metadata": {},
          "output_type": "execute_result"
        }
      ],
      "source": [
        "X_test = sc.transform(np.array(x_test).reshape(-1,1))\n",
        "classifier = LogisticRegression(random_state = 0, solver='lbfgs', multi_class='auto')\n",
        "classifier.fit(X_test, test['wins'])"
      ]
    },
    {
      "cell_type": "code",
      "execution_count": null,
      "id": "dqMiEXtyz4lg",
      "metadata": {
        "colab": {
          "base_uri": "https://localhost:8080/",
          "height": 402
        },
        "id": "dqMiEXtyz4lg",
        "outputId": "04bdebb8-0288-44ce-b3f2-b0326143d23c"
      },
      "outputs": [
        {
          "name": "stdout",
          "output_type": "stream",
          "text": [
            "Confusion matrix, with Logistic regression\n",
            "[[0.85136032 0.14863968]\n",
            " [0.23501577 0.76498423]]\n"
          ]
        },
        {
          "name": "stderr",
          "output_type": "stream",
          "text": [
            "/usr/local/lib/python3.7/dist-packages/sklearn/utils/deprecation.py:87: FutureWarning: Function plot_confusion_matrix is deprecated; Function `plot_confusion_matrix` is deprecated in 1.0 and will be removed in 1.2. Use one of the class methods: ConfusionMatrixDisplay.from_predictions or ConfusionMatrixDisplay.from_estimator.\n",
            "  warnings.warn(msg, category=FutureWarning)\n"
          ]
        },
        {
          "data": {
            "image/png": "[encoded data removed]",
            "text/plain": [
              "<Figure size 432x288 with 2 Axes>"
            ]
          },
          "metadata": {
            "needs_background": "light"
          },
          "output_type": "display_data"
        }
      ],
      "source": [
        "title = 'Confusion matrix, with Logistic regression'\n",
        "names= ['Win','Loss']\n",
        "display = plot_confusion_matrix(classifier, X_test, test['wins'],display_labels=names, cmap=plt.cm.Blues, normalize='true')\n",
        "\n",
        "\n",
        "display.ax_.set_title(title)\n",
        "print(title)\n",
        "print(display.confusion_matrix)\n",
        "\n",
        "plt.title('Confusion matrix, with Logistic regression')\n",
        "plt.show()"
      ]
    },
    {
      "cell_type": "code",
      "execution_count": null,
      "id": "mciuhRlJ0GIw",
      "metadata": {
        "colab": {
          "base_uri": "https://localhost:8080/"
        },
        "id": "mciuhRlJ0GIw",
        "outputId": "82090962-96c3-4199-963d-27ff2c4db6bb"
      },
      "outputs": [
        {
          "data": {
            "text/plain": [
              "LogisticRegression(random_state=0)"
            ]
          },
          "execution_count": 204,
          "metadata": {},
          "output_type": "execute_result"
        }
      ],
      "source": [
        "X_test = sc.transform(np.array(x_test).reshape(-1,1))\n",
        "clf = LogisticRegression(random_state = 0, solver='lbfgs', multi_class='auto')\n",
        "clf.fit(X_test, y_test)"
      ]
    },
    {
      "cell_type": "code",
      "execution_count": null,
      "id": "fB4oze4c0Jy6",
      "metadata": {
        "colab": {
          "base_uri": "https://localhost:8080/",
          "height": 241
        },
        "id": "fB4oze4c0Jy6",
        "outputId": "84414be3-0ab5-4c83-c2b9-c279a91f241a"
      },
      "outputs": [
        {
          "data": {
            "image/png": "[encoded data removed]",
            "text/plain": [
              "<Figure size 288x216 with 1 Axes>"
            ]
          },
          "metadata": {
            "needs_background": "light"
          },
          "output_type": "display_data"
        }
      ],
      "source": [
        "plt.figure(1, figsize=(4, 3))\n",
        "plt.clf()\n",
        "plt.scatter(X_test.ravel(), test['wins'], zorder=20)\n",
        "X_test = np.linspace(-2, 8, 300)\n",
        "loss = expit(X_test * clf.coef_ + clf.intercept_).ravel()\n",
        "plt.plot(X_test, loss, color=\"red\", linewidth=1)\n",
        "plt.ylim(-0.25, 1.25)\n",
        "plt.yticks([0, 0.5, 1])\n",
        "plt.ylabel(\"Loss (0) or Win (1)\")\n",
        "plt.xlabel(\"Goals\")\n",
        "plt.axhline(0.5, color=\".5\")\n",
        "plt.title('Logistic model')\n",
        "plt.show()"
      ]
    },
    {
      "cell_type": "markdown",
      "id": "qc20gr1Mz5X5",
      "metadata": {
        "id": "qc20gr1Mz5X5"
      },
      "source": [
        "### Random Forest Train"
      ]
    },
    {
      "cell_type": "code",
      "execution_count": null,
      "id": "1niUG3dcNaMK",
      "metadata": {
        "id": "1niUG3dcNaMK"
      },
      "outputs": [],
      "source": [
        "# Model 2: Random forest????? "
      ]
    },
    {
      "cell_type": "code",
      "execution_count": null,
      "id": "1mEByDlqc4ci",
      "metadata": {
        "id": "1mEByDlqc4ci"
      },
      "outputs": [],
      "source": [
        "Y_train = sc.fit_transform(np.array(y).reshape(-1,1))\n",
        "X_val = sc.fit_transform(np.array(validate['xG']).reshape(-1,1))\n",
        "X_train=sc.fit_transform(np.array(train['xG']).reshape(-1,1))"
      ]
    },
    {
      "cell_type": "code",
      "execution_count": null,
      "id": "JM2xJ62LYV4X",
      "metadata": {
        "colab": {
          "base_uri": "https://localhost:8080/",
          "height": 439
        },
        "id": "JM2xJ62LYV4X",
        "outputId": "6e118dee-4662-4f4f-c90c-d59c78466a97"
      },
      "outputs": [
        {
          "name": "stdout",
          "output_type": "stream",
          "text": [
            ">0.1 0.705 (0.013)\n",
            ">0.2 0.693 (0.011)\n",
            ">0.3 0.683 (0.012)\n",
            ">0.4 0.675 (0.012)\n",
            ">0.5 0.670 (0.012)\n",
            ">0.6 0.661 (0.013)\n",
            ">0.7 0.649 (0.012)\n",
            ">0.8 0.638 (0.013)\n",
            ">0.9 0.634 (0.014)\n",
            ">1.0 0.634 (0.013)\n"
          ]
        },
        {
          "data": {
            "image/png": "[encoded data removed]",
            "text/plain": [
              "<Figure size 432x288 with 1 Axes>"
            ]
          },
          "metadata": {
            "needs_background": "light"
          },
          "output_type": "display_data"
        }
      ],
      "source": [
        "# explore random forest bootstrap sample size on performance\n",
        "from numpy import mean\n",
        "from numpy import std\n",
        "from numpy import arange\n",
        "from sklearn.datasets import make_classification\n",
        "from sklearn.model_selection import cross_val_score\n",
        "from sklearn.model_selection import RepeatedStratifiedKFold\n",
        "from sklearn.ensemble import RandomForestClassifier\n",
        "from matplotlib import pyplot\n",
        " \n",
        "# get a list of models to evaluate\n",
        "def get_models():\n",
        "\tmodels = dict()\n",
        "\t# explore ratios from 10% to 100% in 10% increments\n",
        "\tfor i in arange(0.1, 1.1, 0.1):\n",
        "\t\tkey = '%.1f' % i\n",
        "\t\t# set max_samples=None to use 100%\n",
        "\t\tif i == 1.0:\n",
        "\t\t\ti = None\n",
        "\t\tmodels[key] = RandomForestClassifier(max_samples=i)\n",
        "\treturn models\n",
        " \n",
        "# evaluate a given model using cross-validation\n",
        "def evaluate_model(model, X, y):\n",
        "\t# define the evaluation procedure\n",
        "\tcv = RepeatedStratifiedKFold(n_splits=10, n_repeats=3, random_state=1)\n",
        "\t# evaluate the model and collect the results\n",
        "\tscores = cross_val_score(model, X, y, scoring='accuracy', cv=cv, n_jobs=-1)\n",
        "\treturn scores\n",
        " \n",
        "# define dataset\n",
        "# get the models to evaluate\n",
        "models = get_models()\n",
        "# evaluate the models and store results\n",
        "results, names = list(), list()\n",
        "for name, model in models.items():\n",
        "\t# evaluate the model\n",
        "\tscores = evaluate_model(model, X_train, train['wins'])\n",
        "\t# store the results\n",
        "\tresults.append(scores)\n",
        "\tnames.append(name)\n",
        "\t# summarize the performance along the way\n",
        "\tprint('>%s %.3f (%.3f)' % (name, mean(scores), std(scores)))\n",
        "# plot model performance for comparison\n",
        "pyplot.boxplot(results, labels=names, showmeans=True)\n",
        "pyplot.show()"
      ]
    },
    {
      "cell_type": "code",
      "execution_count": null,
      "id": "PmQ5o4dRYVpk",
      "metadata": {
        "colab": {
          "base_uri": "https://localhost:8080/"
        },
        "id": "PmQ5o4dRYVpk",
        "outputId": "e71cd6b7-4e9f-4b83-e76d-4fba9b1edaa4"
      },
      "outputs": [
        {
          "name": "stdout",
          "output_type": "stream",
          "text": [
            "0.6337806499091597\n"
          ]
        }
      ],
      "source": [
        "print(mean(evaluate_model(model, X_train, train['wins'])))"
      ]
    },
    {
      "cell_type": "code",
      "execution_count": null,
      "id": "YoNCzAz8uFPM",
      "metadata": {
        "colab": {
          "base_uri": "https://localhost:8080/"
        },
        "id": "YoNCzAz8uFPM",
        "outputId": "d17ebcc8-3fcd-4860-9f02-26c3d4eebf81"
      },
      "outputs": [
        {
          "name": "stdout",
          "output_type": "stream",
          "text": [
            "{'0.1': RandomForestClassifier(max_samples=0.1), '0.2': RandomForestClassifier(max_samples=0.2), '0.3': RandomForestClassifier(max_samples=0.30000000000000004), '0.4': RandomForestClassifier(max_samples=0.4), '0.5': RandomForestClassifier(max_samples=0.5), '0.6': RandomForestClassifier(max_samples=0.6), '0.7': RandomForestClassifier(max_samples=0.7000000000000001), '0.8': RandomForestClassifier(max_samples=0.8), '0.9': RandomForestClassifier(max_samples=0.9), '1.0': RandomForestClassifier()}\n"
          ]
        }
      ],
      "source": [
        "print(models)"
      ]
    },
    {
      "cell_type": "code",
      "execution_count": null,
      "id": "45Ra3Qj7YVWO",
      "metadata": {
        "colab": {
          "base_uri": "https://localhost:8080/"
        },
        "id": "45Ra3Qj7YVWO",
        "outputId": "463fad8a-da8b-4794-93a3-8c0843a8cc01"
      },
      "outputs": [
        {
          "data": {
            "text/plain": [
              "RandomForestClassifier()"
            ]
          },
          "execution_count": 76,
          "metadata": {},
          "output_type": "execute_result"
        }
      ],
      "source": [
        "models['1.0'].fit(X_train,train['wins'])"
      ]
    },
    {
      "cell_type": "code",
      "execution_count": null,
      "id": "WR2strAOuhOg",
      "metadata": {
        "id": "WR2strAOuhOg"
      },
      "outputs": [],
      "source": [
        "y_pred = models['1.0'].predict(X_val)"
      ]
    },
    {
      "cell_type": "code",
      "execution_count": null,
      "id": "--U4MJ-_utfU",
      "metadata": {
        "colab": {
          "base_uri": "https://localhost:8080/"
        },
        "id": "--U4MJ-_utfU",
        "outputId": "6c0f085d-1864-4bd4-e83f-23a3ae46c096"
      },
      "outputs": [
        {
          "name": "stdout",
          "output_type": "stream",
          "text": [
            "[[2418  710]\n",
            " [ 652 1136]]\n"
          ]
        }
      ],
      "source": [
        "print(confusion_matrix(validate['wins'],y_pred))"
      ]
    },
    {
      "cell_type": "code",
      "execution_count": null,
      "id": "_5Vlk5N3vfgo",
      "metadata": {
        "colab": {
          "base_uri": "https://localhost:8080/",
          "height": 402
        },
        "id": "_5Vlk5N3vfgo",
        "outputId": "9f5c605d-ee84-4699-d3ba-558f3d0336d2"
      },
      "outputs": [
        {
          "name": "stdout",
          "output_type": "stream",
          "text": [
            "Confusion matrix, with Logistic regression\n",
            "[[0.7730179  0.2269821 ]\n",
            " [0.36465324 0.63534676]]\n"
          ]
        },
        {
          "name": "stderr",
          "output_type": "stream",
          "text": [
            "/usr/local/lib/python3.7/dist-packages/sklearn/utils/deprecation.py:87: FutureWarning: Function plot_confusion_matrix is deprecated; Function `plot_confusion_matrix` is deprecated in 1.0 and will be removed in 1.2. Use one of the class methods: ConfusionMatrixDisplay.from_predictions or ConfusionMatrixDisplay.from_estimator.\n",
            "  warnings.warn(msg, category=FutureWarning)\n"
          ]
        },
        {
          "data": {
            "image/png": "[encoded data removed]",
            "text/plain": [
              "<Figure size 432x288 with 2 Axes>"
            ]
          },
          "metadata": {
            "needs_background": "light"
          },
          "output_type": "display_data"
        }
      ],
      "source": [
        "title = 'Confusion matrix, with Logistic regression'\n",
        "names= ['Win','Loss']\n",
        "display = plot_confusion_matrix(models['1.0'].fit(X_train,train['wins']),X_val, validate['wins'], display_labels=names, cmap=plt.cm.Blues, normalize='true')\n",
        "\n",
        "\n",
        "display.ax_.set_title(title)\n",
        "print(title)\n",
        "print(display.confusion_matrix)\n",
        "\n",
        "plt.title('Confusion matrix, with Logistic regression')\n",
        "plt.show()"
      ]
    },
    {
      "cell_type": "markdown",
      "id": "KIpcZ9cp4piQ",
      "metadata": {
        "id": "KIpcZ9cp4piQ"
      },
      "source": [
        "### Test Random Forest"
      ]
    },
    {
      "cell_type": "code",
      "execution_count": null,
      "id": "bM0nSq-56U2r",
      "metadata": {
        "id": "bM0nSq-56U2r"
      },
      "outputs": [],
      "source": [
        "X_test = sc.fit_transform(np.array(test['xG']).reshape(-1,1))"
      ]
    },
    {
      "cell_type": "code",
      "execution_count": null,
      "id": "A9Will9Yx6JR",
      "metadata": {
        "colab": {
          "base_uri": "https://localhost:8080/"
        },
        "id": "A9Will9Yx6JR",
        "outputId": "fae87741-97ca-485d-c05b-884aebcca3b2"
      },
      "outputs": [
        {
          "name": "stdout",
          "output_type": "stream",
          "text": [
            "[[2340  674]\n",
            " [ 712 1190]]\n"
          ]
        }
      ],
      "source": [
        "y_pred = models['1.0'].predict(X_test)\n",
        "print(confusion_matrix(test['wins'],y_pred))"
      ]
    },
    {
      "cell_type": "code",
      "execution_count": null,
      "id": "rptGtiPc5KAl",
      "metadata": {
        "colab": {
          "base_uri": "https://localhost:8080/",
          "height": 402
        },
        "id": "rptGtiPc5KAl",
        "outputId": "a9d55b7e-a7ce-468f-f223-6886f029293b"
      },
      "outputs": [
        {
          "name": "stderr",
          "output_type": "stream",
          "text": [
            "/usr/local/lib/python3.7/dist-packages/sklearn/utils/deprecation.py:87: FutureWarning: Function plot_confusion_matrix is deprecated; Function `plot_confusion_matrix` is deprecated in 1.0 and will be removed in 1.2. Use one of the class methods: ConfusionMatrixDisplay.from_predictions or ConfusionMatrixDisplay.from_estimator.\n",
            "  warnings.warn(msg, category=FutureWarning)\n"
          ]
        },
        {
          "name": "stdout",
          "output_type": "stream",
          "text": [
            "Confusion matrix, with Logistic regression\n",
            "[[0.77637691 0.22362309]\n",
            " [0.3743428  0.6256572 ]]\n"
          ]
        },
        {
          "data": {
            "image/png": "[encoded data removed]",
            "text/plain": [
              "<Figure size 432x288 with 2 Axes>"
            ]
          },
          "metadata": {
            "needs_background": "light"
          },
          "output_type": "display_data"
        }
      ],
      "source": [
        "title = 'Confusion matrix, with Logistic regression'\n",
        "names= ['Win','Loss']\n",
        "display = plot_confusion_matrix(models['1.0'].fit(X_train,train['wins']),X_test, test['wins'], display_labels=names, cmap=plt.cm.Blues, normalize='true')\n",
        "\n",
        "\n",
        "display.ax_.set_title(title)\n",
        "print(title)\n",
        "print(display.confusion_matrix)\n",
        "\n",
        "plt.title('Confusion matrix, Random Forest')\n",
        "plt.show()"
      ]
    },
    {
      "cell_type": "code",
      "execution_count": null,
      "id": "GyKag11WC3tF",
      "metadata": {
        "id": "GyKag11WC3tF"
      },
      "outputs": [],
      "source": []
    }
  ],
  "metadata": {
    "colab": {
      "collapsed_sections": [],
      "name": "Project.ipynb",
      "provenance": []
    },
    "kernelspec": {
      "display_name": "Python 3",
      "language": "python",
      "name": "python3"
    },
    "language_info": {
      "codemirror_mode": {
        "name": "ipython",
        "version": 3
      },
      "file_extension": ".py",
      "mimetype": "text/x-python",
      "name": "python",
      "nbconvert_exporter": "python",
      "pygments_lexer": "ipython3",
      "version": "3.10.6 (v3.10.6:9c7b4bd164, Aug  1 2022, 17:13:48) [Clang 13.0.0 (clang-1300.0.29.30)]"
    },
    "vscode": {
      "interpreter": {
        "hash": "aee8b7b246df8f9039afb4144a1f6fd8d2ca17a180786b69acc140d282b71a49"
      }
    }
  },
  "nbformat": 4,
  "nbformat_minor": 5
}
