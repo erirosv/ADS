{
 "cells": [
  {
   "cell_type": "code",
   "execution_count": 1,
   "metadata": {
    "id": "LbIULT_c5wI0"
   },
   "outputs": [],
   "source": [
    "# imports\n",
    "from __future__ import print_function\n",
    "import keras\n",
    "from keras.datasets import mnist\n",
    "from keras.models import Sequential\n",
    "from keras.layers import Dense, Dropout, Flatten\n",
    "from keras.layers import Conv2D, MaxPooling2D\n",
    "from keras import backend as K\n",
    "import tensorflow as tf\n",
    "from matplotlib import pyplot as plt"
   ]
  },
  {
   "cell_type": "code",
   "execution_count": 2,
   "metadata": {
    "id": "hQWe96ta5yVw"
   },
   "outputs": [],
   "source": [
    "# Hyper-parameters data-loading and formatting\n",
    "\n",
    "batch_size = 128\n",
    "num_classes = 10\n",
    "epochs = 10\n",
    "\n",
    "img_rows, img_cols = 28, 28\n",
    "\n",
    "(x_train, lbl_train), (x_test, lbl_test) = mnist.load_data()\n",
    "\n",
    "if K.image_data_format() == 'channels_first':\n",
    "    x_train = x_train.reshape(x_train.shape[0], 1, img_rows, img_cols)\n",
    "    x_test = x_test.reshape(x_test.shape[0], 1, img_rows, img_cols)\n",
    "    input_shape = (1, img_rows, img_cols)\n",
    "else:\n",
    "    x_train = x_train.reshape(x_train.shape[0], img_rows, img_cols, 1)\n",
    "    x_test = x_test.reshape(x_test.shape[0], img_rows, img_cols, 1)\n",
    "    input_shape = (img_rows, img_cols, 1)"
   ]
  },
  {
   "cell_type": "markdown",
   "metadata": {
    "id": "j7130mRj57h9"
   },
   "source": [
    "**Preprocessing**"
   ]
  },
  {
   "cell_type": "code",
   "execution_count": 3,
   "metadata": {
    "id": "GZIqelAg52gj"
   },
   "outputs": [],
   "source": [
    "x_train = x_train.astype('float32')\n",
    "x_test = x_test.astype('float32')\n",
    "\n",
    "x_train /= 255\n",
    "x_test /= 255\n",
    "\n",
    "y_train = tf.keras.utils.to_categorical(lbl_train, num_classes)\n",
    "y_test = tf.keras.utils.to_categorical(lbl_test, num_classes)\n"
   ]
  },
  {
   "cell_type": "code",
   "execution_count": 4,
   "metadata": {
    "id": "gLCYBbyJ6PK8",
    "scrolled": true
   },
   "outputs": [
    {
     "name": "stdout",
     "output_type": "stream",
     "text": [
      "Epoch 1/10\n",
      "469/469 [==============================] - 32s 6ms/step - loss: 0.7919 - accuracy: 0.7708 - val_loss: 0.2647 - val_accuracy: 0.9247\n",
      "Epoch 2/10\n",
      "469/469 [==============================] - 2s 4ms/step - loss: 0.2394 - accuracy: 0.9291 - val_loss: 0.1831 - val_accuracy: 0.9471\n",
      "Epoch 3/10\n",
      "469/469 [==============================] - 2s 3ms/step - loss: 0.1848 - accuracy: 0.9456 - val_loss: 0.1843 - val_accuracy: 0.9443\n",
      "Epoch 4/10\n",
      "469/469 [==============================] - 2s 3ms/step - loss: 0.1556 - accuracy: 0.9549 - val_loss: 0.1511 - val_accuracy: 0.9539\n",
      "Epoch 5/10\n",
      "469/469 [==============================] - 2s 4ms/step - loss: 0.1300 - accuracy: 0.9616 - val_loss: 0.1184 - val_accuracy: 0.9634\n",
      "Epoch 6/10\n",
      "469/469 [==============================] - 3s 6ms/step - loss: 0.1070 - accuracy: 0.9690 - val_loss: 0.1145 - val_accuracy: 0.9668\n",
      "Epoch 7/10\n",
      "469/469 [==============================] - 2s 4ms/step - loss: 0.0967 - accuracy: 0.9716 - val_loss: 0.1060 - val_accuracy: 0.9695\n",
      "Epoch 8/10\n",
      "469/469 [==============================] - 2s 4ms/step - loss: 0.0815 - accuracy: 0.9765 - val_loss: 0.1000 - val_accuracy: 0.9705\n",
      "Epoch 9/10\n",
      "469/469 [==============================] - 2s 3ms/step - loss: 0.0760 - accuracy: 0.9780 - val_loss: 0.1062 - val_accuracy: 0.9689\n",
      "Epoch 10/10\n",
      "469/469 [==============================] - 2s 4ms/step - loss: 0.0682 - accuracy: 0.9793 - val_loss: 0.0976 - val_accuracy: 0.9710\n",
      "Test loss: 0.09761443734169006, Test accuracy 0.9710000157356262\n"
     ]
    }
   ],
   "source": [
    "\n",
    "## Define model ##\n",
    "model = Sequential()\n",
    "\n",
    "model.add(Flatten())\n",
    "model.add(Dense(64, activation = 'relu'))\n",
    "model.add(Dense(64, activation = 'relu'))\n",
    "model.add(Dense(num_classes, activation='softmax'))\n",
    "\n",
    "\n",
    "model.compile(loss = tf.keras.losses.categorical_crossentropy,\n",
    "        optimizer = keras.optimizers.gradient_descent_v2.SGD(learning_rate = 0.1),  metrics=['accuracy'],)\n",
    "\n",
    "fit_info = model.fit(x_train, y_train,\n",
    "           batch_size=batch_size,\n",
    "           epochs=epochs,\n",
    "           verbose=1,\n",
    "           validation_data=(x_test, y_test))\n",
    "\n",
    "score = model.evaluate(x_test, y_test, verbose=0)\n",
    "\n",
    "print('Test loss: {}, Test accuracy {}'.format(score[0], score[1]))"
   ]
  },
  {
   "cell_type": "code",
   "execution_count": 5,
   "metadata": {},
   "outputs": [
    {
     "name": "stdout",
     "output_type": "stream",
     "text": [
      "dict_keys(['loss', 'accuracy', 'val_loss', 'val_accuracy'])\n"
     ]
    }
   ],
   "source": [
    "print(fit_info.history.keys())"
   ]
  },
  {
   "cell_type": "markdown",
   "metadata": {},
   "source": [
    "## C)"
   ]
  },
  {
   "cell_type": "code",
   "execution_count": 6,
   "metadata": {},
   "outputs": [],
   "source": [
    "v = fit_info.history['val_accuracy']\n",
    "n = [1,2,3,4,5,6,7,8,9,10]"
   ]
  },
  {
   "cell_type": "code",
   "execution_count": 8,
   "metadata": {},
   "outputs": [
    {
     "data": {
      "image/png": "[encoded data removed]",
      "text/plain": [
       "<Figure size 432x288 with 1 Axes>"
      ]
     },
     "metadata": {
      "needs_background": "light"
     },
     "output_type": "display_data"
    }
   ],
   "source": [
    "plt.scatter(n, v)\n",
    "plt.title('Validated accuracy for 10 epochs') #title\n",
    "plt.xlabel('epochs') #x label\n",
    "plt.ylabel('validated accuracy') #y label\n",
    "\n",
    "plt.show()"
   ]
  },
  {
   "cell_type": "code",
   "execution_count": 9,
   "metadata": {},
   "outputs": [],
   "source": [
    "a = fit_info.history['accuracy']\n",
    "n = [1,2,3,4,5,6,7,8,9,10]"
   ]
  },
  {
   "cell_type": "code",
   "execution_count": 12,
   "metadata": {},
   "outputs": [
    {
     "data": {
      "image/png": "[encoded data removed]",
      "text/plain": [
       "<Figure size 432x288 with 1 Axes>"
      ]
     },
     "metadata": {
      "needs_background": "light"
     },
     "output_type": "display_data"
    }
   ],
   "source": [
    "plt.scatter(n, a)\n",
    "plt.title('accuracy for 10 epochs') #title\n",
    "plt.xlabel('epochs') #x label\n",
    "plt.ylabel('accuracy') #y label\n",
    "\n",
    "plt.show()"
   ]
  },
  {
   "cell_type": "code",
   "execution_count": 51,
   "metadata": {},
   "outputs": [
    {
     "name": "stdout",
     "output_type": "stream",
     "text": [
      "[0.9337999820709229, 0.9544000029563904, 0.9606000185012817, 0.9678999781608582, 0.9710999727249146, 0.9732999801635742, 0.9718000292778015, 0.9753000140190125, 0.9768000245094299, 0.9779000282287598, 0.9782999753952026, 0.9782000184059143, 0.9810000061988831, 0.9790999889373779, 0.98089998960495, 0.980400025844574, 0.9810000061988831, 0.9818000197410583, 0.9815000295639038, 0.9811999797821045, 0.9822999835014343, 0.9819999933242798, 0.9814000129699707, 0.9811000227928162, 0.9825999736785889, 0.9815000295639038, 0.9819999933242798, 0.9819999933242798, 0.9821000099182129, 0.9818999767303467, 0.9824000000953674, 0.9817000031471252, 0.9819999933242798, 0.9825000166893005, 0.9817000031471252, 0.9821000099182129, 0.9818000197410583, 0.9821000099182129, 0.9821000099182129, 0.9824000000953674]\n"
     ]
    }
   ],
   "source": [
    "#fit_info.history\n",
    "print(fit_info.history['val_accuracy'])"
   ]
  },
  {
   "cell_type": "code",
   "execution_count": 53,
   "metadata": {},
   "outputs": [
    {
     "name": "stdout",
     "output_type": "stream",
     "text": [
      "0.9825999736785889\n"
     ]
    }
   ],
   "source": [
    "cc = []\n",
    "cc = fit_info.history['val_accuracy']\n",
    "import statistics\n",
    "#print(statistics.mean(cc))\n",
    "print(max(cc))"
   ]
  },
  {
   "cell_type": "markdown",
   "metadata": {},
   "source": [
    "# SKROTA NEDAN!!!!"
   ]
  },
  {
   "cell_type": "markdown",
   "metadata": {},
   "source": [
    "## D)\n",
    "\n",
    "The code that we executed in the block with the fuction: \n",
    "```python\n",
    "model.add(Dense(64, activation = 'relu'))\n",
    "```\n",
    "\n",
    "### PART 1\n",
    "64 was changed to 500 respectively 300"
   ]
  },
  {
   "cell_type": "code",
   "execution_count": 13,
   "metadata": {},
   "outputs": [],
   "source": [
    "epochs = 40"
   ]
  },
  {
   "cell_type": "code",
   "execution_count": 14,
   "metadata": {},
   "outputs": [
    {
     "name": "stdout",
     "output_type": "stream",
     "text": [
      "Epoch 1/40\n",
      "469/469 [==============================] - 6s 10ms/step - loss: 0.6914 - accuracy: 0.8152 - val_loss: 0.2203 - val_accuracy: 0.9362\n",
      "Epoch 2/40\n",
      "469/469 [==============================] - 4s 10ms/step - loss: 0.2053 - accuracy: 0.9399 - val_loss: 0.1538 - val_accuracy: 0.9555\n",
      "Epoch 3/40\n",
      "469/469 [==============================] - 4s 9ms/step - loss: 0.1430 - accuracy: 0.9588 - val_loss: 0.1204 - val_accuracy: 0.9642\n",
      "Epoch 4/40\n",
      "469/469 [==============================] - 5s 10ms/step - loss: 0.1119 - accuracy: 0.9682 - val_loss: 0.1124 - val_accuracy: 0.9654\n",
      "Epoch 5/40\n",
      "469/469 [==============================] - 5s 10ms/step - loss: 0.0921 - accuracy: 0.9731 - val_loss: 0.0954 - val_accuracy: 0.9707\n",
      "Epoch 6/40\n",
      "469/469 [==============================] - 5s 10ms/step - loss: 0.0763 - accuracy: 0.9783 - val_loss: 0.0843 - val_accuracy: 0.9747\n",
      "Epoch 7/40\n",
      "469/469 [==============================] - 5s 10ms/step - loss: 0.0616 - accuracy: 0.9821 - val_loss: 0.0764 - val_accuracy: 0.9764\n",
      "Epoch 8/40\n",
      "469/469 [==============================] - 5s 10ms/step - loss: 0.0539 - accuracy: 0.9852 - val_loss: 0.0758 - val_accuracy: 0.9771\n",
      "Epoch 9/40\n",
      "469/469 [==============================] - 5s 10ms/step - loss: 0.0462 - accuracy: 0.9882 - val_loss: 0.0733 - val_accuracy: 0.9773\n",
      "Epoch 10/40\n",
      "469/469 [==============================] - 5s 10ms/step - loss: 0.0387 - accuracy: 0.9899 - val_loss: 0.0667 - val_accuracy: 0.9788\n",
      "Epoch 11/40\n",
      "469/469 [==============================] - 6s 13ms/step - loss: 0.0348 - accuracy: 0.9913 - val_loss: 0.0676 - val_accuracy: 0.9795\n",
      "Epoch 12/40\n",
      "469/469 [==============================] - 5s 12ms/step - loss: 0.0301 - accuracy: 0.9915 - val_loss: 0.0643 - val_accuracy: 0.9801\n",
      "Epoch 13/40\n",
      "469/469 [==============================] - 5s 11ms/step - loss: 0.0247 - accuracy: 0.9940 - val_loss: 0.0618 - val_accuracy: 0.9800\n",
      "Epoch 14/40\n",
      "469/469 [==============================] - 6s 13ms/step - loss: 0.0224 - accuracy: 0.9952 - val_loss: 0.0658 - val_accuracy: 0.9794\n",
      "Epoch 15/40\n",
      "469/469 [==============================] - 5s 11ms/step - loss: 0.0208 - accuracy: 0.9955 - val_loss: 0.0728 - val_accuracy: 0.9780\n",
      "Epoch 16/40\n",
      "469/469 [==============================] - 5s 10ms/step - loss: 0.0172 - accuracy: 0.9965 - val_loss: 0.0621 - val_accuracy: 0.9812\n",
      "Epoch 17/40\n",
      "469/469 [==============================] - 5s 10ms/step - loss: 0.0143 - accuracy: 0.9978 - val_loss: 0.0608 - val_accuracy: 0.9807\n",
      "Epoch 18/40\n",
      "469/469 [==============================] - 5s 10ms/step - loss: 0.0127 - accuracy: 0.9980 - val_loss: 0.0601 - val_accuracy: 0.9813\n",
      "Epoch 19/40\n",
      "469/469 [==============================] - 5s 10ms/step - loss: 0.0111 - accuracy: 0.9984 - val_loss: 0.0605 - val_accuracy: 0.9814\n",
      "Epoch 20/40\n",
      "469/469 [==============================] - 5s 11ms/step - loss: 0.0098 - accuracy: 0.9986 - val_loss: 0.0615 - val_accuracy: 0.9817\n",
      "Epoch 21/40\n",
      "469/469 [==============================] - 5s 10ms/step - loss: 0.0093 - accuracy: 0.9990 - val_loss: 0.0598 - val_accuracy: 0.9816\n",
      "Epoch 22/40\n",
      "469/469 [==============================] - 5s 12ms/step - loss: 0.0073 - accuracy: 0.9993 - val_loss: 0.0622 - val_accuracy: 0.9816\n",
      "Epoch 23/40\n",
      "469/469 [==============================] - 4s 9ms/step - loss: 0.0072 - accuracy: 0.9993 - val_loss: 0.0614 - val_accuracy: 0.9818\n",
      "Epoch 24/40\n",
      "469/469 [==============================] - 5s 10ms/step - loss: 0.0060 - accuracy: 0.9996 - val_loss: 0.0603 - val_accuracy: 0.9830\n",
      "Epoch 25/40\n",
      "469/469 [==============================] - 5s 10ms/step - loss: 0.0052 - accuracy: 0.9996 - val_loss: 0.0602 - val_accuracy: 0.9819\n",
      "Epoch 26/40\n",
      "469/469 [==============================] - 5s 10ms/step - loss: 0.0049 - accuracy: 0.9998 - val_loss: 0.0617 - val_accuracy: 0.9819\n",
      "Epoch 27/40\n",
      "469/469 [==============================] - 7s 15ms/step - loss: 0.0044 - accuracy: 0.9999 - val_loss: 0.0623 - val_accuracy: 0.9821\n",
      "Epoch 28/40\n",
      "469/469 [==============================] - 7s 15ms/step - loss: 0.0040 - accuracy: 0.9999 - val_loss: 0.0619 - val_accuracy: 0.9818uracy: \n",
      "Epoch 29/40\n",
      "469/469 [==============================] - 6s 12ms/step - loss: 0.0036 - accuracy: 0.9999 - val_loss: 0.0623 - val_accuracy: 0.9819\n",
      "Epoch 30/40\n",
      "469/469 [==============================] - 7s 14ms/step - loss: 0.0032 - accuracy: 0.9999 - val_loss: 0.0624 - val_accuracy: 0.9820\n",
      "Epoch 31/40\n",
      "469/469 [==============================] - 6s 13ms/step - loss: 0.0032 - accuracy: 0.9999 - val_loss: 0.0634 - val_accuracy: 0.9822\n",
      "Epoch 32/40\n",
      "469/469 [==============================] - 4s 9ms/step - loss: 0.0029 - accuracy: 1.0000 - val_loss: 0.0642 - val_accuracy: 0.9815\n",
      "Epoch 33/40\n",
      "469/469 [==============================] - 4s 9ms/step - loss: 0.0028 - accuracy: 1.0000 - val_loss: 0.0630 - val_accuracy: 0.9820\n",
      "Epoch 34/40\n",
      "469/469 [==============================] - 4s 9ms/step - loss: 0.0025 - accuracy: 1.0000 - val_loss: 0.0647 - val_accuracy: 0.9819\n",
      "Epoch 35/40\n",
      "469/469 [==============================] - 5s 11ms/step - loss: 0.0025 - accuracy: 0.9999 - val_loss: 0.0645 - val_accuracy: 0.9818\n",
      "Epoch 36/40\n",
      "469/469 [==============================] - 6s 12ms/step - loss: 0.0022 - accuracy: 1.0000 - val_loss: 0.0644 - val_accuracy: 0.9821\n",
      "Epoch 37/40\n",
      "469/469 [==============================] - 5s 11ms/step - loss: 0.0021 - accuracy: 1.0000 - val_loss: 0.0649 - val_accuracy: 0.9821\n",
      "Epoch 38/40\n",
      "469/469 [==============================] - 4s 10ms/step - loss: 0.0020 - accuracy: 1.0000 - val_loss: 0.0662 - val_accuracy: 0.9825\n",
      "Epoch 39/40\n",
      "469/469 [==============================] - 4s 8ms/step - loss: 0.0019 - accuracy: 1.0000 - val_loss: 0.0655 - val_accuracy: 0.9820\n",
      "Epoch 40/40\n",
      "469/469 [==============================] - 3s 7ms/step - loss: 0.0018 - accuracy: 1.0000 - val_loss: 0.0655 - val_accuracy: 0.9824\n",
      "Test loss: 0.06550299376249313, Test accuracy 0.9824000000953674\n"
     ]
    }
   ],
   "source": [
    "## Define model ##\n",
    "model = Sequential()\n",
    "\n",
    "model.add(Flatten())\n",
    "model.add(Dense(500, activation = 'relu'))\n",
    "model.add(Dense(300, activation = 'relu'))\n",
    "model.add(Dense(num_classes, activation='softmax'))\n",
    "\n",
    "\n",
    "model.compile(loss = tf.keras.losses.categorical_crossentropy,\n",
    "        optimizer = keras.optimizers.gradient_descent_v2.SGD(learning_rate = 0.1),  metrics=['accuracy'],)\n",
    "\n",
    "fit_info = model.fit(x_train, y_train,\n",
    "           batch_size=batch_size,\n",
    "           epochs=epochs,\n",
    "           verbose=1,\n",
    "           validation_data=(x_test, y_test))\n",
    "\n",
    "score = model.evaluate(x_test, y_test, verbose=0)\n",
    "\n",
    "print('Test loss: {}, Test accuracy {}'.format(score[0], score[1]))"
   ]
  },
  {
   "cell_type": "code",
   "execution_count": 17,
   "metadata": {},
   "outputs": [
    {
     "name": "stdout",
     "output_type": "stream",
     "text": [
      "0.9829999804496765\n"
     ]
    }
   ],
   "source": [
    "\"\"\"\n",
    "Finding the highest validation accuracy\n",
    "\"\"\"\n",
    "cc = []\n",
    "cc = fit_info.history['val_accuracy']\n",
    "import statistics\n",
    "print(max(cc))"
   ]
  },
  {
   "cell_type": "markdown",
   "metadata": {},
   "source": [
    "### PART 2"
   ]
  },
  {
   "cell_type": "code",
   "execution_count": 4,
   "metadata": {},
   "outputs": [],
   "source": [
    "def running_model(ep, learn):\n",
    "    ## Define model ##\n",
    "    model = Sequential()\n",
    "\n",
    "    model.add(Flatten())\n",
    "    model.add(Dense(500, activation = 'relu'))\n",
    "    model.add(Dense(300, activation = 'relu'))\n",
    "    model.add(Dense(num_classes, activation='softmax'))\n",
    "\n",
    "\n",
    "    model.compile(loss = tf.keras.losses.categorical_crossentropy,\n",
    "            optimizer = keras.optimizers.gradient_descent_v2.SGD(learning_rate = learn),  metrics=['accuracy'],)\n",
    "\n",
    "    fit_info = model.fit(x_train, y_train,\n",
    "               batch_size=batch_size,\n",
    "               epochs=ep,\n",
    "               verbose=1,\n",
    "               validation_data=(x_test, y_test))\n",
    "\n",
    "    score = model.evaluate(x_test, y_test, verbose=0)\n",
    "\n",
    "    print('Test loss: {}, Test accuracy {}'.format(score[0], score[1]))\n",
    "    return fit_info"
   ]
  },
  {
   "cell_type": "markdown",
   "metadata": {},
   "source": [
    "#### Regularization  factor 0.001 (run 1)"
   ]
  },
  {
   "cell_type": "code",
   "execution_count": 7,
   "metadata": {},
   "outputs": [
    {
     "name": "stdout",
     "output_type": "stream",
     "text": [
      "Epoch 1/40\n",
      "469/469 [==============================] - 4s 6ms/step - loss: 2.2026 - accuracy: 0.2276 - val_loss: 1.8970 - val_accuracy: 0.5833\n",
      "Epoch 2/40\n",
      "469/469 [==============================] - 2s 5ms/step - loss: 1.8194 - accuracy: 0.6230 - val_loss: 1.5304 - val_accuracy: 0.7224\n",
      "Epoch 3/40\n",
      "469/469 [==============================] - 2s 5ms/step - loss: 1.4694 - accuracy: 0.7298 - val_loss: 1.2163 - val_accuracy: 0.7813\n",
      "Epoch 4/40\n",
      "469/469 [==============================] - 2s 5ms/step - loss: 1.1818 - accuracy: 0.7801 - val_loss: 0.9854 - val_accuracy: 0.8153\n",
      "Epoch 5/40\n",
      "469/469 [==============================] - 2s 5ms/step - loss: 0.9705 - accuracy: 0.8112 - val_loss: 0.8272 - val_accuracy: 0.8323\n",
      "Epoch 6/40\n",
      "469/469 [==============================] - 3s 6ms/step - loss: 0.8275 - accuracy: 0.8286 - val_loss: 0.7192 - val_accuracy: 0.8466\n",
      "Epoch 7/40\n",
      "469/469 [==============================] - 3s 6ms/step - loss: 0.7195 - accuracy: 0.8457 - val_loss: 0.6430 - val_accuracy: 0.8582\n",
      "Epoch 8/40\n",
      "469/469 [==============================] - 3s 6ms/step - loss: 0.6561 - accuracy: 0.8534 - val_loss: 0.5868 - val_accuracy: 0.8656\n",
      "Epoch 9/40\n",
      "469/469 [==============================] - 3s 6ms/step - loss: 0.6032 - accuracy: 0.8580 - val_loss: 0.5441 - val_accuracy: 0.8725\n",
      "Epoch 10/40\n",
      "469/469 [==============================] - 3s 6ms/step - loss: 0.5640 - accuracy: 0.8635 - val_loss: 0.5105 - val_accuracy: 0.8778\n",
      "Epoch 11/40\n",
      "469/469 [==============================] - 3s 6ms/step - loss: 0.5229 - accuracy: 0.8730 - val_loss: 0.4831 - val_accuracy: 0.8823\n",
      "Epoch 12/40\n",
      "469/469 [==============================] - 3s 6ms/step - loss: 0.5028 - accuracy: 0.8741 - val_loss: 0.4612 - val_accuracy: 0.8862\n",
      "Epoch 13/40\n",
      "469/469 [==============================] - 3s 6ms/step - loss: 0.4785 - accuracy: 0.8797 - val_loss: 0.4422 - val_accuracy: 0.8889\n",
      "Epoch 14/40\n",
      "469/469 [==============================] - 3s 6ms/step - loss: 0.4617 - accuracy: 0.8819 - val_loss: 0.4266 - val_accuracy: 0.8929\n",
      "Epoch 15/40\n",
      "469/469 [==============================] - 3s 6ms/step - loss: 0.4433 - accuracy: 0.8859 - val_loss: 0.4129 - val_accuracy: 0.8950\n",
      "Epoch 16/40\n",
      "469/469 [==============================] - 3s 6ms/step - loss: 0.4300 - accuracy: 0.8876 - val_loss: 0.4011 - val_accuracy: 0.8961\n",
      "Epoch 17/40\n",
      "469/469 [==============================] - 3s 6ms/step - loss: 0.4216 - accuracy: 0.8892 - val_loss: 0.3906 - val_accuracy: 0.8992\n",
      "Epoch 18/40\n",
      "469/469 [==============================] - 3s 6ms/step - loss: 0.4096 - accuracy: 0.8924 - val_loss: 0.3809 - val_accuracy: 0.8992\n",
      "Epoch 19/40\n",
      "469/469 [==============================] - 3s 6ms/step - loss: 0.3945 - accuracy: 0.8951 - val_loss: 0.3728 - val_accuracy: 0.9004\n",
      "Epoch 20/40\n",
      "469/469 [==============================] - 3s 6ms/step - loss: 0.3898 - accuracy: 0.8955 - val_loss: 0.3650 - val_accuracy: 0.9017\n",
      "Epoch 21/40\n",
      "469/469 [==============================] - 3s 6ms/step - loss: 0.3785 - accuracy: 0.8984 - val_loss: 0.3582 - val_accuracy: 0.9036\n",
      "Epoch 22/40\n",
      "469/469 [==============================] - 3s 6ms/step - loss: 0.3750 - accuracy: 0.8975 - val_loss: 0.3520 - val_accuracy: 0.9049\n",
      "Epoch 23/40\n",
      "469/469 [==============================] - 3s 6ms/step - loss: 0.3714 - accuracy: 0.8987 - val_loss: 0.3461 - val_accuracy: 0.9066\n",
      "Epoch 24/40\n",
      "469/469 [==============================] - 3s 6ms/step - loss: 0.3630 - accuracy: 0.9015 - val_loss: 0.3407 - val_accuracy: 0.9075\n",
      "Epoch 25/40\n",
      "469/469 [==============================] - 3s 6ms/step - loss: 0.3524 - accuracy: 0.9031 - val_loss: 0.3358 - val_accuracy: 0.9081\n",
      "Epoch 26/40\n",
      "469/469 [==============================] - 3s 6ms/step - loss: 0.3479 - accuracy: 0.9037 - val_loss: 0.3310 - val_accuracy: 0.9099\n",
      "Epoch 27/40\n",
      "469/469 [==============================] - 3s 7ms/step - loss: 0.3503 - accuracy: 0.9031 - val_loss: 0.3270 - val_accuracy: 0.9101\n",
      "Epoch 28/40\n",
      "469/469 [==============================] - 3s 7ms/step - loss: 0.3397 - accuracy: 0.9051 - val_loss: 0.3229 - val_accuracy: 0.9113\n",
      "Epoch 29/40\n",
      "469/469 [==============================] - 3s 6ms/step - loss: 0.3409 - accuracy: 0.9050 - val_loss: 0.3189 - val_accuracy: 0.9117\n",
      "Epoch 30/40\n",
      "469/469 [==============================] - 3s 7ms/step - loss: 0.3343 - accuracy: 0.9048 - val_loss: 0.3154 - val_accuracy: 0.9132\n",
      "Epoch 31/40\n",
      "469/469 [==============================] - 3s 6ms/step - loss: 0.3344 - accuracy: 0.9068 - val_loss: 0.3117 - val_accuracy: 0.9137\n",
      "Epoch 32/40\n",
      "469/469 [==============================] - 3s 6ms/step - loss: 0.3292 - accuracy: 0.9079 - val_loss: 0.3087 - val_accuracy: 0.9147\n",
      "Epoch 33/40\n",
      "469/469 [==============================] - 3s 6ms/step - loss: 0.3278 - accuracy: 0.9080 - val_loss: 0.3056 - val_accuracy: 0.9153\n",
      "Epoch 34/40\n",
      "469/469 [==============================] - 3s 6ms/step - loss: 0.3188 - accuracy: 0.9104 - val_loss: 0.3029 - val_accuracy: 0.9152\n",
      "Epoch 35/40\n",
      "469/469 [==============================] - 3s 6ms/step - loss: 0.3167 - accuracy: 0.9104 - val_loss: 0.2995 - val_accuracy: 0.9165\n",
      "Epoch 36/40\n",
      "469/469 [==============================] - 3s 6ms/step - loss: 0.3107 - accuracy: 0.9127 - val_loss: 0.2968 - val_accuracy: 0.9176\n",
      "Epoch 37/40\n",
      "469/469 [==============================] - 3s 6ms/step - loss: 0.3067 - accuracy: 0.9154 - val_loss: 0.2944 - val_accuracy: 0.9187\n",
      "Epoch 38/40\n",
      "469/469 [==============================] - 3s 6ms/step - loss: 0.3034 - accuracy: 0.9184 - val_loss: 0.2918 - val_accuracy: 0.9186\n",
      "Epoch 39/40\n",
      "469/469 [==============================] - 3s 6ms/step - loss: 0.3050 - accuracy: 0.9147 - val_loss: 0.2891 - val_accuracy: 0.9193\n",
      "Epoch 40/40\n",
      "469/469 [==============================] - 3s 6ms/step - loss: 0.2994 - accuracy: 0.9168 - val_loss: 0.2870 - val_accuracy: 0.9196\n",
      "Test loss: 0.2870005965232849, Test accuracy 0.9196000099182129\n"
     ]
    }
   ],
   "source": [
    "ep = 40\n",
    "learn = 0.001\n",
    "info = running_model(ep, learn)"
   ]
  },
  {
   "cell_type": "code",
   "execution_count": 8,
   "metadata": {},
   "outputs": [
    {
     "name": "stdout",
     "output_type": "stream",
     "text": [
      "Max value:  0.9196000099182129\n",
      "Standard deviation:  0.06309258302592037\n"
     ]
    }
   ],
   "source": [
    "cc = []\n",
    "cc = info.history['val_accuracy']\n",
    "import statistics\n",
    "print('Max value: ', max(cc))\n",
    "print('Standard deviation: ',statistics.stdev(cc))"
   ]
  },
  {
   "cell_type": "markdown",
   "metadata": {},
   "source": [
    "0.9208999872207642"
   ]
  },
  {
   "cell_type": "markdown",
   "metadata": {},
   "source": [
    "#### Regularization  factor 0.001 (run 2)"
   ]
  },
  {
   "cell_type": "code",
   "execution_count": 9,
   "metadata": {},
   "outputs": [
    {
     "name": "stdout",
     "output_type": "stream",
     "text": [
      "Epoch 1/40\n",
      "469/469 [==============================] - 4s 6ms/step - loss: 2.2028 - accuracy: 0.2550 - val_loss: 1.9213 - val_accuracy: 0.5692\n",
      "Epoch 2/40\n",
      "469/469 [==============================] - 3s 6ms/step - loss: 1.8389 - accuracy: 0.6097 - val_loss: 1.5645 - val_accuracy: 0.7141\n",
      "Epoch 3/40\n",
      "469/469 [==============================] - 3s 6ms/step - loss: 1.4944 - accuracy: 0.7209 - val_loss: 1.2500 - val_accuracy: 0.7724\n",
      "Epoch 4/40\n",
      "469/469 [==============================] - 3s 6ms/step - loss: 1.2101 - accuracy: 0.7731 - val_loss: 1.0140 - val_accuracy: 0.8074\n",
      "Epoch 5/40\n",
      "469/469 [==============================] - 3s 6ms/step - loss: 0.9857 - accuracy: 0.8074 - val_loss: 0.8500 - val_accuracy: 0.8298\n",
      "Epoch 6/40\n",
      "469/469 [==============================] - 3s 6ms/step - loss: 0.8429 - accuracy: 0.8247 - val_loss: 0.7367 - val_accuracy: 0.8446\n",
      "Epoch 7/40\n",
      "469/469 [==============================] - 3s 6ms/step - loss: 0.7332 - accuracy: 0.8407 - val_loss: 0.6562 - val_accuracy: 0.8553\n",
      "Epoch 8/40\n",
      "469/469 [==============================] - 3s 6ms/step - loss: 0.6567 - accuracy: 0.8507 - val_loss: 0.5971 - val_accuracy: 0.8637\n",
      "Epoch 9/40\n",
      "469/469 [==============================] - 3s 6ms/step - loss: 0.6086 - accuracy: 0.8561 - val_loss: 0.5524 - val_accuracy: 0.8698\n",
      "Epoch 10/40\n",
      "469/469 [==============================] - 3s 6ms/step - loss: 0.5668 - accuracy: 0.8600 - val_loss: 0.5171 - val_accuracy: 0.8741\n",
      "Epoch 11/40\n",
      "469/469 [==============================] - 3s 6ms/step - loss: 0.5343 - accuracy: 0.8655 - val_loss: 0.4891 - val_accuracy: 0.8791\n",
      "Epoch 12/40\n",
      "469/469 [==============================] - 3s 6ms/step - loss: 0.5003 - accuracy: 0.8733 - val_loss: 0.4660 - val_accuracy: 0.8842\n",
      "Epoch 13/40\n",
      "469/469 [==============================] - 3s 6ms/step - loss: 0.4803 - accuracy: 0.8769 - val_loss: 0.4468 - val_accuracy: 0.8881\n",
      "Epoch 14/40\n",
      "469/469 [==============================] - 3s 6ms/step - loss: 0.4637 - accuracy: 0.8796 - val_loss: 0.4301 - val_accuracy: 0.8895\n",
      "Epoch 15/40\n",
      "469/469 [==============================] - 3s 6ms/step - loss: 0.4448 - accuracy: 0.8847 - val_loss: 0.4162 - val_accuracy: 0.8929\n",
      "Epoch 16/40\n",
      "469/469 [==============================] - 3s 6ms/step - loss: 0.4331 - accuracy: 0.8865 - val_loss: 0.4042 - val_accuracy: 0.8935\n",
      "Epoch 17/40\n",
      "469/469 [==============================] - 3s 7ms/step - loss: 0.4212 - accuracy: 0.8888 - val_loss: 0.3933 - val_accuracy: 0.8966\n",
      "Epoch 18/40\n",
      "469/469 [==============================] - 3s 6ms/step - loss: 0.4066 - accuracy: 0.8907 - val_loss: 0.3836 - val_accuracy: 0.8969\n",
      "Epoch 19/40\n",
      "469/469 [==============================] - 3s 7ms/step - loss: 0.3992 - accuracy: 0.8938 - val_loss: 0.3748 - val_accuracy: 0.8986\n",
      "Epoch 20/40\n",
      "469/469 [==============================] - 3s 6ms/step - loss: 0.3889 - accuracy: 0.8950 - val_loss: 0.3673 - val_accuracy: 0.9006\n",
      "Epoch 21/40\n",
      "469/469 [==============================] - 3s 6ms/step - loss: 0.3786 - accuracy: 0.8959 - val_loss: 0.3601 - val_accuracy: 0.9012\n",
      "Epoch 22/40\n",
      "469/469 [==============================] - 3s 6ms/step - loss: 0.3828 - accuracy: 0.8953 - val_loss: 0.3541 - val_accuracy: 0.9034\n",
      "Epoch 23/40\n",
      "469/469 [==============================] - 3s 6ms/step - loss: 0.3695 - accuracy: 0.8995 - val_loss: 0.3479 - val_accuracy: 0.9045\n",
      "Epoch 24/40\n",
      "469/469 [==============================] - 3s 6ms/step - loss: 0.3645 - accuracy: 0.9007 - val_loss: 0.3428 - val_accuracy: 0.9063\n",
      "Epoch 25/40\n",
      "469/469 [==============================] - 3s 6ms/step - loss: 0.3526 - accuracy: 0.9038 - val_loss: 0.3376 - val_accuracy: 0.9073\n",
      "Epoch 26/40\n",
      "469/469 [==============================] - 3s 6ms/step - loss: 0.3472 - accuracy: 0.9040 - val_loss: 0.3330 - val_accuracy: 0.9088\n",
      "Epoch 27/40\n",
      "469/469 [==============================] - 3s 6ms/step - loss: 0.3446 - accuracy: 0.9034 - val_loss: 0.3284 - val_accuracy: 0.9098\n",
      "Epoch 28/40\n",
      "469/469 [==============================] - 3s 6ms/step - loss: 0.3404 - accuracy: 0.9053 - val_loss: 0.3244 - val_accuracy: 0.9105\n",
      "Epoch 29/40\n",
      "469/469 [==============================] - 3s 6ms/step - loss: 0.3390 - accuracy: 0.9066 - val_loss: 0.3203 - val_accuracy: 0.9110\n",
      "Epoch 30/40\n",
      "469/469 [==============================] - 3s 6ms/step - loss: 0.3399 - accuracy: 0.9050 - val_loss: 0.3170 - val_accuracy: 0.9124\n",
      "Epoch 31/40\n",
      "469/469 [==============================] - 3s 6ms/step - loss: 0.3299 - accuracy: 0.9081 - val_loss: 0.3134 - val_accuracy: 0.9132\n",
      "Epoch 32/40\n",
      "469/469 [==============================] - 3s 6ms/step - loss: 0.3239 - accuracy: 0.9091 - val_loss: 0.3101 - val_accuracy: 0.9136\n",
      "Epoch 33/40\n",
      "469/469 [==============================] - 3s 6ms/step - loss: 0.3167 - accuracy: 0.9106 - val_loss: 0.3071 - val_accuracy: 0.9142\n",
      "Epoch 34/40\n",
      "469/469 [==============================] - 3s 6ms/step - loss: 0.3192 - accuracy: 0.9108 - val_loss: 0.3042 - val_accuracy: 0.9146\n",
      "Epoch 35/40\n",
      "469/469 [==============================] - 3s 6ms/step - loss: 0.3184 - accuracy: 0.9109 - val_loss: 0.3013 - val_accuracy: 0.9156\n",
      "Epoch 36/40\n",
      "469/469 [==============================] - 3s 6ms/step - loss: 0.3146 - accuracy: 0.9111 - val_loss: 0.2985 - val_accuracy: 0.9157\n",
      "Epoch 37/40\n",
      "469/469 [==============================] - 3s 6ms/step - loss: 0.3096 - accuracy: 0.9128 - val_loss: 0.2959 - val_accuracy: 0.9157\n",
      "Epoch 38/40\n",
      "469/469 [==============================] - 3s 6ms/step - loss: 0.3015 - accuracy: 0.9151 - val_loss: 0.2936 - val_accuracy: 0.9162\n",
      "Epoch 39/40\n",
      "469/469 [==============================] - 3s 6ms/step - loss: 0.3077 - accuracy: 0.9128 - val_loss: 0.2910 - val_accuracy: 0.9180\n",
      "Epoch 40/40\n",
      "469/469 [==============================] - 3s 6ms/step - loss: 0.2992 - accuracy: 0.9157 - val_loss: 0.2886 - val_accuracy: 0.9180\n",
      "Test loss: 0.2885540723800659, Test accuracy 0.9179999828338623\n"
     ]
    }
   ],
   "source": [
    "ep = 40\n",
    "learn = 0.001\n",
    "info = running_model(ep, learn)"
   ]
  },
  {
   "cell_type": "code",
   "execution_count": 11,
   "metadata": {},
   "outputs": [
    {
     "name": "stdout",
     "output_type": "stream",
     "text": [
      "Max value:  0.9179999828338623\n",
      "Standard deviation:  0.0656045393804049\n"
     ]
    }
   ],
   "source": [
    "cc = []\n",
    "cc = info.history['val_accuracy']\n",
    "import statistics\n",
    "print('Max value: ', max(cc))\n",
    "print('Standard deviation: ',statistics.stdev(cc))"
   ]
  },
  {
   "cell_type": "markdown",
   "metadata": {},
   "source": [
    "#### Regularization  factor 0.001 (run 3)"
   ]
  },
  {
   "cell_type": "code",
   "execution_count": 12,
   "metadata": {},
   "outputs": [
    {
     "name": "stdout",
     "output_type": "stream",
     "text": [
      "Epoch 1/40\n",
      "469/469 [==============================] - 4s 6ms/step - loss: 2.2954 - accuracy: 0.1285 - val_loss: 2.0329 - val_accuracy: 0.4548\n",
      "Epoch 2/40\n",
      "469/469 [==============================] - 3s 6ms/step - loss: 1.9636 - accuracy: 0.5388 - val_loss: 1.7118 - val_accuracy: 0.7033\n",
      "Epoch 3/40\n",
      "469/469 [==============================] - 3s 6ms/step - loss: 1.6484 - accuracy: 0.7160 - val_loss: 1.3922 - val_accuracy: 0.7661\n",
      "Epoch 4/40\n",
      "469/469 [==============================] - 3s 6ms/step - loss: 1.3426 - accuracy: 0.7710 - val_loss: 1.1197 - val_accuracy: 0.8040\n",
      "Epoch 5/40\n",
      "469/469 [==============================] - 3s 6ms/step - loss: 1.0929 - accuracy: 0.8031 - val_loss: 0.9210 - val_accuracy: 0.8275\n",
      "Epoch 6/40\n",
      "469/469 [==============================] - 3s 6ms/step - loss: 0.9137 - accuracy: 0.8209 - val_loss: 0.7849 - val_accuracy: 0.8416\n",
      "Epoch 7/40\n",
      "469/469 [==============================] - 3s 6ms/step - loss: 0.7885 - accuracy: 0.8356 - val_loss: 0.6903 - val_accuracy: 0.8544\n",
      "Epoch 8/40\n",
      "469/469 [==============================] - 3s 6ms/step - loss: 0.6993 - accuracy: 0.8482 - val_loss: 0.6226 - val_accuracy: 0.8621\n",
      "Epoch 9/40\n",
      "469/469 [==============================] - 3s 6ms/step - loss: 0.6354 - accuracy: 0.8551 - val_loss: 0.5722 - val_accuracy: 0.8685\n",
      "Epoch 10/40\n",
      "469/469 [==============================] - 3s 6ms/step - loss: 0.5890 - accuracy: 0.8617 - val_loss: 0.5333 - val_accuracy: 0.8741\n",
      "Epoch 11/40\n",
      "469/469 [==============================] - 3s 6ms/step - loss: 0.5563 - accuracy: 0.8669 - val_loss: 0.5021 - val_accuracy: 0.8782\n",
      "Epoch 12/40\n",
      "469/469 [==============================] - 3s 6ms/step - loss: 0.5259 - accuracy: 0.8710 - val_loss: 0.4769 - val_accuracy: 0.8819\n",
      "Epoch 13/40\n",
      "469/469 [==============================] - 3s 6ms/step - loss: 0.4958 - accuracy: 0.8741 - val_loss: 0.4561 - val_accuracy: 0.8852\n",
      "Epoch 14/40\n",
      "469/469 [==============================] - 3s 6ms/step - loss: 0.4766 - accuracy: 0.8790 - val_loss: 0.4385 - val_accuracy: 0.8887\n",
      "Epoch 15/40\n",
      "469/469 [==============================] - 3s 6ms/step - loss: 0.4553 - accuracy: 0.8834 - val_loss: 0.4234 - val_accuracy: 0.8918\n",
      "Epoch 16/40\n",
      "469/469 [==============================] - 3s 6ms/step - loss: 0.4450 - accuracy: 0.8852 - val_loss: 0.4100 - val_accuracy: 0.8941\n",
      "Epoch 17/40\n",
      "469/469 [==============================] - 3s 6ms/step - loss: 0.4223 - accuracy: 0.8892 - val_loss: 0.3987 - val_accuracy: 0.8959\n",
      "Epoch 18/40\n",
      "469/469 [==============================] - 3s 6ms/step - loss: 0.4191 - accuracy: 0.8881 - val_loss: 0.3884 - val_accuracy: 0.8977\n",
      "Epoch 19/40\n",
      "469/469 [==============================] - 3s 6ms/step - loss: 0.4049 - accuracy: 0.8916 - val_loss: 0.3794 - val_accuracy: 0.8993\n",
      "Epoch 20/40\n",
      "469/469 [==============================] - 3s 6ms/step - loss: 0.3962 - accuracy: 0.8931 - val_loss: 0.3716 - val_accuracy: 0.9017\n",
      "Epoch 21/40\n",
      "469/469 [==============================] - 3s 6ms/step - loss: 0.3919 - accuracy: 0.8924 - val_loss: 0.3639 - val_accuracy: 0.9038\n",
      "Epoch 22/40\n",
      "469/469 [==============================] - 3s 6ms/step - loss: 0.3854 - accuracy: 0.8964 - val_loss: 0.3574 - val_accuracy: 0.9039\n",
      "Epoch 23/40\n",
      "469/469 [==============================] - 3s 6ms/step - loss: 0.3722 - accuracy: 0.8986 - val_loss: 0.3513 - val_accuracy: 0.9052\n",
      "Epoch 24/40\n",
      "469/469 [==============================] - 3s 6ms/step - loss: 0.3701 - accuracy: 0.8981 - val_loss: 0.3454 - val_accuracy: 0.9076\n",
      "Epoch 25/40\n",
      "469/469 [==============================] - 3s 6ms/step - loss: 0.3621 - accuracy: 0.8989 - val_loss: 0.3404 - val_accuracy: 0.9083\n",
      "Epoch 26/40\n",
      "469/469 [==============================] - 3s 6ms/step - loss: 0.3562 - accuracy: 0.9007 - val_loss: 0.3356 - val_accuracy: 0.9090\n",
      "Epoch 27/40\n",
      "469/469 [==============================] - 3s 6ms/step - loss: 0.3511 - accuracy: 0.9029 - val_loss: 0.3312 - val_accuracy: 0.9090\n",
      "Epoch 28/40\n",
      "469/469 [==============================] - 3s 6ms/step - loss: 0.3502 - accuracy: 0.9041 - val_loss: 0.3267 - val_accuracy: 0.9108\n",
      "Epoch 29/40\n",
      "469/469 [==============================] - 3s 6ms/step - loss: 0.3495 - accuracy: 0.9026 - val_loss: 0.3229 - val_accuracy: 0.9112\n",
      "Epoch 30/40\n",
      "469/469 [==============================] - 3s 6ms/step - loss: 0.3358 - accuracy: 0.9072 - val_loss: 0.3189 - val_accuracy: 0.9122\n",
      "Epoch 31/40\n",
      "469/469 [==============================] - 3s 6ms/step - loss: 0.3318 - accuracy: 0.9089 - val_loss: 0.3155 - val_accuracy: 0.9130\n",
      "Epoch 32/40\n",
      "469/469 [==============================] - 3s 6ms/step - loss: 0.3304 - accuracy: 0.9088 - val_loss: 0.3122 - val_accuracy: 0.9135\n",
      "Epoch 33/40\n",
      "469/469 [==============================] - 3s 6ms/step - loss: 0.3297 - accuracy: 0.9074 - val_loss: 0.3089 - val_accuracy: 0.9148\n",
      "Epoch 34/40\n",
      "469/469 [==============================] - 3s 6ms/step - loss: 0.3226 - accuracy: 0.9102 - val_loss: 0.3059 - val_accuracy: 0.9150\n",
      "Epoch 35/40\n",
      "469/469 [==============================] - 3s 6ms/step - loss: 0.3170 - accuracy: 0.9108 - val_loss: 0.3030 - val_accuracy: 0.9164\n",
      "Epoch 36/40\n",
      "469/469 [==============================] - 3s 6ms/step - loss: 0.3174 - accuracy: 0.9106 - val_loss: 0.3003 - val_accuracy: 0.9170\n",
      "Epoch 37/40\n",
      "469/469 [==============================] - 3s 6ms/step - loss: 0.3135 - accuracy: 0.9109 - val_loss: 0.2977 - val_accuracy: 0.9178\n",
      "Epoch 38/40\n",
      "469/469 [==============================] - 3s 6ms/step - loss: 0.3041 - accuracy: 0.9143 - val_loss: 0.2949 - val_accuracy: 0.9187\n",
      "Epoch 39/40\n",
      "469/469 [==============================] - 3s 6ms/step - loss: 0.3082 - accuracy: 0.9142 - val_loss: 0.2924 - val_accuracy: 0.9192\n",
      "Epoch 40/40\n",
      "469/469 [==============================] - 3s 6ms/step - loss: 0.3021 - accuracy: 0.9154 - val_loss: 0.2901 - val_accuracy: 0.9201\n",
      "Test loss: 0.290050208568573, Test accuracy 0.9200999736785889\n"
     ]
    }
   ],
   "source": [
    "ep = 40\n",
    "learn = 0.001\n",
    "info = running_model(ep, learn)"
   ]
  },
  {
   "cell_type": "code",
   "execution_count": 13,
   "metadata": {},
   "outputs": [
    {
     "name": "stdout",
     "output_type": "stream",
     "text": [
      "Max value:  0.9200999736785889\n",
      "Standard deviation:  0.08142213493982044\n"
     ]
    }
   ],
   "source": [
    "cc = []\n",
    "cc = info.history['val_accuracy']\n",
    "import statistics\n",
    "print('Max value: ', max(cc))\n",
    "print('Standard deviation: ',statistics.stdev(cc))"
   ]
  },
  {
   "cell_type": "markdown",
   "metadata": {},
   "source": [
    "#### Regularization  factor 0.005 (run 1)"
   ]
  },
  {
   "cell_type": "code",
   "execution_count": 14,
   "metadata": {},
   "outputs": [
    {
     "name": "stdout",
     "output_type": "stream",
     "text": [
      "Epoch 1/40\n",
      "469/469 [==============================] - 4s 6ms/step - loss: 1.9014 - accuracy: 0.4723 - val_loss: 0.8540 - val_accuracy: 0.8408\n",
      "Epoch 2/40\n",
      "469/469 [==============================] - 3s 6ms/step - loss: 0.7613 - accuracy: 0.8447 - val_loss: 0.5126 - val_accuracy: 0.8782\n",
      "Epoch 3/40\n",
      "469/469 [==============================] - 3s 6ms/step - loss: 0.5046 - accuracy: 0.8770 - val_loss: 0.4097 - val_accuracy: 0.8945\n",
      "Epoch 4/40\n",
      "469/469 [==============================] - 3s 6ms/step - loss: 0.4232 - accuracy: 0.8890 - val_loss: 0.3616 - val_accuracy: 0.9048\n",
      "Epoch 5/40\n",
      "469/469 [==============================] - 3s 6ms/step - loss: 0.3761 - accuracy: 0.8994 - val_loss: 0.3320 - val_accuracy: 0.9098\n",
      "Epoch 6/40\n",
      "469/469 [==============================] - 3s 6ms/step - loss: 0.3484 - accuracy: 0.9031 - val_loss: 0.3110 - val_accuracy: 0.9138\n",
      "Epoch 7/40\n",
      "469/469 [==============================] - 3s 6ms/step - loss: 0.3242 - accuracy: 0.9106 - val_loss: 0.2959 - val_accuracy: 0.9186\n",
      "Epoch 8/40\n",
      "469/469 [==============================] - 3s 6ms/step - loss: 0.3089 - accuracy: 0.9131 - val_loss: 0.2836 - val_accuracy: 0.9199\n",
      "Epoch 9/40\n",
      "469/469 [==============================] - 3s 6ms/step - loss: 0.2936 - accuracy: 0.9172 - val_loss: 0.2726 - val_accuracy: 0.9238\n",
      "Epoch 10/40\n",
      "469/469 [==============================] - 3s 6ms/step - loss: 0.2811 - accuracy: 0.9199 - val_loss: 0.2639 - val_accuracy: 0.9259\n",
      "Epoch 11/40\n",
      "469/469 [==============================] - 3s 6ms/step - loss: 0.2743 - accuracy: 0.9233 - val_loss: 0.2553 - val_accuracy: 0.9291\n",
      "Epoch 12/40\n",
      "469/469 [==============================] - 3s 6ms/step - loss: 0.2639 - accuracy: 0.9255 - val_loss: 0.2484 - val_accuracy: 0.9308\n",
      "Epoch 13/40\n",
      "469/469 [==============================] - 3s 6ms/step - loss: 0.2581 - accuracy: 0.9274 - val_loss: 0.2421 - val_accuracy: 0.9315\n",
      "Epoch 14/40\n",
      "469/469 [==============================] - 3s 6ms/step - loss: 0.2490 - accuracy: 0.9309 - val_loss: 0.2359 - val_accuracy: 0.9338\n",
      "Epoch 15/40\n",
      "469/469 [==============================] - 3s 6ms/step - loss: 0.2328 - accuracy: 0.9342 - val_loss: 0.2295 - val_accuracy: 0.9351\n",
      "Epoch 16/40\n",
      "469/469 [==============================] - 3s 6ms/step - loss: 0.2382 - accuracy: 0.9329 - val_loss: 0.2246 - val_accuracy: 0.9361\n",
      "Epoch 17/40\n",
      "469/469 [==============================] - 3s 6ms/step - loss: 0.2294 - accuracy: 0.9363 - val_loss: 0.2201 - val_accuracy: 0.9373\n",
      "Epoch 18/40\n",
      "469/469 [==============================] - 3s 6ms/step - loss: 0.2302 - accuracy: 0.9361 - val_loss: 0.2155 - val_accuracy: 0.9387\n",
      "Epoch 19/40\n",
      "469/469 [==============================] - 3s 6ms/step - loss: 0.2185 - accuracy: 0.9389 - val_loss: 0.2110 - val_accuracy: 0.9388\n",
      "Epoch 20/40\n",
      "469/469 [==============================] - 3s 6ms/step - loss: 0.2128 - accuracy: 0.9397 - val_loss: 0.2075 - val_accuracy: 0.9409\n",
      "Epoch 21/40\n",
      "469/469 [==============================] - 3s 6ms/step - loss: 0.2106 - accuracy: 0.9426 - val_loss: 0.2024 - val_accuracy: 0.9421\n",
      "Epoch 22/40\n",
      "469/469 [==============================] - 3s 6ms/step - loss: 0.2073 - accuracy: 0.9417 - val_loss: 0.1995 - val_accuracy: 0.9437\n",
      "Epoch 23/40\n",
      "469/469 [==============================] - 3s 6ms/step - loss: 0.2033 - accuracy: 0.9431 - val_loss: 0.1945 - val_accuracy: 0.9448\n",
      "Epoch 24/40\n",
      "469/469 [==============================] - 3s 6ms/step - loss: 0.1985 - accuracy: 0.9446 - val_loss: 0.1908 - val_accuracy: 0.9453\n",
      "Epoch 25/40\n",
      "469/469 [==============================] - 3s 6ms/step - loss: 0.1921 - accuracy: 0.9472 - val_loss: 0.1873 - val_accuracy: 0.9468\n",
      "Epoch 26/40\n",
      "469/469 [==============================] - 3s 6ms/step - loss: 0.1854 - accuracy: 0.9494 - val_loss: 0.1845 - val_accuracy: 0.9476\n",
      "Epoch 27/40\n",
      "469/469 [==============================] - 3s 6ms/step - loss: 0.1863 - accuracy: 0.9496 - val_loss: 0.1821 - val_accuracy: 0.9480\n",
      "Epoch 28/40\n",
      "469/469 [==============================] - 3s 6ms/step - loss: 0.1839 - accuracy: 0.9496 - val_loss: 0.1781 - val_accuracy: 0.9497\n",
      "Epoch 29/40\n",
      "469/469 [==============================] - 3s 6ms/step - loss: 0.1760 - accuracy: 0.9519 - val_loss: 0.1750 - val_accuracy: 0.9507\n",
      "Epoch 30/40\n",
      "469/469 [==============================] - 3s 6ms/step - loss: 0.1758 - accuracy: 0.9508 - val_loss: 0.1720 - val_accuracy: 0.9519\n",
      "Epoch 31/40\n",
      "469/469 [==============================] - 3s 6ms/step - loss: 0.1732 - accuracy: 0.9516 - val_loss: 0.1699 - val_accuracy: 0.9515\n",
      "Epoch 32/40\n",
      "469/469 [==============================] - 3s 6ms/step - loss: 0.1659 - accuracy: 0.9537 - val_loss: 0.1675 - val_accuracy: 0.9531\n",
      "Epoch 33/40\n",
      "469/469 [==============================] - 3s 6ms/step - loss: 0.1617 - accuracy: 0.9554 - val_loss: 0.1650 - val_accuracy: 0.9535\n",
      "Epoch 34/40\n",
      "469/469 [==============================] - 3s 6ms/step - loss: 0.1650 - accuracy: 0.9537 - val_loss: 0.1624 - val_accuracy: 0.9543\n",
      "Epoch 35/40\n",
      "469/469 [==============================] - 3s 6ms/step - loss: 0.1601 - accuracy: 0.9550 - val_loss: 0.1602 - val_accuracy: 0.9551\n",
      "Epoch 36/40\n",
      "469/469 [==============================] - 3s 6ms/step - loss: 0.1560 - accuracy: 0.9562 - val_loss: 0.1583 - val_accuracy: 0.9548\n",
      "Epoch 37/40\n",
      "469/469 [==============================] - 3s 6ms/step - loss: 0.1551 - accuracy: 0.9563 - val_loss: 0.1557 - val_accuracy: 0.9553\n",
      "Epoch 38/40\n",
      "469/469 [==============================] - 3s 6ms/step - loss: 0.1516 - accuracy: 0.9581 - val_loss: 0.1534 - val_accuracy: 0.9567\n",
      "Epoch 39/40\n",
      "469/469 [==============================] - 3s 6ms/step - loss: 0.1509 - accuracy: 0.9589 - val_loss: 0.1517 - val_accuracy: 0.9567\n",
      "Epoch 40/40\n",
      "469/469 [==============================] - 3s 6ms/step - loss: 0.1484 - accuracy: 0.9591 - val_loss: 0.1507 - val_accuracy: 0.9565\n",
      "Test loss: 0.1507023125886917, Test accuracy 0.9564999938011169\n"
     ]
    }
   ],
   "source": [
    "ep = 40\n",
    "learn = 0.005\n",
    "info = running_model(ep, learn)"
   ]
  },
  {
   "cell_type": "code",
   "execution_count": 15,
   "metadata": {},
   "outputs": [
    {
     "name": "stdout",
     "output_type": "stream",
     "text": [
      "Max value:  0.9567000269889832\n",
      "Standard deviation:  0.02377655110530879\n"
     ]
    }
   ],
   "source": [
    "cc = []\n",
    "cc = info.history['val_accuracy']\n",
    "import statistics\n",
    "print('Max value: ', max(cc))\n",
    "print('Standard deviation: ',statistics.stdev(cc))"
   ]
  },
  {
   "cell_type": "markdown",
   "metadata": {},
   "source": [
    "#### Regularization  factor 0.005 (run 2)"
   ]
  },
  {
   "cell_type": "code",
   "execution_count": 16,
   "metadata": {},
   "outputs": [
    {
     "name": "stdout",
     "output_type": "stream",
     "text": [
      "Epoch 1/40\n",
      "469/469 [==============================] - 4s 6ms/step - loss: 1.8601 - accuracy: 0.4650 - val_loss: 0.8397 - val_accuracy: 0.8300\n",
      "Epoch 2/40\n",
      "469/469 [==============================] - 3s 6ms/step - loss: 0.7407 - accuracy: 0.8406 - val_loss: 0.5131 - val_accuracy: 0.8774\n",
      "Epoch 3/40\n",
      "469/469 [==============================] - 3s 6ms/step - loss: 0.5041 - accuracy: 0.8748 - val_loss: 0.4139 - val_accuracy: 0.8915\n",
      "Epoch 4/40\n",
      "469/469 [==============================] - 3s 6ms/step - loss: 0.4139 - accuracy: 0.8917 - val_loss: 0.3651 - val_accuracy: 0.8994\n",
      "Epoch 5/40\n",
      "469/469 [==============================] - 3s 6ms/step - loss: 0.3762 - accuracy: 0.8981 - val_loss: 0.3357 - val_accuracy: 0.9068\n",
      "Epoch 6/40\n",
      "469/469 [==============================] - 3s 6ms/step - loss: 0.3453 - accuracy: 0.9056 - val_loss: 0.3142 - val_accuracy: 0.9125\n",
      "Epoch 7/40\n",
      "469/469 [==============================] - 3s 6ms/step - loss: 0.3255 - accuracy: 0.9091 - val_loss: 0.2991 - val_accuracy: 0.9162\n",
      "Epoch 8/40\n",
      "469/469 [==============================] - 3s 6ms/step - loss: 0.3083 - accuracy: 0.9154 - val_loss: 0.2866 - val_accuracy: 0.9189\n",
      "Epoch 9/40\n",
      "469/469 [==============================] - 3s 6ms/step - loss: 0.2970 - accuracy: 0.9156 - val_loss: 0.2749 - val_accuracy: 0.9225\n",
      "Epoch 10/40\n",
      "469/469 [==============================] - 3s 6ms/step - loss: 0.2814 - accuracy: 0.9205 - val_loss: 0.2660 - val_accuracy: 0.9252\n",
      "Epoch 11/40\n",
      "469/469 [==============================] - 3s 6ms/step - loss: 0.2721 - accuracy: 0.9242 - val_loss: 0.2580 - val_accuracy: 0.9268\n",
      "Epoch 12/40\n",
      "469/469 [==============================] - 3s 6ms/step - loss: 0.2664 - accuracy: 0.9256 - val_loss: 0.2502 - val_accuracy: 0.9285\n",
      "Epoch 13/40\n",
      "469/469 [==============================] - 3s 6ms/step - loss: 0.2597 - accuracy: 0.9264 - val_loss: 0.2428 - val_accuracy: 0.9316\n",
      "Epoch 14/40\n",
      "469/469 [==============================] - 3s 6ms/step - loss: 0.2512 - accuracy: 0.9301 - val_loss: 0.2367 - val_accuracy: 0.9335\n",
      "Epoch 15/40\n",
      "469/469 [==============================] - 3s 6ms/step - loss: 0.2388 - accuracy: 0.9329 - val_loss: 0.2302 - val_accuracy: 0.9346\n",
      "Epoch 16/40\n",
      "469/469 [==============================] - 3s 6ms/step - loss: 0.2346 - accuracy: 0.9336 - val_loss: 0.2258 - val_accuracy: 0.9358\n",
      "Epoch 17/40\n",
      "469/469 [==============================] - 3s 6ms/step - loss: 0.2311 - accuracy: 0.9346 - val_loss: 0.2210 - val_accuracy: 0.9382\n",
      "Epoch 18/40\n",
      "469/469 [==============================] - 3s 6ms/step - loss: 0.2239 - accuracy: 0.9368 - val_loss: 0.2158 - val_accuracy: 0.9387\n",
      "Epoch 19/40\n",
      "469/469 [==============================] - 3s 6ms/step - loss: 0.2171 - accuracy: 0.9403 - val_loss: 0.2114 - val_accuracy: 0.9397\n",
      "Epoch 20/40\n",
      "469/469 [==============================] - 3s 6ms/step - loss: 0.2182 - accuracy: 0.9387 - val_loss: 0.2067 - val_accuracy: 0.9413\n",
      "Epoch 21/40\n",
      "469/469 [==============================] - 3s 6ms/step - loss: 0.2116 - accuracy: 0.9415 - val_loss: 0.2018 - val_accuracy: 0.9434\n",
      "Epoch 22/40\n",
      "469/469 [==============================] - 3s 6ms/step - loss: 0.2065 - accuracy: 0.9428 - val_loss: 0.1981 - val_accuracy: 0.9444\n",
      "Epoch 23/40\n",
      "469/469 [==============================] - 3s 6ms/step - loss: 0.1987 - accuracy: 0.9444 - val_loss: 0.1951 - val_accuracy: 0.9450\n",
      "Epoch 24/40\n",
      "469/469 [==============================] - 3s 6ms/step - loss: 0.1933 - accuracy: 0.9466 - val_loss: 0.1913 - val_accuracy: 0.9467\n",
      "Epoch 25/40\n",
      "469/469 [==============================] - 3s 6ms/step - loss: 0.1906 - accuracy: 0.9476 - val_loss: 0.1877 - val_accuracy: 0.9466\n",
      "Epoch 26/40\n",
      "469/469 [==============================] - 3s 6ms/step - loss: 0.1827 - accuracy: 0.9490 - val_loss: 0.1839 - val_accuracy: 0.9480\n",
      "Epoch 27/40\n",
      "469/469 [==============================] - 3s 6ms/step - loss: 0.1833 - accuracy: 0.9490 - val_loss: 0.1801 - val_accuracy: 0.9485\n",
      "Epoch 28/40\n",
      "469/469 [==============================] - 3s 6ms/step - loss: 0.1820 - accuracy: 0.9496 - val_loss: 0.1773 - val_accuracy: 0.9500\n",
      "Epoch 29/40\n",
      "469/469 [==============================] - 3s 6ms/step - loss: 0.1776 - accuracy: 0.9501 - val_loss: 0.1742 - val_accuracy: 0.9499\n",
      "Epoch 30/40\n",
      "469/469 [==============================] - 3s 6ms/step - loss: 0.1693 - accuracy: 0.9516 - val_loss: 0.1713 - val_accuracy: 0.9509\n",
      "Epoch 31/40\n",
      "469/469 [==============================] - 3s 6ms/step - loss: 0.1695 - accuracy: 0.9523 - val_loss: 0.1689 - val_accuracy: 0.9518\n",
      "Epoch 32/40\n",
      "469/469 [==============================] - 3s 6ms/step - loss: 0.1663 - accuracy: 0.9542 - val_loss: 0.1671 - val_accuracy: 0.9524\n",
      "Epoch 33/40\n",
      "469/469 [==============================] - 3s 6ms/step - loss: 0.1623 - accuracy: 0.9541 - val_loss: 0.1638 - val_accuracy: 0.9527\n",
      "Epoch 34/40\n",
      "469/469 [==============================] - 3s 6ms/step - loss: 0.1598 - accuracy: 0.9544 - val_loss: 0.1612 - val_accuracy: 0.9528\n",
      "Epoch 35/40\n",
      "469/469 [==============================] - 3s 6ms/step - loss: 0.1571 - accuracy: 0.9571 - val_loss: 0.1590 - val_accuracy: 0.9533\n",
      "Epoch 36/40\n",
      "469/469 [==============================] - 3s 6ms/step - loss: 0.1564 - accuracy: 0.9554 - val_loss: 0.1559 - val_accuracy: 0.9546\n",
      "Epoch 37/40\n",
      "469/469 [==============================] - 3s 6ms/step - loss: 0.1548 - accuracy: 0.9562 - val_loss: 0.1542 - val_accuracy: 0.9553\n",
      "Epoch 38/40\n",
      "469/469 [==============================] - 3s 6ms/step - loss: 0.1472 - accuracy: 0.9580 - val_loss: 0.1511 - val_accuracy: 0.9560\n",
      "Epoch 39/40\n",
      "469/469 [==============================] - 3s 6ms/step - loss: 0.1424 - accuracy: 0.9601 - val_loss: 0.1492 - val_accuracy: 0.9564\n",
      "Epoch 40/40\n",
      "469/469 [==============================] - 3s 6ms/step - loss: 0.1464 - accuracy: 0.9579 - val_loss: 0.1472 - val_accuracy: 0.9565\n",
      "Test loss: 0.14721371233463287, Test accuracy 0.9564999938011169\n"
     ]
    }
   ],
   "source": [
    "ep = 40\n",
    "learn = 0.005\n",
    "info = running_model(ep, learn)"
   ]
  },
  {
   "cell_type": "code",
   "execution_count": 17,
   "metadata": {},
   "outputs": [
    {
     "name": "stdout",
     "output_type": "stream",
     "text": [
      "Max value:  0.9564999938011169\n",
      "Standard deviation:  0.025387090346489814\n"
     ]
    }
   ],
   "source": [
    "cc = []\n",
    "cc = info.history['val_accuracy']\n",
    "import statistics\n",
    "print('Max value: ', max(cc))\n",
    "print('Standard deviation: ',statistics.stdev(cc))"
   ]
  },
  {
   "cell_type": "markdown",
   "metadata": {},
   "source": [
    "#### Regularization  factor 0.005 (run 3)"
   ]
  },
  {
   "cell_type": "code",
   "execution_count": 18,
   "metadata": {},
   "outputs": [
    {
     "name": "stdout",
     "output_type": "stream",
     "text": [
      "Epoch 1/40\n",
      "469/469 [==============================] - 4s 6ms/step - loss: 1.9006 - accuracy: 0.4699 - val_loss: 0.8580 - val_accuracy: 0.8254\n",
      "Epoch 2/40\n",
      "469/469 [==============================] - 3s 6ms/step - loss: 0.7582 - accuracy: 0.8339 - val_loss: 0.5209 - val_accuracy: 0.8742\n",
      "Epoch 3/40\n",
      "469/469 [==============================] - 3s 6ms/step - loss: 0.5095 - accuracy: 0.8743 - val_loss: 0.4164 - val_accuracy: 0.8937\n",
      "Epoch 4/40\n",
      "469/469 [==============================] - 3s 6ms/step - loss: 0.4229 - accuracy: 0.8886 - val_loss: 0.3657 - val_accuracy: 0.9025\n",
      "Epoch 5/40\n",
      "469/469 [==============================] - 3s 6ms/step - loss: 0.3743 - accuracy: 0.8982 - val_loss: 0.3361 - val_accuracy: 0.9080\n",
      "Epoch 6/40\n",
      "469/469 [==============================] - 3s 6ms/step - loss: 0.3433 - accuracy: 0.9044 - val_loss: 0.3145 - val_accuracy: 0.9131\n",
      "Epoch 7/40\n",
      "469/469 [==============================] - 3s 6ms/step - loss: 0.3214 - accuracy: 0.9098 - val_loss: 0.2988 - val_accuracy: 0.9176\n",
      "Epoch 8/40\n",
      "469/469 [==============================] - 3s 6ms/step - loss: 0.3128 - accuracy: 0.9120 - val_loss: 0.2874 - val_accuracy: 0.9207\n",
      "Epoch 9/40\n",
      "469/469 [==============================] - 3s 6ms/step - loss: 0.2984 - accuracy: 0.9164 - val_loss: 0.2763 - val_accuracy: 0.9242\n",
      "Epoch 10/40\n",
      "469/469 [==============================] - 3s 6ms/step - loss: 0.2902 - accuracy: 0.9182 - val_loss: 0.2670 - val_accuracy: 0.9267\n",
      "Epoch 11/40\n",
      "469/469 [==============================] - 3s 6ms/step - loss: 0.2765 - accuracy: 0.9211 - val_loss: 0.2587 - val_accuracy: 0.9296\n",
      "Epoch 12/40\n",
      "469/469 [==============================] - 3s 6ms/step - loss: 0.2629 - accuracy: 0.9262 - val_loss: 0.2525 - val_accuracy: 0.9306\n",
      "Epoch 13/40\n",
      "469/469 [==============================] - 3s 6ms/step - loss: 0.2571 - accuracy: 0.9275 - val_loss: 0.2456 - val_accuracy: 0.9318\n",
      "Epoch 14/40\n",
      "469/469 [==============================] - 3s 6ms/step - loss: 0.2520 - accuracy: 0.9291 - val_loss: 0.2392 - val_accuracy: 0.9342\n",
      "Epoch 15/40\n",
      "469/469 [==============================] - 3s 6ms/step - loss: 0.2417 - accuracy: 0.9320 - val_loss: 0.2338 - val_accuracy: 0.9345\n",
      "Epoch 16/40\n",
      "469/469 [==============================] - 3s 6ms/step - loss: 0.2385 - accuracy: 0.9333 - val_loss: 0.2287 - val_accuracy: 0.9357\n",
      "Epoch 17/40\n",
      "469/469 [==============================] - 3s 6ms/step - loss: 0.2341 - accuracy: 0.9331 - val_loss: 0.2230 - val_accuracy: 0.9380\n",
      "Epoch 18/40\n",
      "469/469 [==============================] - 3s 6ms/step - loss: 0.2229 - accuracy: 0.9375 - val_loss: 0.2187 - val_accuracy: 0.9385\n",
      "Epoch 19/40\n",
      "469/469 [==============================] - 3s 6ms/step - loss: 0.2237 - accuracy: 0.9365 - val_loss: 0.2139 - val_accuracy: 0.9401\n",
      "Epoch 20/40\n",
      "469/469 [==============================] - 3s 6ms/step - loss: 0.2152 - accuracy: 0.9397 - val_loss: 0.2100 - val_accuracy: 0.9411\n",
      "Epoch 21/40\n",
      "469/469 [==============================] - 3s 6ms/step - loss: 0.2136 - accuracy: 0.9388 - val_loss: 0.2060 - val_accuracy: 0.9410\n",
      "Epoch 22/40\n",
      "469/469 [==============================] - 3s 6ms/step - loss: 0.2067 - accuracy: 0.9420 - val_loss: 0.2022 - val_accuracy: 0.9431\n",
      "Epoch 23/40\n",
      "469/469 [==============================] - 3s 6ms/step - loss: 0.2020 - accuracy: 0.9443 - val_loss: 0.1987 - val_accuracy: 0.9441\n",
      "Epoch 24/40\n",
      "469/469 [==============================] - 3s 6ms/step - loss: 0.2011 - accuracy: 0.9448 - val_loss: 0.1946 - val_accuracy: 0.9458\n",
      "Epoch 25/40\n",
      "469/469 [==============================] - 3s 6ms/step - loss: 0.1957 - accuracy: 0.9441 - val_loss: 0.1912 - val_accuracy: 0.9458\n",
      "Epoch 26/40\n",
      "469/469 [==============================] - 3s 6ms/step - loss: 0.1851 - accuracy: 0.9480 - val_loss: 0.1884 - val_accuracy: 0.9462\n",
      "Epoch 27/40\n",
      "469/469 [==============================] - 3s 6ms/step - loss: 0.1857 - accuracy: 0.9476 - val_loss: 0.1852 - val_accuracy: 0.9468\n",
      "Epoch 28/40\n",
      "469/469 [==============================] - 3s 6ms/step - loss: 0.1811 - accuracy: 0.9485 - val_loss: 0.1822 - val_accuracy: 0.9493\n",
      "Epoch 29/40\n",
      "469/469 [==============================] - 3s 6ms/step - loss: 0.1781 - accuracy: 0.9496 - val_loss: 0.1787 - val_accuracy: 0.9489\n",
      "Epoch 30/40\n",
      "469/469 [==============================] - 3s 6ms/step - loss: 0.1716 - accuracy: 0.9522 - val_loss: 0.1759 - val_accuracy: 0.9501\n",
      "Epoch 31/40\n",
      "469/469 [==============================] - 3s 6ms/step - loss: 0.1684 - accuracy: 0.9524 - val_loss: 0.1734 - val_accuracy: 0.9507\n",
      "Epoch 32/40\n",
      "469/469 [==============================] - 3s 6ms/step - loss: 0.1699 - accuracy: 0.9517 - val_loss: 0.1699 - val_accuracy: 0.9511\n",
      "Epoch 33/40\n",
      "469/469 [==============================] - 3s 6ms/step - loss: 0.1655 - accuracy: 0.9538 - val_loss: 0.1677 - val_accuracy: 0.9519\n",
      "Epoch 34/40\n",
      "469/469 [==============================] - 3s 6ms/step - loss: 0.1595 - accuracy: 0.9545 - val_loss: 0.1655 - val_accuracy: 0.9515\n",
      "Epoch 35/40\n",
      "469/469 [==============================] - 3s 6ms/step - loss: 0.1585 - accuracy: 0.9547 - val_loss: 0.1627 - val_accuracy: 0.9526\n",
      "Epoch 36/40\n",
      "469/469 [==============================] - 3s 6ms/step - loss: 0.1582 - accuracy: 0.9545 - val_loss: 0.1600 - val_accuracy: 0.9527\n",
      "Epoch 37/40\n",
      "469/469 [==============================] - 3s 6ms/step - loss: 0.1534 - accuracy: 0.9566 - val_loss: 0.1584 - val_accuracy: 0.9544\n",
      "Epoch 38/40\n",
      "469/469 [==============================] - 3s 6ms/step - loss: 0.1508 - accuracy: 0.9577 - val_loss: 0.1558 - val_accuracy: 0.9551\n",
      "Epoch 39/40\n",
      "469/469 [==============================] - 3s 6ms/step - loss: 0.1488 - accuracy: 0.9571 - val_loss: 0.1537 - val_accuracy: 0.9558\n",
      "Epoch 40/40\n",
      "469/469 [==============================] - 3s 6ms/step - loss: 0.1481 - accuracy: 0.9578 - val_loss: 0.1518 - val_accuracy: 0.9561\n",
      "Test loss: 0.15184490382671356, Test accuracy 0.9560999870300293\n"
     ]
    }
   ],
   "source": [
    "ep = 40\n",
    "learn = 0.005\n",
    "info = running_model(ep, learn)"
   ]
  },
  {
   "cell_type": "code",
   "execution_count": 19,
   "metadata": {},
   "outputs": [
    {
     "name": "stdout",
     "output_type": "stream",
     "text": [
      "Max value:  0.9560999870300293\n",
      "Standard deviation:  0.025376603549890037\n"
     ]
    }
   ],
   "source": [
    "cc = []\n",
    "cc = info.history['val_accuracy']\n",
    "import statistics\n",
    "print('Max value: ', max(cc))\n",
    "print('Standard deviation: ',statistics.stdev(cc))"
   ]
  },
  {
   "cell_type": "markdown",
   "metadata": {},
   "source": [
    "#### Regularization  factor 0.008 (run 1)"
   ]
  },
  {
   "cell_type": "code",
   "execution_count": 20,
   "metadata": {},
   "outputs": [
    {
     "name": "stdout",
     "output_type": "stream",
     "text": [
      "Epoch 1/40\n",
      "469/469 [==============================] - 4s 6ms/step - loss: 1.7075 - accuracy: 0.5664 - val_loss: 0.6172 - val_accuracy: 0.8630\n",
      "Epoch 2/40\n",
      "469/469 [==============================] - 3s 6ms/step - loss: 0.5653 - accuracy: 0.8626 - val_loss: 0.4078 - val_accuracy: 0.8925\n",
      "Epoch 3/40\n",
      "469/469 [==============================] - 3s 6ms/step - loss: 0.4069 - accuracy: 0.8911 - val_loss: 0.3436 - val_accuracy: 0.9055\n",
      "Epoch 4/40\n",
      "469/469 [==============================] - 3s 6ms/step - loss: 0.3422 - accuracy: 0.9070 - val_loss: 0.3105 - val_accuracy: 0.9126\n",
      "Epoch 5/40\n",
      "469/469 [==============================] - 3s 6ms/step - loss: 0.3184 - accuracy: 0.9109 - val_loss: 0.2885 - val_accuracy: 0.9191\n",
      "Epoch 6/40\n",
      "469/469 [==============================] - 3s 6ms/step - loss: 0.2967 - accuracy: 0.9160 - val_loss: 0.2742 - val_accuracy: 0.9230\n",
      "Epoch 7/40\n",
      "469/469 [==============================] - 3s 6ms/step - loss: 0.2743 - accuracy: 0.9221 - val_loss: 0.2594 - val_accuracy: 0.9269\n",
      "Epoch 8/40\n",
      "469/469 [==============================] - 3s 6ms/step - loss: 0.2648 - accuracy: 0.9250 - val_loss: 0.2476 - val_accuracy: 0.9287\n",
      "Epoch 9/40\n",
      "469/469 [==============================] - 3s 6ms/step - loss: 0.2544 - accuracy: 0.9287 - val_loss: 0.2383 - val_accuracy: 0.9326\n",
      "Epoch 10/40\n",
      "469/469 [==============================] - 3s 6ms/step - loss: 0.2402 - accuracy: 0.9325 - val_loss: 0.2276 - val_accuracy: 0.9339\n",
      "Epoch 11/40\n",
      "469/469 [==============================] - 3s 6ms/step - loss: 0.2325 - accuracy: 0.9344 - val_loss: 0.2195 - val_accuracy: 0.9381\n",
      "Epoch 12/40\n",
      "469/469 [==============================] - 3s 6ms/step - loss: 0.2242 - accuracy: 0.9368 - val_loss: 0.2117 - val_accuracy: 0.9405\n",
      "Epoch 13/40\n",
      "469/469 [==============================] - 3s 6ms/step - loss: 0.2081 - accuracy: 0.9416 - val_loss: 0.2057 - val_accuracy: 0.9414\n",
      "Epoch 14/40\n",
      "469/469 [==============================] - 3s 6ms/step - loss: 0.2030 - accuracy: 0.9431 - val_loss: 0.1984 - val_accuracy: 0.9434\n",
      "Epoch 15/40\n",
      "469/469 [==============================] - 3s 6ms/step - loss: 0.1955 - accuracy: 0.9446 - val_loss: 0.1928 - val_accuracy: 0.9443\n",
      "Epoch 16/40\n",
      "469/469 [==============================] - 3s 6ms/step - loss: 0.1943 - accuracy: 0.9447 - val_loss: 0.1868 - val_accuracy: 0.9450\n",
      "Epoch 17/40\n",
      "469/469 [==============================] - 3s 6ms/step - loss: 0.1879 - accuracy: 0.9471 - val_loss: 0.1817 - val_accuracy: 0.9471\n",
      "Epoch 18/40\n",
      "469/469 [==============================] - 3s 6ms/step - loss: 0.1781 - accuracy: 0.9491 - val_loss: 0.1757 - val_accuracy: 0.9490\n",
      "Epoch 19/40\n",
      "469/469 [==============================] - 3s 6ms/step - loss: 0.1729 - accuracy: 0.9513 - val_loss: 0.1732 - val_accuracy: 0.9498\n",
      "Epoch 20/40\n",
      "469/469 [==============================] - 3s 6ms/step - loss: 0.1655 - accuracy: 0.9538 - val_loss: 0.1668 - val_accuracy: 0.9512\n",
      "Epoch 21/40\n",
      "469/469 [==============================] - 3s 6ms/step - loss: 0.1603 - accuracy: 0.9547 - val_loss: 0.1628 - val_accuracy: 0.9534\n",
      "Epoch 22/40\n",
      "469/469 [==============================] - 3s 6ms/step - loss: 0.1553 - accuracy: 0.9562 - val_loss: 0.1583 - val_accuracy: 0.9544\n",
      "Epoch 23/40\n",
      "469/469 [==============================] - 3s 6ms/step - loss: 0.1591 - accuracy: 0.9555 - val_loss: 0.1546 - val_accuracy: 0.9549\n",
      "Epoch 24/40\n",
      "469/469 [==============================] - 3s 6ms/step - loss: 0.1472 - accuracy: 0.9585 - val_loss: 0.1509 - val_accuracy: 0.9555\n",
      "Epoch 25/40\n",
      "469/469 [==============================] - 3s 6ms/step - loss: 0.1462 - accuracy: 0.9580 - val_loss: 0.1476 - val_accuracy: 0.9574\n",
      "Epoch 26/40\n",
      "469/469 [==============================] - 3s 6ms/step - loss: 0.1415 - accuracy: 0.9605 - val_loss: 0.1450 - val_accuracy: 0.9574\n",
      "Epoch 27/40\n",
      "469/469 [==============================] - 3s 6ms/step - loss: 0.1397 - accuracy: 0.9614 - val_loss: 0.1421 - val_accuracy: 0.9590\n",
      "Epoch 28/40\n",
      "469/469 [==============================] - 3s 6ms/step - loss: 0.1339 - accuracy: 0.9626 - val_loss: 0.1390 - val_accuracy: 0.9602\n",
      "Epoch 29/40\n",
      "469/469 [==============================] - 4s 8ms/step - loss: 0.1285 - accuracy: 0.9651 - val_loss: 0.1360 - val_accuracy: 0.9600\n",
      "Epoch 30/40\n",
      "469/469 [==============================] - 4s 8ms/step - loss: 0.1280 - accuracy: 0.9646 - val_loss: 0.1348 - val_accuracy: 0.9612\n",
      "Epoch 31/40\n",
      "469/469 [==============================] - 3s 7ms/step - loss: 0.1268 - accuracy: 0.9639 - val_loss: 0.1310 - val_accuracy: 0.9621\n",
      "Epoch 32/40\n",
      "469/469 [==============================] - 3s 7ms/step - loss: 0.1276 - accuracy: 0.9634 - val_loss: 0.1294 - val_accuracy: 0.9621\n",
      "Epoch 33/40\n",
      "469/469 [==============================] - 3s 7ms/step - loss: 0.1177 - accuracy: 0.9665 - val_loss: 0.1264 - val_accuracy: 0.9636\n",
      "Epoch 34/40\n",
      "469/469 [==============================] - 3s 7ms/step - loss: 0.1190 - accuracy: 0.9664 - val_loss: 0.1244 - val_accuracy: 0.9631\n",
      "Epoch 35/40\n",
      "469/469 [==============================] - 3s 7ms/step - loss: 0.1125 - accuracy: 0.9686 - val_loss: 0.1244 - val_accuracy: 0.9634\n",
      "Epoch 36/40\n",
      "469/469 [==============================] - 3s 6ms/step - loss: 0.1117 - accuracy: 0.9689 - val_loss: 0.1210 - val_accuracy: 0.9646\n",
      "Epoch 37/40\n",
      "469/469 [==============================] - 3s 6ms/step - loss: 0.1067 - accuracy: 0.9707 - val_loss: 0.1197 - val_accuracy: 0.9655\n",
      "Epoch 38/40\n",
      "469/469 [==============================] - 3s 6ms/step - loss: 0.1064 - accuracy: 0.9708 - val_loss: 0.1169 - val_accuracy: 0.9651\n",
      "Epoch 39/40\n",
      "469/469 [==============================] - 3s 6ms/step - loss: 0.1043 - accuracy: 0.9706 - val_loss: 0.1157 - val_accuracy: 0.9657\n",
      "Epoch 40/40\n",
      "469/469 [==============================] - 3s 6ms/step - loss: 0.1049 - accuracy: 0.9705 - val_loss: 0.1145 - val_accuracy: 0.9658\n",
      "Test loss: 0.11453444510698318, Test accuracy 0.9657999873161316\n"
     ]
    }
   ],
   "source": [
    "ep = 40\n",
    "learn = 0.008\n",
    "info = running_model(ep, learn)"
   ]
  },
  {
   "cell_type": "code",
   "execution_count": 21,
   "metadata": {},
   "outputs": [
    {
     "name": "stdout",
     "output_type": "stream",
     "text": [
      "Max value:  0.9657999873161316\n",
      "Standard deviation:  0.022381706799999467\n"
     ]
    }
   ],
   "source": [
    "cc = []\n",
    "cc = info.history['val_accuracy']\n",
    "import statistics\n",
    "print('Max value: ', max(cc))\n",
    "print('Standard deviation: ',statistics.stdev(cc))"
   ]
  },
  {
   "cell_type": "markdown",
   "metadata": {},
   "source": [
    "#### Regularization  factor 0.008 (run 2)"
   ]
  },
  {
   "cell_type": "code",
   "execution_count": 22,
   "metadata": {},
   "outputs": [
    {
     "name": "stdout",
     "output_type": "stream",
     "text": [
      "Epoch 1/40\n",
      "469/469 [==============================] - 4s 6ms/step - loss: 1.6515 - accuracy: 0.5762 - val_loss: 0.5821 - val_accuracy: 0.8690\n",
      "Epoch 2/40\n",
      "469/469 [==============================] - 3s 6ms/step - loss: 0.5402 - accuracy: 0.8682 - val_loss: 0.3997 - val_accuracy: 0.8953\n",
      "Epoch 3/40\n",
      "469/469 [==============================] - 3s 6ms/step - loss: 0.4002 - accuracy: 0.8930 - val_loss: 0.3399 - val_accuracy: 0.9060\n",
      "Epoch 4/40\n",
      "469/469 [==============================] - 3s 6ms/step - loss: 0.3463 - accuracy: 0.9053 - val_loss: 0.3088 - val_accuracy: 0.9127\n",
      "Epoch 5/40\n",
      "469/469 [==============================] - 3s 6ms/step - loss: 0.3206 - accuracy: 0.9111 - val_loss: 0.2887 - val_accuracy: 0.9198\n",
      "Epoch 6/40\n",
      "469/469 [==============================] - 3s 6ms/step - loss: 0.2997 - accuracy: 0.9168 - val_loss: 0.2710 - val_accuracy: 0.9231\n",
      "Epoch 7/40\n",
      "469/469 [==============================] - 3s 7ms/step - loss: 0.2844 - accuracy: 0.9200 - val_loss: 0.2614 - val_accuracy: 0.9247\n",
      "Epoch 8/40\n",
      "469/469 [==============================] - 3s 7ms/step - loss: 0.2637 - accuracy: 0.9258 - val_loss: 0.2466 - val_accuracy: 0.9307\n",
      "Epoch 9/40\n",
      "469/469 [==============================] - 3s 6ms/step - loss: 0.2576 - accuracy: 0.9260 - val_loss: 0.2384 - val_accuracy: 0.9324\n",
      "Epoch 10/40\n",
      "469/469 [==============================] - 3s 6ms/step - loss: 0.2457 - accuracy: 0.9300 - val_loss: 0.2292 - val_accuracy: 0.9353\n",
      "Epoch 11/40\n",
      "469/469 [==============================] - 3s 6ms/step - loss: 0.2339 - accuracy: 0.9335 - val_loss: 0.2205 - val_accuracy: 0.9384\n",
      "Epoch 12/40\n",
      "469/469 [==============================] - 3s 7ms/step - loss: 0.2281 - accuracy: 0.9350 - val_loss: 0.2135 - val_accuracy: 0.9401\n",
      "Epoch 13/40\n",
      "469/469 [==============================] - 3s 6ms/step - loss: 0.2149 - accuracy: 0.9397 - val_loss: 0.2056 - val_accuracy: 0.9417\n",
      "Epoch 14/40\n",
      "469/469 [==============================] - 3s 6ms/step - loss: 0.2093 - accuracy: 0.9411 - val_loss: 0.2005 - val_accuracy: 0.9424\n",
      "Epoch 15/40\n",
      "469/469 [==============================] - 3s 6ms/step - loss: 0.1995 - accuracy: 0.9422 - val_loss: 0.1945 - val_accuracy: 0.9452\n",
      "Epoch 16/40\n",
      "469/469 [==============================] - 3s 6ms/step - loss: 0.1960 - accuracy: 0.9446 - val_loss: 0.1885 - val_accuracy: 0.9468\n",
      "Epoch 17/40\n",
      "469/469 [==============================] - 3s 6ms/step - loss: 0.1873 - accuracy: 0.9477 - val_loss: 0.1841 - val_accuracy: 0.9481\n",
      "Epoch 18/40\n",
      "469/469 [==============================] - 3s 6ms/step - loss: 0.1846 - accuracy: 0.9493 - val_loss: 0.1789 - val_accuracy: 0.9497\n",
      "Epoch 19/40\n",
      "469/469 [==============================] - 3s 6ms/step - loss: 0.1774 - accuracy: 0.9500 - val_loss: 0.1733 - val_accuracy: 0.9505\n",
      "Epoch 20/40\n",
      "469/469 [==============================] - 3s 6ms/step - loss: 0.1681 - accuracy: 0.9527 - val_loss: 0.1686 - val_accuracy: 0.9522\n",
      "Epoch 21/40\n",
      "469/469 [==============================] - 3s 6ms/step - loss: 0.1635 - accuracy: 0.9537 - val_loss: 0.1648 - val_accuracy: 0.9542\n",
      "Epoch 22/40\n",
      "469/469 [==============================] - 3s 6ms/step - loss: 0.1617 - accuracy: 0.9555 - val_loss: 0.1605 - val_accuracy: 0.9545\n",
      "Epoch 23/40\n",
      "469/469 [==============================] - 3s 6ms/step - loss: 0.1616 - accuracy: 0.9549 - val_loss: 0.1580 - val_accuracy: 0.9557\n",
      "Epoch 24/40\n",
      "469/469 [==============================] - 3s 6ms/step - loss: 0.1511 - accuracy: 0.9579 - val_loss: 0.1543 - val_accuracy: 0.9567\n",
      "Epoch 25/40\n",
      "469/469 [==============================] - 3s 6ms/step - loss: 0.1503 - accuracy: 0.9576 - val_loss: 0.1511 - val_accuracy: 0.9570\n",
      "Epoch 26/40\n",
      "469/469 [==============================] - 3s 6ms/step - loss: 0.1473 - accuracy: 0.9584 - val_loss: 0.1482 - val_accuracy: 0.9576\n",
      "Epoch 27/40\n",
      "469/469 [==============================] - 3s 6ms/step - loss: 0.1410 - accuracy: 0.9601 - val_loss: 0.1439 - val_accuracy: 0.9578\n",
      "Epoch 28/40\n",
      "469/469 [==============================] - 3s 6ms/step - loss: 0.1392 - accuracy: 0.9610 - val_loss: 0.1413 - val_accuracy: 0.9595\n",
      "Epoch 29/40\n",
      "469/469 [==============================] - 3s 6ms/step - loss: 0.1365 - accuracy: 0.9616 - val_loss: 0.1380 - val_accuracy: 0.9604\n",
      "Epoch 30/40\n",
      "469/469 [==============================] - 3s 6ms/step - loss: 0.1346 - accuracy: 0.9626 - val_loss: 0.1364 - val_accuracy: 0.9605\n",
      "Epoch 31/40\n",
      "469/469 [==============================] - 3s 6ms/step - loss: 0.1276 - accuracy: 0.9638 - val_loss: 0.1343 - val_accuracy: 0.9615\n",
      "Epoch 32/40\n",
      "469/469 [==============================] - 3s 6ms/step - loss: 0.1242 - accuracy: 0.9651 - val_loss: 0.1314 - val_accuracy: 0.9616\n",
      "Epoch 33/40\n",
      "469/469 [==============================] - 3s 6ms/step - loss: 0.1178 - accuracy: 0.9670 - val_loss: 0.1293 - val_accuracy: 0.9629\n",
      "Epoch 34/40\n",
      "469/469 [==============================] - 3s 6ms/step - loss: 0.1179 - accuracy: 0.9666 - val_loss: 0.1280 - val_accuracy: 0.9622\n",
      "Epoch 35/40\n",
      "469/469 [==============================] - 3s 6ms/step - loss: 0.1155 - accuracy: 0.9667 - val_loss: 0.1243 - val_accuracy: 0.9645\n",
      "Epoch 36/40\n",
      "469/469 [==============================] - 3s 6ms/step - loss: 0.1151 - accuracy: 0.9676 - val_loss: 0.1230 - val_accuracy: 0.9640\n",
      "Epoch 37/40\n",
      "469/469 [==============================] - 3s 6ms/step - loss: 0.1122 - accuracy: 0.9690 - val_loss: 0.1210 - val_accuracy: 0.9647\n",
      "Epoch 38/40\n",
      "469/469 [==============================] - 3s 6ms/step - loss: 0.1081 - accuracy: 0.9698 - val_loss: 0.1189 - val_accuracy: 0.9659\n",
      "Epoch 39/40\n",
      "469/469 [==============================] - 3s 6ms/step - loss: 0.1091 - accuracy: 0.9700 - val_loss: 0.1166 - val_accuracy: 0.9660\n",
      "Epoch 40/40\n",
      "469/469 [==============================] - 3s 6ms/step - loss: 0.1070 - accuracy: 0.9698 - val_loss: 0.1147 - val_accuracy: 0.9666\n",
      "Test loss: 0.1147279292345047, Test accuracy 0.9666000008583069\n"
     ]
    }
   ],
   "source": [
    "ep = 40\n",
    "learn = 0.008\n",
    "info = running_model(ep, learn)"
   ]
  },
  {
   "cell_type": "code",
   "execution_count": 23,
   "metadata": {},
   "outputs": [
    {
     "name": "stdout",
     "output_type": "stream",
     "text": [
      "Max value:  0.9666000008583069\n",
      "Standard deviation:  0.021606646281912313\n"
     ]
    }
   ],
   "source": [
    "cc = []\n",
    "cc = info.history['val_accuracy']\n",
    "import statistics\n",
    "print('Max value: ', max(cc))\n",
    "print('Standard deviation: ',statistics.stdev(cc))"
   ]
  },
  {
   "cell_type": "markdown",
   "metadata": {},
   "source": [
    "#### Regularization  factor 0.008 (run 3)"
   ]
  },
  {
   "cell_type": "code",
   "execution_count": 24,
   "metadata": {},
   "outputs": [
    {
     "name": "stdout",
     "output_type": "stream",
     "text": [
      "Epoch 1/40\n",
      "469/469 [==============================] - 4s 6ms/step - loss: 1.7082 - accuracy: 0.5392 - val_loss: 0.6096 - val_accuracy: 0.8610\n",
      "Epoch 2/40\n",
      "469/469 [==============================] - 3s 6ms/step - loss: 0.5584 - accuracy: 0.8642 - val_loss: 0.4074 - val_accuracy: 0.8928\n",
      "Epoch 3/40\n",
      "469/469 [==============================] - 3s 6ms/step - loss: 0.4084 - accuracy: 0.8896 - val_loss: 0.3461 - val_accuracy: 0.9068\n",
      "Epoch 4/40\n",
      "469/469 [==============================] - 3s 6ms/step - loss: 0.3515 - accuracy: 0.9028 - val_loss: 0.3111 - val_accuracy: 0.9126\n",
      "Epoch 5/40\n",
      "469/469 [==============================] - 3s 6ms/step - loss: 0.3188 - accuracy: 0.9105 - val_loss: 0.2886 - val_accuracy: 0.9194\n",
      "Epoch 6/40\n",
      "469/469 [==============================] - 3s 6ms/step - loss: 0.2928 - accuracy: 0.9165 - val_loss: 0.2717 - val_accuracy: 0.9236\n",
      "Epoch 7/40\n",
      "469/469 [==============================] - 3s 6ms/step - loss: 0.2764 - accuracy: 0.9215 - val_loss: 0.2583 - val_accuracy: 0.9278\n",
      "Epoch 8/40\n",
      "469/469 [==============================] - 3s 6ms/step - loss: 0.2642 - accuracy: 0.9256 - val_loss: 0.2489 - val_accuracy: 0.9288\n",
      "Epoch 9/40\n",
      "469/469 [==============================] - 3s 6ms/step - loss: 0.2514 - accuracy: 0.9290 - val_loss: 0.2369 - val_accuracy: 0.9333\n",
      "Epoch 10/40\n",
      "469/469 [==============================] - 3s 6ms/step - loss: 0.2404 - accuracy: 0.9326 - val_loss: 0.2288 - val_accuracy: 0.9358\n",
      "Epoch 11/40\n",
      "469/469 [==============================] - 3s 6ms/step - loss: 0.2299 - accuracy: 0.9349 - val_loss: 0.2204 - val_accuracy: 0.9363\n",
      "Epoch 12/40\n",
      "469/469 [==============================] - 3s 6ms/step - loss: 0.2215 - accuracy: 0.9391 - val_loss: 0.2152 - val_accuracy: 0.9386\n",
      "Epoch 13/40\n",
      "469/469 [==============================] - 3s 6ms/step - loss: 0.2151 - accuracy: 0.9399 - val_loss: 0.2052 - val_accuracy: 0.9412\n",
      "Epoch 14/40\n",
      "469/469 [==============================] - 3s 6ms/step - loss: 0.2035 - accuracy: 0.9430 - val_loss: 0.1994 - val_accuracy: 0.9434\n",
      "Epoch 15/40\n",
      "469/469 [==============================] - 3s 6ms/step - loss: 0.1997 - accuracy: 0.9440 - val_loss: 0.1938 - val_accuracy: 0.9440\n",
      "Epoch 16/40\n",
      "469/469 [==============================] - 3s 6ms/step - loss: 0.1946 - accuracy: 0.9446 - val_loss: 0.1885 - val_accuracy: 0.9462\n",
      "Epoch 17/40\n",
      "469/469 [==============================] - 3s 6ms/step - loss: 0.1853 - accuracy: 0.9480 - val_loss: 0.1847 - val_accuracy: 0.9467\n",
      "Epoch 18/40\n",
      "469/469 [==============================] - 3s 6ms/step - loss: 0.1777 - accuracy: 0.9489 - val_loss: 0.1785 - val_accuracy: 0.9489\n",
      "Epoch 19/40\n",
      "469/469 [==============================] - 3s 6ms/step - loss: 0.1713 - accuracy: 0.9520 - val_loss: 0.1740 - val_accuracy: 0.9502\n",
      "Epoch 20/40\n",
      "469/469 [==============================] - 3s 6ms/step - loss: 0.1710 - accuracy: 0.9520 - val_loss: 0.1693 - val_accuracy: 0.9507\n",
      "Epoch 21/40\n",
      "469/469 [==============================] - 3s 6ms/step - loss: 0.1659 - accuracy: 0.9524 - val_loss: 0.1662 - val_accuracy: 0.9509\n",
      "Epoch 22/40\n",
      "469/469 [==============================] - 3s 6ms/step - loss: 0.1596 - accuracy: 0.9555 - val_loss: 0.1627 - val_accuracy: 0.9523\n",
      "Epoch 23/40\n",
      "469/469 [==============================] - 3s 6ms/step - loss: 0.1530 - accuracy: 0.9573 - val_loss: 0.1589 - val_accuracy: 0.9536\n",
      "Epoch 24/40\n",
      "469/469 [==============================] - 3s 6ms/step - loss: 0.1489 - accuracy: 0.9585 - val_loss: 0.1543 - val_accuracy: 0.9559\n",
      "Epoch 25/40\n",
      "469/469 [==============================] - 3s 6ms/step - loss: 0.1471 - accuracy: 0.9585 - val_loss: 0.1515 - val_accuracy: 0.9563\n",
      "Epoch 26/40\n",
      "469/469 [==============================] - 3s 6ms/step - loss: 0.1440 - accuracy: 0.9589 - val_loss: 0.1489 - val_accuracy: 0.9571\n",
      "Epoch 27/40\n",
      "469/469 [==============================] - 3s 6ms/step - loss: 0.1411 - accuracy: 0.9611 - val_loss: 0.1454 - val_accuracy: 0.9586\n",
      "Epoch 28/40\n",
      "469/469 [==============================] - 3s 6ms/step - loss: 0.1348 - accuracy: 0.9622 - val_loss: 0.1423 - val_accuracy: 0.9592\n",
      "Epoch 29/40\n",
      "469/469 [==============================] - 3s 6ms/step - loss: 0.1336 - accuracy: 0.9625 - val_loss: 0.1395 - val_accuracy: 0.9604\n",
      "Epoch 30/40\n",
      "469/469 [==============================] - 3s 6ms/step - loss: 0.1299 - accuracy: 0.9635 - val_loss: 0.1369 - val_accuracy: 0.9613\n",
      "Epoch 31/40\n",
      "469/469 [==============================] - 3s 6ms/step - loss: 0.1266 - accuracy: 0.9646 - val_loss: 0.1356 - val_accuracy: 0.9610\n",
      "Epoch 32/40\n",
      "469/469 [==============================] - 3s 6ms/step - loss: 0.1247 - accuracy: 0.9657 - val_loss: 0.1314 - val_accuracy: 0.9624\n",
      "Epoch 33/40\n",
      "469/469 [==============================] - 3s 6ms/step - loss: 0.1202 - accuracy: 0.9669 - val_loss: 0.1294 - val_accuracy: 0.9633\n",
      "Epoch 34/40\n",
      "469/469 [==============================] - 3s 6ms/step - loss: 0.1175 - accuracy: 0.9671 - val_loss: 0.1291 - val_accuracy: 0.9624\n",
      "Epoch 35/40\n",
      "469/469 [==============================] - 3s 6ms/step - loss: 0.1179 - accuracy: 0.9679 - val_loss: 0.1259 - val_accuracy: 0.9633\n",
      "Epoch 36/40\n",
      "469/469 [==============================] - 3s 6ms/step - loss: 0.1169 - accuracy: 0.9682 - val_loss: 0.1236 - val_accuracy: 0.9641\n",
      "Epoch 37/40\n",
      "469/469 [==============================] - 3s 6ms/step - loss: 0.1125 - accuracy: 0.9699 - val_loss: 0.1224 - val_accuracy: 0.9647\n",
      "Epoch 38/40\n",
      "469/469 [==============================] - 3s 6ms/step - loss: 0.1062 - accuracy: 0.9704 - val_loss: 0.1207 - val_accuracy: 0.9652\n",
      "Epoch 39/40\n",
      "469/469 [==============================] - 3s 6ms/step - loss: 0.1072 - accuracy: 0.9711 - val_loss: 0.1191 - val_accuracy: 0.9654\n",
      "Epoch 40/40\n",
      "469/469 [==============================] - 3s 6ms/step - loss: 0.1057 - accuracy: 0.9719 - val_loss: 0.1159 - val_accuracy: 0.9657\n",
      "Test loss: 0.11594454199075699, Test accuracy 0.9656999707221985\n"
     ]
    }
   ],
   "source": [
    "ep = 40\n",
    "learn = 0.008\n",
    "info = running_model(ep, learn)"
   ]
  },
  {
   "cell_type": "code",
   "execution_count": 25,
   "metadata": {},
   "outputs": [
    {
     "name": "stdout",
     "output_type": "stream",
     "text": [
      "Max value:  0.9656999707221985\n",
      "Standard deviation:  0.022289511042831656\n"
     ]
    }
   ],
   "source": [
    "cc = []\n",
    "cc = info.history['val_accuracy']\n",
    "import statistics\n",
    "print('Max value: ', max(cc))\n",
    "print('Standard deviation: ',statistics.stdev(cc))"
   ]
  },
  {
   "cell_type": "markdown",
   "metadata": {},
   "source": [
    "#### Regularization  factor 0.0001 (run 1)"
   ]
  },
  {
   "cell_type": "code",
   "execution_count": 26,
   "metadata": {},
   "outputs": [
    {
     "name": "stdout",
     "output_type": "stream",
     "text": [
      "Epoch 1/40\n",
      "469/469 [==============================] - 4s 6ms/step - loss: 2.3507 - accuracy: 0.0828 - val_loss: 2.3163 - val_accuracy: 0.1102\n",
      "Epoch 2/40\n",
      "469/469 [==============================] - 3s 6ms/step - loss: 2.3059 - accuracy: 0.1143 - val_loss: 2.2731 - val_accuracy: 0.1492\n",
      "Epoch 3/40\n",
      "469/469 [==============================] - 3s 6ms/step - loss: 2.2661 - accuracy: 0.1538 - val_loss: 2.2322 - val_accuracy: 0.1922\n",
      "Epoch 4/40\n",
      "469/469 [==============================] - 3s 6ms/step - loss: 2.2260 - accuracy: 0.1984 - val_loss: 2.1928 - val_accuracy: 0.2375\n",
      "Epoch 5/40\n",
      "469/469 [==============================] - 3s 6ms/step - loss: 2.1878 - accuracy: 0.2436 - val_loss: 2.1547 - val_accuracy: 0.2848\n",
      "Epoch 6/40\n",
      "469/469 [==============================] - 3s 6ms/step - loss: 2.1489 - accuracy: 0.2889 - val_loss: 2.1174 - val_accuracy: 0.3355\n",
      "Epoch 7/40\n",
      "469/469 [==============================] - 3s 6ms/step - loss: 2.1129 - accuracy: 0.3361 - val_loss: 2.0807 - val_accuracy: 0.3793\n",
      "Epoch 8/40\n",
      "469/469 [==============================] - 3s 6ms/step - loss: 2.0792 - accuracy: 0.3798 - val_loss: 2.0446 - val_accuracy: 0.4313\n",
      "Epoch 9/40\n",
      "469/469 [==============================] - 3s 6ms/step - loss: 2.0439 - accuracy: 0.4348 - val_loss: 2.0088 - val_accuracy: 0.4850\n",
      "Epoch 10/40\n",
      "469/469 [==============================] - 3s 6ms/step - loss: 2.0080 - accuracy: 0.4871 - val_loss: 1.9733 - val_accuracy: 0.5336\n",
      "Epoch 11/40\n",
      "469/469 [==============================] - 3s 6ms/step - loss: 1.9721 - accuracy: 0.5344 - val_loss: 1.9379 - val_accuracy: 0.5725\n",
      "Epoch 12/40\n",
      "469/469 [==============================] - 3s 6ms/step - loss: 1.9389 - accuracy: 0.5701 - val_loss: 1.9027 - val_accuracy: 0.6031\n",
      "Epoch 13/40\n",
      "469/469 [==============================] - 3s 6ms/step - loss: 1.9050 - accuracy: 0.6028 - val_loss: 1.8675 - val_accuracy: 0.6274\n",
      "Epoch 14/40\n",
      "469/469 [==============================] - 3s 6ms/step - loss: 1.8718 - accuracy: 0.6244 - val_loss: 1.8324 - val_accuracy: 0.6449\n",
      "Epoch 15/40\n",
      "469/469 [==============================] - 3s 6ms/step - loss: 1.8331 - accuracy: 0.6445 - val_loss: 1.7974 - val_accuracy: 0.6642\n",
      "Epoch 16/40\n",
      "469/469 [==============================] - 3s 6ms/step - loss: 1.8022 - accuracy: 0.6574 - val_loss: 1.7624 - val_accuracy: 0.6773\n",
      "Epoch 17/40\n",
      "469/469 [==============================] - 3s 6ms/step - loss: 1.7697 - accuracy: 0.6683 - val_loss: 1.7275 - val_accuracy: 0.6900\n",
      "Epoch 18/40\n",
      "469/469 [==============================] - 3s 6ms/step - loss: 1.7307 - accuracy: 0.6839 - val_loss: 1.6927 - val_accuracy: 0.6995\n",
      "Epoch 19/40\n",
      "469/469 [==============================] - 3s 6ms/step - loss: 1.7023 - accuracy: 0.6901 - val_loss: 1.6580 - val_accuracy: 0.7096\n",
      "Epoch 20/40\n",
      "469/469 [==============================] - 3s 6ms/step - loss: 1.6677 - accuracy: 0.7006 - val_loss: 1.6235 - val_accuracy: 0.7163\n",
      "Epoch 21/40\n",
      "469/469 [==============================] - 3s 6ms/step - loss: 1.6311 - accuracy: 0.7113 - val_loss: 1.5893 - val_accuracy: 0.7258\n",
      "Epoch 22/40\n",
      "469/469 [==============================] - 3s 6ms/step - loss: 1.5949 - accuracy: 0.7213 - val_loss: 1.5553 - val_accuracy: 0.7329\n",
      "Epoch 23/40\n",
      "469/469 [==============================] - 3s 6ms/step - loss: 1.5682 - accuracy: 0.7214 - val_loss: 1.5217 - val_accuracy: 0.7399\n",
      "Epoch 24/40\n",
      "469/469 [==============================] - 3s 6ms/step - loss: 1.5315 - accuracy: 0.7337 - val_loss: 1.4885 - val_accuracy: 0.7474\n",
      "Epoch 25/40\n",
      "469/469 [==============================] - 3s 6ms/step - loss: 1.4994 - accuracy: 0.7384 - val_loss: 1.4557 - val_accuracy: 0.7531\n",
      "Epoch 26/40\n",
      "469/469 [==============================] - 3s 6ms/step - loss: 1.4663 - accuracy: 0.7434 - val_loss: 1.4235 - val_accuracy: 0.7571\n",
      "Epoch 27/40\n",
      "469/469 [==============================] - 3s 6ms/step - loss: 1.4357 - accuracy: 0.7474 - val_loss: 1.3919 - val_accuracy: 0.7614\n",
      "Epoch 28/40\n",
      "469/469 [==============================] - 3s 6ms/step - loss: 1.4010 - accuracy: 0.7521 - val_loss: 1.3608 - val_accuracy: 0.7657\n",
      "Epoch 29/40\n",
      "469/469 [==============================] - 3s 6ms/step - loss: 1.3708 - accuracy: 0.7593 - val_loss: 1.3305 - val_accuracy: 0.7702\n",
      "Epoch 30/40\n",
      "469/469 [==============================] - 3s 6ms/step - loss: 1.3448 - accuracy: 0.7615 - val_loss: 1.3009 - val_accuracy: 0.7755\n",
      "Epoch 31/40\n",
      "469/469 [==============================] - 3s 6ms/step - loss: 1.3131 - accuracy: 0.7676 - val_loss: 1.2720 - val_accuracy: 0.7800\n",
      "Epoch 32/40\n",
      "469/469 [==============================] - 3s 6ms/step - loss: 1.2861 - accuracy: 0.7682 - val_loss: 1.2439 - val_accuracy: 0.7842\n",
      "Epoch 33/40\n",
      "469/469 [==============================] - 3s 6ms/step - loss: 1.2602 - accuracy: 0.7741 - val_loss: 1.2165 - val_accuracy: 0.7882\n",
      "Epoch 34/40\n",
      "469/469 [==============================] - 3s 6ms/step - loss: 1.2359 - accuracy: 0.7730 - val_loss: 1.1900 - val_accuracy: 0.7908\n",
      "Epoch 35/40\n",
      "469/469 [==============================] - 3s 6ms/step - loss: 1.2069 - accuracy: 0.7821 - val_loss: 1.1643 - val_accuracy: 0.7942\n",
      "Epoch 36/40\n",
      "469/469 [==============================] - 3s 6ms/step - loss: 1.1784 - accuracy: 0.7849 - val_loss: 1.1394 - val_accuracy: 0.7970\n",
      "Epoch 37/40\n",
      "469/469 [==============================] - 3s 6ms/step - loss: 1.1582 - accuracy: 0.7865 - val_loss: 1.1153 - val_accuracy: 0.7996\n",
      "Epoch 38/40\n",
      "469/469 [==============================] - 3s 6ms/step - loss: 1.1308 - accuracy: 0.7907 - val_loss: 1.0921 - val_accuracy: 0.8016\n",
      "Epoch 39/40\n",
      "469/469 [==============================] - 3s 6ms/step - loss: 1.1109 - accuracy: 0.7923 - val_loss: 1.0696 - val_accuracy: 0.8035\n",
      "Epoch 40/40\n",
      "469/469 [==============================] - 3s 6ms/step - loss: 1.0826 - accuracy: 0.7974 - val_loss: 1.0480 - val_accuracy: 0.8056\n",
      "Test loss: 1.0479611158370972, Test accuracy 0.8055999875068665\n"
     ]
    }
   ],
   "source": [
    "ep = 40\n",
    "learn = 0.0001\n",
    "info = running_model(ep, learn)"
   ]
  },
  {
   "cell_type": "code",
   "execution_count": 27,
   "metadata": {},
   "outputs": [
    {
     "name": "stdout",
     "output_type": "stream",
     "text": [
      "Max value:  0.8055999875068665\n",
      "Standard deviation:  0.20507056766918563\n"
     ]
    }
   ],
   "source": [
    "cc = []\n",
    "cc = info.history['val_accuracy']\n",
    "import statistics\n",
    "print('Max value: ', max(cc))\n",
    "print('Standard deviation: ',statistics.stdev(cc))"
   ]
  },
  {
   "cell_type": "markdown",
   "metadata": {},
   "source": [
    "#### Regularization  factor 0.0001 (run 2)"
   ]
  },
  {
   "cell_type": "code",
   "execution_count": 41,
   "metadata": {},
   "outputs": [
    {
     "name": "stdout",
     "output_type": "stream",
     "text": [
      "Epoch 1/40\n",
      "469/469 [==============================] - 8s 13ms/step - loss: 2.2978 - accuracy: 0.1078 - val_loss: 2.2679 - val_accuracy: 0.1241\n",
      "Epoch 2/40\n",
      "469/469 [==============================] - 6s 12ms/step - loss: 2.2596 - accuracy: 0.1275 - val_loss: 2.2295 - val_accuracy: 0.1488\n",
      "Epoch 3/40\n",
      "469/469 [==============================] - 5s 11ms/step - loss: 2.2218 - accuracy: 0.1590 - val_loss: 2.1934 - val_accuracy: 0.1908\n",
      "Epoch 4/40\n",
      "469/469 [==============================] - 5s 10ms/step - loss: 2.1874 - accuracy: 0.2044 - val_loss: 2.1586 - val_accuracy: 0.2539\n",
      "Epoch 5/40\n",
      "469/469 [==============================] - 5s 10ms/step - loss: 2.1527 - accuracy: 0.2740 - val_loss: 2.1247 - val_accuracy: 0.3301\n",
      "Epoch 6/40\n",
      "469/469 [==============================] - 5s 10ms/step - loss: 2.1208 - accuracy: 0.3475 - val_loss: 2.0912 - val_accuracy: 0.4022\n",
      "Epoch 7/40\n",
      "469/469 [==============================] - 5s 11ms/step - loss: 2.0883 - accuracy: 0.4216 - val_loss: 2.0580 - val_accuracy: 0.4723\n",
      "Epoch 8/40\n",
      "469/469 [==============================] - 5s 10ms/step - loss: 2.0553 - accuracy: 0.4887 - val_loss: 2.0248 - val_accuracy: 0.5320\n",
      "Epoch 9/40\n",
      "469/469 [==============================] - 5s 10ms/step - loss: 2.0227 - accuracy: 0.5426 - val_loss: 1.9914 - val_accuracy: 0.5826\n",
      "Epoch 10/40\n",
      "469/469 [==============================] - 5s 10ms/step - loss: 1.9894 - accuracy: 0.5859 - val_loss: 1.9579 - val_accuracy: 0.6217\n",
      "Epoch 11/40\n",
      "469/469 [==============================] - 4s 10ms/step - loss: 1.9566 - accuracy: 0.6268 - val_loss: 1.9241 - val_accuracy: 0.6504\n",
      "Epoch 12/40\n",
      "469/469 [==============================] - 5s 10ms/step - loss: 1.9222 - accuracy: 0.6504 - val_loss: 1.8901 - val_accuracy: 0.6728\n",
      "Epoch 13/40\n",
      "469/469 [==============================] - 5s 10ms/step - loss: 1.8895 - accuracy: 0.6700 - val_loss: 1.8557 - val_accuracy: 0.6922\n",
      "Epoch 14/40\n",
      "469/469 [==============================] - 5s 10ms/step - loss: 1.8578 - accuracy: 0.6873 - val_loss: 1.8211 - val_accuracy: 0.7071\n",
      "Epoch 15/40\n",
      "469/469 [==============================] - 4s 10ms/step - loss: 1.8249 - accuracy: 0.6978 - val_loss: 1.7862 - val_accuracy: 0.7189\n",
      "Epoch 16/40\n",
      "469/469 [==============================] - 5s 10ms/step - loss: 1.7881 - accuracy: 0.7120 - val_loss: 1.7511 - val_accuracy: 0.7285\n",
      "Epoch 17/40\n",
      "469/469 [==============================] - 5s 12ms/step - loss: 1.7533 - accuracy: 0.7206 - val_loss: 1.7159 - val_accuracy: 0.7371\n",
      "Epoch 18/40\n",
      "469/469 [==============================] - 6s 12ms/step - loss: 1.7192 - accuracy: 0.7293 - val_loss: 1.6805 - val_accuracy: 0.7451\n",
      "Epoch 19/40\n",
      "469/469 [==============================] - 6s 13ms/step - loss: 1.6847 - accuracy: 0.7329 - val_loss: 1.6452 - val_accuracy: 0.7518\n",
      "Epoch 20/40\n",
      "469/469 [==============================] - 5s 10ms/step - loss: 1.6521 - accuracy: 0.7418 - val_loss: 1.6100 - val_accuracy: 0.7577\n",
      "Epoch 21/40\n",
      "469/469 [==============================] - 5s 10ms/step - loss: 1.6155 - accuracy: 0.7481 - val_loss: 1.5749 - val_accuracy: 0.7646\n",
      "Epoch 22/40\n",
      "469/469 [==============================] - 5s 10ms/step - loss: 1.5830 - accuracy: 0.7565 - val_loss: 1.5401 - val_accuracy: 0.7688\n",
      "Epoch 23/40\n",
      "469/469 [==============================] - 5s 10ms/step - loss: 1.5483 - accuracy: 0.7590 - val_loss: 1.5056 - val_accuracy: 0.7728\n",
      "Epoch 24/40\n",
      "469/469 [==============================] - 6s 12ms/step - loss: 1.5140 - accuracy: 0.7657 - val_loss: 1.4715 - val_accuracy: 0.7784\n",
      "Epoch 25/40\n",
      "469/469 [==============================] - 5s 11ms/step - loss: 1.4820 - accuracy: 0.7656 - val_loss: 1.4379 - val_accuracy: 0.7834\n",
      "Epoch 26/40\n",
      "469/469 [==============================] - 5s 10ms/step - loss: 1.4464 - accuracy: 0.7730 - val_loss: 1.4050 - val_accuracy: 0.7891\n",
      "Epoch 27/40\n",
      "469/469 [==============================] - 5s 11ms/step - loss: 1.4156 - accuracy: 0.7738 - val_loss: 1.3726 - val_accuracy: 0.7941\n",
      "Epoch 28/40\n",
      "469/469 [==============================] - 6s 13ms/step - loss: 1.3844 - accuracy: 0.7775 - val_loss: 1.3409 - val_accuracy: 0.7968\n",
      "Epoch 29/40\n",
      "469/469 [==============================] - 5s 12ms/step - loss: 1.3550 - accuracy: 0.7815 - val_loss: 1.3100 - val_accuracy: 0.8006\n",
      "Epoch 30/40\n",
      "469/469 [==============================] - 5s 11ms/step - loss: 1.3239 - accuracy: 0.7845 - val_loss: 1.2798 - val_accuracy: 0.8040\n",
      "Epoch 31/40\n",
      "469/469 [==============================] - 5s 10ms/step - loss: 1.2971 - accuracy: 0.7884 - val_loss: 1.2505 - val_accuracy: 0.8061\n",
      "Epoch 32/40\n",
      "469/469 [==============================] - 6s 13ms/step - loss: 1.2692 - accuracy: 0.7868 - val_loss: 1.2220 - val_accuracy: 0.8088\n",
      "Epoch 33/40\n",
      "469/469 [==============================] - 5s 10ms/step - loss: 1.2341 - accuracy: 0.7960 - val_loss: 1.1944 - val_accuracy: 0.8117\n",
      "Epoch 34/40\n",
      "469/469 [==============================] - 5s 10ms/step - loss: 1.2079 - accuracy: 0.7970 - val_loss: 1.1677 - val_accuracy: 0.8145\n",
      "Epoch 35/40\n",
      "469/469 [==============================] - 5s 10ms/step - loss: 1.1857 - accuracy: 0.7975 - val_loss: 1.1419 - val_accuracy: 0.8166\n",
      "Epoch 36/40\n",
      "469/469 [==============================] - 4s 10ms/step - loss: 1.1560 - accuracy: 0.8034 - val_loss: 1.1170 - val_accuracy: 0.8183\n",
      "Epoch 37/40\n",
      "469/469 [==============================] - 4s 9ms/step - loss: 1.1366 - accuracy: 0.8021 - val_loss: 1.0929 - val_accuracy: 0.8208\n",
      "Epoch 38/40\n",
      "469/469 [==============================] - 5s 12ms/step - loss: 1.1132 - accuracy: 0.8054 - val_loss: 1.0697 - val_accuracy: 0.8240\n",
      "Epoch 39/40\n",
      "469/469 [==============================] - 4s 9ms/step - loss: 1.0866 - accuracy: 0.8069 - val_loss: 1.0474 - val_accuracy: 0.8250\n",
      "Epoch 40/40\n",
      "469/469 [==============================] - 4s 9ms/step - loss: 1.0663 - accuracy: 0.8104 - val_loss: 1.0259 - val_accuracy: 0.8264\n",
      "Test loss: 1.025896430015564, Test accuracy 0.8263999819755554\n"
     ]
    }
   ],
   "source": [
    "ep = 40\n",
    "learn = 0.0001\n",
    "info = running_model(ep, learn)"
   ]
  },
  {
   "cell_type": "code",
   "execution_count": 47,
   "metadata": {},
   "outputs": [
    {
     "name": "stdout",
     "output_type": "stream",
     "text": [
      "Max value:  0.8263999819755554\n",
      "Standard deviation:  0.20331022052862852\n"
     ]
    }
   ],
   "source": [
    "cc = []\n",
    "cc = info.history['val_accuracy']\n",
    "import statistics\n",
    "print('Max value: ', max(cc))\n",
    "print('Standard deviation: ',statistics.stdev(cc))"
   ]
  },
  {
   "cell_type": "markdown",
   "metadata": {},
   "source": [
    "#### Regularization  factor 0.0001 (run 3)"
   ]
  },
  {
   "cell_type": "code",
   "execution_count": 48,
   "metadata": {},
   "outputs": [
    {
     "name": "stdout",
     "output_type": "stream",
     "text": [
      "Epoch 1/40\n",
      "469/469 [==============================] - 8s 15ms/step - loss: 2.3443 - accuracy: 0.0695 - val_loss: 2.3123 - val_accuracy: 0.0955\n",
      "Epoch 2/40\n",
      "469/469 [==============================] - 7s 15ms/step - loss: 2.3011 - accuracy: 0.1065 - val_loss: 2.2723 - val_accuracy: 0.1452\n",
      "Epoch 3/40\n",
      "469/469 [==============================] - 7s 15ms/step - loss: 2.2645 - accuracy: 0.1532 - val_loss: 2.2339 - val_accuracy: 0.2046\n",
      "Epoch 4/40\n",
      "469/469 [==============================] - 6s 14ms/step - loss: 2.2257 - accuracy: 0.2197 - val_loss: 2.1967 - val_accuracy: 0.2727\n",
      "Epoch 5/40\n",
      "469/469 [==============================] - 6s 12ms/step - loss: 2.1898 - accuracy: 0.2829 - val_loss: 2.1604 - val_accuracy: 0.3334\n",
      "Epoch 6/40\n",
      "469/469 [==============================] - 6s 12ms/step - loss: 2.1553 - accuracy: 0.3481 - val_loss: 2.1247 - val_accuracy: 0.3859\n",
      "Epoch 7/40\n",
      "469/469 [==============================] - 6s 13ms/step - loss: 2.1191 - accuracy: 0.3984 - val_loss: 2.0893 - val_accuracy: 0.4315\n",
      "Epoch 8/40\n",
      "469/469 [==============================] - 5s 10ms/step - loss: 2.0855 - accuracy: 0.4369 - val_loss: 2.0542 - val_accuracy: 0.4677\n",
      "Epoch 9/40\n",
      "469/469 [==============================] - 5s 11ms/step - loss: 2.0498 - accuracy: 0.4753 - val_loss: 2.0192 - val_accuracy: 0.4976\n",
      "Epoch 10/40\n",
      "469/469 [==============================] - 6s 12ms/step - loss: 2.0155 - accuracy: 0.5036 - val_loss: 1.9843 - val_accuracy: 0.5240\n",
      "Epoch 11/40\n",
      "469/469 [==============================] - 5s 11ms/step - loss: 1.9842 - accuracy: 0.5283 - val_loss: 1.9492 - val_accuracy: 0.5451\n",
      "Epoch 12/40\n",
      "469/469 [==============================] - 5s 11ms/step - loss: 1.9482 - accuracy: 0.5497 - val_loss: 1.9141 - val_accuracy: 0.5645\n",
      "Epoch 13/40\n",
      "469/469 [==============================] - 5s 10ms/step - loss: 1.9141 - accuracy: 0.5708 - val_loss: 1.8788 - val_accuracy: 0.5818\n",
      "Epoch 14/40\n",
      "469/469 [==============================] - 6s 12ms/step - loss: 1.8802 - accuracy: 0.5841 - val_loss: 1.8434 - val_accuracy: 0.5987\n",
      "Epoch 15/40\n",
      "469/469 [==============================] - 5s 11ms/step - loss: 1.8438 - accuracy: 0.5982 - val_loss: 1.8080 - val_accuracy: 0.6132\n",
      "Epoch 16/40\n",
      "469/469 [==============================] - 6s 14ms/step - loss: 1.8103 - accuracy: 0.6087 - val_loss: 1.7726 - val_accuracy: 0.6236\n",
      "Epoch 17/40\n",
      "469/469 [==============================] - 5s 11ms/step - loss: 1.7748 - accuracy: 0.6246 - val_loss: 1.7372 - val_accuracy: 0.6354\n",
      "Epoch 18/40\n",
      "469/469 [==============================] - 4s 9ms/step - loss: 1.7432 - accuracy: 0.6319 - val_loss: 1.7019 - val_accuracy: 0.6455\n",
      "Epoch 19/40\n",
      "469/469 [==============================] - 4s 10ms/step - loss: 1.7037 - accuracy: 0.6482 - val_loss: 1.6668 - val_accuracy: 0.6566\n",
      "Epoch 20/40\n",
      "469/469 [==============================] - 5s 10ms/step - loss: 1.6733 - accuracy: 0.6557 - val_loss: 1.6320 - val_accuracy: 0.6648\n",
      "Epoch 21/40\n",
      "469/469 [==============================] - 5s 11ms/step - loss: 1.6390 - accuracy: 0.6621 - val_loss: 1.5974 - val_accuracy: 0.6732\n",
      "Epoch 22/40\n",
      "469/469 [==============================] - 5s 11ms/step - loss: 1.6037 - accuracy: 0.6747 - val_loss: 1.5632 - val_accuracy: 0.6817\n",
      "Epoch 23/40\n",
      "469/469 [==============================] - 6s 13ms/step - loss: 1.5694 - accuracy: 0.6814 - val_loss: 1.5295 - val_accuracy: 0.6894\n",
      "Epoch 24/40\n",
      "469/469 [==============================] - 6s 12ms/step - loss: 1.5347 - accuracy: 0.6910 - val_loss: 1.4963 - val_accuracy: 0.6973\n",
      "Epoch 25/40\n",
      "469/469 [==============================] - 5s 11ms/step - loss: 1.5053 - accuracy: 0.6957 - val_loss: 1.4636 - val_accuracy: 0.7033\n",
      "Epoch 26/40\n",
      "469/469 [==============================] - 5s 10ms/step - loss: 1.4742 - accuracy: 0.7020 - val_loss: 1.4315 - val_accuracy: 0.7108\n",
      "Epoch 27/40\n",
      "469/469 [==============================] - 5s 10ms/step - loss: 1.4441 - accuracy: 0.7063 - val_loss: 1.4001 - val_accuracy: 0.7176\n",
      "Epoch 28/40\n",
      "469/469 [==============================] - 7s 15ms/step - loss: 1.4132 - accuracy: 0.7155 - val_loss: 1.3694 - val_accuracy: 0.7255\n",
      "Epoch 29/40\n",
      "469/469 [==============================] - 5s 11ms/step - loss: 1.3810 - accuracy: 0.7216 - val_loss: 1.3394 - val_accuracy: 0.7306\n",
      "Epoch 30/40\n",
      "469/469 [==============================] - 6s 12ms/step - loss: 1.3517 - accuracy: 0.7273 - val_loss: 1.3102 - val_accuracy: 0.7383\n",
      "Epoch 31/40\n",
      "469/469 [==============================] - 4s 9ms/step - loss: 1.3246 - accuracy: 0.7337 - val_loss: 1.2817 - val_accuracy: 0.7454\n",
      "Epoch 32/40\n",
      "469/469 [==============================] - 4s 9ms/step - loss: 1.2953 - accuracy: 0.7364 - val_loss: 1.2541 - val_accuracy: 0.7502\n",
      "Epoch 33/40\n",
      "469/469 [==============================] - 4s 8ms/step - loss: 1.2652 - accuracy: 0.7465 - val_loss: 1.2272 - val_accuracy: 0.7558\n",
      "Epoch 34/40\n",
      "469/469 [==============================] - 4s 9ms/step - loss: 1.2423 - accuracy: 0.7488 - val_loss: 1.2011 - val_accuracy: 0.7621\n",
      "Epoch 35/40\n",
      "469/469 [==============================] - 4s 9ms/step - loss: 1.2125 - accuracy: 0.7560 - val_loss: 1.1758 - val_accuracy: 0.7667\n",
      "Epoch 36/40\n",
      "469/469 [==============================] - 4s 9ms/step - loss: 1.1938 - accuracy: 0.7585 - val_loss: 1.1514 - val_accuracy: 0.7722\n",
      "Epoch 37/40\n",
      "469/469 [==============================] - 4s 9ms/step - loss: 1.1682 - accuracy: 0.7596 - val_loss: 1.1277 - val_accuracy: 0.7768\n",
      "Epoch 38/40\n",
      "469/469 [==============================] - 4s 9ms/step - loss: 1.1427 - accuracy: 0.7693 - val_loss: 1.1049 - val_accuracy: 0.7803\n",
      "Epoch 39/40\n",
      "469/469 [==============================] - 5s 10ms/step - loss: 1.1221 - accuracy: 0.7708 - val_loss: 1.0827 - val_accuracy: 0.7842\n",
      "Epoch 40/40\n",
      "469/469 [==============================] - 6s 12ms/step - loss: 1.1004 - accuracy: 0.7749 - val_loss: 1.0614 - val_accuracy: 0.7877\n",
      "Test loss: 1.0613712072372437, Test accuracy 0.7876999974250793\n"
     ]
    }
   ],
   "source": [
    "ep = 40\n",
    "learn = 0.0001\n",
    "info = running_model(ep, learn)"
   ]
  },
  {
   "cell_type": "code",
   "execution_count": 50,
   "metadata": {},
   "outputs": [
    {
     "name": "stdout",
     "output_type": "stream",
     "text": [
      "Max value:  0.7876999974250793\n",
      "Standard deviation:  0.18407025558993959\n"
     ]
    }
   ],
   "source": [
    "cc = []\n",
    "cc = info.history['val_accuracy']\n",
    "import statistics\n",
    "print('Max value: ', max(cc))\n",
    "print('Standard deviation: ',statistics.stdev(cc))"
   ]
  },
  {
   "cell_type": "markdown",
   "metadata": {},
   "source": [
    "#### Regularization  factor 0.0005 (run 1)"
   ]
  },
  {
   "cell_type": "code",
   "execution_count": 51,
   "metadata": {},
   "outputs": [
    {
     "name": "stdout",
     "output_type": "stream",
     "text": [
      "Epoch 1/40\n",
      "469/469 [==============================] - 6s 10ms/step - loss: 2.2821 - accuracy: 0.1577 - val_loss: 2.1281 - val_accuracy: 0.3643\n",
      "Epoch 2/40\n",
      "469/469 [==============================] - 4s 9ms/step - loss: 2.0899 - accuracy: 0.4144 - val_loss: 1.9484 - val_accuracy: 0.5735\n",
      "Epoch 3/40\n",
      "469/469 [==============================] - 5s 10ms/step - loss: 1.9181 - accuracy: 0.5949 - val_loss: 1.7679 - val_accuracy: 0.6791\n",
      "Epoch 4/40\n",
      "469/469 [==============================] - 5s 10ms/step - loss: 1.7369 - accuracy: 0.6854 - val_loss: 1.5865 - val_accuracy: 0.7299\n",
      "Epoch 5/40\n",
      "469/469 [==============================] - 5s 11ms/step - loss: 1.5618 - accuracy: 0.7296 - val_loss: 1.4131 - val_accuracy: 0.7579\n",
      "Epoch 6/40\n",
      "469/469 [==============================] - 6s 14ms/step - loss: 1.3962 - accuracy: 0.7553 - val_loss: 1.2567 - val_accuracy: 0.7799\n",
      "Epoch 7/40\n",
      "469/469 [==============================] - 5s 11ms/step - loss: 1.2452 - accuracy: 0.7782 - val_loss: 1.1224 - val_accuracy: 0.7955\n",
      "Epoch 8/40\n",
      "469/469 [==============================] - 6s 12ms/step - loss: 1.1160 - accuracy: 0.7952 - val_loss: 1.0104 - val_accuracy: 0.8106\n",
      "Epoch 9/40\n",
      "469/469 [==============================] - 6s 14ms/step - loss: 1.0155 - accuracy: 0.8036 - val_loss: 0.9185 - val_accuracy: 0.8240\n",
      "Epoch 10/40\n",
      "469/469 [==============================] - 6s 12ms/step - loss: 0.9238 - accuracy: 0.8167 - val_loss: 0.8432 - val_accuracy: 0.8333\n",
      "Epoch 11/40\n",
      "469/469 [==============================] - 7s 14ms/step - loss: 0.8564 - accuracy: 0.8241 - val_loss: 0.7813 - val_accuracy: 0.8410\n",
      "Epoch 12/40\n",
      "469/469 [==============================] - 6s 13ms/step - loss: 0.7963 - accuracy: 0.8334 - val_loss: 0.7297 - val_accuracy: 0.8465\n",
      "Epoch 13/40\n",
      "469/469 [==============================] - 6s 13ms/step - loss: 0.7444 - accuracy: 0.8386 - val_loss: 0.6866 - val_accuracy: 0.8510\n",
      "Epoch 14/40\n",
      "469/469 [==============================] - 5s 10ms/step - loss: 0.7079 - accuracy: 0.8411 - val_loss: 0.6500 - val_accuracy: 0.8560\n",
      "Epoch 15/40\n",
      "469/469 [==============================] - 5s 10ms/step - loss: 0.6623 - accuracy: 0.8509 - val_loss: 0.6185 - val_accuracy: 0.8613\n",
      "Epoch 16/40\n",
      "469/469 [==============================] - 5s 10ms/step - loss: 0.6412 - accuracy: 0.8528 - val_loss: 0.5914 - val_accuracy: 0.8662\n",
      "Epoch 17/40\n",
      "469/469 [==============================] - 5s 10ms/step - loss: 0.6154 - accuracy: 0.8571 - val_loss: 0.5677 - val_accuracy: 0.8694\n",
      "Epoch 18/40\n",
      "469/469 [==============================] - 5s 11ms/step - loss: 0.5864 - accuracy: 0.8616 - val_loss: 0.5467 - val_accuracy: 0.8727\n",
      "Epoch 19/40\n",
      "469/469 [==============================] - 5s 11ms/step - loss: 0.5675 - accuracy: 0.8641 - val_loss: 0.5282 - val_accuracy: 0.8749\n",
      "Epoch 20/40\n",
      "469/469 [==============================] - 5s 10ms/step - loss: 0.5522 - accuracy: 0.8656 - val_loss: 0.5117 - val_accuracy: 0.8781\n",
      "Epoch 21/40\n",
      "469/469 [==============================] - 5s 10ms/step - loss: 0.5319 - accuracy: 0.8709 - val_loss: 0.4969 - val_accuracy: 0.8802\n",
      "Epoch 22/40\n",
      "469/469 [==============================] - 5s 10ms/step - loss: 0.5157 - accuracy: 0.8743 - val_loss: 0.4836 - val_accuracy: 0.8827\n",
      "Epoch 23/40\n",
      "469/469 [==============================] - 4s 9ms/step - loss: 0.5006 - accuracy: 0.8768 - val_loss: 0.4714 - val_accuracy: 0.8847\n",
      "Epoch 24/40\n",
      "469/469 [==============================] - 5s 10ms/step - loss: 0.4903 - accuracy: 0.8781 - val_loss: 0.4604 - val_accuracy: 0.8865\n",
      "Epoch 25/40\n",
      "469/469 [==============================] - 5s 10ms/step - loss: 0.4739 - accuracy: 0.8817 - val_loss: 0.4503 - val_accuracy: 0.8883\n",
      "Epoch 26/40\n",
      "469/469 [==============================] - 6s 13ms/step - loss: 0.4755 - accuracy: 0.8798 - val_loss: 0.4410 - val_accuracy: 0.88964759 - accura - ETA: 0s - loss: 0.4757 - accuracy\n",
      "Epoch 27/40\n",
      "469/469 [==============================] - 6s 12ms/step - loss: 0.4604 - accuracy: 0.8842 - val_loss: 0.4325 - val_accuracy: 0.8908\n",
      "Epoch 28/40\n",
      "469/469 [==============================] - 6s 13ms/step - loss: 0.4542 - accuracy: 0.8822 - val_loss: 0.4247 - val_accuracy: 0.8923\n",
      "Epoch 29/40\n",
      "469/469 [==============================] - 5s 10ms/step - loss: 0.4492 - accuracy: 0.8836 - val_loss: 0.4173 - val_accuracy: 0.8934\n",
      "Epoch 30/40\n",
      "469/469 [==============================] - 5s 11ms/step - loss: 0.4361 - accuracy: 0.8879 - val_loss: 0.4105 - val_accuracy: 0.8938\n",
      "Epoch 31/40\n",
      "469/469 [==============================] - 4s 9ms/step - loss: 0.4326 - accuracy: 0.8874 - val_loss: 0.4042 - val_accuracy: 0.8951\n",
      "Epoch 32/40\n",
      "469/469 [==============================] - 4s 9ms/step - loss: 0.4261 - accuracy: 0.8887 - val_loss: 0.3984 - val_accuracy: 0.8955\n",
      "Epoch 33/40\n",
      "469/469 [==============================] - 6s 12ms/step - loss: 0.4195 - accuracy: 0.8895 - val_loss: 0.3929 - val_accuracy: 0.8972\n",
      "Epoch 34/40\n",
      "469/469 [==============================] - 4s 9ms/step - loss: 0.4168 - accuracy: 0.8902 - val_loss: 0.3878 - val_accuracy: 0.8982\n",
      "Epoch 35/40\n",
      "469/469 [==============================] - 4s 9ms/step - loss: 0.4078 - accuracy: 0.8917 - val_loss: 0.3827 - val_accuracy: 0.8993\n",
      "Epoch 36/40\n",
      "469/469 [==============================] - 6s 13ms/step - loss: 0.3990 - accuracy: 0.8941 - val_loss: 0.3781 - val_accuracy: 0.9004\n",
      "Epoch 37/40\n",
      "469/469 [==============================] - 5s 10ms/step - loss: 0.3992 - accuracy: 0.8926 - val_loss: 0.3737 - val_accuracy: 0.9008\n",
      "Epoch 38/40\n",
      "469/469 [==============================] - 5s 10ms/step - loss: 0.3913 - accuracy: 0.8951 - val_loss: 0.3696 - val_accuracy: 0.9014\n",
      "Epoch 39/40\n",
      "469/469 [==============================] - 4s 9ms/step - loss: 0.3905 - accuracy: 0.8952 - val_loss: 0.3656 - val_accuracy: 0.9028\n",
      "Epoch 40/40\n",
      "469/469 [==============================] - 7s 15ms/step - loss: 0.3909 - accuracy: 0.8933 - val_loss: 0.3619 - val_accuracy: 0.9039\n",
      "Test loss: 0.3618566393852234, Test accuracy 0.9039000272750854\n"
     ]
    }
   ],
   "source": [
    "ep = 40\n",
    "learn = 0.0005\n",
    "info = running_model(ep, learn)"
   ]
  },
  {
   "cell_type": "code",
   "execution_count": 52,
   "metadata": {},
   "outputs": [
    {
     "name": "stdout",
     "output_type": "stream",
     "text": [
      "Max value:  0.9039000272750854\n",
      "Standard deviation:  0.10300974946673583\n"
     ]
    }
   ],
   "source": [
    "cc = []\n",
    "cc = info.history['val_accuracy']\n",
    "import statistics\n",
    "print('Max value: ', max(cc))\n",
    "print('Standard deviation: ',statistics.stdev(cc))"
   ]
  },
  {
   "cell_type": "markdown",
   "metadata": {},
   "source": [
    "#### Regularization  factor 0.0005 (run 2)"
   ]
  },
  {
   "cell_type": "code",
   "execution_count": 53,
   "metadata": {},
   "outputs": [
    {
     "name": "stdout",
     "output_type": "stream",
     "text": [
      "Epoch 1/40\n",
      "469/469 [==============================] - 7s 12ms/step - loss: 2.2911 - accuracy: 0.1377 - val_loss: 2.1491 - val_accuracy: 0.3374\n",
      "Epoch 2/40\n",
      "469/469 [==============================] - 7s 14ms/step - loss: 2.1148 - accuracy: 0.3816 - val_loss: 1.9792 - val_accuracy: 0.5541s - loss: 2.1151 - accuracy: 0.38\n",
      "Epoch 3/40\n",
      "469/469 [==============================] - 6s 13ms/step - loss: 1.9490 - accuracy: 0.5631 - val_loss: 1.8071 - val_accuracy: 0.6520\n",
      "Epoch 4/40\n",
      "469/469 [==============================] - 8s 17ms/step - loss: 1.7815 - accuracy: 0.6502 - val_loss: 1.6337 - val_accuracy: 0.7009\n",
      "Epoch 5/40\n",
      "469/469 [==============================] - 8s 17ms/step - loss: 1.6096 - accuracy: 0.6975 - val_loss: 1.4653 - val_accuracy: 0.7349\n",
      "Epoch 6/40\n",
      "469/469 [==============================] - 8s 18ms/step - loss: 1.4493 - accuracy: 0.7347 - val_loss: 1.3091 - val_accuracy: 0.7648 0s - loss: 1.4512 - \n",
      "Epoch 7/40\n",
      "469/469 [==============================] - 9s 19ms/step - loss: 1.2977 - accuracy: 0.7656 - val_loss: 1.1710 - val_accuracy: 0.7907\n",
      "Epoch 8/40\n",
      "469/469 [==============================] - 7s 15ms/step - loss: 1.1697 - accuracy: 0.7820 - val_loss: 1.0534 - val_accuracy: 0.8077\n",
      "Epoch 9/40\n",
      "469/469 [==============================] - 6s 13ms/step - loss: 1.0551 - accuracy: 0.8015 - val_loss: 0.9557 - val_accuracy: 0.8209\n",
      "Epoch 10/40\n",
      "469/469 [==============================] - 6s 12ms/step - loss: 0.9601 - accuracy: 0.8149 - val_loss: 0.8754 - val_accuracy: 0.8319\n",
      "Epoch 11/40\n",
      "469/469 [==============================] - 6s 13ms/step - loss: 0.8849 - accuracy: 0.8234 - val_loss: 0.8092 - val_accuracy: 0.8401\n",
      "Epoch 12/40\n",
      "469/469 [==============================] - 4s 8ms/step - loss: 0.8223 - accuracy: 0.8311 - val_loss: 0.7543 - val_accuracy: 0.8478\n",
      "Epoch 13/40\n",
      "469/469 [==============================] - 4s 9ms/step - loss: 0.7708 - accuracy: 0.8384 - val_loss: 0.7086 - val_accuracy: 0.8546\n",
      "Epoch 14/40\n",
      "469/469 [==============================] - 4s 8ms/step - loss: 0.7241 - accuracy: 0.8425 - val_loss: 0.6697 - val_accuracy: 0.8590\n",
      "Epoch 15/40\n",
      "469/469 [==============================] - 4s 8ms/step - loss: 0.6913 - accuracy: 0.8470 - val_loss: 0.6365 - val_accuracy: 0.8636\n",
      "Epoch 16/40\n",
      "469/469 [==============================] - 4s 8ms/step - loss: 0.6531 - accuracy: 0.8539 - val_loss: 0.6077 - val_accuracy: 0.8680\n",
      "Epoch 17/40\n",
      "469/469 [==============================] - 5s 10ms/step - loss: 0.6285 - accuracy: 0.8532 - val_loss: 0.5827 - val_accuracy: 0.8710\n",
      "Epoch 18/40\n",
      "469/469 [==============================] - 4s 8ms/step - loss: 0.5998 - accuracy: 0.8590 - val_loss: 0.5608 - val_accuracy: 0.8749\n",
      "Epoch 19/40\n",
      "469/469 [==============================] - 5s 10ms/step - loss: 0.5784 - accuracy: 0.8639 - val_loss: 0.5412 - val_accuracy: 0.8778\n",
      "Epoch 20/40\n",
      "469/469 [==============================] - 5s 10ms/step - loss: 0.5613 - accuracy: 0.8660 - val_loss: 0.5238 - val_accuracy: 0.8795\n",
      "Epoch 21/40\n",
      "469/469 [==============================] - 4s 9ms/step - loss: 0.5457 - accuracy: 0.8691 - val_loss: 0.5082 - val_accuracy: 0.8826\n",
      "Epoch 22/40\n",
      "469/469 [==============================] - 5s 12ms/step - loss: 0.5304 - accuracy: 0.8695 - val_loss: 0.4941 - val_accuracy: 0.8845\n",
      "Epoch 23/40\n",
      "469/469 [==============================] - 5s 10ms/step - loss: 0.5195 - accuracy: 0.8716 - val_loss: 0.4813 - val_accuracy: 0.8855\n",
      "Epoch 24/40\n",
      "469/469 [==============================] - 6s 12ms/step - loss: 0.5040 - accuracy: 0.8736 - val_loss: 0.4697 - val_accuracy: 0.8878\n",
      "Epoch 25/40\n",
      "469/469 [==============================] - 6s 13ms/step - loss: 0.4855 - accuracy: 0.8784 - val_loss: 0.4590 - val_accuracy: 0.8893\n",
      "Epoch 26/40\n",
      "469/469 [==============================] - 6s 12ms/step - loss: 0.4828 - accuracy: 0.8784 - val_loss: 0.4491 - val_accuracy: 0.8915\n",
      "Epoch 27/40\n",
      "469/469 [==============================] - 5s 10ms/step - loss: 0.4646 - accuracy: 0.8816 - val_loss: 0.4401 - val_accuracy: 0.8921\n",
      "Epoch 28/40\n",
      "469/469 [==============================] - 4s 9ms/step - loss: 0.4583 - accuracy: 0.8827 - val_loss: 0.4318 - val_accuracy: 0.8930\n",
      "Epoch 29/40\n",
      "469/469 [==============================] - 4s 8ms/step - loss: 0.4535 - accuracy: 0.8826 - val_loss: 0.4241 - val_accuracy: 0.8947\n",
      "Epoch 30/40\n",
      "469/469 [==============================] - 4s 8ms/step - loss: 0.4462 - accuracy: 0.8839 - val_loss: 0.4169 - val_accuracy: 0.8953\n",
      "Epoch 31/40\n",
      "469/469 [==============================] - 5s 12ms/step - loss: 0.4297 - accuracy: 0.8889 - val_loss: 0.4103 - val_accuracy: 0.8964\n",
      "Epoch 32/40\n",
      "469/469 [==============================] - 5s 11ms/step - loss: 0.4341 - accuracy: 0.8849 - val_loss: 0.4040 - val_accuracy: 0.8981\n",
      "Epoch 33/40\n",
      "469/469 [==============================] - 6s 14ms/step - loss: 0.4231 - accuracy: 0.8887 - val_loss: 0.3981 - val_accuracy: 0.8992\n",
      "Epoch 34/40\n",
      "469/469 [==============================] - 5s 10ms/step - loss: 0.4147 - accuracy: 0.8915 - val_loss: 0.3926 - val_accuracy: 0.9005\n",
      "Epoch 35/40\n",
      "469/469 [==============================] - 5s 10ms/step - loss: 0.4142 - accuracy: 0.8902 - val_loss: 0.3875 - val_accuracy: 0.9012\n",
      "Epoch 36/40\n",
      "469/469 [==============================] - 5s 11ms/step - loss: 0.4082 - accuracy: 0.8928 - val_loss: 0.3826 - val_accuracy: 0.9014\n",
      "Epoch 37/40\n",
      "469/469 [==============================] - 4s 9ms/step - loss: 0.4032 - accuracy: 0.8911 - val_loss: 0.3782 - val_accuracy: 0.9025\n",
      "Epoch 38/40\n",
      "469/469 [==============================] - 4s 9ms/step - loss: 0.3964 - accuracy: 0.8946 - val_loss: 0.3737 - val_accuracy: 0.9031\n",
      "Epoch 39/40\n",
      "469/469 [==============================] - 5s 10ms/step - loss: 0.3891 - accuracy: 0.8967 - val_loss: 0.3696 - val_accuracy: 0.9039\n",
      "Epoch 40/40\n",
      "469/469 [==============================] - 5s 10ms/step - loss: 0.3871 - accuracy: 0.8959 - val_loss: 0.3656 - val_accuracy: 0.9044\n",
      "Test loss: 0.3656342625617981, Test accuracy 0.9043999910354614\n"
     ]
    }
   ],
   "source": [
    "ep = 40\n",
    "learn = 0.0005\n",
    "info = running_model(ep, learn)"
   ]
  },
  {
   "cell_type": "code",
   "execution_count": 54,
   "metadata": {},
   "outputs": [
    {
     "name": "stdout",
     "output_type": "stream",
     "text": [
      "Max value:  0.9043999910354614\n",
      "Standard deviation:  0.11080766196883153\n"
     ]
    }
   ],
   "source": [
    "cc = []\n",
    "cc = info.history['val_accuracy']\n",
    "import statistics\n",
    "print('Max value: ', max(cc))\n",
    "print('Standard deviation: ',statistics.stdev(cc))"
   ]
  },
  {
   "cell_type": "markdown",
   "metadata": {},
   "source": [
    "#### Regularization  factor 0.0005 (run 3)"
   ]
  },
  {
   "cell_type": "code",
   "execution_count": 55,
   "metadata": {},
   "outputs": [
    {
     "name": "stdout",
     "output_type": "stream",
     "text": [
      "Epoch 1/40\n",
      "469/469 [==============================] - 4s 6ms/step - loss: 2.2691 - accuracy: 0.1372 - val_loss: 2.1325 - val_accuracy: 0.3356\n",
      "Epoch 2/40\n",
      "469/469 [==============================] - 3s 5ms/step - loss: 2.0898 - accuracy: 0.4052 - val_loss: 1.9578 - val_accuracy: 0.5548\n",
      "Epoch 3/40\n",
      "469/469 [==============================] - 3s 6ms/step - loss: 1.9189 - accuracy: 0.5906 - val_loss: 1.7845 - val_accuracy: 0.6651\n",
      "Epoch 4/40\n",
      "469/469 [==============================] - 3s 6ms/step - loss: 1.7506 - accuracy: 0.6814 - val_loss: 1.6117 - val_accuracy: 0.7223\n",
      "Epoch 5/40\n",
      "469/469 [==============================] - 3s 6ms/step - loss: 1.5822 - accuracy: 0.7288 - val_loss: 1.4448 - val_accuracy: 0.7614\n",
      "Epoch 6/40\n",
      "469/469 [==============================] - 3s 6ms/step - loss: 1.4181 - accuracy: 0.7629 - val_loss: 1.2908 - val_accuracy: 0.7866\n",
      "Epoch 7/40\n",
      "469/469 [==============================] - 3s 7ms/step - loss: 1.2726 - accuracy: 0.7826 - val_loss: 1.1551 - val_accuracy: 0.8036\n",
      "Epoch 8/40\n",
      "469/469 [==============================] - 3s 6ms/step - loss: 1.1445 - accuracy: 0.8000 - val_loss: 1.0396 - val_accuracy: 0.8155\n",
      "Epoch 9/40\n",
      "469/469 [==============================] - 3s 7ms/step - loss: 1.0355 - accuracy: 0.8127 - val_loss: 0.9432 - val_accuracy: 0.8246\n",
      "Epoch 10/40\n",
      "469/469 [==============================] - 3s 6ms/step - loss: 0.9403 - accuracy: 0.8239 - val_loss: 0.8634 - val_accuracy: 0.8331\n",
      "Epoch 11/40\n",
      "469/469 [==============================] - 3s 6ms/step - loss: 0.8643 - accuracy: 0.8319 - val_loss: 0.7974 - val_accuracy: 0.8406\n",
      "Epoch 12/40\n",
      "469/469 [==============================] - 3s 6ms/step - loss: 0.8027 - accuracy: 0.8389 - val_loss: 0.7425 - val_accuracy: 0.8483\n",
      "Epoch 13/40\n",
      "469/469 [==============================] - 3s 6ms/step - loss: 0.7513 - accuracy: 0.8438 - val_loss: 0.6964 - val_accuracy: 0.8528\n",
      "Epoch 14/40\n",
      "469/469 [==============================] - 3s 6ms/step - loss: 0.7085 - accuracy: 0.8485 - val_loss: 0.6576 - val_accuracy: 0.8579\n",
      "Epoch 15/40\n",
      "469/469 [==============================] - 3s 6ms/step - loss: 0.6655 - accuracy: 0.8557 - val_loss: 0.6244 - val_accuracy: 0.8626\n",
      "Epoch 16/40\n",
      "469/469 [==============================] - 3s 7ms/step - loss: 0.6343 - accuracy: 0.8587 - val_loss: 0.5963 - val_accuracy: 0.8658\n",
      "Epoch 17/40\n",
      "469/469 [==============================] - 3s 6ms/step - loss: 0.6092 - accuracy: 0.8624 - val_loss: 0.5713 - val_accuracy: 0.8702\n",
      "Epoch 18/40\n",
      "469/469 [==============================] - 3s 6ms/step - loss: 0.5859 - accuracy: 0.8655 - val_loss: 0.5499 - val_accuracy: 0.8724\n",
      "Epoch 19/40\n",
      "469/469 [==============================] - 3s 7ms/step - loss: 0.5646 - accuracy: 0.8656 - val_loss: 0.5307 - val_accuracy: 0.8763\n",
      "Epoch 20/40\n",
      "469/469 [==============================] - 3s 7ms/step - loss: 0.5441 - accuracy: 0.8720 - val_loss: 0.5137 - val_accuracy: 0.8784\n",
      "Epoch 21/40\n",
      "469/469 [==============================] - 3s 6ms/step - loss: 0.5309 - accuracy: 0.8716 - val_loss: 0.4986 - val_accuracy: 0.8804\n",
      "Epoch 22/40\n",
      "469/469 [==============================] - 3s 7ms/step - loss: 0.5182 - accuracy: 0.8723 - val_loss: 0.4850 - val_accuracy: 0.8819\n",
      "Epoch 23/40\n",
      "469/469 [==============================] - 3s 6ms/step - loss: 0.5011 - accuracy: 0.8764 - val_loss: 0.4727 - val_accuracy: 0.8834\n",
      "Epoch 24/40\n",
      "469/469 [==============================] - 3s 6ms/step - loss: 0.4886 - accuracy: 0.8797 - val_loss: 0.4615 - val_accuracy: 0.8848\n",
      "Epoch 25/40\n",
      "469/469 [==============================] - 3s 7ms/step - loss: 0.4797 - accuracy: 0.8809 - val_loss: 0.4514 - val_accuracy: 0.8873\n",
      "Epoch 26/40\n",
      "469/469 [==============================] - 3s 7ms/step - loss: 0.4693 - accuracy: 0.8832 - val_loss: 0.4421 - val_accuracy: 0.8887\n",
      "Epoch 27/40\n",
      "469/469 [==============================] - 3s 7ms/step - loss: 0.4598 - accuracy: 0.8826 - val_loss: 0.4334 - val_accuracy: 0.8917\n",
      "Epoch 28/40\n",
      "469/469 [==============================] - 3s 7ms/step - loss: 0.4505 - accuracy: 0.8848 - val_loss: 0.4255 - val_accuracy: 0.8924\n",
      "Epoch 29/40\n",
      "469/469 [==============================] - 3s 7ms/step - loss: 0.4419 - accuracy: 0.8862 - val_loss: 0.4181 - val_accuracy: 0.8943\n",
      "Epoch 30/40\n",
      "469/469 [==============================] - 3s 7ms/step - loss: 0.4354 - accuracy: 0.8866 - val_loss: 0.4114 - val_accuracy: 0.8960\n",
      "Epoch 31/40\n",
      "469/469 [==============================] - 3s 7ms/step - loss: 0.4272 - accuracy: 0.8898 - val_loss: 0.4053 - val_accuracy: 0.8975\n",
      "Epoch 32/40\n",
      "469/469 [==============================] - 3s 7ms/step - loss: 0.4230 - accuracy: 0.8888 - val_loss: 0.3991 - val_accuracy: 0.8978\n",
      "Epoch 33/40\n",
      "469/469 [==============================] - 3s 7ms/step - loss: 0.4142 - accuracy: 0.8925 - val_loss: 0.3937 - val_accuracy: 0.8988\n",
      "Epoch 34/40\n",
      "469/469 [==============================] - 3s 6ms/step - loss: 0.4062 - accuracy: 0.8924 - val_loss: 0.3885 - val_accuracy: 0.8995\n",
      "Epoch 35/40\n",
      "469/469 [==============================] - 3s 7ms/step - loss: 0.4126 - accuracy: 0.8910 - val_loss: 0.3838 - val_accuracy: 0.9004\n",
      "Epoch 36/40\n",
      "469/469 [==============================] - 3s 7ms/step - loss: 0.3940 - accuracy: 0.8971 - val_loss: 0.3791 - val_accuracy: 0.9012\n",
      "Epoch 37/40\n",
      "469/469 [==============================] - 3s 6ms/step - loss: 0.3910 - accuracy: 0.8963 - val_loss: 0.3747 - val_accuracy: 0.9024\n",
      "Epoch 38/40\n",
      "469/469 [==============================] - 3s 6ms/step - loss: 0.3930 - accuracy: 0.8947 - val_loss: 0.3705 - val_accuracy: 0.9027\n",
      "Epoch 39/40\n",
      "469/469 [==============================] - 3s 7ms/step - loss: 0.3879 - accuracy: 0.8961 - val_loss: 0.3667 - val_accuracy: 0.9035\n",
      "Epoch 40/40\n",
      "469/469 [==============================] - 3s 7ms/step - loss: 0.3799 - accuracy: 0.8985 - val_loss: 0.3629 - val_accuracy: 0.9033\n",
      "Test loss: 0.3629305064678192, Test accuracy 0.9032999873161316\n"
     ]
    }
   ],
   "source": [
    "ep = 40\n",
    "learn = 0.0005\n",
    "info = running_model(ep, learn)"
   ]
  },
  {
   "cell_type": "code",
   "execution_count": 56,
   "metadata": {},
   "outputs": [
    {
     "name": "stdout",
     "output_type": "stream",
     "text": [
      "Max value:  0.9035000205039978\n",
      "Standard deviation:  0.1083929162747305\n"
     ]
    }
   ],
   "source": [
    "cc = []\n",
    "cc = info.history['val_accuracy']\n",
    "import statistics\n",
    "print('Max value: ', max(cc))\n",
    "print('Standard deviation: ',statistics.stdev(cc))"
   ]
  },
  {
   "cell_type": "markdown",
   "metadata": {},
   "source": [
    "#### Summary of all runs"
   ]
  },
  {
   "cell_type": "markdown",
   "metadata": {},
   "source": [
    "Max values from all runs\n",
    "---\n",
    "\n",
    "max 0.001:\n",
    "- 0.9196000099182129\n",
    "- 0.9179999828338623\n",
    "- 0.9200999736785889\n",
    "\n",
    "max : 0.005\n",
    "- 0.9567000269889832\n",
    "- 0.9564999938011169\n",
    "- 0.9560999870300293\n",
    "\n",
    "max: 0.008:\n",
    "- 0.9657999873161316\n",
    "- 0.9666000008583069\n",
    "- 0.9656999707221985\n",
    "\n",
    "max 0.0001:\n",
    "- 0.8055999875068665\n",
    "- 0.8263999819755554\n",
    "- 0.7876999974250793\n",
    "\n",
    "max 0.0005:\n",
    "- 0.9039000272750854\n",
    "- 0.9043999910354614\n",
    "- 0.9035000205039978\n"
   ]
  },
  {
   "cell_type": "markdown",
   "metadata": {},
   "source": [
    "Standard deviation from all runs\n",
    "---\n",
    "\n",
    "deviation 0.001:\n",
    "- 0.06309258302592037\n",
    "- 0.0656045393804049\n",
    "- 0.08142213493982044\n",
    "\n",
    "deviation 0.005:\n",
    "- 0.02377655110530879\n",
    "- 0.025387090346489814\n",
    "- 0.025376603549890037\n",
    "\n",
    "deviation 0.008:\n",
    "- 0.022381706799999467\n",
    "- 0.021606646281912313\n",
    "- 0.022289511042831656\n",
    "\n",
    "\n",
    "deviation 0.0001:\n",
    "- 0.20507056766918563\n",
    "- 0.20331022052862852\n",
    "- 0.18407025558993959\n",
    "\n",
    "deviation 0.0005:\n",
    "- 0.10300974946673583\n",
    "- 0.11080766196883153\n",
    "- 0.1083929162747305"
   ]
  },
  {
   "cell_type": "markdown",
   "metadata": {},
   "source": [
    "#### Mean of max values per regularization factor"
   ]
  },
  {
   "cell_type": "code",
   "execution_count": 29,
   "metadata": {},
   "outputs": [],
   "source": [
    "import statistics\n",
    "\n",
    "# 0.001\n",
    "y1 = [0.9196000099182129, 0.9179999828338623, 0.9200999736785889]\n",
    "\n",
    "# 0.005\n",
    "y2 = [0.9567000269889832, 0.9564999938011169, 0.9560999870300293]\n",
    "\n",
    "# 0.008\n",
    "y3 = [0.9657999873161316, 0.9666000008583069, 0.9656999707221985]\n",
    "\n",
    "# 0.0001\n",
    "y4 = [0.8055999875068665, 0.8263999819755554, 0.7876999974250793]\n",
    "\n",
    "# 0.0005\n",
    "y5 = [0.9039000272750854, 0.9043999910354614, 0.9035000205039978]"
   ]
  },
  {
   "cell_type": "code",
   "execution_count": 51,
   "metadata": {},
   "outputs": [],
   "source": [
    "yy1 = statistics.mean(y1)\n",
    "yy2 = statistics.mean(y2)\n",
    "yy3 = statistics.mean(y3)\n",
    "yy4 = statistics.mean(y4)\n",
    "yy5 = statistics.mean(y5)"
   ]
  },
  {
   "cell_type": "code",
   "execution_count": 36,
   "metadata": {},
   "outputs": [],
   "source": [
    "y_vec = []\n",
    "y_vec.append(yy1)\n",
    "y_vec.append(yy2)\n",
    "y_vec.append(yy3)\n",
    "y_vec.append(yy4)\n",
    "y_vec.append(yy5)"
   ]
  },
  {
   "cell_type": "code",
   "execution_count": 38,
   "metadata": {},
   "outputs": [],
   "source": [
    "x = [0.001, 0.005, 0.008, 0.0001, 0.0005]"
   ]
  },
  {
   "cell_type": "code",
   "execution_count": 41,
   "metadata": {},
   "outputs": [
    {
     "data": {
      "image/png": "[encoded data removed]",
      "text/plain": [
       "<Figure size 432x288 with 1 Axes>"
      ]
     },
     "metadata": {
      "needs_background": "light"
     },
     "output_type": "display_data"
    }
   ],
   "source": [
    "plt.scatter(x, y_vec)\n",
    "plt.title('Mean of max values per regularization factor') #title\n",
    "plt.xlabel('Regularization factor') #x label\n",
    "plt.ylabel('Mean of max values') #y label\n",
    "plt.show()"
   ]
  },
  {
   "cell_type": "markdown",
   "metadata": {},
   "source": [
    "#### Mean of standard deviation values per regularization factor"
   ]
  },
  {
   "cell_type": "code",
   "execution_count": 42,
   "metadata": {},
   "outputs": [],
   "source": [
    "# 0.001\n",
    "z1 = [0.06309258302592037, 0.0656045393804049, 0.08142213493982044]\n",
    "\n",
    "# 0.005\n",
    "z2 = [0.02377655110530879, 0.025387090346489814, 0.025376603549890037]\n",
    "\n",
    "# 0.008\n",
    "z3 = [0.022381706799999467, 0.021606646281912313, 0.022289511042831656]\n",
    "\n",
    "# 0.0001\n",
    "z4 = [0.20507056766918563, 0.20331022052862852, 0.18407025558993959]\n",
    "\n",
    "# 0.0005\n",
    "z5 = [0.10300974946673583, 0.11080766196883153, 0.1083929162747305]"
   ]
  },
  {
   "cell_type": "code",
   "execution_count": 45,
   "metadata": {},
   "outputs": [],
   "source": [
    "zz1 = statistics.mean(z1)\n",
    "zz2 = statistics.mean(z2)\n",
    "zz3 = statistics.mean(z3)\n",
    "zz4 = statistics.mean(z4)\n",
    "zz5 = statistics.mean(z5)"
   ]
  },
  {
   "cell_type": "code",
   "execution_count": 49,
   "metadata": {},
   "outputs": [],
   "source": [
    "z_vec = []\n",
    "z_vec.append(zz1)\n",
    "z_vec.append(zz2)\n",
    "z_vec.append(zz3)\n",
    "z_vec.append(zz4)\n",
    "z_vec.append(zz5)"
   ]
  },
  {
   "cell_type": "code",
   "execution_count": 50,
   "metadata": {},
   "outputs": [
    {
     "data": {
      "image/png": "[encoded data removed]",
      "text/plain": [
       "<Figure size 432x288 with 1 Axes>"
      ]
     },
     "metadata": {
      "needs_background": "light"
     },
     "output_type": "display_data"
    }
   ],
   "source": [
    "plt.scatter(x, z_vec) # x is the same from mean of max value\n",
    "plt.title('Mean of standard deviation values per regularization factor') #title\n",
    "plt.xlabel('Regularization factor') #x label\n",
    "plt.ylabel('Mean of standard deviation') #y label\n",
    "plt.show()"
   ]
  },
  {
   "cell_type": "markdown",
   "metadata": {},
   "source": [
    "#### Mean of max values and standard deviation per regularization factor"
   ]
  },
  {
   "cell_type": "code",
   "execution_count": 57,
   "metadata": {},
   "outputs": [
    {
     "data": {
      "image/png": "[encoded data removed]",
      "text/plain": [
       "<Figure size 432x432 with 1 Axes>"
      ]
     },
     "metadata": {
      "needs_background": "light"
     },
     "output_type": "display_data"
    }
   ],
   "source": [
    "import matplotlib.pyplot as plt\n",
    "from mpl_toolkits.mplot3d import Axes3D\n",
    "import numpy as np\n",
    "\n",
    "y = y_vec\n",
    "z = z_vec\n",
    "\n",
    "fig = plt.figure(figsize=(6, 6))\n",
    "ax = fig.add_subplot(111, projection='3d')\n",
    "ax.scatter(x, y, z,\n",
    "           linewidths=1, alpha=.7,\n",
    "           edgecolor='k',\n",
    "           s = 200,\n",
    "           c=z)\n",
    "\n",
    "plt.title('Mean of max values and standard deviation per regularization factor')\n",
    "ax.set_xlabel('Regularization factor', fontweight ='bold')\n",
    "ax.set_ylabel('Mean of max values', fontweight ='bold')\n",
    "ax.set_zlabel('Mean of standard deviation', fontweight ='bold')\n",
    "plt.show()"
   ]
  }
 ],
 "metadata": {
  "colab": {
   "collapsed_sections": [],
   "name": "Untitled0.ipynb",
   "provenance": []
  },
  "kernelspec": {
   "display_name": "Python 3",
   "language": "python",
   "name": "python3"
  },
  "language_info": {
   "codemirror_mode": {
    "name": "ipython",
    "version": 3
   },
   "file_extension": ".py",
   "mimetype": "text/x-python",
   "name": "python",
   "nbconvert_exporter": "python",
   "pygments_lexer": "ipython3",
   "version": "3.9.2"
  }
 },
 "nbformat": 4,
 "nbformat_minor": 1
}
