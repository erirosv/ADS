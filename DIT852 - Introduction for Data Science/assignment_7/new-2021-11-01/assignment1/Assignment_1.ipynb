{
 "cells": [
  {
   "cell_type": "markdown",
   "metadata": {},
   "source": [
    "# Assignment 1\n",
    "by:\n",
    "- Christoffer Wikner (931012)\n",
    "- Erik Rosvall (960523)\n"
   ]
  },
  {
   "cell_type": "code",
   "execution_count": 1,
   "metadata": {},
   "outputs": [],
   "source": [
    "import pandas as pd\n",
    "import matplotlib as plt\n",
    "from sklearn.linear_model import LinearRegression"
   ]
  },
  {
   "cell_type": "markdown",
   "metadata": {},
   "source": [
    "## 1\n",
    "### A)"
   ]
  },
  {
   "cell_type": "code",
   "execution_count": 2,
   "metadata": {},
   "outputs": [],
   "source": [
    "df_gdpp = pd.read_csv('gdp_per_capita.csv')\n",
    "df_life = pd.read_csv('le.csv')"
   ]
  },
  {
   "cell_type": "code",
   "execution_count": 3,
   "metadata": {},
   "outputs": [
    {
     "data": {
      "text/html": [
       "<div>\n",
       "<style scoped>\n",
       "    .dataframe tbody tr th:only-of-type {\n",
       "        vertical-align: middle;\n",
       "    }\n",
       "\n",
       "    .dataframe tbody tr th {\n",
       "        vertical-align: top;\n",
       "    }\n",
       "\n",
       "    .dataframe thead th {\n",
       "        text-align: right;\n",
       "    }\n",
       "</style>\n",
       "<table border=\"1\" class=\"dataframe\">\n",
       "  <thead>\n",
       "    <tr style=\"text-align: right;\">\n",
       "      <th></th>\n",
       "      <th>Entity</th>\n",
       "      <th>Code</th>\n",
       "      <th>Year</th>\n",
       "      <th>GDP per capita, PPP (constant 2017 international $)</th>\n",
       "    </tr>\n",
       "  </thead>\n",
       "  <tbody>\n",
       "    <tr>\n",
       "      <th>0</th>\n",
       "      <td>Afghanistan</td>\n",
       "      <td>AFG</td>\n",
       "      <td>2002</td>\n",
       "      <td>1189.784668</td>\n",
       "    </tr>\n",
       "    <tr>\n",
       "      <th>1</th>\n",
       "      <td>Afghanistan</td>\n",
       "      <td>AFG</td>\n",
       "      <td>2003</td>\n",
       "      <td>1235.810063</td>\n",
       "    </tr>\n",
       "    <tr>\n",
       "      <th>2</th>\n",
       "      <td>Afghanistan</td>\n",
       "      <td>AFG</td>\n",
       "      <td>2004</td>\n",
       "      <td>1200.278013</td>\n",
       "    </tr>\n",
       "    <tr>\n",
       "      <th>3</th>\n",
       "      <td>Afghanistan</td>\n",
       "      <td>AFG</td>\n",
       "      <td>2005</td>\n",
       "      <td>1286.793659</td>\n",
       "    </tr>\n",
       "    <tr>\n",
       "      <th>4</th>\n",
       "      <td>Afghanistan</td>\n",
       "      <td>AFG</td>\n",
       "      <td>2006</td>\n",
       "      <td>1315.789117</td>\n",
       "    </tr>\n",
       "  </tbody>\n",
       "</table>\n",
       "</div>"
      ],
      "text/plain": [
       "        Entity Code  Year  GDP per capita, PPP (constant 2017 international $)\n",
       "0  Afghanistan  AFG  2002                                        1189.784668  \n",
       "1  Afghanistan  AFG  2003                                        1235.810063  \n",
       "2  Afghanistan  AFG  2004                                        1200.278013  \n",
       "3  Afghanistan  AFG  2005                                        1286.793659  \n",
       "4  Afghanistan  AFG  2006                                        1315.789117  "
      ]
     },
     "execution_count": 3,
     "metadata": {},
     "output_type": "execute_result"
    }
   ],
   "source": [
    "df_gdpp.head()"
   ]
  },
  {
   "cell_type": "code",
   "execution_count": 4,
   "metadata": {},
   "outputs": [
    {
     "data": {
      "text/html": [
       "<div>\n",
       "<style scoped>\n",
       "    .dataframe tbody tr th:only-of-type {\n",
       "        vertical-align: middle;\n",
       "    }\n",
       "\n",
       "    .dataframe tbody tr th {\n",
       "        vertical-align: top;\n",
       "    }\n",
       "\n",
       "    .dataframe thead th {\n",
       "        text-align: right;\n",
       "    }\n",
       "</style>\n",
       "<table border=\"1\" class=\"dataframe\">\n",
       "  <thead>\n",
       "    <tr style=\"text-align: right;\">\n",
       "      <th></th>\n",
       "      <th>Entity</th>\n",
       "      <th>Code</th>\n",
       "      <th>Year</th>\n",
       "      <th>Life expectancy</th>\n",
       "    </tr>\n",
       "  </thead>\n",
       "  <tbody>\n",
       "    <tr>\n",
       "      <th>0</th>\n",
       "      <td>Afghanistan</td>\n",
       "      <td>AFG</td>\n",
       "      <td>1950</td>\n",
       "      <td>27.638</td>\n",
       "    </tr>\n",
       "    <tr>\n",
       "      <th>1</th>\n",
       "      <td>Afghanistan</td>\n",
       "      <td>AFG</td>\n",
       "      <td>1951</td>\n",
       "      <td>27.878</td>\n",
       "    </tr>\n",
       "    <tr>\n",
       "      <th>2</th>\n",
       "      <td>Afghanistan</td>\n",
       "      <td>AFG</td>\n",
       "      <td>1952</td>\n",
       "      <td>28.361</td>\n",
       "    </tr>\n",
       "    <tr>\n",
       "      <th>3</th>\n",
       "      <td>Afghanistan</td>\n",
       "      <td>AFG</td>\n",
       "      <td>1953</td>\n",
       "      <td>28.852</td>\n",
       "    </tr>\n",
       "    <tr>\n",
       "      <th>4</th>\n",
       "      <td>Afghanistan</td>\n",
       "      <td>AFG</td>\n",
       "      <td>1954</td>\n",
       "      <td>29.350</td>\n",
       "    </tr>\n",
       "  </tbody>\n",
       "</table>\n",
       "</div>"
      ],
      "text/plain": [
       "        Entity Code  Year  Life expectancy\n",
       "0  Afghanistan  AFG  1950           27.638\n",
       "1  Afghanistan  AFG  1951           27.878\n",
       "2  Afghanistan  AFG  1952           28.361\n",
       "3  Afghanistan  AFG  1953           28.852\n",
       "4  Afghanistan  AFG  1954           29.350"
      ]
     },
     "execution_count": 4,
     "metadata": {},
     "output_type": "execute_result"
    }
   ],
   "source": [
    "df_life.head()"
   ]
  },
  {
   "cell_type": "markdown",
   "metadata": {},
   "source": [
    "Merge and dropping"
   ]
  },
  {
   "cell_type": "code",
   "execution_count": 5,
   "metadata": {
    "scrolled": true
   },
   "outputs": [
    {
     "data": {
      "text/html": [
       "<div>\n",
       "<style scoped>\n",
       "    .dataframe tbody tr th:only-of-type {\n",
       "        vertical-align: middle;\n",
       "    }\n",
       "\n",
       "    .dataframe tbody tr th {\n",
       "        vertical-align: top;\n",
       "    }\n",
       "\n",
       "    .dataframe thead th {\n",
       "        text-align: right;\n",
       "    }\n",
       "</style>\n",
       "<table border=\"1\" class=\"dataframe\">\n",
       "  <thead>\n",
       "    <tr style=\"text-align: right;\">\n",
       "      <th></th>\n",
       "      <th>Entity</th>\n",
       "      <th>Year</th>\n",
       "      <th>GDP per capita, PPP (constant 2017 international $)</th>\n",
       "      <th>Life expectancy</th>\n",
       "    </tr>\n",
       "  </thead>\n",
       "  <tbody>\n",
       "    <tr>\n",
       "      <th>0</th>\n",
       "      <td>Afghanistan</td>\n",
       "      <td>2002</td>\n",
       "      <td>1189.784668</td>\n",
       "      <td>56.784</td>\n",
       "    </tr>\n",
       "    <tr>\n",
       "      <th>1</th>\n",
       "      <td>Afghanistan</td>\n",
       "      <td>2003</td>\n",
       "      <td>1235.810063</td>\n",
       "      <td>57.271</td>\n",
       "    </tr>\n",
       "    <tr>\n",
       "      <th>2</th>\n",
       "      <td>Afghanistan</td>\n",
       "      <td>2004</td>\n",
       "      <td>1200.278013</td>\n",
       "      <td>57.772</td>\n",
       "    </tr>\n",
       "    <tr>\n",
       "      <th>3</th>\n",
       "      <td>Afghanistan</td>\n",
       "      <td>2005</td>\n",
       "      <td>1286.793659</td>\n",
       "      <td>58.290</td>\n",
       "    </tr>\n",
       "    <tr>\n",
       "      <th>4</th>\n",
       "      <td>Afghanistan</td>\n",
       "      <td>2006</td>\n",
       "      <td>1315.789117</td>\n",
       "      <td>58.826</td>\n",
       "    </tr>\n",
       "    <tr>\n",
       "      <th>...</th>\n",
       "      <td>...</td>\n",
       "      <td>...</td>\n",
       "      <td>...</td>\n",
       "      <td>...</td>\n",
       "    </tr>\n",
       "    <tr>\n",
       "      <th>5525</th>\n",
       "      <td>Zimbabwe</td>\n",
       "      <td>2015</td>\n",
       "      <td>3198.982129</td>\n",
       "      <td>59.534</td>\n",
       "    </tr>\n",
       "    <tr>\n",
       "      <th>5526</th>\n",
       "      <td>Zimbabwe</td>\n",
       "      <td>2016</td>\n",
       "      <td>3173.610829</td>\n",
       "      <td>60.294</td>\n",
       "    </tr>\n",
       "    <tr>\n",
       "      <th>5527</th>\n",
       "      <td>Zimbabwe</td>\n",
       "      <td>2017</td>\n",
       "      <td>3274.611198</td>\n",
       "      <td>60.812</td>\n",
       "    </tr>\n",
       "    <tr>\n",
       "      <th>5528</th>\n",
       "      <td>Zimbabwe</td>\n",
       "      <td>2018</td>\n",
       "      <td>3341.665418</td>\n",
       "      <td>61.195</td>\n",
       "    </tr>\n",
       "    <tr>\n",
       "      <th>5529</th>\n",
       "      <td>Zimbabwe</td>\n",
       "      <td>2019</td>\n",
       "      <td>3027.656038</td>\n",
       "      <td>61.490</td>\n",
       "    </tr>\n",
       "  </tbody>\n",
       "</table>\n",
       "<p>5530 rows × 4 columns</p>\n",
       "</div>"
      ],
      "text/plain": [
       "           Entity  Year  GDP per capita, PPP (constant 2017 international $)  \\\n",
       "0     Afghanistan  2002                                        1189.784668     \n",
       "1     Afghanistan  2003                                        1235.810063     \n",
       "2     Afghanistan  2004                                        1200.278013     \n",
       "3     Afghanistan  2005                                        1286.793659     \n",
       "4     Afghanistan  2006                                        1315.789117     \n",
       "...           ...   ...                                                ...     \n",
       "5525     Zimbabwe  2015                                        3198.982129     \n",
       "5526     Zimbabwe  2016                                        3173.610829     \n",
       "5527     Zimbabwe  2017                                        3274.611198     \n",
       "5528     Zimbabwe  2018                                        3341.665418     \n",
       "5529     Zimbabwe  2019                                        3027.656038     \n",
       "\n",
       "      Life expectancy  \n",
       "0              56.784  \n",
       "1              57.271  \n",
       "2              57.772  \n",
       "3              58.290  \n",
       "4              58.826  \n",
       "...               ...  \n",
       "5525           59.534  \n",
       "5526           60.294  \n",
       "5527           60.812  \n",
       "5528           61.195  \n",
       "5529           61.490  \n",
       "\n",
       "[5530 rows x 4 columns]"
      ]
     },
     "execution_count": 5,
     "metadata": {},
     "output_type": "execute_result"
    }
   ],
   "source": [
    "# Merging the data sets, with 'Entity', 'Year', 'Code'\n",
    "data_f = pd.merge(df_gdpp, df_life, on = ['Entity', 'Year', 'Code'],)\n",
    "\n",
    "# Dropping this column because we don't see it relevant \n",
    "data_f.drop(columns=['Code'])"
   ]
  },
  {
   "cell_type": "markdown",
   "metadata": {},
   "source": [
    "We decided to remove entities that were not countries but rather amalgamations of several different countries such as the European Union. We initially thought of dropping all countries which had not to code since that was the case for most however exceptions such as the world with the code OWID_WRL made this a non-valid strategy and thus did manual data removing by finding the non-countries in the data-set."
   ]
  },
  {
   "cell_type": "markdown",
   "metadata": {},
   "source": [
    "Africa Eastern and Southern\n",
    "\n",
    "Africa Western and Central\n",
    "\n",
    "Arab World\n",
    "\n",
    "Central Europe and the Baltics\n",
    "\n",
    "Early-demographic dividend\n",
    "\n",
    "East Asia & Pacific\n",
    "\n",
    "East Asia & Pacific (excluding high income)\n",
    "\n",
    "East Asia & Pacific (IDA & IBRD)\n",
    "\n",
    "Europe & Central Asia (excluding high income)\n",
    "\n",
    "Europe & Central Asia (IDA & IBRD)\n",
    "\n",
    "European Union\n",
    "\n",
    "Heavily indebted poor countries (HIPC)\n",
    "\n",
    "High income\n",
    "\n",
    "IBRD only\n",
    "\n",
    "IDA & IBRD total\n",
    "\n",
    "IDA blend\n",
    "\n",
    "IDA only\n",
    "\n",
    "IDA total\n",
    "\n",
    "Late-demographic dividend\n",
    "\n",
    "Latin America & Caribbean\n",
    "\n",
    "Latin America & Caribbean (excluding high income)\n",
    "\n",
    "Least developed countries: UN classification\n",
    "\n",
    "Low & middle income\n",
    "\n",
    "Lower middle income\n",
    "\n",
    "Middle East & North Africa\n",
    "\n",
    "Middle East & North Africa (excluding high income)\n",
    "\n",
    "Middle East & North Africa (IDA & IBRD)\n",
    "\n",
    "Middle income\n",
    "\n",
    "North America\n",
    "\n",
    "OECD members\n",
    "\n",
    "Other small states\n",
    "\n",
    "Pacific island small states\n",
    "\n",
    "Post-demographic dividend\n",
    "\n",
    "Pre-demographic dividend\n",
    "\n",
    "Small states\n",
    "\n",
    "South Asia\n",
    "\n",
    "South Asia (IDA & IBRD)\n",
    "\n",
    "Sub-Saharan Africa\n",
    "\n",
    "Sub-Saharan Africa (excluding high income)\n",
    "\n",
    "Sub-Saharan Africa (IDA & IBRD)\n",
    "\n",
    "Upper middle income\n",
    "\n",
    "World"
   ]
  },
  {
   "cell_type": "markdown",
   "metadata": {},
   "source": [
    "#### Sorting "
   ]
  },
  {
   "cell_type": "code",
   "execution_count": 6,
   "metadata": {
    "scrolled": true
   },
   "outputs": [
    {
     "data": {
      "text/html": [
       "<div>\n",
       "<style scoped>\n",
       "    .dataframe tbody tr th:only-of-type {\n",
       "        vertical-align: middle;\n",
       "    }\n",
       "\n",
       "    .dataframe tbody tr th {\n",
       "        vertical-align: top;\n",
       "    }\n",
       "\n",
       "    .dataframe thead th {\n",
       "        text-align: right;\n",
       "    }\n",
       "</style>\n",
       "<table border=\"1\" class=\"dataframe\">\n",
       "  <thead>\n",
       "    <tr style=\"text-align: right;\">\n",
       "      <th></th>\n",
       "      <th>Entity</th>\n",
       "      <th>Code</th>\n",
       "      <th>Year</th>\n",
       "      <th>GDP per capita, PPP (constant 2017 international $)</th>\n",
       "      <th>Life expectancy</th>\n",
       "    </tr>\n",
       "  </thead>\n",
       "  <tbody>\n",
       "    <tr>\n",
       "      <th>0</th>\n",
       "      <td>Afghanistan</td>\n",
       "      <td>AFG</td>\n",
       "      <td>2002</td>\n",
       "      <td>1189.784668</td>\n",
       "      <td>56.784</td>\n",
       "    </tr>\n",
       "    <tr>\n",
       "      <th>1</th>\n",
       "      <td>Afghanistan</td>\n",
       "      <td>AFG</td>\n",
       "      <td>2003</td>\n",
       "      <td>1235.810063</td>\n",
       "      <td>57.271</td>\n",
       "    </tr>\n",
       "    <tr>\n",
       "      <th>2</th>\n",
       "      <td>Afghanistan</td>\n",
       "      <td>AFG</td>\n",
       "      <td>2004</td>\n",
       "      <td>1200.278013</td>\n",
       "      <td>57.772</td>\n",
       "    </tr>\n",
       "    <tr>\n",
       "      <th>3</th>\n",
       "      <td>Afghanistan</td>\n",
       "      <td>AFG</td>\n",
       "      <td>2005</td>\n",
       "      <td>1286.793659</td>\n",
       "      <td>58.290</td>\n",
       "    </tr>\n",
       "    <tr>\n",
       "      <th>4</th>\n",
       "      <td>Afghanistan</td>\n",
       "      <td>AFG</td>\n",
       "      <td>2006</td>\n",
       "      <td>1315.789117</td>\n",
       "      <td>58.826</td>\n",
       "    </tr>\n",
       "    <tr>\n",
       "      <th>...</th>\n",
       "      <td>...</td>\n",
       "      <td>...</td>\n",
       "      <td>...</td>\n",
       "      <td>...</td>\n",
       "      <td>...</td>\n",
       "    </tr>\n",
       "    <tr>\n",
       "      <th>5525</th>\n",
       "      <td>Zimbabwe</td>\n",
       "      <td>ZWE</td>\n",
       "      <td>2015</td>\n",
       "      <td>3198.982129</td>\n",
       "      <td>59.534</td>\n",
       "    </tr>\n",
       "    <tr>\n",
       "      <th>5526</th>\n",
       "      <td>Zimbabwe</td>\n",
       "      <td>ZWE</td>\n",
       "      <td>2016</td>\n",
       "      <td>3173.610829</td>\n",
       "      <td>60.294</td>\n",
       "    </tr>\n",
       "    <tr>\n",
       "      <th>5527</th>\n",
       "      <td>Zimbabwe</td>\n",
       "      <td>ZWE</td>\n",
       "      <td>2017</td>\n",
       "      <td>3274.611198</td>\n",
       "      <td>60.812</td>\n",
       "    </tr>\n",
       "    <tr>\n",
       "      <th>5528</th>\n",
       "      <td>Zimbabwe</td>\n",
       "      <td>ZWE</td>\n",
       "      <td>2018</td>\n",
       "      <td>3341.665418</td>\n",
       "      <td>61.195</td>\n",
       "    </tr>\n",
       "    <tr>\n",
       "      <th>5529</th>\n",
       "      <td>Zimbabwe</td>\n",
       "      <td>ZWE</td>\n",
       "      <td>2019</td>\n",
       "      <td>3027.656038</td>\n",
       "      <td>61.490</td>\n",
       "    </tr>\n",
       "  </tbody>\n",
       "</table>\n",
       "<p>5500 rows × 5 columns</p>\n",
       "</div>"
      ],
      "text/plain": [
       "           Entity Code  Year  \\\n",
       "0     Afghanistan  AFG  2002   \n",
       "1     Afghanistan  AFG  2003   \n",
       "2     Afghanistan  AFG  2004   \n",
       "3     Afghanistan  AFG  2005   \n",
       "4     Afghanistan  AFG  2006   \n",
       "...           ...  ...   ...   \n",
       "5525     Zimbabwe  ZWE  2015   \n",
       "5526     Zimbabwe  ZWE  2016   \n",
       "5527     Zimbabwe  ZWE  2017   \n",
       "5528     Zimbabwe  ZWE  2018   \n",
       "5529     Zimbabwe  ZWE  2019   \n",
       "\n",
       "      GDP per capita, PPP (constant 2017 international $)  Life expectancy  \n",
       "0                                           1189.784668             56.784  \n",
       "1                                           1235.810063             57.271  \n",
       "2                                           1200.278013             57.772  \n",
       "3                                           1286.793659             58.290  \n",
       "4                                           1315.789117             58.826  \n",
       "...                                                 ...                ...  \n",
       "5525                                        3198.982129             59.534  \n",
       "5526                                        3173.610829             60.294  \n",
       "5527                                        3274.611198             60.812  \n",
       "5528                                        3341.665418             61.195  \n",
       "5529                                        3027.656038             61.490  \n",
       "\n",
       "[5500 rows x 5 columns]"
      ]
     },
     "execution_count": 6,
     "metadata": {},
     "output_type": "execute_result"
    }
   ],
   "source": [
    "# Since our data set is from 1990 and forward, we feelt not need to sort out years that could be \n",
    "# percieved as irrelavant such as datasets that might include the 50s etc\n",
    "\n",
    "# This is not the best way to do it, but due to time constraints we were forced to \n",
    "# have more of a \"brute force method\"\n",
    "data_f=data_f[data_f['Entity']!='World']\n",
    "data_f=data_f[data_f['Entity']!='Upper middle income']\n",
    "data_f=data_f[data_f['Entity']!='Sub-Saharan Africa (IDA & IBRD)']\n",
    "data_f=data_f[data_f['Entity']!='Sub-Saharan Africa (excluding high income)']\n",
    "data_f=data_f[data_f['Entity']!='Sub-Saharan Africa']\n",
    "data_f=data_f[data_f['Entity']!='South Asia (IDA & IBRD)']\n",
    "data_f=data_f[data_f['Entity']!='South Asia']\n",
    "data_f=data_f[data_f['Entity']!='Small states']\n",
    "data_f=data_f[data_f['Entity']!='Pre-demographic dividend']\n",
    "data_f=data_f[data_f['Entity']!='Post-demographic dividend']\n",
    "data_f=data_f[data_f['Entity']!='Pacific island small states']\n",
    "data_f=data_f[data_f['Entity']!='Other small states']\n",
    "data_f=data_f[data_f['Entity']!='OECD members']\n",
    "data_f=data_f[data_f['Entity']!='North America']\n",
    "data_f=data_f[data_f['Entity']!='Middle income']\n",
    "data_f=data_f[data_f['Entity']!='Middle East & North Africa (IDA & IBRD)']\n",
    "data_f=data_f[data_f['Entity']!='Middle East & North Africa (excluding high income)']\n",
    "data_f=data_f[data_f['Entity']!='Middle East & North Africa']\n",
    "data_f=data_f[data_f['Entity']!='Lower middle income']\n",
    "data_f=data_f[data_f['Entity']!='Low & middle income']\n",
    "data_f=data_f[data_f['Entity']!='Least developed countries: UN classification']\n",
    "data_f=data_f[data_f['Entity']!='Latin America & Caribbean (excluding high income)']\n",
    "data_f=data_f[data_f['Entity']!='Latin America & Caribbean']\n",
    "data_f=data_f[data_f['Entity']!='Late-demographic dividend']\n",
    "data_f=data_f[data_f['Entity']!='IDA total']\n",
    "data_f=data_f[data_f['Entity']!='IDA only']\n",
    "data_f=data_f[data_f['Entity']!='IDA blend']\n",
    "data_f=data_f[data_f['Entity']!='IDA & IBRD total']\n",
    "data_f=data_f[data_f['Entity']!='IBRD only']\n",
    "data_f=data_f[data_f['Entity']!='High income']\n",
    "data_f=data_f[data_f['Entity']!='Heavily indebted poor countries (HIPC)']\n",
    "data_f=data_f[data_f['Entity']!='European Union']\n",
    "data_f=data_f[data_f['Entity']!='Europe & Central Asia (IDA & IBRD)']\n",
    "data_f=data_f[data_f['Entity']!='Europe & Central Asia (excluding high income)']\n",
    "data_f=data_f[data_f['Entity']!='East Asia & Pacific (IDA & IBRD)']\n",
    "data_f=data_f[data_f['Entity']!='East Asia & Pacific (excluding high income)']\n",
    "data_f=data_f[data_f['Entity']!='East Asia & Pacific']\n",
    "data_f=data_f[data_f['Entity']!='Early-demographic dividend']\n",
    "data_f=data_f[data_f['Entity']!='Central Europe and the Baltics']\n",
    "data_f=data_f[data_f['Entity']!='Arab World']\n",
    "data_f=data_f[data_f['Entity']!='Africa Western and Central']\n",
    "data_f=data_f[data_f['Entity']!='Africa Eastern and Southern']\n",
    "data_f=data_f[data_f['Entity']!='World']\n",
    "\n",
    "data_f\n",
    "\n",
    "#df = data_f.drop('Upper middle income')"
   ]
  },
  {
   "cell_type": "markdown",
   "metadata": {},
   "source": [
    "Checking code to make sure its removed"
   ]
  },
  {
   "cell_type": "code",
   "execution_count": 7,
   "metadata": {},
   "outputs": [
    {
     "data": {
      "text/html": [
       "<div>\n",
       "<style scoped>\n",
       "    .dataframe tbody tr th:only-of-type {\n",
       "        vertical-align: middle;\n",
       "    }\n",
       "\n",
       "    .dataframe tbody tr th {\n",
       "        vertical-align: top;\n",
       "    }\n",
       "\n",
       "    .dataframe thead th {\n",
       "        text-align: right;\n",
       "    }\n",
       "</style>\n",
       "<table border=\"1\" class=\"dataframe\">\n",
       "  <thead>\n",
       "    <tr style=\"text-align: right;\">\n",
       "      <th></th>\n",
       "      <th>Entity</th>\n",
       "      <th>Code</th>\n",
       "      <th>Year</th>\n",
       "      <th>GDP per capita, PPP (constant 2017 international $)</th>\n",
       "      <th>Life expectancy</th>\n",
       "    </tr>\n",
       "  </thead>\n",
       "  <tbody>\n",
       "  </tbody>\n",
       "</table>\n",
       "</div>"
      ],
      "text/plain": [
       "Empty DataFrame\n",
       "Columns: [Entity, Code, Year, GDP per capita, PPP (constant 2017 international $), Life expectancy]\n",
       "Index: []"
      ]
     },
     "execution_count": 7,
     "metadata": {},
     "output_type": "execute_result"
    }
   ],
   "source": [
    "data_f[data_f[\"Entity\"] == \"World\"]"
   ]
  },
  {
   "cell_type": "markdown",
   "metadata": {},
   "source": [
    "Checking that the rows we want are still there"
   ]
  },
  {
   "cell_type": "code",
   "execution_count": 8,
   "metadata": {},
   "outputs": [
    {
     "data": {
      "text/html": [
       "<div>\n",
       "<style scoped>\n",
       "    .dataframe tbody tr th:only-of-type {\n",
       "        vertical-align: middle;\n",
       "    }\n",
       "\n",
       "    .dataframe tbody tr th {\n",
       "        vertical-align: top;\n",
       "    }\n",
       "\n",
       "    .dataframe thead th {\n",
       "        text-align: right;\n",
       "    }\n",
       "</style>\n",
       "<table border=\"1\" class=\"dataframe\">\n",
       "  <thead>\n",
       "    <tr style=\"text-align: right;\">\n",
       "      <th></th>\n",
       "      <th>Entity</th>\n",
       "      <th>Code</th>\n",
       "      <th>Year</th>\n",
       "      <th>GDP per capita, PPP (constant 2017 international $)</th>\n",
       "      <th>Life expectancy</th>\n",
       "    </tr>\n",
       "  </thead>\n",
       "  <tbody>\n",
       "    <tr>\n",
       "      <th>0</th>\n",
       "      <td>Afghanistan</td>\n",
       "      <td>AFG</td>\n",
       "      <td>2002</td>\n",
       "      <td>1189.784668</td>\n",
       "      <td>56.784</td>\n",
       "    </tr>\n",
       "    <tr>\n",
       "      <th>1</th>\n",
       "      <td>Afghanistan</td>\n",
       "      <td>AFG</td>\n",
       "      <td>2003</td>\n",
       "      <td>1235.810063</td>\n",
       "      <td>57.271</td>\n",
       "    </tr>\n",
       "    <tr>\n",
       "      <th>2</th>\n",
       "      <td>Afghanistan</td>\n",
       "      <td>AFG</td>\n",
       "      <td>2004</td>\n",
       "      <td>1200.278013</td>\n",
       "      <td>57.772</td>\n",
       "    </tr>\n",
       "    <tr>\n",
       "      <th>3</th>\n",
       "      <td>Afghanistan</td>\n",
       "      <td>AFG</td>\n",
       "      <td>2005</td>\n",
       "      <td>1286.793659</td>\n",
       "      <td>58.290</td>\n",
       "    </tr>\n",
       "    <tr>\n",
       "      <th>4</th>\n",
       "      <td>Afghanistan</td>\n",
       "      <td>AFG</td>\n",
       "      <td>2006</td>\n",
       "      <td>1315.789117</td>\n",
       "      <td>58.826</td>\n",
       "    </tr>\n",
       "    <tr>\n",
       "      <th>5</th>\n",
       "      <td>Afghanistan</td>\n",
       "      <td>AFG</td>\n",
       "      <td>2007</td>\n",
       "      <td>1460.825751</td>\n",
       "      <td>59.375</td>\n",
       "    </tr>\n",
       "    <tr>\n",
       "      <th>6</th>\n",
       "      <td>Afghanistan</td>\n",
       "      <td>AFG</td>\n",
       "      <td>2008</td>\n",
       "      <td>1484.114461</td>\n",
       "      <td>59.930</td>\n",
       "    </tr>\n",
       "    <tr>\n",
       "      <th>7</th>\n",
       "      <td>Afghanistan</td>\n",
       "      <td>AFG</td>\n",
       "      <td>2009</td>\n",
       "      <td>1758.904477</td>\n",
       "      <td>60.484</td>\n",
       "    </tr>\n",
       "    <tr>\n",
       "      <th>8</th>\n",
       "      <td>Afghanistan</td>\n",
       "      <td>AFG</td>\n",
       "      <td>2010</td>\n",
       "      <td>1957.029070</td>\n",
       "      <td>61.028</td>\n",
       "    </tr>\n",
       "    <tr>\n",
       "      <th>9</th>\n",
       "      <td>Afghanistan</td>\n",
       "      <td>AFG</td>\n",
       "      <td>2011</td>\n",
       "      <td>1904.559926</td>\n",
       "      <td>61.553</td>\n",
       "    </tr>\n",
       "    <tr>\n",
       "      <th>10</th>\n",
       "      <td>Afghanistan</td>\n",
       "      <td>AFG</td>\n",
       "      <td>2012</td>\n",
       "      <td>2075.491614</td>\n",
       "      <td>62.054</td>\n",
       "    </tr>\n",
       "    <tr>\n",
       "      <th>11</th>\n",
       "      <td>Afghanistan</td>\n",
       "      <td>AFG</td>\n",
       "      <td>2013</td>\n",
       "      <td>2116.465258</td>\n",
       "      <td>62.525</td>\n",
       "    </tr>\n",
       "    <tr>\n",
       "      <th>12</th>\n",
       "      <td>Afghanistan</td>\n",
       "      <td>AFG</td>\n",
       "      <td>2014</td>\n",
       "      <td>2102.384604</td>\n",
       "      <td>62.966</td>\n",
       "    </tr>\n",
       "    <tr>\n",
       "      <th>13</th>\n",
       "      <td>Afghanistan</td>\n",
       "      <td>AFG</td>\n",
       "      <td>2015</td>\n",
       "      <td>2068.265904</td>\n",
       "      <td>63.377</td>\n",
       "    </tr>\n",
       "    <tr>\n",
       "      <th>14</th>\n",
       "      <td>Afghanistan</td>\n",
       "      <td>AFG</td>\n",
       "      <td>2016</td>\n",
       "      <td>2057.067978</td>\n",
       "      <td>63.763</td>\n",
       "    </tr>\n",
       "    <tr>\n",
       "      <th>15</th>\n",
       "      <td>Afghanistan</td>\n",
       "      <td>AFG</td>\n",
       "      <td>2017</td>\n",
       "      <td>2058.400221</td>\n",
       "      <td>64.130</td>\n",
       "    </tr>\n",
       "    <tr>\n",
       "      <th>16</th>\n",
       "      <td>Afghanistan</td>\n",
       "      <td>AFG</td>\n",
       "      <td>2018</td>\n",
       "      <td>2033.804389</td>\n",
       "      <td>64.486</td>\n",
       "    </tr>\n",
       "    <tr>\n",
       "      <th>17</th>\n",
       "      <td>Afghanistan</td>\n",
       "      <td>AFG</td>\n",
       "      <td>2019</td>\n",
       "      <td>2065.036235</td>\n",
       "      <td>64.833</td>\n",
       "    </tr>\n",
       "  </tbody>\n",
       "</table>\n",
       "</div>"
      ],
      "text/plain": [
       "         Entity Code  Year  \\\n",
       "0   Afghanistan  AFG  2002   \n",
       "1   Afghanistan  AFG  2003   \n",
       "2   Afghanistan  AFG  2004   \n",
       "3   Afghanistan  AFG  2005   \n",
       "4   Afghanistan  AFG  2006   \n",
       "5   Afghanistan  AFG  2007   \n",
       "6   Afghanistan  AFG  2008   \n",
       "7   Afghanistan  AFG  2009   \n",
       "8   Afghanistan  AFG  2010   \n",
       "9   Afghanistan  AFG  2011   \n",
       "10  Afghanistan  AFG  2012   \n",
       "11  Afghanistan  AFG  2013   \n",
       "12  Afghanistan  AFG  2014   \n",
       "13  Afghanistan  AFG  2015   \n",
       "14  Afghanistan  AFG  2016   \n",
       "15  Afghanistan  AFG  2017   \n",
       "16  Afghanistan  AFG  2018   \n",
       "17  Afghanistan  AFG  2019   \n",
       "\n",
       "    GDP per capita, PPP (constant 2017 international $)  Life expectancy  \n",
       "0                                         1189.784668             56.784  \n",
       "1                                         1235.810063             57.271  \n",
       "2                                         1200.278013             57.772  \n",
       "3                                         1286.793659             58.290  \n",
       "4                                         1315.789117             58.826  \n",
       "5                                         1460.825751             59.375  \n",
       "6                                         1484.114461             59.930  \n",
       "7                                         1758.904477             60.484  \n",
       "8                                         1957.029070             61.028  \n",
       "9                                         1904.559926             61.553  \n",
       "10                                        2075.491614             62.054  \n",
       "11                                        2116.465258             62.525  \n",
       "12                                        2102.384604             62.966  \n",
       "13                                        2068.265904             63.377  \n",
       "14                                        2057.067978             63.763  \n",
       "15                                        2058.400221             64.130  \n",
       "16                                        2033.804389             64.486  \n",
       "17                                        2065.036235             64.833  "
      ]
     },
     "execution_count": 8,
     "metadata": {},
     "output_type": "execute_result"
    }
   ],
   "source": [
    "data_f[data_f[\"Entity\"] == \"Afghanistan\"]"
   ]
  },
  {
   "cell_type": "code",
   "execution_count": 9,
   "metadata": {},
   "outputs": [
    {
     "data": {
      "text/plain": [
       "array(['Afghanistan', 'Albania', 'Algeria', 'Angola',\n",
       "       'Antigua and Barbuda', 'Argentina', 'Armenia', 'Aruba',\n",
       "       'Australia', 'Austria', 'Azerbaijan', 'Bahamas', 'Bahrain',\n",
       "       'Bangladesh', 'Barbados', 'Belarus', 'Belgium', 'Belize', 'Benin',\n",
       "       'Bermuda', 'Bhutan', 'Bolivia', 'Bosnia and Herzegovina',\n",
       "       'Botswana', 'Brazil', 'Brunei', 'Bulgaria', 'Burkina Faso',\n",
       "       'Burundi', 'Cambodia', 'Cameroon', 'Canada', 'Cape Verde',\n",
       "       'Cayman Islands', 'Central African Republic', 'Chad', 'Chile',\n",
       "       'China', 'Colombia', 'Comoros', 'Congo', 'Costa Rica',\n",
       "       \"Cote d'Ivoire\", 'Croatia', 'Curacao', 'Cyprus', 'Czechia',\n",
       "       'Democratic Republic of Congo', 'Denmark', 'Djibouti', 'Dominica',\n",
       "       'Dominican Republic', 'Ecuador', 'Egypt', 'El Salvador',\n",
       "       'Equatorial Guinea', 'Estonia', 'Eswatini', 'Ethiopia', 'Fiji',\n",
       "       'Finland', 'France', 'Gabon', 'Gambia', 'Georgia', 'Germany',\n",
       "       'Ghana', 'Greece', 'Grenada', 'Guatemala', 'Guinea',\n",
       "       'Guinea-Bissau', 'Guyana', 'Haiti', 'Honduras', 'Hong Kong',\n",
       "       'Hungary', 'Iceland', 'India', 'Indonesia', 'Iran', 'Iraq',\n",
       "       'Ireland', 'Israel', 'Italy', 'Jamaica', 'Japan', 'Jordan',\n",
       "       'Kazakhstan', 'Kenya', 'Kiribati', 'Kuwait', 'Kyrgyzstan', 'Laos',\n",
       "       'Latvia', 'Lebanon', 'Lesotho', 'Liberia', 'Libya', 'Lithuania',\n",
       "       'Luxembourg', 'Macao', 'Madagascar', 'Malawi', 'Malaysia',\n",
       "       'Maldives', 'Mali', 'Malta', 'Marshall Islands', 'Mauritania',\n",
       "       'Mauritius', 'Mexico', 'Micronesia (country)', 'Moldova',\n",
       "       'Mongolia', 'Montenegro', 'Morocco', 'Mozambique', 'Myanmar',\n",
       "       'Namibia', 'Nauru', 'Nepal', 'Netherlands', 'New Zealand',\n",
       "       'Nicaragua', 'Niger', 'Nigeria', 'North Macedonia', 'Norway',\n",
       "       'Oman', 'Pakistan', 'Palau', 'Palestine', 'Panama',\n",
       "       'Papua New Guinea', 'Paraguay', 'Peru', 'Philippines', 'Poland',\n",
       "       'Portugal', 'Puerto Rico', 'Qatar', 'Romania', 'Russia', 'Rwanda',\n",
       "       'Saint Kitts and Nevis', 'Saint Lucia',\n",
       "       'Saint Vincent and the Grenadines', 'Samoa', 'San Marino',\n",
       "       'Sao Tome and Principe', 'Saudi Arabia', 'Senegal', 'Serbia',\n",
       "       'Seychelles', 'Sierra Leone', 'Singapore',\n",
       "       'Sint Maarten (Dutch part)', 'Slovakia', 'Slovenia',\n",
       "       'Solomon Islands', 'Somalia', 'South Africa', 'South Korea',\n",
       "       'Spain', 'Sri Lanka', 'Sudan', 'Suriname', 'Sweden', 'Switzerland',\n",
       "       'Tajikistan', 'Tanzania', 'Thailand', 'Timor', 'Togo', 'Tonga',\n",
       "       'Trinidad and Tobago', 'Tunisia', 'Turkey', 'Turkmenistan',\n",
       "       'Turks and Caicos Islands', 'Tuvalu', 'Uganda', 'Ukraine',\n",
       "       'United Arab Emirates', 'United Kingdom', 'United States',\n",
       "       'Uruguay', 'Uzbekistan', 'Vanuatu', 'Vietnam', 'Zambia',\n",
       "       'Zimbabwe'], dtype=object)"
      ]
     },
     "execution_count": 9,
     "metadata": {},
     "output_type": "execute_result"
    }
   ],
   "source": [
    "data_f.Entity.unique()"
   ]
  },
  {
   "cell_type": "code",
   "execution_count": 10,
   "metadata": {},
   "outputs": [
    {
     "data": {
      "text/plain": [
       "array([2002, 2003, 2004, 2005, 2006, 2007, 2008, 2009, 2010, 2011, 2012,\n",
       "       2013, 2014, 2015, 2016, 2017, 2018, 2019, 1990, 1991, 1992, 1993,\n",
       "       1994, 1995, 1996, 1997, 1998, 1999, 2000, 2001], dtype=int64)"
      ]
     },
     "execution_count": 10,
     "metadata": {},
     "output_type": "execute_result"
    }
   ],
   "source": [
    "data_f.Year.unique()"
   ]
  },
  {
   "cell_type": "code",
   "execution_count": 11,
   "metadata": {},
   "outputs": [
    {
     "data": {
      "text/plain": [
       "<AxesSubplot:xlabel='Life expectancy', ylabel='GDP per capita, PPP (constant 2017 international $)'>"
      ]
     },
     "execution_count": 11,
     "metadata": {},
     "output_type": "execute_result"
    },
    {
     "data": {
      "image/png": "[encoded data removed]",
      "text/plain": [
       "<Figure size 432x288 with 1 Axes>"
      ]
     },
     "metadata": {
      "needs_background": "light"
     },
     "output_type": "display_data"
    }
   ],
   "source": [
    "data_f.plot.scatter('Life expectancy','GDP per capita, PPP (constant 2017 international $)')"
   ]
  },
  {
   "cell_type": "markdown",
   "metadata": {},
   "source": [
    "### B"
   ]
  },
  {
   "cell_type": "code",
   "execution_count": null,
   "metadata": {},
   "outputs": [],
   "source": []
  },
  {
   "cell_type": "markdown",
   "metadata": {},
   "source": [
    "### C"
   ]
  },
  {
   "cell_type": "markdown",
   "metadata": {},
   "source": [
    "Data cleaning:\n",
    "We did some data cleaning. We removed rows where the data included more then one specific country."
   ]
  },
  {
   "cell_type": "code",
   "execution_count": null,
   "metadata": {},
   "outputs": [],
   "source": []
  },
  {
   "cell_type": "markdown",
   "metadata": {},
   "source": [
    "### D"
   ]
  },
  {
   "cell_type": "code",
   "execution_count": 12,
   "metadata": {},
   "outputs": [
    {
     "data": {
      "text/plain": [
       "9.639146337043176"
      ]
     },
     "execution_count": 12,
     "metadata": {},
     "output_type": "execute_result"
    }
   ],
   "source": [
    "data_f[\"Life expectancy\"].std()"
   ]
  },
  {
   "cell_type": "code",
   "execution_count": 13,
   "metadata": {},
   "outputs": [
    {
     "data": {
      "text/plain": [
       "68.74444781818181"
      ]
     },
     "execution_count": 13,
     "metadata": {},
     "output_type": "execute_result"
    }
   ],
   "source": [
    "data_f[\"Life expectancy\"].mean()"
   ]
  },
  {
   "cell_type": "code",
   "execution_count": 14,
   "metadata": {
    "scrolled": true
   },
   "outputs": [
    {
     "data": {
      "text/html": [
       "<div>\n",
       "<style scoped>\n",
       "    .dataframe tbody tr th:only-of-type {\n",
       "        vertical-align: middle;\n",
       "    }\n",
       "\n",
       "    .dataframe tbody tr th {\n",
       "        vertical-align: top;\n",
       "    }\n",
       "\n",
       "    .dataframe thead th {\n",
       "        text-align: right;\n",
       "    }\n",
       "</style>\n",
       "<table border=\"1\" class=\"dataframe\">\n",
       "  <thead>\n",
       "    <tr style=\"text-align: right;\">\n",
       "      <th></th>\n",
       "      <th>Code</th>\n",
       "      <th>Year</th>\n",
       "      <th>GDP per capita, PPP (constant 2017 international $)</th>\n",
       "      <th>Life expectancy</th>\n",
       "    </tr>\n",
       "    <tr>\n",
       "      <th>Entity</th>\n",
       "      <th></th>\n",
       "      <th></th>\n",
       "      <th></th>\n",
       "      <th></th>\n",
       "    </tr>\n",
       "  </thead>\n",
       "  <tbody>\n",
       "    <tr>\n",
       "      <th>Afghanistan</th>\n",
       "      <td>AFG</td>\n",
       "      <td>2002</td>\n",
       "      <td>1189.784668</td>\n",
       "      <td>56.784</td>\n",
       "    </tr>\n",
       "    <tr>\n",
       "      <th>Afghanistan</th>\n",
       "      <td>AFG</td>\n",
       "      <td>2003</td>\n",
       "      <td>1235.810063</td>\n",
       "      <td>57.271</td>\n",
       "    </tr>\n",
       "    <tr>\n",
       "      <th>Afghanistan</th>\n",
       "      <td>AFG</td>\n",
       "      <td>2004</td>\n",
       "      <td>1200.278013</td>\n",
       "      <td>57.772</td>\n",
       "    </tr>\n",
       "    <tr>\n",
       "      <th>Afghanistan</th>\n",
       "      <td>AFG</td>\n",
       "      <td>2005</td>\n",
       "      <td>1286.793659</td>\n",
       "      <td>58.290</td>\n",
       "    </tr>\n",
       "    <tr>\n",
       "      <th>Afghanistan</th>\n",
       "      <td>AFG</td>\n",
       "      <td>2006</td>\n",
       "      <td>1315.789117</td>\n",
       "      <td>58.826</td>\n",
       "    </tr>\n",
       "    <tr>\n",
       "      <th>...</th>\n",
       "      <td>...</td>\n",
       "      <td>...</td>\n",
       "      <td>...</td>\n",
       "      <td>...</td>\n",
       "    </tr>\n",
       "    <tr>\n",
       "      <th>Zimbabwe</th>\n",
       "      <td>ZWE</td>\n",
       "      <td>2015</td>\n",
       "      <td>3198.982129</td>\n",
       "      <td>59.534</td>\n",
       "    </tr>\n",
       "    <tr>\n",
       "      <th>Zimbabwe</th>\n",
       "      <td>ZWE</td>\n",
       "      <td>2016</td>\n",
       "      <td>3173.610829</td>\n",
       "      <td>60.294</td>\n",
       "    </tr>\n",
       "    <tr>\n",
       "      <th>Zimbabwe</th>\n",
       "      <td>ZWE</td>\n",
       "      <td>2017</td>\n",
       "      <td>3274.611198</td>\n",
       "      <td>60.812</td>\n",
       "    </tr>\n",
       "    <tr>\n",
       "      <th>Zimbabwe</th>\n",
       "      <td>ZWE</td>\n",
       "      <td>2018</td>\n",
       "      <td>3341.665418</td>\n",
       "      <td>61.195</td>\n",
       "    </tr>\n",
       "    <tr>\n",
       "      <th>Zimbabwe</th>\n",
       "      <td>ZWE</td>\n",
       "      <td>2019</td>\n",
       "      <td>3027.656038</td>\n",
       "      <td>61.490</td>\n",
       "    </tr>\n",
       "  </tbody>\n",
       "</table>\n",
       "<p>5500 rows × 4 columns</p>\n",
       "</div>"
      ],
      "text/plain": [
       "            Code  Year  GDP per capita, PPP (constant 2017 international $)  \\\n",
       "Entity                                                                        \n",
       "Afghanistan  AFG  2002                                        1189.784668     \n",
       "Afghanistan  AFG  2003                                        1235.810063     \n",
       "Afghanistan  AFG  2004                                        1200.278013     \n",
       "Afghanistan  AFG  2005                                        1286.793659     \n",
       "Afghanistan  AFG  2006                                        1315.789117     \n",
       "...          ...   ...                                                ...     \n",
       "Zimbabwe     ZWE  2015                                        3198.982129     \n",
       "Zimbabwe     ZWE  2016                                        3173.610829     \n",
       "Zimbabwe     ZWE  2017                                        3274.611198     \n",
       "Zimbabwe     ZWE  2018                                        3341.665418     \n",
       "Zimbabwe     ZWE  2019                                        3027.656038     \n",
       "\n",
       "             Life expectancy  \n",
       "Entity                        \n",
       "Afghanistan           56.784  \n",
       "Afghanistan           57.271  \n",
       "Afghanistan           57.772  \n",
       "Afghanistan           58.290  \n",
       "Afghanistan           58.826  \n",
       "...                      ...  \n",
       "Zimbabwe              59.534  \n",
       "Zimbabwe              60.294  \n",
       "Zimbabwe              60.812  \n",
       "Zimbabwe              61.195  \n",
       "Zimbabwe              61.490  \n",
       "\n",
       "[5500 rows x 4 columns]"
      ]
     },
     "execution_count": 14,
     "metadata": {},
     "output_type": "execute_result"
    }
   ],
   "source": [
    "df_e = data_f.set_index('Entity')\n",
    "df_e"
   ]
  },
  {
   "cell_type": "markdown",
   "metadata": {},
   "source": [
    "Here we get the sum of the standard deviation and the mean of life exceptancy. We add these together to get a value of x and then we sort in data for values >= x then we find the unique members as countries will otherwise reappear in results multiple times because they are >= the value of x several years. "
   ]
  },
  {
   "cell_type": "code",
   "execution_count": 15,
   "metadata": {},
   "outputs": [
    {
     "data": {
      "text/plain": [
       "78.38359415522498"
      ]
     },
     "execution_count": 15,
     "metadata": {},
     "output_type": "execute_result"
    }
   ],
   "source": [
    "x = data_f[\"Life expectancy\"].std() + data_f[\"Life expectancy\"].mean()\n",
    "x"
   ]
  },
  {
   "cell_type": "code",
   "execution_count": 16,
   "metadata": {},
   "outputs": [],
   "source": [
    "data_l = data_f[data_f['Life expectancy']>= x]"
   ]
  },
  {
   "cell_type": "code",
   "execution_count": 17,
   "metadata": {},
   "outputs": [
    {
     "data": {
      "text/plain": [
       "array(['Albania', 'Australia', 'Austria', 'Barbados', 'Belgium',\n",
       "       'Bermuda', 'Canada', 'Cayman Islands', 'Chile', 'Costa Rica',\n",
       "       'Croatia', 'Curacao', 'Cyprus', 'Czechia', 'Denmark', 'Estonia',\n",
       "       'Finland', 'France', 'Germany', 'Greece', 'Hong Kong', 'Iceland',\n",
       "       'Ireland', 'Israel', 'Italy', 'Japan', 'Lebanon', 'Luxembourg',\n",
       "       'Macao', 'Maldives', 'Malta', 'Netherlands', 'New Zealand',\n",
       "       'Norway', 'Panama', 'Poland', 'Portugal', 'Puerto Rico', 'Qatar',\n",
       "       'San Marino', 'Singapore', 'Sint Maarten (Dutch part)', 'Slovenia',\n",
       "       'South Korea', 'Spain', 'Sweden', 'Switzerland',\n",
       "       'Turks and Caicos Islands', 'United Kingdom', 'United States'],\n",
       "      dtype=object)"
      ]
     },
     "execution_count": 17,
     "metadata": {},
     "output_type": "execute_result"
    }
   ],
   "source": [
    "data_l.Entity.unique()"
   ]
  },
  {
   "cell_type": "markdown",
   "metadata": {},
   "source": [
    "### E"
   ]
  },
  {
   "cell_type": "code",
   "execution_count": 18,
   "metadata": {},
   "outputs": [
    {
     "data": {
      "text/plain": [
       "68.74444781818181"
      ]
     },
     "execution_count": 18,
     "metadata": {},
     "output_type": "execute_result"
    }
   ],
   "source": [
    "b = data_f[\"Life expectancy\"].mean()\n",
    "b"
   ]
  },
  {
   "cell_type": "code",
   "execution_count": 19,
   "metadata": {},
   "outputs": [
    {
     "data": {
      "text/plain": [
       "9.639146337043176"
      ]
     },
     "execution_count": 19,
     "metadata": {},
     "output_type": "execute_result"
    }
   ],
   "source": [
    "s = data_f[\"Life expectancy\"].std()\n",
    "s"
   ]
  },
  {
   "cell_type": "code",
   "execution_count": 20,
   "metadata": {},
   "outputs": [
    {
     "data": {
      "text/plain": [
       "78.38359415522498"
      ]
     },
     "execution_count": 20,
     "metadata": {},
     "output_type": "execute_result"
    }
   ],
   "source": [
    "zz = b + s\n",
    "zz\n",
    "# The mean of life expectancy + 1 standard deviations is what we consider a high life exceptancy"
   ]
  },
  {
   "cell_type": "code",
   "execution_count": 21,
   "metadata": {},
   "outputs": [
    {
     "data": {
      "text/plain": [
       "17890.146722229907"
      ]
     },
     "execution_count": 21,
     "metadata": {},
     "output_type": "execute_result"
    }
   ],
   "source": [
    "y = data_f['GDP per capita, PPP (constant 2017 international $)'].mean()\n",
    "y"
   ]
  },
  {
   "cell_type": "code",
   "execution_count": 22,
   "metadata": {},
   "outputs": [
    {
     "data": {
      "text/plain": [
       "15206.62471389542"
      ]
     },
     "execution_count": 22,
     "metadata": {},
     "output_type": "execute_result"
    }
   ],
   "source": [
    "z =  y * 0.85\n",
    "z\n",
    "# The mean of GDP Per Capita * 0.85 is what we consider a weak economy."
   ]
  },
  {
   "cell_type": "code",
   "execution_count": 23,
   "metadata": {},
   "outputs": [
    {
     "data": {
      "text/html": [
       "<div>\n",
       "<style scoped>\n",
       "    .dataframe tbody tr th:only-of-type {\n",
       "        vertical-align: middle;\n",
       "    }\n",
       "\n",
       "    .dataframe tbody tr th {\n",
       "        vertical-align: top;\n",
       "    }\n",
       "\n",
       "    .dataframe thead th {\n",
       "        text-align: right;\n",
       "    }\n",
       "</style>\n",
       "<table border=\"1\" class=\"dataframe\">\n",
       "  <thead>\n",
       "    <tr style=\"text-align: right;\">\n",
       "      <th></th>\n",
       "      <th>Entity</th>\n",
       "      <th>Code</th>\n",
       "      <th>Year</th>\n",
       "      <th>GDP per capita, PPP (constant 2017 international $)</th>\n",
       "      <th>Life expectancy</th>\n",
       "    </tr>\n",
       "  </thead>\n",
       "  <tbody>\n",
       "    <tr>\n",
       "      <th>46</th>\n",
       "      <td>Albania</td>\n",
       "      <td>ALB</td>\n",
       "      <td>2018</td>\n",
       "      <td>13323.753356</td>\n",
       "      <td>78.458</td>\n",
       "    </tr>\n",
       "    <tr>\n",
       "      <th>47</th>\n",
       "      <td>Albania</td>\n",
       "      <td>ALB</td>\n",
       "      <td>2019</td>\n",
       "      <td>13671.488422</td>\n",
       "      <td>78.573</td>\n",
       "    </tr>\n",
       "    <tr>\n",
       "      <th>232</th>\n",
       "      <td>Australia</td>\n",
       "      <td>AUS</td>\n",
       "      <td>1996</td>\n",
       "      <td>33778.063539</td>\n",
       "      <td>78.508</td>\n",
       "    </tr>\n",
       "    <tr>\n",
       "      <th>233</th>\n",
       "      <td>Australia</td>\n",
       "      <td>AUS</td>\n",
       "      <td>1997</td>\n",
       "      <td>34727.199783</td>\n",
       "      <td>78.759</td>\n",
       "    </tr>\n",
       "    <tr>\n",
       "      <th>234</th>\n",
       "      <td>Australia</td>\n",
       "      <td>AUS</td>\n",
       "      <td>1998</td>\n",
       "      <td>35940.017136</td>\n",
       "      <td>79.024</td>\n",
       "    </tr>\n",
       "  </tbody>\n",
       "</table>\n",
       "</div>"
      ],
      "text/plain": [
       "        Entity Code  Year  \\\n",
       "46     Albania  ALB  2018   \n",
       "47     Albania  ALB  2019   \n",
       "232  Australia  AUS  1996   \n",
       "233  Australia  AUS  1997   \n",
       "234  Australia  AUS  1998   \n",
       "\n",
       "     GDP per capita, PPP (constant 2017 international $)  Life expectancy  \n",
       "46                                        13323.753356             78.458  \n",
       "47                                        13671.488422             78.573  \n",
       "232                                       33778.063539             78.508  \n",
       "233                                       34727.199783             78.759  \n",
       "234                                       35940.017136             79.024  "
      ]
     },
     "execution_count": 23,
     "metadata": {},
     "output_type": "execute_result"
    }
   ],
   "source": [
    "sorted_df = data_f[data_f['Life expectancy']>= zz] \n",
    "sorted_df.head()"
   ]
  },
  {
   "cell_type": "code",
   "execution_count": 24,
   "metadata": {},
   "outputs": [],
   "source": [
    "sorted_df = sorted_df[sorted_df['GDP per capita, PPP (constant 2017 international $)']<= z]"
   ]
  },
  {
   "cell_type": "code",
   "execution_count": 25,
   "metadata": {},
   "outputs": [
    {
     "data": {
      "text/html": [
       "<div>\n",
       "<style scoped>\n",
       "    .dataframe tbody tr th:only-of-type {\n",
       "        vertical-align: middle;\n",
       "    }\n",
       "\n",
       "    .dataframe tbody tr th {\n",
       "        vertical-align: top;\n",
       "    }\n",
       "\n",
       "    .dataframe thead th {\n",
       "        text-align: right;\n",
       "    }\n",
       "</style>\n",
       "<table border=\"1\" class=\"dataframe\">\n",
       "  <thead>\n",
       "    <tr style=\"text-align: right;\">\n",
       "      <th></th>\n",
       "      <th>Entity</th>\n",
       "      <th>Code</th>\n",
       "      <th>Year</th>\n",
       "      <th>GDP per capita, PPP (constant 2017 international $)</th>\n",
       "      <th>Life expectancy</th>\n",
       "    </tr>\n",
       "  </thead>\n",
       "  <tbody>\n",
       "    <tr>\n",
       "      <th>46</th>\n",
       "      <td>Albania</td>\n",
       "      <td>ALB</td>\n",
       "      <td>2018</td>\n",
       "      <td>13323.753356</td>\n",
       "      <td>78.458</td>\n",
       "    </tr>\n",
       "    <tr>\n",
       "      <th>47</th>\n",
       "      <td>Albania</td>\n",
       "      <td>ALB</td>\n",
       "      <td>2019</td>\n",
       "      <td>13671.488422</td>\n",
       "      <td>78.573</td>\n",
       "    </tr>\n",
       "    <tr>\n",
       "      <th>429</th>\n",
       "      <td>Barbados</td>\n",
       "      <td>BRB</td>\n",
       "      <td>2013</td>\n",
       "      <td>15088.441351</td>\n",
       "      <td>78.633</td>\n",
       "    </tr>\n",
       "    <tr>\n",
       "      <th>430</th>\n",
       "      <td>Barbados</td>\n",
       "      <td>BRB</td>\n",
       "      <td>2014</td>\n",
       "      <td>15041.554748</td>\n",
       "      <td>78.717</td>\n",
       "    </tr>\n",
       "    <tr>\n",
       "      <th>2771</th>\n",
       "      <td>Lebanon</td>\n",
       "      <td>LBN</td>\n",
       "      <td>2019</td>\n",
       "      <td>14551.593712</td>\n",
       "      <td>78.930</td>\n",
       "    </tr>\n",
       "  </tbody>\n",
       "</table>\n",
       "</div>"
      ],
      "text/plain": [
       "        Entity Code  Year  \\\n",
       "46     Albania  ALB  2018   \n",
       "47     Albania  ALB  2019   \n",
       "429   Barbados  BRB  2013   \n",
       "430   Barbados  BRB  2014   \n",
       "2771   Lebanon  LBN  2019   \n",
       "\n",
       "      GDP per capita, PPP (constant 2017 international $)  Life expectancy  \n",
       "46                                         13323.753356             78.458  \n",
       "47                                         13671.488422             78.573  \n",
       "429                                        15088.441351             78.633  \n",
       "430                                        15041.554748             78.717  \n",
       "2771                                       14551.593712             78.930  "
      ]
     },
     "execution_count": 25,
     "metadata": {},
     "output_type": "execute_result"
    }
   ],
   "source": [
    "sorted_df.head()"
   ]
  },
  {
   "cell_type": "code",
   "execution_count": 26,
   "metadata": {},
   "outputs": [
    {
     "data": {
      "text/plain": [
       "array(['Albania', 'Barbados', 'Lebanon'], dtype=object)"
      ]
     },
     "execution_count": 26,
     "metadata": {},
     "output_type": "execute_result"
    }
   ],
   "source": [
    "sorted_df.Entity.unique()"
   ]
  },
  {
   "cell_type": "markdown",
   "metadata": {},
   "source": [
    "### F"
   ]
  },
  {
   "cell_type": "code",
   "execution_count": 27,
   "metadata": {},
   "outputs": [],
   "source": [
    "df_gdp_only = pd.read_csv('gdp-world-regions-stacked-area.csv')"
   ]
  },
  {
   "cell_type": "code",
   "execution_count": 28,
   "metadata": {},
   "outputs": [
    {
     "data": {
      "text/html": [
       "<div>\n",
       "<style scoped>\n",
       "    .dataframe tbody tr th:only-of-type {\n",
       "        vertical-align: middle;\n",
       "    }\n",
       "\n",
       "    .dataframe tbody tr th {\n",
       "        vertical-align: top;\n",
       "    }\n",
       "\n",
       "    .dataframe thead th {\n",
       "        text-align: right;\n",
       "    }\n",
       "</style>\n",
       "<table border=\"1\" class=\"dataframe\">\n",
       "  <thead>\n",
       "    <tr style=\"text-align: right;\">\n",
       "      <th></th>\n",
       "      <th>Entity</th>\n",
       "      <th>Code</th>\n",
       "      <th>Year</th>\n",
       "      <th>GDP</th>\n",
       "      <th>146201-annotations</th>\n",
       "    </tr>\n",
       "  </thead>\n",
       "  <tbody>\n",
       "    <tr>\n",
       "      <th>0</th>\n",
       "      <td>Afghanistan</td>\n",
       "      <td>AFG</td>\n",
       "      <td>1950</td>\n",
       "      <td>9.421400e+09</td>\n",
       "      <td>NaN</td>\n",
       "    </tr>\n",
       "    <tr>\n",
       "      <th>1</th>\n",
       "      <td>Afghanistan</td>\n",
       "      <td>AFG</td>\n",
       "      <td>1951</td>\n",
       "      <td>9.692280e+09</td>\n",
       "      <td>NaN</td>\n",
       "    </tr>\n",
       "    <tr>\n",
       "      <th>2</th>\n",
       "      <td>Afghanistan</td>\n",
       "      <td>AFG</td>\n",
       "      <td>1952</td>\n",
       "      <td>1.001732e+10</td>\n",
       "      <td>NaN</td>\n",
       "    </tr>\n",
       "    <tr>\n",
       "      <th>3</th>\n",
       "      <td>Afghanistan</td>\n",
       "      <td>AFG</td>\n",
       "      <td>1953</td>\n",
       "      <td>1.063052e+10</td>\n",
       "      <td>NaN</td>\n",
       "    </tr>\n",
       "    <tr>\n",
       "      <th>4</th>\n",
       "      <td>Afghanistan</td>\n",
       "      <td>AFG</td>\n",
       "      <td>1954</td>\n",
       "      <td>1.086636e+10</td>\n",
       "      <td>NaN</td>\n",
       "    </tr>\n",
       "  </tbody>\n",
       "</table>\n",
       "</div>"
      ],
      "text/plain": [
       "        Entity Code  Year           GDP 146201-annotations\n",
       "0  Afghanistan  AFG  1950  9.421400e+09                NaN\n",
       "1  Afghanistan  AFG  1951  9.692280e+09                NaN\n",
       "2  Afghanistan  AFG  1952  1.001732e+10                NaN\n",
       "3  Afghanistan  AFG  1953  1.063052e+10                NaN\n",
       "4  Afghanistan  AFG  1954  1.086636e+10                NaN"
      ]
     },
     "execution_count": 28,
     "metadata": {},
     "output_type": "execute_result"
    }
   ],
   "source": [
    "df_gdp_only.head()"
   ]
  },
  {
   "cell_type": "code",
   "execution_count": 29,
   "metadata": {},
   "outputs": [],
   "source": [
    "df_merge = pd.merge(df_gdp_only, df_life, on = ['Entity', 'Year', 'Code'],)"
   ]
  },
  {
   "cell_type": "code",
   "execution_count": 30,
   "metadata": {},
   "outputs": [],
   "source": [
    "df_merge=df_merge.drop(columns=['146201-annotations'])"
   ]
  },
  {
   "cell_type": "markdown",
   "metadata": {},
   "source": [
    "We decided to remove entities that were not countries but rather amalgamations of several different countries such as the European Union. We initially thought of dropping all countries which had not to code since that was the case for most however exceptions such as the world with the code OWID_WRL made this a non-valid strategy and thus did manual data removing by finding the non-countries in the data-set.\n"
   ]
  },
  {
   "cell_type": "markdown",
   "metadata": {},
   "source": [
    "- East Asia\n",
    "- Eastern Europe\n",
    "- Former USSR\n",
    "- Former Yugoslavia\n",
    "- Latin America\n",
    "- Middle East\n",
    "- South and South-East Asia\n",
    "- Sub-Sahara Africa\n",
    "- Western Europe\n",
    "- Western Offshoots\n",
    "- World"
   ]
  },
  {
   "cell_type": "code",
   "execution_count": 31,
   "metadata": {},
   "outputs": [],
   "source": [
    "df_merge = df_merge[df_merge['Entity']!='World']\n",
    "df_merge = df_merge[df_merge['Entity']!='Western Offshoots']\n",
    "df_merge = df_merge[df_merge['Entity']!='Western Europe']\n",
    "df_merge = df_merge[df_merge['Entity']!='Sub-Sahara Africa']\n",
    "df_merge = df_merge[df_merge['Entity']!='South and South-East Asia']\n",
    "df_merge = df_merge[df_merge['Entity']!='Middle East']\n",
    "df_merge = df_merge[df_merge['Entity']!='Latin America']\n",
    "df_merge = df_merge[df_merge['Entity']!='Former Yugoslavia']\n",
    "df_merge = df_merge[df_merge['Entity']!='Former USSR']\n",
    "df_merge = df_merge[df_merge['Entity']!='Eastern Europe']\n",
    "df_merge = df_merge[df_merge['Entity']!='East Asia']"
   ]
  },
  {
   "cell_type": "markdown",
   "metadata": {},
   "source": [
    "Checking the filtering"
   ]
  },
  {
   "cell_type": "code",
   "execution_count": 32,
   "metadata": {},
   "outputs": [
    {
     "data": {
      "text/html": [
       "<div>\n",
       "<style scoped>\n",
       "    .dataframe tbody tr th:only-of-type {\n",
       "        vertical-align: middle;\n",
       "    }\n",
       "\n",
       "    .dataframe tbody tr th {\n",
       "        vertical-align: top;\n",
       "    }\n",
       "\n",
       "    .dataframe thead th {\n",
       "        text-align: right;\n",
       "    }\n",
       "</style>\n",
       "<table border=\"1\" class=\"dataframe\">\n",
       "  <thead>\n",
       "    <tr style=\"text-align: right;\">\n",
       "      <th></th>\n",
       "      <th>Entity</th>\n",
       "      <th>Code</th>\n",
       "      <th>Year</th>\n",
       "      <th>GDP</th>\n",
       "      <th>Life expectancy</th>\n",
       "    </tr>\n",
       "  </thead>\n",
       "  <tbody>\n",
       "  </tbody>\n",
       "</table>\n",
       "</div>"
      ],
      "text/plain": [
       "Empty DataFrame\n",
       "Columns: [Entity, Code, Year, GDP, Life expectancy]\n",
       "Index: []"
      ]
     },
     "execution_count": 32,
     "metadata": {},
     "output_type": "execute_result"
    }
   ],
   "source": [
    "df_merge[df_merge['Entity']=='World']"
   ]
  },
  {
   "cell_type": "markdown",
   "metadata": {},
   "source": [
    "Checking the filtering"
   ]
  },
  {
   "cell_type": "code",
   "execution_count": 33,
   "metadata": {},
   "outputs": [
    {
     "data": {
      "text/html": [
       "<div>\n",
       "<style scoped>\n",
       "    .dataframe tbody tr th:only-of-type {\n",
       "        vertical-align: middle;\n",
       "    }\n",
       "\n",
       "    .dataframe tbody tr th {\n",
       "        vertical-align: top;\n",
       "    }\n",
       "\n",
       "    .dataframe thead th {\n",
       "        text-align: right;\n",
       "    }\n",
       "</style>\n",
       "<table border=\"1\" class=\"dataframe\">\n",
       "  <thead>\n",
       "    <tr style=\"text-align: right;\">\n",
       "      <th></th>\n",
       "      <th>Entity</th>\n",
       "      <th>Code</th>\n",
       "      <th>Year</th>\n",
       "      <th>GDP</th>\n",
       "      <th>Life expectancy</th>\n",
       "    </tr>\n",
       "  </thead>\n",
       "  <tbody>\n",
       "    <tr>\n",
       "      <th>69</th>\n",
       "      <td>Albania</td>\n",
       "      <td>ALB</td>\n",
       "      <td>1950</td>\n",
       "      <td>1.958541e+09</td>\n",
       "      <td>54.191</td>\n",
       "    </tr>\n",
       "    <tr>\n",
       "      <th>70</th>\n",
       "      <td>Albania</td>\n",
       "      <td>ALB</td>\n",
       "      <td>1951</td>\n",
       "      <td>2.089362e+09</td>\n",
       "      <td>54.399</td>\n",
       "    </tr>\n",
       "    <tr>\n",
       "      <th>71</th>\n",
       "      <td>Albania</td>\n",
       "      <td>ALB</td>\n",
       "      <td>1952</td>\n",
       "      <td>2.138256e+09</td>\n",
       "      <td>54.875</td>\n",
       "    </tr>\n",
       "    <tr>\n",
       "      <th>72</th>\n",
       "      <td>Albania</td>\n",
       "      <td>ALB</td>\n",
       "      <td>1953</td>\n",
       "      <td>2.282159e+09</td>\n",
       "      <td>55.468</td>\n",
       "    </tr>\n",
       "    <tr>\n",
       "      <th>73</th>\n",
       "      <td>Albania</td>\n",
       "      <td>ALB</td>\n",
       "      <td>1954</td>\n",
       "      <td>2.415073e+09</td>\n",
       "      <td>56.180</td>\n",
       "    </tr>\n",
       "    <tr>\n",
       "      <th>...</th>\n",
       "      <td>...</td>\n",
       "      <td>...</td>\n",
       "      <td>...</td>\n",
       "      <td>...</td>\n",
       "      <td>...</td>\n",
       "    </tr>\n",
       "    <tr>\n",
       "      <th>133</th>\n",
       "      <td>Albania</td>\n",
       "      <td>ALB</td>\n",
       "      <td>2014</td>\n",
       "      <td>2.967564e+10</td>\n",
       "      <td>77.813</td>\n",
       "    </tr>\n",
       "    <tr>\n",
       "      <th>134</th>\n",
       "      <td>Albania</td>\n",
       "      <td>ALB</td>\n",
       "      <td>2015</td>\n",
       "      <td>3.044453e+10</td>\n",
       "      <td>78.025</td>\n",
       "    </tr>\n",
       "    <tr>\n",
       "      <th>135</th>\n",
       "      <td>Albania</td>\n",
       "      <td>ALB</td>\n",
       "      <td>2016</td>\n",
       "      <td>3.148182e+10</td>\n",
       "      <td>78.194</td>\n",
       "    </tr>\n",
       "    <tr>\n",
       "      <th>136</th>\n",
       "      <td>Albania</td>\n",
       "      <td>ALB</td>\n",
       "      <td>2017</td>\n",
       "      <td>3.267876e+10</td>\n",
       "      <td>78.333</td>\n",
       "    </tr>\n",
       "    <tr>\n",
       "      <th>137</th>\n",
       "      <td>Albania</td>\n",
       "      <td>ALB</td>\n",
       "      <td>2018</td>\n",
       "      <td>3.400911e+10</td>\n",
       "      <td>78.458</td>\n",
       "    </tr>\n",
       "  </tbody>\n",
       "</table>\n",
       "<p>69 rows × 5 columns</p>\n",
       "</div>"
      ],
      "text/plain": [
       "      Entity Code  Year           GDP  Life expectancy\n",
       "69   Albania  ALB  1950  1.958541e+09           54.191\n",
       "70   Albania  ALB  1951  2.089362e+09           54.399\n",
       "71   Albania  ALB  1952  2.138256e+09           54.875\n",
       "72   Albania  ALB  1953  2.282159e+09           55.468\n",
       "73   Albania  ALB  1954  2.415073e+09           56.180\n",
       "..       ...  ...   ...           ...              ...\n",
       "133  Albania  ALB  2014  2.967564e+10           77.813\n",
       "134  Albania  ALB  2015  3.044453e+10           78.025\n",
       "135  Albania  ALB  2016  3.148182e+10           78.194\n",
       "136  Albania  ALB  2017  3.267876e+10           78.333\n",
       "137  Albania  ALB  2018  3.400911e+10           78.458\n",
       "\n",
       "[69 rows x 5 columns]"
      ]
     },
     "execution_count": 33,
     "metadata": {},
     "output_type": "execute_result"
    }
   ],
   "source": [
    "df_merge[df_merge['Entity']=='Albania']"
   ]
  },
  {
   "cell_type": "markdown",
   "metadata": {},
   "source": [
    "Plotting"
   ]
  },
  {
   "cell_type": "code",
   "execution_count": 34,
   "metadata": {
    "scrolled": true
   },
   "outputs": [
    {
     "data": {
      "text/plain": [
       "<AxesSubplot:xlabel='GDP', ylabel='Life expectancy'>"
      ]
     },
     "execution_count": 34,
     "metadata": {},
     "output_type": "execute_result"
    },
    {
     "data": {
      "image/png": "[encoded data removed]",
      "text/plain": [
       "<Figure size 432x288 with 1 Axes>"
      ]
     },
     "metadata": {
      "needs_background": "light"
     },
     "output_type": "display_data"
    }
   ],
   "source": [
    "df_merge.plot.scatter('GDP','Life expectancy')"
   ]
  },
  {
   "cell_type": "code",
   "execution_count": 35,
   "metadata": {},
   "outputs": [
    {
     "data": {
      "text/plain": [
       "256975907393.24448"
      ]
     },
     "execution_count": 35,
     "metadata": {},
     "output_type": "execute_result"
    }
   ],
   "source": [
    "o = df_merge['GDP'].mean()\n",
    "o"
   ]
  },
  {
   "cell_type": "code",
   "execution_count": 36,
   "metadata": {},
   "outputs": [
    {
     "data": {
      "text/plain": [
       "1013933233004.3193"
      ]
     },
     "execution_count": 36,
     "metadata": {},
     "output_type": "execute_result"
    }
   ],
   "source": [
    "oo = df_merge['GDP'].std()\n",
    "oo"
   ]
  },
  {
   "cell_type": "code",
   "execution_count": 37,
   "metadata": {},
   "outputs": [
    {
     "data": {
      "text/plain": [
       "1270909140397.5637"
      ]
     },
     "execution_count": 37,
     "metadata": {},
     "output_type": "execute_result"
    }
   ],
   "source": [
    "op = o + oo\n",
    "op"
   ]
  },
  {
   "cell_type": "markdown",
   "metadata": {},
   "source": [
    "We define a high GDP as the mean + standard_deviation"
   ]
  },
  {
   "cell_type": "markdown",
   "metadata": {},
   "source": [
    "Based on what we consider a strong economy with the mean + std every country which has a GDP of >= the threshold do not have a high life expectancy based on the previous metric of high being >= 78.38359415522498. So to answer whether every country with a high GDP has a high life expectancy the answer is no. "
   ]
  },
  {
   "cell_type": "markdown",
   "metadata": {},
   "source": [
    "### G"
   ]
  },
  {
   "cell_type": "code",
   "execution_count": 38,
   "metadata": {},
   "outputs": [
    {
     "data": {
      "text/plain": [
       "<AxesSubplot:xlabel='GDP per capita, PPP (constant 2017 international $)', ylabel='Life expectancy'>"
      ]
     },
     "execution_count": 38,
     "metadata": {},
     "output_type": "execute_result"
    },
    {
     "data": {
      "image/png": "[encoded data removed]",
      "text/plain": [
       "<Figure size 432x288 with 1 Axes>"
      ]
     },
     "metadata": {
      "needs_background": "light"
     },
     "output_type": "display_data"
    }
   ],
   "source": [
    "data_f.plot.scatter('GDP per capita, PPP (constant 2017 international $)', 'Life expectancy')"
   ]
  },
  {
   "cell_type": "code",
   "execution_count": 39,
   "metadata": {},
   "outputs": [
    {
     "data": {
      "text/plain": [
       "17890.146722229907"
      ]
     },
     "execution_count": 39,
     "metadata": {},
     "output_type": "execute_result"
    }
   ],
   "source": [
    "u = data_f['GDP per capita, PPP (constant 2017 international $)'].mean()\n",
    "u"
   ]
  },
  {
   "cell_type": "code",
   "execution_count": 40,
   "metadata": {},
   "outputs": [
    {
     "data": {
      "text/plain": [
       "20381.59218542165"
      ]
     },
     "execution_count": 40,
     "metadata": {},
     "output_type": "execute_result"
    }
   ],
   "source": [
    "uu = data_f['GDP per capita, PPP (constant 2017 international $)'].std()\n",
    "uu"
   ]
  },
  {
   "cell_type": "code",
   "execution_count": 41,
   "metadata": {},
   "outputs": [
    {
     "data": {
      "text/plain": [
       "58653.331093073204"
      ]
     },
     "execution_count": 41,
     "metadata": {},
     "output_type": "execute_result"
    }
   ],
   "source": [
    "uz = u + uu + uu\n",
    "uz"
   ]
  },
  {
   "cell_type": "markdown",
   "metadata": {},
   "source": [
    "We define a high GDP per capita as the mean + 2*standard_deviateions"
   ]
  },
  {
   "cell_type": "markdown",
   "metadata": {},
   "source": [
    "As with GDP, GDP per capita seems highly correlated to life expectancy but to answer the question whether every country with a strong economy (GDP per capita mean + 2 standard deviations) has a high life expectancy the answer is no. As the graph illustrates that the intersection of the y and x axis at 58653.33109 and life exp is about 72, 73 years which is lower than the previously stated standard of >= 78.38359415522498."
   ]
  },
  {
   "cell_type": "markdown",
   "metadata": {},
   "source": [
    "## 2\n",
    "### A"
   ]
  },
  {
   "cell_type": "markdown",
   "metadata": {},
   "source": [
    "*We have cleaed all the contry data sets when merged with life ex. this made is sure not to include years from life ex. that don't have a match.* "
   ]
  },
  {
   "cell_type": "code",
   "execution_count": 42,
   "metadata": {},
   "outputs": [],
   "source": [
    "df_edu = pd.read_csv('government-expenditure-education.csv')"
   ]
  },
  {
   "cell_type": "code",
   "execution_count": 43,
   "metadata": {},
   "outputs": [],
   "source": [
    "data_eg = pd.merge(df_gdpp, df_edu, on = ['Entity', 'Year', 'Code'],)"
   ]
  },
  {
   "cell_type": "markdown",
   "metadata": {},
   "source": [
    "Africa Eastern and Southern\n",
    "\n",
    "Africa Western and Central\n",
    "\n",
    "Arab World\n",
    "\n",
    "Caribbean Small States\n",
    "\n",
    "Central Europe and the Baltics\n",
    "\n",
    "Early-demographic dividend\n",
    "\n",
    "East Asia & Pacific\n",
    "\n",
    "East Asia & Pacific (IDA & IBRD)\n",
    "\n",
    "East Asia & Pacific (excluding high income)\n",
    "\n",
    "Euro area\n",
    "\n",
    "Europe & Central Asia\n",
    "\n",
    "Europe & Central Asia (IDA & IBRD)\n",
    "\n",
    "Europe & Central Asia (excluding high income)\n",
    "\n",
    "European Union\n",
    "\n",
    "Fragile and conflict affected situations\n",
    "\n",
    "Heavily indebted poor countries (HIPC)\n",
    "\n",
    "High income\n",
    "\n",
    "IBRD only\n",
    "\n",
    "IDA & IBRD total\n",
    "\n",
    "IDA blend\n",
    "\n",
    "IDA only\n",
    "\n",
    "IDA total\n",
    "\n",
    "Late-demographic dividend\n",
    "\n",
    "Latin America & Caribbean\n",
    "\n",
    "Latin America & Caribbean (IDA & IBRD)\n",
    "\n",
    "Latin America & Caribbean (excluding high income)\n",
    "\n",
    "Least developed countries: UN classification\n",
    "\n",
    "Low & middle income\n",
    "\n",
    "Low income\n",
    "\n",
    "Lower middle income\n",
    "\n",
    "Middle East & North Africa\n",
    "\n",
    "Middle East & North Africa (IDA & IBRD)\n",
    "\n",
    "Middle East & North Africa (excluding high income)\n",
    "\n",
    "Middle income\n",
    "\n",
    "North America\n",
    "\n",
    "OECD members\n",
    "\n",
    "Other small states\n",
    "\n",
    "Post-demographic dividend\n",
    "\n",
    "Pre-demographic dividend\n",
    "\n",
    "Small states\n",
    "\n",
    "South Asia\n",
    "\n",
    "South Asia (IDA & IBRD)\n",
    "\n",
    "Sub-Saharan Africa\n",
    "\n",
    "Sub-Saharan Africa (IDA & IBRD)\n",
    "\n",
    "Sub-Saharan Africa (excluding high income)\n",
    "\n",
    "Upper middle income"
   ]
  },
  {
   "cell_type": "code",
   "execution_count": 44,
   "metadata": {},
   "outputs": [],
   "source": [
    "data_eg = data_eg[data_eg['Entity']!='World']\n",
    "data_eg = data_eg[data_eg['Entity']!='Upper middle income']\n",
    "data_eg = data_eg[data_eg['Entity']!='Sub-Saharan Africa (excluding high income)']\n",
    "data_eg = data_eg[data_eg['Entity']!='Sub-Saharan Africa (IDA & IBRD)']\n",
    "data_eg = data_eg[data_eg['Entity']!='Sub-Saharan Africa']\n",
    "data_eg = data_eg[data_eg['Entity']!='South Asia (IDA & IBRD)']\n",
    "data_eg = data_eg[data_eg['Entity']!='South Asia']\n",
    "data_eg = data_eg[data_eg['Entity']!='Small states']\n",
    "data_eg = data_eg[data_eg['Entity']!='Pre-demographic dividend']\n",
    "data_eg = data_eg[data_eg['Entity']!='Post-demographic dividend']\n",
    "data_eg = data_eg[data_eg['Entity']!='Other small states']\n",
    "data_eg = data_eg[data_eg['Entity']!='OECD members']\n",
    "data_eg = data_eg[data_eg['Entity']!='North America']\n",
    "data_eg = data_eg[data_eg['Entity']!='Middle income']\n",
    "data_eg = data_eg[data_eg['Entity']!='Middle East & North Africa (excluding high income)']\n",
    "data_eg = data_eg[data_eg['Entity']!='Middle East & North Africa (IDA & IBRD)']\n",
    "data_eg = data_eg[data_eg['Entity']!='Middle East & North Africa']\n",
    "data_eg = data_eg[data_eg['Entity']!='Lower middle income']\n",
    "data_eg = data_eg[data_eg['Entity']!='Low income']\n",
    "data_eg = data_eg[data_eg['Entity']!='Low & middle income']\n",
    "data_eg = data_eg[data_eg['Entity']!='Least developed countries: UN classification']\n",
    "data_eg = data_eg[data_eg['Entity']!='Latin America & Caribbean (excluding high income)']\n",
    "data_eg = data_eg[data_eg['Entity']!='Latin America & Caribbean (IDA & IBRD)']\n",
    "data_eg = data_eg[data_eg['Entity']!='Latin America & Caribbean']\n",
    "data_eg = data_eg[data_eg['Entity']!='Late-demographic dividend']\n",
    "data_eg = data_eg[data_eg['Entity']!='IDA total']\n",
    "data_eg = data_eg[data_eg['Entity']!='IDA only']\n",
    "data_eg = data_eg[data_eg['Entity']!='IDA blend']\n",
    "data_eg = data_eg[data_eg['Entity']!='IDA & IBRD total']\n",
    "data_eg = data_eg[data_eg['Entity']!='IBRD only']\n",
    "data_eg = data_eg[data_eg['Entity']!='High income']\n",
    "data_eg = data_eg[data_eg['Entity']!='Heavily indebted poor countries (HIPC)']\n",
    "data_eg = data_eg[data_eg['Entity']!='Fragile and conflict affected situations']\n",
    "data_eg = data_eg[data_eg['Entity']!='European Union']\n",
    "data_eg = data_eg[data_eg['Entity']!='Europe & Central Asia (excluding high income)']\n",
    "data_eg = data_eg[data_eg['Entity']!='Europe & Central Asia (IDA & IBRD)']\n",
    "data_eg = data_eg[data_eg['Entity']!='WorEurope & Central Asiald']\n",
    "data_eg = data_eg[data_eg['Entity']!='Euro area']\n",
    "data_eg = data_eg[data_eg['Entity']!='East Asia & Pacific (excluding high income)']\n",
    "data_eg = data_eg[data_eg['Entity']!='East Asia & Pacific (IDA & IBRD)']\n",
    "data_eg = data_eg[data_eg['Entity']!='East Asia & Pacific']\n",
    "data_eg = data_eg[data_eg['Entity']!='Early-demographic dividend']\n",
    "data_eg = data_eg[data_eg['Entity']!='Central Europe and the Baltics']\n",
    "data_eg = data_eg[data_eg['Entity']!='Caribbean Small States']\n",
    "data_eg = data_eg[data_eg['Entity']!='Arab World']\n",
    "data_eg = data_eg[data_eg['Entity']!='Africa Western and Central']\n",
    "data_eg = data_eg[data_eg['Entity']!='Africa Eastern and Southern']"
   ]
  },
  {
   "cell_type": "code",
   "execution_count": 45,
   "metadata": {},
   "outputs": [
    {
     "data": {
      "text/html": [
       "<div>\n",
       "<style scoped>\n",
       "    .dataframe tbody tr th:only-of-type {\n",
       "        vertical-align: middle;\n",
       "    }\n",
       "\n",
       "    .dataframe tbody tr th {\n",
       "        vertical-align: top;\n",
       "    }\n",
       "\n",
       "    .dataframe thead th {\n",
       "        text-align: right;\n",
       "    }\n",
       "</style>\n",
       "<table border=\"1\" class=\"dataframe\">\n",
       "  <thead>\n",
       "    <tr style=\"text-align: right;\">\n",
       "      <th></th>\n",
       "      <th>Entity</th>\n",
       "      <th>Code</th>\n",
       "      <th>Year</th>\n",
       "      <th>GDP per capita, PPP (constant 2017 international $)</th>\n",
       "      <th>Government expenditure on education, total (% of government expenditure)</th>\n",
       "    </tr>\n",
       "  </thead>\n",
       "  <tbody>\n",
       "    <tr>\n",
       "      <th>0</th>\n",
       "      <td>Afghanistan</td>\n",
       "      <td>AFG</td>\n",
       "      <td>2010</td>\n",
       "      <td>1957.029070</td>\n",
       "      <td>17.067560</td>\n",
       "    </tr>\n",
       "    <tr>\n",
       "      <th>1</th>\n",
       "      <td>Afghanistan</td>\n",
       "      <td>AFG</td>\n",
       "      <td>2011</td>\n",
       "      <td>1904.559926</td>\n",
       "      <td>16.048429</td>\n",
       "    </tr>\n",
       "    <tr>\n",
       "      <th>2</th>\n",
       "      <td>Afghanistan</td>\n",
       "      <td>AFG</td>\n",
       "      <td>2012</td>\n",
       "      <td>2075.491614</td>\n",
       "      <td>10.356800</td>\n",
       "    </tr>\n",
       "    <tr>\n",
       "      <th>3</th>\n",
       "      <td>Afghanistan</td>\n",
       "      <td>AFG</td>\n",
       "      <td>2013</td>\n",
       "      <td>2116.465258</td>\n",
       "      <td>14.102800</td>\n",
       "    </tr>\n",
       "    <tr>\n",
       "      <th>4</th>\n",
       "      <td>Afghanistan</td>\n",
       "      <td>AFG</td>\n",
       "      <td>2014</td>\n",
       "      <td>2102.384604</td>\n",
       "      <td>14.465930</td>\n",
       "    </tr>\n",
       "  </tbody>\n",
       "</table>\n",
       "</div>"
      ],
      "text/plain": [
       "        Entity Code  Year  \\\n",
       "0  Afghanistan  AFG  2010   \n",
       "1  Afghanistan  AFG  2011   \n",
       "2  Afghanistan  AFG  2012   \n",
       "3  Afghanistan  AFG  2013   \n",
       "4  Afghanistan  AFG  2014   \n",
       "\n",
       "   GDP per capita, PPP (constant 2017 international $)  \\\n",
       "0                                        1957.029070     \n",
       "1                                        1904.559926     \n",
       "2                                        2075.491614     \n",
       "3                                        2116.465258     \n",
       "4                                        2102.384604     \n",
       "\n",
       "   Government expenditure on education, total (% of government expenditure)  \n",
       "0                                          17.067560                         \n",
       "1                                          16.048429                         \n",
       "2                                          10.356800                         \n",
       "3                                          14.102800                         \n",
       "4                                          14.465930                         "
      ]
     },
     "execution_count": 45,
     "metadata": {},
     "output_type": "execute_result"
    }
   ],
   "source": [
    "data_eg.head()"
   ]
  },
  {
   "cell_type": "code",
   "execution_count": 46,
   "metadata": {},
   "outputs": [],
   "source": [
    "data_eg=data_eg.drop(columns=['Code'])"
   ]
  },
  {
   "cell_type": "code",
   "execution_count": 47,
   "metadata": {},
   "outputs": [
    {
     "data": {
      "text/html": [
       "<div>\n",
       "<style scoped>\n",
       "    .dataframe tbody tr th:only-of-type {\n",
       "        vertical-align: middle;\n",
       "    }\n",
       "\n",
       "    .dataframe tbody tr th {\n",
       "        vertical-align: top;\n",
       "    }\n",
       "\n",
       "    .dataframe thead th {\n",
       "        text-align: right;\n",
       "    }\n",
       "</style>\n",
       "<table border=\"1\" class=\"dataframe\">\n",
       "  <thead>\n",
       "    <tr style=\"text-align: right;\">\n",
       "      <th></th>\n",
       "      <th>Entity</th>\n",
       "      <th>Year</th>\n",
       "      <th>GDP per capita, PPP (constant 2017 international $)</th>\n",
       "      <th>Government expenditure on education, total (% of government expenditure)</th>\n",
       "    </tr>\n",
       "  </thead>\n",
       "  <tbody>\n",
       "    <tr>\n",
       "      <th>0</th>\n",
       "      <td>Afghanistan</td>\n",
       "      <td>2010</td>\n",
       "      <td>1957.029070</td>\n",
       "      <td>17.067560</td>\n",
       "    </tr>\n",
       "    <tr>\n",
       "      <th>1</th>\n",
       "      <td>Afghanistan</td>\n",
       "      <td>2011</td>\n",
       "      <td>1904.559926</td>\n",
       "      <td>16.048429</td>\n",
       "    </tr>\n",
       "    <tr>\n",
       "      <th>2</th>\n",
       "      <td>Afghanistan</td>\n",
       "      <td>2012</td>\n",
       "      <td>2075.491614</td>\n",
       "      <td>10.356800</td>\n",
       "    </tr>\n",
       "    <tr>\n",
       "      <th>3</th>\n",
       "      <td>Afghanistan</td>\n",
       "      <td>2013</td>\n",
       "      <td>2116.465258</td>\n",
       "      <td>14.102800</td>\n",
       "    </tr>\n",
       "    <tr>\n",
       "      <th>4</th>\n",
       "      <td>Afghanistan</td>\n",
       "      <td>2014</td>\n",
       "      <td>2102.384604</td>\n",
       "      <td>14.465930</td>\n",
       "    </tr>\n",
       "  </tbody>\n",
       "</table>\n",
       "</div>"
      ],
      "text/plain": [
       "        Entity  Year  GDP per capita, PPP (constant 2017 international $)  \\\n",
       "0  Afghanistan  2010                                        1957.029070     \n",
       "1  Afghanistan  2011                                        1904.559926     \n",
       "2  Afghanistan  2012                                        2075.491614     \n",
       "3  Afghanistan  2013                                        2116.465258     \n",
       "4  Afghanistan  2014                                        2102.384604     \n",
       "\n",
       "   Government expenditure on education, total (% of government expenditure)  \n",
       "0                                          17.067560                         \n",
       "1                                          16.048429                         \n",
       "2                                          10.356800                         \n",
       "3                                          14.102800                         \n",
       "4                                          14.465930                         "
      ]
     },
     "execution_count": 47,
     "metadata": {},
     "output_type": "execute_result"
    }
   ],
   "source": [
    "data_eg.head()"
   ]
  },
  {
   "cell_type": "code",
   "execution_count": 48,
   "metadata": {},
   "outputs": [
    {
     "data": {
      "text/plain": [
       "Text(0.5, 0, 'Government expenditure on education')"
      ]
     },
     "execution_count": 48,
     "metadata": {},
     "output_type": "execute_result"
    },
    {
     "data": {
      "image/png": "[encoded data removed]",
      "text/plain": [
       "<Figure size 432x288 with 1 Axes>"
      ]
     },
     "metadata": {
      "needs_background": "light"
     },
     "output_type": "display_data"
    }
   ],
   "source": [
    "ax = data_eg.plot.scatter('Government expenditure on education, total (% of government expenditure)', 'GDP per capita, PPP (constant 2017 international $)')\n",
    "ax.set_ylabel(\"GDP per capita\")\n",
    "ax.set_xlabel(\"Government expenditure on education\")"
   ]
  },
  {
   "cell_type": "code",
   "execution_count": 49,
   "metadata": {},
   "outputs": [],
   "source": [
    "df_hom = pd.read_csv('intentional-homicides-per-100000-people.csv')"
   ]
  },
  {
   "cell_type": "code",
   "execution_count": 50,
   "metadata": {},
   "outputs": [],
   "source": [
    "data_hg = pd.merge(df_gdpp, df_hom, on = ['Entity', 'Year', 'Code'],)"
   ]
  },
  {
   "cell_type": "markdown",
   "metadata": {},
   "source": [
    "Africa Eastern and Southern\n",
    "\n",
    "Africa Western and Central\n",
    "\n",
    "Arab World\n",
    "\n",
    "Caribbean Small States\n",
    "\n",
    "Central Europe and the Baltics\n",
    "\n",
    "Early-demographic dividend\n",
    "\n",
    "East Asia & Pacific\n",
    "\n",
    "East Asia & Pacific (IDA & IBRD)\n",
    "\n",
    "East Asia & Pacific (excluding high income)\n",
    "\n",
    "Euro area\n",
    "\n",
    "Europe & Central Asia\n",
    "\n",
    "Europe & Central Asia (IDA & IBRD)\n",
    "\n",
    "Europe & Central Asia (excluding high income)\n",
    "\n",
    "European Union\n",
    "\n",
    "Fragile and conflict affected situations\n",
    "\n",
    "Heavily indebted poor countries (HIPC)\n",
    "\n",
    "High income\n",
    "\n",
    "IBRD only\n",
    "\n",
    "IDA & IBRD total\n",
    "\n",
    "IDA blend\n",
    "\n",
    "IDA only\n",
    "\n",
    "IDA total\n",
    "\n",
    "Late-demographic dividend\n",
    "\n",
    "Latin America & Caribbean\n",
    "\n",
    "Latin America & Caribbean (IDA & IBRD)\n",
    "\n",
    "Latin America & Caribbean (excluding high income)\n",
    "\n",
    "Least developed countries: UN classification\n",
    "\n",
    "Low & middle income\n",
    "\n",
    "Low income\n",
    "\n",
    "Lower middle income\n",
    "\n",
    "Middle East & North Africa\n",
    "\n",
    "Middle East & North Africa (IDA & IBRD)\n",
    "\n",
    "Middle East & North Africa (excluding high income)\n",
    "\n",
    "Middle income\n",
    "\n",
    "North America\n",
    "\n",
    "OECD members\n",
    "\n",
    "Other small states\n",
    "\n",
    "Pacific island small states\n",
    "\n",
    "Post-demographic dividend\n",
    "\n",
    "Pre-demographic dividend\n",
    "\n",
    "Small states\n",
    "\n",
    "South Asia\n",
    "\n",
    "South Asia (IDA & IBRD)\n",
    "\n",
    "Sub-Saharan Africa\n",
    "\n",
    "Sub-Saharan Africa (IDA & IBRD)\n",
    "\n",
    "Sub-Saharan Africa (excluding high income)\n",
    "\n",
    "Upper middle income"
   ]
  },
  {
   "cell_type": "code",
   "execution_count": 51,
   "metadata": {},
   "outputs": [],
   "source": [
    "data_hg = data_hg[data_hg['Entity']!='World']\n",
    "data_hg = data_hg[data_hg['Entity']!='Africa Eastern and Southern']\n",
    "data_hg = data_hg[data_hg['Entity']!='Africa Western and Central']\n",
    "data_hg = data_hg[data_hg['Entity']!='Arab World']\n",
    "data_hg = data_hg[data_hg['Entity']!='Caribbean Small States']\n",
    "data_hg = data_hg[data_hg['Entity']!='Central Europe and the Baltics']\n",
    "data_hg = data_hg[data_hg['Entity']!='Early-demographic dividend']\n",
    "data_hg = data_hg[data_hg['Entity']!='East Asia & Pacific']\n",
    "data_hg = data_hg[data_hg['Entity']!='East Asia & Pacific (IDA & IBRD)']\n",
    "data_hg = data_hg[data_hg['Entity']!='East Asia & Pacific (excluding high income)']\n",
    "data_hg = data_hg[data_hg['Entity']!='Euro area']\n",
    "data_hg = data_hg[data_hg['Entity']!='Europe & Central Asia']\n",
    "data_hg = data_hg[data_hg['Entity']!='Europe & Central Asia (IDA & IBRD)']\n",
    "data_hg = data_hg[data_hg['Entity']!='Europe & Central Asia (excluding high income)']\n",
    "data_hg = data_hg[data_hg['Entity']!='European Union']\n",
    "data_hg = data_hg[data_hg['Entity']!='Fragile and conflict affected situations']\n",
    "data_hg = data_hg[data_hg['Entity']!='Heavily indebted poor countries (HIPC)']\n",
    "data_hg = data_hg[data_hg['Entity']!='High income']\n",
    "data_hg = data_hg[data_hg['Entity']!='IBRD only']\n",
    "data_hg = data_hg[data_hg['Entity']!='IDA & IBRD total']\n",
    "data_hg = data_hg[data_hg['Entity']!='IDA blend']\n",
    "data_hg = data_hg[data_hg['Entity']!='IDA only']\n",
    "data_hg = data_hg[data_hg['Entity']!='IDA total']\n",
    "data_hg = data_hg[data_hg['Entity']!='Late-demographic dividend']\n",
    "data_hg = data_hg[data_hg['Entity']!='Latin America & Caribbean']\n",
    "data_hg = data_hg[data_hg['Entity']!='Latin America & Caribbean (IDA & IBRD)']\n",
    "data_hg = data_hg[data_hg['Entity']!='Latin America & Caribbean (excluding high income)']\n",
    "data_hg = data_hg[data_hg['Entity']!='Least developed countries: UN classification']\n",
    "data_hg = data_hg[data_hg['Entity']!='Low & middle income']\n",
    "data_hg = data_hg[data_hg['Entity']!='Low income']\n",
    "data_hg = data_hg[data_hg['Entity']!='Lower middle income']\n",
    "data_hg = data_hg[data_hg['Entity']!='Middle East & North Africa']\n",
    "data_hg = data_hg[data_hg['Entity']!='Middle East & North Africa (IDA & IBRD)']\n",
    "data_hg = data_hg[data_hg['Entity']!='Middle East & North Africa (excluding high income)']\n",
    "data_hg = data_hg[data_hg['Entity']!='Middle income']\n",
    "data_hg = data_hg[data_hg['Entity']!='North America']\n",
    "data_hg = data_hg[data_hg['Entity']!='OECD members']\n",
    "data_hg = data_hg[data_hg['Entity']!='Other small states']\n",
    "data_hg = data_hg[data_hg['Entity']!='Pacific island small states']\n",
    "data_hg = data_hg[data_hg['Entity']!='Post-demographic dividend']\n",
    "data_hg = data_hg[data_hg['Entity']!='Pre-demographic dividend']\n",
    "data_hg = data_hg[data_hg['Entity']!='Small states']\n",
    "data_hg = data_hg[data_hg['Entity']!='South Asia']\n",
    "data_hg = data_hg[data_hg['Entity']!='South Asia (IDA & IBRD)']\n",
    "data_hg = data_hg[data_hg['Entity']!='Sub-Saharan Africa']\n",
    "data_hg = data_hg[data_hg['Entity']!='Sub-Saharan Africa (IDA & IBRD)']\n",
    "data_hg = data_hg[data_hg['Entity']!='Sub-Saharan Africa (excluding high income)']\n",
    "data_hg = data_hg[data_hg['Entity']!='Upper middle income']"
   ]
  },
  {
   "cell_type": "code",
   "execution_count": 52,
   "metadata": {},
   "outputs": [],
   "source": [
    "data_hg=data_hg.drop(columns=['Code'])"
   ]
  },
  {
   "cell_type": "code",
   "execution_count": 53,
   "metadata": {},
   "outputs": [
    {
     "data": {
      "text/html": [
       "<div>\n",
       "<style scoped>\n",
       "    .dataframe tbody tr th:only-of-type {\n",
       "        vertical-align: middle;\n",
       "    }\n",
       "\n",
       "    .dataframe tbody tr th {\n",
       "        vertical-align: top;\n",
       "    }\n",
       "\n",
       "    .dataframe thead th {\n",
       "        text-align: right;\n",
       "    }\n",
       "</style>\n",
       "<table border=\"1\" class=\"dataframe\">\n",
       "  <thead>\n",
       "    <tr style=\"text-align: right;\">\n",
       "      <th></th>\n",
       "      <th>Entity</th>\n",
       "      <th>Year</th>\n",
       "      <th>GDP per capita, PPP (constant 2017 international $)</th>\n",
       "      <th>Intentional homicides (per 100,000 people)</th>\n",
       "    </tr>\n",
       "  </thead>\n",
       "  <tbody>\n",
       "    <tr>\n",
       "      <th>0</th>\n",
       "      <td>Afghanistan</td>\n",
       "      <td>2009</td>\n",
       "      <td>1758.904477</td>\n",
       "      <td>3.926774</td>\n",
       "    </tr>\n",
       "    <tr>\n",
       "      <th>1</th>\n",
       "      <td>Afghanistan</td>\n",
       "      <td>2010</td>\n",
       "      <td>1957.029070</td>\n",
       "      <td>3.368110</td>\n",
       "    </tr>\n",
       "    <tr>\n",
       "      <th>2</th>\n",
       "      <td>Afghanistan</td>\n",
       "      <td>2011</td>\n",
       "      <td>1904.559926</td>\n",
       "      <td>4.087337</td>\n",
       "    </tr>\n",
       "    <tr>\n",
       "      <th>3</th>\n",
       "      <td>Afghanistan</td>\n",
       "      <td>2012</td>\n",
       "      <td>2075.491614</td>\n",
       "      <td>6.251328</td>\n",
       "    </tr>\n",
       "    <tr>\n",
       "      <th>4</th>\n",
       "      <td>Afghanistan</td>\n",
       "      <td>2015</td>\n",
       "      <td>2068.265904</td>\n",
       "      <td>9.783922</td>\n",
       "    </tr>\n",
       "  </tbody>\n",
       "</table>\n",
       "</div>"
      ],
      "text/plain": [
       "        Entity  Year  GDP per capita, PPP (constant 2017 international $)  \\\n",
       "0  Afghanistan  2009                                        1758.904477     \n",
       "1  Afghanistan  2010                                        1957.029070     \n",
       "2  Afghanistan  2011                                        1904.559926     \n",
       "3  Afghanistan  2012                                        2075.491614     \n",
       "4  Afghanistan  2015                                        2068.265904     \n",
       "\n",
       "   Intentional homicides (per 100,000 people)  \n",
       "0                                    3.926774  \n",
       "1                                    3.368110  \n",
       "2                                    4.087337  \n",
       "3                                    6.251328  \n",
       "4                                    9.783922  "
      ]
     },
     "execution_count": 53,
     "metadata": {},
     "output_type": "execute_result"
    }
   ],
   "source": [
    "data_hg.head()"
   ]
  },
  {
   "cell_type": "code",
   "execution_count": 54,
   "metadata": {},
   "outputs": [
    {
     "data": {
      "text/plain": [
       "Text(0.5, 0, 'Intentional homicides (per 100,000 people)')"
      ]
     },
     "execution_count": 54,
     "metadata": {},
     "output_type": "execute_result"
    },
    {
     "data": {
      "image/png": "[encoded data removed]",
      "text/plain": [
       "<Figure size 432x288 with 1 Axes>"
      ]
     },
     "metadata": {
      "needs_background": "light"
     },
     "output_type": "display_data"
    }
   ],
   "source": [
    "ay = data_hg.plot.scatter('Intentional homicides (per 100,000 people)', 'GDP per capita, PPP (constant 2017 international $)')\n",
    "ay.set_ylabel(\"GDP per capita\")\n",
    "ay.set_xlabel(\"Intentional homicides (per 100,000 people)\")"
   ]
  },
  {
   "cell_type": "code",
   "execution_count": 55,
   "metadata": {},
   "outputs": [],
   "source": [
    "df_edu.drop(columns=['Code'])\n",
    "df_hom.drop(columns=['Code'])\n",
    "data_gh = pd.merge(df_edu, df_hom, on = ['Entity', 'Year'],)"
   ]
  },
  {
   "cell_type": "code",
   "execution_count": 56,
   "metadata": {},
   "outputs": [],
   "source": [
    "data_gh = data_gh[data_gh['Entity']!='World']\n",
    "data_gh = data_gh[data_gh['Entity']!='Africa Eastern and Southern']\n",
    "data_gh = data_gh[data_gh['Entity']!='Africa Western and Central']\n",
    "data_gh = data_gh[data_gh['Entity']!='Arab World']\n",
    "data_gh = data_gh[data_gh['Entity']!='Caribbean Small States']\n",
    "data_gh = data_gh[data_gh['Entity']!='Central Europe and the Baltics']\n",
    "data_gh = data_gh[data_gh['Entity']!='Early-demographic dividend']\n",
    "data_gh = data_gh[data_gh['Entity']!='East Asia & Pacific']\n",
    "data_gh = data_gh[data_gh['Entity']!='East Asia & Pacific (IDA & IBRD)']\n",
    "data_gh = data_gh[data_gh['Entity']!='East Asia & Pacific (excluding high income)']\n",
    "data_gh = data_gh[data_gh['Entity']!='Euro area']\n",
    "data_gh = data_gh[data_gh['Entity']!='Europe & Central Asia']\n",
    "data_gh = data_gh[data_gh['Entity']!='Europe & Central Asia (IDA & IBRD)']\n",
    "data_gh = data_gh[data_gh['Entity']!='Europe & Central Asia (excluding high income)']\n",
    "data_gh = data_gh[data_gh['Entity']!='European Union']\n",
    "data_gh = data_gh[data_gh['Entity']!='Fragile and conflict affected situations']\n",
    "data_gh = data_gh[data_gh['Entity']!='Heavily indebted poor countries (HIPC)']\n",
    "data_gh = data_gh[data_gh['Entity']!='High income']\n",
    "data_gh = data_gh[data_gh['Entity']!='IBRD only']\n",
    "data_gh = data_gh[data_gh['Entity']!='IDA & IBRD total']\n",
    "data_gh = data_gh[data_gh['Entity']!='IDA blend']\n",
    "data_gh = data_gh[data_gh['Entity']!='IDA only']\n",
    "data_gh = data_gh[data_gh['Entity']!='IDA total']\n",
    "data_gh = data_gh[data_gh['Entity']!='Late-demographic dividend']\n",
    "data_gh = data_gh[data_gh['Entity']!='Latin America & Caribbean']\n",
    "data_gh = data_gh[data_gh['Entity']!='Latin America & Caribbean (IDA & IBRD)']\n",
    "data_gh = data_gh[data_gh['Entity']!='Latin America & Caribbean (excluding high income)']\n",
    "data_gh = data_gh[data_gh['Entity']!='Least developed countries: UN classification']\n",
    "data_gh = data_gh[data_gh['Entity']!='Low & middle income']\n",
    "data_gh = data_gh[data_gh['Entity']!='Low income']\n",
    "data_gh = data_gh[data_gh['Entity']!='Lower middle income']\n",
    "data_gh = data_gh[data_gh['Entity']!='Middle East & North Africa']\n",
    "data_gh = data_gh[data_gh['Entity']!='Middle East & North Africa (IDA & IBRD)']\n",
    "data_gh = data_gh[data_gh['Entity']!='Middle East & North Africa (excluding high income)']\n",
    "data_gh = data_gh[data_gh['Entity']!='Middle income']\n",
    "data_gh = data_gh[data_gh['Entity']!='North America']\n",
    "data_gh = data_gh[data_gh['Entity']!='OECD members']\n",
    "data_gh = data_gh[data_gh['Entity']!='Other small states']\n",
    "data_gh = data_gh[data_gh['Entity']!='Pacific island small states']\n",
    "data_gh = data_gh[data_gh['Entity']!='Post-demographic dividend']\n",
    "data_gh = data_gh[data_gh['Entity']!='Pre-demographic dividend']\n",
    "data_gh = data_gh[data_gh['Entity']!='Small states']\n",
    "data_gh = data_gh[data_gh['Entity']!='South Asia']\n",
    "data_gh = data_gh[data_gh['Entity']!='South Asia (IDA & IBRD)']\n",
    "data_gh = data_gh[data_gh['Entity']!='Sub-Saharan Africa']\n",
    "data_gh = data_gh[data_gh['Entity']!='Sub-Saharan Africa (IDA & IBRD)']\n",
    "data_gh = data_gh[data_gh['Entity']!='Sub-Saharan Africa (excluding high income)']\n",
    "data_gh = data_gh[data_gh['Entity']!='Upper middle income']"
   ]
  },
  {
   "cell_type": "code",
   "execution_count": 57,
   "metadata": {},
   "outputs": [
    {
     "data": {
      "text/html": [
       "<div>\n",
       "<style scoped>\n",
       "    .dataframe tbody tr th:only-of-type {\n",
       "        vertical-align: middle;\n",
       "    }\n",
       "\n",
       "    .dataframe tbody tr th {\n",
       "        vertical-align: top;\n",
       "    }\n",
       "\n",
       "    .dataframe thead th {\n",
       "        text-align: right;\n",
       "    }\n",
       "</style>\n",
       "<table border=\"1\" class=\"dataframe\">\n",
       "  <thead>\n",
       "    <tr style=\"text-align: right;\">\n",
       "      <th></th>\n",
       "      <th>Entity</th>\n",
       "      <th>Code_x</th>\n",
       "      <th>Year</th>\n",
       "      <th>Government expenditure on education, total (% of government expenditure)</th>\n",
       "      <th>Code_y</th>\n",
       "      <th>Intentional homicides (per 100,000 people)</th>\n",
       "    </tr>\n",
       "  </thead>\n",
       "  <tbody>\n",
       "    <tr>\n",
       "      <th>0</th>\n",
       "      <td>Afghanistan</td>\n",
       "      <td>AFG</td>\n",
       "      <td>2010</td>\n",
       "      <td>17.067560</td>\n",
       "      <td>AFG</td>\n",
       "      <td>3.368110</td>\n",
       "    </tr>\n",
       "    <tr>\n",
       "      <th>1</th>\n",
       "      <td>Afghanistan</td>\n",
       "      <td>AFG</td>\n",
       "      <td>2011</td>\n",
       "      <td>16.048429</td>\n",
       "      <td>AFG</td>\n",
       "      <td>4.087337</td>\n",
       "    </tr>\n",
       "    <tr>\n",
       "      <th>2</th>\n",
       "      <td>Afghanistan</td>\n",
       "      <td>AFG</td>\n",
       "      <td>2012</td>\n",
       "      <td>10.356800</td>\n",
       "      <td>AFG</td>\n",
       "      <td>6.251328</td>\n",
       "    </tr>\n",
       "    <tr>\n",
       "      <th>3</th>\n",
       "      <td>Afghanistan</td>\n",
       "      <td>AFG</td>\n",
       "      <td>2015</td>\n",
       "      <td>12.509000</td>\n",
       "      <td>AFG</td>\n",
       "      <td>9.783922</td>\n",
       "    </tr>\n",
       "    <tr>\n",
       "      <th>4</th>\n",
       "      <td>Afghanistan</td>\n",
       "      <td>AFG</td>\n",
       "      <td>2016</td>\n",
       "      <td>16.211700</td>\n",
       "      <td>AFG</td>\n",
       "      <td>6.551163</td>\n",
       "    </tr>\n",
       "  </tbody>\n",
       "</table>\n",
       "</div>"
      ],
      "text/plain": [
       "        Entity Code_x  Year  \\\n",
       "0  Afghanistan    AFG  2010   \n",
       "1  Afghanistan    AFG  2011   \n",
       "2  Afghanistan    AFG  2012   \n",
       "3  Afghanistan    AFG  2015   \n",
       "4  Afghanistan    AFG  2016   \n",
       "\n",
       "   Government expenditure on education, total (% of government expenditure)  \\\n",
       "0                                          17.067560                          \n",
       "1                                          16.048429                          \n",
       "2                                          10.356800                          \n",
       "3                                          12.509000                          \n",
       "4                                          16.211700                          \n",
       "\n",
       "  Code_y  Intentional homicides (per 100,000 people)  \n",
       "0    AFG                                    3.368110  \n",
       "1    AFG                                    4.087337  \n",
       "2    AFG                                    6.251328  \n",
       "3    AFG                                    9.783922  \n",
       "4    AFG                                    6.551163  "
      ]
     },
     "execution_count": 57,
     "metadata": {},
     "output_type": "execute_result"
    }
   ],
   "source": [
    "data_gh.head()"
   ]
  },
  {
   "cell_type": "code",
   "execution_count": 59,
   "metadata": {},
   "outputs": [
    {
     "data": {
      "text/plain": [
       "Text(0.5, 0, 'Intentional homicides (per 100,000 people)')"
      ]
     },
     "execution_count": 59,
     "metadata": {},
     "output_type": "execute_result"
    },
    {
     "data": {
      "image/png": "[encoded data removed]",
      "text/plain": [
       "<Figure size 432x288 with 1 Axes>"
      ]
     },
     "metadata": {
      "needs_background": "light"
     },
     "output_type": "display_data"
    }
   ],
   "source": [
    "az = data_gh.plot.scatter('Intentional homicides (per 100,000 people)', 'Government expenditure on education, total (% of government expenditure)')\n",
    "az.set_ylabel(\"Government expenditure on education\")\n",
    "az.set_xlabel(\"Intentional homicides (per 100,000 people)\")"
   ]
  },
  {
   "cell_type": "code",
   "execution_count": null,
   "metadata": {},
   "outputs": [],
   "source": []
  }
 ],
 "metadata": {
  "kernelspec": {
   "display_name": "Python 3",
   "language": "python",
   "name": "python3"
  },
  "language_info": {
   "codemirror_mode": {
    "name": "ipython",
    "version": 3
   },
   "file_extension": ".py",
   "mimetype": "text/x-python",
   "name": "python",
   "nbconvert_exporter": "python",
   "pygments_lexer": "ipython3",
   "version": "3.9.2"
  }
 },
 "nbformat": 4,
 "nbformat_minor": 4
}
