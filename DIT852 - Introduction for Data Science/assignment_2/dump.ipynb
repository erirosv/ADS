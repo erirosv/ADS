{
 "cells": [
  {
   "cell_type": "markdown",
   "source": [
    "Logistic Regression supports only solvers in ['liblinear', 'newton-cg', 'lbfgs', 'sag', 'saga']\r\n",
    "\r\n",
    "titles_options = [(\"Confusion matrix, with Logistic regression\", None),] --> withoutLin & withoutLin (before loop)\r\n",
    "\r\n",
    "https://scikit-learn.org/stable/auto_examples/neighbors/plot_classification.html\r\n",
    "\r\n",
    "https://scikit-learn.org/stable/auto_examples/model_selection/plot_confusion_matrix.html\r\n",
    "\r\n",
    "https://machinelearningmastery.com/difference-test-validation-datasets/"
   ],
   "metadata": {}
  },
  {
   "cell_type": "code",
   "execution_count": 2,
   "source": [
    "def knnConfusion ():\r\n",
    "    x_train, x_test = scaler()\r\n",
    "    classifier = LogisticRegression(random_state = 0, solver='lbfgs', multi_class='auto')\r\n",
    "    X, y = setup()\r\n",
    "    classifier.fit(X, y)\r\n",
    "    \r\n",
    "        \r\n",
    "    title = 'Confusion matrix, with Logistic regression'\r\n",
    "    display = plot_confusion_matrix(classifier, X, y,\r\n",
    "                                        display_labels=names, cmap=plt.cm.Blues, normalize='true')\r\n",
    "\r\n",
    "\r\n",
    "    display.ax_.set_title(title)\r\n",
    "    print(title)\r\n",
    "    print(display.confusion_matrix)\r\n",
    "\r\n",
    "    plt.title('Confusion matrix, with Logistic regression KNN')\r\n",
    "    plt.show()"
   ],
   "outputs": [],
   "metadata": {}
  },
  {
   "cell_type": "code",
   "execution_count": null,
   "source": [
    "classifier = svm.SVC(kernel='linear', C=0.01).fit(x_train, y_train)\r\n",
    "\r\n",
    "titles_options = [(\"Confusion matrix, without normalization\", None),]\r\n",
    "\r\n",
    "for title, normalize in titles_options:\r\n",
    "    display = plot_confusion_matrix(classifier, x_test, y_test,\r\n",
    "                                    display_labels=names, cmap=plt.cm.Blues, normalize=normalize)\r\n",
    "    display.ax_.set_title(title)\r\n",
    "    print(title)\r\n",
    "    #print(display.confusion_matrix)\r\n",
    "\r\n",
    "plt.show()"
   ],
   "outputs": [],
   "metadata": {}
  }
 ],
 "metadata": {
  "kernelspec": {
   "display_name": "Python 3",
   "language": "python",
   "name": "python3"
  },
  "language_info": {
   "codemirror_mode": {
    "name": "ipython",
    "version": 3
   },
   "file_extension": ".py",
   "mimetype": "text/x-python",
   "name": "python",
   "nbconvert_exporter": "python",
   "pygments_lexer": "ipython3",
   "version": "3.9.2"
  }
 },
 "nbformat": 4,
 "nbformat_minor": 4
}