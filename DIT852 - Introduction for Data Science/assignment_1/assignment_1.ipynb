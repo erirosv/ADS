{
 "cells": [
  {
   "attachments": {},
   "cell_type": "markdown",
   "metadata": {},
   "source": [
    "# Assingment 1"
   ]
  },
  {
   "cell_type": "code",
   "execution_count": 1,
   "metadata": {},
   "outputs": [],
   "source": [
    "import pandas as pd;\n",
    "import matplotlib.pyplot as plt\n",
    "import numpy as np"
   ]
  },
  {
   "cell_type": "code",
   "execution_count": 2,
   "metadata": {},
   "outputs": [],
   "source": [
    "def generateData(filename):\n",
    "\tdata = pd.read_csv(filename);\n",
    "\tdataDict = {};\n",
    "\n",
    "\tfor row in data.iterrows():\n",
    "\t\tcountryName = row[1][0];\n",
    "\t\tyear = row[1][2];\n",
    "\t\tcountryGDP = row[1][3];\n",
    "\n",
    "\t\tif year == 2014:\n",
    "\t\t\tdataDict[countryName] = countryGDP;\n",
    "\n",
    "\treturn dataDict;"
   ]
  },
  {
   "cell_type": "code",
   "execution_count": 3,
   "metadata": {},
   "outputs": [],
   "source": [
    "def stitch(dictA, dictB):\n",
    "\tnamesA = set(dictA);\n",
    "\tnamesB = set(dictB);\n",
    "\tnames = namesA.intersection(namesB);\n",
    "\tpoints = [];\n",
    "\n",
    "\tfor name in names:\n",
    "\t\tpoint = (dictA[name], dictB[name]);\n",
    "\t\tpoints.append(point);\n",
    "\n",
    "\treturn points;"
   ]
  },
  {
   "cell_type": "code",
   "execution_count": 4,
   "metadata": {},
   "outputs": [],
   "source": [
    "def plot(filenameX, xlabel, filenameY, ylabel):\n",
    "\txDict = generateData(filenameX);\n",
    "\tyDict = generateData(filenameY);\n",
    "\n",
    "\tr = stitch(xDict, yDict);\n",
    "\n",
    "\txList = list(map(lambda ar: ar[0], r));\n",
    "\tyList = list(map(lambda ar: ar[1], r));\n",
    "\n",
    "\tplt.plot(xList, yList, 'o', color='black');\n",
    "\tplt.xlabel(xlabel);\n",
    "\tplt.ylabel(ylabel);\n",
    "\tplt.show();"
   ]
  },
  {
   "cell_type": "code",
   "execution_count": 5,
   "metadata": {},
   "outputs": [],
   "source": [
    "def stitchDict(dictA, dictB, filterFunc):\n",
    "\tnamesA = set(dictA);\n",
    "\tnamesB = set(dictB);\n",
    "\tnames = namesA.intersection(namesB);\n",
    "\tpoints = {};\n",
    "\n",
    "\tfor name in names:\n",
    "\t\tpoint = (dictA[name], dictB[name]);\n",
    "\t\tif filterFunc(point):\n",
    "\t\t\tpoints[name] = point;\n",
    "\n",
    "\treturn points;"
   ]
  },
  {
   "cell_type": "code",
   "execution_count": 6,
   "metadata": {},
   "outputs": [
    {
     "name": "stdout",
     "output_type": "stream",
     "text": [
      "Mean:  72.65748285539095\n",
      "Standard:  7.893805963248772\n"
     ]
    }
   ],
   "source": [
    "def getMeanStandard():\n",
    "    import statistics\n",
    "    y = generateData('le.csv')\n",
    "    yList = []\n",
    "    for key, value in y.items():\n",
    "        yList.append(value)\n",
    "    \n",
    "    mean = statistics.mean(yList)\n",
    "    standard = statistics.stdev(yList)\n",
    "    return mean, standard\n",
    "\n",
    "m, s = getMeanStandard()\n",
    "print('Mean: ', m)\n",
    "print('Standard: ', s)"
   ]
  },
  {
   "cell_type": "code",
   "execution_count": 7,
   "metadata": {},
   "outputs": [],
   "source": [
    "def filter_dict(): \n",
    "    LeDict = {}\n",
    "    newDict = dict()\n",
    "    LeDict = generateData('le.csv')\n",
    "\n",
    "    meanVal, standardVal = getMeanStandard()\n",
    "    meanstandard = meanVal + standardVal\n",
    "\n",
    "    for (key, value) in LeDict.items():\n",
    "        if value >= meanstandard:\n",
    "            newDict[key] = value\n",
    "    return newDict"
   ]
  },
  {
   "cell_type": "code",
   "execution_count": 8,
   "metadata": {},
   "outputs": [
    {
     "name": "stdout",
     "output_type": "stream",
     "text": [
      "[('Germany', 80.642), ('Isle of Man', 80.67399999999999), ('Falkland Islands', 80.73100000000001), ('Belgium', 80.797), ('Saint Martin (French part)', 80.817), ('Tokelau', 80.84), ('Saint Barthlemy', 80.863), ('Guadeloupe', 80.968), ('United Kingdom', 80.97800000000001), ('Portugal', 80.995), ('Finland', 81.002), ('Ireland', 81.07600000000001), ('Austria', 81.10300000000001), ('Anguilla', 81.243), ('Greece', 81.361), ('Luxembourg', 81.442), ('Martinique', 81.539), ('Netherlands', 81.559), ('New Zealand', 81.561), ('Malta', 81.71600000000001), ('Norway', 81.792), ('South Korea', 81.795), ('Bermuda', 81.828), ('Canada', 81.927), ('Liechtenstein', 81.973), ('France', 82.11399999999999), ('Sweden', 82.118), ('Israel', 82.175), ('Channel Islands', 82.25200000000001), ('Iceland', 82.359), ('Australia', 82.62700000000001), ('Italy', 82.648), ('Singapore', 82.667), ('Spain', 82.801), ('Andorra', 82.82799999999999), ('Switzerland', 82.971), ('Cayman Islands', 83.171), ('Macao', 83.54299999999999), ('Japan', 83.66799999999999), ('Hong Kong', 83.801), ('San Marino', 84.182), ('Monaco', 85.41)]\n",
      "None\n"
     ]
    }
   ],
   "source": [
    "def sort_dict():\n",
    "    newDict = filter_dict()\n",
    "    import operator\n",
    "    sorted_list = sorted(newDict.items(), key=operator.itemgetter(1))\n",
    "    print(sorted_list)\n",
    "\n",
    "print(sort_dict())"
   ]
  },
  {
   "cell_type": "code",
   "execution_count": 9,
   "metadata": {},
   "outputs": [
    {
     "name": "stdout",
     "output_type": "stream",
     "text": [
      "['Ecuador', 'Peru', 'Saint Lucia', 'Iran', 'Vietnam', 'Tunisia', 'Algeria', 'Sri Lanka', 'Albania', 'North Macedonia', 'Colombia', 'Bosnia and Herzegovina', 'Morocco', 'China']\n"
     ]
    }
   ],
   "source": [
    "gdpData = generateData(\"./gdp.csv\");\n",
    "leData = generateData(\"./le.csv\");\n",
    "filteredData = stitchDict(gdpData, leData, lambda point: point[0] < 15000 and point[1] > 75);\n",
    "filteredData = list(filteredData.keys())\n",
    "print(filteredData);\n",
    "\n"
   ]
  },
  {
   "cell_type": "code",
   "execution_count": 10,
   "metadata": {
    "scrolled": false
   },
   "outputs": [
    {
     "data": {
      "image/png": "[encoded data removed]",
      "text/plain": [
       "<Figure size 432x288 with 1 Axes>"
      ]
     },
     "metadata": {
      "needs_background": "light"
     },
     "output_type": "display_data"
    },
    {
     "data": {
      "image/png": "[encoded data removed]",
      "text/plain": [
       "<Figure size 432x288 with 1 Axes>"
      ]
     },
     "metadata": {
      "needs_background": "light"
     },
     "output_type": "display_data"
    },
    {
     "data": {
      "image/png": "[encoded data removed]",
      "text/plain": [
       "<Figure size 432x288 with 1 Axes>"
      ]
     },
     "metadata": {
      "needs_background": "light"
     },
     "output_type": "display_data"
    }
   ],
   "source": [
    "plot(\"./gdp.csv\", \"GDP/Capita ($US)\", \"./le.csv\", \"Life Expectancy\");\n",
    "plot(\"./gdp.csv\", \"GDP/Capita ($US)\", \"./happy.csv\", \"Self Reported Happiness\");\n",
    "plot(\"./gdp.csv\", \"GDP/Capita ($US)\", \"./corrupt.csv\", \"Corruption Perception\");"
   ]
  },
  {
   "cell_type": "code",
   "execution_count": null,
   "metadata": {},
   "outputs": [],
   "source": []
  }
 ],
 "metadata": {
  "kernelspec": {
   "display_name": "Python 3",
   "language": "python",
   "name": "python3"
  },
  "language_info": {
   "codemirror_mode": {
    "name": "ipython",
    "version": 3
   },
   "file_extension": ".py",
   "mimetype": "text/x-python",
   "name": "python",
   "nbconvert_exporter": "python",
   "pygments_lexer": "ipython3",
   "version": "3.9.2"
  }
 },
 "nbformat": 4,
 "nbformat_minor": 4
}
