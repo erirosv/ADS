{
 "cells": [
  {
   "cell_type": "markdown",
   "metadata": {},
   "source": [
    "# Part 1: Evaluate Multi-class Taggers with Precision, Recall, and F1-score \n",
    "\n",
    "This part has 20 marks.\n",
    "\n",
    "Study this notebook: run the code which trains different classifiers and evaluates average performances with precision, recall and f1score. The code also reports the scores for each individual label in each model.\n",
    "\n",
    "Your task is to reimplement functions for accuracy_score, precision_score, recall_score, f1_score with options for multiple labels and mico- and macro-averaging for them. The answer should be a simplified form of the function in scikit-learn ([precision_score](https://scikit-learn.org/stable/modules/generated/sklearn.metrics.precision_score.html), [recall_score](https://scikit-learn.org/stable/modules/generated/sklearn.metrics.recall_score.html), [f1_score](https://scikit-learn.org/stable/modules/generated/sklearn.metrics.f1_score.html)). \n",
    "\n",
    "For details check out [Chapter 4 section 4.7](https://web.stanford.edu/~jurafsky/slp3/4.pdf) (Jurafsty and Martin; 2019).\n",
    "\n",
    "Add code to produce a confusion matrix \n",
    "\n",
    "Explain the effect of the backoff \n",
    "\n",
    "\n",
    "## Import Libraries"
   ]
  },
  {
   "cell_type": "code",
   "execution_count": 1,
   "metadata": {},
   "outputs": [
    {
     "name": "stderr",
     "output_type": "stream",
     "text": [
      "[nltk_data] Downloading package brown to /Users/ezz/nltk_data...\n",
      "[nltk_data]   Package brown is already up-to-date!\n",
      "[nltk_data] Downloading package averaged_perceptron_tagger to\n",
      "[nltk_data]     /Users/ezz/nltk_data...\n",
      "[nltk_data]   Package averaged_perceptron_tagger is already up-to-\n",
      "[nltk_data]       date!\n",
      "[nltk_data] Downloading package universal_tagset to\n",
      "[nltk_data]     /Users/ezz/nltk_data...\n",
      "[nltk_data]   Package universal_tagset is already up-to-date!\n"
     ]
    }
   ],
   "source": [
    "# Brown corpus:\n",
    "import nltk\n",
    "from nltk.corpus import brown\n",
    "\n",
    "# load a tagger models\n",
    "from nltk.tag.perceptron import PerceptronTagger\n",
    "# Naive Bayes MLE \n",
    "from nltk.tag.sequential import NgramTagger\n",
    "\n",
    "# tagset mapping:\n",
    "from nltk.tag.mapping import map_tag\n",
    "\n",
    "# plotting:\n",
    "from matplotlib import pyplot as plt\n",
    "\n",
    "# If you downloaded these corous before comment below lines\n",
    "nltk.download('brown')\n",
    "nltk.download('averaged_perceptron_tagger')\n",
    "nltk.download('universal_tagset')\n",
    "\n",
    "# you can compare you implementation with these\n",
    "# evaluation metrics:\n",
    "from sklearn.metrics import (\n",
    "    f1_score as _f1_score, \n",
    "    precision_score as _precision_score, \n",
    "    recall_score as _recall_score,\n",
    "    accuracy_score as _accuracy_score\n",
    ")\n",
    "\n",
    "import numpy as np"
   ]
  },
  {
   "cell_type": "markdown",
   "metadata": {},
   "source": [
    "## Prepare the training and testing dataset"
   ]
  },
  {
   "cell_type": "code",
   "execution_count": 2,
   "metadata": {},
   "outputs": [],
   "source": [
    "# split training and testing data:\n",
    "test_train_split = 500\n",
    "test_set = brown.tagged_sents()[:test_train_split]\n",
    "train_set = brown.tagged_sents()[test_train_split:]"
   ]
  },
  {
   "cell_type": "markdown",
   "metadata": {},
   "source": [
    "## Load or train the classifiers"
   ]
  },
  {
   "cell_type": "code",
   "execution_count": 3,
   "metadata": {},
   "outputs": [],
   "source": [
    "# load a pre-trained perceptron tagger:\n",
    "perceptron_tagger = PerceptronTagger()"
   ]
  },
  {
   "cell_type": "code",
   "execution_count": 4,
   "metadata": {},
   "outputs": [
    {
     "name": "stdout",
     "output_type": "stream",
     "text": [
      "CPU times: user 10.4 s, sys: 345 ms, total: 10.8 s\n",
      "Wall time: 10.8 s\n"
     ]
    }
   ],
   "source": [
    "%%time\n",
    "# train Naive Bayes / count-based ngram taggers:\n",
    "unigram_tagger = NgramTagger(1, train=train_set)\n",
    "bigram_tagger_nobackoff = NgramTagger(2, train=train_set)\n",
    "bigram_tagger = NgramTagger(2, train=train_set, backoff=unigram_tagger)\n",
    "trigram_tagger = NgramTagger(3, train=train_set, backoff=bigram_tagger)"
   ]
  },
  {
   "cell_type": "code",
   "execution_count": 5,
   "metadata": {},
   "outputs": [],
   "source": [
    "models = {\n",
    "    \"Perceptron\": perceptron_tagger, \n",
    "    \"Unigram\": unigram_tagger, \n",
    "    \"Bigram\": bigram_tagger, \n",
    "    \"Trigram\": trigram_tagger, \n",
    "    \"Bigram-backoff\": bigram_tagger_nobackoff, \n",
    "}"
   ]
  },
  {
   "cell_type": "markdown",
   "metadata": {},
   "source": [
    "## Evaluate the models\n",
    "\n",
    "The test dataset and the models are based on the English Penn TreeBank tagsets. However, we don't need that fine degree of granularity. Therefore, we map each tag onto unviversal tagset."
   ]
  },
  {
   "cell_type": "code",
   "execution_count": 6,
   "metadata": {},
   "outputs": [
    {
     "name": "stdout",
     "output_type": "stream",
     "text": [
      "['.', 'ADJ', 'ADP', 'ADV', 'CONJ', 'DET', 'NOUN', 'NUM', 'PRON', 'PRT', 'VERB', 'X']\n"
     ]
    }
   ],
   "source": [
    "# the ground truth labels according to the dataset:\n",
    "tags_true = [\n",
    "    map_tag(\"en-brown\", \"universal\", tag)\n",
    "    for tagged_sent in test_set\n",
    "    for word, tag in tagged_sent\n",
    "]\n",
    "\n",
    "# strip the tags:\n",
    "test_set_sents = [\n",
    "    [word for word, tag in tagged_sent]\n",
    "    for tagged_sent in test_set\n",
    "]\n",
    "\n",
    "tagset = sorted(list(set(tags_true)))\n",
    "print(tagset)"
   ]
  },
  {
   "cell_type": "code",
   "execution_count": 7,
   "metadata": {},
   "outputs": [],
   "source": [
    "def accuracy_score(y_true, y_pred):\n",
    "    \"\"\"\n",
    "    y_true : 1d array-like Ground truth (correct) target values.\n",
    "    y_pred : 1d array-like Estimated targets as returned by a classifier.\n",
    "    \"\"\"\n",
    "    #\n",
    "    # your code here\n",
    "    #\n",
    "    return # the overall accuracy score with exact match\n",
    "    \n",
    "def precision_score(y_true, y_pred, labels=None, average=None):\n",
    "    \"\"\"\n",
    "    y_true : 1d array-like Ground truth (correct) target values.\n",
    "    y_pred : 1d array-like Estimated targets as returned by a classifier.\n",
    "    labels : list of unique labels for sort out the result\n",
    "    average : string, ['micro', 'macro'] instead of defining labels.\n",
    "    \n",
    "    When true positive + false positive == 0 returns 0\n",
    "    \"\"\"\n",
    "    if labels is None:\n",
    "        if average == 'micro':\n",
    "            tp = sum([1 for i in range(len(y_true)) if y_true[i] == y_pred[i]])\n",
    "            fp = sum([1 for i in range(len(y_true)) if y_pred[i] and y_true[i] != y_pred[i]])\n",
    "            if tp + fp == 0:\n",
    "                return 0\n",
    "            return tp / (tp + fp)\n",
    "        elif average == 'macro':\n",
    "            precisions = []\n",
    "            for label in set(y_true):\n",
    "                tp = sum([1 for i in range(len(y_true)) if y_true[i] == y_pred[i] and y_true[i] == label])\n",
    "                fp = sum([1 for i in range(len(y_true)) if y_pred[i] == label and y_true[i] != y_pred[i]])\n",
    "                if tp + fp == 0:\n",
    "                    precisions.append(0)\n",
    "                else:\n",
    "                    precisions.append(tp / (tp + fp))\n",
    "            return sum(precisions) / len(precisions)\n",
    "    else:\n",
    "        precisions = []\n",
    "        for label in labels:\n",
    "            tp = sum([1 for i in range(len(y_true)) if y_true[i] == y_pred[i] and y_true[i] == label])\n",
    "            fp = sum([1 for i in range(len(y_true)) if y_pred[i] == label and y_true[i] != y_pred[i]])\n",
    "            if tp + fp == 0:\n",
    "                precisions.append(0)\n",
    "            else:\n",
    "                precisions.append(tp / (tp + fp))\n",
    "        return precisions\n",
    "\n",
    "def recall_score(y_true, y_pred, labels=None, average=None):\n",
    "    \"\"\"\n",
    "    y_true : 1d array-like Ground truth (correct) target values.\n",
    "    y_pred : 1d array-like Estimated targets as returned by a classifier.\n",
    "    labels : list of unique labels for sort out the result\n",
    "    average : string, ['micro', 'macro'] instead of defining labels.\n",
    "    \n",
    "    When true positive + false positive == 0 returns 0\n",
    "    \"\"\"\n",
    "    if labels is None:\n",
    "        if average == 'micro':\n",
    "            tp = sum([1 for i in range(len(y_true)) if y_true[i] == y_pred[i]])\n",
    "            fn = sum([1 for i in range(len(y_true)) if y_true[i] and y_true[i] != y_pred[i]])\n",
    "            if tp + fn == 0:\n",
    "                return 0\n",
    "            return tp / (tp + fn)\n",
    "        elif average == 'macro':\n",
    "            recalls = []\n",
    "            for label in set(y_true):\n",
    "                tp = sum([1 for i in range(len(y_true)) if y_true[i] == y_pred[i] and y_true[i] == label])\n",
    "                fn = sum([1 for i in range(len(y_true)) if y_true[i] == label and y_true[i] != y_pred[i]])\n",
    "                if tp + fn == 0:\n",
    "                    recalls.append(0)\n",
    "                else:\n",
    "                    recalls.append(tp / (tp + fn))\n",
    "            return sum(recalls) / len(recalls)\n",
    "    else:\n",
    "        recalls = []\n",
    "        for label in labels:\n",
    "            tp = sum([1 for i in range(len(y_true)) if y_true[i] == y_pred[i] and y_true[i] == label])\n",
    "            fn = sum([1 for i in range(len(y_true)) if y_true[i] == label and y_true[i] != y_pred[i]])\n",
    "            if tp + fn == 0:\n",
    "                recalls.append(0)\n",
    "            else:\n",
    "                recalls.append(tp / (tp + fn))\n",
    "        return recalls\n",
    "\n",
    "def f1_score(y_true, y_pred, labels=None, average=None):\n",
    "    \"\"\"\n",
    "    y_true : 1d array-like Ground truth (correct) target values.\n",
    "    y_pred : 1d array-like Estimated targets as returned by a classifier.\n",
    "    labels : list of unique labels for sort out the result\n",
    "    average : string, ['micro', 'macro'] instead of defining labels.\n",
    "    \"\"\"\n",
    "    # you can call recall_score and precision_score.\n",
    "    if labels is None:\n",
    "        if average == 'micro':\n",
    "            recall = recall_score(y_true, y_pred, average='micro')\n",
    "            precision = precision_score(y_true, y_pred, average='micro')\n",
    "            if recall + precision == 0:\n",
    "                return 0\n",
    "            return 2 * (recall * precision) / (recall + precision)\n",
    "        elif average == 'macro':\n",
    "            recall = recall_score(y_true, y_pred, average='macro')\n",
    "            precision = precision_score(y_true, y_pred, average='macro')\n",
    "            if recall + precision == 0:\n",
    "                return 0\n",
    "            return 2 * (recall * precision) / (recall + precision)\n",
    "    else:\n",
    "        f1_scores = []\n",
    "        for label in labels:\n",
    "            recall = recall_score(y_true, y_pred, labels=[label])\n",
    "            precision = precision_score(y_true, y_pred, labels=[label])\n",
    "            if recall + precision == 0:\n",
    "                f1_scores.append(0)\n",
    "            else:\n",
    "                f1_scores.append(2 * (recall * precision) / (recall + precision))\n",
    "        return f1_scores\n",
    "    \n",
    "\n",
    "def all_metrics(y_true, y_pred, labels=None, average=None):\n",
    "    # you can compare you implementation with these\n",
    "    return (\n",
    "        _precision_score(y_true, y_pred, labels=labels, average=average),\n",
    "        _recall_score(y_true, y_pred, labels=labels, average=average),\n",
    "        _f1_score(y_true, y_pred, labels=labels, average=average),\n",
    "        _accuracy_score(y_true, y_pred)\n",
    "    )\n",
    "    # remove the likes above and use the function calls below: \n",
    "    #return (\n",
    "    #    precision_score(y_true, y_pred, labels=labels, average=average),\n",
    "    #    recall_score(y_true, y_pred, labels=labels, average=average),\n",
    "    #    f1_score(y_true, y_pred, labels=labels, average=average),\n",
    "    #    accuracy_score(y_true, y_pred)\n",
    "    #)\n"
   ]
  },
  {
   "cell_type": "code",
   "execution_count": 8,
   "metadata": {},
   "outputs": [
    {
     "name": "stdout",
     "output_type": "stream",
     "text": [
      "              |       |         macro       |         micro\n",
      "  model name  |  acc  | preci  recal    f1  | preci  recal    f1\n",
      "----------------------------------------------------------\n",
      "Perceptron    | 93.66 | 86.17  88.79  87.23 | 93.66  93.66  93.66\n",
      "Unigram       | 93.30 | 86.11  94.57  86.09 | 93.30  93.30  93.30\n",
      "Bigram        | 94.40 | 87.36  94.11  86.71 | 94.40  94.40  94.40\n",
      "Trigram       | 94.54 | 87.53  94.48  86.97 | 94.54  94.54  94.54\n",
      "Bigram-backoff| 24.63 | 87.72  31.96  36.74 | 24.63  24.63  24.63\n"
     ]
    }
   ],
   "source": [
    "models_preds = dict()\n",
    "print(\"              |       |         macro       |         micro\")\n",
    "print(\"  model name  |  acc  | preci  recal    f1  | preci  recal    f1\")\n",
    "print(\"-\"*58)\n",
    "for model_name, model in models.items():\n",
    "    tags_pred = [\n",
    "        map_tag(\"en-ptb\", \"universal\", tag) if model_name == \"Perceptron\" else map_tag(\"en-brown\", \"universal\", tag)\n",
    "        for sent in test_set_sents\n",
    "        for word, tag in model.tag(sent)\n",
    "    ]\n",
    "    models_preds[model_name] = tags_pred\n",
    "    # print the results\n",
    "    \n",
    "    precision_macro, recall_macro, f1score_macro, accuracy = all_metrics(tags_true, tags_pred, average='macro')\n",
    "    precision_micro, recall_micro, f1score_micro, _ = all_metrics(tags_true, tags_pred, average='micro')\n",
    "    print(f\"{model_name:14}| {100*accuracy:5.2f} | {100*precision_macro:5.2f}  {100*recall_macro:5.2f}  {100*f1score_macro:5.2f} | {100*precision_micro:5.2f}  {100*recall_micro:5.2f}  {100*f1score_micro:5.2f}\")\n",
    "    "
   ]
  },
  {
   "cell_type": "code",
   "execution_count": 9,
   "metadata": {},
   "outputs": [
    {
     "name": "stdout",
     "output_type": "stream",
     "text": [
      "==================================================\n",
      "Perceptron\n",
      "\n",
      "tag\tprecision\trecall\tf1-score\n",
      "--------------------------------------------------\n",
      ".\t   100.00\t 99.76\t   99.88\n",
      "ADJ\t    83.18\t 80.25\t   81.69\n",
      "ADP\t    98.26\t 90.60\t   94.28\n",
      "ADV\t    89.88\t 89.88\t   89.88\n",
      "CONJ\t    99.61\t 99.61\t   99.61\n",
      "DET\t    95.98\t 92.34\t   94.12\n",
      "NOUN\t    94.26\t 97.28\t   95.74\n",
      "NUM\t    89.18\t 98.10\t   93.42\n",
      "PRON\t    72.41\t 97.15\t   82.98\n",
      "PRT\t    63.31\t 77.26\t   69.59\n",
      "VERB\t    98.00\t 93.24\t   95.56\n",
      "X\t    50.00\t 50.00\t   50.00\n",
      "==================================================\n",
      "==================================================\n",
      "Unigram\n",
      "\n",
      "tag\tprecision\trecall\tf1-score\n",
      "--------------------------------------------------\n",
      ".\t   100.00\t100.00\t  100.00\n",
      "ADJ\t    90.91\t 86.79\t   88.80\n",
      "ADP\t    97.30\t 91.13\t   94.11\n",
      "ADV\t    84.68\t 87.20\t   85.92\n",
      "CONJ\t    99.61\t100.00\t   99.80\n",
      "DET\t    99.78\t 99.56\t   99.67\n",
      "NOUN\t    96.41\t 90.59\t   93.41\n",
      "NUM\t    99.49\t 92.86\t   96.06\n",
      "PRON\t    99.64\t 97.15\t   98.38\n",
      "PRT\t    67.77\t 96.39\t   79.58\n",
      "VERB\t    96.45\t 93.14\t   94.76\n",
      "X\t     1.29\t100.00\t    2.54\n",
      "==================================================\n",
      "==================================================\n",
      "Bigram\n",
      "\n",
      "tag\tprecision\trecall\tf1-score\n",
      "--------------------------------------------------\n",
      ".\t   100.00\t100.00\t  100.00\n",
      "ADJ\t    93.51\t 90.57\t   92.01\n",
      "ADP\t    94.72\t 94.47\t   94.59\n",
      "ADV\t    91.24\t 89.88\t   90.55\n",
      "CONJ\t    99.22\t 99.61\t   99.41\n",
      "DET\t    99.71\t 99.78\t   99.74\n",
      "NOUN\t    97.79\t 91.80\t   94.70\n",
      "NUM\t    99.49\t 92.86\t   96.06\n",
      "PRON\t    97.16\t 97.51\t   97.34\n",
      "PRT\t    76.16\t 77.26\t   76.70\n",
      "VERB\t    98.05\t 95.62\t   96.82\n",
      "X\t     1.29\t100.00\t    2.55\n",
      "==================================================\n",
      "==================================================\n",
      "Trigram\n",
      "\n",
      "tag\tprecision\trecall\tf1-score\n",
      "--------------------------------------------------\n",
      ".\t   100.00\t100.00\t  100.00\n",
      "ADJ\t    93.73\t 90.31\t   91.99\n",
      "ADP\t    95.28\t 94.27\t   94.77\n",
      "ADV\t    91.82\t 90.18\t   90.99\n",
      "CONJ\t    99.61\t 99.61\t   99.61\n",
      "DET\t    99.56\t 99.71\t   99.64\n",
      "NOUN\t    97.94\t 91.94\t   94.84\n",
      "NUM\t    99.49\t 92.86\t   96.06\n",
      "PRON\t    96.18\t 98.58\t   97.36\n",
      "PRT\t    77.43\t 80.51\t   78.94\n",
      "VERB\t    98.06\t 95.83\t   96.93\n",
      "X\t     1.29\t100.00\t    2.55\n",
      "==================================================\n",
      "==================================================\n",
      "Bigram-backoff\n",
      "\n",
      "tag\tprecision\trecall\tf1-score\n",
      "--------------------------------------------------\n",
      ".\t   100.00\t 21.07\t   34.81\n",
      "ADJ\t    93.96\t 21.51\t   35.01\n",
      "ADP\t    95.39\t 22.07\t   35.84\n",
      "ADV\t    93.86\t 31.85\t   47.56\n",
      "CONJ\t   100.00\t 16.54\t   28.38\n",
      "DET\t    99.79\t 35.04\t   51.86\n",
      "NOUN\t    98.43\t 21.06\t   34.70\n",
      "NUM\t   100.00\t 23.33\t   37.84\n",
      "PRON\t    98.40\t 43.77\t   60.59\n",
      "PRT\t    73.68\t 20.22\t   31.73\n",
      "VERB\t    99.03\t 27.03\t   42.47\n",
      "X\t     0.05\t100.00\t    0.09\n",
      "==================================================\n"
     ]
    }
   ],
   "source": [
    "for model_name, tags_pred in models_preds.items():\n",
    "    print('='*50)\n",
    "    print(model_name)\n",
    "    print('')\n",
    "    precisions, recalls, f1scores, _ = all_metrics(tags_true, tags_pred, labels=tagset)\n",
    "    print(\"tag\\tprecision\\trecall\\tf1-score\")\n",
    "    print(\"-\"*50)\n",
    "    for tag, precision, recall, f1score in zip(tagset, precisions, recalls, f1scores):\n",
    "        print(f\"{tag}\\t{100*precision:9.2f}\\t{100*recall:6.2f}\\t{100*f1score:8.2f}\")\n",
    "    print('='*50)"
   ]
  },
  {
   "cell_type": "code",
   "execution_count": 10,
   "metadata": {},
   "outputs": [
    {
     "data": {
      "image/png": "[encoded data removed]",
      "text/plain": [
       "<Figure size 750x750 with 1 Axes>"
      ]
     },
     "metadata": {},
     "output_type": "display_data"
    }
   ],
   "source": [
    "# Add confusion matrix here\n",
    "from sklearn import datasets\n",
    "from sklearn.model_selection import train_test_split\n",
    "from sklearn.preprocessing import StandardScaler\n",
    "from sklearn.ensemble import RandomForestClassifier\n",
    "from sklearn.pipeline import make_pipeline\n",
    "from sklearn.metrics import confusion_matrix\n",
    "\n",
    "\n",
    "conf_matrix = confusion_matrix(y_true=tags_true, y_pred=tags_pred)\n",
    "fig, ax = plt.subplots(figsize=(7.5, 7.5))\n",
    "ax.matshow(conf_matrix, cmap=plt.cm.Blues, alpha=0.3)\n",
    "for i in range(conf_matrix.shape[0]):\n",
    "    for j in range(conf_matrix.shape[1]):\n",
    "        ax.text(x=j, y=i,s=conf_matrix[i, j], va='center', ha='center', size='xx-large')\n",
    " \n",
    "plt.xlabel('Predictions', fontsize=18)\n",
    "plt.ylabel('Actuals', fontsize=18)\n",
    "plt.title('Confusion Matrix', fontsize=18)\n",
    "plt.show()"
   ]
  },
  {
   "cell_type": "markdown",
   "metadata": {},
   "source": [
    "## Backoff\n",
    "\n",
    "Compare the result of the bigram models (with and without backoff). In one or two sentences, explain why backoff is important for the n-gram models? Why tagging works better with backoff?\n",
    "\n",
    "For more details check out the definition of backoff in [Chapter 3 section 3.4.3](https://web.stanford.edu/~jurafsky/slp3/3.pdf) (Jurafsty and Martin; 2019)."
   ]
  },
  {
   "attachments": {},
   "cell_type": "markdown",
   "metadata": {},
   "source": [
    "**ANSWER:** Backoff is important for the n-gram models because it allows the model to fall back on less specific \n",
    "information (i.e. unigrams) when it encounters unseen bigrams. This helps to reduce the sparsity of \n",
    "the data and improve the overall performance of the model."
   ]
  },
  {
   "cell_type": "markdown",
   "metadata": {},
   "source": []
  }
 ],
 "metadata": {
  "kernelspec": {
   "display_name": "Python 3",
   "language": "python",
   "name": "python3"
  },
  "language_info": {
   "codemirror_mode": {
    "name": "ipython",
    "version": 3
   },
   "file_extension": ".py",
   "mimetype": "text/x-python",
   "name": "python",
   "nbconvert_exporter": "python",
   "pygments_lexer": "ipython3",
   "version": "3.10.6 (v3.10.6:9c7b4bd164, Aug  1 2022, 17:13:48) [Clang 13.0.0 (clang-1300.0.29.30)]"
  },
  "vscode": {
   "interpreter": {
    "hash": "aee8b7b246df8f9039afb4144a1f6fd8d2ca17a180786b69acc140d282b71a49"
   }
  }
 },
 "nbformat": 4,
 "nbformat_minor": 4
}
