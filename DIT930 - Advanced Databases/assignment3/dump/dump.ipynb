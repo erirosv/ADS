{
 "cells": [
  {
   "cell_type": "code",
   "execution_count": 1,
   "id": "5af627d7-082e-446a-b204-7ff493ac6b99",
   "metadata": {},
   "outputs": [],
   "source": [
    "def student_data(n, sid) -> str:\n",
    "    ins = 'INSERT DATA {'\n",
    "    line_1 = ':' + n + ' rdf:type ' +  ':individual ;'\n",
    "    line_2 = \":hasID '\" + sid + \"' ;\"\n",
    "    line_3 = \":hasName '\" + n + \"' .\"\n",
    "    ins_end = '}' \n",
    "    con_strs = ins + line_1 + line_2 + line_3 + ins_end\n",
    "    return con_strs"
   ]
  },
  {
   "cell_type": "code",
   "execution_count": 2,
   "id": "4913400a-f08c-4d25-8e4a-6054b7037885",
   "metadata": {},
   "outputs": [
    {
     "ename": "NameError",
     "evalue": "name 'db' is not defined",
     "output_type": "error",
     "traceback": [
      "\u001b[1;31m---------------------------------------------------------------------------\u001b[0m",
      "\u001b[1;31mNameError\u001b[0m                                 Traceback (most recent call last)",
      "Input \u001b[1;32mIn [2]\u001b[0m, in \u001b[0;36m<module>\u001b[1;34m\u001b[0m\n\u001b[1;32m----> 1\u001b[0m \u001b[43mdb\u001b[49m\u001b[38;5;241m.\u001b[39msetQuery(\u001b[38;5;124m'''\u001b[39m\n\u001b[0;32m      2\u001b[0m \u001b[38;5;124m                prefix : <http://www.semanticweb.org/huiqing/ontologies/2022/3/untitled-ontology-2#> .\u001b[39m\n\u001b[0;32m      3\u001b[0m \u001b[38;5;124m                prefix owl: <http://www.w3.org/2002/07/owl#> .\u001b[39m\n\u001b[0;32m      4\u001b[0m \u001b[38;5;124m                prefix rdf: <http://www.w3.org/1999/02/22-rdf-syntax-ns#> .\u001b[39m\n\u001b[0;32m      5\u001b[0m \u001b[38;5;124m                prefix xml: <http://www.w3.org/XML/1998/namespace> .\u001b[39m\n\u001b[0;32m      6\u001b[0m \u001b[38;5;124m                prefix xsd: <http://www.w3.org/2001/XMLSchema#> .\u001b[39m\n\u001b[0;32m      7\u001b[0m \u001b[38;5;124m                prefix rdfs: <http://www.w3.org/2000/01/rdf-schema#> . \u001b[39m\n\u001b[0;32m      8\u001b[0m \u001b[38;5;124m                \u001b[39m\n\u001b[0;32m      9\u001b[0m \u001b[38;5;124m                INSERT DATA \u001b[39m\u001b[38;5;124m{\u001b[39m\n\u001b[0;32m     10\u001b[0m \u001b[38;5;124m                    :GK rdf:Type Student ;\u001b[39m\n\u001b[0;32m     11\u001b[0m \u001b[38;5;124m                    \u001b[39m\n\u001b[0;32m     12\u001b[0m \u001b[38;5;124m                \u001b[39m\u001b[38;5;124m'''\u001b[39m)\n",
      "\u001b[1;31mNameError\u001b[0m: name 'db' is not defined"
     ]
    }
   ],
   "source": [
    "db.setQuery('''\n",
    "                prefix : <http://www.semanticweb.org/huiqing/ontologies/2022/3/untitled-ontology-2#> .\n",
    "                prefix owl: <http://www.w3.org/2002/07/owl#> .\n",
    "                prefix rdf: <http://www.w3.org/1999/02/22-rdf-syntax-ns#> .\n",
    "                prefix xml: <http://www.w3.org/XML/1998/namespace> .\n",
    "                prefix xsd: <http://www.w3.org/2001/XMLSchema#> .\n",
    "                prefix rdfs: <http://www.w3.org/2000/01/rdf-schema#> . \n",
    "                \n",
    "                INSERT DATA {\n",
    "                    :GK rdf:Type Student ;\n",
    "                    \n",
    "                ''')"
   ]
  },
  {
   "cell_type": "code",
   "execution_count": null,
   "id": "755bed99-b896-4c2d-9781-7538955c0ef0",
   "metadata": {},
   "outputs": [],
   "source": []
  }
 ],
 "metadata": {
  "kernelspec": {
   "display_name": "Python 3 (ipykernel)",
   "language": "python",
   "name": "python3"
  },
  "language_info": {
   "codemirror_mode": {
    "name": "ipython",
    "version": 3
   },
   "file_extension": ".py",
   "mimetype": "text/x-python",
   "name": "python",
   "nbconvert_exporter": "python",
   "pygments_lexer": "ipython3",
   "version": "3.10.0"
  }
 },
 "nbformat": 4,
 "nbformat_minor": 5
}
