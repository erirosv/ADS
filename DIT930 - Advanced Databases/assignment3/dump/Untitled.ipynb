{
 "cells": [
  {
   "cell_type": "code",
   "execution_count": 1,
   "id": "bfd6b2c9-9930-4f23-b845-2c1184fa99ae",
   "metadata": {},
   "outputs": [],
   "source": [
    "# importing libraries\n",
    "import pandas as pd\n",
    "import requests\n",
    "from SPARQLWrapper import SPARQLWrapper, BASIC"
   ]
  },
  {
   "cell_type": "code",
   "execution_count": 2,
   "id": "754caba6-088d-459d-bbd3-87db6fe1043a",
   "metadata": {},
   "outputs": [],
   "source": [
    "# reading the csv-files\n",
    "courses = pd.read_csv('csv/Courses.csv')\n",
    "assigned_hours = pd.read_csv('csv/Assigned_Hours.csv')\n",
    "course_plannings = pd.read_csv('csv/Course_Plannings.csv')\n",
    "programme_courses = pd.read_csv('csv/Programme_Courses.csv')\n",
    "programmes = pd.read_csv('csv/Programmes.csv')\n",
    "registrations = pd.read_csv('csv/Registrations.csv')\n",
    "reported_hours = pd.read_csv('csv/Reported_Hours.csv')\n",
    "senior_teachers = pd.read_csv('csv/Senior_Teachers.csv')\n",
    "students = pd.read_csv('csv/Students.csv')\n",
    "teaching_assistants = pd.read_csv('csv/Teaching_Assistants.csv')"
   ]
  },
  {
   "cell_type": "code",
   "execution_count": 36,
   "id": "5e6b7993-893d-4dc8-8873-92bb35f18a14",
   "metadata": {},
   "outputs": [],
   "source": [
    "def prefixes() -> str:\n",
    "    ss = '''prefix : <http://www.semanticweb.org/huiqing/ontologies/2022/3/untitled-ontology-2#> \n",
    "        prefix owl: <http://www.w3.org/2002/07/owl#> \n",
    "        prefix rdf: <http://www.w3.org/1999/02/22-rdf-syntax-ns#> \n",
    "        prefix xml: <http://www.w3.org/XML/1998/namespace> \n",
    "        prefix xsd: <http://www.w3.org/2001/XMLSchema#> \n",
    "        prefix rdfs: <http://www.w3.org/2000/01/rdf-schema#>                     \n",
    "    '''\n",
    "    return ss\n",
    "\n"
   ]
  },
  {
   "cell_type": "code",
   "execution_count": null,
   "id": "1e8e820f-073a-46dc-8116-1c797bbb375f",
   "metadata": {},
   "outputs": [],
   "source": [
    "\n",
    "qq = prefixes()\n",
    "sparql = SPARQLWrapper('http://Ezz:7200/repositories/assignment3/statements')\n",
    "for index, row in students.iterrows():\n",
    "    curr = row\n",
    "    qstring = \"\"\"INSERT DATA {\n",
    "                    :%s rdf:type :Individual ; \n",
    "                    :hasID '%s' ; \n",
    "                    :hasName '%s' .\n",
    "                }\"\"\" %(curr['Student id'],curr['Student id'], curr['Student name'])\n",
    "    sparql.method = 'POST'\n",
    "    sparql.setQuery(qq + qstring)\n",
    "    sparql.queryType = \"INSERT\"\n",
    "    res = sparql.query()"
   ]
  },
  {
   "cell_type": "code",
   "execution_count": 17,
   "id": "6e5a9c78-abf1-403f-ab33-c3f5a76597fa",
   "metadata": {},
   "outputs": [
    {
     "name": "stdout",
     "output_type": "stream",
     "text": [
      "Student name        Student 1\n",
      "Student id      19980118-0000\n",
      "Programme               10012\n",
      "Year                     2021\n",
      "Graduated               False\n",
      "Name: 0, dtype: object\n"
     ]
    },
    {
     "ename": "TypeError",
     "evalue": "'int' object is not subscriptable",
     "output_type": "error",
     "traceback": [
      "\u001b[1;31m---------------------------------------------------------------------------\u001b[0m",
      "\u001b[1;31mTypeError\u001b[0m                                 Traceback (most recent call last)",
      "Input \u001b[1;32mIn [17]\u001b[0m, in \u001b[0;36m<module>\u001b[1;34m\u001b[0m\n\u001b[0;32m      5\u001b[0m \u001b[38;5;28mprint\u001b[39m(row[\u001b[38;5;241m1\u001b[39m])\n\u001b[0;32m      6\u001b[0m curr \u001b[38;5;241m=\u001b[39m row[index]\n\u001b[0;32m      7\u001b[0m qstring \u001b[38;5;241m=\u001b[39m \u001b[38;5;124m\"\"\"\u001b[39m\u001b[38;5;124mINSERT DATA \u001b[39m\u001b[38;5;124m{\u001b[39m\n\u001b[0;32m      8\u001b[0m \u001b[38;5;124m                :\u001b[39m\u001b[38;5;124m'\u001b[39m\u001b[38;5;132;01m%s\u001b[39;00m\u001b[38;5;124m'\u001b[39m\u001b[38;5;124m :rdf:Type :Individual ; \u001b[39m\n\u001b[0;32m      9\u001b[0m \u001b[38;5;124m                :hasID :\u001b[39m\u001b[38;5;124m'\u001b[39m\u001b[38;5;132;01m%s\u001b[39;00m\u001b[38;5;124m'\u001b[39m\u001b[38;5;124m ; \u001b[39m\n\u001b[0;32m     10\u001b[0m \u001b[38;5;124m                :hasName \u001b[39m\u001b[38;5;124m'\u001b[39m\u001b[38;5;132;01m%s\u001b[39;00m\u001b[38;5;124m'\u001b[39m\u001b[38;5;124m .\u001b[39m\n\u001b[1;32m---> 11\u001b[0m \u001b[38;5;124m            }\u001b[39m\u001b[38;5;124m\"\"\"\u001b[39m \u001b[38;5;241m%\u001b[39m(\u001b[43mcurr\u001b[49m\u001b[43m[\u001b[49m\u001b[38;5;124;43m'\u001b[39;49m\u001b[38;5;124;43mStudent id\u001b[39;49m\u001b[38;5;124;43m'\u001b[39;49m\u001b[43m]\u001b[49m,index[\u001b[38;5;124m'\u001b[39m\u001b[38;5;124mStudent id\u001b[39m\u001b[38;5;124m'\u001b[39m], index[\u001b[38;5;124m'\u001b[39m\u001b[38;5;124mStudent name\u001b[39m\u001b[38;5;124m'\u001b[39m])\n\u001b[0;32m     12\u001b[0m sparql\u001b[38;5;241m.\u001b[39mmethod \u001b[38;5;241m=\u001b[39m \u001b[38;5;124m'\u001b[39m\u001b[38;5;124mPOST\u001b[39m\u001b[38;5;124m'\u001b[39m\n\u001b[0;32m     13\u001b[0m sparql\u001b[38;5;241m.\u001b[39msetQuery(qq \u001b[38;5;241m+\u001b[39m qstring)\n",
      "\u001b[1;31mTypeError\u001b[0m: 'int' object is not subscriptable"
     ]
    }
   ],
   "source": [
    "qq = prefixes()\n",
    "sparql = SPARQLWrapper('http://Ezz:7200/repositories/assignment3/statements')\n",
    "s1 = \"INSERT DATA {\"\n",
    "s2 = \"}\"\n",
    "qstring = \"\"\n",
    "for index, row in students.iterrows():\n",
    "    qstring = \"\"\n",
    "    curr = row\n",
    "    qstring += \":%s rdf:type :Individual ; \"%curr['Student id']\n",
    "    qstring += \":hasID '%s' ; \"%curr['Student id']\n",
    "    qstring += \":hasName '%s' .\"%curr['Student name']\n",
    "                \n",
    "sparql.method = 'POST'\n",
    "sparql.setQuery(qq + s1 + qstring + s2)\n",
    "sparql.queryType = \"INSERT\"\n",
    "res = sparql.query()"
   ]
  },
  {
   "cell_type": "code",
   "execution_count": null,
   "id": "d84bbf86-d602-4834-9e09-3e5a9a2ed3b6",
   "metadata": {},
   "outputs": [],
   "source": []
  }
 ],
 "metadata": {
  "kernelspec": {
   "display_name": "Python 3 (ipykernel)",
   "language": "python",
   "name": "python3"
  },
  "language_info": {
   "codemirror_mode": {
    "name": "ipython",
    "version": 3
   },
   "file_extension": ".py",
   "mimetype": "text/x-python",
   "name": "python",
   "nbconvert_exporter": "python",
   "pygments_lexer": "ipython3",
   "version": "3.10.0"
  }
 },
 "nbformat": 4,
 "nbformat_minor": 5
}
