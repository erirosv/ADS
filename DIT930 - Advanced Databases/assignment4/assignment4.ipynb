{
 "cells": [
  {
   "cell_type": "markdown",
   "id": "9b128b1c-f1c6-405c-a978-a75772961132",
   "metadata": {},
   "source": [
    "# Assignmet 4"
   ]
  },
  {
   "cell_type": "code",
   "execution_count": 9,
   "id": "60ab7e47-5e0e-4126-9148-6f875b367a37",
   "metadata": {},
   "outputs": [],
   "source": [
    "import pandas as pd"
   ]
  },
  {
   "cell_type": "code",
   "execution_count": 10,
   "id": "62918cb3-610a-4d32-b95a-42e7b14326e3",
   "metadata": {},
   "outputs": [],
   "source": [
    "# reading the csv-files\n",
    "courses = pd.read_csv('csv/Courses.csv')\n",
    "assigned_hours = pd.read_csv('csv/Assigned_Hours.csv')\n",
    "course_plannings = pd.read_csv('csv/Course_Plannings.csv')\n",
    "programme_courses = pd.read_csv('csv/Programme_Courses.csv')\n",
    "programmes = pd.read_csv('csv/Programmes.csv')\n",
    "registrations = pd.read_csv('csv/Registrations.csv')\n",
    "reported_hours = pd.read_csv('csv/Reported_Hours.csv')\n",
    "senior_teachers = pd.read_csv('csv/Senior_Teachers.csv')\n",
    "students = pd.read_csv('csv/Students.csv')\n",
    "teaching_assistants = pd.read_csv('csv/Teaching_Assistants.csv')\n",
    "course_instances = pd.read_csv('csv/Course_Instances.csv')"
   ]
  },
  {
   "cell_type": "code",
   "execution_count": 2,
   "id": "0ff0dbb3-956b-4f50-be7c-ebea28a2a9a3",
   "metadata": {},
   "outputs": [],
   "source": [
    "import numpy as np"
   ]
  },
  {
   "cell_type": "code",
   "execution_count": null,
   "id": "1d842490",
   "metadata": {},
   "outputs": [],
   "source": []
  }
 ],
 "metadata": {
  "interpreter": {
   "hash": "3aa0b2185e0f6134067511834bb42abda92533d9ffb47e28d6865b9582a8bd05"
  },
  "kernelspec": {
   "display_name": "Python 3.10.4 64-bit",
   "language": "python",
   "name": "python3"
  },
  "language_info": {
   "codemirror_mode": {
    "name": "ipython",
    "version": 3
   },
   "file_extension": ".py",
   "mimetype": "text/x-python",
   "name": "python",
   "nbconvert_exporter": "python",
   "pygments_lexer": "ipython3",
   "version": "3.10.4"
  }
 },
 "nbformat": 4,
 "nbformat_minor": 5
}
