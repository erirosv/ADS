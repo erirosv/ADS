{
 "cells": [
  {
   "cell_type": "markdown",
   "metadata": {
    "cell_id": "76901191-c542-41a2-9968-53de5e5c1698",
    "deepnote_cell_type": "markdown",
    "tags": []
   },
   "source": [
    "## Task 1: Working with a dataset with categorical features\n",
    "\n",
    "In Assignment 1, we didn't have to do much preprocessing, because all the features in the two datasets were numerical. (Actually, in the second dataset, we removed all non-numerical features.) In this assignment, we'll instead consider how to deal with non-numerical features.\n",
    "\n",
    "We'll use the famous Adult dataset. This is a binary classification task, where our task is to predict whether an American individual earns more than $50,000 a year, given a number of numerical and categorical features. (The dataset was extracted from a 1994 census database.)\n",
    "\n",
    "### Step 1. Reading the data\n",
    "\n",
    "Please download the two CSV files, the training set and the test set, and save them into your working directory This is the official train/test split defined by the people who created the dataset. It's the same data as in the the public distribution, except that we converted the format into a standard CSV format.\n",
    "\n",
    "1. Write code to read the CSV file, for instance by using Pandas as in Assignment 1. \n",
    "2. Then split the data into an input part X and an output part Y. The output variable, which the classifier will predict, is called target.\n",
    "\n",
    "\n",
    "\n"
   ]
  },
  {
   "cell_type": "code",
   "execution_count": null,
   "metadata": {
    "cell_id": "00001-9051a852-2498-4365-be5a-d091b8ff089c",
    "deepnote_cell_type": "code",
    "deepnote_to_be_reexecuted": false,
    "execution_millis": 4,
    "execution_start": 1643357852640,
    "source_hash": "1c7f366",
    "tags": []
   },
   "outputs": [],
   "source": [
    "# import required libs\n",
    "import pandas as pd\n",
    "import numpy as np\n",
    "from sklearn.pipeline import make_pipeline\n",
    "from sklearn.feature_extraction import DictVectorizer\n",
    "from sklearn.model_selection import cross_val_score\n",
    "from sklearn.metrics import accuracy_score\n",
    "from sklearn.dummy import DummyClassifier\n",
    "from sklearn.ensemble import RandomForestClassifier\n",
    "from sklearn.tree import DecisionTreeClassifier\n",
    "from sklearn.preprocessing import StandardScaler\n",
    "from sklearn.feature_selection import SelectKBest\n",
    "from sklearn.model_selection import GridSearchCV\n",
    "from sklearn.model_selection import RandomizedSearchCV\n",
    "from scipy.stats import expon"
   ]
  },
  {
   "cell_type": "code",
   "execution_count": null,
   "metadata": {
    "cell_id": "00002-3851781f-a59f-47e9-b717-ed61d07737e3",
    "deepnote_cell_type": "code",
    "deepnote_to_be_reexecuted": false,
    "execution_millis": 58,
    "execution_start": 1643359286735,
    "source_hash": "a996211d",
    "tags": []
   },
   "outputs": [],
   "source": [
    "# Import csv file for Training data\n",
    "train = pd.read_csv('adult_train.csv')\n",
    "\n",
    "# Import csv file for Test data\n",
    "test = pd.read_csv('adult_test.csv')\n",
    "\n",
    "# Shuffle the dataset.\n",
    "train_shuffled = train.sample(frac=1.0, random_state=0)\n",
    "test_shuffled = test.sample(frac=1.0, random_state=0)\n",
    "\n",
    "# Split into input part X and output part Y.\n",
    "Xtrain = train_shuffled.drop('target', axis=1)\n",
    "Ytrain = train_shuffled['target']\n",
    "Xtest = test_shuffled.drop('target', axis=1)\n",
    "Ytest = test_shuffled['target']"
   ]
  },
  {
   "cell_type": "code",
   "execution_count": null,
   "metadata": {
    "cell_id": "00003-cd79862d-d667-4d0d-8191-9d8ba2ff9afe",
    "deepnote_cell_type": "code",
    "deepnote_output_heights": [
     119
    ],
    "deepnote_to_be_reexecuted": false,
    "execution_millis": 31,
    "execution_start": 1643298798637,
    "source_hash": "5bacfead",
    "tags": []
   },
   "outputs": [
    {
     "data": {
      "application/vnd.deepnote.dataframe.v3+json": {
       "column_count": 13,
       "columns": [
        {
         "dtype": "int64",
         "name": "age",
         "stats": {
          "histogram": [
           {
            "bin_end": 32.8,
            "bin_start": 31,
            "count": 1
           },
           {
            "bin_end": 34.6,
            "bin_start": 32.8,
            "count": 0
           },
           {
            "bin_end": 36.4,
            "bin_start": 34.6,
            "count": 0
           },
           {
            "bin_end": 38.2,
            "bin_start": 36.4,
            "count": 0
           },
           {
            "bin_end": 40,
            "bin_start": 38.2,
            "count": 0
           },
           {
            "bin_end": 41.8,
            "bin_start": 40,
            "count": 0
           },
           {
            "bin_end": 43.6,
            "bin_start": 41.8,
            "count": 0
           },
           {
            "bin_end": 45.4,
            "bin_start": 43.6,
            "count": 0
           },
           {
            "bin_end": 47.2,
            "bin_start": 45.4,
            "count": 0
           },
           {
            "bin_end": 49,
            "bin_start": 47.2,
            "count": 2
           }
          ],
          "max": "49",
          "min": "31",
          "nan_count": 0,
          "unique_count": 2
         }
        },
        {
         "dtype": "object",
         "name": "workclass",
         "stats": {
          "categories": [
           {
            "count": 2,
            "name": "Private"
           },
           {
            "count": 1,
            "name": "Local-gov"
           }
          ],
          "nan_count": 0,
          "unique_count": 2
         }
        },
        {
         "dtype": "object",
         "name": "education",
         "stats": {
          "categories": [
           {
            "count": 2,
            "name": "HS-grad"
           },
           {
            "count": 1,
            "name": "Prof-school"
           }
          ],
          "nan_count": 0,
          "unique_count": 2
         }
        },
        {
         "dtype": "int64",
         "name": "education-num",
         "stats": {
          "histogram": [
           {
            "bin_end": 9.6,
            "bin_start": 9,
            "count": 2
           },
           {
            "bin_end": 10.2,
            "bin_start": 9.6,
            "count": 0
           },
           {
            "bin_end": 10.8,
            "bin_start": 10.2,
            "count": 0
           },
           {
            "bin_end": 11.4,
            "bin_start": 10.8,
            "count": 0
           },
           {
            "bin_end": 12,
            "bin_start": 11.4,
            "count": 0
           },
           {
            "bin_end": 12.6,
            "bin_start": 12,
            "count": 0
           },
           {
            "bin_end": 13.2,
            "bin_start": 12.6,
            "count": 0
           },
           {
            "bin_end": 13.8,
            "bin_start": 13.2,
            "count": 0
           },
           {
            "bin_end": 14.399999999999999,
            "bin_start": 13.8,
            "count": 0
           },
           {
            "bin_end": 15,
            "bin_start": 14.399999999999999,
            "count": 1
           }
          ],
          "max": "15",
          "min": "9",
          "nan_count": 0,
          "unique_count": 2
         }
        },
        {
         "dtype": "object",
         "name": "marital-status",
         "stats": {
          "categories": [
           {
            "count": 1,
            "name": "Married-civ-spouse"
           },
           {
            "count": 1,
            "name": "Divorced"
           },
           {
            "count": 1,
            "name": "Never-married"
           }
          ],
          "nan_count": 0,
          "unique_count": 3
         }
        },
        {
         "dtype": "object",
         "name": "occupation",
         "stats": {
          "categories": [
           {
            "count": 1,
            "name": "Transport-moving"
           },
           {
            "count": 1,
            "name": "Other-service"
           },
           {
            "count": 1,
            "name": "Prof-specialty"
           }
          ],
          "nan_count": 0,
          "unique_count": 3
         }
        },
        {
         "dtype": "object",
         "name": "relationship",
         "stats": {
          "categories": [
           {
            "count": 2,
            "name": "Not-in-family"
           },
           {
            "count": 1,
            "name": "Husband"
           }
          ],
          "nan_count": 0,
          "unique_count": 2
         }
        },
        {
         "dtype": "object",
         "name": "race",
         "stats": {
          "categories": [
           {
            "count": 2,
            "name": "White"
           },
           {
            "count": 1,
            "name": "Black"
           }
          ],
          "nan_count": 0,
          "unique_count": 2
         }
        },
        {
         "dtype": "object",
         "name": "sex",
         "stats": {
          "categories": [
           {
            "count": 2,
            "name": "Male"
           },
           {
            "count": 1,
            "name": "Female"
           }
          ],
          "nan_count": 0,
          "unique_count": 2
         }
        },
        {
         "dtype": "int64",
         "name": "capital-gain",
         "stats": {
          "histogram": [
           {
            "bin_end": -0.4,
            "bin_start": -0.5,
            "count": 0
           },
           {
            "bin_end": -0.3,
            "bin_start": -0.4,
            "count": 0
           },
           {
            "bin_end": -0.19999999999999996,
            "bin_start": -0.3,
            "count": 0
           },
           {
            "bin_end": -0.09999999999999998,
            "bin_start": -0.19999999999999996,
            "count": 0
           },
           {
            "bin_end": 0,
            "bin_start": -0.09999999999999998,
            "count": 0
           },
           {
            "bin_end": 0.10000000000000009,
            "bin_start": 0,
            "count": 3
           },
           {
            "bin_end": 0.20000000000000007,
            "bin_start": 0.10000000000000009,
            "count": 0
           },
           {
            "bin_end": 0.30000000000000004,
            "bin_start": 0.20000000000000007,
            "count": 0
           },
           {
            "bin_end": 0.4,
            "bin_start": 0.30000000000000004,
            "count": 0
           },
           {
            "bin_end": 0.5,
            "bin_start": 0.4,
            "count": 0
           }
          ],
          "max": "0",
          "min": "0",
          "nan_count": 0,
          "unique_count": 1
         }
        },
        {
         "dtype": "int64",
         "name": "capital-loss",
         "stats": {
          "histogram": [
           {
            "bin_end": -0.4,
            "bin_start": -0.5,
            "count": 0
           },
           {
            "bin_end": -0.3,
            "bin_start": -0.4,
            "count": 0
           },
           {
            "bin_end": -0.19999999999999996,
            "bin_start": -0.3,
            "count": 0
           },
           {
            "bin_end": -0.09999999999999998,
            "bin_start": -0.19999999999999996,
            "count": 0
           },
           {
            "bin_end": 0,
            "bin_start": -0.09999999999999998,
            "count": 0
           },
           {
            "bin_end": 0.10000000000000009,
            "bin_start": 0,
            "count": 3
           },
           {
            "bin_end": 0.20000000000000007,
            "bin_start": 0.10000000000000009,
            "count": 0
           },
           {
            "bin_end": 0.30000000000000004,
            "bin_start": 0.20000000000000007,
            "count": 0
           },
           {
            "bin_end": 0.4,
            "bin_start": 0.30000000000000004,
            "count": 0
           },
           {
            "bin_end": 0.5,
            "bin_start": 0.4,
            "count": 0
           }
          ],
          "max": "0",
          "min": "0",
          "nan_count": 0,
          "unique_count": 1
         }
        },
        {
         "dtype": "int64",
         "name": "hours-per-week",
         "stats": {
          "histogram": [
           {
            "bin_end": 41,
            "bin_start": 40,
            "count": 2
           },
           {
            "bin_end": 42,
            "bin_start": 41,
            "count": 0
           },
           {
            "bin_end": 43,
            "bin_start": 42,
            "count": 0
           },
           {
            "bin_end": 44,
            "bin_start": 43,
            "count": 0
           },
           {
            "bin_end": 45,
            "bin_start": 44,
            "count": 0
           },
           {
            "bin_end": 46,
            "bin_start": 45,
            "count": 0
           },
           {
            "bin_end": 47,
            "bin_start": 46,
            "count": 0
           },
           {
            "bin_end": 48,
            "bin_start": 47,
            "count": 0
           },
           {
            "bin_end": 49,
            "bin_start": 48,
            "count": 0
           },
           {
            "bin_end": 50,
            "bin_start": 49,
            "count": 1
           }
          ],
          "max": "50",
          "min": "40",
          "nan_count": 0,
          "unique_count": 2
         }
        },
        {
         "dtype": "object",
         "name": "native-country",
         "stats": {
          "categories": [
           {
            "count": 3,
            "name": "United-States"
           }
          ],
          "nan_count": 0,
          "unique_count": 1
         }
        },
        {
         "dtype": "int64",
         "name": "_deepnote_index_column"
        }
       ],
       "row_count": 3,
       "rows": [
        {
         "_deepnote_index_column": 22278,
         "age": 49,
         "capital-gain": 0,
         "capital-loss": 0,
         "education": "HS-grad",
         "education-num": 9,
         "hours-per-week": 40,
         "marital-status": "Married-civ-spouse",
         "native-country": "United-States",
         "occupation": "Transport-moving",
         "race": "White",
         "relationship": "Husband",
         "sex": "Male",
         "workclass": "Local-gov"
        },
        {
         "_deepnote_index_column": 8950,
         "age": 49,
         "capital-gain": 0,
         "capital-loss": 0,
         "education": "HS-grad",
         "education-num": 9,
         "hours-per-week": 40,
         "marital-status": "Divorced",
         "native-country": "United-States",
         "occupation": "Other-service",
         "race": "Black",
         "relationship": "Not-in-family",
         "sex": "Female",
         "workclass": "Private"
        },
        {
         "_deepnote_index_column": 7838,
         "age": 31,
         "capital-gain": 0,
         "capital-loss": 0,
         "education": "Prof-school",
         "education-num": 15,
         "hours-per-week": 50,
         "marital-status": "Never-married",
         "native-country": "United-States",
         "occupation": "Prof-specialty",
         "race": "White",
         "relationship": "Not-in-family",
         "sex": "Male",
         "workclass": "Private"
        }
       ]
      },
      "text/html": [
       "<div>\n",
       "<style scoped>\n",
       "    .dataframe tbody tr th:only-of-type {\n",
       "        vertical-align: middle;\n",
       "    }\n",
       "\n",
       "    .dataframe tbody tr th {\n",
       "        vertical-align: top;\n",
       "    }\n",
       "\n",
       "    .dataframe thead th {\n",
       "        text-align: right;\n",
       "    }\n",
       "</style>\n",
       "<table border=\"1\" class=\"dataframe\">\n",
       "  <thead>\n",
       "    <tr style=\"text-align: right;\">\n",
       "      <th></th>\n",
       "      <th>age</th>\n",
       "      <th>workclass</th>\n",
       "      <th>education</th>\n",
       "      <th>education-num</th>\n",
       "      <th>marital-status</th>\n",
       "      <th>occupation</th>\n",
       "      <th>relationship</th>\n",
       "      <th>race</th>\n",
       "      <th>sex</th>\n",
       "      <th>capital-gain</th>\n",
       "      <th>capital-loss</th>\n",
       "      <th>hours-per-week</th>\n",
       "      <th>native-country</th>\n",
       "    </tr>\n",
       "  </thead>\n",
       "  <tbody>\n",
       "    <tr>\n",
       "      <th>22278</th>\n",
       "      <td>49</td>\n",
       "      <td>Local-gov</td>\n",
       "      <td>HS-grad</td>\n",
       "      <td>9</td>\n",
       "      <td>Married-civ-spouse</td>\n",
       "      <td>Transport-moving</td>\n",
       "      <td>Husband</td>\n",
       "      <td>White</td>\n",
       "      <td>Male</td>\n",
       "      <td>0</td>\n",
       "      <td>0</td>\n",
       "      <td>40</td>\n",
       "      <td>United-States</td>\n",
       "    </tr>\n",
       "    <tr>\n",
       "      <th>8950</th>\n",
       "      <td>49</td>\n",
       "      <td>Private</td>\n",
       "      <td>HS-grad</td>\n",
       "      <td>9</td>\n",
       "      <td>Divorced</td>\n",
       "      <td>Other-service</td>\n",
       "      <td>Not-in-family</td>\n",
       "      <td>Black</td>\n",
       "      <td>Female</td>\n",
       "      <td>0</td>\n",
       "      <td>0</td>\n",
       "      <td>40</td>\n",
       "      <td>United-States</td>\n",
       "    </tr>\n",
       "    <tr>\n",
       "      <th>7838</th>\n",
       "      <td>31</td>\n",
       "      <td>Private</td>\n",
       "      <td>Prof-school</td>\n",
       "      <td>15</td>\n",
       "      <td>Never-married</td>\n",
       "      <td>Prof-specialty</td>\n",
       "      <td>Not-in-family</td>\n",
       "      <td>White</td>\n",
       "      <td>Male</td>\n",
       "      <td>0</td>\n",
       "      <td>0</td>\n",
       "      <td>50</td>\n",
       "      <td>United-States</td>\n",
       "    </tr>\n",
       "  </tbody>\n",
       "</table>\n",
       "</div>"
      ],
      "text/plain": [
       "       age  workclass    education  education-num      marital-status  \\\n",
       "22278   49  Local-gov      HS-grad              9  Married-civ-spouse   \n",
       "8950    49    Private      HS-grad              9            Divorced   \n",
       "7838    31    Private  Prof-school             15       Never-married   \n",
       "\n",
       "             occupation   relationship   race     sex  capital-gain  \\\n",
       "22278  Transport-moving        Husband  White    Male             0   \n",
       "8950      Other-service  Not-in-family  Black  Female             0   \n",
       "7838     Prof-specialty  Not-in-family  White    Male             0   \n",
       "\n",
       "       capital-loss  hours-per-week native-country  \n",
       "22278             0              40  United-States  \n",
       "8950              0              40  United-States  \n",
       "7838              0              50  United-States  "
      ]
     },
     "execution_count": 3,
     "metadata": {},
     "output_type": "execute_result"
    }
   ],
   "source": [
    "Xtrain.head(3)"
   ]
  },
  {
   "cell_type": "markdown",
   "metadata": {
    "cell_id": "00004-b234f5a1-8262-4e26-a425-5341ff83b516",
    "deepnote_cell_type": "markdown",
    "tags": []
   },
   "source": [
    "### Step 2: Encoding the features as numbers.\n",
    "\n",
    "If you look at the data, you will note that it contains several features with categorical values, such as workclass, education etc. All scikit-learn models work with numerical data internally; this means that the categorical features need to be converted to numbers. The most straightforward way to carry out such a conversion is to use one-hot encoding of the features, also known as dummy variables in statistics. In this approach, we define one new column for each observed value of the feature.\n",
    "\n",
    "Scikit-learn includes a number of tools that can do one-hot encoding of categorical features and we'll see how to use one of them, the DictVectorizer. An alternative approach that is a bit more Pandas-friendly and gives more low-level control is to use the recently introduced ColumnTransformer; if you're interested, you can read an introduction to this approach here. We won't use a ColumnTransformer here because it will make Task 3 in this assignment a bit too annoying to solve.\n",
    "\n",
    "The DictVectorizer is used when we store our features as named attributes in dictionaries. For instance, we could represent one individual from the Adult dataset as follows:\n",
    "\n",
    "    {'age': 44,\n",
    "    'workclass': 'Private',\n",
    "    'education': 'Some-college',\n",
    "    'education-num': 10,\n",
    "    'marital-status': 'Married-civ-spouse',\n",
    "    'occupation': 'Machine-op-inspct',\n",
    "    'relationship': 'Husband',\n",
    "    'race': 'Black',\n",
    "    'sex': 'Male',\n",
    "    'capital-gain': 7688,\n",
    "    'capital-loss': 0,\n",
    "    'hours-per-week': 40,\n",
    "    'native-country': 'United-States'}\n",
    "\n",
    "Pandas includes a utility to convert a DataFrame into a list of dictionaries:\n",
    "\n",
    "    dicts_for_my_training_data = my_training_data.to_dict('records')\n",
    "\n",
    "Then make a DictVectorizer and apply it, writing something like the following:\n",
    "\n",
    "    dv = DictVectorizer()\n",
    "    X_train_encoded = dv.fit_transform(dicts_for_my_training_data)\n",
    "\n",
    "The method fit_transform will first call fit, which as usual is the \"training\" method. For a DictVectorizer, \"training\" consists of building the mapping from categories to column positions. Then, the transform method will be called, which converts the data into a matrix.\n",
    "\n",
    "Now that you have a numerical representation of the data, you can compute a cross-validation accuracy for the training set using one of the classifiers you explored in Programming Assignment 1.\n",
    "\n",
    "To handle the test data, you just call transform, because this time the vectorizer does not need to be \"trained.\" Use this to compute the accuracy on the test set.\n",
    "\n",
    "    X_test_encoded = dv.transform(dicts_for_my_test_data)"
   ]
  },
  {
   "cell_type": "markdown",
   "metadata": {
    "cell_id": "f9df49c9-0102-4698-89d2-7e9cb19a4633",
    "deepnote_cell_type": "markdown",
    "tags": []
   },
   "source": [
    "transform the data into dicts"
   ]
  },
  {
   "cell_type": "code",
   "execution_count": null,
   "metadata": {
    "cell_id": "00005-a997ece5-bb79-4cbb-9a51-3d104076cc6f",
    "deepnote_cell_type": "code",
    "deepnote_output_heights": [
     251.4375
    ],
    "deepnote_to_be_reexecuted": false,
    "execution_millis": 745,
    "execution_start": 1643359292345,
    "source_hash": "4fb6f881",
    "tags": []
   },
   "outputs": [
    {
     "data": {
      "text/plain": [
       "[{'age': 49,\n",
       "  'workclass': 'Local-gov',\n",
       "  'education': 'HS-grad',\n",
       "  'education-num': 9,\n",
       "  'marital-status': 'Married-civ-spouse',\n",
       "  'occupation': 'Transport-moving',\n",
       "  'relationship': 'Husband',\n",
       "  'race': 'White',\n",
       "  'sex': 'Male',\n",
       "  'capital-gain': 0,\n",
       "  'capital-loss': 0,\n",
       "  'hours-per-week': 40,\n",
       "  'native-country': 'United-States'}]"
      ]
     },
     "execution_count": 15,
     "metadata": {},
     "output_type": "execute_result"
    }
   ],
   "source": [
    "# convert training data to dict - creates a list of dicts \n",
    "# where each row's (person's) information is gathered in one dict, \n",
    "dicts_Xtrain = Xtrain.to_dict('records')\n",
    "dicts_Xtest = Xtest.to_dict('records')\n",
    "\n",
    "# show first 2 person's informations\n",
    "dicts_Xtrain[:1] "
   ]
  },
  {
   "cell_type": "markdown",
   "metadata": {
    "cell_id": "8b873257-4bd1-4eeb-9563-9256a2b321c4",
    "deepnote_cell_type": "markdown",
    "tags": []
   },
   "source": [
    "Define the dict vectorizer and transform X variables for train and test with one-hot encoding"
   ]
  },
  {
   "cell_type": "code",
   "execution_count": null,
   "metadata": {
    "cell_id": "00006-3b21a98c-b603-4973-81a1-7025c914af0e",
    "deepnote_cell_type": "code",
    "deepnote_to_be_reexecuted": false,
    "execution_millis": 748,
    "execution_start": 1643359294942,
    "source_hash": "44ef7f77",
    "tags": []
   },
   "outputs": [],
   "source": [
    "# create DictVectorizer \n",
    "dv = DictVectorizer()\n",
    "\n",
    "# one-hot encode the list with all dicts for both train and test\n",
    "Xtrain_encoded = dv.fit_transform(dicts_Xtrain)\n",
    "Xtest_encoded = dv.transform(dicts_Xtest)"
   ]
  },
  {
   "cell_type": "markdown",
   "metadata": {
    "cell_id": "dc036f4f-161d-4afc-86e9-7c97a1a33136",
    "deepnote_cell_type": "markdown",
    "tags": []
   },
   "source": [
    "Get dummy performance"
   ]
  },
  {
   "cell_type": "code",
   "execution_count": null,
   "metadata": {
    "cell_id": "00007-de5fd932-adc6-464f-9280-0b476938981e",
    "deepnote_cell_type": "code",
    "deepnote_to_be_reexecuted": false,
    "execution_millis": 210,
    "execution_start": 1643359352022,
    "source_hash": "cf777763"
   },
   "outputs": [
    {
     "name": "stdout",
     "output_type": "stream",
     "text": [
      "Dummy Classifier\n",
      "Average Train score: 0.7591904454179904\n",
      "Average Test score: 0.7637737239727289\n"
     ]
    }
   ],
   "source": [
    "# Baseline with dummy classifier\n",
    "dummy = DummyClassifier(strategy='most_frequent')\n",
    "# train\n",
    "dummy.fit(Xtrain_encoded, Ytrain)\n",
    "# cross validation on train data\n",
    "dummy_score_train = cross_val_score(dummy, Xtrain_encoded, Ytrain).mean()\n",
    "# accuracy on test data\n",
    "dummy_score_test = accuracy_score(Ytest, dummy.predict(Xtest_encoded))\n",
    "\n",
    "print(\"Dummy Classifier\")\n",
    "print(\"Average Train score:\",dummy_score_train)\n",
    "print(\"Average Test score:\",dummy_score_test)"
   ]
  },
  {
   "cell_type": "markdown",
   "metadata": {
    "cell_id": "34c24f5a-f4b1-4746-b0ef-2692fc5b2d0c",
    "deepnote_cell_type": "markdown",
    "tags": []
   },
   "source": [
    "Choosing a model from previous assignment 1: Decision Tree Classifier"
   ]
  },
  {
   "cell_type": "code",
   "execution_count": null,
   "metadata": {
    "cell_id": "00008-c182a680-1214-4fe4-b071-ef6fcaae5da0",
    "deepnote_cell_type": "code",
    "deepnote_to_be_reexecuted": false,
    "execution_millis": 7216,
    "execution_start": 1643359353945,
    "source_hash": "55437046",
    "tags": []
   },
   "outputs": [
    {
     "name": "stdout",
     "output_type": "stream",
     "text": [
      "Decision Tree Classifier\n",
      "Average Train score: 0.8199381099830202\n",
      "Average Test score: 0.8180087218229839\n"
     ]
    }
   ],
   "source": [
    "# Decision Tree Classifier\n",
    "dtc = DecisionTreeClassifier() \n",
    "# train\n",
    "dtc.fit(Xtrain_encoded, Ytrain)\n",
    "# cross validation on train data\n",
    "dtc_score_train = cross_val_score(dtc, Xtrain_encoded, Ytrain).mean()\n",
    "# accuracy on test data\n",
    "dtc_score_test = accuracy_score(Ytest, dtc.predict(Xtest_encoded))\n",
    "\n",
    "print(\"Decision Tree Classifier\")\n",
    "print(\"Average Train score:\",dtc_score_train)\n",
    "print(\"Average Test score:\",dtc_score_test)"
   ]
  },
  {
   "cell_type": "markdown",
   "metadata": {
    "cell_id": "00009-007219b9-f316-4b09-bde2-05cfafdf5fec",
    "deepnote_cell_type": "markdown",
    "tags": []
   },
   "source": [
    "### Step 3. Combining the steps.\n",
    "\n",
    "In the example above, we first transformed the list of dictionaries into a numerical matrix, and then we used this matrix when training the classifier. A separate preprocessing step was carried out for the test set.\n",
    "\n",
    "In machine learning setups, we often use long chains of preprocessing steps. The one-hot encoding is one example, and other such steps might be scaling, feature selection, imputation of missing values, etc. As you can imagine, keeping track of the preprocessing steps can be tedious and error-prone, so it makes sense to handle such preprocessing chains automatically.\n",
    "\n",
    "A Pipeline consists of a sequence of scikit-learn modules. The most convenient way to build a Pipeline is to use the utility function make_pipeline. For instance, to build a pipeline consisting of a vectorization step and then a decision tree classifier, we could write\n",
    "\n",
    "    from sklearn.pipeline import make_pipeline\n",
    "    \n",
    "    pipeline = make_pipeline(\n",
    "    DictVectorizer(),\n",
    "    DecisionTreeClassifier() )\n",
    "    \n",
    "The Pipeline can be treated as any classifier: we can call fit and predict as usual. Concretely, when we call fit on a Pipeline, it will in turn call fit_transform on all intermediate steps and then fit on the final step. When we call predict, transform will be called on the intermediate steps and then predict on the final step.\n",
    "\n",
    "Build a pipeline that includes the classifier that you selected previously, and make sure that it works."
   ]
  },
  {
   "cell_type": "markdown",
   "metadata": {
    "cell_id": "d04712a2-e0fe-4d01-9da2-301d7c7875aa",
    "deepnote_cell_type": "markdown",
    "tags": []
   },
   "source": [
    "Create pipeline including steps: Dictvectorize, StandardScaler, SelectKBest and estimator DecisionTreeClassifier"
   ]
  },
  {
   "cell_type": "code",
   "execution_count": null,
   "metadata": {
    "cell_id": "00020-122cfc1c-9ece-4549-afb6-a08e69b825e1",
    "deepnote_cell_type": "code",
    "deepnote_to_be_reexecuted": false,
    "execution_millis": 2,
    "execution_start": 1643357872187,
    "source_hash": "513b9933"
   },
   "outputs": [],
   "source": [
    "pipeline = make_pipeline(\n",
    "    DictVectorizer(),\n",
    "    StandardScaler(with_mean=False),\n",
    "    SelectKBest(k=100),\n",
    "    DecisionTreeClassifier()) "
   ]
  },
  {
   "cell_type": "markdown",
   "metadata": {
    "cell_id": "00012-4382447f-81db-4678-bf22-6355141da044",
    "deepnote_cell_type": "markdown"
   },
   "source": [
    "Adding hyperparameters that can be tested"
   ]
  },
  {
   "cell_type": "code",
   "execution_count": null,
   "metadata": {
    "cell_id": "00013-38381046-4a90-4f8d-80d4-6cc4c596f45e",
    "deepnote_cell_type": "code",
    "deepnote_to_be_reexecuted": false,
    "execution_millis": 0,
    "execution_start": 1643357947111,
    "source_hash": "31c98dfd"
   },
   "outputs": [],
   "source": [
    "# specifying parameters for the models\n",
    "param_grid = {'decisiontreeclassifier__criterion':['gini', 'entropy'], \n",
    "                'decisiontreeclassifier__splitter':['best', 'random'],\n",
    "                'decisiontreeclassifier__max_features':['auto', 'sqrt', 'log2'],\n",
    "                'decisiontreeclassifier__max_depth': [1,2,3,4,5,6,7,8,9,10] }"
   ]
  },
  {
   "cell_type": "markdown",
   "metadata": {
    "cell_id": "00014-65650432-9b7d-489d-84d4-b6b0e4708555",
    "deepnote_cell_type": "markdown"
   },
   "source": [
    "Trying out different parameters for for GridSearchCV and RandomizedSearchCV for the DecisionTreeClassifier."
   ]
  },
  {
   "cell_type": "code",
   "execution_count": null,
   "metadata": {
    "cell_id": "00015-ebcb62be-e3a8-4551-b627-9d1da2f1d9d4",
    "deepnote_cell_type": "code",
    "deepnote_output_heights": [
     78.75,
     78.75
    ],
    "deepnote_to_be_reexecuted": false,
    "execution_millis": 348098,
    "execution_start": 1643359799666,
    "source_hash": "b848890d"
   },
   "outputs": [
    {
     "name": "stdout",
     "output_type": "stream",
     "text": [
      "Test Accuracy with GridSearch: 0.8279589705792028\n",
      "{'decisiontreeclassifier__criterion': 'gini', 'decisiontreeclassifier__max_depth': 9, 'decisiontreeclassifier__max_features': 'auto', 'decisiontreeclassifier__splitter': 'best'}\n"
     ]
    }
   ],
   "source": [
    "# GridSearchCV\n",
    "gridsearch = GridSearchCV(pipeline, param_grid)\n",
    "gridsearch.fit(dicts_Xtrain, Ytrain)\n",
    "g_acc = accuracy_score(Ytest, gridsearch.predict(dicts_Xtest))\n",
    "print(\"Test Accuracy with GridSearch:\",g_acc)\n",
    "print(gridsearch.best_params_)"
   ]
  },
  {
   "cell_type": "code",
   "execution_count": null,
   "metadata": {
    "cell_id": "00017-7935e80a-9197-4723-aa00-c949e2110022",
    "deepnote_cell_type": "code",
    "deepnote_output_heights": [
     78.75,
     78.75
    ],
    "deepnote_to_be_reexecuted": false,
    "execution_millis": 30502,
    "execution_start": 1643360147763,
    "source_hash": "c448f2d3"
   },
   "outputs": [
    {
     "name": "stdout",
     "output_type": "stream",
     "text": [
      "Test Accuracy with RandomSearch: 0.8409188624777347\n",
      "{'decisiontreeclassifier__splitter': 'best', 'decisiontreeclassifier__max_features': 'sqrt', 'decisiontreeclassifier__max_depth': 9, 'decisiontreeclassifier__criterion': 'entropy'}\n"
     ]
    }
   ],
   "source": [
    "# RandomSearchCV\n",
    "randomsearch = RandomizedSearchCV(pipeline, param_grid, n_iter=10)\n",
    "randomsearch.fit(dicts_Xtrain, Ytrain)\n",
    "r_acc = accuracy_score(Ytest, randomsearch.predict(dicts_Xtest))\n",
    "print(\"Test Accuracy with RandomSearch:\",r_acc)\n",
    "print(randomsearch.best_params_)"
   ]
  },
  {
   "cell_type": "markdown",
   "metadata": {
    "cell_id": "00031-ff9d4b4a-5913-4508-9512-2a9c66d37578",
    "deepnote_cell_type": "markdown"
   },
   "source": [
    "The accuracy from the pipelines used in both grid search and random search differs, but not to a huge extent. Grid search had the highest accuracy of 85% while the random search reached about 84%. This is an improvement from the previous step where the test accuracy reached only 81% where we only used DictVectorizer and not the additional preprocessing steps of StandardScaler and selectKbest.\n",
    "\n",
    "The GridSearchCV had the higest accuracy with hyperparameters: \n",
    "\n",
    "    'splitter': 'best',\n",
    "    'max_features': 'sqrt',\n",
    "    'max_depth': 10,\n",
    "    'criterion': 'gini'}"
   ]
  },
  {
   "cell_type": "markdown",
   "metadata": {
    "cell_id": "a6b9d9b7-b365-44cb-ba2b-f9cca6277d6a",
    "deepnote_cell_type": "markdown",
    "tags": []
   },
   "source": []
  }
 ],
 "metadata": {
  "deepnote": {
   "is_reactive": false
  },
  "deepnote_execution_queue": [],
  "deepnote_notebook_id": "00dc7e2c-04ca-4132-bc94-60969c0634ec",
  "kernelspec": {
   "display_name": "Python 3",
   "language": "python",
   "name": "python3"
  },
  "language_info": {
   "codemirror_mode": {
    "name": "ipython",
    "version": 3
   },
   "file_extension": ".py",
   "mimetype": "text/x-python",
   "name": "python",
   "nbconvert_exporter": "python",
   "pygments_lexer": "ipython3",
   "version": "3.9.2"
  }
 },
 "nbformat": 4,
 "nbformat_minor": 2
}
