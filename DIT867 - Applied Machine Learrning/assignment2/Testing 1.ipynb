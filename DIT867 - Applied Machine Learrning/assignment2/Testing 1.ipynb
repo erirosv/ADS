{
 "cells": [
  {
   "cell_type": "markdown",
   "metadata": {
    "cell_id": "4c91249d-f467-46fa-9c79-6eb2d0c68b55",
    "deepnote_cell_type": "markdown",
    "tags": []
   },
   "source": [
    "## Task 1: Working with a dataset with categorical features\n",
    "\n",
    "In Assignment 1, we didn't have to do much preprocessing, because all the features in the two datasets were numerical. (Actually, in the second dataset, we removed all non-numerical features.) In this assignment, we'll instead consider how to deal with non-numerical features.\n",
    "\n",
    "We'll use the famous Adult dataset. This is a binary classification task, where our task is to predict whether an American individual earns more than $50,000 a year, given a number of numerical and categorical features. (The dataset was extracted from a 1994 census database.)\n",
    "\n",
    "### Step 1. Reading the data\n",
    "\n",
    "Please download the two CSV files, the training set and the test set, and save them into your working directory This is the official train/test split defined by the people who created the dataset. It's the same data as in the the public distribution, except that we converted the format into a standard CSV format.\n",
    "\n",
    "1. Write code to read the CSV file, for instance by using Pandas as in Assignment 1. \n",
    "2. Then split the data into an input part X and an output part Y. The output variable, which the classifier will predict, is called target.\n",
    "\n",
    "\n",
    "\n"
   ]
  },
  {
   "cell_type": "code",
   "execution_count": null,
   "metadata": {
    "cell_id": "00001-95ddc4b4-1452-4c04-b496-1f88ea01165b",
    "deepnote_cell_type": "code",
    "deepnote_to_be_reexecuted": false,
    "execution_millis": 1534,
    "execution_start": 1643298796508,
    "source_hash": "1c7f366",
    "tags": []
   },
   "outputs": [],
   "source": [
    "# import required libs\n",
    "import pandas as pd\n",
    "import numpy as np\n",
    "from sklearn.pipeline import make_pipeline\n",
    "from sklearn.feature_extraction import DictVectorizer\n",
    "from sklearn.model_selection import cross_val_score\n",
    "from sklearn.metrics import accuracy_score\n",
    "from sklearn.dummy import DummyClassifier\n",
    "from sklearn.ensemble import RandomForestClassifier\n",
    "from sklearn.tree import DecisionTreeClassifier\n",
    "from sklearn.preprocessing import StandardScaler\n",
    "from sklearn.feature_selection import SelectKBest\n",
    "from sklearn.model_selection import GridSearchCV\n",
    "from sklearn.model_selection import RandomizedSearchCV\n",
    "from scipy.stats import expon"
   ]
  },
  {
   "cell_type": "code",
   "execution_count": null,
   "metadata": {
    "cell_id": "00002-66c71cb7-c0cc-479d-b956-ac00f0fe8480",
    "deepnote_cell_type": "code",
    "deepnote_to_be_reexecuted": false,
    "execution_millis": 206,
    "execution_start": 1643298798056,
    "source_hash": "a996211d",
    "tags": []
   },
   "outputs": [],
   "source": [
    "# Import csv file for Training data\n",
    "train = pd.read_csv('adult_train.csv')\n",
    "\n",
    "# Import csv file for Test data\n",
    "test = pd.read_csv('adult_test.csv')\n",
    "\n",
    "# Shuffle the dataset.\n",
    "train_shuffled = train.sample(frac=1.0, random_state=0)\n",
    "test_shuffled = test.sample(frac=1.0, random_state=0)\n",
    "\n",
    "# Split into input part X and output part Y.\n",
    "Xtrain = train_shuffled.drop('target', axis=1)\n",
    "Ytrain = train_shuffled['target']\n",
    "Xtest = test_shuffled.drop('target', axis=1)\n",
    "Ytest = test_shuffled['target']"
   ]
  },
  {
   "cell_type": "code",
   "execution_count": null,
   "metadata": {
    "cell_id": "00003-a27bacd8-d262-4597-988c-0484c0ebbbb3",
    "deepnote_cell_type": "code",
    "deepnote_output_heights": [
     119
    ],
    "deepnote_to_be_reexecuted": false,
    "execution_millis": 31,
    "execution_start": 1643298798637,
    "source_hash": "5bacfead",
    "tags": []
   },
   "outputs": [
    {
     "data": {
      "application/vnd.deepnote.dataframe.v3+json": {
       "column_count": 13,
       "columns": [
        {
         "dtype": "int64",
         "name": "age",
         "stats": {
          "histogram": [
           {
            "bin_end": 32.8,
            "bin_start": 31,
            "count": 1
           },
           {
            "bin_end": 34.6,
            "bin_start": 32.8,
            "count": 0
           },
           {
            "bin_end": 36.4,
            "bin_start": 34.6,
            "count": 0
           },
           {
            "bin_end": 38.2,
            "bin_start": 36.4,
            "count": 0
           },
           {
            "bin_end": 40,
            "bin_start": 38.2,
            "count": 0
           },
           {
            "bin_end": 41.8,
            "bin_start": 40,
            "count": 0
           },
           {
            "bin_end": 43.6,
            "bin_start": 41.8,
            "count": 0
           },
           {
            "bin_end": 45.4,
            "bin_start": 43.6,
            "count": 0
           },
           {
            "bin_end": 47.2,
            "bin_start": 45.4,
            "count": 0
           },
           {
            "bin_end": 49,
            "bin_start": 47.2,
            "count": 2
           }
          ],
          "max": "49",
          "min": "31",
          "nan_count": 0,
          "unique_count": 2
         }
        },
        {
         "dtype": "object",
         "name": "workclass",
         "stats": {
          "categories": [
           {
            "count": 2,
            "name": "Private"
           },
           {
            "count": 1,
            "name": "Local-gov"
           }
          ],
          "nan_count": 0,
          "unique_count": 2
         }
        },
        {
         "dtype": "object",
         "name": "education",
         "stats": {
          "categories": [
           {
            "count": 2,
            "name": "HS-grad"
           },
           {
            "count": 1,
            "name": "Prof-school"
           }
          ],
          "nan_count": 0,
          "unique_count": 2
         }
        },
        {
         "dtype": "int64",
         "name": "education-num",
         "stats": {
          "histogram": [
           {
            "bin_end": 9.6,
            "bin_start": 9,
            "count": 2
           },
           {
            "bin_end": 10.2,
            "bin_start": 9.6,
            "count": 0
           },
           {
            "bin_end": 10.8,
            "bin_start": 10.2,
            "count": 0
           },
           {
            "bin_end": 11.4,
            "bin_start": 10.8,
            "count": 0
           },
           {
            "bin_end": 12,
            "bin_start": 11.4,
            "count": 0
           },
           {
            "bin_end": 12.6,
            "bin_start": 12,
            "count": 0
           },
           {
            "bin_end": 13.2,
            "bin_start": 12.6,
            "count": 0
           },
           {
            "bin_end": 13.8,
            "bin_start": 13.2,
            "count": 0
           },
           {
            "bin_end": 14.399999999999999,
            "bin_start": 13.8,
            "count": 0
           },
           {
            "bin_end": 15,
            "bin_start": 14.399999999999999,
            "count": 1
           }
          ],
          "max": "15",
          "min": "9",
          "nan_count": 0,
          "unique_count": 2
         }
        },
        {
         "dtype": "object",
         "name": "marital-status",
         "stats": {
          "categories": [
           {
            "count": 1,
            "name": "Married-civ-spouse"
           },
           {
            "count": 1,
            "name": "Divorced"
           },
           {
            "count": 1,
            "name": "Never-married"
           }
          ],
          "nan_count": 0,
          "unique_count": 3
         }
        },
        {
         "dtype": "object",
         "name": "occupation",
         "stats": {
          "categories": [
           {
            "count": 1,
            "name": "Transport-moving"
           },
           {
            "count": 1,
            "name": "Other-service"
           },
           {
            "count": 1,
            "name": "Prof-specialty"
           }
          ],
          "nan_count": 0,
          "unique_count": 3
         }
        },
        {
         "dtype": "object",
         "name": "relationship",
         "stats": {
          "categories": [
           {
            "count": 2,
            "name": "Not-in-family"
           },
           {
            "count": 1,
            "name": "Husband"
           }
          ],
          "nan_count": 0,
          "unique_count": 2
         }
        },
        {
         "dtype": "object",
         "name": "race",
         "stats": {
          "categories": [
           {
            "count": 2,
            "name": "White"
           },
           {
            "count": 1,
            "name": "Black"
           }
          ],
          "nan_count": 0,
          "unique_count": 2
         }
        },
        {
         "dtype": "object",
         "name": "sex",
         "stats": {
          "categories": [
           {
            "count": 2,
            "name": "Male"
           },
           {
            "count": 1,
            "name": "Female"
           }
          ],
          "nan_count": 0,
          "unique_count": 2
         }
        },
        {
         "dtype": "int64",
         "name": "capital-gain",
         "stats": {
          "histogram": [
           {
            "bin_end": -0.4,
            "bin_start": -0.5,
            "count": 0
           },
           {
            "bin_end": -0.3,
            "bin_start": -0.4,
            "count": 0
           },
           {
            "bin_end": -0.19999999999999996,
            "bin_start": -0.3,
            "count": 0
           },
           {
            "bin_end": -0.09999999999999998,
            "bin_start": -0.19999999999999996,
            "count": 0
           },
           {
            "bin_end": 0,
            "bin_start": -0.09999999999999998,
            "count": 0
           },
           {
            "bin_end": 0.10000000000000009,
            "bin_start": 0,
            "count": 3
           },
           {
            "bin_end": 0.20000000000000007,
            "bin_start": 0.10000000000000009,
            "count": 0
           },
           {
            "bin_end": 0.30000000000000004,
            "bin_start": 0.20000000000000007,
            "count": 0
           },
           {
            "bin_end": 0.4,
            "bin_start": 0.30000000000000004,
            "count": 0
           },
           {
            "bin_end": 0.5,
            "bin_start": 0.4,
            "count": 0
           }
          ],
          "max": "0",
          "min": "0",
          "nan_count": 0,
          "unique_count": 1
         }
        },
        {
         "dtype": "int64",
         "name": "capital-loss",
         "stats": {
          "histogram": [
           {
            "bin_end": -0.4,
            "bin_start": -0.5,
            "count": 0
           },
           {
            "bin_end": -0.3,
            "bin_start": -0.4,
            "count": 0
           },
           {
            "bin_end": -0.19999999999999996,
            "bin_start": -0.3,
            "count": 0
           },
           {
            "bin_end": -0.09999999999999998,
            "bin_start": -0.19999999999999996,
            "count": 0
           },
           {
            "bin_end": 0,
            "bin_start": -0.09999999999999998,
            "count": 0
           },
           {
            "bin_end": 0.10000000000000009,
            "bin_start": 0,
            "count": 3
           },
           {
            "bin_end": 0.20000000000000007,
            "bin_start": 0.10000000000000009,
            "count": 0
           },
           {
            "bin_end": 0.30000000000000004,
            "bin_start": 0.20000000000000007,
            "count": 0
           },
           {
            "bin_end": 0.4,
            "bin_start": 0.30000000000000004,
            "count": 0
           },
           {
            "bin_end": 0.5,
            "bin_start": 0.4,
            "count": 0
           }
          ],
          "max": "0",
          "min": "0",
          "nan_count": 0,
          "unique_count": 1
         }
        },
        {
         "dtype": "int64",
         "name": "hours-per-week",
         "stats": {
          "histogram": [
           {
            "bin_end": 41,
            "bin_start": 40,
            "count": 2
           },
           {
            "bin_end": 42,
            "bin_start": 41,
            "count": 0
           },
           {
            "bin_end": 43,
            "bin_start": 42,
            "count": 0
           },
           {
            "bin_end": 44,
            "bin_start": 43,
            "count": 0
           },
           {
            "bin_end": 45,
            "bin_start": 44,
            "count": 0
           },
           {
            "bin_end": 46,
            "bin_start": 45,
            "count": 0
           },
           {
            "bin_end": 47,
            "bin_start": 46,
            "count": 0
           },
           {
            "bin_end": 48,
            "bin_start": 47,
            "count": 0
           },
           {
            "bin_end": 49,
            "bin_start": 48,
            "count": 0
           },
           {
            "bin_end": 50,
            "bin_start": 49,
            "count": 1
           }
          ],
          "max": "50",
          "min": "40",
          "nan_count": 0,
          "unique_count": 2
         }
        },
        {
         "dtype": "object",
         "name": "native-country",
         "stats": {
          "categories": [
           {
            "count": 3,
            "name": "United-States"
           }
          ],
          "nan_count": 0,
          "unique_count": 1
         }
        },
        {
         "dtype": "int64",
         "name": "_deepnote_index_column"
        }
       ],
       "row_count": 3,
       "rows": [
        {
         "_deepnote_index_column": 22278,
         "age": 49,
         "capital-gain": 0,
         "capital-loss": 0,
         "education": "HS-grad",
         "education-num": 9,
         "hours-per-week": 40,
         "marital-status": "Married-civ-spouse",
         "native-country": "United-States",
         "occupation": "Transport-moving",
         "race": "White",
         "relationship": "Husband",
         "sex": "Male",
         "workclass": "Local-gov"
        },
        {
         "_deepnote_index_column": 8950,
         "age": 49,
         "capital-gain": 0,
         "capital-loss": 0,
         "education": "HS-grad",
         "education-num": 9,
         "hours-per-week": 40,
         "marital-status": "Divorced",
         "native-country": "United-States",
         "occupation": "Other-service",
         "race": "Black",
         "relationship": "Not-in-family",
         "sex": "Female",
         "workclass": "Private"
        },
        {
         "_deepnote_index_column": 7838,
         "age": 31,
         "capital-gain": 0,
         "capital-loss": 0,
         "education": "Prof-school",
         "education-num": 15,
         "hours-per-week": 50,
         "marital-status": "Never-married",
         "native-country": "United-States",
         "occupation": "Prof-specialty",
         "race": "White",
         "relationship": "Not-in-family",
         "sex": "Male",
         "workclass": "Private"
        }
       ]
      },
      "text/html": [
       "<div>\n",
       "<style scoped>\n",
       "    .dataframe tbody tr th:only-of-type {\n",
       "        vertical-align: middle;\n",
       "    }\n",
       "\n",
       "    .dataframe tbody tr th {\n",
       "        vertical-align: top;\n",
       "    }\n",
       "\n",
       "    .dataframe thead th {\n",
       "        text-align: right;\n",
       "    }\n",
       "</style>\n",
       "<table border=\"1\" class=\"dataframe\">\n",
       "  <thead>\n",
       "    <tr style=\"text-align: right;\">\n",
       "      <th></th>\n",
       "      <th>age</th>\n",
       "      <th>workclass</th>\n",
       "      <th>education</th>\n",
       "      <th>education-num</th>\n",
       "      <th>marital-status</th>\n",
       "      <th>occupation</th>\n",
       "      <th>relationship</th>\n",
       "      <th>race</th>\n",
       "      <th>sex</th>\n",
       "      <th>capital-gain</th>\n",
       "      <th>capital-loss</th>\n",
       "      <th>hours-per-week</th>\n",
       "      <th>native-country</th>\n",
       "    </tr>\n",
       "  </thead>\n",
       "  <tbody>\n",
       "    <tr>\n",
       "      <th>22278</th>\n",
       "      <td>49</td>\n",
       "      <td>Local-gov</td>\n",
       "      <td>HS-grad</td>\n",
       "      <td>9</td>\n",
       "      <td>Married-civ-spouse</td>\n",
       "      <td>Transport-moving</td>\n",
       "      <td>Husband</td>\n",
       "      <td>White</td>\n",
       "      <td>Male</td>\n",
       "      <td>0</td>\n",
       "      <td>0</td>\n",
       "      <td>40</td>\n",
       "      <td>United-States</td>\n",
       "    </tr>\n",
       "    <tr>\n",
       "      <th>8950</th>\n",
       "      <td>49</td>\n",
       "      <td>Private</td>\n",
       "      <td>HS-grad</td>\n",
       "      <td>9</td>\n",
       "      <td>Divorced</td>\n",
       "      <td>Other-service</td>\n",
       "      <td>Not-in-family</td>\n",
       "      <td>Black</td>\n",
       "      <td>Female</td>\n",
       "      <td>0</td>\n",
       "      <td>0</td>\n",
       "      <td>40</td>\n",
       "      <td>United-States</td>\n",
       "    </tr>\n",
       "    <tr>\n",
       "      <th>7838</th>\n",
       "      <td>31</td>\n",
       "      <td>Private</td>\n",
       "      <td>Prof-school</td>\n",
       "      <td>15</td>\n",
       "      <td>Never-married</td>\n",
       "      <td>Prof-specialty</td>\n",
       "      <td>Not-in-family</td>\n",
       "      <td>White</td>\n",
       "      <td>Male</td>\n",
       "      <td>0</td>\n",
       "      <td>0</td>\n",
       "      <td>50</td>\n",
       "      <td>United-States</td>\n",
       "    </tr>\n",
       "  </tbody>\n",
       "</table>\n",
       "</div>"
      ],
      "text/plain": [
       "       age  workclass    education  education-num      marital-status  \\\n",
       "22278   49  Local-gov      HS-grad              9  Married-civ-spouse   \n",
       "8950    49    Private      HS-grad              9            Divorced   \n",
       "7838    31    Private  Prof-school             15       Never-married   \n",
       "\n",
       "             occupation   relationship   race     sex  capital-gain  \\\n",
       "22278  Transport-moving        Husband  White    Male             0   \n",
       "8950      Other-service  Not-in-family  Black  Female             0   \n",
       "7838     Prof-specialty  Not-in-family  White    Male             0   \n",
       "\n",
       "       capital-loss  hours-per-week native-country  \n",
       "22278             0              40  United-States  \n",
       "8950              0              40  United-States  \n",
       "7838              0              50  United-States  "
      ]
     },
     "execution_count": 3,
     "metadata": {},
     "output_type": "execute_result"
    }
   ],
   "source": [
    "Xtrain.head(3)"
   ]
  },
  {
   "cell_type": "markdown",
   "metadata": {
    "cell_id": "00004-9315dd81-964b-4ba7-8fbe-46ad85858563",
    "deepnote_cell_type": "markdown",
    "tags": []
   },
   "source": [
    "### Step 2: Encoding the features as numbers.\n",
    "\n",
    "If you look at the data, you will note that it contains several features with categorical values, such as workclass, education etc. All scikit-learn models work with numerical data internally; this means that the categorical features need to be converted to numbers. The most straightforward way to carry out such a conversion is to use one-hot encoding of the features, also known as dummy variables in statistics. In this approach, we define one new column for each observed value of the feature.\n",
    "\n",
    "Scikit-learn includes a number of tools that can do one-hot encoding of categorical features and we'll see how to use one of them, the DictVectorizer. An alternative approach that is a bit more Pandas-friendly and gives more low-level control is to use the recently introduced ColumnTransformer; if you're interested, you can read an introduction to this approach here. We won't use a ColumnTransformer here because it will make Task 3 in this assignment a bit too annoying to solve.\n",
    "\n",
    "The DictVectorizer is used when we store our features as named attributes in dictionaries. For instance, we could represent one individual from the Adult dataset as follows:\n",
    "\n",
    "    {'age': 44,\n",
    "    'workclass': 'Private',\n",
    "    'education': 'Some-college',\n",
    "    'education-num': 10,\n",
    "    'marital-status': 'Married-civ-spouse',\n",
    "    'occupation': 'Machine-op-inspct',\n",
    "    'relationship': 'Husband',\n",
    "    'race': 'Black',\n",
    "    'sex': 'Male',\n",
    "    'capital-gain': 7688,\n",
    "    'capital-loss': 0,\n",
    "    'hours-per-week': 40,\n",
    "    'native-country': 'United-States'}\n",
    "\n",
    "Pandas includes a utility to convert a DataFrame into a list of dictionaries:\n",
    "\n",
    "    dicts_for_my_training_data = my_training_data.to_dict('records')\n",
    "\n",
    "Then make a DictVectorizer and apply it, writing something like the following:\n",
    "\n",
    "    dv = DictVectorizer()\n",
    "    X_train_encoded = dv.fit_transform(dicts_for_my_training_data)\n",
    "\n",
    "The method fit_transform will first call fit, which as usual is the \"training\" method. For a DictVectorizer, \"training\" consists of building the mapping from categories to column positions. Then, the transform method will be called, which converts the data into a matrix.\n",
    "\n",
    "Now that you have a numerical representation of the data, you can compute a cross-validation accuracy for the training set using one of the classifiers you explored in Programming Assignment 1.\n",
    "\n",
    "To handle the test data, you just call transform, because this time the vectorizer does not need to be \"trained.\" Use this to compute the accuracy on the test set.\n",
    "\n",
    "    X_test_encoded = dv.transform(dicts_for_my_test_data)"
   ]
  },
  {
   "cell_type": "code",
   "execution_count": null,
   "metadata": {
    "cell_id": "00005-647409fe-72bf-45cb-b522-8fa020f3768e",
    "deepnote_cell_type": "code",
    "deepnote_output_heights": [
     251.4375
    ],
    "deepnote_to_be_reexecuted": false,
    "execution_millis": 1597,
    "execution_start": 1643298798640,
    "source_hash": "4fb6f881",
    "tags": []
   },
   "outputs": [
    {
     "data": {
      "text/plain": [
       "[{'age': 49,\n",
       "  'workclass': 'Local-gov',\n",
       "  'education': 'HS-grad',\n",
       "  'education-num': 9,\n",
       "  'marital-status': 'Married-civ-spouse',\n",
       "  'occupation': 'Transport-moving',\n",
       "  'relationship': 'Husband',\n",
       "  'race': 'White',\n",
       "  'sex': 'Male',\n",
       "  'capital-gain': 0,\n",
       "  'capital-loss': 0,\n",
       "  'hours-per-week': 40,\n",
       "  'native-country': 'United-States'}]"
      ]
     },
     "execution_count": 4,
     "metadata": {},
     "output_type": "execute_result"
    }
   ],
   "source": [
    "# convert training data to dict - creates a list of dicts \n",
    "# where each row's (person's) information is gathered in one dict, \n",
    "dicts_Xtrain = Xtrain.to_dict('records')\n",
    "dicts_Xtest = Xtest.to_dict('records')\n",
    "\n",
    "# show first 2 person's informations\n",
    "dicts_Xtrain[:1] "
   ]
  },
  {
   "cell_type": "code",
   "execution_count": null,
   "metadata": {
    "cell_id": "00006-701c7f53-73de-4ac7-92fe-44c90de69aca",
    "deepnote_cell_type": "code",
    "deepnote_to_be_reexecuted": false,
    "execution_millis": 1456,
    "execution_start": 1643298800246,
    "source_hash": "44ef7f77",
    "tags": []
   },
   "outputs": [],
   "source": [
    "# create DictVectorizer \n",
    "dv = DictVectorizer()\n",
    "\n",
    "# one-hot encode the list with all dicts for both train and test\n",
    "Xtrain_encoded = dv.fit_transform(dicts_Xtrain)\n",
    "Xtest_encoded = dv.transform(dicts_Xtest)"
   ]
  },
  {
   "cell_type": "code",
   "execution_count": null,
   "metadata": {
    "cell_id": "00008-a9fb7cd5-eb15-484d-b392-019685255d51",
    "deepnote_cell_type": "code",
    "deepnote_to_be_reexecuted": false,
    "execution_millis": 405,
    "execution_start": 1643298801702,
    "source_hash": "cf777763"
   },
   "outputs": [
    {
     "name": "stdout",
     "output_type": "stream",
     "text": [
      "Dummy Classifier\n",
      "Average Train score: 0.7591904454179904\n",
      "Average Test score: 0.7637737239727289\n"
     ]
    }
   ],
   "source": [
    "# Baseline with dummy classifier\n",
    "dummy = DummyClassifier(strategy='most_frequent')\n",
    "# train\n",
    "dummy.fit(Xtrain_encoded, Ytrain)\n",
    "# cross validation on train data\n",
    "dummy_score_train = cross_val_score(dummy, Xtrain_encoded, Ytrain).mean()\n",
    "# accuracy on test data\n",
    "dummy_score_test = accuracy_score(Ytest, dummy.predict(Xtest_encoded))\n",
    "\n",
    "print(\"Dummy Classifier\")\n",
    "print(\"Average Train score:\",dummy_score_train)\n",
    "print(\"Average Test score:\",dummy_score_test)"
   ]
  },
  {
   "cell_type": "code",
   "execution_count": null,
   "metadata": {
    "cell_id": "00009-68e8fed4-6dc5-4450-a543-c8189dee245c",
    "deepnote_cell_type": "code",
    "deepnote_to_be_reexecuted": false,
    "execution_millis": 11957,
    "execution_start": 1643298802175,
    "source_hash": "55437046",
    "tags": []
   },
   "outputs": [
    {
     "name": "stdout",
     "output_type": "stream",
     "text": [
      "Decision Tree Classifier\n",
      "Average Train score: 0.8189860592555205\n",
      "Average Test score: 0.8179473005343653\n"
     ]
    }
   ],
   "source": [
    "# Decision Tree Classifier\n",
    "dtc = DecisionTreeClassifier() \n",
    "# train\n",
    "dtc.fit(Xtrain_encoded, Ytrain)\n",
    "# cross validation on train data\n",
    "dtc_score_train = cross_val_score(dtc, Xtrain_encoded, Ytrain).mean()\n",
    "# accuracy on test data\n",
    "dtc_score_test = accuracy_score(Ytest, dtc.predict(Xtest_encoded))\n",
    "\n",
    "print(\"Decision Tree Classifier\")\n",
    "print(\"Average Train score:\",dtc_score_train)\n",
    "print(\"Average Test score:\",dtc_score_test)"
   ]
  },
  {
   "cell_type": "markdown",
   "metadata": {
    "cell_id": "00011-8d0d850a-3ab7-4e8f-83b9-24c44e2a046a",
    "deepnote_cell_type": "markdown",
    "tags": []
   },
   "source": [
    "### Step 3. Combining the steps.\n",
    "\n",
    "In the example above, we first transformed the list of dictionaries into a numerical matrix, and then we used this matrix when training the classifier. A separate preprocessing step was carried out for the test set.\n",
    "\n",
    "In machine learning setups, we often use long chains of preprocessing steps. The one-hot encoding is one example, and other such steps might be scaling, feature selection, imputation of missing values, etc. As you can imagine, keeping track of the preprocessing steps can be tedious and error-prone, so it makes sense to handle such preprocessing chains automatically.\n",
    "\n",
    "A Pipeline consists of a sequence of scikit-learn modules. The most convenient way to build a Pipeline is to use the utility function make_pipeline. For instance, to build a pipeline consisting of a vectorization step and then a decision tree classifier, we could write\n",
    "\n",
    "    from sklearn.pipeline import make_pipeline\n",
    "    \n",
    "    pipeline = make_pipeline(\n",
    "    DictVectorizer(),\n",
    "    DecisionTreeClassifier() )\n",
    "    \n",
    "The Pipeline can be treated as any classifier: we can call fit and predict as usual. Concretely, when we call fit on a Pipeline, it will in turn call fit_transform on all intermediate steps and then fit on the final step. When we call predict, transform will be called on the intermediate steps and then predict on the final step.\n",
    "\n",
    "Build a pipeline that includes the classifier that you selected previously, and make sure that it works."
   ]
  },
  {
   "cell_type": "markdown",
   "metadata": {
    "cell_id": "00013-a602138c-27f6-4049-9a09-e5a3a9cc6ffe",
    "deepnote_cell_type": "markdown"
   },
   "source": [
    "Importing data and converting the data to dics"
   ]
  },
  {
   "cell_type": "code",
   "execution_count": null,
   "metadata": {
    "cell_id": "00014-6c131bb3-db79-43f1-ad0f-a325002f33fe",
    "deepnote_cell_type": "code",
    "deepnote_to_be_reexecuted": false,
    "execution_millis": 942,
    "execution_start": 1643298813842,
    "source_hash": "18d108e2"
   },
   "outputs": [],
   "source": [
    "# import train data\n",
    "train_data = pd.read_csv('adult_train.csv')\n",
    "\n",
    "n_cols = len(train_data.columns)\n",
    "\n",
    "# split X and Y from data\n",
    "Xtrain = train_data.iloc[:, :n_cols-1].to_dict('records')\n",
    "Ytrain = train_data.iloc[:, n_cols-1]\n",
    "\n",
    "# import test data\n",
    "test_data = pd.read_csv('adult_test.csv')\n",
    "# split X and Y from data\n",
    "Xtest = test_data.iloc[:, :n_cols-1].to_dict('records')\n",
    "Ytest = test_data.iloc[:, n_cols-1]"
   ]
  },
  {
   "cell_type": "markdown",
   "metadata": {
    "cell_id": "00017-bf8cbfb3-c5ff-47e4-a797-350175069d6a",
    "deepnote_cell_type": "markdown"
   },
   "source": [
    "Initialize the DecisionTreeClassifier and adding hyperparameters that can be tested"
   ]
  },
  {
   "cell_type": "code",
   "execution_count": null,
   "metadata": {
    "cell_id": "00018-2aa918d2-f789-46b4-9932-5f477b4d4e73",
    "deepnote_cell_type": "code",
    "deepnote_to_be_reexecuted": false,
    "execution_millis": 1,
    "execution_start": 1643298814785,
    "source_hash": "363aadbf"
   },
   "outputs": [],
   "source": [
    "# Creating the model\n",
    "dtc = DecisionTreeClassifier()\n",
    "\n",
    "# specifying parameters for the models\n",
    "param_grid = {'criterion':['gini', 'entropy'], \n",
    "                     'splitter':['best', 'random'],\n",
    "                     'max_features':['auto', 'sqrt', 'log2'],\n",
    "                     'max_depth': [1,2,3,4,5,6,7,8,9,10] }"
   ]
  },
  {
   "cell_type": "markdown",
   "metadata": {
    "cell_id": "00019-dc9ba740-6c40-4765-bc4d-d9db21c76191",
    "deepnote_cell_type": "markdown"
   },
   "source": [
    "Trying out different parameters for for GridSearchCV and RandomizedSearchCV for the DecisionTreeClassifier."
   ]
  },
  {
   "cell_type": "code",
   "execution_count": null,
   "metadata": {
    "cell_id": "00020-bafd3fc2-6971-46ff-b8fe-8ea3086bf09c",
    "deepnote_cell_type": "code",
    "deepnote_output_heights": [
     78.75
    ],
    "deepnote_to_be_reexecuted": false,
    "execution_millis": 31204,
    "execution_start": 1643298814786,
    "source_hash": "4a35c3f"
   },
   "outputs": [
    {
     "data": {
      "text/plain": [
       "{'criterion': 'entropy',\n",
       " 'max_depth': 5,\n",
       " 'max_features': 'auto',\n",
       " 'splitter': 'random'}"
      ]
     },
     "execution_count": 10,
     "metadata": {},
     "output_type": "execute_result"
    }
   ],
   "source": [
    "# GridSearchCV\n",
    "gridsearch = GridSearchCV(dtc, param_grid)\n",
    "gridsearch.fit(Xtrain_encoded, Ytrain)\n",
    "gridsearch.best_params_"
   ]
  },
  {
   "cell_type": "code",
   "execution_count": null,
   "metadata": {
    "cell_id": "00021-5ac3543e-ed85-49f2-96ad-bb44a9aee013",
    "deepnote_cell_type": "code",
    "deepnote_to_be_reexecuted": false,
    "execution_start": 1643298845997,
    "source_hash": "f2f75dcc"
   },
   "outputs": [
    {
     "name": "stdout",
     "output_type": "stream",
     "text": [
      "random auto entropy 5\n"
     ]
    }
   ],
   "source": [
    "# storing the best parameter for GridSearchCV\n",
    "g_splitter = gridsearch.best_params_['splitter']\n",
    "g_max_features = gridsearch.best_params_['max_features']\n",
    "g_criterion = gridsearch.best_params_['criterion']\n",
    "g_max_depth = gridsearch.best_params_['max_depth']\n",
    "# priting the best parameters\n",
    "print(g_splitter, g_max_features, g_criterion, g_max_depth)"
   ]
  },
  {
   "cell_type": "code",
   "execution_count": null,
   "metadata": {
    "cell_id": "00022-c2c94248-9663-4bb7-aae4-c299d9c2b164",
    "deepnote_cell_type": "code",
    "deepnote_output_heights": [
     78.75
    ],
    "deepnote_to_be_reexecuted": false,
    "execution_millis": 2873,
    "execution_start": 1643298846009,
    "source_hash": "ee1c46f7"
   },
   "outputs": [
    {
     "data": {
      "text/plain": [
       "{'splitter': 'best',\n",
       " 'max_features': 'auto',\n",
       " 'max_depth': 3,\n",
       " 'criterion': 'entropy'}"
      ]
     },
     "execution_count": 12,
     "metadata": {},
     "output_type": "execute_result"
    }
   ],
   "source": [
    "# RandomSearchCV\n",
    "randomsearch = RandomizedSearchCV(dtc, param_grid, n_iter=10)\n",
    "randomsearch.fit(Xtrain_encoded, Ytrain)\n",
    "randomsearch.best_params_"
   ]
  },
  {
   "cell_type": "code",
   "execution_count": null,
   "metadata": {
    "cell_id": "00023-7dc07bdb-ab18-47c2-ba73-e7fd77ec3837",
    "deepnote_cell_type": "code",
    "deepnote_to_be_reexecuted": false,
    "execution_millis": 4,
    "execution_start": 1643298848884,
    "source_hash": "cb3756a1"
   },
   "outputs": [
    {
     "name": "stdout",
     "output_type": "stream",
     "text": [
      "best auto entropy 3\n"
     ]
    }
   ],
   "source": [
    "# storing the best parameter for RandomizedSearchCV\n",
    "r_splitter = randomsearch.best_params_['splitter']\n",
    "r_max_features = randomsearch.best_params_['max_features']\n",
    "r_criterion = randomsearch.best_params_['criterion']\n",
    "r_max_depth = randomsearch.best_params_['max_depth']\n",
    "# priting the best parameters\n",
    "print(r_splitter, r_max_features, r_criterion, r_max_depth)"
   ]
  },
  {
   "cell_type": "markdown",
   "metadata": {
    "cell_id": "00024-b6aad56b-4d20-4f09-a5e4-98f7448e7d45",
    "deepnote_cell_type": "markdown"
   },
   "source": [
    "#### Pipeline Baseline\n",
    "\n",
    "Baseline pipeline without any hyperparameters"
   ]
  },
  {
   "cell_type": "code",
   "execution_count": null,
   "metadata": {
    "cell_id": "00025-56c22ca4-58fb-405f-b1a4-14018c2e51cd",
    "deepnote_cell_type": "code",
    "deepnote_to_be_reexecuted": false,
    "execution_millis": 4,
    "execution_start": 1643298848891,
    "source_hash": "513b9933"
   },
   "outputs": [],
   "source": [
    "pipeline = make_pipeline(\n",
    "    DictVectorizer(),\n",
    "    StandardScaler(with_mean=False),\n",
    "    SelectKBest(k=100),\n",
    "    DecisionTreeClassifier()) "
   ]
  },
  {
   "cell_type": "code",
   "execution_count": null,
   "metadata": {
    "cell_id": "00026-7f9df36a-8e9f-447d-b307-6d2768ee136e",
    "deepnote_cell_type": "code",
    "deepnote_output_heights": [
     78.75
    ],
    "deepnote_to_be_reexecuted": false,
    "execution_millis": 2093,
    "execution_start": 1643298848913,
    "source_hash": "ccd770ef"
   },
   "outputs": [
    {
     "data": {
      "text/plain": [
       "Pipeline(steps=[('dictvectorizer', DictVectorizer()),\n",
       "                ('standardscaler', StandardScaler(with_mean=False)),\n",
       "                ('selectkbest', SelectKBest(k=100)),\n",
       "                ('decisiontreeclassifier', DecisionTreeClassifier())])"
      ]
     },
     "execution_count": 15,
     "metadata": {},
     "output_type": "execute_result"
    }
   ],
   "source": [
    "pipeline.fit(Xtrain, Ytrain)"
   ]
  },
  {
   "cell_type": "code",
   "execution_count": null,
   "metadata": {
    "cell_id": "00027-55677cea-1e6a-44ea-8a07-06a982eb647f",
    "deepnote_cell_type": "code",
    "deepnote_output_heights": [
     21.1875
    ],
    "deepnote_to_be_reexecuted": false,
    "execution_millis": 210,
    "execution_start": 1643298851070,
    "source_hash": "8d29acef"
   },
   "outputs": [
    {
     "data": {
      "text/plain": [
       "0.8189300411522634"
      ]
     },
     "execution_count": 16,
     "metadata": {},
     "output_type": "execute_result"
    }
   ],
   "source": [
    "accuracy_score(Ytest, pipeline.predict(Xtest))"
   ]
  },
  {
   "cell_type": "markdown",
   "metadata": {
    "cell_id": "00028-3bc230ff-245a-4b8a-af9b-5f3f7a514ba7",
    "deepnote_cell_type": "markdown"
   },
   "source": [
    "#### Pipeline GridSearchCV"
   ]
  },
  {
   "cell_type": "code",
   "execution_count": null,
   "metadata": {
    "cell_id": "00029-8f94e449-62a6-4b55-bf4a-d65fbcb4aea1",
    "deepnote_cell_type": "code",
    "deepnote_to_be_reexecuted": false,
    "execution_millis": 8,
    "execution_start": 1643298851283,
    "source_hash": "f11939c"
   },
   "outputs": [],
   "source": [
    "# GridSearchCV \n",
    "g_pipeline = make_pipeline(\n",
    "    DictVectorizer(),\n",
    "    StandardScaler(with_mean=False),\n",
    "    SelectKBest(k=100),\n",
    "    DecisionTreeClassifier(max_features=g_max_features, splitter=g_splitter,\n",
    "                           criterion=g_criterion, max_depth=g_max_depth)) "
   ]
  },
  {
   "cell_type": "code",
   "execution_count": null,
   "metadata": {
    "cell_id": "00030-f24a3de7-a9e8-4070-a50d-7f831dc620ce",
    "deepnote_cell_type": "code",
    "deepnote_output_heights": [
     136.3125
    ],
    "deepnote_to_be_reexecuted": false,
    "execution_millis": 836,
    "execution_start": 1643298851299,
    "source_hash": "5d5acbf4"
   },
   "outputs": [
    {
     "data": {
      "text/plain": [
       "Pipeline(steps=[('dictvectorizer', DictVectorizer()),\n",
       "                ('standardscaler', StandardScaler(with_mean=False)),\n",
       "                ('selectkbest', SelectKBest(k=100)),\n",
       "                ('decisiontreeclassifier',\n",
       "                 DecisionTreeClassifier(criterion='entropy', max_depth=5,\n",
       "                                        max_features='auto',\n",
       "                                        splitter='random'))])"
      ]
     },
     "execution_count": 18,
     "metadata": {},
     "output_type": "execute_result"
    }
   ],
   "source": [
    "g_pipeline.fit(Xtrain, Ytrain)"
   ]
  },
  {
   "cell_type": "code",
   "execution_count": null,
   "metadata": {
    "cell_id": "00031-542cae86-5834-4b1e-836f-7f5aa5f10817",
    "deepnote_cell_type": "code",
    "deepnote_output_heights": [
     21.1875
    ],
    "deepnote_to_be_reexecuted": false,
    "execution_millis": 267,
    "execution_start": 1643298851957,
    "source_hash": "40c11898"
   },
   "outputs": [
    {
     "data": {
      "text/plain": [
       "0.7916589890055893"
      ]
     },
     "execution_count": 19,
     "metadata": {},
     "output_type": "execute_result"
    }
   ],
   "source": [
    "accuracy_score(Ytest, g_pipeline.predict(Xtest))"
   ]
  },
  {
   "cell_type": "markdown",
   "metadata": {
    "cell_id": "00032-cc881ee6-4c6b-4991-9b39-d68cbb8d2438",
    "deepnote_cell_type": "markdown"
   },
   "source": [
    "#### Pipeline RandomizedSearchCV"
   ]
  },
  {
   "cell_type": "code",
   "execution_count": null,
   "metadata": {
    "cell_id": "00033-b2a86c2a-7e73-40bb-bb26-a7f9e155ab2b",
    "deepnote_cell_type": "code",
    "deepnote_to_be_reexecuted": false,
    "execution_millis": 0,
    "execution_start": 1643298852225,
    "source_hash": "80e660d3"
   },
   "outputs": [],
   "source": [
    "# RandomizedSearchCV \n",
    "r_pipeline = make_pipeline(\n",
    "    DictVectorizer(),\n",
    "    StandardScaler(with_mean=False),\n",
    "    SelectKBest(k=100),\n",
    "    DecisionTreeClassifier(max_features=r_max_features,splitter=r_splitter,\n",
    "                           criterion=r_criterion, max_depth=r_max_depth))"
   ]
  },
  {
   "cell_type": "code",
   "execution_count": null,
   "metadata": {
    "cell_id": "00034-d4c3b900-11fa-4cdd-bb06-60b50a03acd0",
    "deepnote_cell_type": "code",
    "deepnote_output_heights": [
     117.125
    ],
    "deepnote_to_be_reexecuted": false,
    "execution_millis": 608,
    "execution_start": 1643298852234,
    "source_hash": "b3facc26"
   },
   "outputs": [
    {
     "data": {
      "text/plain": [
       "Pipeline(steps=[('dictvectorizer', DictVectorizer()),\n",
       "                ('standardscaler', StandardScaler(with_mean=False)),\n",
       "                ('selectkbest', SelectKBest(k=100)),\n",
       "                ('decisiontreeclassifier',\n",
       "                 DecisionTreeClassifier(criterion='entropy', max_depth=3,\n",
       "                                        max_features='auto'))])"
      ]
     },
     "execution_count": 21,
     "metadata": {},
     "output_type": "execute_result"
    }
   ],
   "source": [
    "r_pipeline.fit(Xtrain, Ytrain)"
   ]
  },
  {
   "cell_type": "code",
   "execution_count": null,
   "metadata": {
    "cell_id": "00035-5caf95df-79ae-4480-8e01-57bf36bdff30",
    "deepnote_cell_type": "code",
    "deepnote_output_heights": [
     21.1875
    ],
    "deepnote_to_be_reexecuted": false,
    "execution_millis": 244,
    "execution_start": 1643298852879,
    "source_hash": "bcd825ef"
   },
   "outputs": [
    {
     "data": {
      "text/plain": [
       "0.7637737239727289"
      ]
     },
     "execution_count": 22,
     "metadata": {},
     "output_type": "execute_result"
    }
   ],
   "source": [
    "accuracy_score(Ytest, r_pipeline.predict(Xtest))"
   ]
  },
  {
   "cell_type": "markdown",
   "metadata": {
    "cell_id": "00036-dcb18c90-13cd-4283-bab5-d3016a4d429e",
    "deepnote_cell_type": "markdown"
   },
   "source": [
    "The accuracy from the pipelines differs, but not to a huge extent. The normal pipeline without patameter tuning had the lowest accuracy. The GridSearchCV with parameter tuning had a slightly higher accuracy then the baseline pipe. Lastly, the RandomizedSearchCV had the higest accuracy with hyperparameters: \n",
    "\n",
    "    'splitter': 'best',\n",
    "    'max_features': 'sqrt',\n",
    "    'max_depth': 8,\n",
    "    'criterion': 'gini'}"
   ]
  }
 ],
 "metadata": {
  "deepnote": {
   "is_reactive": false
  },
  "deepnote_execution_queue": [],
  "deepnote_notebook_id": "91923d2a-d838-496e-b2db-687bcef3738d",
  "kernelspec": {
   "display_name": "Python 3",
   "language": "python",
   "name": "python3"
  },
  "language_info": {
   "codemirror_mode": {
    "name": "ipython",
    "version": 3
   },
   "file_extension": ".py",
   "mimetype": "text/x-python",
   "name": "python",
   "nbconvert_exporter": "python",
   "pygments_lexer": "ipython3",
   "version": "3.9.2"
  }
 },
 "nbformat": 4,
 "nbformat_minor": 2
}
