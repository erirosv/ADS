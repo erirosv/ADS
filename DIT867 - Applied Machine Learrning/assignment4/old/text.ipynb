{
 "cells": [
  {
   "cell_type": "markdown",
   "metadata": {},
   "source": [
    "By training on the same structured data, the model begins to learn patterns to predict (\"memorizing\"). By adding new data to the data set, the model will have problems to make a prediction since it dosen recognize any pattern. This can also occur when there is not enought data to train the model on. A small data set will make the model to make predictions on specific pattern and not a general prediction on all the possible outcomes."
   ]
  },
  {
   "cell_type": "code",
   "execution_count": null,
   "metadata": {},
   "outputs": [],
   "source": [
    "dist variabler, strukturerat, "
   ]
  }
 ],
 "metadata": {
  "kernelspec": {
   "display_name": "Python 3",
   "language": "python",
   "name": "python3"
  },
  "language_info": {
   "codemirror_mode": {
    "name": "ipython",
    "version": 3
   },
   "file_extension": ".py",
   "mimetype": "text/x-python",
   "name": "python",
   "nbconvert_exporter": "python",
   "pygments_lexer": "ipython3",
   "version": "3.9.2"
  }
 },
 "nbformat": 4,
 "nbformat_minor": 4
}
