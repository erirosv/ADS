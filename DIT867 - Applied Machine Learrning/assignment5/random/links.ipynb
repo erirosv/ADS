{
 "cells": [
  {
   "cell_type": "markdown",
   "id": "fc3b230d",
   "metadata": {},
   "source": [
    "- https://github.com/anh-nn01/Simple-Art-Generator-using-VGG19-Convolutional-Neural-Network\n",
    "- https://github.com/christianversloot/machine-learning-articles/blob/main/how-to-create-a-cnn-classifier-with-keras.md\n",
    "- https://github.com/experiencor/self-driving-toy-car/blob/master/network/Learn%20to%20Drive.ipynb\n",
    "- https://machinelearningknowledge.ai/keras-implementation-of-vgg16-architecture-from-scratch-with-dogs-vs-cat-data-set/\n",
    "- https://keras.io/api/layers/activations/\n",
    "- https://keras.io/api/preprocessing/image/\n",
    "- https://www.tensorflow.org/api_docs/python/tf/keras/preprocessing/image/ImageDataGenerator\n",
    "- https://www.tensorflow.org/api_docs/python/tf/keras/Model#evaluate\n",
    "- https://stackoverflow.com/questions/60003006/could-validation-data-be-a-generator-in-tensorflow-keras-2-0\n",
    "- "
   ]
  },
  {
   "cell_type": "code",
   "execution_count": null,
   "id": "a26bdd91",
   "metadata": {},
   "outputs": [],
   "source": []
  }
 ],
 "metadata": {
  "kernelspec": {
   "display_name": "Python 3 (ipykernel)",
   "language": "python",
   "name": "python3"
  },
  "language_info": {
   "codemirror_mode": {
    "name": "ipython",
    "version": 3
   },
   "file_extension": ".py",
   "mimetype": "text/x-python",
   "name": "python",
   "nbconvert_exporter": "python",
   "pygments_lexer": "ipython3",
   "version": "3.10.0"
  }
 },
 "nbformat": 4,
 "nbformat_minor": 5
}
