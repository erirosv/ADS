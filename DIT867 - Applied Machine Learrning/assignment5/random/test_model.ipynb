{
 "cells": [
  {
   "cell_type": "code",
   "execution_count": 1,
   "id": "43a5df71",
   "metadata": {},
   "outputs": [],
   "source": [
    "from matplotlib import pyplot as plt\n",
    "from tensorflow.keras.preprocessing.image import ImageDataGenerator"
   ]
  },
  {
   "cell_type": "code",
   "execution_count": 2,
   "id": "8881f13b",
   "metadata": {},
   "outputs": [],
   "source": [
    "data_gen = ImageDataGenerator(rescale=1.0/255)"
   ]
  },
  {
   "cell_type": "code",
   "execution_count": 3,
   "id": "b9d19a20",
   "metadata": {},
   "outputs": [
    {
     "name": "stdout",
     "output_type": "stream",
     "text": [
      "Found 1600 images belonging to 2 classes.\n",
      "Found 576 images belonging to 2 classes.\n"
     ]
    }
   ],
   "source": [
    "imgdir = 'a5_images' # or wherever you put them...\n",
    "img_size = 64\n",
    "batch_size = 32\n",
    "\n",
    "train_generator = data_gen.flow_from_directory(\n",
    "        imgdir + '/train',\n",
    "        target_size=(img_size, img_size),\n",
    "        batch_size=batch_size,\n",
    "        class_mode='binary',\n",
    "        classes=['other', 'car'],\n",
    "        seed=12345,\n",
    "        shuffle=True)\n",
    "\n",
    "val_generator = data_gen.flow_from_directory(\n",
    "        imgdir + '/validation',\n",
    "        target_size=(img_size, img_size),\n",
    "        batch_size=batch_size,\n",
    "        class_mode='binary',\n",
    "        classes=['other', 'car'],\n",
    "        seed=12345,\n",
    "        shuffle=True)"
   ]
  },
  {
   "cell_type": "code",
   "execution_count": 4,
   "id": "628bb87a",
   "metadata": {},
   "outputs": [],
   "source": [
    "Xbatch, Ybatch = train_generator.next()"
   ]
  },
  {
   "cell_type": "code",
   "execution_count": 5,
   "id": "6f6eed8b",
   "metadata": {},
   "outputs": [],
   "source": [
    "X_val, Y_val = val_generator.next()"
   ]
  },
  {
   "cell_type": "code",
   "execution_count": 6,
   "id": "8ea77b1a",
   "metadata": {},
   "outputs": [
    {
     "data": {
      "text/plain": [
       "(32, 64, 64, 3)"
      ]
     },
     "execution_count": 6,
     "metadata": {},
     "output_type": "execute_result"
    }
   ],
   "source": [
    "Xbatch.shape"
   ]
  },
  {
   "cell_type": "code",
   "execution_count": 7,
   "id": "b0165f20",
   "metadata": {},
   "outputs": [
    {
     "data": {
      "text/plain": [
       "1.0"
      ]
     },
     "execution_count": 7,
     "metadata": {},
     "output_type": "execute_result"
    }
   ],
   "source": [
    "Ybatch[4]"
   ]
  },
  {
   "cell_type": "code",
   "execution_count": 8,
   "id": "e3bb4b8f",
   "metadata": {},
   "outputs": [
    {
     "data": {
      "image/png": "[encoded data removed]",
      "text/plain": [
       "<Figure size 432x288 with 1 Axes>"
      ]
     },
     "metadata": {
      "needs_background": "light"
     },
     "output_type": "display_data"
    }
   ],
   "source": [
    "plt.imshow(Xbatch[4]);"
   ]
  },
  {
   "cell_type": "code",
   "execution_count": 9,
   "id": "1639de9b",
   "metadata": {},
   "outputs": [],
   "source": [
    "from keras.models import Sequential\n",
    "from keras.layers import Dense, Conv2D, Flatten\n",
    "\n",
    "from keras.models import Sequential\n",
    "from keras.layers import Conv2D\n",
    "from keras.layers import MaxPool2D\n",
    "from keras.layers import Dropout\n",
    "import keras"
   ]
  },
  {
   "cell_type": "code",
   "execution_count": 10,
   "id": "12fc421b",
   "metadata": {},
   "outputs": [],
   "source": [
    "#create model\n",
    "def make_convnet(img_size, channel):\n",
    "    #create model\n",
    "    model = Sequential()\n",
    "\n",
    "    #add model layers\n",
    "    model.add(Conv2D(64, kernel_size=3, activation='relu', input_shape=(img_size,img_size,channel))) # layer 1\n",
    "    model.add(Conv2D(32, kernel_size=3, activation='relu')) # layer 2\n",
    "    model.add(Dense(2, activation='softmax'))\n",
    "    model.add(Flatten())\n",
    "\n",
    "    ## Binary crossentropy loss function and Adam optimizer \n",
    "    model.compile(optimizer='adam', loss='binary_crossentropy', metrics=['accuracy']) \n",
    "    return model\n",
    "\n",
    "def train_model(model, epo):\n",
    "    model.fit(Xbatch, Ybatch, validation_data=(X_val, Y_val), epochs=epo)\n",
    "    return model\n",
    "\n",
    "def model_info(model):\n",
    "    return model.summary()"
   ]
  },
  {
   "cell_type": "code",
   "execution_count": 11,
   "id": "2cf07319",
   "metadata": {
    "scrolled": true
   },
   "outputs": [
    {
     "name": "stdout",
     "output_type": "stream",
     "text": [
      "Epoch 1/10\n",
      "1/1 [==============================] - 1s 872ms/step - loss: 0.6960 - accuracy: 0.0000e+00 - val_loss: 0.6933 - val_accuracy: 0.0000e+00\n",
      "Epoch 2/10\n",
      "1/1 [==============================] - 0s 341ms/step - loss: 0.6933 - accuracy: 0.0000e+00 - val_loss: 0.6934 - val_accuracy: 0.0000e+00\n",
      "Epoch 3/10\n",
      "1/1 [==============================] - 0s 321ms/step - loss: 0.6934 - accuracy: 0.0000e+00 - val_loss: 0.6936 - val_accuracy: 0.0000e+00\n",
      "Epoch 4/10\n",
      "1/1 [==============================] - 0s 325ms/step - loss: 0.6936 - accuracy: 0.0000e+00 - val_loss: 0.6935 - val_accuracy: 0.0000e+00\n",
      "Epoch 5/10\n",
      "1/1 [==============================] - 0s 320ms/step - loss: 0.6935 - accuracy: 0.0000e+00 - val_loss: 0.6934 - val_accuracy: 0.0000e+00\n",
      "Epoch 6/10\n",
      "1/1 [==============================] - 0s 316ms/step - loss: 0.6934 - accuracy: 0.0000e+00 - val_loss: 0.6932 - val_accuracy: 0.0000e+00\n",
      "Epoch 7/10\n",
      "1/1 [==============================] - 0s 333ms/step - loss: 0.6933 - accuracy: 0.0000e+00 - val_loss: 0.6932 - val_accuracy: 0.0000e+00\n",
      "Epoch 8/10\n",
      "1/1 [==============================] - 0s 322ms/step - loss: 0.6932 - accuracy: 0.0000e+00 - val_loss: 0.6932 - val_accuracy: 0.0000e+00\n",
      "Epoch 9/10\n",
      "1/1 [==============================] - 0s 341ms/step - loss: 0.6932 - accuracy: 0.0000e+00 - val_loss: 0.6932 - val_accuracy: 0.0000e+00\n",
      "Epoch 10/10\n",
      "1/1 [==============================] - 0s 335ms/step - loss: 0.6932 - accuracy: 0.0000e+00 - val_loss: 0.6932 - val_accuracy: 0.0000e+00\n"
     ]
    }
   ],
   "source": [
    "mm = make_convnet(img_size, 3)\n",
    "trained_model = train_model(mm, 10)"
   ]
  },
  {
   "cell_type": "code",
   "execution_count": null,
   "id": "56a53b70",
   "metadata": {},
   "outputs": [],
   "source": [
    "model_summary = model_info(trained_model)"
   ]
  },
  {
   "cell_type": "code",
   "execution_count": null,
   "id": "1553623a",
   "metadata": {},
   "outputs": [],
   "source": [
    "\"\"\"model = Sequential()\n",
    "\n",
    "    #add model layers\n",
    "    model.add(Conv2D(64, kernel_size=3, activation='relu', input_shape=(img_size,img_size,channel))) # layer 1\n",
    "    model.add(Conv2D(256, kernel_size=3, activation='relu')) # layer 2\n",
    "    model.add(MaxPool2D(pool_size=(2,2)))\n",
    "    model.add(Dropout(0.2))\n",
    "\n",
    "    model.add(Conv2D(32, kernel_size=3, activation='softmax')) # layer 3\n",
    "    model.add(MaxPool2D(pool_size=(2,2)))\n",
    "    model.add(Dropout(0.2))\n",
    "    \n",
    "    model.add(Conv2D(256, kernel_size=3, activation='relu')) # layer 4\n",
    "    model.add(MaxPool2D(pool_size=(2,2)))\n",
    "    model.add(Dropout(0.2))\n",
    "    \n",
    "    model.add(Conv2D(256, kernel_size=3, activation='sigmoid')) # layer 5\n",
    "    model.add(MaxPool2D(pool_size=(2,2)))\n",
    "    model.add(Dropout(0.5))\n",
    "    \n",
    "    model.add(Flatten())\n",
    "    \n",
    "    # Input + Output Layer\n",
    "    model.add(Dense(10, activation='relu'))\n",
    "    \"\"\"model.add(Dense(units=256,activation='relu'))\n",
    "    model.add(Dense(units=256,activation='relu'))\n",
    "    model.add(Dense(units=batch_size,activation='softmax'))\"\"\"\n",
    "    \n",
    "    model.compile(optimizer='Adam', loss='sparse_categorical_crossentropy', metrics=['accuracy']) \n",
    "    return model\"\"\""
   ]
  },
  {
   "cell_type": "code",
   "execution_count": null,
   "id": "b1c12de9",
   "metadata": {},
   "outputs": [],
   "source": []
  },
  {
   "cell_type": "code",
   "execution_count": 12,
   "id": "8024fa40",
   "metadata": {},
   "outputs": [
    {
     "name": "stdout",
     "output_type": "stream",
     "text": [
      "Downloading data from https://storage.googleapis.com/tensorflow/keras-applications/vgg16/vgg16_weights_tf_dim_ordering_tf_kernels.h5\n",
      "553467904/553467096 [==============================] - 20s 0us/step\n",
      "553476096/553467096 [==============================] - 20s 0us/step\n"
     ]
    }
   ],
   "source": [
    "from tensorflow.keras import applications\n",
    "from tensorflow.keras.preprocessing.image import load_img, img_to_array\n",
    "from tensorflow.keras.applications.vgg16 import decode_predictions, preprocess_input\n",
    "\n",
    "vggmodel = applications.VGG16(weights='imagenet', include_top=True)"
   ]
  },
  {
   "cell_type": "code",
   "execution_count": null,
   "id": "51a97729",
   "metadata": {},
   "outputs": [],
   "source": []
  },
  {
   "cell_type": "code",
   "execution_count": null,
   "id": "6c2afd6b",
   "metadata": {},
   "outputs": [],
   "source": []
  },
  {
   "cell_type": "code",
   "execution_count": null,
   "id": "8bcea340",
   "metadata": {},
   "outputs": [],
   "source": []
  }
 ],
 "metadata": {
  "kernelspec": {
   "display_name": "Python 3 (ipykernel)",
   "language": "python",
   "name": "python3"
  },
  "language_info": {
   "codemirror_mode": {
    "name": "ipython",
    "version": 3
   },
   "file_extension": ".py",
   "mimetype": "text/x-python",
   "name": "python",
   "nbconvert_exporter": "python",
   "pygments_lexer": "ipython3",
   "version": "3.10.0"
  }
 },
 "nbformat": 4,
 "nbformat_minor": 5
}
