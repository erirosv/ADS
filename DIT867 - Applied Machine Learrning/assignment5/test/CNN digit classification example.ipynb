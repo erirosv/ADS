{
 "cells": [
  {
   "cell_type": "markdown",
   "metadata": {},
   "source": [
    "## Classifying handwritten digits using convolutional neural networks\n",
    "\n",
    "In this example, we will apply convolutional neural networks (CNNs) to MNIST, a dataset containing images of handwritten digits. This is one of the most well-known datasets in machine learning."
   ]
  },
  {
   "cell_type": "code",
   "execution_count": 1,
   "metadata": {},
   "outputs": [],
   "source": [
    "# If we initialize the random number generator before loading Keras, we'll get the same\n",
    "# result each time we run the notebook.\n",
    "import numpy as np\n",
    "np.random.seed(0)\n",
    "\n",
    "import tensorflow.keras as keras\n",
    "from tensorflow.keras.datasets import mnist\n",
    "from tensorflow.keras.layers import Dense, Flatten\n",
    "from tensorflow.keras.layers import Conv2D, MaxPooling2D\n",
    "from tensorflow.keras.models import Sequential\n",
    "\n",
    "import matplotlib.pyplot as plt\n",
    "\n",
    "# To set the color used to display monochrome images.\n",
    "plt.rcParams['image.cmap'] = 'Blues'"
   ]
  },
  {
   "cell_type": "markdown",
   "metadata": {},
   "source": [
    "### Reading and preprocessing the data\n",
    "\n",
    "Keras includes a function to load the MNIST data. The function returns two pairs: the input and output data of the training and test set, respectively.\n",
    "\n",
    "These are all 28x28 grayscale images."
   ]
  },
  {
   "cell_type": "code",
   "execution_count": 2,
   "metadata": {},
   "outputs": [
    {
     "data": {
      "text/plain": [
       "(28, 28)"
      ]
     },
     "execution_count": 2,
     "metadata": {},
     "output_type": "execute_result"
    }
   ],
   "source": [
    "(x_train, y_train), (x_test, y_test) = mnist.load_data()\n",
    "\n",
    "img_width, img_height = x_train[0].shape\n",
    "\n",
    "img_width, img_height"
   ]
  },
  {
   "cell_type": "markdown",
   "metadata": {},
   "source": [
    "Before we can apply the CNN, we need to carry out a few steps of preprocessing.\n",
    "\n",
    "First, we need to reshape the data a bit into a form that is suitable for the CNN. Currently, each image is represented as a 28x28 matrix. Even though the images are in a grayscale format, we need to convert them to three-dimensional objects (formally, 3-dimensional *tensors*). The reason is that all convolutions in Keras are applied to 3-dimensional data, even for grayscale images.\n",
    "\n",
    "This means that the whole training set and test set become four-dimensional. (Number of images x 28 x 28 x 1.)\n",
    "\n",
    "We use NumPy's `reshape` operation to carry out this transformation."
   ]
  },
  {
   "cell_type": "code",
   "execution_count": 3,
   "metadata": {},
   "outputs": [],
   "source": [
    "x_train = x_train.reshape(x_train.shape[0], img_width, img_height, 1)\n",
    "x_test = x_test.reshape(x_test.shape[0], img_width, img_height, 1)"
   ]
  },
  {
   "cell_type": "markdown",
   "metadata": {},
   "source": [
    "The second transformation is a rescaling of the pixel values. Instead of ranging from 0 to 255, they will now be in the range between 0 and 1.\n",
    "\n",
    "The reason for this transformation is just that it is easier for the CNN to learn if the features values aren't too large. (Alternatively, we could have initialized the CNN weights to smaller values.) If you don't rescale, the CNN will still learn, just more slowly."
   ]
  },
  {
   "cell_type": "code",
   "execution_count": 4,
   "metadata": {},
   "outputs": [],
   "source": [
    "x_train = x_train / 255\n",
    "x_test = x_test / 255"
   ]
  },
  {
   "cell_type": "markdown",
   "metadata": {
    "collapsed": true
   },
   "source": [
    "To exemplify, let's use `plt.imshow` to visualize an image. (This function assumes that the pixel values are between 0 and 1, so the rescaling we did above is necessary here as well.)\n",
    "\n",
    "The notation `x_train[12,:,:,0]` means: 12th image in training set, all rows and columns, and first color dimension."
   ]
  },
  {
   "cell_type": "code",
   "execution_count": 5,
   "metadata": {},
   "outputs": [
    {
     "data": {
      "image/png": "[encoded data removed]",
      "text/plain": [
       "<Figure size 432x288 with 1 Axes>"
      ]
     },
     "metadata": {
      "needs_background": "light"
     },
     "output_type": "display_data"
    }
   ],
   "source": [
    "plt.imshow(x_train[12,:,:,0]);"
   ]
  },
  {
   "cell_type": "markdown",
   "metadata": {
    "collapsed": true
   },
   "source": [
    "**OPTIONALLY**, as a final step of preprocessing, we can convert the output labels (digits) into \"one-hot\" vectors. For instance, the digit 2 will become `[0,0,1,0,...,0]`. In older versions of Keras, this was necessary when using the softmax output layer and the categorical cross-entropy loss function. In modern Keras versions, we can use the `sparse_categorical_crossentropy` loss function to keep things simpler, and this preprocessing can be skipped."
   ]
  },
  {
   "cell_type": "code",
   "execution_count": 6,
   "metadata": {},
   "outputs": [],
   "source": [
    "#y_train = keras.utils.to_categorical(y_train)\n",
    "#y_test = keras.utils.to_categorical(y_test)\n",
    "\n",
    "# For instance, here is how the first instance in the training set is encodes.\n",
    "#y_train[0]"
   ]
  },
  {
   "cell_type": "markdown",
   "metadata": {
    "collapsed": true
   },
   "source": [
    "### Training the CNN\n",
    "\n",
    "Now we have everything to train the CNN. As in the feedforward NN, we start by creating a `Sequential` model. (This means that our classifier consists of layers.)\n",
    "\n",
    "Then, we alternate convolutional and pooling layers, as is customary in CNN. We use ReLU units in the hidden layers. Finally, we apply a `Flatten`, to convert the feature maps after the last pooling step into vectors. The final part of the model looks like a normal feedforward neural network: first, a standard hidden layer using 128 units, and finally the output softmax layer.\n",
    "\n",
    "We train the model using the Adam optimizer. To keep things simple, we let it train for just one epoch; for real-world problems, there would be many epochs, probably using early stopping to determine when to terminate training."
   ]
  },
  {
   "cell_type": "code",
   "execution_count": 7,
   "metadata": {},
   "outputs": [
    {
     "name": "stdout",
     "output_type": "stream",
     "text": [
      "235/235 [==============================] - 28s 119ms/step - loss: 0.2743 - accuracy: 0.9226 - val_loss: 0.0791 - val_accuracy: 0.9765\n"
     ]
    }
   ],
   "source": [
    "num_classes = 10\n",
    "\n",
    "model = Sequential()\n",
    "model.add(Conv2D(32, kernel_size=(5, 5), strides=(1, 1),\n",
    "                 activation='relu',\n",
    "                 input_shape=(img_width, img_height, 1)))\n",
    "model.add(MaxPooling2D(pool_size=(2, 2), strides=(2, 2)))\n",
    "model.add(Conv2D(64, (5, 5), activation='relu'))\n",
    "model.add(MaxPooling2D(pool_size=(2, 2)))\n",
    "model.add(Flatten())\n",
    "model.add(Dense(128, activation='relu'))\n",
    "model.add(Dense(num_classes, activation='softmax'))\n",
    "\n",
    "model.compile(loss='sparse_categorical_crossentropy',\n",
    "              optimizer='adam',\n",
    "              metrics=['accuracy'])\n",
    "\n",
    "model.fit(x_train, y_train,\n",
    "          batch_size=256,\n",
    "          epochs=1,\n",
    "          verbose=1,\n",
    "          validation_data=(x_test, y_test));"
   ]
  },
  {
   "cell_type": "markdown",
   "metadata": {},
   "source": [
    "Please note that if you retrain the model, the result might be a slightly different, because of randomness in weight initialization and in the Adam optimizer.\n",
    "\n",
    "We can evaluate as we did in the previous notebook, using `predict_class` and scikit-learn's `accuracy_score`, but we can also take a shortcut by calling `model.evaluate`."
   ]
  },
  {
   "cell_type": "code",
   "execution_count": 8,
   "metadata": {},
   "outputs": [
    {
     "name": "stdout",
     "output_type": "stream",
     "text": [
      "Test loss: 0.0791323184967041\n",
      "Test accuracy: 0.9764999747276306\n"
     ]
    }
   ],
   "source": [
    "score = model.evaluate(x_test, y_test, verbose=0)\n",
    "print('Test loss:', score[0])\n",
    "print('Test accuracy:', score[1])"
   ]
  },
  {
   "cell_type": "markdown",
   "metadata": {},
   "source": [
    "### Inspecting the output\n",
    "\n",
    "Let's exemplify the classifier's output.\n",
    "\n",
    "We first take a look at an instance from the test set. Let's say for instance that we look at the 100th instance (which happens to represent the number 6):"
   ]
  },
  {
   "cell_type": "code",
   "execution_count": 9,
   "metadata": {},
   "outputs": [
    {
     "data": {
      "image/png": "[encoded data removed]",
      "text/plain": [
       "<Figure size 432x288 with 1 Axes>"
      ]
     },
     "metadata": {
      "needs_background": "light"
     },
     "output_type": "display_data"
    }
   ],
   "source": [
    "plt.imshow(x_test[100,:,:,0]);"
   ]
  },
  {
   "cell_type": "markdown",
   "metadata": {},
   "source": [
    "We compute the predictions for all instances in the test set. We do this in two steps: first, we compute the probabilities predicted by the classifier using the softmax output for all instances in the test set. This gives us a $N$ x 10 matrix, where $N$ is the number of instances and 10 because there are 10 possible digits (from 0 to 9). Secondly, for each row (test set instance), we find the digit that has the highest probability.\n",
    "\n",
    "As you can see, the model has made a correct prediction for the 100th instance."
   ]
  },
  {
   "cell_type": "code",
   "execution_count": 10,
   "metadata": {},
   "outputs": [
    {
     "data": {
      "text/plain": [
       "6"
      ]
     },
     "execution_count": 10,
     "metadata": {},
     "output_type": "execute_result"
    }
   ],
   "source": [
    "predicted_probs = model.predict(x_test)\n",
    "\n",
    "guesses = predicted_probs.argmax(axis=-1)\n",
    "\n",
    "guesses[100]"
   ]
  },
  {
   "cell_type": "markdown",
   "metadata": {},
   "source": [
    "We make a small helper function that sorts the probabilities and prints them in the sorted order.\n",
    "\n",
    "Again considering the 100th instance, we see that it has been determined to be an image of the digit 6 with a probability very close to 1."
   ]
  },
  {
   "cell_type": "code",
   "execution_count": 11,
   "metadata": {},
   "outputs": [
    {
     "name": "stdout",
     "output_type": "stream",
     "text": [
      "6: 0.9972\n",
      "0: 0.0015\n",
      "8: 0.0007\n",
      "5: 0.0003\n",
      "4: 0.0001\n",
      "2: 0.0001\n",
      "1: 0.0000\n",
      "9: 0.0000\n",
      "3: 0.0000\n",
      "7: 0.0000\n"
     ]
    }
   ],
   "source": [
    "def print_probs(ps):\n",
    "    for p, i in sorted([(p, i) for i, p in enumerate(ps)], reverse=True):\n",
    "        print(f'{i}: {p:.4f}')\n",
    "\n",
    "print_probs(predicted_probs[100])"
   ]
  },
  {
   "cell_type": "markdown",
   "metadata": {},
   "source": [
    "Finally, let's inspect some of the errors.\n",
    "\n",
    "We gather all misclassified instances in a list. For each misclassified instance, we store the output probability of the guessed class, the probabilities of all classes, the true digit class, and the image.\n",
    "\n",
    "We sort the list by the output probabilities, so that the first instances in the list are those where the classifier had a (misguided) high confidence in the erroneous predictions.\n",
    "\n",
    "As you can see, 187 out of the 10,000 test instances were misclassified. [Again, this number may vary if you retrain the model, because of randomness in the training process.]"
   ]
  },
  {
   "cell_type": "code",
   "execution_count": 12,
   "metadata": {},
   "outputs": [
    {
     "data": {
      "text/plain": [
       "235"
      ]
     },
     "execution_count": 12,
     "metadata": {},
     "output_type": "execute_result"
    }
   ],
   "source": [
    "errors = []\n",
    "\n",
    "for x, y, g, p in zip(x_test, y_test, guesses, predicted_probs):    \n",
    "    if y != g:\n",
    "        errors.append( (p[g], p, y, x[:,:,0]) )\n",
    "\n",
    "errors.sort(reverse=True)\n",
    "\n",
    "len(errors)"
   ]
  },
  {
   "cell_type": "markdown",
   "metadata": {},
   "source": [
    "Here is the instance where the classifier was most confident in its incorrect prediction. In this case, this is an instance of the digit 6, which was misclassified as a 4. This instance is quite hard to classify even for the human eye.\n",
    "\n",
    "[Again, you may see a different result if you retrain.]"
   ]
  },
  {
   "cell_type": "code",
   "execution_count": 13,
   "metadata": {},
   "outputs": [
    {
     "name": "stdout",
     "output_type": "stream",
     "text": [
      "Correct label: 6\n",
      "0: 0.9990\n",
      "6: 0.0009\n",
      "9: 0.0000\n",
      "5: 0.0000\n",
      "2: 0.0000\n",
      "8: 0.0000\n",
      "3: 0.0000\n",
      "4: 0.0000\n",
      "7: 0.0000\n",
      "1: 0.0000\n"
     ]
    },
    {
     "data": {
      "image/png": "[encoded data removed]",
      "text/plain": [
       "<Figure size 432x288 with 1 Axes>"
      ]
     },
     "metadata": {
      "needs_background": "light"
     },
     "output_type": "display_data"
    }
   ],
   "source": [
    "def show_error(err):\n",
    "    _, p, label, img = err    \n",
    "    print('Correct label:', label)\n",
    "    print_probs(p)\n",
    "    plt.imshow(img)\n",
    "        \n",
    "show_error(errors[0])"
   ]
  },
  {
   "cell_type": "code",
   "execution_count": null,
   "metadata": {},
   "outputs": [],
   "source": []
  }
 ],
 "metadata": {
  "kernelspec": {
   "display_name": "Python 3 (ipykernel)",
   "language": "python",
   "name": "python3"
  },
  "language_info": {
   "codemirror_mode": {
    "name": "ipython",
    "version": 3
   },
   "file_extension": ".py",
   "mimetype": "text/x-python",
   "name": "python",
   "nbconvert_exporter": "python",
   "pygments_lexer": "ipython3",
   "version": "3.10.0"
  }
 },
 "nbformat": 4,
 "nbformat_minor": 2
}
