{
 "cells": [
  {
   "cell_type": "markdown",
   "id": "e7afc5ff",
   "metadata": {},
   "source": [
    "# Project Assignment 3: Stance detecion\n",
    "\n",
    "Write the code to implement a classifier that determines whether a given comment expresses a pro-vaccination or anti-vaccination stance. \n",
    "\n",
    "Initially, you will work with a small sample that you can use to get things set up. Eventually, you will receive the full dataset: first including the result of the first annotation, and later the result of the second round. Please note that your results may change (e.g. which model performs best) when you switch from the small sample to the full dataset.\n",
    "\n",
    "In your implementation, you are free to use any machine learning approach you think could be useful: the only restriction is that you are not allowed to use existing implementations that carry out exactly this task (that is: classifying whether a text is pro- or anti-vaccine). You may take some inspiration from the document classification examples shown in Lecture 4. However, it is probably useful to try to improve over this solution. For instance, you may read more about the TfidfVectorizer and see what you can do with it.\n",
    "\n",
    "---\n",
    "Then write a report detailing your implementation, your experiments and analysis. In particular, some useful issues to discuss might include:\n",
    "\n",
    "1. How much consensus is there between annotators of the dataset? Do you think the data is reliable?\n",
    "2. How do you represent your data as features?\n",
    "3. Did you process the features in any way?\n",
    "4. How did you select which learning algorithms to use?\n",
    "5. Did you try to tune the hyperparameters of the learning algorithm, and in that case how?\n",
    "6. How do you evaluate the quality of your system?\n",
    "7. How well does your system compare to a trivial baseline?\n",
    "8. Can you say anything about the errors that the system makes? For a classification task, you may consider a confusion matrix. It is also probably meaningful to include selected errors and comment on what might have gone wrong.\n",
    "9. Is it possible to say something about which features the model considers important? (Whether this is possible depends on the type of classifier you are using.)"
   ]
  },
  {
   "cell_type": "markdown",
   "id": "20b2335d",
   "metadata": {},
   "source": [
    "---\n",
    "MUST INSTALL THIS KRIPPENDORFF TO RUN LATER"
   ]
  },
  {
   "cell_type": "code",
   "execution_count": null,
   "id": "cfb4e6a2",
   "metadata": {},
   "outputs": [],
   "source": [
    "pip install krippendorff"
   ]
  },
  {
   "cell_type": "code",
   "execution_count": 150,
   "id": "50570c9b",
   "metadata": {},
   "outputs": [],
   "source": [
    "# IMPORTING ALL NECESSARY PACKAGES\n",
    "import pandas as pd\n",
    "import numpy as np\n",
    "import matplotlib.pyplot as plt\n",
    "import seaborn as sns\n",
    "from sklearn.model_selection import train_test_split\n",
    "from sklearn.feature_extraction.text import CountVectorizer\n",
    "from sklearn.feature_extraction.text import TfidfVectorizer\n",
    "from sklearn.feature_extraction.text import TfidfTransformer\n",
    "from sklearn.feature_extraction import text\n",
    "from collections import Counter\n",
    "from time import time\n",
    "import re\n",
    "from sklearn.pipeline import Pipeline\n",
    "from sklearn.dummy import DummyClassifier\n",
    "from sklearn.linear_model import LogisticRegression\n",
    "from sklearn.linear_model import Perceptron\n",
    "from sklearn.svm import SVC\n",
    "from sklearn.ensemble import RandomForestClassifier\n",
    "from sklearn.naive_bayes import MultinomialNB\n",
    "from sklearn.model_selection import GridSearchCV\n",
    "from sklearn.model_selection import cross_val_score\n",
    "from sklearn.metrics import accuracy_score\n",
    "from sklearn.metrics import confusion_matrix\n",
    "from sklearn.metrics import classification_report\n",
    "from nltk.stem import PorterStemmer\n",
    "from nltk.stem import WordNetLemmatizer\n",
    "from nltk.corpus import wordnet\n",
    "import krippendorff\n",
    "\n",
    "# Some Settings:\n",
    "dpi = 100\n",
    "%matplotlib inline\n",
    "pd.set_option('display.float_format', lambda x: '%.2f' % x) #control pandas float format"
   ]
  },
  {
   "cell_type": "markdown",
   "id": "5ea38051",
   "metadata": {},
   "source": [
    "### Import Data\n",
    "\n",
    "Import data"
   ]
  },
  {
   "cell_type": "code",
   "execution_count": 3,
   "id": "410c703c",
   "metadata": {},
   "outputs": [],
   "source": [
    "#raw_data1 = pd.read_csv('a3_train_round1.tsv', sep='\\t', names=['Y','Comment'])\n",
    "#raw_data = pd.read_csv('a3_first_sample.tsv', sep='\\t', names=['Y','Comment'])\n",
    "train = pd.read_csv('a3_train_final.tsv', sep='\\t', names=['Y','Comment'])\n",
    "test = pd.read_csv('a3_test_final.tsv', sep='\\t', names=['Y','Comment'])"
   ]
  },
  {
   "cell_type": "markdown",
   "id": "076ad4e8",
   "metadata": {},
   "source": [
    "Peak at data"
   ]
  },
  {
   "cell_type": "code",
   "execution_count": 4,
   "id": "578fe17e",
   "metadata": {},
   "outputs": [
    {
     "data": {
      "text/plain": [
       "26197"
      ]
     },
     "execution_count": 4,
     "metadata": {},
     "output_type": "execute_result"
    }
   ],
   "source": [
    "len(train)"
   ]
  },
  {
   "cell_type": "code",
   "execution_count": 5,
   "id": "32258402",
   "metadata": {},
   "outputs": [
    {
     "data": {
      "text/html": [
       "<div>\n",
       "<style scoped>\n",
       "    .dataframe tbody tr th:only-of-type {\n",
       "        vertical-align: middle;\n",
       "    }\n",
       "\n",
       "    .dataframe tbody tr th {\n",
       "        vertical-align: top;\n",
       "    }\n",
       "\n",
       "    .dataframe thead th {\n",
       "        text-align: right;\n",
       "    }\n",
       "</style>\n",
       "<table border=\"1\" class=\"dataframe\">\n",
       "  <thead>\n",
       "    <tr style=\"text-align: right;\">\n",
       "      <th></th>\n",
       "      <th>Y</th>\n",
       "      <th>Comment</th>\n",
       "    </tr>\n",
       "  </thead>\n",
       "  <tbody>\n",
       "    <tr>\n",
       "      <th>0</th>\n",
       "      <td>0/-1</td>\n",
       "      <td>It is easier to fool a million people than it...</td>\n",
       "    </tr>\n",
       "    <tr>\n",
       "      <th>1</th>\n",
       "      <td>0/0</td>\n",
       "      <td>NATURAL IMMUNITY  protected us since evolutio...</td>\n",
       "    </tr>\n",
       "    <tr>\n",
       "      <th>2</th>\n",
       "      <td>0/-1</td>\n",
       "      <td>NATURAL IMMUNITY  protected us since evolutio...</td>\n",
       "    </tr>\n",
       "    <tr>\n",
       "      <th>3</th>\n",
       "      <td>1/1/1/-1</td>\n",
       "      <td>The bigest sideffect of vaccines is fewer dea...</td>\n",
       "    </tr>\n",
       "    <tr>\n",
       "      <th>4</th>\n",
       "      <td>1/-1</td>\n",
       "      <td>Unvaccinated people are more likely to become...</td>\n",
       "    </tr>\n",
       "  </tbody>\n",
       "</table>\n",
       "</div>"
      ],
      "text/plain": [
       "          Y                                            Comment\n",
       "0      0/-1   It is easier to fool a million people than it...\n",
       "1       0/0   NATURAL IMMUNITY  protected us since evolutio...\n",
       "2      0/-1   NATURAL IMMUNITY  protected us since evolutio...\n",
       "3  1/1/1/-1   The bigest sideffect of vaccines is fewer dea...\n",
       "4      1/-1   Unvaccinated people are more likely to become..."
      ]
     },
     "execution_count": 5,
     "metadata": {},
     "output_type": "execute_result"
    }
   ],
   "source": [
    "train.head(5)"
   ]
  },
  {
   "cell_type": "markdown",
   "id": "064ebbcc",
   "metadata": {},
   "source": [
    "### Replace multiple annotations with one label in train data\n",
    "\n",
    "Here we are using a strict labeling methodology only utilising comments with unified annotations explained in the code comments"
   ]
  },
  {
   "cell_type": "code",
   "execution_count": 6,
   "id": "d0df1dba",
   "metadata": {},
   "outputs": [
    {
     "name": "stdout",
     "output_type": "stream",
     "text": [
      "Counter({'1': 10791, '0': 10491, '-1': 4915})\n"
     ]
    },
    {
     "data": {
      "text/html": [
       "<div>\n",
       "<style scoped>\n",
       "    .dataframe tbody tr th:only-of-type {\n",
       "        vertical-align: middle;\n",
       "    }\n",
       "\n",
       "    .dataframe tbody tr th {\n",
       "        vertical-align: top;\n",
       "    }\n",
       "\n",
       "    .dataframe thead th {\n",
       "        text-align: right;\n",
       "    }\n",
       "</style>\n",
       "<table border=\"1\" class=\"dataframe\">\n",
       "  <thead>\n",
       "    <tr style=\"text-align: right;\">\n",
       "      <th></th>\n",
       "      <th>Y</th>\n",
       "      <th>Comment</th>\n",
       "    </tr>\n",
       "  </thead>\n",
       "  <tbody>\n",
       "    <tr>\n",
       "      <th>1</th>\n",
       "      <td>0</td>\n",
       "      <td>NATURAL IMMUNITY  protected us since evolutio...</td>\n",
       "    </tr>\n",
       "    <tr>\n",
       "      <th>5</th>\n",
       "      <td>1</td>\n",
       "      <td>Vaccine takes more than a year to develop.  T...</td>\n",
       "    </tr>\n",
       "    <tr>\n",
       "      <th>6</th>\n",
       "      <td>0</td>\n",
       "      <td>YES IM A TRUCKER FROM USA AND I WONT GET VACC...</td>\n",
       "    </tr>\n",
       "    <tr>\n",
       "      <th>8</th>\n",
       "      <td>1</td>\n",
       "      <td>out of anger People say stupid things man is ...</td>\n",
       "    </tr>\n",
       "    <tr>\n",
       "      <th>10</th>\n",
       "      <td>0</td>\n",
       "      <td>... vaccines are safe and effective. Why? Beca...</td>\n",
       "    </tr>\n",
       "  </tbody>\n",
       "</table>\n",
       "</div>"
      ],
      "text/plain": [
       "    Y                                            Comment\n",
       "1   0   NATURAL IMMUNITY  protected us since evolutio...\n",
       "5   1   Vaccine takes more than a year to develop.  T...\n",
       "6   0   YES IM A TRUCKER FROM USA AND I WONT GET VACC...\n",
       "8   1   out of anger People say stupid things man is ...\n",
       "10  0  ... vaccines are safe and effective. Why? Beca..."
      ]
     },
     "execution_count": 6,
     "metadata": {},
     "output_type": "execute_result"
    }
   ],
   "source": [
    "# STRICT - Assigns the label as either pro = '1' or anti = '0'\n",
    "# assign the final label as 1 when all annotations are 1 and \n",
    "# assign the final label as 0 when all annotations are 0, \n",
    "# and assign the rest as -1 and exclude those from final dataframe (e.g. '0/1/0')\n",
    "# Comments with only 1 annotation will be excluded since they have not been controlled \n",
    "proList = ['1/1','1/1/1/1','1/1/1','1/1/1/1/1','1/1/1/1/1/1','1/1/1/1/1/1/1/1/1']\n",
    "antiList = ['0/0','0/0/0','0/0/0/0','0/0/0/0/0','0/0/0/0/0/0/0/0/0','0/0/0/0/0/0','0/0/0/0/0/0/0','0/0/0/0/0/0/0/0','0/0/0/0/0/0/0/0/0/0/0/0/0/0/0/0','0/0/0/0/0/0/0/0/0/0/0/0/0', '0/0/0/0/0/0/0/0/0/0/0/0/0/0','0/0/0/0/0/0/0/0/0/0/0/0','0/0/0/0/0/0/0/0/0/0/0/0/0/0/0/0/0/0/0/0/0/0/0','0/0/0/0/0/0/0/0/0/0','0/0/0/0/0/0/0/0/0/0/0','0/0/0/0/0/0/0/0/0/0/0/0/0/0/0/0/0','0/0/0/0/0/0/0/0/0/0/0/0/0/0/0']\n",
    "\n",
    "def strict_labelling(df):\n",
    "    df['Y'] = np.where((df.Y.isin(proList)), '1',\n",
    "              np.where((df.Y.isin(antiList)),'0' , '-1'))\n",
    "    label_c = Counter(df['Y'])\n",
    "    new_df = df[df['Y'] != '-1']\n",
    "    return new_df, label_c, df\n",
    "\n",
    "train_strict, label_count_strict = strict_labelling(train)\n",
    "print(label_count_strict)\n",
    "train_strict.head(5)"
   ]
  },
  {
   "cell_type": "markdown",
   "id": "b8b203b4",
   "metadata": {},
   "source": [
    "Check impact of size on train data after reduction of ambigious comments"
   ]
  },
  {
   "cell_type": "code",
   "execution_count": 7,
   "id": "35358e6b",
   "metadata": {},
   "outputs": [
    {
     "name": "stdout",
     "output_type": "stream",
     "text": [
      "Original size of train data:\t 26197\n",
      "Excluding ambigious comments:\t 21282\n"
     ]
    }
   ],
   "source": [
    "# size of data before removing ambigious comments\n",
    "print(\"Original size of train data:\\t\",sum(list(label_count_strict.values())))\n",
    "print(\"Excluding ambigious comments:\\t\", len(train_strict))"
   ]
  },
  {
   "cell_type": "markdown",
   "id": "d2e53690",
   "metadata": {},
   "source": [
    "### Krippendorff alpha test to review agreement among annotaters"
   ]
  },
  {
   "cell_type": "code",
   "execution_count": 148,
   "id": "5b7a5fae",
   "metadata": {},
   "outputs": [],
   "source": [
    "# Import raw train data again\n",
    "train_original = pd.read_csv('a3_train_final.tsv', sep='\\t', names=['Y','Comment'])\n",
    "\n",
    "train_original['Y'] = np.where((train_original.Y.isin(proList)), 1,\n",
    "          np.where((train_original.Y.isin(antiList)),0 , -1))"
   ]
  },
  {
   "cell_type": "code",
   "execution_count": 149,
   "id": "f3593a4d",
   "metadata": {},
   "outputs": [
    {
     "data": {
      "text/plain": [
       "0.6840387109776054"
      ]
     },
     "execution_count": 149,
     "metadata": {},
     "output_type": "execute_result"
    }
   ],
   "source": [
    "import krippendorff\n",
    "\n",
    "df_L = list(train_original.Y)\n",
    "df_L.sort()\n",
    "\n",
    "bigL =[]\n",
    "\n",
    "for i in df_L:\n",
    "    if i == 1 or i == 0:\n",
    "         bigL.append(list([1,0]))\n",
    "    elif i == -1:\n",
    "        bigL.append(list([1,1]))\n",
    "\n",
    "krippendorff.alpha(bigL)"
   ]
  },
  {
   "cell_type": "markdown",
   "id": "fde7de75",
   "metadata": {},
   "source": [
    "Result within OK interval (66,6-80%)"
   ]
  },
  {
   "cell_type": "markdown",
   "id": "f7361987",
   "metadata": {},
   "source": [
    "### Preprocessing \n",
    "Here we take the Comments column and create additional columns (features) for both train and test data.\n",
    "- cleaned, \n",
    "- stemmed, \n",
    "- lemmatized, \n",
    "- exclude stop-words \n",
    "- exclude short words \n",
    "- exclude both short and stopwords \n",
    "- add string lenght\n",
    "- add word count\n",
    "- add proportion of capital letters used in text"
   ]
  },
  {
   "cell_type": "code",
   "execution_count": 8,
   "id": "3c8d0bb1",
   "metadata": {
    "scrolled": true
   },
   "outputs": [],
   "source": [
    "# PREPROCESSING\n",
    "def stem(df, ps, org_col_name, new_col_name):\n",
    "    \"\"\"Stemming words returns dataframe\"\"\"\n",
    "    df.loc[:, new_col_name] = df[org_col_name].apply(lambda x: ' '.join([ps.stem(word) for word in x.split()]))\n",
    "    return df\n",
    "\n",
    "\n",
    "def wordnet_tag(word):\n",
    "    \"\"\"Map the first position tag to the first one that lemmatize() accepts\"\"\"\n",
    "    tag = nltk.pos_tag([word])[0][1][0].upper()\n",
    "    tag_dict = {\"J\": wordnet.ADJ, \"N\": wordnet.NOUN,\n",
    "                \"V\": wordnet.VERB, \"R\": wordnet.ADV}\n",
    "    return tag_dict.get(tag, wordnet.NOUN)\n",
    "\n",
    "\n",
    "def lemmatize(df, wnl, org_col_name, new_col_name):\n",
    "    \"\"\"Lemmatizer, returns dataframe\"\"\"\n",
    "    df.loc[:, new_col_name] = df[org_col_name].apply(lambda x: ' '.join([wnl.lemmatize(w, wordnet_tag(w)) for w in nltk.word_tokenize(x.lower())]))\n",
    "    return df\n",
    "\n",
    "\n",
    "def preprocessing(dataframe):\n",
    "    df = dataframe.copy()\n",
    "    \n",
    "    # Count duplicates, count and remove\n",
    "    dup_count = df['Comment'].duplicated().sum()\n",
    "    # Drop duplicates\n",
    "    df['Comment'].drop_duplicates()\n",
    "\n",
    "    # CLEANING\n",
    "        \n",
    "    # Make lower case\n",
    "    df['Cleaned'] = df['Comment'].str.lower()\n",
    "    # Remove all emojis\n",
    "    df['Cleaned'] = df['Comment'].str.replace('[^\\w\\s#@/:%.,_-]', '', flags=re.UNICODE, regex=True)\n",
    "    # Remove all formatting stuff (phrases between the symbols < and >)\n",
    "    df['Cleaned'] = df['Cleaned'].str.replace(\"<.*>\", ' ', regex=True).str.strip()\n",
    "    # Remove any remaining hyperlinks\n",
    "    df['Cleaned'] = df['Cleaned'].str.replace(r' *https?://[^\\s]+', ' ', regex=True).str.strip()\n",
    "    df['Cleaned'] = df['Cleaned'].str.replace(r'https?://[^\\s]+', ' ', regex=True).str.strip()\n",
    "    # Convert accented (ex. é) characters to normal\n",
    "    df['Cleaned'] = df['Cleaned'].str.normalize('NFKD')\n",
    "    # Remove punctuation\n",
    "    df['Cleaned'] = df['Cleaned'].str.replace('!', ' ',regex=True)\n",
    "    df['Cleaned'] = df['Cleaned'].str.replace('\"', ' ',regex=True)\n",
    "    df['Cleaned'] = df['Cleaned'].str.replace(':', ' ',regex=True)\n",
    "    df['Cleaned'] = df['Cleaned'].str.replace('\\.', ' ',regex=True)\n",
    "    df['Cleaned'] = df['Cleaned'].str.replace(',', ' ',regex=True)\n",
    "    df['Cleaned'] = df['Cleaned'].str.replace(\"'\", '',regex=True)\n",
    "    df['Cleaned'] = df['Cleaned'].str.replace('[^\\w\\s]', '',regex=True)\n",
    "    # Remove leadning, trailing and multiple internal spaces\n",
    "    df['Cleaned'] = df['Cleaned'].str.replace('\\s+', ' ', regex=True).str.strip()\n",
    "    # Remove unwanted characters, numbers and symbols\n",
    "    df['Cleaned'] = df['Cleaned'].str.replace(\"[^a-zA-Z#]\", ' ', regex=True)\n",
    "    \n",
    "    # Import stopwords with scikit-learn\n",
    "    stop = text.ENGLISH_STOP_WORDS\n",
    "    # Remove stopwords\n",
    "    df['Clean-NoStopWords'] = df['Cleaned'].apply(lambda x: ' '.join([word for word in x.split() if word not in (stop)]))\n",
    "\n",
    "    # Remove short words longer than 3 characters\n",
    "    df['Clean-NoShortWords'] = df['Cleaned'].str.replace(r'\\b(\\w{1,3})\\b', '', regex=True)\n",
    "\n",
    "    # Remove both Short and stop words\n",
    "    df['Clean-NoStop-NoShort'] = df['Clean-NoShortWords'].apply(lambda x: ' '.join([word for word in x.split() if word not in (stop)]))\n",
    "\n",
    "    # Implement a stemmer\n",
    "    ps = PorterStemmer()\n",
    "    # Stem words from cleaned column into new column\n",
    "    df = stem(df, ps, 'Cleaned', 'Stemmed')\n",
    "\n",
    "    # Implement a lemmatizer\n",
    "    wnl = WordNetLemmatizer()\n",
    "    # lemmatiz and words from cleaned column into new column\n",
    "    df = lemmatize(df, wnl, 'Cleaned', 'Lemmatized')\n",
    "\n",
    "    # Create new columns with the length comment and word count\n",
    "    df['StrLen'] = df['Comment'].str.len() # Amount of characters of full review incl. space\n",
    "    df['WordCount'] = df['Comment'].str.split().str.len() # Amount of words in review\n",
    "\n",
    "    # Create new column with rate of capital letters\n",
    "    # Capital letters should be more connected with strong emotions\n",
    "    df['NUpper'] = df['Comment'].str.findall(r'[A-Z]').str.len()\n",
    "    df['NLower'] = df['Comment'].str.findall(r'[a-z]').str.len()\n",
    "    df['UpperRate'] = df['NUpper'] / (df['NUpper'] + df['NLower'])\n",
    "    df = df.drop(['NUpper', 'NLower'], axis=1) # Drop unneccesary columns\n",
    "    \n",
    "    return df, dup_count"
   ]
  },
  {
   "cell_type": "code",
   "execution_count": 9,
   "id": "bd594b3e",
   "metadata": {},
   "outputs": [
    {
     "data": {
      "text/html": [
       "<div>\n",
       "<style scoped>\n",
       "    .dataframe tbody tr th:only-of-type {\n",
       "        vertical-align: middle;\n",
       "    }\n",
       "\n",
       "    .dataframe tbody tr th {\n",
       "        vertical-align: top;\n",
       "    }\n",
       "\n",
       "    .dataframe thead th {\n",
       "        text-align: right;\n",
       "    }\n",
       "</style>\n",
       "<table border=\"1\" class=\"dataframe\">\n",
       "  <thead>\n",
       "    <tr style=\"text-align: right;\">\n",
       "      <th></th>\n",
       "      <th>Y</th>\n",
       "      <th>Comment</th>\n",
       "      <th>Cleaned</th>\n",
       "      <th>Clean-NoStopWords</th>\n",
       "      <th>Clean-NoShortWords</th>\n",
       "      <th>Clean-NoStop-NoShort</th>\n",
       "      <th>Stemmed</th>\n",
       "      <th>Lemmatized</th>\n",
       "      <th>StrLen</th>\n",
       "      <th>WordCount</th>\n",
       "      <th>UpperRate</th>\n",
       "    </tr>\n",
       "  </thead>\n",
       "  <tbody>\n",
       "    <tr>\n",
       "      <th>1</th>\n",
       "      <td>0</td>\n",
       "      <td>NATURAL IMMUNITY  protected us since evolutio...</td>\n",
       "      <td>NATURAL IMMUNITY protected us since evolution ...</td>\n",
       "      <td>NATURAL IMMUNITY protected evolution Do exist ...</td>\n",
       "      <td>NATURAL IMMUNITY protected  since evolution   ...</td>\n",
       "      <td>NATURAL IMMUNITY protected evolution exist any...</td>\n",
       "      <td>natur immun protect us sinc evolut do not exis...</td>\n",
       "      <td>natural immunity protect u since evolution do ...</td>\n",
       "      <td>70</td>\n",
       "      <td>10</td>\n",
       "      <td>0.28</td>\n",
       "    </tr>\n",
       "  </tbody>\n",
       "</table>\n",
       "</div>"
      ],
      "text/plain": [
       "   Y                                            Comment  \\\n",
       "1  0   NATURAL IMMUNITY  protected us since evolutio...   \n",
       "\n",
       "                                             Cleaned  \\\n",
       "1  NATURAL IMMUNITY protected us since evolution ...   \n",
       "\n",
       "                                   Clean-NoStopWords  \\\n",
       "1  NATURAL IMMUNITY protected evolution Do exist ...   \n",
       "\n",
       "                                  Clean-NoShortWords  \\\n",
       "1  NATURAL IMMUNITY protected  since evolution   ...   \n",
       "\n",
       "                                Clean-NoStop-NoShort  \\\n",
       "1  NATURAL IMMUNITY protected evolution exist any...   \n",
       "\n",
       "                                             Stemmed  \\\n",
       "1  natur immun protect us sinc evolut do not exis...   \n",
       "\n",
       "                                          Lemmatized  StrLen  WordCount  \\\n",
       "1  natural immunity protect u since evolution do ...      70         10   \n",
       "\n",
       "   UpperRate  \n",
       "1       0.28  "
      ]
     },
     "execution_count": 9,
     "metadata": {},
     "output_type": "execute_result"
    }
   ],
   "source": [
    "# preprocess train and test data\n",
    "preprocessed_train_strict, dup_count_train_strict = preprocessing(train_strict)\n",
    "preprocessed_test, dup_count_test = preprocessing(test)\n",
    "\n",
    "# peak at train data\n",
    "preprocessed_train_strict.head(1)"
   ]
  },
  {
   "cell_type": "markdown",
   "id": "1435a69c",
   "metadata": {},
   "source": [
    "### Some exploratory analysis\n",
    "Check if there is imbalance between labels"
   ]
  },
  {
   "cell_type": "code",
   "execution_count": 10,
   "id": "dee74b75",
   "metadata": {},
   "outputs": [
    {
     "name": "stdout",
     "output_type": "stream",
     "text": [
      "Train strict: Counter({'1': 10791, '0': 10491}) Total: 21282\n",
      "Test: Counter({1: 568, 0: 568}) Total: 1136\n"
     ]
    }
   ],
   "source": [
    "# check balance of labels\n",
    "print(\"Train strict:\",Counter(preprocessed_train_strict['Y']),\"Total:\",len(preprocessed_train_strict))\n",
    "print(\"Test:\",Counter(preprocessed_test['Y']),\"Total:\",len(preprocessed_test))"
   ]
  },
  {
   "cell_type": "markdown",
   "id": "81506382",
   "metadata": {},
   "source": [
    "Check for null values after all preprocessing and handle"
   ]
  },
  {
   "cell_type": "code",
   "execution_count": 11,
   "id": "c25468f4",
   "metadata": {},
   "outputs": [
    {
     "name": "stdout",
     "output_type": "stream",
     "text": [
      "Train strict: True\n",
      "Test: False\n"
     ]
    }
   ],
   "source": [
    "print(\"Train strict:\",preprocessed_train_strict.isnull().values.any())\n",
    "print(\"Test:\",preprocessed_test.isnull().values.any())"
   ]
  },
  {
   "cell_type": "code",
   "execution_count": 12,
   "id": "5f0f42bd",
   "metadata": {
    "scrolled": true
   },
   "outputs": [],
   "source": [
    "def nans(df): \n",
    "    return df[df.isnull().any(axis=1)]"
   ]
  },
  {
   "cell_type": "code",
   "execution_count": 13,
   "id": "dce5d656",
   "metadata": {},
   "outputs": [
    {
     "data": {
      "text/html": [
       "<div>\n",
       "<style scoped>\n",
       "    .dataframe tbody tr th:only-of-type {\n",
       "        vertical-align: middle;\n",
       "    }\n",
       "\n",
       "    .dataframe tbody tr th {\n",
       "        vertical-align: top;\n",
       "    }\n",
       "\n",
       "    .dataframe thead th {\n",
       "        text-align: right;\n",
       "    }\n",
       "</style>\n",
       "<table border=\"1\" class=\"dataframe\">\n",
       "  <thead>\n",
       "    <tr style=\"text-align: right;\">\n",
       "      <th></th>\n",
       "      <th>Y</th>\n",
       "      <th>Comment</th>\n",
       "      <th>Cleaned</th>\n",
       "      <th>Clean-NoStopWords</th>\n",
       "      <th>Clean-NoShortWords</th>\n",
       "      <th>Clean-NoStop-NoShort</th>\n",
       "      <th>Stemmed</th>\n",
       "      <th>Lemmatized</th>\n",
       "      <th>StrLen</th>\n",
       "      <th>WordCount</th>\n",
       "      <th>UpperRate</th>\n",
       "    </tr>\n",
       "  </thead>\n",
       "  <tbody>\n",
       "    <tr>\n",
       "      <th>26187</th>\n",
       "      <td>1</td>\n",
       "      <td>💉💪</td>\n",
       "      <td></td>\n",
       "      <td></td>\n",
       "      <td></td>\n",
       "      <td></td>\n",
       "      <td></td>\n",
       "      <td></td>\n",
       "      <td>2</td>\n",
       "      <td>1</td>\n",
       "      <td>NaN</td>\n",
       "    </tr>\n",
       "  </tbody>\n",
       "</table>\n",
       "</div>"
      ],
      "text/plain": [
       "       Y Comment Cleaned Clean-NoStopWords Clean-NoShortWords  \\\n",
       "26187  1      💉💪                                                \n",
       "\n",
       "      Clean-NoStop-NoShort Stemmed Lemmatized  StrLen  WordCount  UpperRate  \n",
       "26187                                               2          1        NaN  "
      ]
     },
     "execution_count": 13,
     "metadata": {},
     "output_type": "execute_result"
    }
   ],
   "source": [
    "nans(preprocessed_train_strict)"
   ]
  },
  {
   "cell_type": "code",
   "execution_count": 15,
   "id": "58ec33c0",
   "metadata": {},
   "outputs": [
    {
     "name": "stdout",
     "output_type": "stream",
     "text": [
      "Train strict: False\n"
     ]
    }
   ],
   "source": [
    "preprocessed_train_strict['UpperRate'] = preprocessed_train_strict['UpperRate'].fillna(0)\n",
    "print(\"Train strict:\",preprocessed_train_strict.isnull().values.any())"
   ]
  },
  {
   "cell_type": "markdown",
   "id": "b4a39686",
   "metadata": {},
   "source": [
    "Null values handled by replacing with 0 value since not containing any capital letters.\n",
    "\n",
    "Save to csv file to avoid re-running processing evevery time"
   ]
  },
  {
   "cell_type": "code",
   "execution_count": 16,
   "id": "7d1a4f86",
   "metadata": {},
   "outputs": [],
   "source": [
    "# SAVE DF TO CSV TO AVOID RUNNING PREPROCESSING AGAIN\n",
    "preprocessed_train_strict.to_csv('preprocessed_train_strict.csv', index=False)\n",
    "preprocessed_test.to_csv('preprocessed_test.csv', index=False)"
   ]
  },
  {
   "cell_type": "markdown",
   "id": "22482dfc",
   "metadata": {},
   "source": [
    "Check statistical values of numerical columns to better understand data"
   ]
  },
  {
   "cell_type": "code",
   "execution_count": 17,
   "id": "8dfe2ba3",
   "metadata": {
    "scrolled": true
   },
   "outputs": [
    {
     "data": {
      "text/html": [
       "<div>\n",
       "<style scoped>\n",
       "    .dataframe tbody tr th:only-of-type {\n",
       "        vertical-align: middle;\n",
       "    }\n",
       "\n",
       "    .dataframe tbody tr th {\n",
       "        vertical-align: top;\n",
       "    }\n",
       "\n",
       "    .dataframe thead th {\n",
       "        text-align: right;\n",
       "    }\n",
       "</style>\n",
       "<table border=\"1\" class=\"dataframe\">\n",
       "  <thead>\n",
       "    <tr style=\"text-align: right;\">\n",
       "      <th></th>\n",
       "      <th>StrLen</th>\n",
       "      <th>WordCount</th>\n",
       "      <th>UpperRate</th>\n",
       "    </tr>\n",
       "  </thead>\n",
       "  <tbody>\n",
       "    <tr>\n",
       "      <th>count</th>\n",
       "      <td>21282.00</td>\n",
       "      <td>21282.00</td>\n",
       "      <td>21282.00</td>\n",
       "    </tr>\n",
       "    <tr>\n",
       "      <th>mean</th>\n",
       "      <td>136.20</td>\n",
       "      <td>24.75</td>\n",
       "      <td>0.06</td>\n",
       "    </tr>\n",
       "    <tr>\n",
       "      <th>std</th>\n",
       "      <td>162.09</td>\n",
       "      <td>28.54</td>\n",
       "      <td>0.13</td>\n",
       "    </tr>\n",
       "    <tr>\n",
       "      <th>min</th>\n",
       "      <td>2.00</td>\n",
       "      <td>1.00</td>\n",
       "      <td>0.00</td>\n",
       "    </tr>\n",
       "    <tr>\n",
       "      <th>25%</th>\n",
       "      <td>61.00</td>\n",
       "      <td>11.00</td>\n",
       "      <td>0.02</td>\n",
       "    </tr>\n",
       "    <tr>\n",
       "      <th>50%</th>\n",
       "      <td>102.00</td>\n",
       "      <td>19.00</td>\n",
       "      <td>0.03</td>\n",
       "    </tr>\n",
       "    <tr>\n",
       "      <th>75%</th>\n",
       "      <td>170.00</td>\n",
       "      <td>31.00</td>\n",
       "      <td>0.05</td>\n",
       "    </tr>\n",
       "    <tr>\n",
       "      <th>max</th>\n",
       "      <td>8137.00</td>\n",
       "      <td>1230.00</td>\n",
       "      <td>1.00</td>\n",
       "    </tr>\n",
       "  </tbody>\n",
       "</table>\n",
       "</div>"
      ],
      "text/plain": [
       "        StrLen  WordCount  UpperRate\n",
       "count 21282.00   21282.00   21282.00\n",
       "mean    136.20      24.75       0.06\n",
       "std     162.09      28.54       0.13\n",
       "min       2.00       1.00       0.00\n",
       "25%      61.00      11.00       0.02\n",
       "50%     102.00      19.00       0.03\n",
       "75%     170.00      31.00       0.05\n",
       "max    8137.00    1230.00       1.00"
      ]
     },
     "execution_count": 17,
     "metadata": {},
     "output_type": "execute_result"
    }
   ],
   "source": [
    "preprocessed_train_strict.describe()"
   ]
  },
  {
   "cell_type": "code",
   "execution_count": 18,
   "id": "2bfc7834",
   "metadata": {},
   "outputs": [
    {
     "data": {
      "text/html": [
       "<div>\n",
       "<style scoped>\n",
       "    .dataframe tbody tr th:only-of-type {\n",
       "        vertical-align: middle;\n",
       "    }\n",
       "\n",
       "    .dataframe tbody tr th {\n",
       "        vertical-align: top;\n",
       "    }\n",
       "\n",
       "    .dataframe thead th {\n",
       "        text-align: right;\n",
       "    }\n",
       "</style>\n",
       "<table border=\"1\" class=\"dataframe\">\n",
       "  <thead>\n",
       "    <tr style=\"text-align: right;\">\n",
       "      <th></th>\n",
       "      <th>Y</th>\n",
       "      <th>StrLen</th>\n",
       "      <th>WordCount</th>\n",
       "      <th>UpperRate</th>\n",
       "    </tr>\n",
       "  </thead>\n",
       "  <tbody>\n",
       "    <tr>\n",
       "      <th>count</th>\n",
       "      <td>1136.00</td>\n",
       "      <td>1136.00</td>\n",
       "      <td>1136.00</td>\n",
       "      <td>1136.00</td>\n",
       "    </tr>\n",
       "    <tr>\n",
       "      <th>mean</th>\n",
       "      <td>0.50</td>\n",
       "      <td>114.00</td>\n",
       "      <td>21.01</td>\n",
       "      <td>0.06</td>\n",
       "    </tr>\n",
       "    <tr>\n",
       "      <th>std</th>\n",
       "      <td>0.50</td>\n",
       "      <td>82.77</td>\n",
       "      <td>15.01</td>\n",
       "      <td>0.12</td>\n",
       "    </tr>\n",
       "    <tr>\n",
       "      <th>min</th>\n",
       "      <td>0.00</td>\n",
       "      <td>10.00</td>\n",
       "      <td>2.00</td>\n",
       "      <td>0.00</td>\n",
       "    </tr>\n",
       "    <tr>\n",
       "      <th>25%</th>\n",
       "      <td>0.00</td>\n",
       "      <td>54.75</td>\n",
       "      <td>10.00</td>\n",
       "      <td>0.02</td>\n",
       "    </tr>\n",
       "    <tr>\n",
       "      <th>50%</th>\n",
       "      <td>0.50</td>\n",
       "      <td>96.00</td>\n",
       "      <td>18.00</td>\n",
       "      <td>0.03</td>\n",
       "    </tr>\n",
       "    <tr>\n",
       "      <th>75%</th>\n",
       "      <td>1.00</td>\n",
       "      <td>150.00</td>\n",
       "      <td>28.00</td>\n",
       "      <td>0.05</td>\n",
       "    </tr>\n",
       "    <tr>\n",
       "      <th>max</th>\n",
       "      <td>1.00</td>\n",
       "      <td>895.00</td>\n",
       "      <td>156.00</td>\n",
       "      <td>1.00</td>\n",
       "    </tr>\n",
       "  </tbody>\n",
       "</table>\n",
       "</div>"
      ],
      "text/plain": [
       "            Y  StrLen  WordCount  UpperRate\n",
       "count 1136.00 1136.00    1136.00    1136.00\n",
       "mean     0.50  114.00      21.01       0.06\n",
       "std      0.50   82.77      15.01       0.12\n",
       "min      0.00   10.00       2.00       0.00\n",
       "25%      0.00   54.75      10.00       0.02\n",
       "50%      0.50   96.00      18.00       0.03\n",
       "75%      1.00  150.00      28.00       0.05\n",
       "max      1.00  895.00     156.00       1.00"
      ]
     },
     "execution_count": 18,
     "metadata": {},
     "output_type": "execute_result"
    }
   ],
   "source": [
    "preprocessed_test.describe()"
   ]
  },
  {
   "cell_type": "markdown",
   "id": "e6620a5a",
   "metadata": {},
   "source": [
    "## Starting to test for best vectorizors, features and models\n",
    "\n",
    "- Test these columns: Comments / Cleaned / Clean-NoStopWords / Clean-NoShortWords / Clean-NoShort-NoStop / Stemmed / Lemmatized\n",
    "- Test different n-grams\n",
    "- Test both: CountVectorizer & TfidfVectorizer\n",
    "- Test multiple models\n",
    "- Test different hyperparameters with GridSearchCV\n",
    "\n",
    "---\n",
    "Start by importing preprocessed data files for training and test"
   ]
  },
  {
   "cell_type": "code",
   "execution_count": 45,
   "id": "334de41c",
   "metadata": {
    "scrolled": true
   },
   "outputs": [],
   "source": [
    "# import data\n",
    "train_full = pd.read_csv('preprocessed_train_strict.csv')\n",
    "test_full = pd.read_csv('preprocessed_test.csv')\n",
    "\n",
    "# make smaller train sample\n",
    "train = train_full.sample(n=2500, replace=False, random_state=1)\n",
    "\n",
    "# break out X and Y from TRAIN\n",
    "Xtrain = train.drop(['Y'], axis=1)\n",
    "Ytrain = train['Y']\n",
    "\n",
    "# Split TRAIN data into TRAIN and VALIDATION sets\n",
    "Xtrain, Xval, Ytrain, Yval = train_test_split(Xtrain, Ytrain, test_size=0.20, random_state=42)\n",
    "\n",
    "# break out X and Y from TEST\n",
    "Xtest = test_full.drop(['Y'], axis=1)\n",
    "Ytest = test_full['Y']"
   ]
  },
  {
   "cell_type": "code",
   "execution_count": 47,
   "id": "1f4e1303",
   "metadata": {
    "scrolled": false
   },
   "outputs": [
    {
     "data": {
      "text/html": [
       "<div>\n",
       "<style scoped>\n",
       "    .dataframe tbody tr th:only-of-type {\n",
       "        vertical-align: middle;\n",
       "    }\n",
       "\n",
       "    .dataframe tbody tr th {\n",
       "        vertical-align: top;\n",
       "    }\n",
       "\n",
       "    .dataframe thead th {\n",
       "        text-align: right;\n",
       "    }\n",
       "</style>\n",
       "<table border=\"1\" class=\"dataframe\">\n",
       "  <thead>\n",
       "    <tr style=\"text-align: right;\">\n",
       "      <th></th>\n",
       "      <th>Y</th>\n",
       "      <th>Comment</th>\n",
       "      <th>Cleaned</th>\n",
       "      <th>Clean-NoStopWords</th>\n",
       "      <th>Clean-NoShortWords</th>\n",
       "      <th>Clean-NoStop-NoShort</th>\n",
       "      <th>Stemmed</th>\n",
       "      <th>Lemmatized</th>\n",
       "      <th>StrLen</th>\n",
       "      <th>WordCount</th>\n",
       "      <th>UpperRate</th>\n",
       "    </tr>\n",
       "  </thead>\n",
       "  <tbody>\n",
       "    <tr>\n",
       "      <th>0</th>\n",
       "      <td>0</td>\n",
       "      <td>NATURAL IMMUNITY  protected us since evolutio...</td>\n",
       "      <td>NATURAL IMMUNITY protected us since evolution ...</td>\n",
       "      <td>NATURAL IMMUNITY protected evolution Do exist ...</td>\n",
       "      <td>NATURAL IMMUNITY protected  since evolution   ...</td>\n",
       "      <td>NATURAL IMMUNITY protected evolution exist any...</td>\n",
       "      <td>natur immun protect us sinc evolut do not exis...</td>\n",
       "      <td>natural immunity protect u since evolution do ...</td>\n",
       "      <td>70</td>\n",
       "      <td>10</td>\n",
       "      <td>0.28</td>\n",
       "    </tr>\n",
       "  </tbody>\n",
       "</table>\n",
       "</div>"
      ],
      "text/plain": [
       "   Y                                            Comment  \\\n",
       "0  0   NATURAL IMMUNITY  protected us since evolutio...   \n",
       "\n",
       "                                             Cleaned  \\\n",
       "0  NATURAL IMMUNITY protected us since evolution ...   \n",
       "\n",
       "                                   Clean-NoStopWords  \\\n",
       "0  NATURAL IMMUNITY protected evolution Do exist ...   \n",
       "\n",
       "                                  Clean-NoShortWords  \\\n",
       "0  NATURAL IMMUNITY protected  since evolution   ...   \n",
       "\n",
       "                                Clean-NoStop-NoShort  \\\n",
       "0  NATURAL IMMUNITY protected evolution exist any...   \n",
       "\n",
       "                                             Stemmed  \\\n",
       "0  natur immun protect us sinc evolut do not exis...   \n",
       "\n",
       "                                          Lemmatized  StrLen  WordCount  \\\n",
       "0  natural immunity protect u since evolution do ...      70         10   \n",
       "\n",
       "   UpperRate  \n",
       "0       0.28  "
      ]
     },
     "execution_count": 47,
     "metadata": {},
     "output_type": "execute_result"
    }
   ],
   "source": [
    "train_full.head(1)"
   ]
  },
  {
   "cell_type": "code",
   "execution_count": 46,
   "id": "5215d5ec",
   "metadata": {},
   "outputs": [
    {
     "data": {
      "text/html": [
       "<div>\n",
       "<style scoped>\n",
       "    .dataframe tbody tr th:only-of-type {\n",
       "        vertical-align: middle;\n",
       "    }\n",
       "\n",
       "    .dataframe tbody tr th {\n",
       "        vertical-align: top;\n",
       "    }\n",
       "\n",
       "    .dataframe thead th {\n",
       "        text-align: right;\n",
       "    }\n",
       "</style>\n",
       "<table border=\"1\" class=\"dataframe\">\n",
       "  <thead>\n",
       "    <tr style=\"text-align: right;\">\n",
       "      <th></th>\n",
       "      <th>Y</th>\n",
       "      <th>Comment</th>\n",
       "      <th>Cleaned</th>\n",
       "      <th>Clean-NoStopWords</th>\n",
       "      <th>Clean-NoShortWords</th>\n",
       "      <th>Clean-NoStop-NoShort</th>\n",
       "      <th>Stemmed</th>\n",
       "      <th>Lemmatized</th>\n",
       "      <th>StrLen</th>\n",
       "      <th>WordCount</th>\n",
       "      <th>UpperRate</th>\n",
       "    </tr>\n",
       "  </thead>\n",
       "  <tbody>\n",
       "    <tr>\n",
       "      <th>0</th>\n",
       "      <td>1</td>\n",
       "      <td>I don't know what's in it. As if they know wha...</td>\n",
       "      <td>I dont know whats in it As if they know whats ...</td>\n",
       "      <td>I dont know whats As know whats hamburgers eat...</td>\n",
       "      <td>dont know whats     they know whats   hamburg...</td>\n",
       "      <td>dont know whats know whats hamburgers milk dri...</td>\n",
       "      <td>i dont know what in it as if they know what in...</td>\n",
       "      <td>i dont know whats in it a if they know whats i...</td>\n",
       "      <td>172</td>\n",
       "      <td>32</td>\n",
       "      <td>0.02</td>\n",
       "    </tr>\n",
       "  </tbody>\n",
       "</table>\n",
       "</div>"
      ],
      "text/plain": [
       "   Y                                            Comment  \\\n",
       "0  1  I don't know what's in it. As if they know wha...   \n",
       "\n",
       "                                             Cleaned  \\\n",
       "0  I dont know whats in it As if they know whats ...   \n",
       "\n",
       "                                   Clean-NoStopWords  \\\n",
       "0  I dont know whats As know whats hamburgers eat...   \n",
       "\n",
       "                                  Clean-NoShortWords  \\\n",
       "0   dont know whats     they know whats   hamburg...   \n",
       "\n",
       "                                Clean-NoStop-NoShort  \\\n",
       "0  dont know whats know whats hamburgers milk dri...   \n",
       "\n",
       "                                             Stemmed  \\\n",
       "0  i dont know what in it as if they know what in...   \n",
       "\n",
       "                                          Lemmatized  StrLen  WordCount  \\\n",
       "0  i dont know whats in it a if they know whats i...     172         32   \n",
       "\n",
       "   UpperRate  \n",
       "0       0.02  "
      ]
     },
     "execution_count": 46,
     "metadata": {},
     "output_type": "execute_result"
    }
   ],
   "source": [
    "test_full.head(1)"
   ]
  },
  {
   "cell_type": "markdown",
   "id": "2d762645",
   "metadata": {},
   "source": [
    "### Finding best Feature Column and Vectorizer combination\n",
    "\n",
    "Combine the two different vectorizers CountVec and Tf-IdfVec with the different feature columns created in the processing step."
   ]
  },
  {
   "cell_type": "code",
   "execution_count": 21,
   "id": "1ee8e19b",
   "metadata": {},
   "outputs": [],
   "source": [
    "vecs = [('cv', CountVectorizer()),('tfidf', TfidfVectorizer())]\n",
    "columns = ['Comment', 'Cleaned','Stemmed', 'Lemmatized','Clean-NoStopWords','Clean-NoShortWords', 'Clean-NoStop-NoShort']    "
   ]
  },
  {
   "cell_type": "code",
   "execution_count": 22,
   "id": "de8ccc58",
   "metadata": {},
   "outputs": [],
   "source": [
    "def vec_logit_pipeline(vecs, col, Xtrain, Ytrain):\n",
    "   \n",
    "    vec_acc = {}\n",
    "    for v in vecs:\n",
    "        for c in col:\n",
    "            # pipe\n",
    "            pipe = Pipeline([ v, ('logit', LogisticRegression()) ])\n",
    "\n",
    "            # train\n",
    "            pipe.fit(Xtrain[c].values.astype('U'), Ytrain)\n",
    "\n",
    "            # evaluate with cross validation 5-fold\n",
    "            cv_score = cross_val_score(pipe, Xtrain[c].values.astype('U'), Ytrain, cv=5).mean()\n",
    "            \n",
    "            vec_acc.update({(v,c):cv_score})\n",
    "    \n",
    "    return vec_acc"
   ]
  },
  {
   "cell_type": "code",
   "execution_count": 23,
   "id": "810059b6",
   "metadata": {
    "scrolled": true
   },
   "outputs": [],
   "source": [
    "vec_col_scores = vec_logit_pipeline(vecs, columns, Xtrain, Ytrain)"
   ]
  },
  {
   "cell_type": "code",
   "execution_count": 24,
   "id": "ba3051a5",
   "metadata": {
    "scrolled": true
   },
   "outputs": [
    {
     "name": "stdout",
     "output_type": "stream",
     "text": [
      "(('cv', CountVectorizer()), 'Comment') 0.757\n",
      "(('cv', CountVectorizer()), 'Cleaned') 0.751\n",
      "(('cv', CountVectorizer()), 'Stemmed') 0.7665\n",
      "(('cv', CountVectorizer()), 'Lemmatized') 0.7595000000000001\n",
      "(('cv', CountVectorizer()), 'Clean-NoStopWords') 0.7515\n",
      "(('cv', CountVectorizer()), 'Clean-NoShortWords') 0.74\n",
      "(('cv', CountVectorizer()), 'Clean-NoStop-NoShort') 0.74\n",
      "(('tfidf', TfidfVectorizer()), 'Comment') 0.7629999999999999\n",
      "(('tfidf', TfidfVectorizer()), 'Cleaned') 0.7609999999999999\n",
      "(('tfidf', TfidfVectorizer()), 'Stemmed') 0.7765\n",
      "(('tfidf', TfidfVectorizer()), 'Lemmatized') 0.7769999999999999\n",
      "(('tfidf', TfidfVectorizer()), 'Clean-NoStopWords') 0.75\n",
      "(('tfidf', TfidfVectorizer()), 'Clean-NoShortWords') 0.742\n",
      "(('tfidf', TfidfVectorizer()), 'Clean-NoStop-NoShort') 0.7424999999999999\n",
      "\n",
      "Best Vectoriser and Column: (('tfidf', TfidfVectorizer()), 'Lemmatized') Mean Cross-Val (train) Score: 0.7769999999999999\n"
     ]
    }
   ],
   "source": [
    "# print result\n",
    "for k,v in vec_col_scores.items():\n",
    "    print(k,v)\n",
    "\n",
    "best_vec_col = max(vec_col_scores, key=vec_col_scores.get)\n",
    "best_col = best_vec_col[1]\n",
    "best_vec = best_vec_col[0]\n",
    "best_vec_col_score = max(vec_col_scores.values())\n",
    "\n",
    "print(\"\\nBest Vectoriser and Column:\",best_vec_col,\"Mean Cross-Val (train) Score:\",best_vec_col_score)"
   ]
  },
  {
   "cell_type": "markdown",
   "id": "f10ddbdb",
   "metadata": {},
   "source": [
    "Also evaluating performance of numerical columns created"
   ]
  },
  {
   "cell_type": "code",
   "execution_count": 25,
   "id": "868bac06",
   "metadata": {},
   "outputs": [],
   "source": [
    "def num_logit_pipeline(Xtrain, Ytrain):\n",
    "   \n",
    "    # pipe\n",
    "    pipe = Pipeline([ ('logit', LogisticRegression()) ])\n",
    "\n",
    "    # train\n",
    "    pipe.fit(Xtrain, Ytrain)\n",
    "\n",
    "    # evaluate with cross validation 5-fold\n",
    "    cv_score = cross_val_score(pipe, Xtrain, Ytrain, cv=5).mean()\n",
    "\n",
    "    return cv_score"
   ]
  },
  {
   "cell_type": "code",
   "execution_count": 26,
   "id": "4f76da18",
   "metadata": {},
   "outputs": [
    {
     "name": "stdout",
     "output_type": "stream",
     "text": [
      "Mean Cross-Val Score from numerical columns: 0.5369999999999999\n"
     ]
    }
   ],
   "source": [
    "num_Xtrain = Xtrain[['StrLen','WordCount','UpperRate']]\n",
    "num_col_scores = num_logit_pipeline(num_Xtrain, Ytrain)\n",
    "print(\"Mean Cross-Val Score from numerical columns:\", num_col_scores)"
   ]
  },
  {
   "cell_type": "markdown",
   "id": "2cf22916",
   "metadata": {},
   "source": [
    "The validation accuracy result from numerical columns are far behind the vectorized categorical columns."
   ]
  },
  {
   "cell_type": "markdown",
   "id": "03778e7c",
   "metadata": {},
   "source": [
    "### Finding best Classification model\n",
    "\n",
    "Testing the below default algorithms with the best vectorizer and feature column identified above:\n",
    "1. Dummy Classifier\n",
    "2. Logistic Regression\n",
    "3. Support Vector Classifier\n",
    "4. Perceptron Classifier\n",
    "5. Random Forest Classifier\n",
    "6. Multinomial Naive Bayes Classifier"
   ]
  },
  {
   "cell_type": "code",
   "execution_count": 30,
   "id": "d4d0ced2",
   "metadata": {},
   "outputs": [],
   "source": [
    "models = [\n",
    "        ('dummy',DummyClassifier()),\n",
    "        ('logit', LogisticRegression()),\n",
    "        ('svc', SVC()),\n",
    "        ('per',Perceptron()),\n",
    "        ('rfc',RandomForestClassifier()),\n",
    "        ('nb',MultinomialNB()) ]"
   ]
  },
  {
   "cell_type": "code",
   "execution_count": 33,
   "id": "dc44e857",
   "metadata": {},
   "outputs": [],
   "source": [
    "def tfidf_model_pipeline(models, col, Xtrain, Ytrain):    \n",
    "    model_acc = {}\n",
    "    for model in models:\n",
    "        # pipe\n",
    "        pipe = Pipeline([\n",
    "            ('tfidf', TfidfVectorizer()), model])\n",
    "\n",
    "        # train\n",
    "        pipe.fit(Xtrain[col].values.astype('U'), Ytrain)\n",
    "\n",
    "        # evaluate with cross validation 5-fold\n",
    "        cv_score = cross_val_score(pipe, Xtrain[col].values.astype('U'), Ytrain, cv=5).mean()\n",
    "\n",
    "        model_acc.update({(model):cv_score})\n",
    "\n",
    "    return model_acc"
   ]
  },
  {
   "cell_type": "code",
   "execution_count": 34,
   "id": "cde703a2",
   "metadata": {},
   "outputs": [],
   "source": [
    "model_scores = tfidf_model_pipeline(models, best_col, Xtrain, Ytrain)"
   ]
  },
  {
   "cell_type": "code",
   "execution_count": 35,
   "id": "31f4204c",
   "metadata": {},
   "outputs": [
    {
     "name": "stdout",
     "output_type": "stream",
     "text": [
      "0.5029999999999999 \t ('dummy', DummyClassifier())\n",
      "0.7769999999999999 \t ('logit', LogisticRegression())\n",
      "0.7795 \t ('svc', SVC())\n",
      "0.737 \t ('per', Perceptron())\n",
      "0.7449999999999999 \t ('rfc', RandomForestClassifier())\n",
      "0.7859999999999999 \t ('nb', MultinomialNB())\n",
      "\n",
      "Best Model: ('nb', MultinomialNB()) Mean Cross-Val Score: 0.7859999999999999\n"
     ]
    }
   ],
   "source": [
    "# print result\n",
    "for k,v in model_scores.items():\n",
    "    print(v,\"\\t\",k)\n",
    "    \n",
    "best_model = max(model_scores, key=model_scores.get)\n",
    "best_model_score =max(model_scores.values())\n",
    "\n",
    "print(\"\\nBest Model:\",best_model,\"Mean Cross-Val Score:\", best_model_score)"
   ]
  },
  {
   "cell_type": "markdown",
   "id": "f640e34a",
   "metadata": {},
   "source": [
    "### Hyperparameter Tuning for the best models and evaluation on Validation data\n",
    "\n",
    "We take forward the two models that had the best performance and tune their hyperparameters to try to improve them. We additionally do some feature selection on the vectorized data with selectKbest and finally evaluate on the Validation data set. \n",
    "\n",
    "##### Multinomial Naive Bayes"
   ]
  },
  {
   "cell_type": "code",
   "execution_count": 36,
   "id": "f0f09e07",
   "metadata": {},
   "outputs": [
    {
     "name": "stdout",
     "output_type": "stream",
     "text": [
      "Multinomial Naive Bayes:\n",
      "Best train score: 0.794 \n",
      "Best params: {'nb__alpha': 0.1, 'tfidf__ngram_range': (1, 3)}\n",
      "Validation acc: 0.834\n",
      "Time: 26.33\n"
     ]
    }
   ],
   "source": [
    "# Setting hyperparameters for Multinomial Naive bayes\n",
    "mnb_params = {\n",
    "    'tfidf__ngram_range': [(1,1),(2,2),(3,3),(4,4),(1,1),(1,2),(1,3),(1,4)],\n",
    "    'nb__alpha': [1, 0.1, 0.01, 0.001, 0.0001, 0.00001],}\n",
    "\n",
    "# Logit pipeline setup\n",
    "mnb_pipe = Pipeline([\n",
    "    ('tfidf', TfidfVectorizer()),\n",
    "    ('nb', MultinomialNB()) ])\n",
    "\n",
    "# GridSearch set up for MNB\n",
    "mnb_gs = GridSearchCV(mnb_pipe, param_grid=mnb_params, cv=5, n_jobs=-1)\n",
    "\n",
    "# Fit on train data\n",
    "mnb_time = time()\n",
    "mnb_gs.fit(Xtrain[best_col].values.astype('U'), Ytrain)\n",
    "print(\"Multinomial Naive Bayes:\\nBest train score:\", mnb_gs.best_score_,\"\\nBest params:\", mnb_gs.best_params_)\n",
    "\n",
    "# Evaluate on validation data\n",
    "mnb_cv_score = mnb_gs.score(Xval[best_col].values.astype('U'), Yval)\n",
    "print(\"Validation acc:\",mnb_cv_score)\n",
    "\n",
    "# time\n",
    "mnb_time = round(time() - mnb_time, 2)\n",
    "print(\"Time:\",mnb_time)"
   ]
  },
  {
   "cell_type": "markdown",
   "id": "385dc020",
   "metadata": {},
   "source": [
    "##### Logistic Regression"
   ]
  },
  {
   "cell_type": "code",
   "execution_count": 37,
   "id": "a0303c68",
   "metadata": {},
   "outputs": [
    {
     "name": "stdout",
     "output_type": "stream",
     "text": [
      "Logistic Regression:\n",
      "Best train score: 0.779 \n",
      "Best params: {'logit__C': 100, 'logit__penalty': 'l2', 'logit__solver': 'liblinear', 'logit__tol': 0.001, 'tfidf__ngram_range': (1, 3)}\n",
      "Validation acc: 0.808\n",
      "Time: 855.27\n"
     ]
    }
   ],
   "source": [
    "# Setting hyperparameters for Logit\n",
    "logit_params = {\n",
    "    'tfidf__ngram_range': [(1,1),(2,2),(3,3),(4,4),(1,1),(1,2),(1,3),(1,4)],\n",
    "    'logit__C': [0.01, 0.1, 1, 10, 100], \n",
    "    'logit__tol': [1e-3, 1e-4, 1e-5],\n",
    "    'logit__penalty': ['l1', 'l2'],\n",
    "    'logit__solver': ['liblinear']}\n",
    "\n",
    "# Logit pipeline setup\n",
    "logit_pipe = Pipeline([\n",
    "    ('tfidf', TfidfVectorizer()),\n",
    "    ('logit', LogisticRegression()) ])\n",
    "\n",
    "# GridSearch set up for Logit\n",
    "logit_gs = GridSearchCV(logit_pipe, param_grid=logit_params, cv=5, n_jobs=-1)\n",
    "\n",
    "# Fit on train data\n",
    "logit_time = time()\n",
    "logit_gs.fit(Xtrain[best_col].values.astype('U'), Ytrain) \n",
    "print(\"Logistic Regression:\\nBest train score:\", logit_gs.best_score_,\"\\nBest params:\", logit_gs.best_params_)\n",
    "\n",
    "# Evaluate on validation data\n",
    "logit_cv_score = logit_gs.score(Xval[best_col].values.astype('U'), Yval)\n",
    "print(\"Validation acc:\",logit_cv_score)\n",
    "\n",
    "# time\n",
    "logit_time = round(time() - logit_time, 2)\n",
    "print(\"Time:\",logit_time)"
   ]
  },
  {
   "cell_type": "markdown",
   "id": "2139342b",
   "metadata": {},
   "source": [
    "##### SVC"
   ]
  },
  {
   "cell_type": "code",
   "execution_count": 38,
   "id": "b17a5f98",
   "metadata": {},
   "outputs": [
    {
     "name": "stdout",
     "output_type": "stream",
     "text": [
      "SVC:\n",
      "Best train score: 0.7845 \n",
      "Best params: {'svc__C': 10, 'svc__kernel': 'rbf', 'svc__tol': 0.001, 'tfidf__ngram_range': (1, 1)}\n",
      "Validation acc: 0.792\n",
      "Time: 812.0\n"
     ]
    }
   ],
   "source": [
    "# Setting hyperparameters for SVC\n",
    "svc_params = {\n",
    "    'tfidf__ngram_range': [(1,1),(2,2),(3,3),(4,4),(1,1),(1,2),(1,3),(1,4)],\n",
    "    'svc__C': [0.01, 0.1, 1, 10, 100],\n",
    "    'svc__tol': [1e-3, 1e-4, 1e-5],\n",
    "    'svc__kernel': ['linear','rbf', 'poly', 'sigmoid']}\n",
    "\n",
    "\n",
    "# SVC pipeline setup\n",
    "svc_pipe = Pipeline([\n",
    "     ('tfidf', TfidfVectorizer()),\n",
    "     ('svc', SVC()) ])\n",
    "\n",
    "# GridSearch set up for SVC\n",
    "svc_gs = GridSearchCV(svc_pipe, param_grid=svc_params, cv=5, n_jobs=-1)\n",
    "\n",
    "# Fit on train data\n",
    "svc_time = time()\n",
    "svc_gs.fit(Xtrain[best_col].values.astype('U'), Ytrain)\n",
    "print(\"SVC:\\nBest train score:\", svc_gs.best_score_,\"\\nBest params:\", svc_gs.best_params_)\n",
    "\n",
    "# Evaluate on validation data\n",
    "svc_cv_score = svc_gs.score(Xval[best_col].values.astype('U'), Yval) # evaluate on validation\n",
    "print(\"Validation acc:\",svc_cv_score)\n",
    "\n",
    "# time\n",
    "svc_time = round(time() - svc_time, 2)\n",
    "print(\"Time:\",svc_time)"
   ]
  },
  {
   "cell_type": "markdown",
   "id": "fcd2b811",
   "metadata": {},
   "source": [
    "##### Best Hyperparameters for MNB"
   ]
  },
  {
   "cell_type": "code",
   "execution_count": 91,
   "id": "6e3bc471",
   "metadata": {},
   "outputs": [
    {
     "name": "stdout",
     "output_type": "stream",
     "text": [
      "Aplha: 0.1\n",
      "Ngram: (1, 3)\n"
     ]
    }
   ],
   "source": [
    "# Best hyperparameters\n",
    "best_alpha = mnb_gs.best_params_['nb__alpha']\n",
    "print(\"Aplha:\",best_alpha)\n",
    "best_ngram = mnb_gs.best_params_['tfidf__ngram_range']\n",
    "print(\"Ngram:\",best_ngram)"
   ]
  },
  {
   "cell_type": "markdown",
   "id": "f4bba81c",
   "metadata": {},
   "source": [
    "### Before final testing - Compare distribution of train and test data"
   ]
  },
  {
   "cell_type": "code",
   "execution_count": 127,
   "id": "246d197d",
   "metadata": {},
   "outputs": [],
   "source": [
    "# function to calculate TFIDF\n",
    "def freq_tfidf_cols(df, col): \n",
    "    \"\"\"calculate term frequency - inverse document frequency and return new dataframe\"\"\"\n",
    "    # Get word frequencies with count vectorizer\n",
    "    cvec = CountVectorizer(ngram_range=(1,2)) #, stop_words='english')\n",
    "    cvec_trans = cvec.fit_transform(df[col].values.astype('U')) # fit to X set\n",
    "\n",
    "    # Create a dataframe with term and frequency columns\n",
    "    freq = np.asarray(cvec_trans.sum(axis=0)).ravel() # format so we can put in a df\n",
    "    freq_df = pd.DataFrame({'term': cvec.get_feature_names(), 'frequencies': freq})\n",
    "\n",
    "    # Create a column that ranks in terms of frequencies, most common term get 1 and so on\n",
    "    freq_df['fq_rank'] = freq_df['frequencies'].rank(method='first', ascending=False).astype('int32')\n",
    "\n",
    "    # Make probabilities of word frequencies (so that alL words sum to 1), i.e. divide every row by sum of column\n",
    "    freq_df['fq_prob'] = freq_df['frequencies'] / freq_df['frequencies'].sum()\n",
    "\n",
    "    # Create TF-IDF word weights with the tfidf-transformer command\n",
    "    t_trans = TfidfTransformer()\n",
    "    trans_weights = t_trans.fit_transform(cvec_trans)\n",
    "\n",
    "    # Create a dataframe with term and TF-IDF weights columns\n",
    "    weight = np.asarray(trans_weights.mean(axis=0)).ravel()\n",
    "    weight_df = pd.DataFrame({'term': cvec.get_feature_names(), 'weight': weight})\n",
    "\n",
    "    # Create a column by the rank of the term's weight, so heaviest term get 1, second heaviest 2 and so on\n",
    "    weight_df['w_rank'] = weight_df['weight'].rank(method='first', ascending=False).astype('int32')\n",
    "\n",
    "    # Make probabilities of word frequencies (so that alL words sum to 1), i.e. divide every row by sum of column\n",
    "    weight_df['w_prob'] = weight_df['weight'] / weight_df['weight'].sum()\n",
    "\n",
    "    # Merge the frames and display\n",
    "    # As we can see they are similar but are not exactly the same order\n",
    "    new_df = freq_df.merge(weight_df, on='term')\n",
    "    return new_df"
   ]
  },
  {
   "cell_type": "code",
   "execution_count": 128,
   "id": "e5917c09",
   "metadata": {},
   "outputs": [],
   "source": [
    "# run function for train and validation\n",
    "df_train = freq_tfidf_cols(train_full, 'Lemmatized')\n",
    "df_test = freq_tfidf_cols(test_full, 'Lemmatized')"
   ]
  },
  {
   "cell_type": "code",
   "execution_count": 129,
   "id": "69162e0f",
   "metadata": {
    "scrolled": true
   },
   "outputs": [
    {
     "data": {
      "image/png": "[encoded data removed]",
      "text/plain": [
       "<Figure size 2000x500 with 2 Axes>"
      ]
     },
     "metadata": {
      "needs_background": "light"
     },
     "output_type": "display_data"
    }
   ],
   "source": [
    "# Do the training and validation set follow the same distribution? Illustrate their relations with a Q-Q plot.\n",
    "# Create a quantile dataframe\n",
    "q = [c/100 for c in range(1, 100, 1)]\n",
    "df_qs = pd.DataFrame({\"train_freq\": df_train[\"frequencies\"].quantile(q),\n",
    "                      \"train_weight\": df_train[\"weight\"].quantile(q),\n",
    "                      \"val_freq\": df_test[\"frequencies\"].quantile(q),\n",
    "                      \"val_weight\": df_test[\"weight\"].quantile(q)\n",
    "                     })\n",
    "\n",
    "# Plot training and validation sets against eachother for frequency and tfidf-weights\n",
    "fig, axes = plt.subplots(1, 2, figsize=(20, 5), dpi=dpi)\n",
    "plt.suptitle(\"Q-Q plots of training and test set distributions\", size=22, y=1.05)\n",
    "\n",
    "axes[0].set_title(\"CountVectorizer (term frequency)\", size=20)\n",
    "axes[1].set_title(\"Tf-IdfVectorizer (term weights)\", size=20)\n",
    "df_qs.plot.scatter(x=\"train_freq\", y=\"val_freq\", ax=axes[0], color=\"blue\", marker=\"o\", fontsize=12, s=50)\n",
    "df_qs.plot.scatter(x=\"train_weight\", y=\"val_weight\", ax=axes[1], color=\"tomato\", marker=\"o\", fontsize=12, s=50)\n",
    "axes[0].set_xlabel(\"Training set\", size=17)\n",
    "axes[1].set_xlabel(\"Training set\", size=17)\n",
    "axes[0].set_ylabel(\"Test set\", size=17)\n",
    "axes[1].set_ylabel(\"Test set\", size=17)\n",
    "\n",
    "# Draw fitted line that represents perfect correspondence\n",
    "pf = np.polyfit(x= df_qs[\"train_freq\"], y= df_qs[\"val_freq\"], deg=1)\n",
    "pw = np.polyfit(x= df_qs[\"train_weight\"], y=df_qs[\"val_weight\"], deg=1)\n",
    "fitted_line_freq = pf[1] + pf[0]*df_qs[\"train_freq\"]\n",
    "fitted_line_weight = pw[1] + pw[0]*df_qs[\"train_weight\"]\n",
    "axes[0].plot(df_qs[\"train_freq\"], fitted_line_freq, color='k', linestyle=\"dashed\")\n",
    "axes[1].plot(df_qs[\"train_weight\"], fitted_line_weight, color='k', linestyle=\"dashed\")\n",
    "plt.show()"
   ]
  },
  {
   "cell_type": "markdown",
   "id": "efc7c983",
   "metadata": {},
   "source": [
    "Here we are using the training and validation data to check if they follow the same distribution with the help of Q-Q plots. We're only using the x variables \"term frequency\" (from Count Vectorizer) and \"Term frequency-Inverse document frequency\" (Tf-Idf). Since the size of the training and validation set is different, the x and the y axes will be different on both plots. But we can see that the distribtuions between the two sets for these variables are very similar and seem to follow the same distribution. Therefore, there should be no issue using these two sets."
   ]
  },
  {
   "cell_type": "markdown",
   "id": "f0356f9a",
   "metadata": {},
   "source": [
    "### Final Model and Evaluation "
   ]
  },
  {
   "cell_type": "code",
   "execution_count": 92,
   "id": "37c043b0",
   "metadata": {},
   "outputs": [
    {
     "name": "stdout",
     "output_type": "stream",
     "text": [
      "Full train: 21282\n",
      "Full test: 1136\n"
     ]
    }
   ],
   "source": [
    "# Get full training data set and break out X and Y from TRAIN\n",
    "Xtrain_f = train_full.drop(['Y'], axis=1)\n",
    "Ytrain_f = train_full['Y']\n",
    "print(\"Full train:\",len(Xtrain_f))\n",
    "print(\"Full test:\",len(Xtest))"
   ]
  },
  {
   "cell_type": "code",
   "execution_count": 52,
   "id": "e9b94401",
   "metadata": {},
   "outputs": [
    {
     "name": "stdout",
     "output_type": "stream",
     "text": [
      "### Final Model: Multinomial Naive Bayes ###\n",
      "Final Model Test Accuracy: 0.886443661971831\n",
      "\n",
      "Classification report:\n",
      "               precision    recall  f1-score   support\n",
      "\n",
      "           0       0.90      0.87      0.88       568\n",
      "           1       0.88      0.90      0.89       568\n",
      "\n",
      "    accuracy                           0.89      1136\n",
      "   macro avg       0.89      0.89      0.89      1136\n",
      "weighted avg       0.89      0.89      0.89      1136\n",
      "\n"
     ]
    }
   ],
   "source": [
    "print(\"### Final Model: Multinomial Naive Bayes ###\")\n",
    "\n",
    "final_pipe = Pipeline([\n",
    "     ('tfidf', TfidfVectorizer(ngram_range=best_ngram)),\n",
    "     ('mnb', MultinomialNB(alpha=best_alpha)) ])\n",
    "\n",
    "# Fit on train data\n",
    "final_pipe.fit(Xtrain_f[best_col].values.astype('U'), Ytrain_f)\n",
    "\n",
    "# Predict on test \n",
    "final_pred_labels = final_pipe.predict(Xtest[best_col].values.astype('U'))\n",
    "\n",
    "# Accuracy on test data \n",
    "final_test_acc = accuracy_score(Ytest, final_pred_labels)\n",
    "print(\"Final Model Test Accuracy:\", final_test_acc)\n",
    "\n",
    "clf_report = classification_report(Ytest, final_pred_labels)\n",
    "print(\"\\nClassification report:\\n\",clf_report)"
   ]
  },
  {
   "cell_type": "markdown",
   "id": "75c350e9",
   "metadata": {},
   "source": [
    "Compare accuracy score to some baseline null accuracy"
   ]
  },
  {
   "cell_type": "code",
   "execution_count": 53,
   "id": "a7a1f466",
   "metadata": {},
   "outputs": [
    {
     "name": "stdout",
     "output_type": "stream",
     "text": [
      "0.5\n"
     ]
    }
   ],
   "source": [
    "# Calculate null accuracy in a single line of code - only for binary classification problems coded as 0/1\n",
    "null_acc = max(Ytest.mean(), 1 - Ytest.mean())\n",
    "print(null_acc)"
   ]
  },
  {
   "cell_type": "code",
   "execution_count": 57,
   "id": "98b7524f",
   "metadata": {},
   "outputs": [
    {
     "data": {
      "image/png": "[encoded data removed]",
      "text/plain": [
       "<Figure size 432x288 with 2 Axes>"
      ]
     },
     "metadata": {
      "needs_background": "light"
     },
     "output_type": "display_data"
    }
   ],
   "source": [
    "# Confusion Matrix - first argument is true values, second argument is predicted values (2x2 numpy array (matrix))\n",
    "cf_matrix = confusion_matrix(Ytest, final_pred_labels)\n",
    "\n",
    "# plot the result in confusion matrix heatmap\n",
    "group_names = ['True Neg','False Pos','False Neg','True Pos']\n",
    "group_counts = ['{0:0.0f}'.format(value) for value in cf_matrix.flatten()]\n",
    "group_percentages = ['{0:.2%}'.format(value) for value in cf_matrix.flatten()/np.sum(cf_matrix)]\n",
    "labels = [f'{v1}\\n{v2}\\n{v3}' for v1, v2, v3 in zip(group_names,group_counts,group_percentages)]\n",
    "labels = np.asarray(labels).reshape(2,2)\n",
    "sns.heatmap(cf_matrix, annot=labels, fmt='', cmap='Blues')\n",
    "plt.title('CONFUSION MATRIX:\\nMultinomial Naive Bayes \\nwith Tf-idfVectorizer (on Lemmatized)')\n",
    "plt.ylabel(\"Actual label\")\n",
    "plt.xlabel(\"Predicted label\")\n",
    "plt.show()"
   ]
  },
  {
   "cell_type": "markdown",
   "id": "702eee0f",
   "metadata": {},
   "source": [
    "Look at features the model found useful wen classifying"
   ]
  },
  {
   "cell_type": "code",
   "execution_count": 93,
   "id": "8c76e2c9",
   "metadata": {},
   "outputs": [
    {
     "name": "stdout",
     "output_type": "stream",
     "text": [
      "-14.00927942584559 \t aa no\n",
      "-14.00927942584559 \t aa no vaccine\n",
      "-14.00927942584559 \t aahhhhh\n",
      "-14.00927942584559 \t aahhhhh screw\n",
      "-14.00927942584559 \t aahhhhh screw this\n",
      "-14.00927942584559 \t aaron\n",
      "-14.00927942584559 \t aaron about\n",
      "-14.00927942584559 \t aaron about the\n",
      "-14.00927942584559 \t aaron die\n",
      "-14.00927942584559 \t aaron die more\n",
      "-14.00927942584559 \t aaron die week\n",
      "-14.00927942584559 \t aaron just\n",
      "-14.00927942584559 \t aaron just die\n",
      "-14.00927942584559 \t aaron oh\n",
      "-14.00927942584559 \t aaron oh wait\n",
      "-14.00927942584559 \t aaron take\n",
      "-14.00927942584559 \t aaron take the\n",
      "-14.00927942584559 \t aaron take vaccine\n",
      "-14.00927942584559 \t aaron take vax\n",
      "-14.00927942584559 \t aaron tragic\n",
      "-14.00927942584559 \t aaron tragic death\n",
      "-14.00927942584559 \t abandon kid\n",
      "-14.00927942584559 \t abandon kid pope\n",
      "-14.00927942584559 \t abandon the development\n",
      "-14.00927942584559 \t abc\n"
     ]
    },
    {
     "name": "stderr",
     "output_type": "stream",
     "text": [
      "C:\\Users\\anouk\\anaconda3\\lib\\site-packages\\sklearn\\utils\\deprecation.py:101: FutureWarning: Attribute coef_ was deprecated in version 0.24 and will be removed in 1.1 (renaming of 0.26).\n",
      "  warnings.warn(msg, category=FutureWarning)\n"
     ]
    }
   ],
   "source": [
    "# Get the names of each feature from vectorizer\n",
    "feature_names = final_pipe.named_steps['tfidf'].get_feature_names()\n",
    "\n",
    "# Get the feature weights from SVC\n",
    "feature_weights = final_pipe.named_steps['mnb'].coef_[0]\n",
    "\n",
    "# Print top 10 feature-weights\n",
    "for w, f in sorted(zip(feature_weights, feature_names))[:25]:\n",
    "    print(w,\"\\t\",f)"
   ]
  },
  {
   "cell_type": "code",
   "execution_count": 67,
   "id": "2f499222",
   "metadata": {},
   "outputs": [
    {
     "name": "stdout",
     "output_type": "stream",
     "text": [
      "['the' 'be' 'vaccine' 'it' 'to' 'not' 'and' 'take' 'have' 'you']\n",
      "['the' 'be' 'get' 'to' 'vaccine' 'and' 'it' 'of' 'my' 'have']\n"
     ]
    }
   ],
   "source": [
    "neg_class_prob_sorted = final_pipe.named_steps['mnb'].feature_log_prob_[0, :].argsort()[::-1]\n",
    "pos_class_prob_sorted = final_pipe.named_steps['mnb'].feature_log_prob_[1, :].argsort()[::-1]\n",
    "\n",
    "print(np.take(final_pipe.named_steps['tfidf'].get_feature_names(), neg_class_prob_sorted[:10]))\n",
    "print(np.take(final_pipe.named_steps['tfidf'].get_feature_names(), pos_class_prob_sorted[:10]))"
   ]
  },
  {
   "cell_type": "markdown",
   "id": "49070e15",
   "metadata": {},
   "source": [
    "Compare some true and predicted comments"
   ]
  },
  {
   "cell_type": "code",
   "execution_count": 69,
   "id": "bd81c124",
   "metadata": {},
   "outputs": [
    {
     "name": "stdout",
     "output_type": "stream",
     "text": [
      "True: [1 1 0 0 0 0 0 0 0 0 0 1 0 1 0 0 1 1 0 0 0 0 0 1 1]\n",
      "False: [0 1 0 0 1 0 1 0 0 0 0 1 1 1 0 0 1 1 0 0 0 0 0 0 1]\n"
     ]
    }
   ],
   "source": [
    "# print the first 25 true and predicted responses\n",
    "print('True:', Ytest.values[:25])\n",
    "print('False:', final_pred_labels[:25])"
   ]
  },
  {
   "cell_type": "code",
   "execution_count": 133,
   "id": "11bb5e55",
   "metadata": {
    "scrolled": false
   },
   "outputs": [
    {
     "name": "stdout",
     "output_type": "stream",
     "text": [
      "---\n",
      "Correct Label: 1 \n",
      "Predicted Label: 0 \n",
      " I don't know what's in it. As if they know what's in the hamburgers they eat, the milk they drink, the high fructose corn syrup they consume... what a tragedy of stupidity.\n",
      "\n",
      "---\n",
      "Correct Label: 0 \n",
      "Predicted Label: 1 \n",
      " Vaccines are saving lives meanwhile romania being the least vaccinated and also least infected country in the whole europe\n",
      "\n",
      "---\n",
      "Correct Label: 0 \n",
      "Predicted Label: 1 \n",
      " if you don't have the vaccine, you're robbing someone else their right to live a healthy normal life lmfao My I.Q just dropped 10 points listening to that Bullshit !\n",
      "\n",
      "---\n",
      "Correct Label: 0 \n",
      "Predicted Label: 1 \n",
      " 11 months on and still no symptoms. I feel great. No vaccine and have been visiting my 91 year old nan who smokes ALOT and she's fine. This is about depopulation a Eugenics program.\n",
      "\n",
      "---\n",
      "Correct Label: 1 \n",
      "Predicted Label: 0 \n",
      " A good friend is recovering after covid, having refused vaccination. He is confused and has trouble focusing. He remembers that he wasn't that way before. A solid hit with covid leaves patients with an average of a seven IQ point drop. He isn't an average victim. He's young and healthy and he's going to live with this damage for decades.\n"
     ]
    }
   ],
   "source": [
    "print(\"---\\nCorrect Label:\", Ytest[0],\"\\nPredicted Label:\",final_pred_labels[0],\"\\n\",Xtest['Comment'][0])\n",
    "print(\"\\n---\\nCorrect Label:\", Ytest[4],\"\\nPredicted Label:\",final_pred_labels[4],\"\\n\",Xtest['Comment'][4])\n",
    "print(\"\\n---\\nCorrect Label:\", Ytest[6],\"\\nPredicted Label:\",final_pred_labels[6],\"\\n\",Xtest['Comment'][6])\n",
    "print(\"\\n---\\nCorrect Label:\", Ytest[12],\"\\nPredicted Label:\",final_pred_labels[12],\"\\n\",Xtest['Comment'][12])\n",
    "print(\"\\n---\\nCorrect Label:\", Ytest[23],\"\\nPredicted Label:\",final_pred_labels[23],\"\\n\",Xtest['Comment'][23])"
   ]
  }
 ],
 "metadata": {
  "kernelspec": {
   "display_name": "Python 3 (ipykernel)",
   "language": "python",
   "name": "python3"
  },
  "language_info": {
   "codemirror_mode": {
    "name": "ipython",
    "version": 3
   },
   "file_extension": ".py",
   "mimetype": "text/x-python",
   "name": "python",
   "nbconvert_exporter": "python",
   "pygments_lexer": "ipython3",
   "version": "3.10.0"
  }
 },
 "nbformat": 4,
 "nbformat_minor": 5
}
