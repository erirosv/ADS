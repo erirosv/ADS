{
 "cells": [
  {
   "cell_type": "markdown",
   "metadata": {
    "cell_id": "f07497b7-b5a1-46a4-8118-379eeeaa7496",
    "deepnote_cell_type": "markdown",
    "tags": []
   },
   "source": [
    "### Task 4: Decision trees for regression\n",
    "For the final task, we'll implement a class TreeRegressor for regression with decision trees."
   ]
  },
  {
   "cell_type": "code",
   "execution_count": null,
   "metadata": {
    "cell_id": "00001-a8d5236c-fe66-4f28-b372-4a1545ff6f23",
    "deepnote_cell_type": "code",
    "deepnote_to_be_reexecuted": false,
    "execution_millis": 2191,
    "execution_start": 1642961927235,
    "source_hash": "a6ce5e4b",
    "tags": []
   },
   "outputs": [],
   "source": [
    "# installing the required libraries\n",
    "import sklearn\n",
    "from sklearn import datasets\n",
    "import numpy as np\n",
    "from collections import Counter\n",
    "import pandas as pd\n",
    "from sklearn.model_selection import train_test_split\n",
    "from sklearn.model_selection import cross_val_score\n",
    "from sklearn.model_selection import cross_validate\n",
    "from sklearn.metrics import accuracy_score\n",
    "from sklearn.metrics import mean_squared_error\n",
    "import matplotlib.pyplot as plt\n",
    "# Following standard practice in scikit-learn, we inherit from the class BaseEstimator,\n",
    "# which is the base class of all classifiers and regression models:\n",
    "from sklearn.base import BaseEstimator, ClassifierMixin, RegressorMixin\n",
    "from abc import ABC, abstractmethod # import abstract class for DecisionTree and abstract method for functions"
   ]
  },
  {
   "cell_type": "code",
   "execution_count": null,
   "metadata": {
    "cell_id": "00002-1b22f2ea-964b-450f-a197-663e9152e939",
    "deepnote_cell_type": "code",
    "deepnote_to_be_reexecuted": false,
    "execution_millis": 6,
    "execution_start": 1642961929438,
    "source_hash": "7c33d6f9"
   },
   "outputs": [],
   "source": [
    "#conda install graphviz"
   ]
  },
  {
   "cell_type": "code",
   "execution_count": null,
   "metadata": {
    "cell_id": "00003-291db819-6367-4ad2-933f-65dd63d2c5de",
    "deepnote_cell_type": "code",
    "deepnote_to_be_reexecuted": false,
    "execution_millis": 41,
    "execution_start": 1642961929445,
    "source_hash": "759b3f84"
   },
   "outputs": [],
   "source": [
    "#conda install -c anaconda graphviz"
   ]
  },
  {
   "cell_type": "code",
   "execution_count": null,
   "metadata": {
    "cell_id": "00004-2056dd1f-6a07-45ab-b8fa-e33fe5cbda5d",
    "deepnote_cell_type": "code",
    "deepnote_to_be_reexecuted": false,
    "execution_millis": 4023,
    "execution_start": 1642961929487,
    "scrolled": true,
    "source_hash": "ca10e547",
    "tags": []
   },
   "outputs": [
    {
     "name": "stdout",
     "output_type": "stream",
     "text": [
      "Requirement already satisfied: graphviz in /root/venv/lib/python3.7/site-packages (0.19.1)\n",
      "\u001b[33mWARNING: You are using pip version 20.1.1; however, version 21.3.1 is available.\n",
      "You should consider upgrading via the '/root/venv/bin/python -m pip install --upgrade pip' command.\u001b[0m\n"
     ]
    }
   ],
   "source": [
    "!pip install graphviz"
   ]
  },
  {
   "cell_type": "code",
   "execution_count": null,
   "metadata": {
    "cell_id": "00005-a67675c2-45ed-44fb-a751-4fe5b2a08cf2",
    "deepnote_cell_type": "code",
    "deepnote_to_be_reexecuted": false,
    "execution_millis": 30,
    "execution_start": 1642961933496,
    "source_hash": "a5532d9d",
    "tags": []
   },
   "outputs": [],
   "source": [
    "from graphviz import Digraph"
   ]
  },
  {
   "cell_type": "markdown",
   "metadata": {
    "cell_id": "00006-9ab5bffb-5293-402c-93fd-06791e59a0a7",
    "deepnote_cell_type": "markdown",
    "tags": []
   },
   "source": [
    "Below we have the components needed to implement decision tree classifiers and regression models: DecisionTreeLeaf and DecisionTreeBranch.\n",
    "\n",
    "A leaf corresponds to the base case of a recursion. It is a \"dummy\" tree that always returns a constant value."
   ]
  },
  {
   "cell_type": "code",
   "execution_count": null,
   "metadata": {
    "cell_id": "00007-de320cef-3452-4582-a122-7a0c8e29ef3e",
    "deepnote_cell_type": "code",
    "deepnote_to_be_reexecuted": false,
    "execution_millis": 0,
    "execution_start": 1642961933526,
    "source_hash": "f75d9341",
    "tags": []
   },
   "outputs": [],
   "source": [
    "class DecisionTreeLeaf:\n",
    "\n",
    "    def __init__(self, value):\n",
    "        self.value = value\n",
    "\n",
    "    # This method computes the prediction for this leaf node. This will just return a constant value.\n",
    "    def predict(self, x):\n",
    "        return self.value # e.g. flower class of iris, or owns a car/not own car\n",
    "\n",
    "    # Utility function to draw a tree visually using graphviz.\n",
    "    def draw_tree(self, graph, node_counter, names):\n",
    "        node_id = str(node_counter)\n",
    "        val_str = f'{self.value:.4g}' if isinstance(self.value, float) else str(self.value)\n",
    "        graph.node(node_id, val_str, style='filled')\n",
    "        return node_counter+1, node_id\n",
    "        \n",
    "    def __eq__(self, other):\n",
    "        if isinstance(other, DecisionTreeLeaf):\n",
    "            return self.value == other.value\n",
    "        else:\n",
    "            return False"
   ]
  },
  {
   "cell_type": "markdown",
   "metadata": {
    "cell_id": "00008-949bf78e-d66a-4736-927f-4a8368b74bc2",
    "deepnote_cell_type": "markdown",
    "tags": []
   },
   "source": [
    "A branch will look at one feature, and will select a subtree depending on the value of the feature. That subtree will then be called recursively to compute the prediction.\n",
    "\n",
    "This implementation assumes that the feature is numerical. Depending on whether the feature is or isn't greater than a threshold, the \"high\" or \"low\" subtree will be selected."
   ]
  },
  {
   "cell_type": "code",
   "execution_count": null,
   "metadata": {
    "cell_id": "00009-7db60de6-725e-4ba0-bc02-4d4241175bea",
    "deepnote_cell_type": "code",
    "deepnote_to_be_reexecuted": false,
    "execution_millis": 1,
    "execution_start": 1642961933579,
    "source_hash": "e016c0c2",
    "tags": []
   },
   "outputs": [],
   "source": [
    "class DecisionTreeBranch:\n",
    "\n",
    "    def __init__(self, feature, threshold, low_subtree, high_subtree):\n",
    "        self.feature = feature\n",
    "        self.threshold = threshold\n",
    "        self.low_subtree = low_subtree\n",
    "        self.high_subtree = high_subtree\n",
    "\n",
    "    # For a branch node, we compute the prediction by first considering the feature, and then \n",
    "    # calling the upper or lower subtree, depending on whether the feature is or isn't greater\n",
    "    # than the threshold.\n",
    "    def predict(self, x): # x is the feature value to look at\n",
    "        if x[self.feature] <= self.threshold:\n",
    "            return self.low_subtree.predict(x)\n",
    "        else:\n",
    "            return self.high_subtree.predict(x)\n",
    "\n",
    "    # Utility function to draw a tree visually using graphviz.\n",
    "    def draw_tree(self, graph, node_counter, names):\n",
    "        node_counter, low_id = self.low_subtree.draw_tree(graph, node_counter, names)\n",
    "        node_counter, high_id = self.high_subtree.draw_tree(graph, node_counter, names)\n",
    "        node_id = str(node_counter)\n",
    "        fname = f'F{self.feature}' if names is None else names[self.feature]\n",
    "        lbl = f'{fname} > {self.threshold:.4g}?'\n",
    "        graph.node(node_id, lbl, shape='box', fillcolor='yellow', style='filled, rounded')\n",
    "        graph.edge(node_id, low_id, 'False')\n",
    "        graph.edge(node_id, high_id, 'True')\n",
    "        return node_counter+1, node_id"
   ]
  },
  {
   "cell_type": "markdown",
   "metadata": {
    "cell_id": "00010-4eb9a5ca-1046-4f84-ab70-3ad3c401fc3a",
    "deepnote_cell_type": "markdown",
    "tags": []
   },
   "source": [
    "We write the DecisionTree class as an abstract class that contains the functionality common to all types of decision trees. The regression subclass will be implemented below."
   ]
  },
  {
   "cell_type": "code",
   "execution_count": null,
   "metadata": {
    "cell_id": "00011-657b5d70-e32b-43ac-8e82-635a4ed8728d",
    "deepnote_cell_type": "code",
    "deepnote_to_be_reexecuted": false,
    "execution_millis": 1,
    "execution_start": 1642961933580,
    "source_hash": "873be2c5",
    "tags": []
   },
   "outputs": [],
   "source": [
    "# general decision tree algo that can be inherited by both regression and classification subclasses\n",
    "\n",
    "class DecisionTree(ABC, BaseEstimator): \n",
    "\n",
    "    def __init__(self, max_depth):\n",
    "        super().__init__()\n",
    "        self.max_depth = max_depth ## MAX DEPTH ##\n",
    "        \n",
    "    # As usual in scikit-learn, the training method is called *fit*. We first process the dataset so that\n",
    "    # we're sure that it's represented as a NumPy matrix. Then we call the recursive tree-building method\n",
    "    # called make_tree (see below).\n",
    "    def fit(self, X, Y):\n",
    "        if isinstance(X, pd.DataFrame):\n",
    "            self.names = X.columns\n",
    "            X = X.to_numpy()\n",
    "        elif isinstance(X, list):\n",
    "            self.names = None\n",
    "            X = np.array(X)\n",
    "        else:\n",
    "            self.names = None\n",
    "        Y = np.array(Y)        \n",
    "        self.root = self.make_tree(X, Y, self.max_depth)\n",
    "        \n",
    "    def draw_tree(self):\n",
    "        graph = Digraph()\n",
    "        self.root.draw_tree(graph, 0, self.names)\n",
    "        return graph\n",
    "    \n",
    "    # By scikit-learn convention, the method *predict* computes the classification or regression output\n",
    "    # for a set of instances.\n",
    "    # To implement it, we call a separate method that carries out the prediction for one instance.\n",
    "    def predict(self, X):\n",
    "        if isinstance(X, pd.DataFrame):\n",
    "            X = X.to_numpy()\n",
    "        return [self.predict_one(x) for x in X]\n",
    "\n",
    "    # Predicting the output for one instance.\n",
    "    def predict_one(self, x):\n",
    "        return self.root.predict(x)        \n",
    "\n",
    "    # This is the recursive training - X and Y will also be subsets of data after splits\n",
    "    def make_tree(self, X, Y, max_depth):\n",
    "\n",
    "        # DIFFERENT FOR CLASSIFICATION / REGRESSION\n",
    "        # We start by computing the default value that will be used if we'll return a leaf node.\n",
    "        # For classifiers, this will be the most common value in Y.\n",
    "        default_value = self.get_default_value(Y)\n",
    "\n",
    "        # First the two base cases in the recursion: is the training set completely\n",
    "        # homogeneous, or have we reached the maximum depth? Then we need to return a leaf.\n",
    "\n",
    "        ## MAX DEPTH ##\n",
    "        # If we have reached the maximum depth, return a leaf with the majority value.\n",
    "        if max_depth == 0: # FIRST TERMINATION CASE - reaching max depth\n",
    "            return DecisionTreeLeaf(default_value)\n",
    "\n",
    "        # DIFFERENT FOR CLASSIFICATION / REGRESSION\n",
    "        # If all the instances in the remaining training set have the same output value,\n",
    "        # return a leaf with this value.\n",
    "        if self.is_homogeneous(Y): # SECOND TERMINATION CASE - when all y values are the same no need to go further\n",
    "            return DecisionTreeLeaf(default_value)\n",
    "\n",
    "        # Select the \"most useful\" feature and split threshold (if numerical value in feature). \n",
    "        # To rank the \"usefulness\" of features, we use one of the classification or regression criteria.\n",
    "        # For each feature, we call best_split (defined in a subclass). We then maximize over the features.\n",
    "        n_features = X.shape[1]\n",
    "        _, best_feature, best_threshold = max(self.best_split(X, Y, feature) for feature in range(n_features))\n",
    "        \n",
    "        if best_feature is None:\n",
    "            return DecisionTreeLeaf(default_value)\n",
    "\n",
    "        # Split the training set into subgroups, based on whether the selected feature is greater than\n",
    "        # the threshold or not\n",
    "        X_low, X_high, Y_low, Y_high = self.split_by_feature(X, Y, best_feature, best_threshold)\n",
    "\n",
    "        # Build the subtrees using a recursive call. Each subtree is associated\n",
    "        # with a value of the feature.\n",
    "        low_subtree = self.make_tree(X_low, Y_low, max_depth-1)\n",
    "        high_subtree = self.make_tree(X_high, Y_high, max_depth-1)\n",
    "\n",
    "        if low_subtree == high_subtree:\n",
    "            return low_subtree\n",
    "\n",
    "        # Return a decision tree branch containing the result.\n",
    "        return DecisionTreeBranch(best_feature, best_threshold, low_subtree, high_subtree)\n",
    "    \n",
    "    # Utility method that splits the data into the \"upper\" and \"lower\" part, based on a feature\n",
    "    # and a threshold.\n",
    "    def split_by_feature(self, X, Y, feature, threshold):\n",
    "        low = X[:,feature] <= threshold\n",
    "        high = ~low\n",
    "        return X[low], X[high], Y[low], Y[high]\n",
    "    \n",
    "    \n",
    "    # The following three methods need to be implemented by the classification and regression subclasses.\n",
    "    @abstractmethod\n",
    "    def get_default_value(self, Y):\n",
    "        pass\n",
    "\n",
    "    @abstractmethod\n",
    "    def is_homogeneous(self, Y):\n",
    "        pass\n",
    "\n",
    "    @abstractmethod\n",
    "    def best_split(self, X, Y, feature):\n",
    "        pass"
   ]
  },
  {
   "cell_type": "markdown",
   "metadata": {
    "cell_id": "00012-9e21918d-0faa-4ba3-b371-48b1772dfb27",
    "deepnote_cell_type": "markdown",
    "tags": []
   },
   "source": [
    "The functions that the subclasses will need to implement, and which are done differently for classification and regression, are the following:\n",
    "\n",
    "- get_default_value: what output value to use if we decide to return a leaf node. For classification, this will be the most common output value, while for regression it will be the mean.\n",
    "- is_homogeneous: tests whether a set of output values is homogeneous. For classification, this means that all outputs are identical; for regression, we'll probably test whether the variance is smaller than some threshold.\n",
    "- best_split: finds the best splitting point for that feature. For classification, this will be based on one of the classification criteria (information gain, gini impurity, majority sum); for regression, it will be based on variances in the subsets.\n",
    "\n",
    "Below is the subclass that implements decision tree regression."
   ]
  },
  {
   "cell_type": "markdown",
   "metadata": {
    "cell_id": "00013-18d51617-2193-49ac-92d9-5f88e0acc0e2",
    "deepnote_cell_type": "markdown",
    "tags": []
   },
   "source": [
    "Here, we define the various criteria we can use to find the \"quality\" of a split in terms of how homogeneous the subsets are. See the reading material for the mathematical definitions of these criteria:"
   ]
  },
  {
   "cell_type": "code",
   "execution_count": null,
   "metadata": {
    "cell_id": "00014-bc145423-8bfc-48ec-9d3e-9c3048cbf1eb",
    "deepnote_cell_type": "code",
    "deepnote_to_be_reexecuted": false,
    "execution_millis": 0,
    "execution_start": 1642961933581,
    "source_hash": "63bdde9e",
    "tags": []
   },
   "outputs": [],
   "source": [
    "## REGRESSION CRITERION\n",
    "def compute_variance(data):\n",
    "    \"\"\"Compute and returns variance for a given set of data points\"\"\"\n",
    "    n = len(data)\n",
    "    variance = ((1/n)*(np.sum(np.power(data,2)))) - ((1/np.power(n,2))*(np.power(np.sum(data),2)))\n",
    "    return variance\n",
    "\n",
    "def variance_reduction(tot_var,high_var,low_var,n,nh,nl):\n",
    "    \"\"\"Compute and returns variance reduction for a given set of data points and its subset\"\"\"\n",
    "    var_red = (tot_var) - ((nh/n)*high_var) - ((nl/n)*low_var)\n",
    "    return var_red"
   ]
  },
  {
   "cell_type": "markdown",
   "metadata": {
    "cell_id": "00015-cdbd3452-3f95-477f-9475-24c7def959e6",
    "deepnote_cell_type": "markdown",
    "tags": []
   },
   "source": [
    "#### Step 1. Implementing the regression model\n",
    "\n",
    "It is probably a good idea to structure this in a similar way to the TreeClassifier, just adapted for regression instead. \n",
    "- This means that you should probably write a new subclass that inherits from the same abstract superclass DecisionTree that the classifier used. \n",
    "- Probably it's a good idea to replace ClassifierMixin with RegressorMixin (this just replaces the default type of evaluation metric).\n",
    "\n",
    "In your regressor subclass, implement the same methods that you can see in TreeClassifier. In particular, you'll need to define:\n",
    "\n",
    "1. What it means for a set of output values to be **\"homogeneous\"**: instead of checking whether all values are identical, you should probably compare the variance to some threshold. (This threshold can either be a small value that you hard-code, or a user-specified hyperparameter.) The NumPy function np.var is probably useful here.\n",
    "2. How to compute the **default output value**: you should return the mean instead of the most common value. Here, you can use np.mean.\n",
    "3. How to select the **best split** that leads to the most homogeneous subsets.\n",
    "\n",
    "The third of these items is the most challenging. In the cases of regression, we use the variance of a set of values to measure its homogeneity. The homogeneity criterion most typically used in decision tree regression (including scikit-learn's implementation) is the following, called \"variance reduction\":\n",
    "\n",
    "![Picture title](image-20220119-212859.png)\n",
    "\n",
    "Here, V(S) means the variance of the full set of values, V(SH) means the variance of the higher part, nH means the size of the higher part, etc.\n",
    "\n",
    "To implement this splitting function, you can get some inspiration from the corresponding function for the classifier. The basic structure will be very similar. But instead of counting the number of instances of each class (using the Counter), you'll have to compute variances instead.\n",
    "\n",
    "Hint. Computing the variances from scratch at each possible threshold, for instance by calling np.var, will be time-consuming if the dataset is large. (What is the time complexity?) It's better to rely on the formula:\n",
    "\n",
    "![Picture title](image-20220119-210127.png)\n",
    "\n",
    "When you go through the possible thresholds, keep track of the sum and sum of squares for the lower and upper partitions.\n",
    "\n",
    "http://www.cse.chalmers.se/~richajo/dit866/assignments/a1/assignment1.html\n",
    "\n",
    "Below is the given calculation on variance from the extra reading on deicison tree statinng variance should be smaller than threshold.\n",
    "\n",
    "![Picture title](image-20220119-205210.png)\n",
    "\n",
    "http://www.cse.chalmers.se/~richajo/dit866/lectures/l1/decision_trees.pdf"
   ]
  },
  {
   "cell_type": "code",
   "execution_count": null,
   "metadata": {
    "cell_id": "00016-b10ae5e0-a29f-4c05-8aae-df575ce0dda9",
    "deepnote_cell_type": "code",
    "deepnote_to_be_reexecuted": false,
    "execution_millis": 16,
    "execution_start": 1642961933585,
    "source_hash": "d54e0d22",
    "tags": []
   },
   "outputs": [],
   "source": [
    "class TreeRegression(DecisionTree, RegressorMixin):\n",
    "\n",
    "    def __init__(self, max_depth=50, criterion='maj_sum', threshold=0.2):\n",
    "        super().__init__(max_depth)\n",
    "        self.criterion = criterion\n",
    "        self.threshold = threshold\n",
    "        \n",
    "    def fit(self, X, Y):\n",
    "        # For decision tree classifiers, there are some different ways to measure\n",
    "        # the homogeneity of subsets.\n",
    "        if self.criterion == 'maj_sum':\n",
    "            self.criterion_function = majority_sum_scorer\n",
    "        elif self.criterion == 'info_gain':\n",
    "            self.criterion_function = info_gain_scorer\n",
    "        elif self.criterion == 'gini':\n",
    "            self.criterion_function = gini_scorer\n",
    "        elif self.criterion == 'var_red':\n",
    "            self.criterion_function = variance_reduction\n",
    "        else:\n",
    "            raise Exception(f'Unknown criterion: {self.criterion}')\n",
    "        super().fit(X, Y)\n",
    "        self.classes_ = sorted(set(Y))\n",
    "\n",
    "    ### 1. UPDATED ###\n",
    "    # Select a default value that is going to be used if we decide to make a leaf.\n",
    "    # Instead of using the most frequent value, as for classification,\n",
    "    # we now use the mean value of the output Y.\n",
    "    def get_default_value(self, Y):\n",
    "        #self.class_distribution = Counter(Y)\n",
    "        #return self.class_distribution.most_common(1)[0][0]\n",
    "        return np.mean(Y)\n",
    "    \n",
    "    ### 2. UPDATED ###\n",
    "    # Checks whether a set of output values is homogeneous. In the regression case, \n",
    "    # compare the variance to some threshold. (This threshold can either be a small value that you hard-code, \n",
    "    # or a user-specified hyperparameter.) The NumPy function np.var is probably useful here.\n",
    "    # For one of the base cases in the recursion, we now check whether the variance in the\n",
    "    # output Y is smaller than some threshold ε, instead of checking whether all outputs are identical.\n",
    "    def is_homogeneous(self, Y):\n",
    "        # calculate variance\n",
    "        variance = compute_variance(Y)\n",
    "        # check if variance is smaller than threshold\n",
    "        if variance < self.threshold: # if smaller return true, else false\n",
    "            return True\n",
    "        else:\n",
    "            return False\n",
    "\n",
    "    ### 3. UPDATED ### \n",
    "    # Finds the best splitting point for a given feature. We'll count variance \n",
    "    # for the low and high parts, then compute the variance reudction\n",
    "    # In the end, we return a triple consisting of\n",
    "    # - the best score we found, according to the criterion we're using\n",
    "    # - the id of the feature\n",
    "    # - the threshold for the best split\n",
    "    def best_split(self, X, Y, feature):\n",
    "\n",
    "        # Create a list of input-output pairs, where we have sorted\n",
    "        # in ascending order by the input feature we're considering.\n",
    "        sorted_indices = np.argsort(X[:, feature]) # creates list of sorted items showing their index    \n",
    "        X_sorted = list(X[sorted_indices, feature]) # sors X by same index list as above, but actual value\n",
    "        Y_sorted = list(Y[sorted_indices]) # sorts Y by same index list as above, but actual value\n",
    "\n",
    "        n = len(Y) #use in formula to calculate variance, and for iteration of all positions\n",
    "\n",
    "        # Placeholders for high and low subsets variances\n",
    "        low_var = 0\n",
    "        high_var = 0\n",
    "        tot_var = compute_variance(Y) #use in formula to calculate variance reduction\n",
    "\n",
    "        # Keep track of the best result we've seen so far.\n",
    "        max_score = -np.inf\n",
    "        max_i = None\n",
    "\n",
    "        # Go through all the positions (excluding the last position).\n",
    "        for i in range(1, n-1):\n",
    "            \n",
    "            # If the input is equal to the input at the next position, we will\n",
    "            # not consider a split here.\n",
    "            x_i = X_sorted[i]\n",
    "            x_next = X_sorted[i+1]\n",
    "            if x_i == x_next:\n",
    "                continue\n",
    "                \n",
    "            # update variance for high and low subsets at current index\n",
    "            low_var = compute_variance(Y_sorted[:i])\n",
    "            high_var = compute_variance(Y_sorted[i:])\n",
    "            \n",
    "            # count items (len) of low and high subsets to use in variance reduction\n",
    "            nl = len(Y_sorted[:i]) \n",
    "            nh = len(Y_sorted[i:])\n",
    "               \n",
    "            # Compute the homogeneity criterion for a split at this position\n",
    "            var_reduction = self.criterion_function(tot_var,high_var,low_var,n,nh,nl)\n",
    "\n",
    "            # If this is the best split, remember it.\n",
    "            if var_reduction > max_score:\n",
    "                max_score = var_reduction\n",
    "                max_i = i\n",
    "\n",
    "        # If we didn't find any split (meaning that all inputs are identical), return\n",
    "        # a dummy value.\n",
    "        if max_i is None:\n",
    "            return -np.inf, None, None\n",
    "\n",
    "        # Otherwise, return the best split we found and its score.\n",
    "        split_point = 0.5*(X_sorted[max_i] + X_sorted[max_i+1])\n",
    "        \n",
    "        return max_score, feature, split_point"
   ]
  },
  {
   "cell_type": "markdown",
   "metadata": {
    "cell_id": "00017-64d50c99-d9c8-4264-b77f-d94e753d3a44",
    "deepnote_cell_type": "markdown",
    "tags": []
   },
   "source": [
    "#### Step 2. Sanity check\n",
    "\n",
    "The following function will generate a small number of training examples for a simple regression task with one input variable.\n",
    "\n",
    "For the report. If you consider the data-generating function, what kind of decision tree would we want to describe this data?\n",
    "\n",
    "Train your decision tree regressor algorithm on a small dataset generated by the function above, and then draw the tree. Select the tree depth according to your common sense. Does the result make sense? What happens if we allow the tree depth to be a large number?"
   ]
  },
  {
   "cell_type": "code",
   "execution_count": null,
   "metadata": {
    "cell_id": "00018-22f6b4d3-d2eb-41ec-a83d-f6bd50b3b2e4",
    "deepnote_cell_type": "code",
    "deepnote_output_heights": [
     21.1875
    ],
    "deepnote_to_be_reexecuted": false,
    "execution_millis": 0,
    "execution_start": 1642961933622,
    "source_hash": "dd4adcc9",
    "tags": []
   },
   "outputs": [],
   "source": [
    "def make_some_data(n):\n",
    "    x = np.random.uniform(-5, 5, size=n)\n",
    "    Y = (x > 1) + 0.1*np.random.normal(size=n)\n",
    "    X = x.reshape(n, 1) # X needs to be a 2-dimensional matrix\n",
    "    return X, Y\n",
    "\n",
    "n = 100\n",
    "Xdummy,Ydummy = make_some_data(n)"
   ]
  },
  {
   "cell_type": "code",
   "execution_count": null,
   "metadata": {
    "cell_id": "00019-72db974b-92c4-4a40-a862-e9350b42e2f5",
    "deepnote_cell_type": "code",
    "deepnote_output_heights": [
     264
    ],
    "deepnote_to_be_reexecuted": false,
    "execution_millis": 315,
    "execution_start": 1642961933623,
    "source_hash": "14bad8ee"
   },
   "outputs": [
    {
     "data": {
      "image/png": "[encoded data removed]",
      "text/plain": [
       "<Figure size 432x288 with 1 Axes>"
      ]
     },
     "metadata": {
      "image/png": {
       "height": 262,
       "width": 394
      },
      "needs_background": "light"
     },
     "output_type": "display_data"
    }
   ],
   "source": [
    "def scatter(x,y):\n",
    "    plt.scatter(x,y)\n",
    "    plt.xlabel(\"X\")\n",
    "    plt.ylabel(\"Y\")\n",
    "    plt.xticks(range(-5,6,1))\n",
    "    plt.grid()\n",
    "    plt.show()\n",
    "\n",
    "scatter(Xdummy,Ydummy)"
   ]
  },
  {
   "cell_type": "markdown",
   "metadata": {
    "cell_id": "1a53fdaf-53a2-47d5-b74b-71e33faae5f0",
    "deepnote_cell_type": "markdown",
    "tags": []
   },
   "source": [
    "##### Comments:\n",
    "The type of decision tree that would describe this data well is a decision tree for regression, which is used for data sets where the target variable Y is of continous value (numeric) and not discrete (categorical) where we'd use a decision tree for classification instead.\n",
    "\n",
    "The result seems to make sense since the natural split, when plotting the data in a scatter plot, is just around 1 on the x-axis and from the plotted tree we can see that the threshold of the feature is also approximately 1. \n",
    "\n",
    "If the data points are above the threshold the model will predict a y-value of approximately 1 which seems to corresponds well to an average of  where the upper right cluster is positioned on the y-axis. Likewise we can see that if the data points are below the threshold they are predicted a y-value of around 0, which also corresponds to where the lower left cluster i spositioned on the y-axis on average.\n",
    "\n",
    "Independantly of the max depth given (when we tested up to a max depth of 10) the tree dosen't go beyond 1 level with 100 data points having only one feature.\n"
   ]
  },
  {
   "cell_type": "code",
   "execution_count": null,
   "metadata": {
    "cell_id": "00020-5fe01ee7-03c1-4307-9631-d81dab4fcd49",
    "deepnote_cell_type": "code",
    "deepnote_output_heights": [
     176.65625
    ],
    "deepnote_to_be_reexecuted": false,
    "execution_millis": 75,
    "execution_start": 1642961933864,
    "scrolled": false,
    "source_hash": "a3247532",
    "tags": []
   },
   "outputs": [
    {
     "data": {
      "image/svg+xml": "<?xml version=\"1.0\" encoding=\"UTF-8\" standalone=\"no\"?>\n<!DOCTYPE svg PUBLIC \"-//W3C//DTD SVG 1.1//EN\"\n \"http://www.w3.org/Graphics/SVG/1.1/DTD/svg11.dtd\">\n<!-- Generated by graphviz version 2.40.1 (20161225.0304)\n -->\n<!-- Title: %3 Pages: 1 -->\n<svg width=\"186pt\" height=\"131pt\"\n viewBox=\"0.00 0.00 185.94 131.00\" xmlns=\"http://www.w3.org/2000/svg\" xmlns:xlink=\"http://www.w3.org/1999/xlink\">\n<g id=\"graph0\" class=\"graph\" transform=\"scale(1 1) rotate(0) translate(4 127)\">\n<title>%3</title>\n<polygon fill=\"#ffffff\" stroke=\"transparent\" points=\"-4,4 -4,-127 181.9429,-127 181.9429,4 -4,4\"/>\n<!-- 0 -->\n<g id=\"node1\" class=\"node\">\n<title>0</title>\n<ellipse fill=\"#d3d3d3\" stroke=\"#000000\" cx=\"42.8962\" cy=\"-18\" rx=\"42.7926\" ry=\"18\"/>\n<text text-anchor=\"middle\" x=\"42.8962\" y=\"-14.3\" font-family=\"Times,serif\" font-size=\"14.00\" fill=\"#000000\">0.0258</text>\n</g>\n<!-- 1 -->\n<g id=\"node2\" class=\"node\">\n<title>1</title>\n<ellipse fill=\"#d3d3d3\" stroke=\"#000000\" cx=\"140.8962\" cy=\"-18\" rx=\"37.0935\" ry=\"18\"/>\n<text text-anchor=\"middle\" x=\"140.8962\" y=\"-14.3\" font-family=\"Times,serif\" font-size=\"14.00\" fill=\"#000000\">1.027</text>\n</g>\n<!-- 2 -->\n<g id=\"node3\" class=\"node\">\n<title>2</title>\n<path fill=\"#ffff00\" stroke=\"#000000\" d=\"M131.8962,-123C131.8962,-123 51.8962,-123 51.8962,-123 45.8962,-123 39.8962,-117 39.8962,-111 39.8962,-111 39.8962,-99 39.8962,-99 39.8962,-93 45.8962,-87 51.8962,-87 51.8962,-87 131.8962,-87 131.8962,-87 137.8962,-87 143.8962,-93 143.8962,-99 143.8962,-99 143.8962,-111 143.8962,-111 143.8962,-117 137.8962,-123 131.8962,-123\"/>\n<text text-anchor=\"middle\" x=\"91.8962\" y=\"-101.3\" font-family=\"Times,serif\" font-size=\"14.00\" fill=\"#000000\">F0 &gt; 1.019?</text>\n</g>\n<!-- 2&#45;&gt;0 -->\n<g id=\"edge1\" class=\"edge\">\n<title>2&#45;&gt;0</title>\n<path fill=\"none\" stroke=\"#000000\" d=\"M81.7434,-86.9735C74.865,-74.7609 65.6572,-58.4123 57.9324,-44.697\"/>\n<polygon fill=\"#000000\" stroke=\"#000000\" points=\"60.8254,-42.7012 52.8684,-35.7057 54.7262,-46.1364 60.8254,-42.7012\"/>\n<text text-anchor=\"middle\" x=\"89.8962\" y=\"-57.8\" font-family=\"Times,serif\" font-size=\"14.00\" fill=\"#000000\">False</text>\n</g>\n<!-- 2&#45;&gt;1 -->\n<g id=\"edge2\" class=\"edge\">\n<title>2&#45;&gt;1</title>\n<path fill=\"none\" stroke=\"#000000\" d=\"M102.6718,-86.7389C105.9826,-81.0718 109.617,-74.7931 112.8962,-69 117.4023,-61.0393 122.2244,-52.3285 126.5749,-44.3946\"/>\n<polygon fill=\"#000000\" stroke=\"#000000\" points=\"129.6953,-45.983 131.4182,-35.5292 123.5523,-42.6269 129.6953,-45.983\"/>\n<text text-anchor=\"middle\" x=\"136.8962\" y=\"-57.8\" font-family=\"Times,serif\" font-size=\"14.00\" fill=\"#000000\">True</text>\n</g>\n</g>\n</svg>\n",
      "text/plain": [
       "<graphviz.graphs.Digraph at 0x7f01f9ad59d0>"
      ]
     },
     "execution_count": 14,
     "metadata": {},
     "output_type": "execute_result"
    }
   ],
   "source": [
    "# set values for hyperparameters to be used in model\n",
    "threshold = 0.2\n",
    "criterion = 'var_red'\n",
    "max_depth = 10\n",
    "\n",
    "reg1 = TreeRegression(max_depth, criterion, threshold) #create object from class\n",
    "reg1.fit(Xdummy, Ydummy) # train the model with the dummy data\n",
    "reg1.draw_tree() # draw the tree"
   ]
  },
  {
   "cell_type": "markdown",
   "metadata": {
    "cell_id": "00021-875ea06f-7752-4f67-8ded-1317f68449e2",
    "deepnote_cell_type": "markdown",
    "deepnote_output_heights": [
     611
    ],
    "deepnote_to_be_reexecuted": false,
    "execution_millis": 1540,
    "execution_start": 1642678416319,
    "source_hash": "d885e49d",
    "tags": []
   },
   "source": [
    "#### Step 3. Predicting apartment prices using decision tree regression\n",
    "\n",
    "Train and evaluate a decision tree regression model for the Russian apartment price prediction example.\n",
    "\n",
    "For the report. In your submitted report, please describe what tree depth you used and the evaluation score you got on the test set."
   ]
  },
  {
   "cell_type": "code",
   "execution_count": null,
   "metadata": {
    "cell_id": "00022-accf4948-c774-4556-81f9-dda1e8d8d552",
    "deepnote_cell_type": "code",
    "deepnote_to_be_reexecuted": false,
    "execution_millis": 1187,
    "execution_start": 1642961933961,
    "source_hash": "a486fc15",
    "tags": []
   },
   "outputs": [],
   "source": [
    "# Read the CSV file using Pandas.\n",
    "alldata = pd.read_csv('sberbank.csv')\n",
    "\n",
    "# Convert the timestamp string to an integer representing the year.\n",
    "def get_year(timestamp):\n",
    "    return int(timestamp[:4])\n",
    "alldata['year'] = alldata.timestamp.apply(get_year)\n",
    "\n",
    "# Select the 9 input columns and the output column.\n",
    "selected_columns = ['price_doc', 'year', 'full_sq', 'life_sq', 'floor', 'num_room', 'kitch_sq', 'full_all']\n",
    "alldata = alldata[selected_columns]\n",
    "alldata = alldata.dropna()\n",
    "\n",
    "# Shuffle.\n",
    "alldata_shuffled = alldata.sample(frac=1.0, random_state=0)\n",
    "\n",
    "# Separate the input and output columns.\n",
    "X = alldata_shuffled.drop('price_doc', axis=1)\n",
    "# For the output, we'll use the log of the sales price.\n",
    "Y = alldata_shuffled['price_doc'].apply(np.log)\n",
    "\n",
    "# Split into training and test sets.\n",
    "Xtrain, Xtest, Ytrain, Ytest = train_test_split(X, Y, test_size=0.2, random_state=0)"
   ]
  },
  {
   "cell_type": "code",
   "execution_count": null,
   "metadata": {
    "cell_id": "00023-2faa6bd8-d745-4bab-9c0a-4d4efec0d9e1",
    "deepnote_cell_type": "code",
    "deepnote_to_be_reexecuted": false,
    "execution_millis": 9,
    "execution_start": 1642961935159,
    "source_hash": "5f048051"
   },
   "outputs": [],
   "source": [
    "#alldata_shuffled.head(3)\n",
    "#Xtrain.info()"
   ]
  },
  {
   "cell_type": "code",
   "execution_count": null,
   "metadata": {
    "cell_id": "f4e6cdbd-0187-422a-b7a1-f37cf5eb083f",
    "deepnote_cell_type": "code",
    "deepnote_to_be_reexecuted": false,
    "execution_millis": 741171,
    "execution_start": 1642961935184,
    "source_hash": "1e21869",
    "tags": []
   },
   "outputs": [],
   "source": [
    "def best_model_depth(min_d, max_d, Xtrain, Ytrain, Xtest, Ytest):\n",
    "    \"\"\"\n",
    "    Tests different depth of tree and returns model, \n",
    "    along with accuracy scores for test and train for all depths\n",
    "    \"\"\"\n",
    "    # empty lists to store accuracy score for train and test\n",
    "    scores_train = [] \n",
    "    scores_test = []\n",
    "    \n",
    "    #test depth between 1-10 (inclusive)\n",
    "    for i in range(min_d, max_d): \n",
    "        model = TreeRegression(max_depth=i, criterion='var_red', threshold=0.2) #create object from class\n",
    "        model.fit(Xtrain, Ytrain) #train (fit) the model with training data\n",
    "\n",
    "        # cross_validate with n folds and get MSE (mean square error) from all folds\n",
    "        train_nmse = cross_validate(model, Xtrain, Ytrain, scoring='neg_mean_squared_error')\n",
    "        train_mse = -train_nmse['test_score'].mean()\n",
    "\n",
    "        # check MSE for test set\n",
    "        test_mse = mean_squared_error(Ytest, model.predict(Xtest))\n",
    "\n",
    "        scores_train.append(train_mse)\n",
    "        scores_test.append(test_mse)\n",
    "    \n",
    "    return scores_train, scores_test\n",
    "\n",
    "# set min and max tree depth\n",
    "min_d = 1 #min tree depth\n",
    "max_d = 21 #max tree depth\n",
    "\n",
    "train_mse, test_mse = best_model_depth(min_d, max_d, Xtrain, Ytrain, Xtest, Ytest)"
   ]
  },
  {
   "cell_type": "code",
   "execution_count": null,
   "metadata": {
    "cell_id": "705009e7-b6ac-4b46-ac72-f16bf9601745",
    "deepnote_cell_type": "code",
    "deepnote_to_be_reexecuted": false,
    "execution_millis": 0,
    "execution_start": 1642962676355,
    "source_hash": "4d47d5d3",
    "tags": []
   },
   "outputs": [
    {
     "name": "stdout",
     "output_type": "stream",
     "text": [
      "---\n",
      "Best MSE for Test data was 0.2875546387838707 with a max depth of 6\n"
     ]
    }
   ],
   "source": [
    "best_mse = min(test_mse)\n",
    "best_depth = test_mse.index(min(test_mse))+1\n",
    "\n",
    "# print result\n",
    "#print(\"Train MSE:\\n\",train_mse)\n",
    "#print(\"Test MSE:\\n\",test_mse)\n",
    "print(\"---\\nBest MSE for Test data was\",best_mse,\"with a max depth of\",best_depth)"
   ]
  },
  {
   "cell_type": "code",
   "execution_count": null,
   "metadata": {
    "cell_id": "3e3458b1-31c3-47c7-9158-5d7f65563787",
    "deepnote_cell_type": "code",
    "deepnote_output_heights": [
     435,
     393
    ],
    "deepnote_to_be_reexecuted": false,
    "execution_millis": 6,
    "execution_start": 1642962676356,
    "source_hash": "9aadabb8",
    "tags": []
   },
   "outputs": [],
   "source": [
    "def plot_train_test_accuracy(min_range, max_range, train_scores, test_scores):\n",
    "    plt.figure(figsize=(10,6))\n",
    "    plt.plot(range(min_range,max_range), train_scores, label = \"Train\", color='green')\n",
    "    plt.plot(range(min_range,max_range), test_scores, label = \"Test\", color='blue')\n",
    "    plt.title(\"Train vs. Test MSE by Tree Depth\")\n",
    "    plt.xlabel(\"Tree Depth\")\n",
    "    plt.ylabel(\"MSE\")\n",
    "    plt.legend()\n",
    "    plt.xticks(range(min_range,max_range,1))\n",
    "    plt.grid()\n",
    "    plt.show()"
   ]
  },
  {
   "cell_type": "code",
   "execution_count": null,
   "metadata": {
    "cell_id": "13a2dcb4-ad79-4aaf-8996-dcdbc0fcf986",
    "deepnote_cell_type": "code",
    "deepnote_output_heights": [
     389
    ],
    "deepnote_to_be_reexecuted": false,
    "execution_millis": 324,
    "execution_start": 1642962676357,
    "source_hash": "bf06f751",
    "tags": []
   },
   "outputs": [
    {
     "data": {
      "image/png": "[encoded data removed]",
      "text/plain": [
       "<Figure size 720x432 with 1 Axes>"
      ]
     },
     "metadata": {
      "image/png": {
       "height": 387,
       "width": 615
      },
      "needs_background": "light"
     },
     "output_type": "display_data"
    }
   ],
   "source": [
    "plot_train_test_accuracy(min_d, max_d, train_mse, test_mse)"
   ]
  },
  {
   "cell_type": "markdown",
   "metadata": {
    "cell_id": "7687ff6f-909e-41d6-a95b-3b5adb9167c3",
    "deepnote_cell_type": "markdown",
    "tags": []
   },
   "source": [
    "##### Comments:\n",
    "\n",
    "Here we evaluated the max tree depth bewtween 1 and 20 to understand the behaviours. The final selected depth we'd use is 6 based on the result from the mean square error score generated from the test data and visualized in the graph (by the blue line) above. The green line represents the mean MSE score from a 5-fold cross validation on the training data."
   ]
  },
  {
   "cell_type": "markdown",
   "metadata": {
    "cell_id": "00029-e34687cd-dfe8-4dcf-ac4a-ed350b7a2c37",
    "deepnote_cell_type": "markdown",
    "tags": []
   },
   "source": [
    "#### Step 4. Underfitting and overfitting\n",
    "\n",
    "For the apartment price prediction task, draw a plot that shows the evaluation score on the training set and on the test set for different values of max_depth, ranging from 0 to 12. (It's probably easiest if you implement a function to draw this plot, but it's also OK if you draw the plot by hand.)\n",
    "\n",
    "Clarification. When computing the evaluation scores for the training set, do not use cross-validation this time! We are investigating overfitting now.\n",
    "\n",
    "For the report. Please include this plot in the report, and comment on the differences between the two curves."
   ]
  },
  {
   "cell_type": "code",
   "execution_count": null,
   "metadata": {
    "cell_id": "00030-83449ab0-83e8-4616-8410-fbfc2ac0f3a4",
    "deepnote_cell_type": "code",
    "deepnote_output_heights": [
     139
    ],
    "deepnote_to_be_reexecuted": false,
    "execution_millis": 70232,
    "execution_start": 1642962676694,
    "source_hash": "1990c803",
    "tags": []
   },
   "outputs": [],
   "source": [
    "def best_model_depth(min_d, max_d, Xtrain, Ytrain, Xtest, Ytest):\n",
    "    \"\"\"\n",
    "    Tests different depth of tree and returns model, \n",
    "    along with accuracy scores for test and train for all depths\n",
    "    \"\"\"\n",
    "    # empty lists to store accuracy score for train and test\n",
    "    scores_train = [] \n",
    "    scores_test = []\n",
    "    \n",
    "    #test depth\n",
    "    for i in range(min_d, max_d): \n",
    "        model = TreeRegression(max_depth=i, criterion='var_red', threshold=0.2) #create object from class\n",
    "        model.fit(Xtrain, Ytrain) #train (fit) the model with training data\n",
    "\n",
    "        # get MSE for models on train and test\n",
    "        train_mse = mean_squared_error(Ytrain, model.predict(Xtrain))\n",
    "        test_mse = mean_squared_error(Ytest, model.predict(Xtest))\n",
    "\n",
    "        scores_train.append(train_mse)\n",
    "        scores_test.append(test_mse)\n",
    "    \n",
    "    return scores_train, scores_test\n",
    "\n",
    "# set min and max tree depth\n",
    "min_d2 = 1 #min tree depth\n",
    "max_d2 = 13 #max tree depth\n",
    "\n",
    "train_mse2, test_mse2 = best_model_depth(min_d2, max_d2, Xtrain, Ytrain, Xtest, Ytest)"
   ]
  },
  {
   "cell_type": "code",
   "execution_count": null,
   "metadata": {
    "cell_id": "307367ff-458f-4b49-9677-0b8919906288",
    "deepnote_cell_type": "code",
    "deepnote_to_be_reexecuted": false,
    "execution_millis": 45,
    "execution_start": 1642962746935,
    "source_hash": "611dbcfa",
    "tags": []
   },
   "outputs": [
    {
     "name": "stdout",
     "output_type": "stream",
     "text": [
      "---\n",
      "Best MSE for Test data was 0.2875546387838707 with a max depth of 6\n"
     ]
    }
   ],
   "source": [
    "best_mse2 = min(test_mse2)\n",
    "best_depth2 = test_mse2.index(min(test_mse2))+1\n",
    "\n",
    "# print result\n",
    "#print(\"Train MSE:\\n\",train_mse2)\n",
    "#print(\"Test MSE:\\n\",test_mse2)\n",
    "print(\"---\\nBest MSE for Test data was\",best_mse2,\"with a max depth of\",best_depth2)"
   ]
  },
  {
   "cell_type": "code",
   "execution_count": null,
   "metadata": {
    "cell_id": "00031-7628aee7-e836-4bcb-8b56-227e80e31543",
    "deepnote_cell_type": "code",
    "deepnote_output_heights": [
     389
    ],
    "deepnote_to_be_reexecuted": false,
    "execution_millis": 231,
    "execution_start": 1642962746979,
    "source_hash": "9c23031c",
    "tags": []
   },
   "outputs": [
    {
     "data": {
      "image/png": "[encoded data removed]",
      "text/plain": [
       "<Figure size 720x432 with 1 Axes>"
      ]
     },
     "metadata": {
      "image/png": {
       "height": 387,
       "width": 615
      },
      "needs_background": "light"
     },
     "output_type": "display_data"
    },
    {
     "name": "stdout",
     "output_type": "stream",
     "text": [
      "---\n",
      "Best MSE for Test data was 0.2875546387838707 with a max depth of 6\n"
     ]
    }
   ],
   "source": [
    "plot_train_test_accuracy(min_d2, max_d2, train_mse2, test_mse2)\n",
    "print(\"---\\nBest MSE for Test data was\",best_mse2,\"with a max depth of\",best_depth2)"
   ]
  },
  {
   "cell_type": "markdown",
   "metadata": {
    "cell_id": "e5ceab7f-9e30-4e5c-b364-d802434718b2",
    "deepnote_cell_type": "markdown",
    "tags": []
   },
   "source": [
    "##### Comments:\n",
    "As seen in the above chart the blue line represent the mean squared error for the test data while the green line represents the training data. The x-axis shows the max tree depth tested. \n",
    "\n",
    "Ideally we'd like to have a minimum value for our evaluation score (minimum mean square error). As seen in the graph for the test data we found that score at a max depth of 6. However, the green line continues to decrease as the max depth of the tree increases while the blue line does the opposite.  The behaviour of the green line can be explained by that the models starts to memorize the training data and start to overfit when the maximum depth of the tree growns larger. "
   ]
  },
  {
   "cell_type": "code",
   "execution_count": null,
   "metadata": {
    "cell_id": "00033-ee8a84f8-a5b9-4c41-8766-053e6b11e7ad",
    "deepnote_cell_type": "code",
    "deepnote_to_be_reexecuted": false,
    "execution_millis": 249583327,
    "execution_start": 1642962747211,
    "source_hash": "b623e53d"
   },
   "outputs": [],
   "source": []
  }
 ],
 "metadata": {
  "deepnote": {
   "is_reactive": false
  },
  "deepnote_execution_queue": [],
  "deepnote_notebook_id": "3a940fec-c07e-45a7-8a02-281226bd0877",
  "kernelspec": {
   "display_name": "Python 3 (ipykernel)",
   "language": "python",
   "name": "python3"
  },
  "language_info": {
   "codemirror_mode": {
    "name": "ipython",
    "version": 3
   },
   "file_extension": ".py",
   "mimetype": "text/x-python",
   "name": "python",
   "nbconvert_exporter": "python",
   "pygments_lexer": "ipython3",
   "version": "3.9.7"
  }
 },
 "nbformat": 4,
 "nbformat_minor": 2
}
