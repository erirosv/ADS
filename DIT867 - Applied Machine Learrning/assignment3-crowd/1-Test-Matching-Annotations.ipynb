{
 "cells": [
  {
   "cell_type": "code",
   "execution_count": null,
   "metadata": {
    "cell_id": "4eec414d-2669-46ed-afae-669dd1ecc29a",
    "deepnote_cell_height": 153,
    "deepnote_cell_type": "code",
    "deepnote_to_be_reexecuted": false,
    "execution_millis": 0,
    "execution_start": 1645125555066,
    "source_hash": "b7a56309",
    "tags": []
   },
   "outputs": [],
   "source": [
    "import pandas as pd\n",
    "import numpy as np\n",
    "from collections import Counter\n",
    "\n"
   ]
  },
  {
   "cell_type": "code",
   "execution_count": null,
   "metadata": {
    "cell_id": "cd389dad-db40-4585-a710-925252de79b1",
    "deepnote_cell_height": 81,
    "deepnote_cell_type": "code",
    "deepnote_to_be_reexecuted": false,
    "execution_millis": 70,
    "execution_start": 1645125555068,
    "source_hash": "50d58ce7",
    "tags": []
   },
   "outputs": [],
   "source": [
    "df = pd.read_csv('a3_train_final.tsv', sep='\\t', names=['Y','Comment'])"
   ]
  },
  {
   "cell_type": "code",
   "execution_count": null,
   "metadata": {
    "cell_id": "1347bfc7-0e6b-4d40-ae62-4c9f23e14832",
    "deepnote_cell_height": 153,
    "deepnote_cell_type": "code",
    "deepnote_to_be_reexecuted": false,
    "execution_millis": 55,
    "execution_start": 1645125555153,
    "source_hash": "525e6b6b",
    "tags": []
   },
   "outputs": [],
   "source": [
    "# Remove unwanted characters, numbers and symbols\n",
    "#df['Cleaned'] = df['Y'].str.replace(\"[^a-zA-Z#]\", ' ', regex=True)\n",
    "df['test'] = df['Y'].str.replace('-','')\n",
    "df['test'] = df['test'].str.replace('/','')\n",
    "df['str'] = df['test'].str.len() # Amount of characters of full review incl. space"
   ]
  },
  {
   "cell_type": "code",
   "execution_count": null,
   "metadata": {
    "cell_id": "1f6752d7-b05d-403d-a0b6-367be37ae02b",
    "deepnote_cell_height": 301,
    "deepnote_cell_type": "code",
    "deepnote_output_heights": [
     148
    ],
    "deepnote_to_be_reexecuted": false,
    "execution_millis": 2,
    "execution_start": 1645125555259,
    "source_hash": "3a19cd9f",
    "tags": []
   },
   "outputs": [
    {
     "data": {
      "application/vnd.deepnote.dataframe.v3+json": {
       "column_count": 4,
       "columns": [
        {
         "dtype": "object",
         "name": "Y",
         "stats": {
          "categories": [
           {
            "count": 2,
            "name": "0/-1"
           },
           {
            "count": 1,
            "name": "0/0"
           },
           {
            "count": 1,
            "name": "1/1/1/-1"
           }
          ],
          "nan_count": 0,
          "unique_count": 3
         }
        },
        {
         "dtype": "object",
         "name": "Comment",
         "stats": {
          "categories": [
           {
            "count": 1,
            "name": " It is easier to fool a million people than it is to convince a million people that they have been fooled. - Mark Twain"
           },
           {
            "count": 1,
            "name": " NATURAL IMMUNITY  protected us since evolution. Do not exist anymore?"
           },
           {
            "count": 2,
            "name": "2 others"
           }
          ],
          "nan_count": 0,
          "unique_count": 4
         }
        },
        {
         "dtype": "object",
         "name": "test",
         "stats": {
          "categories": [
           {
            "count": 2,
            "name": "01"
           },
           {
            "count": 1,
            "name": "00"
           },
           {
            "count": 1,
            "name": "1111"
           }
          ],
          "nan_count": 0,
          "unique_count": 3
         }
        },
        {
         "dtype": "int64",
         "name": "str",
         "stats": {
          "histogram": [
           {
            "bin_end": 2.2,
            "bin_start": 2,
            "count": 3
           },
           {
            "bin_end": 2.4,
            "bin_start": 2.2,
            "count": 0
           },
           {
            "bin_end": 2.6,
            "bin_start": 2.4,
            "count": 0
           },
           {
            "bin_end": 2.8,
            "bin_start": 2.6,
            "count": 0
           },
           {
            "bin_end": 3,
            "bin_start": 2.8,
            "count": 0
           },
           {
            "bin_end": 3.2,
            "bin_start": 3,
            "count": 0
           },
           {
            "bin_end": 3.4000000000000004,
            "bin_start": 3.2,
            "count": 0
           },
           {
            "bin_end": 3.6,
            "bin_start": 3.4000000000000004,
            "count": 0
           },
           {
            "bin_end": 3.8,
            "bin_start": 3.6,
            "count": 0
           },
           {
            "bin_end": 4,
            "bin_start": 3.8,
            "count": 1
           }
          ],
          "max": "4",
          "min": "2",
          "nan_count": 0,
          "unique_count": 2
         }
        },
        {
         "dtype": "int64",
         "name": "_deepnote_index_column"
        }
       ],
       "row_count": 4,
       "rows": [
        {
         "Comment": " It is easier to fool a million people than it is to convince a million people that they have been …",
         "Y": "0/-1",
         "_deepnote_index_column": 0,
         "str": 2,
         "test": "01"
        },
        {
         "Comment": " NATURAL IMMUNITY  protected us since evolution. Do not exist anymore?",
         "Y": "0/0",
         "_deepnote_index_column": 1,
         "str": 2,
         "test": "00"
        },
        {
         "Comment": " NATURAL IMMUNITY  protected us since evolution. Do not exist anymore? ? ? No one talks about it, W…",
         "Y": "0/-1",
         "_deepnote_index_column": 2,
         "str": 2,
         "test": "01"
        },
        {
         "Comment": " The bigest sideffect of vaccines is fewer dead children  That is savage",
         "Y": "1/1/1/-1",
         "_deepnote_index_column": 3,
         "str": 4,
         "test": "1111"
        }
       ]
      },
      "text/html": [
       "<div>\n",
       "<style scoped>\n",
       "    .dataframe tbody tr th:only-of-type {\n",
       "        vertical-align: middle;\n",
       "    }\n",
       "\n",
       "    .dataframe tbody tr th {\n",
       "        vertical-align: top;\n",
       "    }\n",
       "\n",
       "    .dataframe thead th {\n",
       "        text-align: right;\n",
       "    }\n",
       "</style>\n",
       "<table border=\"1\" class=\"dataframe\">\n",
       "  <thead>\n",
       "    <tr style=\"text-align: right;\">\n",
       "      <th></th>\n",
       "      <th>Y</th>\n",
       "      <th>Comment</th>\n",
       "      <th>test</th>\n",
       "      <th>str</th>\n",
       "    </tr>\n",
       "  </thead>\n",
       "  <tbody>\n",
       "    <tr>\n",
       "      <th>0</th>\n",
       "      <td>0/-1</td>\n",
       "      <td>It is easier to fool a million people than it...</td>\n",
       "      <td>01</td>\n",
       "      <td>2</td>\n",
       "    </tr>\n",
       "    <tr>\n",
       "      <th>1</th>\n",
       "      <td>0/0</td>\n",
       "      <td>NATURAL IMMUNITY  protected us since evolutio...</td>\n",
       "      <td>00</td>\n",
       "      <td>2</td>\n",
       "    </tr>\n",
       "    <tr>\n",
       "      <th>2</th>\n",
       "      <td>0/-1</td>\n",
       "      <td>NATURAL IMMUNITY  protected us since evolutio...</td>\n",
       "      <td>01</td>\n",
       "      <td>2</td>\n",
       "    </tr>\n",
       "    <tr>\n",
       "      <th>3</th>\n",
       "      <td>1/1/1/-1</td>\n",
       "      <td>The bigest sideffect of vaccines is fewer dea...</td>\n",
       "      <td>1111</td>\n",
       "      <td>4</td>\n",
       "    </tr>\n",
       "  </tbody>\n",
       "</table>\n",
       "</div>"
      ],
      "text/plain": [
       "          Y                                            Comment  test  str\n",
       "0      0/-1   It is easier to fool a million people than it...    01    2\n",
       "1       0/0   NATURAL IMMUNITY  protected us since evolutio...    00    2\n",
       "2      0/-1   NATURAL IMMUNITY  protected us since evolutio...    01    2\n",
       "3  1/1/1/-1   The bigest sideffect of vaccines is fewer dea...  1111    4"
      ]
     },
     "execution_count": 19,
     "metadata": {},
     "output_type": "execute_result"
    }
   ],
   "source": [
    "df.head(4)"
   ]
  },
  {
   "cell_type": "code",
   "execution_count": null,
   "metadata": {
    "cell_id": "121aacb8-6e94-48ae-a4f8-342f099759f9",
    "deepnote_cell_height": 270,
    "deepnote_cell_type": "code",
    "deepnote_output_heights": [
     173
    ],
    "deepnote_to_be_reexecuted": false,
    "execution_millis": 6,
    "execution_start": 1645125555298,
    "source_hash": "e6585eba",
    "tags": []
   },
   "outputs": [
    {
     "data": {
      "text/plain": [
       "count    26197.000000\n",
       "mean         2.103142\n",
       "std          0.736805\n",
       "min          1.000000\n",
       "25%          2.000000\n",
       "50%          2.000000\n",
       "75%          2.000000\n",
       "max         23.000000\n",
       "Name: str, dtype: float64"
      ]
     },
     "execution_count": 20,
     "metadata": {},
     "output_type": "execute_result"
    }
   ],
   "source": [
    "df['str'].describe()"
   ]
  },
  {
   "cell_type": "code",
   "execution_count": null,
   "metadata": {
    "cell_id": "6e4986bb-8f98-4af1-864f-76d97eea546c",
    "deepnote_cell_height": 826,
    "deepnote_cell_type": "code",
    "deepnote_output_heights": [
     null,
     611
    ],
    "deepnote_to_be_reexecuted": false,
    "execution_millis": 12,
    "execution_start": 1645125555299,
    "source_hash": "f7a85018",
    "tags": []
   },
   "outputs": [
    {
     "name": "stdout",
     "output_type": "stream",
     "text": [
      "26197\n"
     ]
    },
    {
     "data": {
      "text/plain": [
       "Counter({'0/-1': 1278,\n",
       "         '0/0': 9752,\n",
       "         '1/1/1/-1': 12,\n",
       "         '1/-1': 1093,\n",
       "         '1/1': 10171,\n",
       "         '1/0/-1/0': 2,\n",
       "         '0/1': 550,\n",
       "         '1/0/0': 7,\n",
       "         '1/0': 711,\n",
       "         '1/1/1/1': 281,\n",
       "         '0/0/0': 265,\n",
       "         '1': 466,\n",
       "         '0': 488,\n",
       "         '0/0/0/0/0/0/0/1/0/0': 1,\n",
       "         '1/1/0/1': 8,\n",
       "         '1/-1/-1': 7,\n",
       "         '1/0/-1': 4,\n",
       "         '1/1/1': 258,\n",
       "         '0/0/0/0': 284,\n",
       "         '0/1/0': 21,\n",
       "         '0/0/0/0/0': 73,\n",
       "         '0/0/0/0/0/0/0/0/0': 18,\n",
       "         '0/0/0/0/0/0': 38,\n",
       "         '1/1/-1': 15,\n",
       "         '1/0/1': 13,\n",
       "         '0/-1/-1': 8,\n",
       "         '1/1/0/1/0/-1/-1': 1,\n",
       "         '1/1/1/1/1/1': 39,\n",
       "         '0/0/0/0/0/0/0': 21,\n",
       "         '1/1/-1/1': 5,\n",
       "         '1/1/1/1/1': 41,\n",
       "         '0/0/-1/0': 10,\n",
       "         '0/0/1': 4,\n",
       "         '0/0/-1': 21,\n",
       "         '1/1/0': 10,\n",
       "         '1/1/0/-1': 2,\n",
       "         '0/0/0/0/1/0/0': 1,\n",
       "         '0/0/0/0/0/0/0/0': 14,\n",
       "         '0/0/1/0': 9,\n",
       "         '0/-1/0': 21,\n",
       "         '0/0/0/1': 6,\n",
       "         '0/0/0/-1': 14,\n",
       "         '1/-1/1': 18,\n",
       "         '0/0/0/0/0/0/0/0/0/0/0/0/0/0/0/0': 3,\n",
       "         '0/0/0/0/0/0/0/0/0/0/0/0/0': 6,\n",
       "         '0/1/0/1': 1,\n",
       "         '0/1/-1': 7,\n",
       "         '1/0/1/1/0/1/0/1/1/1/1/0/1': 1,\n",
       "         '1/0/0/0/1/0/0/0/0/0/1/0': 1,\n",
       "         '1/1/1/-1/1': 1,\n",
       "         '1/1/1/1/1/1/1': 13,\n",
       "         '1/1/1/1/1/1/1/1/1/1/1/1/1/1/1/1/1': 1,\n",
       "         '1/1/1/1/1/1/1/1/1/1': 4,\n",
       "         '1/1/1/1/1/1/1/1': 10,\n",
       "         '0/1/1': 10,\n",
       "         '0/0/0/0/0/0/0/0/0/0/0/0/0/0': 2,\n",
       "         '1/0/0/0': 1,\n",
       "         '0/1/1/0/0/1/1': 1,\n",
       "         '0/-1/1': 1,\n",
       "         '0/1/0/0': 5,\n",
       "         '0/0/0/0/0/0/0/0/0/0/0/0': 5,\n",
       "         '0/0/0/0/0/0/0/0/0/0/0/0/0/0/0/0/0/0/0/0/0/0/0': 1,\n",
       "         '0/0/0/-1/0/0': 2,\n",
       "         '1/1/1/1/1/0/1/1/1': 1,\n",
       "         '0/1/0/0/0': 1,\n",
       "         '0/1/-1/0': 1,\n",
       "         '0/0/0/0/0/0/0/0/0/0': 3,\n",
       "         '1/1/1/1/1/1/1/1/1/1/1/1/1/1/1': 1,\n",
       "         '0/0/0/0/-1/0': 1,\n",
       "         '0/0/0/0/0/0/-1': 1,\n",
       "         '1/0/1/1/0': 1,\n",
       "         '1/-1/0': 2,\n",
       "         '1/1/1/1/1/1/1/1/0': 1,\n",
       "         '0/0/0/0/0/0/0/0/0/0/0': 4,\n",
       "         '1/0/0/0/0/0/0/0/0/0/0': 1,\n",
       "         '1/1/-1/-1': 3,\n",
       "         '0/0/0/0/0/0/0/0/0/0/0/0/0/0/0/0/0': 1,\n",
       "         '0/0/0/0/-1': 4,\n",
       "         '1/0/1/1/1': 1,\n",
       "         '0/0/0/0/1/0': 2,\n",
       "         '1/1/1/1/1/1/1/0': 1,\n",
       "         '1/1/1/0/1': 2,\n",
       "         '1/0/0/-1': 1,\n",
       "         '1/1/1/1/1/1/1/1/1/1/1/1': 1,\n",
       "         '1/0/1/1': 3,\n",
       "         '1/0/0/1': 1,\n",
       "         '1/1/1/-1/1/1': 2,\n",
       "         '1/1/1/1/-1/0': 1,\n",
       "         '1/1/1/1/1/1/1/1/1': 1,\n",
       "         '1/1/1/1/1/0/1/1': 1,\n",
       "         '1/1/1/0/1/1/0/-1': 1,\n",
       "         '0/0/0/0/0/0/1/0/0/0': 1,\n",
       "         '0/0/0/1/0/0/0/0': 1,\n",
       "         '0/0/0/1/0/-1': 1,\n",
       "         '0/0/1/1': 1,\n",
       "         '0/0/0/0/0/0/0/0/0/0/0/0/0/0/0': 1,\n",
       "         '0/0/1/0/1': 1,\n",
       "         '0/1/1/1': 2,\n",
       "         '1/1/1/1/0/1/1/-1': 1,\n",
       "         '0/1/1/0': 2,\n",
       "         '0/0/1/1/-1': 1,\n",
       "         '1/1/1/1/1/1/0/1': 1,\n",
       "         '1/1/1/1/1/-1': 1,\n",
       "         '0/0/-1/-1': 1,\n",
       "         '1/0/1/1/1/1': 1})"
      ]
     },
     "execution_count": 21,
     "metadata": {},
     "output_type": "execute_result"
    }
   ],
   "source": [
    "print(len(df))\n",
    "\n",
    "Counter(df['Y'])\n",
    "\n",
    "#df[df['Y'] ==  '0/0/0/0/0/0/0/0/0']"
   ]
  },
  {
   "cell_type": "markdown",
   "metadata": {
    "cell_id": "7780c040-354d-4dc7-b339-13efb8f1dd00",
    "deepnote_cell_height": 120.1875,
    "deepnote_cell_type": "markdown",
    "tags": []
   },
   "source": [
    "- How much consensus is there between annotators of the dataset? Do you think the data is reliable?\n",
    "- How do you represent your data as features?\n",
    "- Did you process the features in any way?"
   ]
  },
  {
   "cell_type": "code",
   "execution_count": null,
   "metadata": {
    "cell_id": "fc69bc2f-ec29-49f2-b940-00fde545480c",
    "deepnote_cell_height": 774,
    "deepnote_cell_type": "code",
    "deepnote_to_be_reexecuted": false,
    "execution_millis": 4,
    "execution_start": 1645125555311,
    "source_hash": "39558177",
    "tags": []
   },
   "outputs": [
    {
     "ename": "SyntaxError",
     "evalue": "invalid syntax (<ipython-input-22-d27bbfcd0ae1>, line 25)",
     "output_type": "error",
     "traceback": [
      "\u001b[0;36m  File \u001b[0;32m\"<ipython-input-22-d27bbfcd0ae1>\"\u001b[0;36m, line \u001b[0;32m25\u001b[0m\n\u001b[0;31m    f a.   Y/N\u001b[0m\n\u001b[0m      ^\u001b[0m\n\u001b[0;31mSyntaxError\u001b[0m\u001b[0;31m:\u001b[0m invalid syntax\n"
     ]
    }
   ],
   "source": [
    "#Import train data\n",
    "df = pd.read_csv('a3_train_final.tsv', sep='\\t', names=['Y','Comment'])\n",
    "\n",
    "#Review documentation of anotations\n",
    "#Counter(df['Y'])\n",
    "\n",
    "## Assign the notations to either pro = '1' or anti = '0'\n",
    "## If there is not 2 anotations we will exclude these beacuse these has not been going thrpugh the same control as the rest\n",
    "## Additioanlly we will only mark in each ot the classes 1 or 0 if there are only anotations in one direction due to inconsistency of the reporting of anotations\n",
    "## If a comment has been anotated e.g ('0/1/0') that was the case 21 times we will label this as -1 \n",
    "proList = ['1/1','1/1/1/1','1/1/1','1/1/1/1/1','1/1/1/1/1/1','1/1/1/1/1/1/1/1/1']\n",
    "antiList = ['0/0','0/0/0','0/0/0/0','0/0/0/0/0','0/0/0/0/0/0/0/0/0','0/0/0/0/0/0','0/0/0/0/0/0/0','0/0/0/0/0/0/0/0','0/0/0/0/0/0/0/0/0/0/0/0/0/0/0/0','0/0/0/0/0/0/0/0/0/0/0/0/0', '0/0/0/0/0/0/0/0/0/0/0/0/0/0','0/0/0/0/0/0/0/0/0/0/0/0','0/0/0/0/0/0/0/0/0/0/0/0/0/0/0/0/0/0/0/0/0/0/0','0/0/0/0/0/0/0/0/0/0','0/0/0/0/0/0/0/0/0/0/0','0/0/0/0/0/0/0/0/0/0/0/0/0/0/0/0/0','0/0/0/0/0/0/0/0/0/0/0/0/0/0/0']\n",
    "\n",
    "df['Y'] = np.where((df.Y.isin(proList)), '1',\n",
    "          np.where((df.Y.isin(antiList)),'0' , '-1'))\n",
    "\n",
    "\n",
    "print(Counter(df['Y']))\n",
    "\n",
    "train = df[df['Y'] != '-1']\n",
    "train\n",
    "\n",
    "\n",
    "\n",
    "f a.   Y/N\n",
    "\n",
    "0 0.   samma\n",
    "1 1.   samma\n",
    "1 0     intes\n",
    "0 1.   intes\n",
    "-1 1.  intesamma\n",
    "\n",
    "11 000 intesamma \n",
    "\n",
    "\n"
   ]
  },
  {
   "cell_type": "code",
   "execution_count": null,
   "metadata": {
    "cell_id": "714ca9db-c9e1-430c-9899-6a5fcbe6b5cc",
    "deepnote_cell_height": 272,
    "deepnote_cell_type": "code",
    "deepnote_output_heights": [
     21
    ],
    "deepnote_to_be_reexecuted": true,
    "execution_millis": 5114,
    "execution_start": 1645125414858,
    "source_hash": "e4dd5e21",
    "tags": []
   },
   "outputs": [
    {
     "name": "stdout",
     "output_type": "stream",
     "text": [
      "Collecting krippendorff\n",
      "  Downloading krippendorff-0.5.1-py3-none-any.whl (17 kB)\n",
      "Requirement already satisfied: numpy in /shared-libs/python3.7/py/lib/python3.7/site-packages (from krippendorff) (1.19.5)\n",
      "Installing collected packages: krippendorff\n",
      "Successfully installed krippendorff-0.5.1\n",
      "\u001b[33mWARNING: You are using pip version 20.1.1; however, version 22.0.3 is available.\n",
      "You should consider upgrading via the '/usr/local/bin/python -m pip install --upgrade pip' command.\u001b[0m\n",
      "Note: you may need to restart the kernel to use updated packages.\n"
     ]
    }
   ],
   "source": [
    "pip install krippendorff #statsmodels"
   ]
  },
  {
   "cell_type": "code",
   "execution_count": null,
   "metadata": {
    "cell_id": "a60354e8-6016-42c1-baf9-c4e888bf1a0b",
    "deepnote_cell_height": 397,
    "deepnote_cell_type": "code",
    "deepnote_output_heights": [
     192
    ],
    "deepnote_to_be_reexecuted": true,
    "execution_millis": 2,
    "execution_start": 1645125443640,
    "source_hash": "73a93e35",
    "tags": []
   },
   "outputs": [],
   "source": [
    "import krippendorff\n",
    "\n",
    "arr = [[1, 1, 1, 1, 3, 0, 0, 1],\n",
    "       [1, 1, 1, 1, 3, 0, 0, 1],\n",
    "       [1, 1, 1, 1, 2, 0, 0, 1],\n",
    "       [1, 1, 0, 2, 3, 1, 0, 1]]    \n",
    "res = krippendorff.alpha(arr)"
   ]
  },
  {
   "cell_type": "code",
   "execution_count": null,
   "metadata": {
    "cell_id": "ce289345-f7a5-4262-8c3c-2c9d02015aa0",
    "deepnote_cell_height": 118,
    "deepnote_cell_type": "code",
    "deepnote_output_heights": [
     21
    ],
    "deepnote_to_be_reexecuted": true,
    "execution_millis": 4,
    "execution_start": 1645125446481,
    "source_hash": "e2ce9a6d",
    "tags": []
   },
   "outputs": [
    {
     "data": {
      "text/plain": [
       "0.8238636363636364"
      ]
     },
     "execution_count": 20,
     "metadata": {},
     "output_type": "execute_result"
    }
   ],
   "source": [
    "res"
   ]
  },
  {
   "cell_type": "markdown",
   "metadata": {
    "cell_id": "b44e0ec2-9d7f-4539-8d3e-9b7d8b16616d",
    "deepnote_cell_height": 73,
    "deepnote_cell_type": "markdown",
    "tags": []
   },
   "source": [
    "- How much consensus is there between annotators of the dataset? Do you think the data is reliable?\n",
    "\n"
   ]
  },
  {
   "cell_type": "code",
   "execution_count": null,
   "metadata": {
    "cell_id": "0c24d846-b425-45f5-bfa9-263761b7c895",
    "deepnote_cell_height": 174,
    "deepnote_cell_type": "code",
    "deepnote_to_be_reexecuted": true,
    "execution_millis": 6,
    "execution_start": 1645125541540,
    "source_hash": "6e30c5f7",
    "tags": []
   },
   "outputs": [],
   "source": [
    "import krippendorff\n",
    "\n",
    "arr = [[1, 1],\n",
    "       [0, 0],\n",
    "       [1, 0],\n",
    "       [1, 1]]    \n",
    "res = krippendorff.alpha(arr)"
   ]
  },
  {
   "cell_type": "code",
   "execution_count": null,
   "metadata": {
    "cell_id": "22ad0eb5-cbca-4689-961a-8d956642ca86",
    "deepnote_cell_height": 66,
    "deepnote_cell_type": "code",
    "deepnote_to_be_reexecuted": true,
    "source_hash": "b623e53d",
    "tags": []
   },
   "outputs": [],
   "source": []
  }
 ],
 "metadata": {
  "deepnote": {
   "is_reactive": true
  },
  "deepnote_execution_queue": [],
  "deepnote_notebook_id": "c25030e3-13b2-4795-93e1-17de636fc80e",
  "language_info": {
   "name": "python"
  },
  "orig_nbformat": 2
 },
 "nbformat": 4,
 "nbformat_minor": 2
}
