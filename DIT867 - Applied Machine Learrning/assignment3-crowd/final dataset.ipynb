{
 "cells": [
  {
   "cell_type": "code",
   "execution_count": null,
   "metadata": {
    "cell_id": "4fd8233e-d64c-4f74-931e-4cf71de642f3",
    "deepnote_cell_height": 189,
    "deepnote_cell_type": "code",
    "deepnote_to_be_reexecuted": false,
    "execution_millis": 1352,
    "execution_start": 1645024989864,
    "source_hash": "d715079b"
   },
   "outputs": [],
   "source": [
    "import pandas as pd\n",
    "\n",
    "from sklearn.svm import LinearSVC\n",
    "from sklearn.feature_extraction.text import TfidfVectorizer\n",
    "from sklearn.pipeline import make_pipeline\n",
    "from sklearn.model_selection import train_test_split\n",
    "from sklearn.metrics import accuracy_score"
   ]
  },
  {
   "cell_type": "code",
   "execution_count": null,
   "metadata": {
    "cell_id": "00001-fa6fa4a6-f387-4c78-af23-2aa48eda2e80",
    "deepnote_cell_height": 99,
    "deepnote_cell_type": "code",
    "deepnote_to_be_reexecuted": false,
    "execution_millis": 134,
    "execution_start": 1645025017489,
    "source_hash": "a70cf749"
   },
   "outputs": [],
   "source": [
    "test_data = pd.read_csv('a3_train_final.tsv', sep='\\t',  names=['Y', 'comment'])\n",
    "train_data = pd.read_csv('a3_test_final.tsv', sep='\\t',  names=['Y', 'comment'])"
   ]
  },
  {
   "cell_type": "code",
   "execution_count": null,
   "metadata": {
    "cell_id": "4148e497-57e4-4539-b9e5-ca3c4ea9a167",
    "deepnote_cell_height": 318,
    "deepnote_cell_type": "code",
    "tags": []
   },
   "outputs": [],
   "source": [
    "# SOFT - Assigns the final label of each comment based on the majority (mode)\n",
    "def soft_labelling(df):\n",
    "    \"\"\"\n",
    "    Split the multiple annotated labels into columns and select the most occuring label\n",
    "    Returns new dataframe with most common label\n",
    "    \"\"\"\n",
    "    split_labels = df['Y'].str.split('/', n=30, expand=True)\n",
    "    majority_label = split_labels.mode(axis=1).iloc[:,0]\n",
    "    maj_label_df = pd.DataFrame(majority_label).join(df['Comment']).rename(columns={0: 'Y'})\n",
    "    label_c = Counter(maj_label_df['Y'])\n",
    "    return maj_label_df, label_c\n",
    "\n",
    "train_soft, label_count_soft = soft_labelling(train)\n",
    "print(label_count_soft)\n",
    "train_soft.head(5)"
   ]
  },
  {
   "cell_type": "code",
   "execution_count": null,
   "metadata": {
    "cell_id": "00002-e03817ae-b5f3-4912-b595-6676c21beb8b",
    "deepnote_cell_height": 342,
    "deepnote_cell_type": "code",
    "deepnote_output_heights": [
     177
    ],
    "deepnote_to_be_reexecuted": false,
    "execution_millis": 76,
    "execution_start": 1645025018185,
    "source_hash": "4804c09d"
   },
   "outputs": [
    {
     "data": {
      "application/vnd.deepnote.dataframe.v3+json": {
       "column_count": 2,
       "columns": [
        {
         "dtype": "object",
         "name": "Y",
         "stats": {
          "categories": [
           {
            "count": 2,
            "name": "0/-1"
           },
           {
            "count": 1,
            "name": "0/0"
           },
           {
            "count": 2,
            "name": "2 others"
           }
          ],
          "nan_count": 0,
          "unique_count": 4
         }
        },
        {
         "dtype": "object",
         "name": "comment",
         "stats": {
          "categories": [
           {
            "count": 1,
            "name": " It is easier to fool a million people than it is to convince a million people that they have been fooled. - Mark Twain"
           },
           {
            "count": 1,
            "name": " NATURAL IMMUNITY  protected us since evolution. Do not exist anymore?"
           },
           {
            "count": 3,
            "name": "3 others"
           }
          ],
          "nan_count": 0,
          "unique_count": 5
         }
        },
        {
         "dtype": "int64",
         "name": "_deepnote_index_column"
        }
       ],
       "row_count": 5,
       "rows": [
        {
         "Y": "0/-1",
         "_deepnote_index_column": 0,
         "comment": " It is easier to fool a million people than it is to convince a million people that they have been …"
        },
        {
         "Y": "0/0",
         "_deepnote_index_column": 1,
         "comment": " NATURAL IMMUNITY  protected us since evolution. Do not exist anymore?"
        },
        {
         "Y": "0/-1",
         "_deepnote_index_column": 2,
         "comment": " NATURAL IMMUNITY  protected us since evolution. Do not exist anymore? ? ? No one talks about it, W…"
        },
        {
         "Y": "1/1/1/-1",
         "_deepnote_index_column": 3,
         "comment": " The bigest sideffect of vaccines is fewer dead children  That is savage"
        },
        {
         "Y": "1/-1",
         "_deepnote_index_column": 4,
         "comment": " Unvaccinated people are more likely to become infected, develop severe COVID-19, and die. In fact,…"
        }
       ]
      },
      "text/html": [
       "<div>\n",
       "<style scoped>\n",
       "    .dataframe tbody tr th:only-of-type {\n",
       "        vertical-align: middle;\n",
       "    }\n",
       "\n",
       "    .dataframe tbody tr th {\n",
       "        vertical-align: top;\n",
       "    }\n",
       "\n",
       "    .dataframe thead th {\n",
       "        text-align: right;\n",
       "    }\n",
       "</style>\n",
       "<table border=\"1\" class=\"dataframe\">\n",
       "  <thead>\n",
       "    <tr style=\"text-align: right;\">\n",
       "      <th></th>\n",
       "      <th>Y</th>\n",
       "      <th>comment</th>\n",
       "    </tr>\n",
       "  </thead>\n",
       "  <tbody>\n",
       "    <tr>\n",
       "      <th>0</th>\n",
       "      <td>0/-1</td>\n",
       "      <td>It is easier to fool a million people than it...</td>\n",
       "    </tr>\n",
       "    <tr>\n",
       "      <th>1</th>\n",
       "      <td>0/0</td>\n",
       "      <td>NATURAL IMMUNITY  protected us since evolutio...</td>\n",
       "    </tr>\n",
       "    <tr>\n",
       "      <th>2</th>\n",
       "      <td>0/-1</td>\n",
       "      <td>NATURAL IMMUNITY  protected us since evolutio...</td>\n",
       "    </tr>\n",
       "    <tr>\n",
       "      <th>3</th>\n",
       "      <td>1/1/1/-1</td>\n",
       "      <td>The bigest sideffect of vaccines is fewer dea...</td>\n",
       "    </tr>\n",
       "    <tr>\n",
       "      <th>4</th>\n",
       "      <td>1/-1</td>\n",
       "      <td>Unvaccinated people are more likely to become...</td>\n",
       "    </tr>\n",
       "  </tbody>\n",
       "</table>\n",
       "</div>"
      ],
      "text/plain": [
       "          Y                                            comment\n",
       "0      0/-1   It is easier to fool a million people than it...\n",
       "1       0/0   NATURAL IMMUNITY  protected us since evolutio...\n",
       "2      0/-1   NATURAL IMMUNITY  protected us since evolutio...\n",
       "3  1/1/1/-1   The bigest sideffect of vaccines is fewer dea...\n",
       "4      1/-1   Unvaccinated people are more likely to become..."
      ]
     },
     "execution_count": 5,
     "metadata": {},
     "output_type": "execute_result"
    }
   ],
   "source": [
    "test_data.head(5)"
   ]
  },
  {
   "cell_type": "code",
   "execution_count": null,
   "metadata": {
    "cell_id": "00003-ba69d8f7-fd74-4b65-a3f7-a08e18515b19",
    "deepnote_cell_height": 266,
    "deepnote_cell_type": "code",
    "deepnote_to_be_reexecuted": false,
    "execution_millis": 358,
    "execution_start": 1645025035501,
    "source_hash": "24cdd127"
   },
   "outputs": [
    {
     "name": "stderr",
     "output_type": "stream",
     "text": [
      "/shared-libs/python3.7/py-core/lib/python3.7/site-packages/ipykernel_launcher.py:3: FutureWarning: The default value of regex will change from True to False in a future version.\n",
      "  This is separate from the ipykernel package so we can avoid doing imports until\n",
      "/shared-libs/python3.7/py-core/lib/python3.7/site-packages/ipykernel_launcher.py:4: FutureWarning: The default value of regex will change from True to False in a future version.\n",
      "  after removing the cwd from sys.path.\n"
     ]
    }
   ],
   "source": [
    "# remove all emojis\n",
    "import re\n",
    "test_data['comment'] = test_data['comment'].str.replace('[^\\w\\s#@/:%.,_-]', '', flags=re.UNICODE)\n",
    "train_data['comment'] = train_data['comment'].str.replace('[^\\w\\s#@/:%.,_-]', '', flags=re.UNICODE)"
   ]
  },
  {
   "cell_type": "code",
   "execution_count": null,
   "metadata": {
    "cell_id": "00004-0040b807-5346-4fb2-b749-8451c207c52b",
    "deepnote_cell_height": 342,
    "deepnote_cell_type": "code",
    "deepnote_output_heights": [
     177
    ],
    "deepnote_to_be_reexecuted": false,
    "execution_millis": 48,
    "execution_start": 1645025036489,
    "source_hash": "4804c09d"
   },
   "outputs": [
    {
     "data": {
      "application/vnd.deepnote.dataframe.v3+json": {
       "column_count": 2,
       "columns": [
        {
         "dtype": "object",
         "name": "Y",
         "stats": {
          "categories": [
           {
            "count": 2,
            "name": "0/-1"
           },
           {
            "count": 1,
            "name": "0/0"
           },
           {
            "count": 2,
            "name": "2 others"
           }
          ],
          "nan_count": 0,
          "unique_count": 4
         }
        },
        {
         "dtype": "object",
         "name": "comment",
         "stats": {
          "categories": [
           {
            "count": 1,
            "name": " It is easier to fool a million people than it is to convince a million people that they have been fooled. - Mark Twain"
           },
           {
            "count": 1,
            "name": " NATURAL IMMUNITY  protected us since evolution. Do not exist anymore"
           },
           {
            "count": 3,
            "name": "3 others"
           }
          ],
          "nan_count": 0,
          "unique_count": 5
         }
        },
        {
         "dtype": "int64",
         "name": "_deepnote_index_column"
        }
       ],
       "row_count": 5,
       "rows": [
        {
         "Y": "0/-1",
         "_deepnote_index_column": 0,
         "comment": " It is easier to fool a million people than it is to convince a million people that they have been …"
        },
        {
         "Y": "0/0",
         "_deepnote_index_column": 1,
         "comment": " NATURAL IMMUNITY  protected us since evolution. Do not exist anymore"
        },
        {
         "Y": "0/-1",
         "_deepnote_index_column": 2,
         "comment": " NATURAL IMMUNITY  protected us since evolution. Do not exist anymore   No one talks about it, Why "
        },
        {
         "Y": "1/1/1/-1",
         "_deepnote_index_column": 3,
         "comment": " The bigest sideffect of vaccines is fewer dead children  That is savage"
        },
        {
         "Y": "1/-1",
         "_deepnote_index_column": 4,
         "comment": " Unvaccinated people are more likely to become infected, develop severe COVID-19, and die. In fact,…"
        }
       ]
      },
      "text/html": [
       "<div>\n",
       "<style scoped>\n",
       "    .dataframe tbody tr th:only-of-type {\n",
       "        vertical-align: middle;\n",
       "    }\n",
       "\n",
       "    .dataframe tbody tr th {\n",
       "        vertical-align: top;\n",
       "    }\n",
       "\n",
       "    .dataframe thead th {\n",
       "        text-align: right;\n",
       "    }\n",
       "</style>\n",
       "<table border=\"1\" class=\"dataframe\">\n",
       "  <thead>\n",
       "    <tr style=\"text-align: right;\">\n",
       "      <th></th>\n",
       "      <th>Y</th>\n",
       "      <th>comment</th>\n",
       "    </tr>\n",
       "  </thead>\n",
       "  <tbody>\n",
       "    <tr>\n",
       "      <th>0</th>\n",
       "      <td>0/-1</td>\n",
       "      <td>It is easier to fool a million people than it...</td>\n",
       "    </tr>\n",
       "    <tr>\n",
       "      <th>1</th>\n",
       "      <td>0/0</td>\n",
       "      <td>NATURAL IMMUNITY  protected us since evolutio...</td>\n",
       "    </tr>\n",
       "    <tr>\n",
       "      <th>2</th>\n",
       "      <td>0/-1</td>\n",
       "      <td>NATURAL IMMUNITY  protected us since evolutio...</td>\n",
       "    </tr>\n",
       "    <tr>\n",
       "      <th>3</th>\n",
       "      <td>1/1/1/-1</td>\n",
       "      <td>The bigest sideffect of vaccines is fewer dea...</td>\n",
       "    </tr>\n",
       "    <tr>\n",
       "      <th>4</th>\n",
       "      <td>1/-1</td>\n",
       "      <td>Unvaccinated people are more likely to become...</td>\n",
       "    </tr>\n",
       "  </tbody>\n",
       "</table>\n",
       "</div>"
      ],
      "text/plain": [
       "          Y                                            comment\n",
       "0      0/-1   It is easier to fool a million people than it...\n",
       "1       0/0   NATURAL IMMUNITY  protected us since evolutio...\n",
       "2      0/-1   NATURAL IMMUNITY  protected us since evolutio...\n",
       "3  1/1/1/-1   The bigest sideffect of vaccines is fewer dea...\n",
       "4      1/-1   Unvaccinated people are more likely to become..."
      ]
     },
     "execution_count": 8,
     "metadata": {},
     "output_type": "execute_result"
    }
   ],
   "source": [
    "test_data.head(5)"
   ]
  },
  {
   "cell_type": "markdown",
   "metadata": {
    "cell_id": "dfdad6fe-3920-4227-91ba-348394cb2d15",
    "deepnote_cell_height": 52,
    "deepnote_cell_type": "markdown",
    "tags": []
   },
   "source": [
    "looks for the most common"
   ]
  },
  {
   "cell_type": "code",
   "execution_count": null,
   "metadata": {
    "cell_id": "00005-9c7d8c34-1bb2-4667-941c-52ccd7bceccb",
    "deepnote_cell_height": 225,
    "deepnote_cell_type": "code",
    "deepnote_to_be_reexecuted": false,
    "execution_millis": 1,
    "execution_start": 1645025503177,
    "source_hash": "5ced0d0a"
   },
   "outputs": [],
   "source": [
    "def split_label_col(df):\n",
    "    \"\"\"\n",
    "    Split the multiple annotated labels into columns and select the most occuring label\n",
    "    Returns new dataframe with most common label\n",
    "    \"\"\"\n",
    "    split_labels = df['Y'].str.split('/', n=30, expand=True)\n",
    "    majority_label = split_labels.mode(axis=1).iloc[:,0]\n",
    "    maj_label_df = pd.DataFrame(majority_label).join(df['comment']).rename(columns={0: 'Y'})\n",
    "    return maj_label_df"
   ]
  },
  {
   "cell_type": "code",
   "execution_count": null,
   "metadata": {
    "cell_id": "00006-bad24993-2bce-4401-9c97-07214cac955f",
    "deepnote_cell_height": 613,
    "deepnote_cell_type": "code",
    "deepnote_output_heights": [
     232.25
    ],
    "deepnote_to_be_reexecuted": false,
    "execution_millis": 27601,
    "execution_start": 1645025503737,
    "source_hash": "84cfd6b4"
   },
   "outputs": [
    {
     "data": {
      "application/vnd.deepnote.dataframe.v3+json": {
       "column_count": 2,
       "columns": [
        {
         "dtype": "object",
         "name": "Y",
         "stats": {
          "categories": [
           {
            "count": 12388,
            "name": "0"
           },
           {
            "count": 11405,
            "name": "1"
           },
           {
            "count": 2404,
            "name": "-1"
           }
          ],
          "nan_count": 0,
          "unique_count": 3
         }
        },
        {
         "dtype": "object",
         "name": "comment",
         "stats": {
          "categories": [
           {
            "count": 4,
            "name": "Dont take the vaccine"
           },
           {
            "count": 4,
            "name": "I just got my first vaccine today. No side effects so far. Thank you to all the scientists and researchers around the world for making the vaccine available this early and thank you for this channel for spreading the science. Yes, its definitely OK to be smart. Science rules"
           },
           {
            "count": 26189,
            "name": "26095 others"
           }
          ],
          "nan_count": 0,
          "unique_count": 26097
         }
        },
        {
         "dtype": "int64",
         "name": "_deepnote_index_column"
        }
       ],
       "row_count": 26197,
       "rows": [
        {
         "Y": "-1",
         "_deepnote_index_column": 0,
         "comment": " It is easier to fool a million people than it is to convince a million people that they have been …"
        },
        {
         "Y": "0",
         "_deepnote_index_column": 1,
         "comment": " NATURAL IMMUNITY  protected us since evolution. Do not exist anymore"
        },
        {
         "Y": "-1",
         "_deepnote_index_column": 2,
         "comment": " NATURAL IMMUNITY  protected us since evolution. Do not exist anymore   No one talks about it, Why "
        },
        {
         "Y": "1",
         "_deepnote_index_column": 3,
         "comment": " The bigest sideffect of vaccines is fewer dead children  That is savage"
        },
        {
         "Y": "-1",
         "_deepnote_index_column": 4,
         "comment": " Unvaccinated people are more likely to become infected, develop severe COVID-19, and die. In fact,…"
        },
        {
         "Y": "1",
         "_deepnote_index_column": 5,
         "comment": " Vaccine takes more than a year to develop.  This is the mistake people are making. Its not 1976 an…"
        },
        {
         "Y": "0",
         "_deepnote_index_column": 6,
         "comment": " YES IM A TRUCKER FROM USA AND I WONT GET VACCINATED Can I get retweets and follows from patriots I…"
        },
        {
         "Y": "-1",
         "_deepnote_index_column": 7,
         "comment": " just because I dont have dr in front of my name doesnt mean that my opinion is less valid yes, it …"
        },
        {
         "Y": "1",
         "_deepnote_index_column": 8,
         "comment": " out of anger People say stupid things man is spot on. I got vaccine, im a 41 year olds old, had mi…"
        },
        {
         "Y": "-1",
         "_deepnote_index_column": 9,
         "comment": "... sole assessment of prior infections  #CovidVaccine responses based on antibody detection is not…"
        }
       ]
      },
      "text/html": [
       "<div>\n",
       "<style scoped>\n",
       "    .dataframe tbody tr th:only-of-type {\n",
       "        vertical-align: middle;\n",
       "    }\n",
       "\n",
       "    .dataframe tbody tr th {\n",
       "        vertical-align: top;\n",
       "    }\n",
       "\n",
       "    .dataframe thead th {\n",
       "        text-align: right;\n",
       "    }\n",
       "</style>\n",
       "<table border=\"1\" class=\"dataframe\">\n",
       "  <thead>\n",
       "    <tr style=\"text-align: right;\">\n",
       "      <th></th>\n",
       "      <th>Y</th>\n",
       "      <th>comment</th>\n",
       "    </tr>\n",
       "  </thead>\n",
       "  <tbody>\n",
       "    <tr>\n",
       "      <th>0</th>\n",
       "      <td>-1</td>\n",
       "      <td>It is easier to fool a million people than it...</td>\n",
       "    </tr>\n",
       "    <tr>\n",
       "      <th>1</th>\n",
       "      <td>0</td>\n",
       "      <td>NATURAL IMMUNITY  protected us since evolutio...</td>\n",
       "    </tr>\n",
       "    <tr>\n",
       "      <th>2</th>\n",
       "      <td>-1</td>\n",
       "      <td>NATURAL IMMUNITY  protected us since evolutio...</td>\n",
       "    </tr>\n",
       "    <tr>\n",
       "      <th>3</th>\n",
       "      <td>1</td>\n",
       "      <td>The bigest sideffect of vaccines is fewer dea...</td>\n",
       "    </tr>\n",
       "    <tr>\n",
       "      <th>4</th>\n",
       "      <td>-1</td>\n",
       "      <td>Unvaccinated people are more likely to become...</td>\n",
       "    </tr>\n",
       "    <tr>\n",
       "      <th>...</th>\n",
       "      <td>...</td>\n",
       "      <td>...</td>\n",
       "    </tr>\n",
       "    <tr>\n",
       "      <th>26192</th>\n",
       "      <td>0</td>\n",
       "      <td>no vaccine</td>\n",
       "    </tr>\n",
       "    <tr>\n",
       "      <th>26193</th>\n",
       "      <td>-1</td>\n",
       "      <td></td>\n",
       "    </tr>\n",
       "    <tr>\n",
       "      <th>26194</th>\n",
       "      <td>0</td>\n",
       "      <td>keep your  I already know 3 people who have b...</td>\n",
       "    </tr>\n",
       "    <tr>\n",
       "      <th>26195</th>\n",
       "      <td>0</td>\n",
       "      <td>JUST BECAUSE ITS SAFE, DOESNT MEAN IT DOESNT ...</td>\n",
       "    </tr>\n",
       "    <tr>\n",
       "      <th>26196</th>\n",
       "      <td>0</td>\n",
       "      <td>theres people already having severe side effec...</td>\n",
       "    </tr>\n",
       "  </tbody>\n",
       "</table>\n",
       "<p>26197 rows × 2 columns</p>\n",
       "</div>"
      ],
      "text/plain": [
       "        Y                                            comment\n",
       "0      -1   It is easier to fool a million people than it...\n",
       "1       0   NATURAL IMMUNITY  protected us since evolutio...\n",
       "2      -1   NATURAL IMMUNITY  protected us since evolutio...\n",
       "3       1   The bigest sideffect of vaccines is fewer dea...\n",
       "4      -1   Unvaccinated people are more likely to become...\n",
       "...    ..                                                ...\n",
       "26192   0                                         no vaccine\n",
       "26193  -1                                                   \n",
       "26194   0   keep your  I already know 3 people who have b...\n",
       "26195   0   JUST BECAUSE ITS SAFE, DOESNT MEAN IT DOESNT ...\n",
       "26196   0  theres people already having severe side effec...\n",
       "\n",
       "[26197 rows x 2 columns]"
      ]
     },
     "execution_count": 16,
     "metadata": {},
     "output_type": "execute_result"
    }
   ],
   "source": [
    "cc = split_label_col(test_data)\n",
    "cc"
   ]
  },
  {
   "cell_type": "code",
   "execution_count": null,
   "metadata": {
    "cell_id": "00007-e2ec8a00-decc-4888-8f99-597b1b951193",
    "deepnote_cell_height": 551,
    "deepnote_cell_type": "code",
    "deepnote_output_heights": [
     382.1875
    ]
   },
   "outputs": [
    {
     "data": {
      "text/html": [
       "<div>\n",
       "<style scoped>\n",
       "    .dataframe tbody tr th:only-of-type {\n",
       "        vertical-align: middle;\n",
       "    }\n",
       "\n",
       "    .dataframe tbody tr th {\n",
       "        vertical-align: top;\n",
       "    }\n",
       "\n",
       "    .dataframe thead th {\n",
       "        text-align: right;\n",
       "    }\n",
       "</style>\n",
       "<table border=\"1\" class=\"dataframe\">\n",
       "  <thead>\n",
       "    <tr style=\"text-align: right;\">\n",
       "      <th></th>\n",
       "      <th>Y</th>\n",
       "      <th>comment</th>\n",
       "    </tr>\n",
       "  </thead>\n",
       "  <tbody>\n",
       "    <tr>\n",
       "      <th>0</th>\n",
       "      <td>-1</td>\n",
       "      <td>It is easier to fool a million people than it...</td>\n",
       "    </tr>\n",
       "    <tr>\n",
       "      <th>1</th>\n",
       "      <td>0</td>\n",
       "      <td>NATURAL IMMUNITY  protected us since evolutio...</td>\n",
       "    </tr>\n",
       "    <tr>\n",
       "      <th>2</th>\n",
       "      <td>-1</td>\n",
       "      <td>NATURAL IMMUNITY  protected us since evolutio...</td>\n",
       "    </tr>\n",
       "    <tr>\n",
       "      <th>3</th>\n",
       "      <td>1</td>\n",
       "      <td>The bigest sideffect of vaccines is fewer dea...</td>\n",
       "    </tr>\n",
       "    <tr>\n",
       "      <th>4</th>\n",
       "      <td>-1</td>\n",
       "      <td>Unvaccinated people are more likely to become...</td>\n",
       "    </tr>\n",
       "    <tr>\n",
       "      <th>...</th>\n",
       "      <td>...</td>\n",
       "      <td>...</td>\n",
       "    </tr>\n",
       "    <tr>\n",
       "      <th>26192</th>\n",
       "      <td>0</td>\n",
       "      <td>no vaccine</td>\n",
       "    </tr>\n",
       "    <tr>\n",
       "      <th>26193</th>\n",
       "      <td>-1</td>\n",
       "      <td></td>\n",
       "    </tr>\n",
       "    <tr>\n",
       "      <th>26194</th>\n",
       "      <td>0</td>\n",
       "      <td>keep your  I already know 3 people who have b...</td>\n",
       "    </tr>\n",
       "    <tr>\n",
       "      <th>26195</th>\n",
       "      <td>0</td>\n",
       "      <td>JUST BECAUSE ITS SAFE, DOESNT MEAN IT DOESNT ...</td>\n",
       "    </tr>\n",
       "    <tr>\n",
       "      <th>26196</th>\n",
       "      <td>0</td>\n",
       "      <td>theres people already having severe side effec...</td>\n",
       "    </tr>\n",
       "  </tbody>\n",
       "</table>\n",
       "<p>26197 rows × 2 columns</p>\n",
       "</div>"
      ],
      "text/plain": [
       "        Y                                            comment\n",
       "0      -1   It is easier to fool a million people than it...\n",
       "1       0   NATURAL IMMUNITY  protected us since evolutio...\n",
       "2      -1   NATURAL IMMUNITY  protected us since evolutio...\n",
       "3       1   The bigest sideffect of vaccines is fewer dea...\n",
       "4      -1   Unvaccinated people are more likely to become...\n",
       "...    ..                                                ...\n",
       "26192   0                                         no vaccine\n",
       "26193  -1                                                   \n",
       "26194   0   keep your  I already know 3 people who have b...\n",
       "26195   0   JUST BECAUSE ITS SAFE, DOESNT MEAN IT DOESNT ...\n",
       "26196   0  theres people already having severe side effec...\n",
       "\n",
       "[26197 rows x 2 columns]"
      ]
     },
     "execution_count": 9,
     "metadata": {},
     "output_type": "execute_result"
    }
   ],
   "source": [
    "new_df = pd.DataFrame(cc)\n",
    "df_temp = pd.DataFrame(test_data['comment'])\n",
    "df2 = new_df.join(df_temp)\n",
    "df = df2.rename(columns={0: 'Y'})\n",
    "df"
   ]
  },
  {
   "cell_type": "code",
   "execution_count": null,
   "metadata": {
    "cell_id": "00008-713493d1-24e0-45b6-98f5-6f938d83f971",
    "deepnote_cell_height": 66,
    "deepnote_cell_type": "code"
   },
   "outputs": [],
   "source": [
    "X_train, X_eval, Y_train, Y_eval = train_test_split(df['comment'], df['Y'], test_size=0.2, random_state=12345)"
   ]
  },
  {
   "cell_type": "code",
   "execution_count": null,
   "metadata": {
    "cell_id": "00009-411b3bbc-f50a-4bff-b60e-b87c6d85dc88",
    "deepnote_cell_height": 120,
    "deepnote_cell_type": "code"
   },
   "outputs": [],
   "source": [
    "def train_document_classifier(X, Y):\n",
    "    pipeline = make_pipeline( TfidfVectorizer(), LinearSVC() )\n",
    "    pipeline.fit(X, Y)\n",
    "    return pipeline"
   ]
  },
  {
   "cell_type": "code",
   "execution_count": null,
   "metadata": {
    "cell_id": "00010-a3d2c4d7-b2f6-44d5-b77c-5fab74321c0a",
    "deepnote_cell_height": 66,
    "deepnote_cell_type": "code"
   },
   "outputs": [],
   "source": [
    "clf_comments = train_document_classifier(X_train, Y_train)"
   ]
  },
  {
   "cell_type": "code",
   "execution_count": null,
   "metadata": {
    "cell_id": "00011-d6811bb6-723a-4a84-9da5-cfc8ca72390f",
    "deepnote_cell_height": 136,
    "deepnote_cell_type": "code",
    "deepnote_output_heights": [
     21.1875
    ]
   },
   "outputs": [
    {
     "data": {
      "text/plain": [
       "0.7270992366412213"
      ]
     },
     "execution_count": 13,
     "metadata": {},
     "output_type": "execute_result"
    }
   ],
   "source": [
    "bb_acc = accuracy_score(Y_eval, clf_comments.predict(X_eval))\n",
    "bb_acc"
   ]
  },
  {
   "cell_type": "markdown",
   "metadata": {
    "cell_id": "00012-bb4fe8d0-f91e-4b54-a876-79cdb5553740",
    "deepnote_cell_height": 62,
    "deepnote_cell_type": "markdown"
   },
   "source": [
    "### With parameters"
   ]
  },
  {
   "cell_type": "code",
   "execution_count": null,
   "metadata": {
    "cell_id": "00013-b5a25f78-8fc8-4e0e-86c0-bfae6dad5abd",
    "deepnote_cell_height": 84,
    "deepnote_cell_type": "code"
   },
   "outputs": [],
   "source": [
    "params = {'smooth_idf' : 'bool',\n",
    "         }"
   ]
  },
  {
   "cell_type": "code",
   "execution_count": null,
   "metadata": {
    "cell_id": "00014-5a0ddb87-f01a-4774-a15d-ff940bee2a34",
    "deepnote_cell_height": 138,
    "deepnote_cell_type": "code"
   },
   "outputs": [],
   "source": [
    "parameter_grid = {'max_depth': [1, 2, 3, 4, 5], \n",
    "                  'max_features': [1, 2, 3, 4, 5],\n",
    "                 'random_state':[0, 1, 2, 3, 4, 5],\n",
    "                  \"min_samples_leaf\": np.linspace(0.001, 0.03, 5)\n",
    "                 }"
   ]
  },
  {
   "cell_type": "code",
   "execution_count": null,
   "metadata": {
    "cell_id": "00015-f19a9c61-7cf7-4c6a-8e48-80da4cc36849",
    "deepnote_cell_height": 120,
    "deepnote_cell_type": "code"
   },
   "outputs": [],
   "source": [
    "def train_document_classifier(X, Y):\n",
    "    pipeline = make_pipeline( TfidfVectorizer(), LinearSVC() )\n",
    "    pipeline.fit(X, Y)\n",
    "    return pipeline"
   ]
  }
 ],
 "metadata": {
  "deepnote": {},
  "deepnote_execution_queue": [],
  "deepnote_notebook_id": "a02481b1-f4e7-4ce6-8c85-56b3ae2acaf8",
  "kernelspec": {
   "display_name": "Python 3",
   "language": "python",
   "name": "python3"
  },
  "language_info": {
   "codemirror_mode": {
    "name": "ipython",
    "version": 3
   },
   "file_extension": ".py",
   "mimetype": "text/x-python",
   "name": "python",
   "nbconvert_exporter": "python",
   "pygments_lexer": "ipython3",
   "version": "3.9.2"
  }
 },
 "nbformat": 4,
 "nbformat_minor": 4
}
