{
 "cells": [
  {
   "cell_type": "code",
   "execution_count": 1,
   "metadata": {
    "cell_id": "5c208a23-7a42-4db2-87df-d6f3960d676a",
    "deepnote_cell_height": 225,
    "deepnote_cell_type": "code",
    "deepnote_to_be_reexecuted": false,
    "execution_millis": 1308,
    "execution_start": 1645129001597,
    "source_hash": "724b288c"
   },
   "outputs": [],
   "source": [
    "from statsmodels.stats import inter_rater as irr\n",
    "import pandas as pd\n",
    "import numpy as np\n",
    "\n",
    "from sklearn.svm import LinearSVC\n",
    "from sklearn.feature_extraction.text import TfidfVectorizer\n",
    "from sklearn.pipeline import make_pipeline\n",
    "from sklearn.model_selection import train_test_split\n",
    "from sklearn.metrics import accuracy_score"
   ]
  },
  {
   "cell_type": "code",
   "execution_count": 2,
   "metadata": {
    "cell_id": "00001-77f875bb-1247-46af-90a2-349cd505e8de",
    "deepnote_cell_height": 99,
    "deepnote_cell_type": "code",
    "deepnote_to_be_reexecuted": false,
    "execution_millis": 87,
    "execution_start": 1645129002914,
    "source_hash": "a70cf749"
   },
   "outputs": [],
   "source": [
    "test_data = pd.read_csv('a3_train_final.tsv', sep='\\t',  names=['Y', 'comment'])\n",
    "train_data = pd.read_csv('a3_test_final.tsv', sep='\\t',  names=['Y', 'comment'])"
   ]
  },
  {
   "cell_type": "code",
   "execution_count": 3,
   "metadata": {
    "cell_id": "00002-74cc3e6b-6141-43da-822f-2def05a34f66",
    "deepnote_cell_height": 230.125,
    "deepnote_cell_type": "code",
    "deepnote_to_be_reexecuted": false,
    "execution_millis": 149,
    "execution_start": 1645129003054,
    "source_hash": "24cdd127"
   },
   "outputs": [],
   "source": [
    "# remove all emojis\n",
    "import re\n",
    "test_data['comment'] = test_data['comment'].str.replace('[^\\w\\s#@/:%.,_-]', '', flags=re.UNICODE)\n",
    "train_data['comment'] = train_data['comment'].str.replace('[^\\w\\s#@/:%.,_-]', '', flags=re.UNICODE)"
   ]
  },
  {
   "cell_type": "code",
   "execution_count": 4,
   "metadata": {
    "cell_id": "00003-ac67b994-6dd0-4ed3-9976-8cb510011aa8",
    "deepnote_cell_height": 135,
    "deepnote_cell_type": "code",
    "deepnote_to_be_reexecuted": false,
    "execution_millis": 2,
    "execution_start": 1645129003738,
    "source_hash": "58d7442e"
   },
   "outputs": [],
   "source": [
    "def spit_col(df):\n",
    "    split_df = df['Y'].str.split('/', n=30, expand=True)\n",
    "    cc = split_df.mode(axis=1).iloc[:,0]\n",
    "    return cc"
   ]
  },
  {
   "cell_type": "code",
   "execution_count": 5,
   "metadata": {
    "cell_id": "00004-9a9371ab-c4d1-461b-a84e-9e60f71b5a46",
    "deepnote_cell_height": 81,
    "deepnote_cell_type": "code",
    "deepnote_to_be_reexecuted": false,
    "execution_millis": 16551,
    "execution_start": 1645129004471,
    "source_hash": "d331cbd5"
   },
   "outputs": [],
   "source": [
    "cc = spit_col(test_data)"
   ]
  },
  {
   "cell_type": "code",
   "execution_count": 6,
   "metadata": {
    "cell_id": "00005-4ff1b70b-dfbb-4335-9057-cdd349bbf83a",
    "deepnote_cell_height": 667,
    "deepnote_cell_type": "code",
    "deepnote_output_heights": [
     382.1875
    ],
    "deepnote_to_be_reexecuted": false,
    "execution_millis": 140,
    "execution_start": 1645129026077,
    "source_hash": "e8a0f2a6"
   },
   "outputs": [
    {
     "data": {
      "text/html": [
       "<div>\n",
       "<style scoped>\n",
       "    .dataframe tbody tr th:only-of-type {\n",
       "        vertical-align: middle;\n",
       "    }\n",
       "\n",
       "    .dataframe tbody tr th {\n",
       "        vertical-align: top;\n",
       "    }\n",
       "\n",
       "    .dataframe thead th {\n",
       "        text-align: right;\n",
       "    }\n",
       "</style>\n",
       "<table border=\"1\" class=\"dataframe\">\n",
       "  <thead>\n",
       "    <tr style=\"text-align: right;\">\n",
       "      <th></th>\n",
       "      <th>Y</th>\n",
       "      <th>comment</th>\n",
       "    </tr>\n",
       "  </thead>\n",
       "  <tbody>\n",
       "    <tr>\n",
       "      <th>0</th>\n",
       "      <td>-1</td>\n",
       "      <td>It is easier to fool a million people than it...</td>\n",
       "    </tr>\n",
       "    <tr>\n",
       "      <th>1</th>\n",
       "      <td>0</td>\n",
       "      <td>NATURAL IMMUNITY  protected us since evolutio...</td>\n",
       "    </tr>\n",
       "    <tr>\n",
       "      <th>2</th>\n",
       "      <td>-1</td>\n",
       "      <td>NATURAL IMMUNITY  protected us since evolutio...</td>\n",
       "    </tr>\n",
       "    <tr>\n",
       "      <th>3</th>\n",
       "      <td>1</td>\n",
       "      <td>The bigest sideffect of vaccines is fewer dea...</td>\n",
       "    </tr>\n",
       "    <tr>\n",
       "      <th>4</th>\n",
       "      <td>-1</td>\n",
       "      <td>Unvaccinated people are more likely to become...</td>\n",
       "    </tr>\n",
       "    <tr>\n",
       "      <th>...</th>\n",
       "      <td>...</td>\n",
       "      <td>...</td>\n",
       "    </tr>\n",
       "    <tr>\n",
       "      <th>26192</th>\n",
       "      <td>0</td>\n",
       "      <td>no vaccine</td>\n",
       "    </tr>\n",
       "    <tr>\n",
       "      <th>26193</th>\n",
       "      <td>-1</td>\n",
       "      <td></td>\n",
       "    </tr>\n",
       "    <tr>\n",
       "      <th>26194</th>\n",
       "      <td>0</td>\n",
       "      <td>keep your  I already know 3 people who have b...</td>\n",
       "    </tr>\n",
       "    <tr>\n",
       "      <th>26195</th>\n",
       "      <td>0</td>\n",
       "      <td>JUST BECAUSE ITS SAFE, DOESNT MEAN IT DOESNT ...</td>\n",
       "    </tr>\n",
       "    <tr>\n",
       "      <th>26196</th>\n",
       "      <td>0</td>\n",
       "      <td>theres people already having severe side effec...</td>\n",
       "    </tr>\n",
       "  </tbody>\n",
       "</table>\n",
       "<p>26197 rows × 2 columns</p>\n",
       "</div>"
      ],
      "text/plain": [
       "        Y                                            comment\n",
       "0      -1   It is easier to fool a million people than it...\n",
       "1       0   NATURAL IMMUNITY  protected us since evolutio...\n",
       "2      -1   NATURAL IMMUNITY  protected us since evolutio...\n",
       "3       1   The bigest sideffect of vaccines is fewer dea...\n",
       "4      -1   Unvaccinated people are more likely to become...\n",
       "...    ..                                                ...\n",
       "26192   0                                         no vaccine\n",
       "26193  -1                                                   \n",
       "26194   0   keep your  I already know 3 people who have b...\n",
       "26195   0   JUST BECAUSE ITS SAFE, DOESNT MEAN IT DOESNT ...\n",
       "26196   0  theres people already having severe side effec...\n",
       "\n",
       "[26197 rows x 2 columns]"
      ]
     },
     "execution_count": 6,
     "metadata": {},
     "output_type": "execute_result"
    }
   ],
   "source": [
    "new_df = pd.DataFrame(cc)\n",
    "df_temp = pd.DataFrame(test_data['comment'])\n",
    "df2 = new_df.join(df_temp)\n",
    "df = df2.rename(columns={0: 'Y'})\n",
    "df"
   ]
  },
  {
   "cell_type": "code",
   "execution_count": 7,
   "metadata": {
    "cell_id": "00006-53cc3524-6e6d-4281-9c3c-89ada568314a",
    "deepnote_cell_height": 347.375,
    "deepnote_cell_type": "code",
    "deepnote_output_heights": [
     232.375
    ],
    "deepnote_to_be_reexecuted": false,
    "execution_millis": 5,
    "execution_start": 1645129035295,
    "source_hash": "451b436a"
   },
   "outputs": [
    {
     "data": {
      "text/plain": [
       "0       -1\n",
       "1        0\n",
       "2       -1\n",
       "3        1\n",
       "4       -1\n",
       "        ..\n",
       "26192    0\n",
       "26193   -1\n",
       "26194    0\n",
       "26195    0\n",
       "26196    0\n",
       "Name: Y, Length: 26197, dtype: int32"
      ]
     },
     "execution_count": 7,
     "metadata": {},
     "output_type": "execute_result"
    }
   ],
   "source": [
    "df_y = df['Y']\n",
    "df_y.astype('int')"
   ]
  },
  {
   "cell_type": "code",
   "execution_count": 8,
   "metadata": {
    "cell_id": "00007-5c5d8d47-d95a-4a99-858e-6d1970278660",
    "deepnote_cell_height": 441,
    "deepnote_cell_type": "code",
    "deepnote_to_be_reexecuted": false,
    "execution_millis": 8,
    "execution_start": 1645129037623,
    "source_hash": "d27c51e3"
   },
   "outputs": [],
   "source": [
    "def run_sequence(lst) -> list():\n",
    "    l = []\n",
    "    for i in lst:\n",
    "        if i == '1' or i == 1:\n",
    "            l.append(list([1,0]))\n",
    "        elif i == '0' or i == 0:\n",
    "            l.append(list([1,0]))\n",
    "        elif i == '-1' or i == -1:\n",
    "            l.append(list([1,1]))\n",
    "    return l  \n",
    "\n",
    "def sort_list(lst) -> list():\n",
    "    yy = run_sequence(list(lst))\n",
    "    from operator import itemgetter\n",
    "    bb = sorted(yy, key=itemgetter(1), reverse=False)\n",
    "    return bb\n",
    "\n",
    "def get_krippendorff(lst) -> float:\n",
    "    l = sort_list(lst)\n",
    "    import krippendorff\n",
    "    res = krippendorff.alpha(l)\n",
    "    return res"
   ]
  },
  {
   "cell_type": "code",
   "execution_count": 10,
   "metadata": {},
   "outputs": [
    {
     "name": "stdout",
     "output_type": "stream",
     "text": [
      "Counter({1: 10791, 0: 10491, -1: 4915})\n"
     ]
    },
    {
     "data": {
      "text/html": [
       "<div>\n",
       "<style scoped>\n",
       "    .dataframe tbody tr th:only-of-type {\n",
       "        vertical-align: middle;\n",
       "    }\n",
       "\n",
       "    .dataframe tbody tr th {\n",
       "        vertical-align: top;\n",
       "    }\n",
       "\n",
       "    .dataframe thead th {\n",
       "        text-align: right;\n",
       "    }\n",
       "</style>\n",
       "<table border=\"1\" class=\"dataframe\">\n",
       "  <thead>\n",
       "    <tr style=\"text-align: right;\">\n",
       "      <th></th>\n",
       "      <th>Y</th>\n",
       "      <th>Comment</th>\n",
       "    </tr>\n",
       "  </thead>\n",
       "  <tbody>\n",
       "    <tr>\n",
       "      <th>0</th>\n",
       "      <td>-1</td>\n",
       "      <td>It is easier to fool a million people than it...</td>\n",
       "    </tr>\n",
       "    <tr>\n",
       "      <th>1</th>\n",
       "      <td>0</td>\n",
       "      <td>NATURAL IMMUNITY  protected us since evolutio...</td>\n",
       "    </tr>\n",
       "    <tr>\n",
       "      <th>2</th>\n",
       "      <td>-1</td>\n",
       "      <td>NATURAL IMMUNITY  protected us since evolutio...</td>\n",
       "    </tr>\n",
       "    <tr>\n",
       "      <th>3</th>\n",
       "      <td>-1</td>\n",
       "      <td>The bigest sideffect of vaccines is fewer dea...</td>\n",
       "    </tr>\n",
       "    <tr>\n",
       "      <th>4</th>\n",
       "      <td>-1</td>\n",
       "      <td>Unvaccinated people are more likely to become...</td>\n",
       "    </tr>\n",
       "    <tr>\n",
       "      <th>...</th>\n",
       "      <td>...</td>\n",
       "      <td>...</td>\n",
       "    </tr>\n",
       "    <tr>\n",
       "      <th>26192</th>\n",
       "      <td>0</td>\n",
       "      <td>🙏no vaccine</td>\n",
       "    </tr>\n",
       "    <tr>\n",
       "      <th>26193</th>\n",
       "      <td>-1</td>\n",
       "      <td>🚩🚩🚩🚩🚩</td>\n",
       "    </tr>\n",
       "    <tr>\n",
       "      <th>26194</th>\n",
       "      <td>0</td>\n",
       "      <td>🤣 keep your 💩 I already know 3 people who have...</td>\n",
       "    </tr>\n",
       "    <tr>\n",
       "      <th>26195</th>\n",
       "      <td>0</td>\n",
       "      <td>🤣🤣🤣 \"JUST BECAUSE IT'S SAFE, DOESN'T MEAN IT D...</td>\n",
       "    </tr>\n",
       "    <tr>\n",
       "      <th>26196</th>\n",
       "      <td>0</td>\n",
       "      <td>🤨there's people already having severe side eff...</td>\n",
       "    </tr>\n",
       "  </tbody>\n",
       "</table>\n",
       "<p>26197 rows × 2 columns</p>\n",
       "</div>"
      ],
      "text/plain": [
       "       Y                                            Comment\n",
       "0     -1   It is easier to fool a million people than it...\n",
       "1      0   NATURAL IMMUNITY  protected us since evolutio...\n",
       "2     -1   NATURAL IMMUNITY  protected us since evolutio...\n",
       "3     -1   The bigest sideffect of vaccines is fewer dea...\n",
       "4     -1   Unvaccinated people are more likely to become...\n",
       "...   ..                                                ...\n",
       "26192  0                                        🙏no vaccine\n",
       "26193 -1                                              🚩🚩🚩🚩🚩\n",
       "26194  0  🤣 keep your 💩 I already know 3 people who have...\n",
       "26195  0  🤣🤣🤣 \"JUST BECAUSE IT'S SAFE, DOESN'T MEAN IT D...\n",
       "26196  0  🤨there's people already having severe side eff...\n",
       "\n",
       "[26197 rows x 2 columns]"
      ]
     },
     "execution_count": 10,
     "metadata": {},
     "output_type": "execute_result"
    }
   ],
   "source": [
    "from collections import Counter\n",
    "#Import train data\n",
    "df = pd.read_csv('a3_train_final.tsv', sep='\\t', names=['Y','Comment'])\n",
    "\n",
    "#Review documentation of anotations\n",
    "#Counter(df['Y'])\n",
    "\n",
    "## Assign the notations to either pro = '1' or anti = '0'\n",
    "## If there is not 2 anotations we will exclude these beacuse these has not been going thrpugh the same control as the rest\n",
    "## Additioanlly we will only mark in each ot the classes 1 or 0 if there are only anotations in one direction due to inconsistency of the reporting of anotations\n",
    "## If a comment has been anotated e.g ('0/1/0') that was the case 21 times we will label this as -1 \n",
    "proList = ['1/1','1/1/1/1','1/1/1','1/1/1/1/1','1/1/1/1/1/1','1/1/1/1/1/1/1/1/1']\n",
    "antiList = ['0/0','0/0/0','0/0/0/0','0/0/0/0/0','0/0/0/0/0/0/0/0/0','0/0/0/0/0/0','0/0/0/0/0/0/0','0/0/0/0/0/0/0/0','0/0/0/0/0/0/0/0/0/0/0/0/0/0/0/0','0/0/0/0/0/0/0/0/0/0/0/0/0', '0/0/0/0/0/0/0/0/0/0/0/0/0/0','0/0/0/0/0/0/0/0/0/0/0/0','0/0/0/0/0/0/0/0/0/0/0/0/0/0/0/0/0/0/0/0/0/0/0','0/0/0/0/0/0/0/0/0/0','0/0/0/0/0/0/0/0/0/0/0','0/0/0/0/0/0/0/0/0/0/0/0/0/0/0/0/0','0/0/0/0/0/0/0/0/0/0/0/0/0/0/0']\n",
    "\n",
    "df['Y'] = np.where((df.Y.isin(proList)), 1,\n",
    "          np.where((df.Y.isin(antiList)),0 , -1))\n",
    "\n",
    "\n",
    "print(Counter(df['Y']))\n",
    "\n",
    "train = df[df['Y'] != '-1']\n",
    "train"
   ]
  },
  {
   "cell_type": "code",
   "execution_count": null,
   "metadata": {},
   "outputs": [],
   "source": [
    "#Import train data\n",
    "df = pd.read_csv('a3_train_final.tsv', sep='\\t', names=['Y','Comment'])\n",
    "\n",
    "df['Y'] = np.where((df.Y.isin(proList)), 1,\n",
    "          np.where((df.Y.isin(antiList)),0 , -1))"
   ]
  },
  {
   "cell_type": "code",
   "execution_count": 11,
   "metadata": {},
   "outputs": [],
   "source": [
    "ddl = list(train.Y)"
   ]
  },
  {
   "cell_type": "code",
   "execution_count": 12,
   "metadata": {},
   "outputs": [
    {
     "name": "stdout",
     "output_type": "stream",
     "text": [
      "0.6840387109776054\n"
     ]
    }
   ],
   "source": [
    "alpha2 = get_krippendorff(ddl)\n",
    "print(alpha2)"
   ]
  },
  {
   "cell_type": "code",
   "execution_count": 13,
   "metadata": {},
   "outputs": [
    {
     "name": "stdout",
     "output_type": "stream",
     "text": [
      "0.8318907811008063\n"
     ]
    }
   ],
   "source": [
    "alpha = get_krippendorff(list(df_y))\n",
    "print(alpha)"
   ]
  },
  {
   "cell_type": "code",
   "execution_count": null,
   "metadata": {},
   "outputs": [],
   "source": []
  }
 ],
 "metadata": {
  "deepnote": {},
  "deepnote_execution_queue": [],
  "deepnote_notebook_id": "c1cb7f4a-8ff0-435a-837c-1ef8bf04d6fb",
  "kernelspec": {
   "display_name": "Python 3",
   "language": "python",
   "name": "python3"
  },
  "language_info": {
   "codemirror_mode": {
    "name": "ipython",
    "version": 3
   },
   "file_extension": ".py",
   "mimetype": "text/x-python",
   "name": "python",
   "nbconvert_exporter": "python",
   "pygments_lexer": "ipython3",
   "version": "3.9.2"
  }
 },
 "nbformat": 4,
 "nbformat_minor": 4
}
