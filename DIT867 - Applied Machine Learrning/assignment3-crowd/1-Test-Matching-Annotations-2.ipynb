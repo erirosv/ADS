{
 "cells": [
  {
   "cell_type": "code",
   "execution_count": null,
   "metadata": {
    "cell_id": "591b8fec-0a72-4e39-9d64-1e277c03cb1d",
    "deepnote_cell_height": 153,
    "deepnote_cell_type": "code",
    "deepnote_to_be_reexecuted": false,
    "execution_millis": 3,
    "execution_start": 1645125602201,
    "source_hash": "b7a56309",
    "tags": []
   },
   "outputs": [],
   "source": [
    "import pandas as pd\n",
    "import numpy as np\n",
    "from collections import Counter\n",
    "\n"
   ]
  },
  {
   "cell_type": "code",
   "execution_count": null,
   "metadata": {
    "cell_id": "00001-5413b8c3-c542-4527-a2b7-75e6c6f69e46",
    "deepnote_cell_height": 81,
    "deepnote_cell_type": "code",
    "deepnote_to_be_reexecuted": false,
    "execution_millis": 75,
    "execution_start": 1645125602218,
    "source_hash": "50d58ce7",
    "tags": []
   },
   "outputs": [],
   "source": [
    "df = pd.read_csv('a3_train_final.tsv', sep='\\t', names=['Y','Comment'])"
   ]
  },
  {
   "cell_type": "code",
   "execution_count": null,
   "metadata": {
    "cell_id": "00002-e04d5263-a661-45ea-89f4-02cdeb7fa046",
    "deepnote_cell_height": 153,
    "deepnote_cell_type": "code",
    "deepnote_to_be_reexecuted": false,
    "execution_millis": 38,
    "execution_start": 1645125602315,
    "source_hash": "525e6b6b",
    "tags": []
   },
   "outputs": [],
   "source": [
    "# Remove unwanted characters, numbers and symbols\n",
    "#df['Cleaned'] = df['Y'].str.replace(\"[^a-zA-Z#]\", ' ', regex=True)\n",
    "df['test'] = df['Y'].str.replace('-','')\n",
    "df['test'] = df['test'].str.replace('/','')\n",
    "df['str'] = df['test'].str.len() # Amount of characters of full review incl. space"
   ]
  },
  {
   "cell_type": "code",
   "execution_count": null,
   "metadata": {
    "cell_id": "00003-5eda1493-f40e-4391-bdf2-b8d6636a16bd",
    "deepnote_cell_height": 317.65625,
    "deepnote_cell_type": "code",
    "deepnote_output_heights": [
     148
    ],
    "deepnote_to_be_reexecuted": false,
    "execution_millis": 4,
    "execution_start": 1645125602412,
    "source_hash": "3a19cd9f",
    "tags": []
   },
   "outputs": [
    {
     "data": {
      "application/vnd.deepnote.dataframe.v3+json": {
       "column_count": 4,
       "columns": [
        {
         "dtype": "object",
         "name": "Y",
         "stats": {
          "categories": [
           {
            "count": 2,
            "name": "0/-1"
           },
           {
            "count": 1,
            "name": "0/0"
           },
           {
            "count": 1,
            "name": "1/1/1/-1"
           }
          ],
          "nan_count": 0,
          "unique_count": 3
         }
        },
        {
         "dtype": "object",
         "name": "Comment",
         "stats": {
          "categories": [
           {
            "count": 1,
            "name": " It is easier to fool a million people than it is to convince a million people that they have been fooled. - Mark Twain"
           },
           {
            "count": 1,
            "name": " NATURAL IMMUNITY  protected us since evolution. Do not exist anymore?"
           },
           {
            "count": 2,
            "name": "2 others"
           }
          ],
          "nan_count": 0,
          "unique_count": 4
         }
        },
        {
         "dtype": "object",
         "name": "test",
         "stats": {
          "categories": [
           {
            "count": 2,
            "name": "01"
           },
           {
            "count": 1,
            "name": "00"
           },
           {
            "count": 1,
            "name": "1111"
           }
          ],
          "nan_count": 0,
          "unique_count": 3
         }
        },
        {
         "dtype": "int64",
         "name": "str",
         "stats": {
          "histogram": [
           {
            "bin_end": 2.2,
            "bin_start": 2,
            "count": 3
           },
           {
            "bin_end": 2.4,
            "bin_start": 2.2,
            "count": 0
           },
           {
            "bin_end": 2.6,
            "bin_start": 2.4,
            "count": 0
           },
           {
            "bin_end": 2.8,
            "bin_start": 2.6,
            "count": 0
           },
           {
            "bin_end": 3,
            "bin_start": 2.8,
            "count": 0
           },
           {
            "bin_end": 3.2,
            "bin_start": 3,
            "count": 0
           },
           {
            "bin_end": 3.4000000000000004,
            "bin_start": 3.2,
            "count": 0
           },
           {
            "bin_end": 3.6,
            "bin_start": 3.4000000000000004,
            "count": 0
           },
           {
            "bin_end": 3.8,
            "bin_start": 3.6,
            "count": 0
           },
           {
            "bin_end": 4,
            "bin_start": 3.8,
            "count": 1
           }
          ],
          "max": "4",
          "min": "2",
          "nan_count": 0,
          "unique_count": 2
         }
        },
        {
         "dtype": "int64",
         "name": "_deepnote_index_column"
        }
       ],
       "row_count": 4,
       "rows": [
        {
         "Comment": " It is easier to fool a million people than it is to convince a million people that they have been …",
         "Y": "0/-1",
         "_deepnote_index_column": 0,
         "str": 2,
         "test": "01"
        },
        {
         "Comment": " NATURAL IMMUNITY  protected us since evolution. Do not exist anymore?",
         "Y": "0/0",
         "_deepnote_index_column": 1,
         "str": 2,
         "test": "00"
        },
        {
         "Comment": " NATURAL IMMUNITY  protected us since evolution. Do not exist anymore? ? ? No one talks about it, W…",
         "Y": "0/-1",
         "_deepnote_index_column": 2,
         "str": 2,
         "test": "01"
        },
        {
         "Comment": " The bigest sideffect of vaccines is fewer dead children  That is savage",
         "Y": "1/1/1/-1",
         "_deepnote_index_column": 3,
         "str": 4,
         "test": "1111"
        }
       ]
      },
      "text/html": [
       "<div>\n",
       "<style scoped>\n",
       "    .dataframe tbody tr th:only-of-type {\n",
       "        vertical-align: middle;\n",
       "    }\n",
       "\n",
       "    .dataframe tbody tr th {\n",
       "        vertical-align: top;\n",
       "    }\n",
       "\n",
       "    .dataframe thead th {\n",
       "        text-align: right;\n",
       "    }\n",
       "</style>\n",
       "<table border=\"1\" class=\"dataframe\">\n",
       "  <thead>\n",
       "    <tr style=\"text-align: right;\">\n",
       "      <th></th>\n",
       "      <th>Y</th>\n",
       "      <th>Comment</th>\n",
       "      <th>test</th>\n",
       "      <th>str</th>\n",
       "    </tr>\n",
       "  </thead>\n",
       "  <tbody>\n",
       "    <tr>\n",
       "      <th>0</th>\n",
       "      <td>0/-1</td>\n",
       "      <td>It is easier to fool a million people than it...</td>\n",
       "      <td>01</td>\n",
       "      <td>2</td>\n",
       "    </tr>\n",
       "    <tr>\n",
       "      <th>1</th>\n",
       "      <td>0/0</td>\n",
       "      <td>NATURAL IMMUNITY  protected us since evolutio...</td>\n",
       "      <td>00</td>\n",
       "      <td>2</td>\n",
       "    </tr>\n",
       "    <tr>\n",
       "      <th>2</th>\n",
       "      <td>0/-1</td>\n",
       "      <td>NATURAL IMMUNITY  protected us since evolutio...</td>\n",
       "      <td>01</td>\n",
       "      <td>2</td>\n",
       "    </tr>\n",
       "    <tr>\n",
       "      <th>3</th>\n",
       "      <td>1/1/1/-1</td>\n",
       "      <td>The bigest sideffect of vaccines is fewer dea...</td>\n",
       "      <td>1111</td>\n",
       "      <td>4</td>\n",
       "    </tr>\n",
       "  </tbody>\n",
       "</table>\n",
       "</div>"
      ],
      "text/plain": [
       "          Y                                            Comment  test  str\n",
       "0      0/-1   It is easier to fool a million people than it...    01    2\n",
       "1       0/0   NATURAL IMMUNITY  protected us since evolutio...    00    2\n",
       "2      0/-1   NATURAL IMMUNITY  protected us since evolutio...    01    2\n",
       "3  1/1/1/-1   The bigest sideffect of vaccines is fewer dea...  1111    4"
      ]
     },
     "execution_count": 7,
     "metadata": {},
     "output_type": "execute_result"
    }
   ],
   "source": [
    "df.head(4)"
   ]
  },
  {
   "cell_type": "code",
   "execution_count": null,
   "metadata": {
    "cell_id": "00004-2dbbc1e9-7b28-4f76-8591-228062c99cc2",
    "deepnote_cell_height": 271.78125,
    "deepnote_cell_type": "code",
    "deepnote_output_heights": [
     174.78125
    ],
    "deepnote_to_be_reexecuted": false,
    "execution_millis": 2,
    "execution_start": 1645125602414,
    "source_hash": "e6585eba",
    "tags": []
   },
   "outputs": [
    {
     "data": {
      "text/plain": [
       "count    26197.000000\n",
       "mean         2.103142\n",
       "std          0.736805\n",
       "min          1.000000\n",
       "25%          2.000000\n",
       "50%          2.000000\n",
       "75%          2.000000\n",
       "max         23.000000\n",
       "Name: str, dtype: float64"
      ]
     },
     "execution_count": 8,
     "metadata": {},
     "output_type": "execute_result"
    }
   ],
   "source": [
    "df['str'].describe()"
   ]
  },
  {
   "cell_type": "code",
   "execution_count": null,
   "metadata": {
    "cell_id": "00005-39c3ab89-48fa-44f6-a9db-dec99a42fea1",
    "deepnote_cell_height": 825.859375,
    "deepnote_cell_type": "code",
    "deepnote_output_heights": [
     null,
     611
    ],
    "deepnote_to_be_reexecuted": false,
    "execution_millis": 3,
    "execution_start": 1645125602445,
    "source_hash": "f7a85018",
    "tags": []
   },
   "outputs": [
    {
     "name": "stdout",
     "output_type": "stream",
     "text": [
      "26197\n"
     ]
    },
    {
     "data": {
      "text/plain": [
       "Counter({'0/-1': 1278,\n",
       "         '0/0': 9752,\n",
       "         '1/1/1/-1': 12,\n",
       "         '1/-1': 1093,\n",
       "         '1/1': 10171,\n",
       "         '1/0/-1/0': 2,\n",
       "         '0/1': 550,\n",
       "         '1/0/0': 7,\n",
       "         '1/0': 711,\n",
       "         '1/1/1/1': 281,\n",
       "         '0/0/0': 265,\n",
       "         '1': 466,\n",
       "         '0': 488,\n",
       "         '0/0/0/0/0/0/0/1/0/0': 1,\n",
       "         '1/1/0/1': 8,\n",
       "         '1/-1/-1': 7,\n",
       "         '1/0/-1': 4,\n",
       "         '1/1/1': 258,\n",
       "         '0/0/0/0': 284,\n",
       "         '0/1/0': 21,\n",
       "         '0/0/0/0/0': 73,\n",
       "         '0/0/0/0/0/0/0/0/0': 18,\n",
       "         '0/0/0/0/0/0': 38,\n",
       "         '1/1/-1': 15,\n",
       "         '1/0/1': 13,\n",
       "         '0/-1/-1': 8,\n",
       "         '1/1/0/1/0/-1/-1': 1,\n",
       "         '1/1/1/1/1/1': 39,\n",
       "         '0/0/0/0/0/0/0': 21,\n",
       "         '1/1/-1/1': 5,\n",
       "         '1/1/1/1/1': 41,\n",
       "         '0/0/-1/0': 10,\n",
       "         '0/0/1': 4,\n",
       "         '0/0/-1': 21,\n",
       "         '1/1/0': 10,\n",
       "         '1/1/0/-1': 2,\n",
       "         '0/0/0/0/1/0/0': 1,\n",
       "         '0/0/0/0/0/0/0/0': 14,\n",
       "         '0/0/1/0': 9,\n",
       "         '0/-1/0': 21,\n",
       "         '0/0/0/1': 6,\n",
       "         '0/0/0/-1': 14,\n",
       "         '1/-1/1': 18,\n",
       "         '0/0/0/0/0/0/0/0/0/0/0/0/0/0/0/0': 3,\n",
       "         '0/0/0/0/0/0/0/0/0/0/0/0/0': 6,\n",
       "         '0/1/0/1': 1,\n",
       "         '0/1/-1': 7,\n",
       "         '1/0/1/1/0/1/0/1/1/1/1/0/1': 1,\n",
       "         '1/0/0/0/1/0/0/0/0/0/1/0': 1,\n",
       "         '1/1/1/-1/1': 1,\n",
       "         '1/1/1/1/1/1/1': 13,\n",
       "         '1/1/1/1/1/1/1/1/1/1/1/1/1/1/1/1/1': 1,\n",
       "         '1/1/1/1/1/1/1/1/1/1': 4,\n",
       "         '1/1/1/1/1/1/1/1': 10,\n",
       "         '0/1/1': 10,\n",
       "         '0/0/0/0/0/0/0/0/0/0/0/0/0/0': 2,\n",
       "         '1/0/0/0': 1,\n",
       "         '0/1/1/0/0/1/1': 1,\n",
       "         '0/-1/1': 1,\n",
       "         '0/1/0/0': 5,\n",
       "         '0/0/0/0/0/0/0/0/0/0/0/0': 5,\n",
       "         '0/0/0/0/0/0/0/0/0/0/0/0/0/0/0/0/0/0/0/0/0/0/0': 1,\n",
       "         '0/0/0/-1/0/0': 2,\n",
       "         '1/1/1/1/1/0/1/1/1': 1,\n",
       "         '0/1/0/0/0': 1,\n",
       "         '0/1/-1/0': 1,\n",
       "         '0/0/0/0/0/0/0/0/0/0': 3,\n",
       "         '1/1/1/1/1/1/1/1/1/1/1/1/1/1/1': 1,\n",
       "         '0/0/0/0/-1/0': 1,\n",
       "         '0/0/0/0/0/0/-1': 1,\n",
       "         '1/0/1/1/0': 1,\n",
       "         '1/-1/0': 2,\n",
       "         '1/1/1/1/1/1/1/1/0': 1,\n",
       "         '0/0/0/0/0/0/0/0/0/0/0': 4,\n",
       "         '1/0/0/0/0/0/0/0/0/0/0': 1,\n",
       "         '1/1/-1/-1': 3,\n",
       "         '0/0/0/0/0/0/0/0/0/0/0/0/0/0/0/0/0': 1,\n",
       "         '0/0/0/0/-1': 4,\n",
       "         '1/0/1/1/1': 1,\n",
       "         '0/0/0/0/1/0': 2,\n",
       "         '1/1/1/1/1/1/1/0': 1,\n",
       "         '1/1/1/0/1': 2,\n",
       "         '1/0/0/-1': 1,\n",
       "         '1/1/1/1/1/1/1/1/1/1/1/1': 1,\n",
       "         '1/0/1/1': 3,\n",
       "         '1/0/0/1': 1,\n",
       "         '1/1/1/-1/1/1': 2,\n",
       "         '1/1/1/1/-1/0': 1,\n",
       "         '1/1/1/1/1/1/1/1/1': 1,\n",
       "         '1/1/1/1/1/0/1/1': 1,\n",
       "         '1/1/1/0/1/1/0/-1': 1,\n",
       "         '0/0/0/0/0/0/1/0/0/0': 1,\n",
       "         '0/0/0/1/0/0/0/0': 1,\n",
       "         '0/0/0/1/0/-1': 1,\n",
       "         '0/0/1/1': 1,\n",
       "         '0/0/0/0/0/0/0/0/0/0/0/0/0/0/0': 1,\n",
       "         '0/0/1/0/1': 1,\n",
       "         '0/1/1/1': 2,\n",
       "         '1/1/1/1/0/1/1/-1': 1,\n",
       "         '0/1/1/0': 2,\n",
       "         '0/0/1/1/-1': 1,\n",
       "         '1/1/1/1/1/1/0/1': 1,\n",
       "         '1/1/1/1/1/-1': 1,\n",
       "         '0/0/-1/-1': 1,\n",
       "         '1/0/1/1/1/1': 1})"
      ]
     },
     "execution_count": 9,
     "metadata": {},
     "output_type": "execute_result"
    }
   ],
   "source": [
    "print(len(df))\n",
    "\n",
    "Counter(df['Y'])\n",
    "\n",
    "#df[df['Y'] ==  '0/0/0/0/0/0/0/0/0']"
   ]
  },
  {
   "cell_type": "markdown",
   "metadata": {
    "cell_id": "00006-195e7cd8-9942-43ed-9e96-ba6ffd12ecd6",
    "deepnote_cell_height": 142.578125,
    "deepnote_cell_type": "markdown",
    "tags": []
   },
   "source": [
    "- How much consensus is there between annotators of the dataset? Do you think the data is reliable?\n",
    "- How do you represent your data as features?\n",
    "- Did you process the features in any way?"
   ]
  },
  {
   "cell_type": "code",
   "execution_count": null,
   "metadata": {
    "cell_id": "00007-c324059d-5dcb-4b50-ac7e-90a295357ff4",
    "deepnote_cell_height": 1039.859375,
    "deepnote_cell_type": "code",
    "deepnote_to_be_reexecuted": false,
    "execution_millis": 225,
    "execution_start": 1645128039143,
    "source_hash": "2311c693",
    "tags": []
   },
   "outputs": [
    {
     "name": "stdout",
     "output_type": "stream",
     "text": [
      "Counter({1: 10791, 0: 10491, -1: 4915})\n"
     ]
    },
    {
     "data": {
      "application/vnd.deepnote.dataframe.v3+json": {
       "column_count": 2,
       "columns": [
        {
         "dtype": "int64",
         "name": "Y",
         "stats": {
          "histogram": [
           {
            "bin_end": -0.8,
            "bin_start": -1,
            "count": 4915
           },
           {
            "bin_end": -0.6,
            "bin_start": -0.8,
            "count": 0
           },
           {
            "bin_end": -0.3999999999999999,
            "bin_start": -0.6,
            "count": 0
           },
           {
            "bin_end": -0.19999999999999996,
            "bin_start": -0.3999999999999999,
            "count": 0
           },
           {
            "bin_end": 0,
            "bin_start": -0.19999999999999996,
            "count": 0
           },
           {
            "bin_end": 0.20000000000000018,
            "bin_start": 0,
            "count": 10491
           },
           {
            "bin_end": 0.40000000000000013,
            "bin_start": 0.20000000000000018,
            "count": 0
           },
           {
            "bin_end": 0.6000000000000001,
            "bin_start": 0.40000000000000013,
            "count": 0
           },
           {
            "bin_end": 0.8,
            "bin_start": 0.6000000000000001,
            "count": 0
           },
           {
            "bin_end": 1,
            "bin_start": 0.8,
            "count": 10791
           }
          ],
          "max": "1",
          "min": "-1",
          "nan_count": 0,
          "unique_count": 3
         }
        },
        {
         "dtype": "object",
         "name": "Comment",
         "stats": {
          "categories": [
           {
            "count": 2,
            "name": "For the first time in history the ineffectiveness of a medicine is being blamed on those who refuse to take it."
           },
           {
            "count": 2,
            "name": "It's perfectly safe!..........Famous last words of EVERYONE on the Titanic also!"
           },
           {
            "count": 26193,
            "name": "26191 others"
           }
          ],
          "nan_count": 0,
          "unique_count": 26193
         }
        },
        {
         "dtype": "int64",
         "name": "_deepnote_index_column"
        }
       ],
       "row_count": 26197,
       "rows": [
        {
         "Comment": " It is easier to fool a million people than it is to convince a million people that they have been …",
         "Y": -1,
         "_deepnote_index_column": 0
        },
        {
         "Comment": " NATURAL IMMUNITY  protected us since evolution. Do not exist anymore?",
         "Y": 0,
         "_deepnote_index_column": 1
        },
        {
         "Comment": " NATURAL IMMUNITY  protected us since evolution. Do not exist anymore? ? ? No one talks about it, W…",
         "Y": -1,
         "_deepnote_index_column": 2
        },
        {
         "Comment": " The bigest sideffect of vaccines is fewer dead children  That is savage",
         "Y": -1,
         "_deepnote_index_column": 3
        },
        {
         "Comment": " Unvaccinated people are more likely to become infected, develop severe COVID-19, and die. In fact,…",
         "Y": -1,
         "_deepnote_index_column": 4
        },
        {
         "Comment": " Vaccine takes more than a year to develop.  This is the mistake people are making. Its not 1976 an…",
         "Y": 1,
         "_deepnote_index_column": 5
        },
        {
         "Comment": " YES IM A TRUCKER FROM USA AND I WONT GET VACCINATED Can I get retweets and follows from patriots? …",
         "Y": 0,
         "_deepnote_index_column": 6
        },
        {
         "Comment": " just because I don't have dr in front of my name doesn't mean that my opinion is less valid yes, i…",
         "Y": -1,
         "_deepnote_index_column": 7
        },
        {
         "Comment": " out of anger People say stupid things man is spot on. I got vaccine, im a 41 year olds old, had mi…",
         "Y": 1,
         "_deepnote_index_column": 8
        },
        {
         "Comment": "... sole assessment of prior infections & #CovidVaccine responses based on antibody detection is no…",
         "Y": -1,
         "_deepnote_index_column": 9
        }
       ]
      },
      "text/html": [
       "<div>\n",
       "<style scoped>\n",
       "    .dataframe tbody tr th:only-of-type {\n",
       "        vertical-align: middle;\n",
       "    }\n",
       "\n",
       "    .dataframe tbody tr th {\n",
       "        vertical-align: top;\n",
       "    }\n",
       "\n",
       "    .dataframe thead th {\n",
       "        text-align: right;\n",
       "    }\n",
       "</style>\n",
       "<table border=\"1\" class=\"dataframe\">\n",
       "  <thead>\n",
       "    <tr style=\"text-align: right;\">\n",
       "      <th></th>\n",
       "      <th>Y</th>\n",
       "      <th>Comment</th>\n",
       "    </tr>\n",
       "  </thead>\n",
       "  <tbody>\n",
       "    <tr>\n",
       "      <th>0</th>\n",
       "      <td>-1</td>\n",
       "      <td>It is easier to fool a million people than it...</td>\n",
       "    </tr>\n",
       "    <tr>\n",
       "      <th>1</th>\n",
       "      <td>0</td>\n",
       "      <td>NATURAL IMMUNITY  protected us since evolutio...</td>\n",
       "    </tr>\n",
       "    <tr>\n",
       "      <th>2</th>\n",
       "      <td>-1</td>\n",
       "      <td>NATURAL IMMUNITY  protected us since evolutio...</td>\n",
       "    </tr>\n",
       "    <tr>\n",
       "      <th>3</th>\n",
       "      <td>-1</td>\n",
       "      <td>The bigest sideffect of vaccines is fewer dea...</td>\n",
       "    </tr>\n",
       "    <tr>\n",
       "      <th>4</th>\n",
       "      <td>-1</td>\n",
       "      <td>Unvaccinated people are more likely to become...</td>\n",
       "    </tr>\n",
       "    <tr>\n",
       "      <th>...</th>\n",
       "      <td>...</td>\n",
       "      <td>...</td>\n",
       "    </tr>\n",
       "    <tr>\n",
       "      <th>26192</th>\n",
       "      <td>0</td>\n",
       "      <td>🙏no vaccine</td>\n",
       "    </tr>\n",
       "    <tr>\n",
       "      <th>26193</th>\n",
       "      <td>-1</td>\n",
       "      <td>🚩🚩🚩🚩🚩</td>\n",
       "    </tr>\n",
       "    <tr>\n",
       "      <th>26194</th>\n",
       "      <td>0</td>\n",
       "      <td>🤣 keep your 💩 I already know 3 people who have...</td>\n",
       "    </tr>\n",
       "    <tr>\n",
       "      <th>26195</th>\n",
       "      <td>0</td>\n",
       "      <td>🤣🤣🤣 \"JUST BECAUSE IT'S SAFE, DOESN'T MEAN IT D...</td>\n",
       "    </tr>\n",
       "    <tr>\n",
       "      <th>26196</th>\n",
       "      <td>0</td>\n",
       "      <td>🤨there's people already having severe side eff...</td>\n",
       "    </tr>\n",
       "  </tbody>\n",
       "</table>\n",
       "<p>26197 rows × 2 columns</p>\n",
       "</div>"
      ],
      "text/plain": [
       "       Y                                            Comment\n",
       "0     -1   It is easier to fool a million people than it...\n",
       "1      0   NATURAL IMMUNITY  protected us since evolutio...\n",
       "2     -1   NATURAL IMMUNITY  protected us since evolutio...\n",
       "3     -1   The bigest sideffect of vaccines is fewer dea...\n",
       "4     -1   Unvaccinated people are more likely to become...\n",
       "...   ..                                                ...\n",
       "26192  0                                        🙏no vaccine\n",
       "26193 -1                                              🚩🚩🚩🚩🚩\n",
       "26194  0  🤣 keep your 💩 I already know 3 people who have...\n",
       "26195  0  🤣🤣🤣 \"JUST BECAUSE IT'S SAFE, DOESN'T MEAN IT D...\n",
       "26196  0  🤨there's people already having severe side eff...\n",
       "\n",
       "[26197 rows x 2 columns]"
      ]
     },
     "execution_count": 105,
     "metadata": {},
     "output_type": "execute_result"
    }
   ],
   "source": [
    "#Import train data\n",
    "df = pd.read_csv('a3_train_final.tsv', sep='\\t', names=['Y','Comment'])\n",
    "\n",
    "#Review documentation of anotations\n",
    "#Counter(df['Y'])\n",
    "\n",
    "## Assign the notations to either pro = '1' or anti = '0'\n",
    "## If there is not 2 anotations we will exclude these beacuse these has not been going thrpugh the same control as the rest\n",
    "## Additioanlly we will only mark in each ot the classes 1 or 0 if there are only anotations in one direction due to inconsistency of the reporting of anotations\n",
    "## If a comment has been anotated e.g ('0/1/0') that was the case 21 times we will label this as -1 \n",
    "proList = ['1/1','1/1/1/1','1/1/1','1/1/1/1/1','1/1/1/1/1/1','1/1/1/1/1/1/1/1/1']\n",
    "antiList = ['0/0','0/0/0','0/0/0/0','0/0/0/0/0','0/0/0/0/0/0/0/0/0','0/0/0/0/0/0','0/0/0/0/0/0/0','0/0/0/0/0/0/0/0','0/0/0/0/0/0/0/0/0/0/0/0/0/0/0/0','0/0/0/0/0/0/0/0/0/0/0/0/0', '0/0/0/0/0/0/0/0/0/0/0/0/0/0','0/0/0/0/0/0/0/0/0/0/0/0','0/0/0/0/0/0/0/0/0/0/0/0/0/0/0/0/0/0/0/0/0/0/0','0/0/0/0/0/0/0/0/0/0','0/0/0/0/0/0/0/0/0/0/0','0/0/0/0/0/0/0/0/0/0/0/0/0/0/0/0/0','0/0/0/0/0/0/0/0/0/0/0/0/0/0/0']\n",
    "\n",
    "df['Y'] = np.where((df.Y.isin(proList)), 1,\n",
    "          np.where((df.Y.isin(antiList)),0 , -1))\n",
    "\n",
    "\n",
    "print(Counter(df['Y']))\n",
    "\n",
    "train = df[df['Y'] != '-1']\n",
    "train\n",
    "\n"
   ]
  },
  {
   "cell_type": "code",
   "execution_count": null,
   "metadata": {
    "cell_id": "00008-387b6060-6811-496e-a911-bd04f8cce3b5",
    "deepnote_cell_height": 255.578125,
    "deepnote_cell_type": "code",
    "deepnote_output_heights": [
     21
    ],
    "deepnote_to_be_reexecuted": true,
    "execution_millis": 5114,
    "execution_start": 1645125414858,
    "source_hash": "e4dd5e21",
    "tags": []
   },
   "outputs": [
    {
     "name": "stdout",
     "output_type": "stream",
     "text": [
      "Collecting krippendorff\n",
      "  Downloading krippendorff-0.5.1-py3-none-any.whl (17 kB)\n",
      "Requirement already satisfied: numpy in /shared-libs/python3.7/py/lib/python3.7/site-packages (from krippendorff) (1.19.5)\n",
      "Installing collected packages: krippendorff\n",
      "Successfully installed krippendorff-0.5.1\n",
      "\u001b[33mWARNING: You are using pip version 20.1.1; however, version 22.0.3 is available.\n",
      "You should consider upgrading via the '/usr/local/bin/python -m pip install --upgrade pip' command.\u001b[0m\n",
      "Note: you may need to restart the kernel to use updated packages.\n"
     ]
    }
   ],
   "source": []
  },
  {
   "cell_type": "code",
   "execution_count": null,
   "metadata": {
    "cell_id": "49025f3a-9c61-47db-bb2c-958ea6bbb7e9",
    "deepnote_cell_height": 66,
    "deepnote_cell_type": "code",
    "tags": []
   },
   "outputs": [],
   "source": []
  },
  {
   "cell_type": "code",
   "execution_count": null,
   "metadata": {
    "cell_id": "00009-276be4ef-289c-4cf1-a1b0-2541d150bfd4",
    "deepnote_cell_height": 189,
    "deepnote_cell_type": "code",
    "deepnote_output_heights": [
     192
    ],
    "deepnote_to_be_reexecuted": false,
    "execution_millis": 0,
    "execution_start": 1645125866952,
    "source_hash": "e75c8d28",
    "tags": []
   },
   "outputs": [],
   "source": [
    "import krippendorff\n",
    "\n",
    "arr = [[1, 1, 1, 1, 3, 0, 0, 1],\n",
    "       [1, 1, 1, 1, 3, 0, 0, 1],\n",
    "       [1, 1, 1, 1, 2, 0, 0, 1],\n",
    "       [1, 1, 0, 2, 3, 1, 0, 1]]    \n",
    "res = krippendorff.alpha(arr)"
   ]
  },
  {
   "cell_type": "code",
   "execution_count": null,
   "metadata": {
    "cell_id": "00010-69352242-0f48-4eef-bd3e-104451c7fdae",
    "deepnote_cell_height": 118.1875,
    "deepnote_cell_type": "code",
    "deepnote_output_heights": [
     21.1875
    ],
    "deepnote_to_be_reexecuted": false,
    "execution_millis": 13,
    "execution_start": 1645125867345,
    "source_hash": "e2ce9a6d",
    "tags": []
   },
   "outputs": [
    {
     "data": {
      "text/plain": [
       "0.7467320261437909"
      ]
     },
     "execution_count": 21,
     "metadata": {},
     "output_type": "execute_result"
    }
   ],
   "source": [
    "res"
   ]
  },
  {
   "cell_type": "markdown",
   "metadata": {
    "cell_id": "00011-1b4b549f-bbdb-4289-9b8c-e8144387f6f6",
    "deepnote_cell_height": 91.78125,
    "deepnote_cell_type": "markdown",
    "tags": []
   },
   "source": [
    "- How much consensus is there between annotators of the dataset? Do you think the data is reliable?\n",
    "\n"
   ]
  },
  {
   "cell_type": "code",
   "execution_count": null,
   "metadata": {
    "cell_id": "00013-a10179f2-6125-4c10-8eb8-d160c9e14329",
    "deepnote_cell_height": 388.1875,
    "deepnote_cell_type": "code",
    "deepnote_output_heights": [
     21.1875
    ],
    "deepnote_to_be_reexecuted": false,
    "execution_millis": 0,
    "execution_start": 1645125914588,
    "source_hash": "b5a6b627",
    "tags": []
   },
   "outputs": [
    {
     "data": {
      "text/plain": [
       "1.0"
      ]
     },
     "execution_count": 22,
     "metadata": {},
     "output_type": "execute_result"
    }
   ],
   "source": [
    "import krippendorff\n",
    "\n",
    "arr = [[1, 0],\n",
    "       [1, 0],\n",
    "       [1, 0],\n",
    "       [1, 0],\n",
    "       [1, 0],\n",
    "       [1, 0],\n",
    "       [1, 0],\n",
    "       [1, 0],\n",
    "       [1, 0],\n",
    "       [1, 0],\n",
    "       [1, 0],\n",
    "       [1, 0]]    \n",
    "res = krippendorff.alpha(arr)\n",
    "res"
   ]
  },
  {
   "cell_type": "code",
   "execution_count": null,
   "metadata": {
    "cell_id": "d2ef6421-b562-4540-b8cd-38778ce8985c",
    "deepnote_cell_height": 388.1875,
    "deepnote_cell_type": "code",
    "deepnote_output_heights": [
     21.1875
    ],
    "deepnote_to_be_reexecuted": false,
    "execution_millis": 2,
    "execution_start": 1645125990796,
    "source_hash": "46dac2ed",
    "tags": []
   },
   "outputs": [
    {
     "data": {
      "text/plain": [
       "0.6805555555555556"
      ]
     },
     "execution_count": 23,
     "metadata": {},
     "output_type": "execute_result"
    }
   ],
   "source": [
    "import krippendorff\n",
    "\n",
    "arr = [[1, 0],\n",
    "       [1, 0],\n",
    "       [1, 0],\n",
    "       [1, 0],\n",
    "       [1, 0],\n",
    "       [1, 0],\n",
    "       [1, 0],\n",
    "       [1, 0],\n",
    "       [1, 0],\n",
    "       [1, 0],\n",
    "       [1, 0],\n",
    "       [0, 1]]    \n",
    "res = krippendorff.alpha(arr)\n",
    "res"
   ]
  },
  {
   "cell_type": "markdown",
   "metadata": {
    "cell_id": "a7f01c81-300e-4e61-ba1f-9f1ceec2090c",
    "deepnote_cell_height": 440,
    "deepnote_cell_type": "markdown",
    "tags": []
   },
   "source": [
    "Krippendorff\n",
    "\n",
    "Krippendorff's alpha is a method to measure the agreement among a group of participants. In out case there was the annontation for each comment. The result is representet between 0 and 1, where 0 is compleatly disagreement and 1 is perfect agreement. \n",
    "\n",
    "From out data, we got approximatelt 70% agreement (0.6805 = 68%). \n",
    "\n",
    "We made this test to check if the observers that had commented on the comments really had read them and answerd accordingly.  "
   ]
  },
  {
   "cell_type": "code",
   "execution_count": null,
   "metadata": {
    "cell_id": "5e917b53-423e-4d04-85d6-1a7e9333f81f",
    "deepnote_cell_height": 388.1875,
    "deepnote_cell_type": "code",
    "deepnote_output_heights": [
     21.1875
    ],
    "deepnote_to_be_reexecuted": false,
    "execution_millis": 2,
    "execution_start": 1645126044148,
    "source_hash": "a3f43788",
    "tags": []
   },
   "outputs": [
    {
     "data": {
      "text/plain": [
       "0.6805555555555556"
      ]
     },
     "execution_count": 24,
     "metadata": {},
     "output_type": "execute_result"
    }
   ],
   "source": [
    "import krippendorff\n",
    "\n",
    "arr = [[1, 0],\n",
    "       [1, 0],\n",
    "       [1, 0],\n",
    "       [1, 0],\n",
    "       [1, 0],\n",
    "       [1, 0],\n",
    "       [1, 0],\n",
    "       [1, 0],\n",
    "       [1, 0],\n",
    "       [1, 0],\n",
    "       [0, 1],\n",
    "       [1, 0]]    \n",
    "res = krippendorff.alpha(arr)\n",
    "res"
   ]
  },
  {
   "cell_type": "code",
   "execution_count": null,
   "metadata": {
    "cell_id": "6a0bd637-c15e-4adf-bac5-0132acd5583a",
    "deepnote_cell_height": 595,
    "deepnote_cell_type": "code",
    "deepnote_to_be_reexecuted": false,
    "execution_millis": 103,
    "execution_start": 1645126158267,
    "source_hash": "f804c160",
    "tags": []
   },
   "outputs": [
    {
     "data": {
      "application/vnd.deepnote.dataframe.v3+json": {
       "column_count": 2,
       "columns": [
        {
         "dtype": "object",
         "name": "Y",
         "stats": {
          "categories": [
           {
            "count": 10791,
            "name": "1"
           },
           {
            "count": 10491,
            "name": "0"
           },
           {
            "count": 4915,
            "name": "-1"
           }
          ],
          "nan_count": 0,
          "unique_count": 3
         }
        },
        {
         "dtype": "object",
         "name": "Comment",
         "stats": {
          "categories": [
           {
            "count": 2,
            "name": "For the first time in history the ineffectiveness of a medicine is being blamed on those who refuse to take it."
           },
           {
            "count": 2,
            "name": "It's perfectly safe!..........Famous last words of EVERYONE on the Titanic also!"
           },
           {
            "count": 26193,
            "name": "26191 others"
           }
          ],
          "nan_count": 0,
          "unique_count": 26193
         }
        },
        {
         "dtype": "int64",
         "name": "_deepnote_index_column"
        }
       ],
       "row_count": 26197,
       "rows": [
        {
         "Comment": " It is easier to fool a million people than it is to convince a million people that they have been …",
         "Y": "-1",
         "_deepnote_index_column": 0
        },
        {
         "Comment": " NATURAL IMMUNITY  protected us since evolution. Do not exist anymore?",
         "Y": "0",
         "_deepnote_index_column": 1
        },
        {
         "Comment": " NATURAL IMMUNITY  protected us since evolution. Do not exist anymore? ? ? No one talks about it, W…",
         "Y": "-1",
         "_deepnote_index_column": 2
        },
        {
         "Comment": " The bigest sideffect of vaccines is fewer dead children  That is savage",
         "Y": "-1",
         "_deepnote_index_column": 3
        },
        {
         "Comment": " Unvaccinated people are more likely to become infected, develop severe COVID-19, and die. In fact,…",
         "Y": "-1",
         "_deepnote_index_column": 4
        },
        {
         "Comment": " Vaccine takes more than a year to develop.  This is the mistake people are making. Its not 1976 an…",
         "Y": "1",
         "_deepnote_index_column": 5
        },
        {
         "Comment": " YES IM A TRUCKER FROM USA AND I WONT GET VACCINATED Can I get retweets and follows from patriots? …",
         "Y": "0",
         "_deepnote_index_column": 6
        },
        {
         "Comment": " just because I don't have dr in front of my name doesn't mean that my opinion is less valid yes, i…",
         "Y": "-1",
         "_deepnote_index_column": 7
        },
        {
         "Comment": " out of anger People say stupid things man is spot on. I got vaccine, im a 41 year olds old, had mi…",
         "Y": "1",
         "_deepnote_index_column": 8
        },
        {
         "Comment": "... sole assessment of prior infections & #CovidVaccine responses based on antibody detection is no…",
         "Y": "-1",
         "_deepnote_index_column": 9
        }
       ]
      },
      "text/html": [
       "<div>\n",
       "<style scoped>\n",
       "    .dataframe tbody tr th:only-of-type {\n",
       "        vertical-align: middle;\n",
       "    }\n",
       "\n",
       "    .dataframe tbody tr th {\n",
       "        vertical-align: top;\n",
       "    }\n",
       "\n",
       "    .dataframe thead th {\n",
       "        text-align: right;\n",
       "    }\n",
       "</style>\n",
       "<table border=\"1\" class=\"dataframe\">\n",
       "  <thead>\n",
       "    <tr style=\"text-align: right;\">\n",
       "      <th></th>\n",
       "      <th>Y</th>\n",
       "      <th>Comment</th>\n",
       "    </tr>\n",
       "  </thead>\n",
       "  <tbody>\n",
       "    <tr>\n",
       "      <th>0</th>\n",
       "      <td>-1</td>\n",
       "      <td>It is easier to fool a million people than it...</td>\n",
       "    </tr>\n",
       "    <tr>\n",
       "      <th>1</th>\n",
       "      <td>0</td>\n",
       "      <td>NATURAL IMMUNITY  protected us since evolutio...</td>\n",
       "    </tr>\n",
       "    <tr>\n",
       "      <th>2</th>\n",
       "      <td>-1</td>\n",
       "      <td>NATURAL IMMUNITY  protected us since evolutio...</td>\n",
       "    </tr>\n",
       "    <tr>\n",
       "      <th>3</th>\n",
       "      <td>-1</td>\n",
       "      <td>The bigest sideffect of vaccines is fewer dea...</td>\n",
       "    </tr>\n",
       "    <tr>\n",
       "      <th>4</th>\n",
       "      <td>-1</td>\n",
       "      <td>Unvaccinated people are more likely to become...</td>\n",
       "    </tr>\n",
       "    <tr>\n",
       "      <th>...</th>\n",
       "      <td>...</td>\n",
       "      <td>...</td>\n",
       "    </tr>\n",
       "    <tr>\n",
       "      <th>26192</th>\n",
       "      <td>0</td>\n",
       "      <td>🙏no vaccine</td>\n",
       "    </tr>\n",
       "    <tr>\n",
       "      <th>26193</th>\n",
       "      <td>-1</td>\n",
       "      <td>🚩🚩🚩🚩🚩</td>\n",
       "    </tr>\n",
       "    <tr>\n",
       "      <th>26194</th>\n",
       "      <td>0</td>\n",
       "      <td>🤣 keep your 💩 I already know 3 people who have...</td>\n",
       "    </tr>\n",
       "    <tr>\n",
       "      <th>26195</th>\n",
       "      <td>0</td>\n",
       "      <td>🤣🤣🤣 \"JUST BECAUSE IT'S SAFE, DOESN'T MEAN IT D...</td>\n",
       "    </tr>\n",
       "    <tr>\n",
       "      <th>26196</th>\n",
       "      <td>0</td>\n",
       "      <td>🤨there's people already having severe side eff...</td>\n",
       "    </tr>\n",
       "  </tbody>\n",
       "</table>\n",
       "<p>26197 rows × 2 columns</p>\n",
       "</div>"
      ],
      "text/plain": [
       "        Y                                            Comment\n",
       "0      -1   It is easier to fool a million people than it...\n",
       "1       0   NATURAL IMMUNITY  protected us since evolutio...\n",
       "2      -1   NATURAL IMMUNITY  protected us since evolutio...\n",
       "3      -1   The bigest sideffect of vaccines is fewer dea...\n",
       "4      -1   Unvaccinated people are more likely to become...\n",
       "...    ..                                                ...\n",
       "26192   0                                        🙏no vaccine\n",
       "26193  -1                                              🚩🚩🚩🚩🚩\n",
       "26194   0  🤣 keep your 💩 I already know 3 people who have...\n",
       "26195   0  🤣🤣🤣 \"JUST BECAUSE IT'S SAFE, DOESN'T MEAN IT D...\n",
       "26196   0  🤨there's people already having severe side eff...\n",
       "\n",
       "[26197 rows x 2 columns]"
      ]
     },
     "execution_count": 26,
     "metadata": {},
     "output_type": "execute_result"
    }
   ],
   "source": [
    "df"
   ]
  },
  {
   "cell_type": "code",
   "execution_count": null,
   "metadata": {
    "cell_id": "6dac8838-19ad-4668-80a0-2851dd1dfc55",
    "deepnote_cell_height": 154.1875,
    "deepnote_cell_type": "code",
    "deepnote_output_heights": [
     21.1875
    ],
    "deepnote_to_be_reexecuted": false,
    "execution_millis": 276,
    "execution_start": 1645126292915,
    "source_hash": "bcf64bc",
    "tags": []
   },
   "outputs": [
    {
     "data": {
      "text/plain": [
       "0.0"
      ]
     },
     "execution_count": 30,
     "metadata": {},
     "output_type": "execute_result"
    }
   ],
   "source": [
    "for i in df.Y:\n",
    "\n",
    "    if "
   ]
  },
  {
   "cell_type": "code",
   "execution_count": null,
   "metadata": {
    "cell_id": "205e8b68-b069-4ecc-b368-59b0045b3ed6",
    "deepnote_cell_height": 118.1875,
    "deepnote_cell_type": "code",
    "deepnote_output_heights": [
     21.1875
    ],
    "deepnote_to_be_reexecuted": false,
    "execution_millis": 9,
    "execution_start": 1645126807075,
    "source_hash": "e0bc14bc",
    "tags": []
   },
   "outputs": [
    {
     "data": {
      "text/plain": [
       "[[1, 1], [1, 1]]"
      ]
     },
     "execution_count": 36,
     "metadata": {},
     "output_type": "execute_result"
    }
   ],
   "source": [
    "bigL"
   ]
  },
  {
   "cell_type": "code",
   "execution_count": null,
   "metadata": {
    "cell_id": "77102870-8412-4ee8-a561-9e970dd4ee51",
    "deepnote_cell_height": 324.1875,
    "deepnote_cell_type": "code",
    "deepnote_output_heights": [
     78
    ],
    "deepnote_to_be_reexecuted": false,
    "execution_millis": 29,
    "execution_start": 1645127179116,
    "source_hash": "37f5d90f",
    "tags": []
   },
   "outputs": [
    {
     "ename": "SyntaxError",
     "evalue": "invalid syntax (<ipython-input-52-ad6a4cbe4178>, line 8)",
     "output_type": "error",
     "traceback": [
      "\u001b[0;36m  File \u001b[0;32m\"<ipython-input-52-ad6a4cbe4178>\"\u001b[0;36m, line \u001b[0;32m8\u001b[0m\n\u001b[0;31m    elif i == 0:\u001b[0m\n\u001b[0m       ^\u001b[0m\n\u001b[0;31mSyntaxError\u001b[0m\u001b[0;31m:\u001b[0m invalid syntax\n"
     ]
    }
   ],
   "source": [
    "testList = [1,1,0,0,-1,-1]\n",
    "\n",
    "bigL =[]\n",
    "\n",
    "for i in testList:\n",
    "    if i == 1:\n",
    "        bigL.append(list([1,1])\n",
    "    elif i == 0:\n",
    "        bigL.append(list([0,0])\n",
    "    else i == -1:\n",
    "            bigL.append(list([1,0]))"
   ]
  },
  {
   "cell_type": "code",
   "execution_count": null,
   "metadata": {
    "cell_id": "b2d4ab07-b76a-4542-bb85-d22b5c5ac8cf",
    "deepnote_cell_height": 329.375,
    "deepnote_cell_type": "code",
    "deepnote_output_heights": [
     232.375
    ],
    "deepnote_to_be_reexecuted": false,
    "execution_millis": 6,
    "execution_start": 1645126650519,
    "source_hash": "d5f16675",
    "tags": []
   },
   "outputs": [
    {
     "data": {
      "text/plain": [
       "0        -1\n",
       "1         0\n",
       "2        -1\n",
       "3        -1\n",
       "4        -1\n",
       "         ..\n",
       "26192     0\n",
       "26193    -1\n",
       "26194     0\n",
       "26195     0\n",
       "26196     0\n",
       "Name: Y, Length: 26197, dtype: object"
      ]
     },
     "execution_count": 32,
     "metadata": {},
     "output_type": "execute_result"
    }
   ],
   "source": [
    "df.Y"
   ]
  },
  {
   "cell_type": "code",
   "execution_count": null,
   "metadata": {
    "cell_id": "e8c40da8-c825-46d0-90ee-c0a77d7823a3",
    "deepnote_cell_height": 237.859375,
    "deepnote_cell_type": "code",
    "deepnote_to_be_reexecuted": false,
    "execution_millis": 4,
    "execution_start": 1645127161741,
    "source_hash": "aa1cbdb1",
    "tags": []
   },
   "outputs": [
    {
     "name": "stdout",
     "output_type": "stream",
     "text": [
      "a and b are equal\n"
     ]
    }
   ],
   "source": [
    "a = 33\n",
    "b = 33\n",
    "\n",
    "\n",
    "if b > a:\n",
    "  print(\"b is greater than a\")\n",
    "elif a == b:\n",
    "  print(\"a and b are equal\")"
   ]
  },
  {
   "cell_type": "code",
   "execution_count": null,
   "metadata": {
    "cell_id": "05cba5a8-e229-4c8b-8ced-5d479fa72c47",
    "deepnote_cell_height": 391.1875,
    "deepnote_cell_type": "code",
    "deepnote_to_be_reexecuted": false,
    "execution_millis": 12,
    "execution_start": 1645127369844,
    "source_hash": "e47b00be",
    "tags": []
   },
   "outputs": [
    {
     "name": "stdout",
     "output_type": "stream",
     "text": [
      "b is greater than a\n",
      "b is greater than a\n",
      "a and b are equal\n",
      "a and b are equal\n",
      "a and b are equal\n",
      "a and b are equal\n"
     ]
    }
   ],
   "source": [
    "testList = [1,1,0,0,-1,-1]\n",
    "\n",
    "bigL =[]\n",
    "\n",
    "for i in testList:\n",
    "    if i == 1:\n",
    "        print(\"b is greater than a\")\n",
    "    elif i == 0:\n",
    "        print(\"a and b are equal\")\n",
    "    elif i == -1:\n",
    "        print(\"a and b are equal\")"
   ]
  },
  {
   "cell_type": "code",
   "execution_count": null,
   "metadata": {
    "cell_id": "8fdf691a-73b0-4024-82d5-a3299b9165cd",
    "deepnote_cell_height": 81,
    "deepnote_cell_type": "code",
    "deepnote_output_heights": [
     611
    ],
    "deepnote_to_be_reexecuted": false,
    "execution_millis": 2,
    "execution_start": 1645128059850,
    "source_hash": "f4b70c3e",
    "tags": []
   },
   "outputs": [],
   "source": []
  },
  {
   "cell_type": "code",
   "execution_count": null,
   "metadata": {
    "cell_id": "e41b0d2f-3e8f-4764-8abe-5e019851a31c",
    "deepnote_cell_height": 81,
    "deepnote_cell_type": "code",
    "deepnote_output_heights": [
     611
    ],
    "deepnote_to_be_reexecuted": false,
    "execution_millis": 47,
    "execution_start": 1645129009784,
    "source_hash": "1dd30515",
    "tags": []
   },
   "outputs": [],
   "source": []
  },
  {
   "cell_type": "code",
   "execution_count": null,
   "metadata": {
    "cell_id": "4accc4ab-0f36-45ac-8f3d-cd5828637d31",
    "deepnote_cell_height": 118.1875,
    "deepnote_cell_type": "code",
    "deepnote_output_heights": [
     21.1875
    ],
    "deepnote_to_be_reexecuted": false,
    "execution_millis": 22,
    "execution_start": 1645129011879,
    "source_hash": "f27bd10",
    "tags": []
   },
   "outputs": [
    {
     "data": {
      "text/plain": [
       "0.6840387109776054"
      ]
     },
     "execution_count": 146,
     "metadata": {},
     "output_type": "execute_result"
    }
   ],
   "source": []
  },
  {
   "cell_type": "code",
   "execution_count": null,
   "metadata": {
    "cell_id": "5800edfa-ea69-4e80-8ce3-b2840c58e368",
    "deepnote_cell_height": 144.1875,
    "deepnote_cell_type": "code",
    "deepnote_output_heights": [
     611
    ],
    "deepnote_to_be_reexecuted": false,
    "execution_millis": 2,
    "execution_start": 1645128694008,
    "source_hash": "c865967c",
    "tags": []
   },
   "outputs": [
    {
     "ename": "TypeError",
     "evalue": "list expected at most 1 arguments, got 2",
     "output_type": "error",
     "traceback": [
      "\u001b[0;31m---------------------------------------------------------------------------\u001b[0m",
      "\u001b[0;31mTypeError\u001b[0m                                 Traceback (most recent call last)",
      "\u001b[0;32m/shared-libs/code/visualization_utils.py\u001b[0m in \u001b[0;36m<module>\u001b[0;34m\u001b[0m\n\u001b[0;32m----> 1\u001b[0;31m \u001b[0mbigL\u001b[0m\u001b[0;34m.\u001b[0m\u001b[0mappend\u001b[0m\u001b[0;34m(\u001b[0m\u001b[0mlist\u001b[0m\u001b[0;34m(\u001b[0m\u001b[0;36m0\u001b[0m\u001b[0;34m,\u001b[0m\u001b[0;36m1\u001b[0m\u001b[0;34m)\u001b[0m\u001b[0;34m)\u001b[0m\u001b[0;34m\u001b[0m\u001b[0;34m\u001b[0m\u001b[0m\n\u001b[0m",
      "\u001b[0;31mTypeError\u001b[0m: list expected at most 1 arguments, got 2"
     ]
    }
   ],
   "source": [
    "bigL.append(list(0,1))"
   ]
  },
  {
   "cell_type": "code",
   "execution_count": null,
   "metadata": {
    "cell_id": "80d0e24b-de77-45c6-bf2a-d8a8260040b4",
    "deepnote_cell_height": 135,
    "deepnote_cell_type": "code",
    "deepnote_output_heights": [
     611
    ],
    "deepnote_to_be_reexecuted": false,
    "execution_millis": 2,
    "execution_start": 1645128798820,
    "source_hash": "9253a0ce",
    "tags": []
   },
   "outputs": [],
   "source": [
    "len(bigL)\n",
    "ny = [1,1]\n",
    "\n",
    "bigL.append(ny)"
   ]
  },
  {
   "cell_type": "code",
   "execution_count": null,
   "metadata": {
    "cell_id": "00b48131-e8eb-4871-a9b5-dcec2e9aad0e",
    "deepnote_cell_height": 708,
    "deepnote_cell_type": "code",
    "deepnote_output_heights": [
     611
    ],
    "deepnote_to_be_reexecuted": false,
    "execution_millis": 83,
    "execution_start": 1645128757933,
    "source_hash": "e0bc14bc",
    "tags": []
   },
   "outputs": [
    {
     "data": {
      "text/plain": [
       "[[1, 1],\n",
       " [1, 1],\n",
       " [1, 1],\n",
       " [1, 1],\n",
       " [1, 1],\n",
       " [1, 1],\n",
       " [1, 1],\n",
       " [1, 1],\n",
       " [1, 1],\n",
       " [1, 1],\n",
       " [1, 1],\n",
       " [1, 1],\n",
       " [1, 1],\n",
       " [1, 1],\n",
       " [1, 1],\n",
       " [1, 1],\n",
       " [1, 1],\n",
       " [1, 1],\n",
       " [1, 1],\n",
       " [1, 1],\n",
       " [1, 1],\n",
       " [1, 1],\n",
       " [1, 1],\n",
       " [1, 1],\n",
       " [1, 1],\n",
       " [1, 1],\n",
       " [1, 1],\n",
       " [1, 1],\n",
       " [1, 1],\n",
       " [1, 1],\n",
       " [1, 1],\n",
       " [1, 1],\n",
       " [1, 1],\n",
       " [1, 1],\n",
       " [1, 1],\n",
       " [1, 1],\n",
       " [1, 1],\n",
       " [1, 1],\n",
       " [1, 1],\n",
       " [1, 1],\n",
       " [1, 1],\n",
       " [1, 1],\n",
       " [1, 1],\n",
       " [1, 1],\n",
       " [1, 1],\n",
       " [1, 1],\n",
       " [1, 1],\n",
       " [1, 1],\n",
       " [1, 1],\n",
       " [1, 1],\n",
       " [1, 1],\n",
       " [1, 1],\n",
       " [1, 1],\n",
       " [1, 1],\n",
       " [1, 1],\n",
       " [1, 1],\n",
       " [1, 1],\n",
       " [1, 1],\n",
       " [1, 1],\n",
       " [1, 1],\n",
       " [1, 1],\n",
       " [1, 1],\n",
       " [1, 1],\n",
       " [1, 1],\n",
       " [1, 1],\n",
       " [1, 1],\n",
       " [1, 1],\n",
       " [1, 1],\n",
       " [1, 1],\n",
       " [1, 1],\n",
       " [1, 1],\n",
       " [1, 1],\n",
       " [1, 1],\n",
       " [1, 1],\n",
       " [1, 1],\n",
       " [1, 1],\n",
       " [1, 1],\n",
       " [1, 1],\n",
       " [1, 1],\n",
       " [1, 1],\n",
       " [1, 1],\n",
       " [1, 1],\n",
       " [1, 1],\n",
       " [1, 1],\n",
       " [1, 1],\n",
       " [1, 1],\n",
       " [1, 1],\n",
       " [1, 1],\n",
       " [1, 1],\n",
       " [1, 1],\n",
       " [1, 1],\n",
       " [1, 1],\n",
       " [1, 1],\n",
       " [1, 1],\n",
       " [1, 1],\n",
       " [1, 1],\n",
       " [1, 1],\n",
       " [1, 1],\n",
       " [1, 1],\n",
       " [1, 1],\n",
       " [1, 1],\n",
       " [1, 1],\n",
       " [1, 1],\n",
       " [1, 1],\n",
       " [1, 1],\n",
       " [1, 1],\n",
       " [1, 1],\n",
       " [1, 1],\n",
       " [1, 1],\n",
       " [1, 1],\n",
       " [1, 1],\n",
       " [1, 1],\n",
       " [1, 1],\n",
       " [1, 1],\n",
       " [1, 1],\n",
       " [1, 1],\n",
       " [1, 1],\n",
       " [1, 1],\n",
       " [1, 1],\n",
       " [1, 1],\n",
       " [1, 1],\n",
       " [1, 1],\n",
       " [1, 1],\n",
       " [1, 1],\n",
       " [1, 1],\n",
       " [1, 1],\n",
       " [1, 1],\n",
       " [1, 1],\n",
       " [1, 1],\n",
       " [1, 1],\n",
       " [1, 1],\n",
       " [1, 1],\n",
       " [1, 1],\n",
       " [1, 1],\n",
       " [1, 1],\n",
       " [1, 1],\n",
       " [1, 1],\n",
       " [1, 1],\n",
       " [1, 1],\n",
       " [1, 1],\n",
       " [1, 1],\n",
       " [1, 1],\n",
       " [1, 1],\n",
       " [1, 1],\n",
       " [1, 1],\n",
       " [1, 1],\n",
       " [1, 1],\n",
       " [1, 1],\n",
       " [1, 1],\n",
       " [1, 1],\n",
       " [1, 1],\n",
       " [1, 1],\n",
       " [1, 1],\n",
       " [1, 1],\n",
       " [1, 1],\n",
       " [1, 1],\n",
       " [1, 1],\n",
       " [1, 1],\n",
       " [1, 1],\n",
       " [1, 1],\n",
       " [1, 1],\n",
       " [1, 1],\n",
       " [1, 1],\n",
       " [1, 1],\n",
       " [1, 1],\n",
       " [1, 1],\n",
       " [1, 1],\n",
       " [1, 1],\n",
       " [1, 1],\n",
       " [1, 1],\n",
       " [1, 1],\n",
       " [1, 1],\n",
       " [1, 1],\n",
       " [1, 1],\n",
       " [1, 1],\n",
       " [1, 1],\n",
       " [1, 1],\n",
       " [1, 1],\n",
       " [1, 1],\n",
       " [1, 1],\n",
       " [1, 1],\n",
       " [1, 1],\n",
       " [1, 1],\n",
       " [1, 1],\n",
       " [1, 1],\n",
       " [1, 1],\n",
       " [1, 1],\n",
       " [1, 1],\n",
       " [1, 1],\n",
       " [1, 1],\n",
       " [1, 1],\n",
       " [1, 1],\n",
       " [1, 1],\n",
       " [1, 1],\n",
       " [1, 1],\n",
       " [1, 1],\n",
       " [1, 1],\n",
       " [1, 1],\n",
       " [1, 1],\n",
       " [1, 1],\n",
       " [1, 1],\n",
       " [1, 1],\n",
       " [1, 1],\n",
       " [1, 1],\n",
       " [1, 1],\n",
       " [1, 1],\n",
       " [1, 1],\n",
       " [1, 1],\n",
       " [1, 1],\n",
       " [1, 1],\n",
       " [1, 1],\n",
       " [1, 1],\n",
       " [1, 1],\n",
       " [1, 1],\n",
       " [1, 1],\n",
       " [1, 1],\n",
       " [1, 1],\n",
       " [1, 1],\n",
       " [1, 1],\n",
       " [1, 1],\n",
       " [1, 1],\n",
       " [1, 1],\n",
       " [1, 1],\n",
       " [1, 1],\n",
       " [1, 1],\n",
       " [1, 1],\n",
       " [1, 1],\n",
       " [1, 1],\n",
       " [1, 1],\n",
       " [1, 1],\n",
       " [1, 1],\n",
       " [1, 1],\n",
       " [1, 1],\n",
       " [1, 1],\n",
       " [1, 1],\n",
       " [1, 1],\n",
       " [1, 1],\n",
       " [1, 1],\n",
       " [1, 1],\n",
       " [1, 1],\n",
       " [1, 1],\n",
       " [1, 1],\n",
       " [1, 1],\n",
       " [1, 1],\n",
       " [1, 1],\n",
       " [1, 1],\n",
       " [1, 1],\n",
       " [1, 1],\n",
       " [1, 1],\n",
       " [1, 1],\n",
       " [1, 1],\n",
       " [1, 1],\n",
       " [1, 1],\n",
       " [1, 1],\n",
       " [1, 1],\n",
       " [1, 1],\n",
       " [1, 1],\n",
       " [1, 1],\n",
       " [1, 1],\n",
       " [1, 1],\n",
       " [1, 1],\n",
       " [1, 1],\n",
       " [1, 1],\n",
       " [1, 1],\n",
       " [1, 1],\n",
       " [1, 1],\n",
       " [1, 1],\n",
       " [1, 1],\n",
       " [1, 1],\n",
       " [1, 1],\n",
       " [1, 1],\n",
       " [1, 1],\n",
       " [1, 1],\n",
       " [1, 1],\n",
       " [1, 1],\n",
       " [1, 1],\n",
       " [1, 1],\n",
       " [1, 1],\n",
       " [1, 1],\n",
       " [1, 1],\n",
       " [1, 1],\n",
       " [1, 1],\n",
       " [1, 1],\n",
       " [1, 1],\n",
       " [1, 1],\n",
       " [1, 1],\n",
       " [1, 1],\n",
       " [1, 1],\n",
       " [1, 1],\n",
       " [1, 1],\n",
       " [1, 1],\n",
       " [1, 1],\n",
       " [1, 1],\n",
       " [1, 1],\n",
       " [1, 1],\n",
       " [1, 1],\n",
       " [1, 1],\n",
       " [1, 1],\n",
       " [1, 1],\n",
       " [1, 1],\n",
       " [1, 1],\n",
       " [1, 1],\n",
       " [1, 1],\n",
       " [1, 1],\n",
       " [1, 1],\n",
       " [1, 1],\n",
       " [1, 1],\n",
       " [1, 1],\n",
       " [1, 1],\n",
       " [1, 1],\n",
       " [1, 1],\n",
       " [1, 1],\n",
       " [1, 1],\n",
       " [1, 1],\n",
       " [1, 1],\n",
       " [1, 1],\n",
       " [1, 1],\n",
       " [1, 1],\n",
       " [1, 1],\n",
       " [1, 1],\n",
       " [1, 1],\n",
       " [1, 1],\n",
       " [1, 1],\n",
       " [1, 1],\n",
       " [1, 1],\n",
       " [1, 1],\n",
       " [1, 1],\n",
       " [1, 1],\n",
       " [1, 1],\n",
       " [1, 1],\n",
       " [1, 1],\n",
       " [1, 1],\n",
       " [1, 1],\n",
       " [1, 1],\n",
       " [1, 1],\n",
       " [1, 1],\n",
       " [1, 1],\n",
       " [1, 1],\n",
       " [1, 1],\n",
       " [1, 1],\n",
       " [1, 1],\n",
       " [1, 1],\n",
       " [1, 1],\n",
       " [1, 1],\n",
       " [1, 1],\n",
       " [1, 1],\n",
       " [1, 1],\n",
       " [1, 1],\n",
       " [1, 1],\n",
       " [1, 1],\n",
       " [1, 1],\n",
       " [1, 1],\n",
       " [1, 1],\n",
       " [1, 1],\n",
       " [1, 1],\n",
       " [1, 1],\n",
       " [1, 1],\n",
       " [1, 1],\n",
       " [1, 1],\n",
       " [1, 1],\n",
       " [1, 1],\n",
       " [1, 1],\n",
       " [1, 1],\n",
       " [1, 1],\n",
       " [1, 1],\n",
       " [1, 1],\n",
       " [1, 1],\n",
       " [1, 1],\n",
       " [1, 1],\n",
       " [1, 1],\n",
       " [1, 1],\n",
       " [1, 1],\n",
       " [1, 1],\n",
       " [1, 1],\n",
       " [1, 1],\n",
       " [1, 1],\n",
       " [1, 1],\n",
       " [1, 1],\n",
       " [1, 1],\n",
       " [1, 1],\n",
       " [1, 1],\n",
       " [1, 1],\n",
       " [1, 1],\n",
       " [1, 1],\n",
       " [1, 1],\n",
       " [1, 1],\n",
       " [1, 1],\n",
       " [1, 1],\n",
       " [1, 1],\n",
       " [1, 1],\n",
       " [1, 1],\n",
       " [1, 1],\n",
       " [1, 1],\n",
       " [1, 1],\n",
       " [1, 1],\n",
       " [1, 1],\n",
       " [1, 1],\n",
       " [1, 1],\n",
       " [1, 1],\n",
       " [1, 1],\n",
       " [1, 1],\n",
       " [1, 1],\n",
       " [1, 1],\n",
       " [1, 1],\n",
       " [1, 1],\n",
       " [1, 1],\n",
       " [1, 1],\n",
       " [1, 1],\n",
       " [1, 1],\n",
       " [1, 1],\n",
       " [1, 1],\n",
       " [1, 1],\n",
       " [1, 1],\n",
       " [1, 1],\n",
       " [1, 1],\n",
       " [1, 1],\n",
       " [1, 1],\n",
       " [1, 1],\n",
       " [1, 1],\n",
       " [1, 1],\n",
       " [1, 1],\n",
       " [1, 1],\n",
       " [1, 1],\n",
       " [1, 1],\n",
       " [1, 1],\n",
       " [1, 1],\n",
       " [1, 1],\n",
       " [1, 1],\n",
       " [1, 1],\n",
       " [1, 1],\n",
       " [1, 1],\n",
       " [1, 1],\n",
       " [1, 1],\n",
       " [1, 1],\n",
       " [1, 1],\n",
       " [1, 1],\n",
       " [1, 1],\n",
       " [1, 1],\n",
       " [1, 1],\n",
       " [1, 1],\n",
       " [1, 1],\n",
       " [1, 1],\n",
       " [1, 1],\n",
       " [1, 1],\n",
       " [1, 1],\n",
       " [1, 1],\n",
       " [1, 1],\n",
       " [1, 1],\n",
       " [1, 1],\n",
       " [1, 1],\n",
       " [1, 1],\n",
       " [1, 1],\n",
       " [1, 1],\n",
       " [1, 1],\n",
       " [1, 1],\n",
       " [1, 1],\n",
       " [1, 1],\n",
       " [1, 1],\n",
       " [1, 1],\n",
       " [1, 1],\n",
       " [1, 1],\n",
       " [1, 1],\n",
       " [1, 1],\n",
       " [1, 1],\n",
       " [1, 1],\n",
       " [1, 1],\n",
       " [1, 1],\n",
       " [1, 1],\n",
       " [1, 1],\n",
       " [1, 1],\n",
       " [1, 1],\n",
       " [1, 1],\n",
       " [1, 1],\n",
       " [1, 1],\n",
       " [1, 1],\n",
       " [1, 1],\n",
       " [1, 1],\n",
       " [1, 1],\n",
       " [1, 1],\n",
       " [1, 1],\n",
       " [1, 1],\n",
       " [1, 1],\n",
       " [1, 1],\n",
       " [1, 1],\n",
       " [1, 1],\n",
       " [1, 1],\n",
       " [1, 1],\n",
       " [1, 1],\n",
       " [1, 1],\n",
       " [1, 1],\n",
       " [1, 1],\n",
       " [1, 1],\n",
       " [1, 1],\n",
       " [1, 1],\n",
       " [1, 1],\n",
       " [1, 1],\n",
       " [1, 1],\n",
       " [1, 1],\n",
       " [1, 1],\n",
       " [1, 1],\n",
       " [1, 1],\n",
       " [1, 1],\n",
       " [1, 1],\n",
       " [1, 1],\n",
       " [1, 1],\n",
       " [1, 1],\n",
       " [1, 1],\n",
       " [1, 1],\n",
       " [1, 1],\n",
       " [1, 1],\n",
       " [1, 1],\n",
       " [1, 1],\n",
       " [1, 1],\n",
       " [1, 1],\n",
       " [1, 1],\n",
       " [1, 1],\n",
       " [1, 1],\n",
       " [1, 1],\n",
       " [1, 1],\n",
       " [1, 1],\n",
       " [1, 1],\n",
       " [1, 1],\n",
       " [1, 1],\n",
       " [1, 1],\n",
       " [1, 1],\n",
       " [1, 1],\n",
       " [1, 1],\n",
       " [1, 1],\n",
       " [1, 1],\n",
       " [1, 1],\n",
       " [1, 1],\n",
       " [1, 1],\n",
       " [1, 1],\n",
       " [1, 1],\n",
       " [1, 1],\n",
       " [1, 1],\n",
       " [1, 1],\n",
       " [1, 1],\n",
       " [1, 1],\n",
       " [1, 1],\n",
       " [1, 1],\n",
       " [1, 1],\n",
       " [1, 1],\n",
       " [1, 1],\n",
       " [1, 1],\n",
       " [1, 1],\n",
       " [1, 1],\n",
       " [1, 1],\n",
       " [1, 1],\n",
       " [1, 1],\n",
       " [1, 1],\n",
       " [1, 1],\n",
       " [1, 1],\n",
       " [1, 1],\n",
       " [1, 1],\n",
       " [1, 1],\n",
       " [1, 1],\n",
       " [1, 1],\n",
       " [1, 1],\n",
       " [1, 1],\n",
       " [1, 1],\n",
       " [1, 1],\n",
       " [1, 1],\n",
       " [1, 1],\n",
       " [1, 1],\n",
       " [1, 1],\n",
       " [1, 1],\n",
       " [1, 1],\n",
       " [1, 1],\n",
       " [1, 1],\n",
       " [1, 1],\n",
       " [1, 1],\n",
       " [1, 1],\n",
       " [1, 1],\n",
       " [1, 1],\n",
       " [1, 1],\n",
       " [1, 1],\n",
       " [1, 1],\n",
       " [1, 1],\n",
       " [1, 1],\n",
       " [1, 1],\n",
       " [1, 1],\n",
       " [1, 1],\n",
       " [1, 1],\n",
       " [1, 1],\n",
       " [1, 1],\n",
       " [1, 1],\n",
       " [1, 1],\n",
       " [1, 1],\n",
       " [1, 1],\n",
       " [1, 1],\n",
       " [1, 1],\n",
       " [1, 1],\n",
       " [1, 1],\n",
       " [1, 1],\n",
       " [1, 1],\n",
       " [1, 1],\n",
       " [1, 1],\n",
       " [1, 1],\n",
       " [1, 1],\n",
       " [1, 1],\n",
       " [1, 1],\n",
       " [1, 1],\n",
       " [1, 1],\n",
       " [1, 1],\n",
       " [1, 1],\n",
       " [1, 1],\n",
       " [1, 1],\n",
       " [1, 1],\n",
       " [1, 1],\n",
       " [1, 1],\n",
       " [1, 1],\n",
       " [1, 1],\n",
       " [1, 1],\n",
       " [1, 1],\n",
       " [1, 1],\n",
       " [1, 1],\n",
       " [1, 1],\n",
       " [1, 1],\n",
       " [1, 1],\n",
       " [1, 1],\n",
       " [1, 1],\n",
       " [1, 1],\n",
       " [1, 1],\n",
       " [1, 1],\n",
       " [1, 1],\n",
       " [1, 1],\n",
       " [1, 1],\n",
       " [1, 1],\n",
       " [1, 1],\n",
       " [1, 1],\n",
       " [1, 1],\n",
       " [1, 1],\n",
       " [1, 1],\n",
       " [1, 1],\n",
       " [1, 1],\n",
       " [1, 1],\n",
       " [1, 1],\n",
       " [1, 1],\n",
       " [1, 1],\n",
       " [1, 1],\n",
       " [1, 1],\n",
       " [1, 1],\n",
       " [1, 1],\n",
       " [1, 1],\n",
       " [1, 1],\n",
       " [1, 1],\n",
       " [1, 1],\n",
       " [1, 1],\n",
       " [1, 1],\n",
       " [1, 1],\n",
       " [1, 1],\n",
       " [1, 1],\n",
       " [1, 1],\n",
       " [1, 1],\n",
       " [1, 1],\n",
       " [1, 1],\n",
       " [1, 1],\n",
       " [1, 1],\n",
       " [1, 1],\n",
       " [1, 1],\n",
       " [1, 1],\n",
       " [1, 1],\n",
       " [1, 1],\n",
       " [1, 1],\n",
       " [1, 1],\n",
       " [1, 1],\n",
       " [1, 1],\n",
       " [1, 1],\n",
       " [1, 1],\n",
       " [1, 1],\n",
       " [1, 1],\n",
       " [1, 1],\n",
       " [1, 1],\n",
       " [1, 1],\n",
       " [1, 1],\n",
       " [1, 1],\n",
       " [1, 1],\n",
       " [1, 1],\n",
       " [1, 1],\n",
       " [1, 1],\n",
       " [1, 1],\n",
       " [1, 1],\n",
       " [1, 1],\n",
       " [1, 1],\n",
       " [1, 1],\n",
       " [1, 1],\n",
       " [1, 1],\n",
       " [1, 1],\n",
       " [1, 1],\n",
       " [1, 1],\n",
       " [1, 1],\n",
       " [1, 1],\n",
       " [1, 1],\n",
       " [1, 1],\n",
       " [1, 1],\n",
       " [1, 1],\n",
       " [1, 1],\n",
       " [1, 1],\n",
       " [1, 1],\n",
       " [1, 1],\n",
       " [1, 1],\n",
       " [1, 1],\n",
       " [1, 1],\n",
       " [1, 1],\n",
       " [1, 1],\n",
       " [1, 1],\n",
       " [1, 1],\n",
       " [1, 1],\n",
       " [1, 1],\n",
       " [1, 1],\n",
       " [1, 1],\n",
       " [1, 1],\n",
       " [1, 1],\n",
       " [1, 1],\n",
       " [1, 1],\n",
       " [1, 1],\n",
       " [1, 1],\n",
       " [1, 1],\n",
       " [1, 1],\n",
       " [1, 1],\n",
       " [1, 1],\n",
       " [1, 1],\n",
       " [1, 1],\n",
       " [1, 1],\n",
       " [1, 1],\n",
       " [1, 1],\n",
       " [1, 1],\n",
       " [1, 1],\n",
       " [1, 1],\n",
       " [1, 1],\n",
       " [1, 1],\n",
       " [1, 1],\n",
       " [1, 1],\n",
       " [1, 1],\n",
       " [1, 1],\n",
       " [1, 1],\n",
       " [1, 1],\n",
       " [1, 1],\n",
       " [1, 1],\n",
       " [1, 1],\n",
       " [1, 1],\n",
       " [1, 1],\n",
       " [1, 1],\n",
       " [1, 1],\n",
       " [1, 1],\n",
       " [1, 1],\n",
       " [1, 1],\n",
       " [1, 1],\n",
       " [1, 1],\n",
       " [1, 1],\n",
       " [1, 1],\n",
       " [1, 1],\n",
       " [1, 1],\n",
       " [1, 1],\n",
       " [1, 1],\n",
       " [1, 1],\n",
       " [1, 1],\n",
       " [1, 1],\n",
       " [1, 1],\n",
       " [1, 1],\n",
       " [1, 1],\n",
       " [1, 1],\n",
       " [1, 1],\n",
       " [1, 1],\n",
       " [1, 1],\n",
       " [1, 1],\n",
       " [1, 1],\n",
       " [1, 1],\n",
       " [1, 1],\n",
       " [1, 1],\n",
       " [1, 1],\n",
       " [1, 1],\n",
       " [1, 1],\n",
       " [1, 1],\n",
       " [1, 1],\n",
       " [1, 1],\n",
       " [1, 1],\n",
       " [1, 1],\n",
       " [1, 1],\n",
       " [1, 1],\n",
       " [1, 1],\n",
       " [1, 1],\n",
       " [1, 1],\n",
       " [1, 1],\n",
       " [1, 1],\n",
       " [1, 1],\n",
       " [1, 1],\n",
       " [1, 1],\n",
       " [1, 1],\n",
       " [1, 1],\n",
       " [1, 1],\n",
       " [1, 1],\n",
       " [1, 1],\n",
       " [1, 1],\n",
       " [1, 1],\n",
       " [1, 1],\n",
       " [1, 1],\n",
       " [1, 1],\n",
       " [1, 1],\n",
       " [1, 1],\n",
       " [1, 1],\n",
       " [1, 1],\n",
       " [1, 1],\n",
       " [1, 1],\n",
       " [1, 1],\n",
       " [1, 1],\n",
       " [1, 1],\n",
       " [1, 1],\n",
       " [1, 1],\n",
       " [1, 1],\n",
       " [1, 1],\n",
       " [1, 1],\n",
       " [1, 1],\n",
       " [1, 1],\n",
       " [1, 1],\n",
       " [1, 1],\n",
       " [1, 1],\n",
       " [1, 1],\n",
       " [1, 1],\n",
       " [1, 1],\n",
       " [1, 1],\n",
       " [1, 1],\n",
       " [1, 1],\n",
       " [1, 1],\n",
       " [1, 1],\n",
       " [1, 1],\n",
       " [1, 1],\n",
       " [1, 1],\n",
       " [1, 1],\n",
       " [1, 1],\n",
       " [1, 1],\n",
       " [1, 1],\n",
       " [1, 1],\n",
       " [1, 1],\n",
       " [1, 1],\n",
       " [1, 1],\n",
       " [1, 1],\n",
       " [1, 1],\n",
       " [1, 1],\n",
       " [1, 1],\n",
       " [1, 1],\n",
       " [1, 1],\n",
       " [1, 1],\n",
       " [1, 1],\n",
       " [1, 1],\n",
       " [1, 1],\n",
       " [1, 1],\n",
       " [1, 1],\n",
       " [1, 1],\n",
       " [1, 1],\n",
       " [1, 1],\n",
       " [1, 1],\n",
       " [1, 1],\n",
       " [1, 1],\n",
       " [1, 1],\n",
       " [1, 1],\n",
       " [1, 1],\n",
       " [1, 1],\n",
       " [1, 1],\n",
       " [1, 1],\n",
       " [1, 1],\n",
       " [1, 1],\n",
       " [1, 1],\n",
       " [1, 1],\n",
       " [1, 1],\n",
       " [1, 1],\n",
       " [1, 1],\n",
       " [1, 1],\n",
       " [1, 1],\n",
       " [1, 1],\n",
       " [1, 1],\n",
       " [1, 1],\n",
       " [1, 1],\n",
       " [1, 1],\n",
       " [1, 1],\n",
       " [1, 1],\n",
       " [1, 1],\n",
       " [1, 1],\n",
       " [1, 1],\n",
       " [1, 1],\n",
       " [1, 1],\n",
       " [1, 1],\n",
       " [1, 1],\n",
       " [1, 1],\n",
       " [1, 1],\n",
       " [1, 1],\n",
       " [1, 1],\n",
       " [1, 1],\n",
       " [1, 1],\n",
       " [1, 1],\n",
       " [1, 1],\n",
       " [1, 1],\n",
       " [1, 1],\n",
       " [1, 1],\n",
       " [1, 1],\n",
       " [1, 1],\n",
       " [1, 1],\n",
       " [1, 1],\n",
       " [1, 1],\n",
       " [1, 1],\n",
       " [1, 1],\n",
       " [1, 1],\n",
       " [1, 1],\n",
       " [1, 1],\n",
       " [1, 1],\n",
       " [1, 1],\n",
       " [1, 1],\n",
       " [1, 1],\n",
       " [1, 1],\n",
       " [1, 1],\n",
       " [1, 1],\n",
       " [1, 1],\n",
       " [1, 1],\n",
       " [1, 1],\n",
       " [1, 1],\n",
       " [1, 1],\n",
       " [1, 1],\n",
       " [1, 1],\n",
       " [1, 1],\n",
       " [1, 1],\n",
       " [1, 1],\n",
       " [1, 1],\n",
       " [1, 1],\n",
       " [1, 1],\n",
       " [1, 1],\n",
       " [1, 1],\n",
       " [1, 1],\n",
       " [1, 1],\n",
       " [1, 1],\n",
       " [1, 1],\n",
       " [1, 1],\n",
       " [1, 1],\n",
       " [1, 1],\n",
       " [1, 1],\n",
       " [1, 1],\n",
       " [1, 1],\n",
       " [1, 1],\n",
       " [1, 1],\n",
       " [1, 1],\n",
       " [1, 1],\n",
       " [1, 1],\n",
       " [1, 1],\n",
       " [1, 1],\n",
       " [1, 1],\n",
       " [1, 1],\n",
       " [1, 1],\n",
       " [1, 1],\n",
       " [1, 1],\n",
       " [1, 1],\n",
       " [1, 1],\n",
       " [1, 1],\n",
       " [1, 1],\n",
       " [1, 1],\n",
       " [1, 1],\n",
       " [1, 1],\n",
       " [1, 1],\n",
       " [1, 1],\n",
       " [1, 1],\n",
       " [1, 1],\n",
       " [1, 1],\n",
       " [1, 1],\n",
       " [1, 1],\n",
       " [1, 1],\n",
       " [1, 1],\n",
       " [1, 1],\n",
       " [1, 1],\n",
       " [1, 1],\n",
       " [1, 1],\n",
       " [1, 1],\n",
       " [1, 1],\n",
       " [1, 1],\n",
       " [1, 1],\n",
       " [1, 1],\n",
       " [1, 1],\n",
       " [1, 1],\n",
       " [1, 1],\n",
       " [1, 1],\n",
       " [1, 1],\n",
       " [1, 1],\n",
       " [1, 1],\n",
       " [1, 1],\n",
       " [1, 1],\n",
       " [1, 1],\n",
       " [1, 1],\n",
       " [1, 1],\n",
       " [1, 1],\n",
       " [1, 1],\n",
       " [1, 1],\n",
       " [1, 1],\n",
       " [1, 1],\n",
       " [1, 1],\n",
       " [1, 1],\n",
       " [1, 1],\n",
       " [1, 1],\n",
       " [1, 1],\n",
       " [1, 1],\n",
       " [1, 1],\n",
       " [1, 1],\n",
       " [1, 1],\n",
       " ...]"
      ]
     },
     "execution_count": 137,
     "metadata": {},
     "output_type": "execute_result"
    }
   ],
   "source": [
    "bigL"
   ]
  },
  {
   "cell_type": "code",
   "execution_count": null,
   "metadata": {
    "cell_id": "b52960fb-10f7-408b-a587-0f6c783c18be",
    "deepnote_cell_height": 434.046875,
    "deepnote_cell_type": "code",
    "deepnote_output_heights": [
     null,
     21.1875
    ],
    "deepnote_to_be_reexecuted": false,
    "execution_millis": 10,
    "execution_start": 1645127766126,
    "source_hash": "64b76c46",
    "tags": []
   },
   "outputs": [
    {
     "name": "stdout",
     "output_type": "stream",
     "text": [
      "[]\n"
     ]
    },
    {
     "data": {
      "text/plain": [
       "[]"
      ]
     },
     "execution_count": 83,
     "metadata": {},
     "output_type": "execute_result"
    }
   ],
   "source": [
    "testList = [1,1,0,0,-1,-1]\n",
    "\n",
    "bigLL =[]\n",
    "\n",
    "for i in testList:\n",
    "    if i == 1:\n",
    "        bigL.append(list([1,1]))\n",
    "    elif i == 0:\n",
    "        bigL.append(list([0,0]))\n",
    "    elif i == -1:\n",
    "        bigL.append(list([1,0]))\n",
    "        \n",
    "print(bigLL)\n",
    "\n",
    "sl = sorted(bigLL, reverse=True)\n",
    "sl"
   ]
  },
  {
   "cell_type": "code",
   "execution_count": null,
   "metadata": {
    "cell_id": "fe35653d-a14b-48bc-86d6-ed348bb7188d",
    "deepnote_cell_height": 118.1875,
    "deepnote_cell_type": "code",
    "deepnote_output_heights": [
     21.1875
    ],
    "deepnote_to_be_reexecuted": false,
    "execution_millis": 10,
    "execution_start": 1645128090842,
    "source_hash": "3aa0a85c",
    "tags": []
   },
   "outputs": [
    {
     "data": {
      "text/plain": [
       "0.03518630403475931"
      ]
     },
     "execution_count": 110,
     "metadata": {},
     "output_type": "execute_result"
    }
   ],
   "source": []
  },
  {
   "cell_type": "code",
   "execution_count": null,
   "metadata": {
    "cell_id": "e7ddfc69-3cd2-4a29-a334-8a0e684daa0d",
    "deepnote_cell_height": 66,
    "deepnote_cell_type": "code",
    "tags": []
   },
   "outputs": [],
   "source": []
  }
 ],
 "metadata": {
  "deepnote": {
   "is_reactive": false
  },
  "deepnote_execution_queue": [],
  "deepnote_notebook_id": "4ecb5139-afa2-4b2a-9cde-e83fdc2c19a3",
  "kernelspec": {
   "display_name": "Python 3",
   "language": "python",
   "name": "python3"
  },
  "language_info": {
   "codemirror_mode": {
    "name": "ipython",
    "version": 3
   },
   "file_extension": ".py",
   "mimetype": "text/x-python",
   "name": "python",
   "nbconvert_exporter": "python",
   "pygments_lexer": "ipython3",
   "version": "3.9.2"
  }
 },
 "nbformat": 4,
 "nbformat_minor": 2
}
