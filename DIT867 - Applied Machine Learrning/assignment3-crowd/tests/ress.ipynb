{
 "cells": [
  {
   "cell_type": "markdown",
   "metadata": {},
   "source": [
    "- https://repository.upenn.edu/cgi/viewcontent.cgi?article=1043&context=asc_papers\n",
    "- https://github.com/pln-fing-udelar/fast-krippendorff/blob/main/krippendorff/__init__.py\n",
    "- https://www.statsmodels.org/dev/stats.html#module-statsmodels.stats.inter_rater"
   ]
  },
  {
   "cell_type": "code",
   "execution_count": 1,
   "metadata": {},
   "outputs": [],
   "source": [
    "from statsmodels.stats import inter_rater as irr\n",
    "import pandas as pd\n",
    "import numpy as np\n",
    "\n",
    "from sklearn.svm import LinearSVC\n",
    "from sklearn.feature_extraction.text import TfidfVectorizer\n",
    "from sklearn.pipeline import make_pipeline\n",
    "from sklearn.model_selection import train_test_split\n",
    "from sklearn.metrics import accuracy_score"
   ]
  },
  {
   "cell_type": "code",
   "execution_count": 2,
   "metadata": {},
   "outputs": [],
   "source": [
    "test_data = pd.read_csv('a3_train_final.tsv', sep='\\t',  names=['Y', 'comment'])\n",
    "train_data = pd.read_csv('a3_test_final.tsv', sep='\\t',  names=['Y', 'comment'])"
   ]
  },
  {
   "cell_type": "code",
   "execution_count": 3,
   "metadata": {},
   "outputs": [],
   "source": [
    "# remove all emojis\n",
    "import re\n",
    "test_data['comment'] = test_data['comment'].str.replace('[^\\w\\s#@/:%.,_-]', '', flags=re.UNICODE)\n",
    "train_data['comment'] = train_data['comment'].str.replace('[^\\w\\s#@/:%.,_-]', '', flags=re.UNICODE)"
   ]
  },
  {
   "cell_type": "code",
   "execution_count": 4,
   "metadata": {},
   "outputs": [],
   "source": [
    "def spit_col(df):\n",
    "    split_df = df['Y'].str.split('/', n=30, expand=True)\n",
    "    cc = split_df.mode(axis=1).iloc[:,0]\n",
    "    return cc"
   ]
  },
  {
   "cell_type": "code",
   "execution_count": 5,
   "metadata": {},
   "outputs": [],
   "source": [
    "cc = spit_col(test_data)"
   ]
  },
  {
   "cell_type": "code",
   "execution_count": 6,
   "metadata": {},
   "outputs": [
    {
     "data": {
      "text/html": [
       "<div>\n",
       "<style scoped>\n",
       "    .dataframe tbody tr th:only-of-type {\n",
       "        vertical-align: middle;\n",
       "    }\n",
       "\n",
       "    .dataframe tbody tr th {\n",
       "        vertical-align: top;\n",
       "    }\n",
       "\n",
       "    .dataframe thead th {\n",
       "        text-align: right;\n",
       "    }\n",
       "</style>\n",
       "<table border=\"1\" class=\"dataframe\">\n",
       "  <thead>\n",
       "    <tr style=\"text-align: right;\">\n",
       "      <th></th>\n",
       "      <th>Y</th>\n",
       "      <th>comment</th>\n",
       "    </tr>\n",
       "  </thead>\n",
       "  <tbody>\n",
       "    <tr>\n",
       "      <th>0</th>\n",
       "      <td>-1</td>\n",
       "      <td>It is easier to fool a million people than it...</td>\n",
       "    </tr>\n",
       "    <tr>\n",
       "      <th>1</th>\n",
       "      <td>0</td>\n",
       "      <td>NATURAL IMMUNITY  protected us since evolutio...</td>\n",
       "    </tr>\n",
       "    <tr>\n",
       "      <th>2</th>\n",
       "      <td>-1</td>\n",
       "      <td>NATURAL IMMUNITY  protected us since evolutio...</td>\n",
       "    </tr>\n",
       "    <tr>\n",
       "      <th>3</th>\n",
       "      <td>1</td>\n",
       "      <td>The bigest sideffect of vaccines is fewer dea...</td>\n",
       "    </tr>\n",
       "    <tr>\n",
       "      <th>4</th>\n",
       "      <td>-1</td>\n",
       "      <td>Unvaccinated people are more likely to become...</td>\n",
       "    </tr>\n",
       "    <tr>\n",
       "      <th>...</th>\n",
       "      <td>...</td>\n",
       "      <td>...</td>\n",
       "    </tr>\n",
       "    <tr>\n",
       "      <th>26192</th>\n",
       "      <td>0</td>\n",
       "      <td>no vaccine</td>\n",
       "    </tr>\n",
       "    <tr>\n",
       "      <th>26193</th>\n",
       "      <td>-1</td>\n",
       "      <td></td>\n",
       "    </tr>\n",
       "    <tr>\n",
       "      <th>26194</th>\n",
       "      <td>0</td>\n",
       "      <td>keep your  I already know 3 people who have b...</td>\n",
       "    </tr>\n",
       "    <tr>\n",
       "      <th>26195</th>\n",
       "      <td>0</td>\n",
       "      <td>JUST BECAUSE ITS SAFE, DOESNT MEAN IT DOESNT ...</td>\n",
       "    </tr>\n",
       "    <tr>\n",
       "      <th>26196</th>\n",
       "      <td>0</td>\n",
       "      <td>theres people already having severe side effec...</td>\n",
       "    </tr>\n",
       "  </tbody>\n",
       "</table>\n",
       "<p>26197 rows × 2 columns</p>\n",
       "</div>"
      ],
      "text/plain": [
       "        Y                                            comment\n",
       "0      -1   It is easier to fool a million people than it...\n",
       "1       0   NATURAL IMMUNITY  protected us since evolutio...\n",
       "2      -1   NATURAL IMMUNITY  protected us since evolutio...\n",
       "3       1   The bigest sideffect of vaccines is fewer dea...\n",
       "4      -1   Unvaccinated people are more likely to become...\n",
       "...    ..                                                ...\n",
       "26192   0                                         no vaccine\n",
       "26193  -1                                                   \n",
       "26194   0   keep your  I already know 3 people who have b...\n",
       "26195   0   JUST BECAUSE ITS SAFE, DOESNT MEAN IT DOESNT ...\n",
       "26196   0  theres people already having severe side effec...\n",
       "\n",
       "[26197 rows x 2 columns]"
      ]
     },
     "execution_count": 6,
     "metadata": {},
     "output_type": "execute_result"
    }
   ],
   "source": [
    "new_df = pd.DataFrame(cc)\n",
    "df_temp = pd.DataFrame(test_data['comment'])\n",
    "df2 = new_df.join(df_temp)\n",
    "df = df2.rename(columns={0: 'Y'})\n",
    "df"
   ]
  },
  {
   "cell_type": "code",
   "execution_count": 11,
   "metadata": {},
   "outputs": [
    {
     "data": {
      "text/plain": [
       "0       -1\n",
       "1        0\n",
       "2       -1\n",
       "3        1\n",
       "4       -1\n",
       "        ..\n",
       "26192    0\n",
       "26193   -1\n",
       "26194    0\n",
       "26195    0\n",
       "26196    0\n",
       "Name: Y, Length: 26197, dtype: int32"
      ]
     },
     "execution_count": 11,
     "metadata": {},
     "output_type": "execute_result"
    }
   ],
   "source": [
    "df_y = df['Y']\n",
    "df_y.astype('int')"
   ]
  },
  {
   "cell_type": "code",
   "execution_count": 36,
   "metadata": {},
   "outputs": [],
   "source": [
    "def run_sequence(lst) -> list():\n",
    "    l = []\n",
    "    for i in lst:\n",
    "        if i == '1':\n",
    "            l.append(list([1,1]))\n",
    "        elif i == '0':\n",
    "            l.append(list([0,0]))\n",
    "        elif i == '-1':\n",
    "            l.append(list([1,0]))\n",
    "    return l  \n",
    "\n",
    "def sort_list(lst) -> list():\n",
    "    yy = run_sequence(list(lst))\n",
    "    from operator import itemgetter\n",
    "    bb = sorted(yy, key=itemgetter(1), reverse=False)\n",
    "    return bb\n",
    "\n",
    "def get_krippendorff(lst) -> float:\n",
    "    import krippendorff\n",
    "    res = krippendorff.alpha(lst)\n",
    "    return res"
   ]
  },
  {
   "cell_type": "code",
   "execution_count": 40,
   "metadata": {},
   "outputs": [
    {
     "name": "stdout",
     "output_type": "stream",
     "text": [
      "0.008413989131108357\n"
     ]
    }
   ],
   "source": [
    "li = sort_list(list(df_y))\n",
    "alpha = get_krippendorff(li)\n",
    "print(alpha)"
   ]
  },
  {
   "cell_type": "code",
   "execution_count": null,
   "metadata": {},
   "outputs": [],
   "source": []
  },
  {
   "cell_type": "code",
   "execution_count": null,
   "metadata": {},
   "outputs": [],
   "source": []
  }
 ],
 "metadata": {
  "kernelspec": {
   "display_name": "Python 3",
   "language": "python",
   "name": "python3"
  },
  "language_info": {
   "codemirror_mode": {
    "name": "ipython",
    "version": 3
   },
   "file_extension": ".py",
   "mimetype": "text/x-python",
   "name": "python",
   "nbconvert_exporter": "python",
   "pygments_lexer": "ipython3",
   "version": "3.9.2"
  }
 },
 "nbformat": 4,
 "nbformat_minor": 4
}
